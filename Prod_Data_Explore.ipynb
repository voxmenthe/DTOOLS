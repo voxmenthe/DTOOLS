{
 "cells": [
  {
   "cell_type": "code",
   "execution_count": 8,
   "metadata": {},
   "outputs": [],
   "source": [
    "%matplotlib inline\n",
    "import gc\n",
    "import sys\n",
    "import csv\n",
    "import numpy as np\n",
    "import pandas as pd\n",
    "from collections import OrderedDict\n",
    "\n",
    "import mml_lib.visualization as viz\n",
    "\n",
    "sys.path.append('/home/jovyan/work/yh09262/cython_home')\n",
    "from get_csv_rows import get_csv_rows\n",
    "#from get_csv_rows_v2 import get_csv_rows_v2"
   ]
  },
  {
   "cell_type": "code",
   "execution_count": 7,
   "metadata": {},
   "outputs": [],
   "source": [
    "#from get_csv_rows_v2 import get_csv_rows_v2"
   ]
  },
  {
   "cell_type": "code",
   "execution_count": 2,
   "metadata": {},
   "outputs": [
    {
     "name": "stdout",
     "output_type": "stream",
     "text": [
      "20190329_60  20190605_60  prod_attribute_July26_2019.csv\r\n"
     ]
    }
   ],
   "source": [
    "!ls /home/jovyan/data/yh09262/prod"
   ]
  },
  {
   "cell_type": "code",
   "execution_count": 3,
   "metadata": {},
   "outputs": [
    {
     "name": "stdout",
     "output_type": "stream",
     "text": [
      "Mar292019_attr_multi.csv\t\tMar292019_develop_purchase.csv\r\n",
      "Mar292019_attrsave_c2c3.csv\t\tMar292019_develop_user_mapping.csv\r\n",
      "Mar292019_develop_atb.csv\t\tMar292019_develop_view.csv\r\n",
      "Mar292019_develop_productattribute.csv\r\n"
     ]
    }
   ],
   "source": [
    "!ls /home/jovyan/data/yh09262/prod/20190329_60"
   ]
  },
  {
   "cell_type": "code",
   "execution_count": 10,
   "metadata": {},
   "outputs": [],
   "source": [
    "#attr_file = '/home/jovyan/data/yh09262/prod/20190329_60/Mar292019_develop_productattribute.csv'\n",
    "attr_file = '/home/jovyan/data/yh09262/prod/prod_attribute_July26_2019.csv'"
   ]
  },
  {
   "cell_type": "code",
   "execution_count": 25,
   "metadata": {},
   "outputs": [],
   "source": [
    "attrrows = get_csv_rows(attr_file,numcols=24) # 24 in production version currently"
   ]
  },
  {
   "cell_type": "code",
   "execution_count": 26,
   "metadata": {},
   "outputs": [
    {
     "name": "stdout",
     "output_type": "stream",
     "text": [
      "(2285468, 24)\n"
     ]
    },
    {
     "data": {
      "text/html": [
       "<div>\n",
       "<style scoped>\n",
       "    .dataframe tbody tr th:only-of-type {\n",
       "        vertical-align: middle;\n",
       "    }\n",
       "\n",
       "    .dataframe tbody tr th {\n",
       "        vertical-align: top;\n",
       "    }\n",
       "\n",
       "    .dataframe thead th {\n",
       "        text-align: right;\n",
       "    }\n",
       "</style>\n",
       "<table border=\"1\" class=\"dataframe\">\n",
       "  <thead>\n",
       "    <tr style=\"text-align: right;\">\n",
       "      <th></th>\n",
       "      <th>product_id</th>\n",
       "      <th>prod_name</th>\n",
       "      <th>today_original_price</th>\n",
       "      <th>today_retail_price</th>\n",
       "      <th>availability_flag</th>\n",
       "      <th>home_category_id</th>\n",
       "      <th>gmm_id</th>\n",
       "      <th>div_id</th>\n",
       "      <th>department_id</th>\n",
       "      <th>prod_age_txt</th>\n",
       "      <th>...</th>\n",
       "      <th>age_category</th>\n",
       "      <th>prodtype</th>\n",
       "      <th>gender</th>\n",
       "      <th>master_product_flag</th>\n",
       "      <th>recommend_pdp</th>\n",
       "      <th>product_long_description</th>\n",
       "      <th>site_product_type</th>\n",
       "      <th>size_attr_name</th>\n",
       "      <th>actv_web_cat_ids</th>\n",
       "      <th>pwp_ind</th>\n",
       "    </tr>\n",
       "  </thead>\n",
       "  <tbody>\n",
       "    <tr>\n",
       "      <th>0</th>\n",
       "      <td>75389</td>\n",
       "      <td>Marquis By Waterford Sheridan Bowls</td>\n",
       "      <td>NULL</td>\n",
       "      <td>NULL</td>\n",
       "      <td>N</td>\n",
       "      <td>56127</td>\n",
       "      <td>47</td>\n",
       "      <td>82</td>\n",
       "      <td>628</td>\n",
       "      <td>&lt;null&gt;</td>\n",
       "      <td>...</td>\n",
       "      <td>Adult</td>\n",
       "      <td>Home</td>\n",
       "      <td>&lt;null&gt;</td>\n",
       "      <td>Y</td>\n",
       "      <td>NULL</td>\n",
       "      <td>A series of vertical wedge cuts around the sid...</td>\n",
       "      <td>GIFTWARE</td>\n",
       "      <td>NULL</td>\n",
       "      <td>NULL</td>\n",
       "      <td>N</td>\n",
       "    </tr>\n",
       "    <tr>\n",
       "      <th>1</th>\n",
       "      <td>6850</td>\n",
       "      <td>Lenox Serveware, 10\" Holiday Oval Vegetable Bowl</td>\n",
       "      <td>360.0</td>\n",
       "      <td>360.0</td>\n",
       "      <td>Y</td>\n",
       "      <td>53630</td>\n",
       "      <td>47</td>\n",
       "      <td>82</td>\n",
       "      <td>783</td>\n",
       "      <td>2918</td>\n",
       "      <td>...</td>\n",
       "      <td>&lt;null&gt;</td>\n",
       "      <td>Home</td>\n",
       "      <td>&lt;null&gt;</td>\n",
       "      <td>N</td>\n",
       "      <td>Y</td>\n",
       "      <td>What finer things can there be than this? Part...</td>\n",
       "      <td>CHINA</td>\n",
       "      <td>NULL</td>\n",
       "      <td>8377,9545,24294,25037,25152,27226,29023,32175,...</td>\n",
       "      <td>N</td>\n",
       "    </tr>\n",
       "  </tbody>\n",
       "</table>\n",
       "<p>2 rows × 24 columns</p>\n",
       "</div>"
      ],
      "text/plain": [
       "  product_id                                         prod_name  \\\n",
       "0      75389               Marquis By Waterford Sheridan Bowls   \n",
       "1       6850  Lenox Serveware, 10\" Holiday Oval Vegetable Bowl   \n",
       "\n",
       "  today_original_price today_retail_price availability_flag home_category_id  \\\n",
       "0                 NULL               NULL                 N            56127   \n",
       "1                360.0              360.0                 Y            53630   \n",
       "\n",
       "  gmm_id div_id department_id prod_age_txt  ... age_category prodtype  gender  \\\n",
       "0     47     82           628       <null>  ...        Adult     Home  <null>   \n",
       "1     47     82           783         2918  ...       <null>     Home  <null>   \n",
       "\n",
       "  master_product_flag recommend_pdp  \\\n",
       "0                   Y          NULL   \n",
       "1                   N             Y   \n",
       "\n",
       "                            product_long_description site_product_type  \\\n",
       "0  A series of vertical wedge cuts around the sid...          GIFTWARE   \n",
       "1  What finer things can there be than this? Part...             CHINA   \n",
       "\n",
       "  size_attr_name                                   actv_web_cat_ids pwp_ind  \n",
       "0           NULL                                               NULL       N  \n",
       "1           NULL  8377,9545,24294,25037,25152,27226,29023,32175,...       N  \n",
       "\n",
       "[2 rows x 24 columns]"
      ]
     },
     "execution_count": 26,
     "metadata": {},
     "output_type": "execute_result"
    }
   ],
   "source": [
    "attr = pd.DataFrame(attrrows[1:],columns=attrrows[0])\n",
    "print(attr.shape)\n",
    "attr.head(2)"
   ]
  },
  {
   "cell_type": "code",
   "execution_count": 27,
   "metadata": {},
   "outputs": [
    {
     "data": {
      "text/plain": [
       "ART                     493440\n",
       "TOP                     223251\n",
       "HAT                     113484\n",
       "DRESS                   107212\n",
       "AREA_RUG                 87585\n",
       "SHOE                     62635\n",
       "T-SHIRT                  58238\n",
       "FURNITURE                54819\n",
       "DECORATIVE_PILLOW        52889\n",
       "PANTS                    45394\n",
       "WATCH                    42764\n",
       "EARRINGS                 41144\n",
       "HANDBAG                  41069\n",
       "SWEATER                  40126\n",
       "NECKLACE                 36416\n",
       "JACKET                   35475\n",
       "OUTFIT                   34787\n",
       "SHIRT                    30391\n",
       "JEANS                    29537\n",
       "ACCESSORIES              27773\n",
       "SHORTS                   23104\n",
       "BRACELET                 21743\n",
       "SWIMSUIT                 21400\n",
       "TOYS_AND_GAMES           19599\n",
       "COAT                     17182\n",
       "RING                     17152\n",
       "LAMP                     14858\n",
       "SHEET                    13472\n",
       "BED_IN_A_BAG             12501\n",
       "SKIRT                    12083\n",
       "                         ...  \n",
       "TIE_CLIPS                   63\n",
       "LIMITED_EDITION_WATC        57\n",
       "PARTY_SUPPLIES              55\n",
       "SLOW_COOKER                 51\n",
       "FOUNTAINS                   45\n",
       "THONG                       38\n",
       "Scarf Set                   36\n",
       "JUMPSUITS_ROMPERS           31\n",
       "BATH                        27\n",
       "ROLEX_WATCH                 24\n",
       "UPRIGHTS                    23\n",
       "DINNERWARE                  13\n",
       "JEWELRY                     13\n",
       "ROLEX_ACCESSORIES           12\n",
       "EYE_CARE                    11\n",
       "BEAUTY_BOX                   9\n",
       "HOME                         7\n",
       "GRILL                        7\n",
       "BIKINIS                      7\n",
       "GARDEN_GNOMES                5\n",
       "APPAREL                      4\n",
       "EYE_SHADOW                   4\n",
       "NAIL_POLISH                  3\n",
       "SUNCARE                      3\n",
       "EYE_LINER                    2\n",
       "LOOSE_DIAMONDS               2\n",
       "LIP_GLOSS                    1\n",
       "CHARITY_DONATION             1\n",
       "SANITYTESTEAPMCY3            1\n",
       "LIPSTICK                     1\n",
       "Name: site_product_type, Length: 215, dtype: int64"
      ]
     },
     "execution_count": 27,
     "metadata": {},
     "output_type": "execute_result"
    }
   ],
   "source": [
    "attr['site_product_type'].value_counts()"
   ]
  },
  {
   "cell_type": "code",
   "execution_count": 28,
   "metadata": {},
   "outputs": [
    {
     "data": {
      "text/plain": [
       "N    2219799\n",
       "Y      65669\n",
       "Name: master_product_flag, dtype: int64"
      ]
     },
     "execution_count": 28,
     "metadata": {},
     "output_type": "execute_result"
    }
   ],
   "source": [
    "attr['master_product_flag'].value_counts()"
   ]
  },
  {
   "cell_type": "code",
   "execution_count": 31,
   "metadata": {},
   "outputs": [
    {
     "data": {
      "text/plain": [
       "DRAFT - DELETE                                       1121\n",
       "DRAFT - Delete                                        718\n",
       "DRAFT - delete                                        646\n",
       "DRAFT - product for sanity DWMSM                      629\n",
       "DRAFT - Lucky Brand Women's Emmie Ballet Flats        428\n",
       "Designart Oversized Modern Round Metal Wall Clock     294\n",
       "DRAFT - Delete/Archive                                286\n",
       "DRAFT - delete me                                     246\n",
       "DRAFT - DELETE / ARCHIVE                              238\n",
       "DRAFT - Lucky Brand Women's Ava Skinny Jean           193\n",
       "Name: prod_name, dtype: int64"
      ]
     },
     "execution_count": 31,
     "metadata": {},
     "output_type": "execute_result"
    }
   ],
   "source": [
    "attr['prod_name'].value_counts()[:10]"
   ]
  },
  {
   "cell_type": "code",
   "execution_count": 37,
   "metadata": {},
   "outputs": [
    {
     "data": {
      "text/plain": [
       "N    2284816\n",
       "Y        652\n",
       "Name: pwp_ind, dtype: int64"
      ]
     },
     "execution_count": 37,
     "metadata": {},
     "output_type": "execute_result"
    }
   ],
   "source": [
    "attr['pwp_ind'].value_counts()"
   ]
  },
  {
   "cell_type": "code",
   "execution_count": 39,
   "metadata": {},
   "outputs": [
    {
     "data": {
      "text/html": [
       "<div>\n",
       "<style scoped>\n",
       "    .dataframe tbody tr th:only-of-type {\n",
       "        vertical-align: middle;\n",
       "    }\n",
       "\n",
       "    .dataframe tbody tr th {\n",
       "        vertical-align: top;\n",
       "    }\n",
       "\n",
       "    .dataframe thead th {\n",
       "        text-align: right;\n",
       "    }\n",
       "</style>\n",
       "<table border=\"1\" class=\"dataframe\">\n",
       "  <thead>\n",
       "    <tr style=\"text-align: right;\">\n",
       "      <th></th>\n",
       "      <th>product_id</th>\n",
       "      <th>prod_name</th>\n",
       "      <th>today_original_price</th>\n",
       "      <th>today_retail_price</th>\n",
       "      <th>availability_flag</th>\n",
       "      <th>home_category_id</th>\n",
       "      <th>gmm_id</th>\n",
       "      <th>div_id</th>\n",
       "      <th>department_id</th>\n",
       "      <th>prod_age_txt</th>\n",
       "      <th>...</th>\n",
       "      <th>age_category</th>\n",
       "      <th>prodtype</th>\n",
       "      <th>gender</th>\n",
       "      <th>master_product_flag</th>\n",
       "      <th>recommend_pdp</th>\n",
       "      <th>product_long_description</th>\n",
       "      <th>site_product_type</th>\n",
       "      <th>size_attr_name</th>\n",
       "      <th>actv_web_cat_ids</th>\n",
       "      <th>pwp_ind</th>\n",
       "    </tr>\n",
       "  </thead>\n",
       "  <tbody>\n",
       "    <tr>\n",
       "      <th>281</th>\n",
       "      <td>83812</td>\n",
       "      <td>Lenox Opal Innocence Dinner Plate</td>\n",
       "      <td>62.0</td>\n",
       "      <td>62.0</td>\n",
       "      <td>Y</td>\n",
       "      <td>53630</td>\n",
       "      <td>47</td>\n",
       "      <td>82</td>\n",
       "      <td>625</td>\n",
       "      <td>2918</td>\n",
       "      <td>...</td>\n",
       "      <td>&lt;null&gt;</td>\n",
       "      <td>Home</td>\n",
       "      <td>&lt;null&gt;</td>\n",
       "      <td>N</td>\n",
       "      <td>Y</td>\n",
       "      <td>Pure opulence. Posh opalescence. This classica...</td>\n",
       "      <td>CHINA</td>\n",
       "      <td>NULL</td>\n",
       "      <td>8377,9545,16090,22878,24294,25037,27226,29023,...</td>\n",
       "      <td>Y</td>\n",
       "    </tr>\n",
       "    <tr>\n",
       "      <th>886</th>\n",
       "      <td>66145</td>\n",
       "      <td>Fiesta 12-oz. Lapis Java Mug</td>\n",
       "      <td>15.0</td>\n",
       "      <td>15.0</td>\n",
       "      <td>N</td>\n",
       "      <td>65938</td>\n",
       "      <td>47</td>\n",
       "      <td>82</td>\n",
       "      <td>688</td>\n",
       "      <td>&lt;null&gt;</td>\n",
       "      <td>...</td>\n",
       "      <td>&lt;null&gt;</td>\n",
       "      <td>&lt;null&gt;</td>\n",
       "      <td>&lt;null&gt;</td>\n",
       "      <td>N</td>\n",
       "      <td>NULL</td>\n",
       "      <td>An American classic with definitive Deco flair...</td>\n",
       "      <td>CASUAL_DINNERWARE</td>\n",
       "      <td>NULL</td>\n",
       "      <td>9545,9741,11014,11792,12713,14089,16514,17924,...</td>\n",
       "      <td>Y</td>\n",
       "    </tr>\n",
       "    <tr>\n",
       "      <th>980</th>\n",
       "      <td>3052</td>\n",
       "      <td>Jockey Elance French Cut 3 Pack Underwear 1485...</td>\n",
       "      <td>22.5</td>\n",
       "      <td>22.5</td>\n",
       "      <td>Y</td>\n",
       "      <td>225</td>\n",
       "      <td>1</td>\n",
       "      <td>22</td>\n",
       "      <td>246</td>\n",
       "      <td>2918</td>\n",
       "      <td>...</td>\n",
       "      <td>Adult</td>\n",
       "      <td>Apparel</td>\n",
       "      <td>Women</td>\n",
       "      <td>N</td>\n",
       "      <td>Y</td>\n",
       "      <td>Comfort starts underneath. Treat yourself to t...</td>\n",
       "      <td>PANTY</td>\n",
       "      <td>WOMEN_PANTIES_SIZE_T</td>\n",
       "      <td>225,3536,5943,15489,15576,17059,19867,20208,20...</td>\n",
       "      <td>Y</td>\n",
       "    </tr>\n",
       "    <tr>\n",
       "      <th>1453</th>\n",
       "      <td>5747</td>\n",
       "      <td>Fiesta Scarlet 4-Piece Place Setting</td>\n",
       "      <td>56.0</td>\n",
       "      <td>56.0</td>\n",
       "      <td>Y</td>\n",
       "      <td>53629</td>\n",
       "      <td>47</td>\n",
       "      <td>82</td>\n",
       "      <td>688</td>\n",
       "      <td>2918</td>\n",
       "      <td>...</td>\n",
       "      <td>&lt;null&gt;</td>\n",
       "      <td>&lt;null&gt;</td>\n",
       "      <td>&lt;null&gt;</td>\n",
       "      <td>N</td>\n",
       "      <td>Y</td>\n",
       "      <td>For outstanding quality at the right price, lo...</td>\n",
       "      <td>CASUAL_DINNERWARE</td>\n",
       "      <td>NULL</td>\n",
       "      <td>8020,9545,9547,9724,9741,11014,11591,11774,117...</td>\n",
       "      <td>Y</td>\n",
       "    </tr>\n",
       "    <tr>\n",
       "      <th>1515</th>\n",
       "      <td>83814</td>\n",
       "      <td>Lenox Opal Innocence Salad Plate</td>\n",
       "      <td>42.0</td>\n",
       "      <td>42.0</td>\n",
       "      <td>Y</td>\n",
       "      <td>53630</td>\n",
       "      <td>47</td>\n",
       "      <td>82</td>\n",
       "      <td>625</td>\n",
       "      <td>2918</td>\n",
       "      <td>...</td>\n",
       "      <td>&lt;null&gt;</td>\n",
       "      <td>Home</td>\n",
       "      <td>&lt;null&gt;</td>\n",
       "      <td>N</td>\n",
       "      <td>Y</td>\n",
       "      <td>Pure opulence. Posh opalescence. This classica...</td>\n",
       "      <td>CHINA</td>\n",
       "      <td>NULL</td>\n",
       "      <td>8377,9545,24294,25037,27226,29023,32175,32738,...</td>\n",
       "      <td>Y</td>\n",
       "    </tr>\n",
       "  </tbody>\n",
       "</table>\n",
       "<p>5 rows × 24 columns</p>\n",
       "</div>"
      ],
      "text/plain": [
       "     product_id                                          prod_name  \\\n",
       "281       83812                  Lenox Opal Innocence Dinner Plate   \n",
       "886       66145                       Fiesta 12-oz. Lapis Java Mug   \n",
       "980        3052  Jockey Elance French Cut 3 Pack Underwear 1485...   \n",
       "1453       5747               Fiesta Scarlet 4-Piece Place Setting   \n",
       "1515      83814                   Lenox Opal Innocence Salad Plate   \n",
       "\n",
       "     today_original_price today_retail_price availability_flag  \\\n",
       "281                  62.0               62.0                 Y   \n",
       "886                  15.0               15.0                 N   \n",
       "980                  22.5               22.5                 Y   \n",
       "1453                 56.0               56.0                 Y   \n",
       "1515                 42.0               42.0                 Y   \n",
       "\n",
       "     home_category_id gmm_id div_id department_id prod_age_txt  ...  \\\n",
       "281             53630     47     82           625         2918  ...   \n",
       "886             65938     47     82           688       <null>  ...   \n",
       "980               225      1     22           246         2918  ...   \n",
       "1453            53629     47     82           688         2918  ...   \n",
       "1515            53630     47     82           625         2918  ...   \n",
       "\n",
       "     age_category prodtype  gender master_product_flag recommend_pdp  \\\n",
       "281        <null>     Home  <null>                   N             Y   \n",
       "886        <null>   <null>  <null>                   N          NULL   \n",
       "980         Adult  Apparel   Women                   N             Y   \n",
       "1453       <null>   <null>  <null>                   N             Y   \n",
       "1515       <null>     Home  <null>                   N             Y   \n",
       "\n",
       "                               product_long_description  site_product_type  \\\n",
       "281   Pure opulence. Posh opalescence. This classica...              CHINA   \n",
       "886   An American classic with definitive Deco flair...  CASUAL_DINNERWARE   \n",
       "980   Comfort starts underneath. Treat yourself to t...              PANTY   \n",
       "1453  For outstanding quality at the right price, lo...  CASUAL_DINNERWARE   \n",
       "1515  Pure opulence. Posh opalescence. This classica...              CHINA   \n",
       "\n",
       "            size_attr_name                                   actv_web_cat_ids  \\\n",
       "281                   NULL  8377,9545,16090,22878,24294,25037,27226,29023,...   \n",
       "886                   NULL  9545,9741,11014,11792,12713,14089,16514,17924,...   \n",
       "980   WOMEN_PANTIES_SIZE_T  225,3536,5943,15489,15576,17059,19867,20208,20...   \n",
       "1453                  NULL  8020,9545,9547,9724,9741,11014,11591,11774,117...   \n",
       "1515                  NULL  8377,9545,24294,25037,27226,29023,32175,32738,...   \n",
       "\n",
       "     pwp_ind  \n",
       "281        Y  \n",
       "886        Y  \n",
       "980        Y  \n",
       "1453       Y  \n",
       "1515       Y  \n",
       "\n",
       "[5 rows x 24 columns]"
      ]
     },
     "execution_count": 39,
     "metadata": {},
     "output_type": "execute_result"
    }
   ],
   "source": [
    "pwp = attr.query('pwp_ind == \"Y\"')\n",
    "pwp.head()"
   ]
  },
  {
   "cell_type": "code",
   "execution_count": 18,
   "metadata": {},
   "outputs": [
    {
     "data": {
      "text/plain": [
       "Index(['product_id', 'prod_name', 'today_original_price', 'today_retail_price',\n",
       "       'availability_flag', 'home_category_id', 'gmm_id', 'div_id',\n",
       "       'department_id', 'prod_age_txt', 'new_arrival', 'brand',\n",
       "       'today_price_type_id', 'deal', 'age_category', 'prodtype', 'gender',\n",
       "       'master_product_flag', 'recommend_pdp', 'product_long_description',\n",
       "       'site_product_type', 'size_attr_name', 'actv_web_cat_ids', 'pwp_ind'],\n",
       "      dtype='object')"
      ]
     },
     "execution_count": 18,
     "metadata": {},
     "output_type": "execute_result"
    }
   ],
   "source": [
    "attr.columns"
   ]
  },
  {
   "cell_type": "code",
   "execution_count": 18,
   "metadata": {},
   "outputs": [
    {
     "name": "stdout",
     "output_type": "stream",
     "text": [
      "CPU times: user 19.6 s, sys: 4.55 s, total: 24.2 s\n",
      "Wall time: 24.2 s\n"
     ]
    }
   ],
   "source": [
    "%%time\n",
    "#with open(path + 'ur_production_product_attr.csv', \"r\") as atfile:\n",
    "with open(attr_file, \"r\") as atfile:\n",
    "    csv_reader = csv.reader(atfile, delimiter=\"\\t\")\n",
    "    ok_rows = []\n",
    "    weird_rows = []\n",
    "    rows24 = []\n",
    "    wrow_idx = []\n",
    "    for i, row in enumerate(csv_reader):\n",
    "        if len(row) == 22:\n",
    "            ok_rows.append(row)\n",
    "        elif len(row) == 24:\n",
    "            rows24.append(row)\n",
    "        else:\n",
    "            wrow_idx.append(i)\n",
    "            weird_rows.append(row)"
   ]
  },
  {
   "cell_type": "code",
   "execution_count": 19,
   "metadata": {},
   "outputs": [
    {
     "name": "stdout",
     "output_type": "stream",
     "text": [
      "ok_rows:  0  rows24:  1793611  weird_rows:  17\n"
     ]
    }
   ],
   "source": [
    "print(\"ok_rows: \",len(ok_rows),\" rows24: \",len(rows24),\" weird_rows: \",len(weird_rows))"
   ]
  },
  {
   "cell_type": "code",
   "execution_count": 20,
   "metadata": {},
   "outputs": [
    {
     "name": "stdout",
     "output_type": "stream",
     "text": [
      "(1793610, 24)\n"
     ]
    },
    {
     "data": {
      "text/html": [
       "<div>\n",
       "<style scoped>\n",
       "    .dataframe tbody tr th:only-of-type {\n",
       "        vertical-align: middle;\n",
       "    }\n",
       "\n",
       "    .dataframe tbody tr th {\n",
       "        vertical-align: top;\n",
       "    }\n",
       "\n",
       "    .dataframe thead th {\n",
       "        text-align: right;\n",
       "    }\n",
       "</style>\n",
       "<table border=\"1\" class=\"dataframe\">\n",
       "  <thead>\n",
       "    <tr style=\"text-align: right;\">\n",
       "      <th></th>\n",
       "      <th>product_id</th>\n",
       "      <th>prod_name</th>\n",
       "      <th>today_original_price</th>\n",
       "      <th>today_retail_price</th>\n",
       "      <th>availability_flag</th>\n",
       "      <th>home_category_id</th>\n",
       "      <th>gmm_id</th>\n",
       "      <th>div_id</th>\n",
       "      <th>department_id</th>\n",
       "      <th>prod_age_txt</th>\n",
       "      <th>...</th>\n",
       "      <th>age_category</th>\n",
       "      <th>prodtype</th>\n",
       "      <th>gender</th>\n",
       "      <th>master_product_flag</th>\n",
       "      <th>recommend_pdp</th>\n",
       "      <th>product_long_description</th>\n",
       "      <th>site_product_type</th>\n",
       "      <th>size_attr_name</th>\n",
       "      <th>actv_web_cat_ids</th>\n",
       "      <th>pwp_ind</th>\n",
       "    </tr>\n",
       "  </thead>\n",
       "  <tbody>\n",
       "    <tr>\n",
       "      <th>0</th>\n",
       "      <td>6</td>\n",
       "      <td>DRAFT - ETN W/CHALLIS BTM NO</td>\n",
       "      <td>NULL</td>\n",
       "      <td>NULL</td>\n",
       "      <td>N</td>\n",
       "      <td>18109</td>\n",
       "      <td>2</td>\n",
       "      <td>11</td>\n",
       "      <td>226</td>\n",
       "      <td>&lt;null&gt;</td>\n",
       "      <td>...</td>\n",
       "      <td>&lt;null&gt;</td>\n",
       "      <td>Apparel</td>\n",
       "      <td>&lt;null&gt;</td>\n",
       "      <td>N</td>\n",
       "      <td>NULL</td>\n",
       "      <td>NULL</td>\n",
       "      <td>DRESS</td>\n",
       "      <td>NULL</td>\n",
       "      <td>NULL</td>\n",
       "      <td>N</td>\n",
       "    </tr>\n",
       "    <tr>\n",
       "      <th>1</th>\n",
       "      <td>39</td>\n",
       "      <td>DRAFT - EuroPro Shark Super Garment Steamer</td>\n",
       "      <td>NULL</td>\n",
       "      <td>NULL</td>\n",
       "      <td>N</td>\n",
       "      <td>23487</td>\n",
       "      <td>47</td>\n",
       "      <td>85</td>\n",
       "      <td>693</td>\n",
       "      <td>&lt;null&gt;</td>\n",
       "      <td>...</td>\n",
       "      <td>&lt;null&gt;</td>\n",
       "      <td>Home</td>\n",
       "      <td>&lt;null&gt;</td>\n",
       "      <td>N</td>\n",
       "      <td>NULL</td>\n",
       "      <td>NULL</td>\n",
       "      <td>PERSONAL_CARE</td>\n",
       "      <td>NULL</td>\n",
       "      <td>NULL</td>\n",
       "      <td>N</td>\n",
       "    </tr>\n",
       "  </tbody>\n",
       "</table>\n",
       "<p>2 rows × 24 columns</p>\n",
       "</div>"
      ],
      "text/plain": [
       "  product_id                                    prod_name  \\\n",
       "0          6                 DRAFT - ETN W/CHALLIS BTM NO   \n",
       "1         39  DRAFT - EuroPro Shark Super Garment Steamer   \n",
       "\n",
       "  today_original_price today_retail_price availability_flag home_category_id  \\\n",
       "0                 NULL               NULL                 N            18109   \n",
       "1                 NULL               NULL                 N            23487   \n",
       "\n",
       "  gmm_id div_id department_id prod_age_txt   ...   age_category prodtype  \\\n",
       "0      2     11           226       <null>   ...         <null>  Apparel   \n",
       "1     47     85           693       <null>   ...         <null>     Home   \n",
       "\n",
       "   gender master_product_flag recommend_pdp product_long_description  \\\n",
       "0  <null>                   N          NULL                     NULL   \n",
       "1  <null>                   N          NULL                     NULL   \n",
       "\n",
       "  site_product_type size_attr_name actv_web_cat_ids pwp_ind  \n",
       "0             DRESS           NULL             NULL       N  \n",
       "1     PERSONAL_CARE           NULL             NULL       N  \n",
       "\n",
       "[2 rows x 24 columns]"
      ]
     },
     "execution_count": 20,
     "metadata": {},
     "output_type": "execute_result"
    }
   ],
   "source": [
    "attr = pd.DataFrame(rows24[1:],columns=rows24[0])#, columns=cols)\n",
    "print(attr.shape)\n",
    "attr.head(2)"
   ]
  },
  {
   "cell_type": "code",
   "execution_count": 21,
   "metadata": {},
   "outputs": [
    {
     "data": {
      "text/plain": [
       "(1793610, 1492674, 2596)"
      ]
     },
     "execution_count": 21,
     "metadata": {},
     "output_type": "execute_result"
    }
   ],
   "source": [
    "attr['product_id'].nunique(), attr['prod_name'].nunique(), attr['prod_age_txt'].nunique()"
   ]
  },
  {
   "cell_type": "code",
   "execution_count": 27,
   "metadata": {},
   "outputs": [
    {
     "data": {
      "text/plain": [
       "<null>    1394322\n",
       "134         36630\n",
       "176         18203\n",
       "29           8897\n",
       "161          8282\n",
       "2799         5632\n",
       "154          5338\n",
       "119          5229\n",
       "9            5161\n",
       "28           4320\n",
       "21           3768\n",
       "70           3470\n",
       "133          3345\n",
       "19           3213\n",
       "50           3107\n",
       "61           3014\n",
       "55           2918\n",
       "146          2747\n",
       "8            2662\n",
       "30           2615\n",
       "Name: prod_age_txt, dtype: int64"
      ]
     },
     "execution_count": 27,
     "metadata": {},
     "output_type": "execute_result"
    }
   ],
   "source": [
    "attr['prod_age_txt'].value_counts()[:20]"
   ]
  },
  {
   "cell_type": "code",
   "execution_count": 12,
   "metadata": {},
   "outputs": [
    {
     "name": "stdout",
     "output_type": "stream",
     "text": [
      "4163\n"
     ]
    },
    {
     "data": {
      "text/plain": [
       "Macys                         243623\n",
       "Trademark Global               80399\n",
       "Nike                           54696\n",
       "New Era                        54185\n",
       "Lauren Ralph Lauren            33774\n",
       "Metaverse                      31701\n",
       "INC International Concepts     31044\n",
       "Calvin Klein                   30841\n",
       "Polo Ralph Lauren              26165\n",
       "Tommy Hilfiger                 25332\n",
       "Name: brand, dtype: int64"
      ]
     },
     "execution_count": 12,
     "metadata": {},
     "output_type": "execute_result"
    }
   ],
   "source": [
    "print(attr['brand'].nunique())\n",
    "attr['brand'].value_counts()[:10]"
   ]
  },
  {
   "cell_type": "code",
   "execution_count": 13,
   "metadata": {},
   "outputs": [
    {
     "name": "stdout",
     "output_type": "stream",
     "text": [
      "[\"'47 Brand\", '1 Madison Expedition', '1.STATE', '10 Strawberry Street', '100 Good Deeds', '100% Pure', '108 Stitches', '143 Girl', '176 Clothing', '180s', '1888 Mills', '19 Cooper', '2(x)ist', '2-Kuhl', '2028', '212', '222 Fifth', '24th & Ocean', '28th & Park', '2Bamboo', '3 Bees and Me', '3 Sprouts', '3 Stories', '31 Bits', '32 Degrees', '3Doodler', '3R Studio', '3rd & Army', '4D CONCEPTS', '4D Cityscape', '4D Master', '4M', '4SI3NNA', '50 Cent', '510 Design', '525 America', '5th & Ocean', '6 Degrees', '7 For All Mankind', '7 Sisters', '8 Oak Lane', '82Zero', '88 Rue Du Rhone', 'A Gold E', 'A Pea in the Pod', 'A.B.S.', 'AB Home', 'ABASIX', 'ABBOTT', 'ABG Accessories', 'ABS by Allen Schwartz', 'ADORNIA', 'AFLighting', 'AG Hair', 'AG Jeans', 'AGB', 'AHS Lighting', 'ALDO', 'ALEX Toys', 'ALIQUANTUM INTERNATIONAL INC', 'AME', 'AMRAPUR OVERSEAS INC', 'AMY COE', 'AND1', 'ANK', 'AQ Textiles', 'AQUA2UDE', 'ARB Teak', 'ARG', 'ARTISTIX', 'ASD Living', 'ASTR the Label', 'ASWEETS', 'AVI-8', 'AVIGO', 'AVYA', 'Ab Rocket', 'Abbyson Living', 'Accents', 'Accessory Innovations', 'Accessory Network/Calvin Klein', 'AccuSwiss', 'Acessentials', 'Achim', 'Acme Furniture', 'Action Plates', 'Addicted Beauty', 'Adelyn Rae', 'Adesso', 'Adidas Performance', 'Adrianna Papell', 'Adrienne Vittadini', 'AeroGarden', 'Aerobed', 'Aerosoft', 'Aerosoles', 'Affliction', 'Aflac', 'Age Group', 'Ageless Beauty', 'Ahava', 'Aidan by Aidan Mattox', 'Aimee Kestenberg', 'Air Innovations', 'AirSelfie', 'Aireloom', 'Akademiks', 'Alaterre Furniture', 'Alberta Ferretti', 'Alderac Entertainment Group', 'Aldik', 'Alessandro International', 'Alex & Eve', 'Alex Evenings', 'Alex Woo', 'Alfani', 'Alfred Dunner', 'Ali & Jay', 'Ali & Kris', 'Ali Ro Dress', 'Alice Through The Looking Glass', 'All @ Once', 'All The Rages', 'All The Trimmings', 'All Things Equal', 'All-Clad', 'Allen Edmonds', 'Allied Home', 'Allstar', 'Almo', 'Almost Famous', 'Alpina', 'Alpine Furniture', 'Alpine Stars USA', 'Altec Lansing', 'Alternative Apparel', 'Amanti Art', 'Amazon', 'Ambiance', 'Ambig', 'Ambition', 'Amco', 'American Atelier', 'American Classics', 'American Crew', 'American Dawn', 'American Eagle Furniture', 'American Flyer', 'American Heritage Billiards', 'American Heritage Textiles', 'American Leather', 'American Living', 'American Needle', 'American Rag', 'American Rug Craftsmen', 'American Stitch', 'American Tourister', 'American Traditions', 'American West', 'Ameriwood Home', 'Amigo', 'Aminco', 'Amisco', 'Amy Byer', 'Anastasia Beverly Hills', 'Ande', 'Andiamo', 'Andre Assous', 'Andrew Charles', 'Andrew Fezza', 'Andrew Marc', 'Andrew Sport', 'Angel by L. Martino', 'Angie', 'Angry Birds', 'Animal House', 'Anita', 'Ann Marino by Bettye Muller', 'Anna Sui', 'Annalee', 'Anne Cole', 'Anne Klein', 'Anne Klein Petites', 'Anne Klein Woman', 'Annette', 'Anolon', 'Another Influence', 'Anova', 'Anthony', 'Anthony Veer', 'Antigua', 'Antik Denim', 'Antique Rivet', 'Antler', 'Apera', 'Apothederm Skin Care', 'Apple', 'Apple Bottoms', 'Apple Bottoms Juniors Plus', 'Apple Watch Edition', 'Apple Watch Nike+', 'Apple Watch Series 1', 'Apple Watch Series 2', 'Apple Watch Series 3', 'Apple Watch Series 4', 'Apropos Home', 'Aqua College', 'Aqua-Bound', 'Arabella', 'Aramis', 'Archaeo', 'Architec', 'Arctic Quest', 'Argent Orfevres', 'Argento Vivo', 'Argyle Culture', 'Aria', 'Aria Beauty', 'Ariana Grande', 'Ariya', 'Arlee Home Fashions', 'Arlo', \"Arm's Reach\", 'Armani', 'Armani Exchange', 'Armani Jeans', 'Armen Living', 'Armitron', 'Arnette', 'Aroma', 'Aromatique', 'Art & Cook', 'Art Horizons', 'Art of Shaving', 'Art&Soul', 'Arte Italica', 'ArteHouse', 'Arthur Court', 'Articles of Society', 'Artin', 'Artis LLC', 'Artissimo Designs', 'Artland', 'Arturo Chiang', 'Aryn K Maternity', 'As U Wish', 'Ashley Graham', 'Asics', 'Asobu', 'Aspire Home Accents', 'Astronomy', 'At Last', 'Athena', 'Atlanta Hosiery Company', 'Atlantic', 'Atlas', 'August Hats', 'August Silk', 'Aurora Health & Beauty', 'Austin Horn Classics', 'Austin Horn Collection', 'Authentic Comfort', 'Authentic NCAA Apparel', 'Authentic NFL Apparel', 'Authentic NFL Headwear', 'Authentic NHL Apparel', 'Authentic NHL Headwear', 'Autumn Cashmere', 'Avalanche', 'Avalonia Road', 'Avanchy', 'Avanti', 'Avec Les Filles', 'Avengers', 'Avia', 'Awake', 'Ayesha Curry', 'Azpen', 'Azzaro', 'A|X Armani Exchange', 'B BLOCK Headwear', 'B Darlin', 'B Michael', 'B. Brilliant', 'B. Makowsky', 'BABOR', 'BACtrack', 'BB Dakota', 'BB Rugs', 'BC Footwear', 'BCBG', 'BCBGMAXAZRIA', 'BCBGeneration', 'BCW', 'BCX', 'BEANKO', 'BEARPAW', 'BENIKO INC/PX', 'BINO', 'BISHOP HOUSE LLC', 'BLANK NYC', 'BLOW PRO', 'BLP International INC', 'BLUSH & BRASS', 'BMW', 'BOB', 'BOSS', 'BOSS Orange', 'BOY MEETS GIRL.', 'BREYER', 'BROW-NY', 'BT Kids', 'BTween', 'BUQU', 'BVLGARI', 'Baby Alive', 'Baby Appleseed', 'Baby Bjorn', 'Baby Boom', 'Baby Doppler', 'Baby Essentials', 'Baby Fanatics', 'Baby Foot', 'Baby Jogger', \"Baby K'tan\", 'Baby Phat', 'Baby Relax', 'Baby Starters', 'Baby Vision', 'Baby-G', 'BabyVision, Inc', 'Babyliss', 'Babymel', 'Bachmann Trains', 'Bacova', 'Badash Crystal', 'Badboy', 'Baden', 'Badger Basket', 'Badgley Mischka', 'Baggallini', 'Baggu', 'Bailey 44', 'Baker Maid', 'Balenciaga', 'Bali', 'Ballarini', 'Baltic Linens', 'Bamboozle', 'Band of Gypsies', 'Bandolino', 'Banzai', 'Bar III', 'Barbara Barry', 'Barbie', 'Barbour', 'Barclay Butera', 'Bardot', 'Bardwil', 'Barely There', 'Baretraps', 'Barley & Bass', 'Bashian Brothers', 'Basic Research', 'Bass by Ron Bass', 'Bassett Mirror', 'Bath Bliss', 'Baum', 'Baume & Mercier', 'Baxter Of California', 'Be Bop', 'Be Creative', 'Be Good Company', 'BeFreeSound', 'BePuzzled', 'Beach Diva', 'Beacon', 'Beacon Looms', 'Beatles', 'Beatrix Potter', 'Beats by Dr. Dre', 'Beautees', 'Beautiful Beginnings', 'Beautique Tend skin', 'Beauty Reaction', 'Beauty and the Beast', 'Beauty by POPSUGAR', 'Beautyrest', 'Becca', 'Becca Beach', 'Becca ETC', 'Beckham', 'Bed Head', 'Bed Tite™', 'BedStu', 'Bedeck', 'Bedgear', 'Belgique', 'Bell + Howell', 'Bella', 'Bella Vita', 'Bella by Marmellata', 'Belldini', 'Belle Du Jour', 'Belle Epoque', 'Belle Isle Furniture', 'Belle de Mer', 'Belly Bandit', 'Ben Franklin Toys', 'Ben Hogan', 'Ben Sherman', 'Bending Branches', 'Benefit Cosmetics', 'Benzara', 'BergHoff', 'Berkshire', 'Berlei', 'Bernardaud', 'Bernardo', 'Bernards', 'Berndes', 'Bernini', 'Bertha', 'Bertini', 'Bestar', 'Bethel International Inc', 'Betsey Johnson', 'Betseyville', 'Betsy & Adam', 'Betsy Ann Chocolates', 'Better Trends', 'Betty Boop', 'Bey-Berk', 'Beyblade', 'Beyonce', 'Beyond the Bump', 'Bezrat', 'Biaggi', 'Bialetti', 'Bianca', 'Bibb Home', 'Biddeford', 'Big Bang', 'Big Buddha', 'Big Chill', 'Big Girl', 'Big Mouth', 'Big Mouth Inc.', 'Big Star', 'Bigjigs Toys', 'Bikini Lab', 'Bikini Nation', 'Billabong', 'Billy London', 'Bintopia', 'Bio Ionic', 'BioPEDIC', 'Biographie', 'Bionaire', 'Bioworld', 'Birkenstock', 'Bissell', 'Bittermilk', 'Bl^nk', 'Blac Label', 'Black & Decker', 'Black Daisy', 'Black Diamond', 'Black Lipstick', 'Black Pyramid', 'Black Series', 'Blake Shelton', 'BlanQuil', 'Blaze and the Monster Machines', 'Bleacher Creatures', 'BlenderBottle', 'Blendtec', 'Bleu by Rod Beattie', 'Blind Barber', 'Bliss', 'Block', 'Block Hats', 'Blonder', 'Blondie Nites', 'Bloome', 'Blossom & Clover', 'Blowfish', 'Blue', 'Blue 84', 'Blue Desire', 'Blue Diamond', 'Blue Hat Toy Company', 'Blue Orange Games', 'Blue Ridge', 'Blue Star Group', 'Blue Wave', 'Blue by Betsey Johnson', 'Blueberi Boulevard', 'Blueridge', 'Blush by Design', 'Bob Mackie', 'Bob the Builder', 'Bobbi Brown', 'Bobble', 'Bodhi', 'Bodum', 'Body Glove', 'Body Wrap', 'Boelter Brands', 'Boley', 'Bolton Furniture', 'Bombay', 'Bon Bebe', 'Bon Jour', 'Bon Voyage', 'BonBonBaby Apparel', 'Bonjour', 'Bonnie Baby', 'Bonnie Jean', 'Bootights', 'Bootsi Tootsi', 'Borghese', 'Bormioli Rocco', 'Born', 'Boss Office Products', 'Bossi Holding Inc', 'Boston Harbour', 'Boston Traders', 'Bostonian', 'Boucheron', 'Boutique 9', 'Bow & Drape', 'Boyd', 'Brabantia', 'Brahmin', 'Brand Resource Ltd', 'Brasil Home', 'Braun', 'Bravado', 'Brazilian Blowout', 'Breadman', 'Breaking Waves', 'Breed', 'Breil', 'Bremenn Research Labs', 'Brenda and Eddie', 'Brentwood Originals', 'Brett Bros', 'Breville', 'Brewster Home Fashions', 'Briefly Stated', 'Briggs & Riley', 'Bright Tunes', 'Brim', 'Britax', 'Britney Spears', 'Brix Chocolate', 'Brondell', 'Bronx', 'Bronzarte', 'Brooke And Dylan', 'Brooklyn Brew Shop', 'Brooks', 'Brooks Brothers', 'Brookstone', 'Brother', 'Brown & Grey', 'Bruno Magli', 'Buffalo David Bitton', 'Buffalo Games', 'Buffalo Handbags', 'Built NY', 'Bulova', 'Bulova Accutron', 'Bumble & Bumble', 'Bump In The Night™', 'BumpStart', 'Bungalow Flooring', 'Bunn-O-Matic', 'Burberry', 'Burlington', \"Burt's Bees\", 'Butler', 'Buxom Cosmetics', 'Buxton', 'BuySeasons', 'By Design', \"Byers' Choice\", 'Bzees', 'C & F Enterprises Inc', 'C&C California', 'C&F Home', 'C-Life', 'C2 California Clean', 'CABOODLES', 'CAPPYBUG LLC/ROMP & ROOST', 'CB Sports', 'CBTL', 'CC Girl', 'CCILU', 'CCM', 'CDI', 'CGG MARKETING MANAGEMENT', 'CHARLES by Charles David', 'CHARMBAR', 'CHARRIOL', 'CHF', 'CHRLDR', 'CL by Chinese Laundry', 'CLEAN Fragrance', 'CMN International', 'CND', 'COACH', 'COBI', 'COLOR WOW', 'CONTEXT', 'COOLA', 'CORELLA', 'COVA', 'CREATIVE CO-OP INC', 'CRISLU', 'CW-X', 'Cable & Gauge', 'Cacharel', 'Cachcach', 'Cache', 'Caffeine', 'Cake Boss', 'Cake Lingerie', 'Cal Lighting', 'Calico', 'California Floral', 'California Waves', 'Call It Spring', 'Call Your Mother', 'Callaway', 'Callisto', 'Calphalon', 'Calvin Klein', 'Calvin Klein Jeans', 'Cambridge', 'Camelbak', 'Camp David', 'Campia Moda', 'Can You Imagine?', 'Candy Hearts', 'CandyRific', 'Cane+Austin', 'Cangshan', 'Canon', 'Canvas Home', 'Canyon Crest', 'Caparros', 'Capel', 'Capezio', 'Capresso', 'Captiva', 'Capwell & Co', 'Caravelle', 'Caravelle New York', 'Carbon Copy', 'Cardinal Games', 'Cardinal Gates', 'Care Bears', 'Carhartt', 'Caribbean Joe', 'Cariloha', 'Carlo Viani', 'Carlos by Carlos Santana', 'Carmen Marc Valvo', 'Carnival', 'Caro Home', \"Carol's Daughter\", 'Carole Hochman', 'Carolee', 'Carolina Classics', 'Carolina Herrera', 'Carolinna Espinosa', 'Carolyn Pollack', 'Carpenter Co.', \"Carter's\", 'Cartier', 'Carven', 'Casa Moda', 'Casa Platino', 'CasaQ', 'Casabella', 'Case and Drift', 'Casio', 'Castle Hill London', 'Catalina Lighting', 'Cate & Levi', 'Cathay Home Inc.', 'Catherine Malandrino', \"Cathy's Concepts\", 'Catskill Craft', 'Caudalie', 'Cavalet', 'Cavi', 'CeCe', 'Cejon', 'Celebrate Shop', 'Celebrity Pink', 'Celebrity Pink Girls', 'Celeste Home', 'Celestial Blue', 'Celine Dion Collection', 'Centennial', 'Central Park West', 'Centrix', 'Cephalofair Games', 'CeraStone', 'Certified International', 'Cesar Milan', 'Cha Cha Vente', 'Cha Cha Vente Juniors Plus', 'Champion', 'Champions Tour', 'ChangePal', 'Changes', 'Chantal', 'Chantelle', 'Chaps', 'Char-Broil', 'Charbonnel et Walker', 'Charcoal Companion', 'Charisma', 'Charles & Colvard', 'Charles David', 'Charlie Jade', 'Charmed', 'Charter Club', 'Chaser', 'Chasing Baxter', 'Chasing Lola', 'Chasseur', 'Cheatwell Games', 'Checkered Flag Sports', 'Cheeky Chompers', \"Chef'n\", \"Chef'sChoice®\", 'Chelsea & Zoe', 'Chelsea Home Furniture', 'Chelsea and Theodore', 'ChemArt', 'Chereskin', 'Cherish the Moment', \"Cheryl's Cookies\", 'Chi Home', 'Chic Couture', 'Chic Home', 'Chicago Cutlery', 'Chicago Metallic', 'Chilewich', 'Chinese Laundry', 'Chintaly', 'Chloe', 'Chocolate Covered Company', 'Chooka', 'Chor', 'Chord', 'Chow Tai Fook', 'Christian Audigier', 'Christian Siriano', 'Christina', 'Christina Aguilera', 'Christofle', 'Christopher Radko', 'Chronos', 'Cinderella', 'Circa by Joan & David', 'Circulon', 'Circus', 'Circus by Sam Edelman', 'Cirrus', 'Citiwell', 'Citizen', 'Citizens of Humanity', 'City Chic', 'City Scene', 'City Studios', 'City by City', 'Cityslips', 'Claiborne', 'Clarins', 'Clarisonic', 'Claritin', 'Clarks', 'Classic Accessories', 'Classic Brands LLC', 'Classic Touch Inc.', 'Classic Touch Inc/Bezrat', 'Clay Art', 'Click n Curl', 'Clickhere2shop', 'Climax Package', 'Clinique', 'Clinton Kelly', 'Cloud b', 'Club Room', 'Clubhouse', 'Clubman', 'Coast to Coast', 'Coastal Havan', 'Coaster Dynamix', 'Coaster Home Furnishings', 'Cobble Hill', 'Cobble Hill Puzzle Company', 'Cobra', 'Coby', 'Coca-Cola', 'Cocktail Expressions', 'Coco Rave', 'Coco Reef', 'Cody Direct', 'Coffee Masters Inc.', 'CoffeeShop', 'Colcha Linens', 'Cole', 'Cole & Mason', 'Cole Haan', 'Cole of California', 'Coles of London', 'Collection B', 'Collection XIIX', 'Collective Clothing', 'Collective Concepts', 'College Kids', 'Colonial Mills', 'Color Me', 'Colordrift', 'Colorfly', 'Colorforms', 'Colosseum', 'Columbia', 'Comfort Research', 'Comfort Revolution', 'Commando', 'Commerical Chef', 'Community Coffee', 'ConStruct', 'Conair', 'Concept One', 'Concepts Sport', 'Concepts in Time', 'Confess', 'Connected', 'Contigo', 'Converse', 'Coogi', 'Cook N Home', 'CookCraft', 'Cookbook', 'Cooks Standard', 'Coopersburg', 'Copco', 'Copper Chef', 'CopperFresh', 'CorLiving', 'Coravin', 'Core Bamboo', 'Corelle', 'Corkcicle', 'Corliving Distribution', 'Cornelia Guest', 'Corningware', 'Corona', 'Corso Como', 'Cosabella', 'Cosco', 'Cosmo Brands', 'CosmoLiving', 'Costa Del Mar', 'Coton Colors', 'Cotton Candy', 'Cotton Emporium', 'Cougar', 'Countess Mara', 'Country Gentlemen', 'Couristan', 'Court of Versailles', 'Courtside Market', 'Courtyard Casual', 'Couture', 'Couzon', 'Coveroo', 'Cozy Comfort', 'Cozy Critters', 'Cozy Socks', 'Cra-Z-Art', 'Craft Kitchen', 'Crafted by Wainwright', 'Craghoppers', 'Crane', 'Crave Fame', 'Crayola', 'Crckt', 'Creative Bath', 'Creative Gallery', 'Creative Home Ideas', 'Creative Labs', 'Creative Recreation', 'Crest', 'Crestview', \"Cristal d'Arques\", 'Cristiano Ronaldo', 'Croc', 'Crock-Pot', 'Crocs', 'Cromwell and Sons', 'Croscill', 'Crosley', 'Crushing Hearts', 'Crux', 'Crystal Clear', 'Crystal Doll', 'Crystalift', 'Cubavera', 'Cuckoo', 'Cuddl Duds', 'Cuddle Me', 'Cufflinks', 'Cufflinks Inc.', 'Cuisinart', 'Cuisipro', 'Cultura', 'Culver', 'Current Air', 'Curtainworks', 'Curve', 'Cutie Pie Baby', 'Cutter & Buck', 'Cynthia Rowley', 'D Style', 'D&G', 'D&M', \"D'Lish\", 'D-Toys', 'DC Comics', 'DC Shoes', 'DEER STAGS', 'DEGS & SAL', 'DERMAFLASH', 'DERMAdoctor', 'DEVATA', 'DHP', 'DIYVA by Barbara K', 'DJI', 'DKB HOUSEHOLD USA CORP', 'DKNY', 'DKNY Jeans', 'DKNY Lenox', 'DKNYC', 'DL 1961', 'DMSX', 'DMXSLOTS', 'DOE', 'DOPE', 'DUEPUNTI', 'DV8 by Dolce Vita', 'DZ Innovation', 'Dale Tiffany', 'Dalyn', 'Dancing Queen', 'Dani Accessories', 'Daniel Benjamin', 'Daniel Hechter Paris', 'Daniel Rainn', \"Daniel Tiger's Neighborhood\", 'Danielle Nicole', 'Danori', 'Dansk', \"Daphyl's\", 'Darbie Angell', 'Daron Fashions Inc', 'Dash', 'David & Young', 'David Lerner', 'Davidoff', 'Dawn Levy 2', 'Daya by Zendaya', 'Days of Wonder', 'Dcoded', 'De Moocci', \"De'Longhi\", 'DeBrekht', 'Dear Moon', 'Dearfoams', 'Debbie Morgan', 'Deborah Lippmann', 'Decode', 'Decopolitan', \"Decorator's Lighting\", 'Deepa', 'Delsey', 'Delta', 'Demeyere', 'Democracy', 'Dena', 'Denby', 'Denim & Supply Ralph Lauren', 'Denizli', 'Deny Designs', 'Department 56', 'Derek Heart', 'Dereon', 'Dermablend', 'Design 365', 'Design Art', 'Design History', 'Design Ideas', 'Design Import', 'Design Me', 'Design Pac', 'Design R&D', 'Desigual', 'Despi', 'Despicable Me', 'Destinations by Stavros', 'Deus Ex Machina', 'DevaCurl', 'Di Bruno Bros.', 'Diadora', 'Diamond Fascination', 'Diamond Select Toys', 'Diaper Dude', 'Diba True', 'Dickies', 'Diem', 'Diesel', 'Dimond Home', 'Dionis', 'Dior', 'Dirt Devil', 'Dirty Laundry', 'Discovery', 'Discovery Kids', 'Disguise', 'Disney', 'Disney Princess', 'Dittos', 'Ditz Designs', 'Do Denim', 'Doc McStuffins', 'Dockers', 'Dog Fever', 'Dolan Bullock', 'Dolce', 'Dolce & Gabbana', 'Dolce Vita', 'Dolled Up', 'Dollhouse', 'Dollie & Me', 'Dominique', 'Donald J. Trump', 'Donald Pliner', 'Donna Karan', 'Donna Karan Lenox', 'Donna Morgan', 'Donna Ricco', 'Doodlz', 'Dooney & Bourke', 'Dopp', 'Dora the Explorer', 'Dorel Juvenile Group', 'Dorfman Pacific', 'Dormify', 'Dotti', 'Double Dare', 'DownTown Company', 'Downton Abbey', 'Dr. Brandt', \"Dr. Bronner's\", 'Dr. Hauschka', 'Dr. Martens', \"Dr. Scholl's\", 'Dr. Scholls', 'Dr. Seuss', 'Dragon-i Toys', 'Drakkar', 'Dream Factory', 'Dream On Me', 'Dream Scene', 'Dream Vision', 'Dream Wave', 'Dreamgirl', 'Dreamr', 'Dreamwave', 'Drew', 'Droga Chocolates', 'Drone Nerds', 'Dualit', 'Duck Dynasty', 'Duck River Textile', 'DuneCraft', 'Dunecraft', 'Dusk & Dawn', 'Dutch Blitz', 'Dwell Home Inc.', 'DwellStudio', \"Dylan's Candy Bar\", 'Dynacraft', 'Dynasty', 'Dyson', 'E MISHAN & SONS INC/BETTER BRELLA', 'E by Design', 'E! Red Carpet', 'E-Gift Card', 'E. Mishan & Sons, Inc', 'EB Giftware', 'ECI', 'ECO Swim', 'ECOVACS Robotics', 'ED Ellen Degeneres', 'EDGE by WD-NY', 'EFFY Collection', 'EIR NYC', 'EKO', 'ELK Lighting', 'EMMA New York Cosmetics', 'EMPORIUM LEATHER CO', 'EMPORIUM LEATHER CO/ROYCE LEATHER', 'EMU', 'ENO', 'EPOCH HOMETEX INC/COTTONLOFT', 'ESCALI CORP', 'ESQ', 'ESQ Movado', 'ESSEX MANUFACTURING INC', 'ESSEX MANUFACTURING INC/BAUM', 'Eagle', 'Eagles Wings', 'Earl Jeans', 'Earth Wood', 'East At Main', 'Eastern Mountain Sports', 'Eastland Shoe', 'Easy Playhouse', 'Easy Spirit', 'Easy Street', 'Easy, Tiger', 'Ebel', 'Ecco', 'Echo', 'Ecko', 'Ecko Premio', 'EcoPEDIC', 'EcoPure', 'Ecoya', 'Ed Hardy', 'Eddie Bauer', 'Edie Rose by Rachel Bilson', 'Edie@Home', 'Educational Insights', 'Eight Eight Eight', 'Eight Sixty', 'Eileen Fisher', 'Eileen West', 'Eisch', 'Eitech', 'Elama', 'EleVen by Venus Williams', 'Electrolux', 'Elegance Spa', 'Elegant Home Fashions', 'Elegant comfort', 'Element', 'Elements by Nina', 'Elementz', 'Elemis', 'Elenco', 'Eleven60', 'Elf on the Shelf', \"Eli's Cheesecake\", 'Elicit Brand', 'Elie Tahari', 'Eliot Danori', 'Elisire', 'Elite Home', 'Elite Luggage', 'Elite by Maxi-Matic', 'Eliza J', 'Elizabeth Arden', 'Elizabeth Taylor', 'Elizabeth and James', 'Ella Jayne', 'Ella Moss', 'Elle', 'Elle Decor', 'Elle Macpherson Intimates', 'Elle Nicole', 'Ellen Tracy', 'Ellery Homestyles', 'Elliott Lucca', 'Ellis Curtain', 'Ellison First Asia', 'Ello', 'Elrene', 'Else Jeans', 'Elsie May', 'Emanuel Emanuel Ungaro', 'Ematic', 'Emerald Sundae', 'Emeril', 'Emeril by All-Clad', 'Emerilware', 'Emerson', 'Emerson Street Clothing Co.', 'Emma Fox', 'Emoji', 'EmojiNation', 'Emporio Armani', 'Emporio Armani Swiss', 'EnVogue', 'Enchante Home', 'Energie', 'Enesco', 'English Laundry', 'Enyce', 'Enzo Angiolini', 'Epic Threads', 'Epicurean', 'Epicurious', 'Epoca', 'Erbario Toscano', 'Erno Laszlo', 'Escada', 'Escali', 'Espana', 'Esprit', 'Esquire Grooming', \"Esquire Men's Jewelry\", 'Essentials', 'Essenza Di Zegna', 'Essie', 'Estée Lauder', 'Etienne Aigner', 'Eton', 'Etonic', 'Etoys', 'Eureka', 'Euro Style', 'EuroCeramica', 'EuroCuisine', 'Eva Longoria', 'Evan Picone', 'Evenflo', 'Evergreen Enterprises', 'Everlast', 'EveryRoom', 'Everyone Design', 'Evolv', 'Evy of California', 'ExOfficio', 'Exact Fit', 'Excalibur', 'Excell', 'Exclusive Home', 'Exquisite Gaming', 'Extra Touch', 'Extreme Concepts', 'Extreme Linens', 'EyeBlack', 'Eyeshadow', 'Ezekiel', 'FAB', 'FALCHI by Falchi', 'FANGIO LIGHTING', 'FAO Schwarz', 'FEA', 'FEED', 'FENDI', 'FHI Heat', 'FIRSTIME & CO', 'FISHBOWL', 'FLYING MONKEY', 'FOREO', 'FP Beach', 'FUL', 'FUN FLEX', 'Fab Habitat', 'Fabrique Innovations', 'Fagor', 'Fair Child', 'Fair Winds Trading', 'Fairfield Square Collection', 'Fame and Partners', 'Family Pajamas', 'Famous Stars and Straps', 'Fan Fever', 'Fan Ink', 'Fan Mats', 'Fanatics', 'Fang', 'Fannie May Fine Chocolates', 'Fanta', 'Fantasy Flight Games', 'Farberware', 'Farley Ice Technologies', 'Farmasthetics', 'Faryl Robin', 'Fascinations', 'Fashion Angels', 'Fashion Fair', 'Fashion Focus', 'Fashion Forms', 'Fashion Star', 'Fast Forward', 'Fat Freezer', 'Fatboy', 'Faux Real', 'Feiss', 'Feiss Lighting', 'Feiyue', 'Felina', 'Felix the Cat', 'Fender', 'Fergalicious', 'Fergie', 'Ferragamo', 'Ferrari', 'Ferris Coffee', 'Fever', 'Field & Stream', 'Fiesta', 'Fifth Sun', 'Fila', 'Fingerlings', 'Fire', 'First Impressions', 'First Looks', 'First Time', 'Firstime', 'Fischer', 'Fischertechnik', 'Fisher Price', 'Fissler', 'Fit 4 U', 'Fit N Fresh', 'FitFlop', 'Fitbit', 'Fitz and Floyd', 'Fizz & Bubble', 'Fjällräven', 'Flapdoodles', 'Flash Furniture', 'Flat River Group', 'Fleurish', 'Flexees by Maidenform', 'Flight 001', 'Flo Dancewear', 'Flogg', 'Flora Nikrooz', 'Flora by Flora Nikrooz', 'Florsheim', 'Fluent Life', 'Fly Society', 'Focused Space', 'FoodSaver', 'Foot Petals', 'Footnanny', 'For Bare Feet', 'Force Flyers', 'Forecaster', 'Forever Collectibles', 'Forever Love', 'Forever and Ever', 'Formation', 'Forté', 'Fossil', 'Four in Hand', 'Fox', 'Fox & Royal', 'Foxhill Trading', 'Fragile', 'Francesco Biasia', 'Franchi', 'Francis Francis', 'Franciscan', 'Francisco Costa for Calvin Klein', 'Franco Apparel', 'Franco Manufacturing Co', 'Franco Sarto', 'Frango Chocolates', 'Franklin Sports', 'Freckles', 'Frederic Fekkai', 'Frederique Constant', 'Free Country', 'Free Heart', 'Free People', 'Freestyle', 'Freeze', 'Freeze 24-7', 'Fremont Die', 'French Bull', 'French Connection', 'French Girl', 'French Home', 'French Sole FS/NY', 'French Toast', 'Fresh Brewed', 'Freshman', 'Frigo', 'Front Porch Classics', 'Frozen', 'Fruit of The Loom', 'Frye', 'Fujifilm', 'Full Circle', 'Fuller Brush Co.', 'Fun Inc.', 'Fun2Give', 'FunRise', 'Fundamental Toys', 'Funko', 'Furla', 'Furniture', 'Furniture of America', 'Fusion Beauty', 'Future Foam', 'Future Star by Capezio', 'Fuzzy Babba', 'Fuzzy Nation', 'G by GUESS', 'G-III Sports', 'G-Shock', 'G-Star Raw', 'G.H. Bass & Co.', 'GHD', 'GLOBAL', 'GO by Gossip', 'GROOVY TOYS LLC/XDRONE', \"GROUP SALES INC/GROW'N UP\", 'GUESS', 'Gabby and Claudia', 'Gaiam', 'Gallerie Décor', 'Game', 'Game Sportswear', 'Game Time', 'Game Wear', 'Gameday Couture', 'Ganz', 'Garmin', 'Gc Swiss Made', 'Gear 4 Sports', 'GelPro', 'Gelert', 'GemOro', 'Gendarme', 'Geneva Home Fashion', 'Genevieve & Grace', 'Genevieve Gorder', 'Genie by Eugenia Kim', 'Gentle Souls', 'Geo World', 'Geoffrey Beene', 'George Foreman', 'Geospace, Intl', 'Geox', 'Gerber Childrenswear', 'Germ Guardian', 'Gerry', 'Gerson & Gerson', 'Gevalia', 'Ghostbed', 'Gi-Go', 'Giambattista Valli', 'Giani Bernini', 'Gibson', 'Gien', 'Giftcraft', 'Gillz', 'Ginkgo', 'Ginsu', 'Giorgio Armani', 'Giorgio of Beverly Hills', 'Girbaud', 'Girly Go Garter', 'Givenchy', 'Glam', 'Glamorise', 'Glimmer', 'Glitterrings', 'Global Design Concepts', 'Global Goods Partners', 'Global Keratin', 'Globalshop Inc.', 'Gloveables', 'Go Travel', 'GoSMILE', 'GoVino', 'Goddess', 'Godinger', 'Godiva', 'Gold Sparrow', 'Gold Toe', 'Goldbug', 'Goldenstate', 'Good Lad', 'Goodful', 'Goodyear', 'Google', 'Gordon Ramsay', 'Gorham', 'Gotham Steel', 'Gourmet Settings', 'Gourmia', 'Graber', 'Grace Home Fashions', 'Graco', 'Graham & Brown', 'Grand Patrician', 'Grande Cosmetics', 'Grane', 'Grania', 'Granite Gear', 'Granite Stone Diamond', 'Granton', 'Grass', 'Great American Products', 'Great Bag Co.', 'Great Bay Home Fashions', 'Greater Than Games', 'Green Toys', 'Green with Envy', 'GreenPan', 'Greendale Home Fashions', 'Greendog', 'Greenland Home Fashions', 'Greg Norman', 'Gregory', 'Group Sales', 'Grown With Love', 'Grund', 'Grund America LLC', 'Gucci', 'Guerlain', 'Guess by Marciano', 'Guestroom Survival Kit', 'Gumby', 'Gund®', 'Gusto', 'Guy Harvey', 'Gwen Stefani', 'Gypsies & Moondust', 'Gyro', 'H.I.P.', 'H.N. International', 'H4X', 'HALEYS Beauty', 'HANDS HIGH', 'HDMX', 'HDS TRADING CORP', 'HIVES AND HONEY', 'HP', 'HUGO', 'Haan', 'Haeger', 'Haggar', 'Haier America', 'Hailey Logan', 'Hale Bob', 'Halifax', 'Halina', 'Hallmark', 'Hallmart Collectibles', 'Hamilton', 'Hamilton Beach', \"Hammond's Candies\", 'Hampton Forge', 'Hampton Popcorn Company', 'Hanae Mori', 'Handcraft', 'Handy Living', 'Hanes', 'Hang Ten', 'Hanky Panky', 'Hanna Andersson', 'Hannah Montana', 'Happy Hounds', 'Happy Socks', 'Happy Threads', 'Harajuku Lovers', 'Harbor House', 'Harold Imports', 'Harp & Finial', 'Harper Collins', 'Harper Lane', 'Harper and Liv', 'Harrison Lane', 'Harry & David', 'Harry London Candies Inc.', 'Harry Potter', 'Hartmann', 'Hasbro', 'Hauck', 'Haute Diggity Dog', 'Haute Face', 'Havaianas', 'Hawke & Co. Outfitter', 'Haywire Group', 'Hazel', 'He Rocks', 'Health-O-Meter', 'Heart N Crush', 'Heart and Soul', 'Heart of Haiti', 'HeartSoul', 'Heartloom', 'Hearts.Arrows.Together', 'Heather B', 'Heaton', 'Heckler', 'Hedaya Home', 'Heelys', 'Heidi Klum Intimates', 'Heidi by Heidi Klum', 'Helena Rubinstein', 'Hello Kitty', 'Helly Hansen', 'Hempz', 'Henry London', 'Heritage America', 'Heritor', 'Hermanny by Vix', 'Hermès', \"Hershey's\", 'Heys', 'Hi-Tec', 'HiEnd Accents', 'Hickory Farms', 'High Country', 'High Sierra', 'Highland Mint', 'Hilary Duff', 'Hillary Radley', 'Hillsdale', 'Hint of Gold', 'HipStyle', 'Hippie Rose', 'Hives & Honey', 'Hobie', 'Hodedah', 'Hog Wild', 'Hola', 'Holiday Lane', 'Holmes', 'Home & More', 'Home Basics', 'Home Design', 'Home Design Studio', 'Home Details', 'Home Dynamix', 'Home Essentials', 'Home Styles', 'HomeCraft', 'Homedics', 'Homesick Candles', 'Homestead', 'Homewear', 'Honey Can Do', 'Honeydew', 'Honora', 'Honora Style', 'Hoodsbee', 'Hooked Up by IOT', 'Hookless', 'Hoover', 'Horizon Worldwide', 'Hot Gal', 'Hot Kiss', 'Hot Sox', 'Hot Tempered', 'Hot Totties', 'Hot Tuna', 'Hot Wheels', 'Hotel Collection', 'House of Barker', 'House of Dorchester', 'House of Harlow', 'House of LaRoux', 'House of Polly', 'Household Essentials', 'Howard Elliott', 'Hudson Hill', 'Hudson Jeans', 'Hudson NYC', 'Hudson Outerwear', 'Hue', 'Hugo Boss', 'Hula Honey', 'Hunter Manufacturing', 'Hurley', 'Hurom', 'Hush Puppies', 'Hybrid', 'Hybrid Apparel', 'Hydraulic', 'Hydro Flask', 'Hydroxatone', 'Hype', 'Hypnotize', 'I AM', 'I B Goodman Company Inc', 'I-Apparel/Lullababy', 'I.F.', 'IDEAL VENTURES LLC/SORBUS', 'IGH Global Corporation', 'IIIBeCa by Joy Gryson', 'IMAX', 'IML', 'IMUSA', 'INC International Concepts', 'INC International Concepts® Woman', 'INFANTECH', 'ING', 'INGLOT', 'INK+IVY', 'INSPR', 'ION', 'IRIS USA', 'ISI', 'ISO Beauty', 'IT Cosmetics', 'ITEM m6', 'IZOD', 'IZUTECH', 'Iberjoya', 'Ice-Watch', 'IceLink', 'Icon Sports Group', 'Icoo', 'Idea Nuova', 'IdeaNuova', 'Ideal', 'Idealmark', 'Ideology', 'Iextreme', 'Igloo', 'Ike Behar', 'Illume', 'Image One', 'Imperial Star', 'Impo', 'Imprint Mats', 'Impulse', 'In Awe of You by AwesomenessTV', 'InStyler', 'Incase', 'Indigo Blue', 'Indigo Palms', 'Indigo Rein', 'Indigo United', 'Industry 9', 'Industry Rag', 'Infinity Instruments', 'Inge-Glas', 'Innovative Technology', 'Inspire Psyche Terry', 'Instant Figure', 'Instant Pot', 'Instantfigure', 'Instaslim', 'Intelligent Design', 'Interdesign', 'International Concepts', 'International Silver', 'Intimo', 'Inval America', 'Invicta', 'Isaac Mizrahi', 'Isaac Mizrahi New York', 'Isaac Morris', 'Isabella Oliver', 'Island Escape', 'Isola', 'Isotoner Signature', 'Issey Miyake', \"It's A 10\", \"It's Our Time\", 'Italian Gold', 'Itzy Ritzy', 'Ivanka Trump', 'Ivy & Blu', 'Izalia', 'J America', 'J Brand', 'J DESIGN GROUP LLC/AVALANCHE', 'J Franco', 'J Kara', 'J L childress', 'J Paul', 'J Queen New York', 'J Valdi', 'J. Fold', 'J.A. Henckels', 'J.A.C.H.S', 'J.O.A.', 'JAG', 'JAIPUR RUGS INC', 'JARDEN CONSUMER/SUNBEAM -KTCHN ELEC', 'JAX', 'JBL', 'JBS Limited', 'JBU', 'JBW', 'JETRICH CANADA', 'JGoods', 'JH Design', 'JH Specialties Inc/Lumabase', 'JHB Design', 'JJ Basics', 'JK Adams', 'JLA Home', 'JLO by Jennifer Lopez', 'JM Collection', 'JM Collection Petites', 'JM Collection Woman', 'JM Collections Petites', 'JONATHAN Y', 'JPR', 'JR Nites', 'JS Boutique', 'JS Collection', 'JS Collections', 'JT Intimates', 'JVC', 'Jabara', 'Jack & Jones', 'Jack Black', 'Jack Mason', 'Jack Nicklaus', 'Jack Spade', 'Jack Wolfskin', 'Jack by BB Dakota', 'Jade & Deer', 'Jaimie King LED', 'Jaipur', 'Jaipur Living', 'Jake and the Never Land Pirates', 'Jakks', 'Jaloux', 'Jambu', 'Jamesdar', 'Jamie Oliver', 'Jansport', 'Jantzen', 'Jaques Du Manoir', 'Jarden Sports', 'Jasmine Art Glass', 'Jason Kole', 'Jason Wu', 'Jasper Conran', 'Jay Franco', 'Jay Imports', 'Jay Z', 'Jayne Copeland', 'Jaywalker', 'Jean Paul Gaultier', 'Jean Pierre', 'Jeanne Pierre', 'Jeco', 'Jeep', 'Jelly Belly', 'Jem', 'Jenni', 'Jennifer Adams Home', 'Jennifer Lopez', 'Jennifer Taylor Home', 'Jenny Packham', 'Jensen', 'Jerdon', 'Jerry Garcia', 'Jessica Howard', 'Jessica McClintock', 'Jessica Sanders', 'Jessica Simpson', 'Jet Lag', 'Jet Set', 'JetBoil', 'Jetson', 'Jewel Badgley Mischka', 'Jezebel', 'Jezebell', 'Jigsaw', 'Jill Jill Stuart', 'Jill Zarin', 'Jim Shore', 'Jimco Lamp & Manufacturing Co', 'Jimeale', 'Jimmy Choo', \"Jo's Candies\", 'Joan & David', 'Joan Boyce', 'Joan Vass', 'Joanna Chen', 'Jockey', 'Jody Coyote', 'Joe & Elle', \"Joe's Jeans\", 'John Ashford', 'John Barton', 'John Boos', 'John Galliano', 'John N. Hansen Co.', 'John Paul Richard', 'John Ritzenthaler Company', 'John Robshaw', 'John Varvatos', 'Johnson Bros.', 'Johnson Outdoors', 'Johnston & Murphy', 'Joico', 'Jolt', 'Jonathan Adler', 'Jones New York', 'Jones New York Petites', 'Joop!', 'Jordache', 'Jordan', 'Jordan Manufacturing', 'Joseph A', 'Joseph Abboud', 'Joseph Joseph', 'Josette', 'Josie', 'Jou Jou', 'Joy Mangano', 'Joy to the World', 'Ju-Ju-Be', 'Judith Jack', 'Juiceman', 'Juicy Couture', 'Juliet', 'Juliette LaBlanc', 'Jump', 'Junarose', 'Junior Learning', 'Junk Food', 'Jura', 'Jurassic Park', \"Just Beachin'\", 'Just Cavalli', \"Just Keep Livin'\", 'Just Play', 'Justin Bieber', 'Justina Blakeney', 'K-Swiss', 'KALENCOM CORP/POTETTE', 'KC Collections', 'KID DANGEROUS', 'KINGS', 'KM Home', 'KORRES', 'KR3W', 'Kalalou', 'Kale Naturals', 'Kaleen', 'Kaleidoscope', 'Kalencom', 'Kalorik', 'Kamenstein', 'Kandy Kiss', 'Kane & Couture', 'Kangol', 'Kanu Surf', 'Karastan', 'Karen Kane', 'Karen Neuburger', 'Karen Scott', 'Karin Maki', 'Karl Lagerfeld', 'Karma Gifts', 'Karrimor', 'Kas', 'Kasper', 'Kassatex', 'Kate Spade', 'Kathy Hilton', 'Kathy Ireland', 'Kathy Van Zeeland', 'Katy Perry', 'Keds', 'Keeco', 'Kelsi Dagger Brooklyn', 'Kemestre', 'Kendall + Kylie', 'Kennedy Home', 'Kennedy International', 'Kenneth Cole', 'Kenneth Cole New York', 'Kenneth Cole Reaction', 'Kenneth Mink', 'Kenney', 'Kenra Professional', 'Kenroy Home', 'Kensie Girl', 'Kenzo', 'Kesi Jewels', 'Keune', 'Keurig', 'Khombu', 'Kibble Bubble', 'Kid Made Modern', 'Kiddieland', 'Kidorable', 'Kidrobot', 'Kids Headquarters', 'Kids Only', 'Kidsline', 'Kidz Delight', \"Kiehl's Since 1851\", 'Kiind Of', 'Kikkerland', 'Kilner', 'Kim Kardashian', 'Kim Parker', 'Kim Seybert', 'Kinder Aggugini', 'King Baby', 'Kipling', 'Kiss & Tell', 'KitchenAid', 'KitchenTrend', 'Kitsch', 'Klaussner', 'Klear Vu', 'Klutch Apparel', 'Klutz', 'Knack3', 'Knickerbocker', 'Knights Apparel', 'Knightsbridge Linens', 'Knomo London', 'Knork', 'Kobi Halperin', 'Kodak', 'Kodiak', 'Koh Gen Do', 'Kolder', 'Kool Hearts', 'Koolaburra By UGG', 'Koolatron', 'Korks by Kork-Ease', 'Kosta Boda', 'Kouture by Kimora', 'Krups', 'Krush', 'Kuhn Rikon', 'Kurt Adler', 'Kut from the Kloth', 'Kuvings', 'Kyocera', 'Kyoku', 'L by Jennifer Love Hewitt Maternity', \"L'Agent by Agent Provocateur\", \"L'Arc\", \"L'Occitane\", 'L.B. Evans', 'L8ter', 'LA Kitty', 'LALI Jewels', 'LAMB', 'LAVANILA', 'LBW Group', 'LEGACY for MEN by Simone I. Smith', 'LEGO®', 'LEYDEN', 'LINE', 'LIVERPOOL', 'LOL Surprise!', 'LOVIN ENTERPRISES INC/DREAMGIRL', 'LR Home', 'LRG', 'LULIBOX', 'LUXIE', 'La Blanca', 'La Cafetière', 'La Crosse Technology', 'La Fiorentina', 'La La Anthony', 'La Regale', 'La Rochère', 'La Tweez', 'LaFab US', 'Lab Series', 'Lacoste', 'Lacoste Home', 'Lacourte', 'Lagostina', 'Laguna', 'Laguna Girls', 'Lalaloopsy', 'Lalique', 'Lamik', 'Lamo', 'Lamont', 'Lamour', 'Lanard', 'Lancôme', 'Lanvin', 'Lanz of Salzburg', 'Laroma', 'Larry Levine', 'Laser Pegs', 'Lasko', 'Late For The Sky', 'Late for the Sky', 'Latique', 'Laundry', 'Laundry POD', 'Laundry by Design', 'Laundry by Shelli Segal', 'Laura Ashley', 'Laura Geller Beauty', 'Laura Hart', 'Laura Mercier', 'Laural Home', 'Lauren Cecchi New York', 'Lauren Jeans Co.', 'Lauren Madison', 'Lauren Ralph Lauren', 'Lauren by Ralph Lauren Mens', 'Laurie Gates', 'Lauter', 'Lavish Home', 'Lawrence Frames', 'Layer 8', 'Layla', 'Le Bos', 'Le Couvent des Minimes', 'Le Creuset', 'Le Mystere', 'Le Suit', 'Le Vian', 'LeSportsac', 'Lea Journo', 'Leachco', 'Leading Lady', 'Learning Resources', 'Lee', 'Lee Platinum', 'Leeber', 'Legacy Athletic', 'Leggett & Platt', 'Leick', \"Leila's Linens\", 'Leisure', 'Leki', 'Lekue', 'Lemon', 'Lenovo', 'Lenox', 'Leonisa', 'Les Artistes', 'Level 10', 'LevelWear', \"Levi's\", 'Levinsohn Textiles', 'Levtex', 'Lezeth Collection', 'Libbey', 'Libby Langdon', 'Lichtenberg', 'Lids', 'Life Stride', 'Lifefactory', 'Lifestone', 'Lifestyle Solutions', 'Lifetime', 'LightStim', 'Lighting by Design', 'Lights, Camera, Interaction', 'Lilly Pulitzer', 'Lily Black', 'Lily NY', 'Lily of France', 'Lilyette', 'Line & Dot', 'Line of Love', 'Linea Donatella', 'Linon Home Décor', 'Linum Home', 'Lion Rampant Imports', 'Lionel', \"Liora Manne'\", 'Lipault', 'Lipper International', 'Liquid by Nell Couture', 'Lisa Frank', 'Lissi Dolls', 'Lite Source', 'Little Bitty', 'Little Earth', 'Little King Apparel', 'Little Me', 'Little Seeds', 'Little Tikes', 'Liv', 'Live Mechanics', 'Liverpool Jeans', 'Livex', 'Living Doll', 'Living Express', 'Living Textiles', 'Liz Claiborne', 'Lladró', 'Lodge', 'Logo Chair', 'Lois Hill', 'Lola Grace', 'Lola Rose', 'Lolita', 'Loloi', 'Loly in the sky', 'London Fog', 'London Fog x Jeremy Scott', 'London Times', 'Longchamp', 'Longines', 'Longlat', 'Looney Labs', 'Looney Tunes', 'Lorren Home Trends', 'Lost + Wander', 'Lottie', 'Lottie & Holly', 'Louis Raphael', 'Louisville Slugger', 'Love 2 Design', 'Love Change', 'Love Lola', 'Love Moschino', 'Love Scarlett', 'Love Squared', 'Love Tease', 'Love Tribe', 'Love, Fire', 'Love, Glam Girls', 'Loveappella', 'Lucca Lane', 'Lucid', 'Luckies of London', 'Lucky Brand', 'Lucy Paris', 'Luigi Bormioli', 'Luleh', 'Lullababy', 'Lullaby Bedding', 'Lulu DK', 'Luminarc', 'Luminox', 'Lumiscope', 'Lumisource', 'Lunaire', 'Lunt', 'Lush Décor', 'Lush Life', 'Luxe Essentials', 'Luxirie', 'Luxology', 'Lynk', 'Lysse', 'M & J', \"M & M's\", 'M-Clip', 'M. Hidary', 'M.A.P. Footwear', 'M151', 'M151 Accessories', 'M1858', 'MAC', 'MAGNIFICENCE', 'MARQT', 'MAXX Sunglasses', 'MBlock', 'MD Sports', 'MINKPINK', 'MIU MIU', 'MIX', 'MJL Furniture Designs', 'MLB', 'MM Couture', 'MSI', 'MSK', 'MSR', 'MSRF', 'MU Kitchen', 'MUDDYFOX', 'MULCO', 'MY HOME FURNISHINGS LLC', 'MYU Apparel', 'MZ Berger', 'Mac & Moon', 'Macadamia', 'Macbeth', 'Macbeth Collection', 'Mack', \"Macy's\", \"Macy's Beauty Collection\", \"Macy's Fine Rug Gallery\", \"Macy's Impulse Beauty Collection\", \"Macy's Star Signature Diamond\", 'MacyBed', 'Macybed Lux', 'Macys', 'Mad Engine', 'MadPax', 'Madame Alexander', 'Madd Capp Games', 'Madden Girl', 'Madeira', 'Madison Park', 'Madison Park Signature', \"Madyson's Marshmallows\", 'Magefesa', 'Magformers', 'Maggy London', 'Magic Bullet', 'Magic Suit', 'Magicsuit', 'Magna', 'MagnaClick', 'Maidenform', 'Mainstream International Inc.', 'Maison Jules', 'Maison Versailles', 'Majestic', 'Majestic Apparel', 'Majorica', 'MakeUp Eraser', 'Makers Collective', 'MakersKit', 'MakeupDrop', 'Makroteks', 'Malouf', 'Mandarina Duck', 'Manhattan Toy', 'Manhattan Toy Company', 'Manor Hill', 'Maples', 'Mara-Mi', 'Marahlago', 'Maralyn & Me', 'Marbles The Brain Store', 'Marc Ecko', 'Marc Fisher', 'Marc Jacobs', 'Marc Joseph New York', 'Marc New York', 'Marc Newson', 'Marc Tetro', 'Marc by Marc Jacobs', 'Marcella', 'Marchesa', 'Marchesa by Lenox', 'Marciano', 'Marcus Adler', 'Marcus Samuelsson', 'Mare Mare', 'Marella', 'Margaritaville', 'Margherita Kids', 'Mari A.', 'Mariah Carey', 'MarieBelle New York', 'Marilyn Monroe', 'Marimekko', 'Marina', 'Mario Badescu', 'Mario Batali', 'Mario Bros.', 'Mark Nason', 'Mark Roberts', 'Market Street New York', \"Market at Macy's\", 'Marled', 'Marmellata', 'Marmont Hill', 'Marmot', 'Marquis by Waterford', 'Marshall', 'Marshmallow Fun Company', 'Martex', 'Martha Stewart Collection', 'Martin Svensson', 'Marvel', \"MaryJane's Home\", 'Masala Baby', 'Massimo Emporio', 'Master & Dynamic', 'MasterChef', 'MasterPieces Puzzle Company', 'Masterbuilt', 'Masterpiece Cards', 'Masterpiece Studios', 'Mastrad', 'MatchStick', 'Mateo Bijoux', 'Material Girl', 'Matrix', 'Mattel', 'Matthew Williamson', 'Mattress Helper', 'Maui Jim', 'Maui and Sons', 'Mauviel', 'Mavea', 'Mavi', 'Mavi Jeans', 'Max & Cleo', 'Max & Olivia', 'Max Studio', 'Max Studio London', 'Maxi Cosi', 'Maxwell & Williams', 'Mayfair Games', 'McArthur Sports', 'McCreary', 'McFarlane', 'McKlein', \"McSteven's Inc.\", 'Me Jane', 'MegaChef', 'MegaMounts', 'Mek', 'Mele & Co', 'Melissa McCarthy Seven7', 'Melissa Van Hise', 'Melissa and Doug', 'Melrose Intl', 'Melville Candy Company', \"Member's Only\", 'Memory Company', 'Menu', 'Merch Traffic', 'MerchSource', 'Merchant Ambassador', 'Meredith Leigh', 'Merrell', 'Merry Product', 'Merry Products', 'Metal Mulisha', 'Metaverse', 'Metrokane', 'Mezlan', 'Mi Joya Divina', 'Mi Zone', 'Mia', 'Mia Limited Edition', 'Mia Toro ITALY', 'Michael Aram', 'Michael Bublé', 'Michael Kors', 'Michael Kors Home', 'Michael Michaud', 'Michael Stars', 'Michael Todd Beauty', 'Michel Germain', 'Michelsons', 'Mick Mack', 'Mickey Mouse', 'Micro Kickboard', 'Microplane', 'Mido', 'Midwest', 'Mighty Fine', 'Mikasa', 'Miken', 'Milanblocks', 'Millennium', 'Miller Curtains', 'Miller Lite', 'Millwork Holdings', 'Mimi Chica', 'Mimish', 'Mind Reader', 'MindWare', 'Minecraft', 'Mini Bean', 'Mini Fine', 'Mini Mini', 'Minnetonka', 'Minnie Mouse', 'Miraclesuit', 'MirraCo', 'Mirrotek', 'Mischo Beauty', 'Misfit', 'Miskeen', 'Miss Chievous', 'Miss Elaine', 'Miss Me', 'Miss Sixty', 'Miss Understood', 'Mission Bay', 'Missoni', 'Mitchell & Ness', 'Mix Marketing', 'Mixed Chicks', 'Miyabi', 'Mizani', 'Mizco', 'Mizuno', 'Moda Seta', 'ModaMix', 'Modern Eternity', 'Modern Littles', 'Modern Lux', 'Modern Vice', 'Modway', 'Modway Inc', \"Moe's Home Collection\", 'Moen', 'Mohawk', 'Mojo Licensing', 'Mombasa', 'Momeni', 'Momentus', 'Mon Amie', 'Monarch Specialties', 'Monet', 'Moneta', 'Monica Danko', 'Monif C.', 'Monique Lhuillier Waterford', 'Monkey Business Sports', 'Monster High', 'Montblanc', 'Monteau', 'Moon River', 'Mophie', 'Moral Fiber', 'Moret', 'Morgan', 'Morgan & Company', 'Morgan Home', 'Morgan Taylor', 'Morphic', 'MorriSofa', 'Mortier Pilon', 'Moschino', 'Motherhood Maternity', 'Motorola', 'Motorsports Authentics', 'Mountain Hardwear', 'Mountrek', 'Movado', 'Mpowerd', 'Mr. BBQ', 'Mr. Bean', 'Mr. Beer', 'Mr. Christmas', 'Mr. Coffee', 'Mr. Potato Head', 'Mrs. Prindables', 'Mugler', 'Muk Luks', 'Mukkikim', 'Mundi Westport', 'Murad', 'Muse', 'Mustard Seed', 'My Baby Sam', 'My Diamond Story', 'My Girl Dollhouses', 'My Little Pony', 'My Michelle', 'My World', 'MyPillow', 'Mystic Apparel', 'Mytex', 'NARS', 'NASSIF MD Bio-Rhythmic Skincare', 'NEWAIR LLC', 'NEXXUS', 'NFL', 'NINE STARS GROUP USA INC', 'NJ Croce', 'NKOK', 'NMAN', 'NMK Textiles', 'NOIZE', 'NRS', 'NSI', 'NTD', 'NUDESTIX', 'NXP', 'NY Collection', 'NYDJ', 'NYX Professional Makeup', 'Naked Zebra', 'Nambé', 'Nameeks', 'Namoo', 'Nanette Lepore', 'Nannette', 'Nanshing', 'Nao by Lladro', 'Naomi & Nicole', 'Napco', 'Narciso Rodriguez', 'Natco', 'National Design', 'National Sporting Goods', 'National Tree Company', 'Natori', 'Natura', 'Natural Elements', 'Naturalizer', \"Nature's Spa by Paramount\", 'Naughty Monkey', 'Nautica', 'Naxos', 'Naya', \"Ne'Qwa\", 'Nearly Natural', 'Neatfreak', 'Neato', 'Necessary Objects', 'Neff', 'Nejma', 'Neon', 'Nerf', 'Nespresso', 'Nest', 'Neuhaus', 'Neuville', 'New Agenda', 'New Balance', 'New Bright', 'New Classic Toys', 'New Era', 'New Sega', 'New Spec Inc', 'New Video', 'New World', 'New World Graphics', 'Newport Blue', 'Next by Athena', 'Nexxt by Linea', 'Nick Cannon', 'Nick Graham', 'Nickelodeon', 'Nicki Minaj', 'Nicole Miller', 'Nicole Miller New York', 'Nicole Richie', 'Nightway', 'Nike', 'Niki', 'Nikko', 'Nima', 'Nina', 'Nina Ricci', 'Nine West', 'Nine West Jeans', 'Ninja', 'Ninja Turtles', 'Nintendo', 'Nioxin', 'Nipon Boutique', 'Nipperland', 'Nixon', 'No Comment', 'No Retreat', 'No Vendor', 'NoJo', 'NoSoX', 'Nobile 1942', 'Noble House', 'Non Gender Specific', 'Nordic Ware', 'Norelco', 'Norell', 'Noritake', 'North American Bear Company', 'Northcape International', 'Northwest Company', 'Nostalgia', 'Notations', 'Nourison', 'Nouvelle Home', 'Nova Lighting', 'Novel Idea', 'Novelty Poster', 'Novogratz Collection', 'Nowadays', 'NuFACE', 'NuMe', 'NuScup', 'NuWave', 'Nvey Eco', \"O'Neill\", 'OPI', 'OPTIMUM FULFILL/FUNDAMENTAL TOYS', 'ORIENT HOME COLLECTION', 'OWI', 'OXO', 'Oakley', 'Objecto', 'Obsession Rules', 'Ocean Current', 'Oceanfront Resort', 'Oceanstar', 'Oci-Sound & Sleep', 'Officemate', 'Oggi', 'Oh!MG', 'Ojon', 'OkiOki', 'Olababy', 'Old Time Hockey', 'Oleg Cassini', 'Olga', \"Olga's Christina\", 'Olive & Oak', 'Olive + Sloane', 'Oliver Peoples', 'Olivia & Grace', 'Olivia Pratt', 'Olivia and Joy', 'Omega', 'Omniware', 'On Gossamer', 'On Que', 'On Your Feet', 'On the Verge', 'One 7 Six', 'One A', 'One Clothing', 'One Direction', 'One Flat Jack', 'One Hart', 'One World', 'Oneida', 'Onex', 'Only Kids Apparel', 'Ontel', 'Onyx', 'Opal Clocks', 'OppoSuits', 'Optimum Fulfillment', 'Oral-B', 'Oregon Scientific', 'Organic Apoteke', 'Organize it All', 'Orgreenic', 'Oriental Weavers', 'Original Gourmet Food Company', 'Original Grain', 'Original Paperbacks', 'Original Penguin', 'Origins', 'Orka', 'Orla Kiely', 'Orrefors', 'Oscar Blandi', 'Oscar Oliver', 'Oscar de la Renta', 'Osh Kosh', \"Oshkosh B'Gosh\", 'Oster', 'Ouidad', 'Out of Print', 'Outerstuff', 'Outset Media', 'Over and Back', 'Overland', 'Oxford', 'Oyo Sportstoys', \"P'kolino\", 'P.S. from Aéropostale', 'P/Kaufmann Home', 'P/Y/T Beauty', 'PANTONE UNIVERSE (TM)', 'PAW Patrol', 'PAWZ', 'PC Games', 'PEACE LOVE WORLD', 'PEKING HANDICRAFT INC', 'PERFUME CENTER AMERICA/KATE SPADE', 'PERFUME CENTER OF AMERICA/CARVEN', 'PETZL', 'PEZ Candy', 'PGA TOUR', 'PHYTO', 'PINTRILL x FriendsWithYou', 'PJ & Me', 'PJ Couture', 'PJ Masks', 'PKWY', 'PLANT Apothecary', 'PLAYBULB', 'PLAYMONSTER', 'PRIME ART & JEWEL', 'PRINCESSE MARINA DE BOURBON', 'PROJECT 28 NYC', 'PROJECT SOCIAL T', 'PRPGNDA', 'PTM Images', 'PX', 'Pacific Coast', 'Pacific Coast Feather', 'Pacific Gear', 'Pacific Trail', 'Pack It', 'Paco Rabanne', 'Paddywax', 'Pai-Shau', 'Paige Denim', 'Pair of Thieves', 'Palais des Thés', 'Palladium', 'Palmera Beachwear', 'Palmetto Living', 'Paloma Picasso', 'Pam and Gela', 'PanDigital', 'Panama Jack Home', 'Panasonic', 'Papi', 'Pappagallo', 'Paradigm', 'Paramour', 'Parfait', 'Paris Blues', 'Paris Hilton', 'Paris Hilton Prod.N.A.', 'Parisa Fe', 'Park B. Smith', 'Park West', 'Parrot', 'Party Animal', 'Pasabahce', 'Pastry', 'Patchology', 'Pathfinder', 'Patra', 'Patricia Nash', 'Paul & Pitü Naturally', 'Paul Frank', 'Paul G Toys', 'Paul Mitchell', 'Paul Sebastian', 'Payton', 'Pea in the Pod', 'Peach & Lily', 'Peanuts', 'Pedrini', 'Pegasus Home Fashions', 'Peking', 'Pelican', 'Pem America', 'Pendleton', 'Penelope Mack', 'Penguin', 'Penny Loves Kenny', 'Pepe Jeans', 'Peppa Pig', 'Pepper Creek Farms', 'Perfect Fit', 'Perfect Solutions', 'Peri', 'Perisphere & Trylon', 'Perricone MD', 'Perry Ellis', 'Perry Mackin', 'Persol', 'Perthshire Platinum Collection', 'Perugina', 'Pet Life Central', 'Petcube', 'Peter Grimm', 'Peter Thomas', 'Peter Thomas Roth', 'Petticoat Alley', 'Petunia Pickle Bottom', 'Pfaltzgraff', 'Pharrell Williams', 'Phat Farm', 'Philip Whitney', 'Philips', 'Phillips Collection', 'PhoneSuit', 'Pickard', 'Picket House Furnishings', 'Picnic Time', 'Picnic at Ascot', 'PicoBrew', 'Pillow Guy', 'Pillow Perfect', 'Pillow Pets', 'Pimpernel', 'Ping', 'Pink & Violet', 'Pink Envelope', 'Pink Platinum', 'Pink Republic', 'Pink Rose', 'Pink and Pepper', 'Piper & Wright', 'Pisarro Nights', 'Plan Toys', 'Planet Freddo', 'Planet Gold', 'Planet Sox', 'Platinum Collection', 'Play and Freeze', 'PlayMonster', 'Playground Pals', 'Playtex', 'Plox', 'Plum Pretty Sugar', 'Plus-Plus', 'Plushland', 'Poetic Licence', 'Point Zero', 'Pointehaven', 'Pokemon', 'Polar', 'Polaroid', 'Polder', 'Polly & Esther', 'Polly Pocket', 'Polo Ralph Lauren', 'Pony', 'Poof! Apparel', 'PoolCandy', 'Popatu', 'Popeye', 'Poppin', 'Popular Bath', 'Popz Topz', 'Portmeirion', 'Poundex', 'Pour Le Monde', 'Pourfect', 'Pow Wow', 'Powderidge Snowshoes', 'Powell Furniture', 'Power Rangers', 'Prada', 'Prada Linea Rossa', 'Pre-Owned Rolex', 'Precidio', 'Precious Moments', 'Premier Comfort', 'Prepara', 'Prescriptives', 'Pressbox', 'Pressman Toy', 'Presto', 'Pretty Polly', 'Pretty Rebellious', 'Prevue Pet Products', 'Pria', 'Prima Design', 'Primitives by Kathy', 'Primula', 'Prince', 'Princess Faith', 'Pro Beauty', 'Pro Specialties Group', 'Pro Standard', 'Proctor Silex', 'Profile', 'Profile Blush by Gottex', 'Profile by Gottex', 'Progressive', 'Progressive Furniture', 'Project Genius', 'Projek Raw', 'Promark', 'Propel RC', 'Proposition Love', 'Prosepra', 'Prospera', 'Protect-A-Bed', 'Protection System', 'Protocol', 'Proud Mom', 'Psycho Bunny', 'Public Universe', 'Pulaski', 'Puleo', 'Pulsar', 'Puma', 'Puma North America', 'Punk Royal', 'Puppet Workshop', 'Pure & Simple', 'Pure Aura', 'Pure Care', 'Pure Fun By Jamz', 'Pure Guardian', 'Pure Madness Chocolate', 'Pureology', 'Purity Home', 'Purple', 'Pursfection', 'Purva', 'Pusheen', 'Pyrex', 'Q Squared', 'Quantum Mechanix', 'Quarto', 'Queen Latifah', 'Quiksilver', 'R & Em', 'R & M Richards', 'R Collection', 'R Session', 'R&R Games', 'R.H. Macy & Co.', 'R.T. James', 'R2Zen', 'RACHEL Rachel Roy', 'RAILS', 'RARE Featuring GEMFIELDS', 'RBO LLC/LITTLE PARTNERS', 'REEF', 'REIGN', 'REWIND', 'RICH STAR', 'RIPE', 'RITUALS', 'RM 1958', 'ROBINSON', 'ROSIR', 'ROYALE', 'RTA Products', 'RUD styled by RUDSAK', 'RUMBATIME', 'RVCA', 'RWN by Rawan', 'RXB', 'Rabbit', 'Rachael Ray', 'Rachel Pally Maternity', 'Rachel Roy', 'Rachel Zoe', 'Radio Fiji', 'Radius', 'Radley London', 'Rado', 'Rafaella', 'Raga', 'Raisins', 'Raisins Curve', 'Ralph Lauren', 'Rampage', 'Randa', 'Range Kleen', 'Rare Editions', 'Ravi', 'Raviya', 'Rawlings', 'Ray-Ban', 'Raymond Weil', 'Razor', 'ReFa', 'Ready2HangArt', 'Real Bodies Real Solutions', 'RealHer', 'Realities', 'Reason', 'Rebdolls', 'Rebel Sky', 'Rebellious One', 'Rebels', 'Red Jacket', 'Red Rivet', 'Red Vanilla', 'Red by Marc Ecko', 'Redken', 'Reebok', 'Reed & Barton', 'Reed Wilson Design', 'Reeves Toys', 'Refinery', 'Regalo', 'Regina Andrew Design', 'Reliable', 'Reliable Corporation', 'Rem-Fit', 'Rembrandt Charms', 'Remington', 'Remodo', 'Ren Wil', 'Rene Rofe', 'Report', 'Report Signature', 'Republic Clothing', 'Request', 'Resol Grupo', 'Retro Brand', 'Retrofit', 'Revelation!', 'Revere', 'Reverie', 'Revlon', 'Revo', 'Revolution by Revolt', 'Rewash', 'Reyn Spooner', 'Rhinox Group', 'Rhona Sutton', 'Rialto', 'Ricardo', 'Ricci Argentieri', 'Rico Industries', 'Riddell', \"Ridley's Games Room\", 'Riedel', 'Riff', 'Rihanna', 'Ring of Fire', 'Rip Curl', 'Ripple Junction', 'Rite Lite', 'Riverbrook Home', 'Rizzy Home', 'Roamer', 'Roar', 'Robbie Bee', 'Robeez', 'Robert Abbey', 'Robert Lee Morris Soho', 'Robert Rodriguez', 'Roberta', 'Roberto Cavalli', 'Robinson', 'Rocawear', 'Rochas', 'Rock & Candy', \"Rock 'Em\", 'Rock Revival', 'Rocket Dog', 'Rockland', 'Rockport', 'Rocks & Indigo', 'Rod Desyne', 'Rogaska', 'Rogue Accessories', 'Rogue State', 'Roku', 'Roller Derby Skate Corp', 'Rolling Stones', 'Roman', 'Roman Fontanini', 'Roman Luxe', 'Romy & Aksel', 'Ronni Nicole', 'RoomMates', 'Rosanna', 'Rose Tree', 'Roselli Trading Company', 'Rosemary Lane', 'Rosenthal', 'Rosie Harlow', 'Rosie Pope', 'Rottefella', 'Rouge Living', 'Row One', 'Rowenta', 'Roxy', 'Royal Albert', 'Royal Copenhagen', 'Royal Court', 'Royal Doulton', 'Royal Luxe', 'Royal Premium Denim', 'Royal Wireless', 'Royal Worcester', 'Royalty Clothing Brand', 'Royce Apparel Inc', 'Royce Leather', 'Royole', 'Rubbermaid', 'Rubie Enterprises, Ltd.', 'Ruby Rox', 'Rudolph the Red-Nosed Reindeer', 'Rudsak', \"Rudy'sBarbershop\", 'Rugged Bear', 'Rules of Etiquette', 'Russell & Hazel', 'Russell Hobbs', 'Rustic Soul', 'Rusty', 'Rwanda', 'Rx for Brown Skin', 'Ryan Seacrest Distinction', 'Ryka', 'S Rothschild & CO', \"S'Well®\", 'S.W. Basics', 'S13', 'SALAV', 'SAN DIEGO HAT COMPANY', 'SCANPAN', 'SES', 'SHIFT', 'SIS by Simone I Smith', 'SK-II', 'SL Fashions', 'SLEEPING PARTNER INTL INC/TDPL HOME', 'SMS Audio', 'SNKR Project', 'SOLD Design Lab', 'SPANX', 'SPHYNX', 'SPT Appliance Inc.', 'SPY', 'SRM', 'STELLA + GINGER', 'STEVEN by Steve Madden', 'STS Blue', 'SUNDAY THEORY', 'SUNDAZED', 'SUPRA', 'SW3 Bespoke', 'Sabatier', 'Sachin & Babi', 'Safavieh', 'Safety 1st', 'Sage The Label', 'Sakroots', 'Salton', 'Salvatore Ferragamo', 'Sam Edelman', 'Samara Pearls', 'Samsonite', 'Samsung', 'Samuel Lawrence', 'Samurai Surfer', 'San Diego Hat', 'Sanctuary', 'Sanders', 'Sanderson', 'Sandicast', 'Sandra Darren', 'Sango', 'Sanyo', 'Sara B.', 'SaraSara', 'Sarah Chloe', 'Sarah Jessica Parker', 'Sarut Group', 'Sasaki', 'Sasha Handbags', 'Saturday Knight', 'Saucony', 'Sauipe', 'Savane', 'Savasa', 'Say Hello To Longer Legs', 'Say What?', 'Say Yes to the Dress', 'Say Yes to the Prom', 'Scala', 'Scalamandre', 'Schmidt Brothers', \"Schmidt's\", 'Schoenhut', 'Schutt Sports', 'Schylling', 'Scientific Explorer', 'Scosche', 'Scott Barnes', 'Scott Kay', 'Scrabble', 'Screwpull', 'Scribble', 'Sculptresse by Panache', 'Sea Gull Lighting', 'SealLine', 'Sealy', 'Sean John', \"Season's Design\", 'Seattle Chocolates', 'Seawide marine distribution Inc', 'Sebago', 'Sebastian', 'Sebby', 'Secret Charm', 'Sedona', 'Sedu', 'Seiko', 'Sele', 'Selectives', 'Self Esteem', 'Sensio', 'SensorGel', 'Sensorpedic', 'Sequin Hearts', 'Seraphine', 'Serta', 'Sesame Street', 'Sesoire', 'Seven Dials', 'Seven Sons and Company', 'Seven7 Jeans', 'Seville Classics', 'Sexual', 'Sexy Hair', 'Seychelles', \"Shaquille O'Neal Collection\", 'Shark', 'Sharp', 'Sharper Image', 'Shatobu', 'Shavel', 'Shaw', 'Shawn Mendes', 'Shedrain', 'Sheex', 'Shellys London', 'Sherry Kline', 'Shimmer and Shine', 'Shiraleah', 'Shiseido', 'Shopkins', 'Shrinky Dinks', 'Shun', 'Shwings', 'Sienna Rose', 'Signature Diamonds', 'Signature Gold', 'Signature Sleep', 'Sigrid Olsen', 'Silc Skin', 'Silikomart', 'Silk Home Living', \"Silk'N\", 'Silken Slumber', 'Silpat', 'Silver Forest', 'Silver Jeans Co.', 'SilverStone', 'Simba', 'Simmons', 'Simone I. Smith', 'Simple Pleasures', 'Simpli Home', 'Simplify', 'Simply Designz', 'Singer', 'Sirena', 'Siscovers', 'Siskiyou', 'Sjobeck', 'Skagen', 'Skandia', 'Skarlett Blue', 'Skechers', 'Skin Gym', 'Skin Research Laboratories', 'Skinny Girl', 'Skinnydip London', 'Skip Hop', 'SkootZ LLC', 'SkullCandy', 'Skweez Couture', 'Sky Bar', 'Skybound Games', 'Skylanders', 'Skyline', 'Skyteam', 'Skyway', 'Slade Wilder', 'Sleep On It', 'Sleep Philosophy', 'Sleep Trends', 'Sleeping Partners International. INC', 'Sleepwell', 'Small Paul', 'Small World Home', 'Smart Shopper', 'SmartGames', 'SmartLab Toys', 'Smashbox', 'Smeg', 'Smile Direct Club', 'Smith & Graham', 'Smoby Toys', 'Snapware', 'Snowman', 'So Jenni', 'So La Vita', 'SoZo', 'Sobel Westex', 'Social Republic', 'Socialite', 'Society 43', 'Society Girl', 'Society of Threads', 'Soffe', 'Sofft', 'Sofia the First', 'Soft As A Grape', 'Soft-Tex', 'Softline', 'Soia & Kyo', 'Sol Republic', 'Solano', 'Sold', 'Solo', 'Soluna', 'Sona', 'Sondico', 'Sondra Roberts', 'Sonicare', 'Sonoma', 'Sonos', 'Sons of Intrigue', 'Sony', 'Sophia Christina', 'Sophie and Freda', 'Soprano', 'Sorel', 'Soul Naturalizer', 'Southern Enterprises', 'Southern Tide', 'Sovereign Code', 'Soybu', 'SpaRoom', 'Spalding', 'Speck', 'Spectrum', 'Speechless', 'Speedo', 'Spencer', 'Spense', 'Spenser Jeremy', 'Sperry', 'Sphero', 'Spicebox', 'Spider-Man', 'Spiegelau', 'Spirit Activewear', 'Splash About', 'Splashlings', 'Splendid', 'Split', 'Spode', 'SpongeBob Squarepants', 'Sportiqe', 'Sporto', 'Sports Licensed Division', 'Sportula', 'SprezzaBox', 'Spring Air', 'Spring Street', 'Springs', 'Sprite', 'Sprout', 'Spyder', 'St. James Home', 'St. Tropez', 'Stacy Adams', 'Stadler Form', 'Stance', 'Standard Furniture', 'Stanford Distributors', 'Star Home', 'Star Wars', 'Starbucks', 'Starter', 'Stasher', 'Staub', 'Stearns & Foster', 'Steiff', 'Stella McCartney', 'Step Ahead', 'Stephen Joseph', 'Sterling', 'Steve Madden', 'Steven Land', 'Stevie and Lindsay', 'Stila', 'Stitch Clothing', 'Stockdale', 'Stohlquist', 'Stojo', 'Stolzle', 'Stonewall Kitchen', 'Stoosh', 'Storkcraft', 'Storksak', 'Stratton Home Décor', 'Straw Studios', 'StriVectin', 'Stride Rite', 'Strideline', 'Stuart Weitzman', 'Studio Cuisine', 'Studio Designs Home', 'Studio M', 'Studio Mercantile', 'Studio Silver', 'Studio-Hall', 'Studmuffin Desserts', 'Stuhrling', 'Style & Co', 'Style 212', 'StyleCraft', 'Sub_Urban Riot', 'Sue Devitt', 'Suede', 'Sugar', 'Sugar & Spice', 'Sugar Rush', 'Sugar Sweet Couture', 'Sugar Tart', 'Sugarfly', 'Suit Studio', 'Suite Bebe', 'Sultra', 'Sumikko', 'Summa International', 'Summer Crush', 'Summit Sportswear', 'Sun Bum', 'Sun Zero', 'SunSmart', 'Sunbeam', 'Sunday Riley', 'Sunglass Hut Collection', 'Sunham', 'Sunny Designs', 'Sunny Health & Fitness', 'Sunny Leigh', 'Sunnylife', 'Sunshine Mount', 'Super Charged', 'Super Massive', 'Superdry', 'Supergoop!', 'Superior', 'Superman', 'Supersmile', 'Sure Fit', 'Surell', 'Sureshot', 'Surplus', 'Surya', 'Susan G Komen', 'Sutra Beauty', 'Sutton by Rhona Sutton', 'Suunto', 'Suzi Chin', 'Swag Like Us', 'Swarovski', 'Swatch', 'Sweater Project', 'Sweater Works', 'Sweet Heart Rose', 'Sweet Home Collection', 'Sweet Pea', 'Sweet Romeo', 'Sweet Secrets Chocolate', 'Sweethearts', 'Swim Solutions', 'Swim Time', 'Swing Design', 'Swiss Army', 'Swiss Comforts', 'Swiss Diamond', 'Switchmate', 'T Tahari', 'T-Fal', 'T.D.C. Topson', 'T.R.U.', 'T3', 'TAG Heuer', 'TANGO HOTEL', 'TCG Toys', 'TENZ CVLT', 'TFW', 'THE BEACHWAVER Co', 'THRO', 'TKO', 'TMD Holdings', 'TOMS', 'TONYMOLY', 'TOTMEAL', 'TOV Furniture', 'TP-Link', 'TVS', 'TW Steel', 'Tabletops Unlimited', 'Tadashi Shoji', 'Tadpoles', 'Tag', 'Tahari', 'Tahari ASL', 'Tahari Girls', 'Tahari Woman', 'Tailgate Clothing Company', 'Take-Out', 'Takeout', 'Takeya USA Corporation', 'Tall Order', 'Tallia', 'TanTowel', 'TapouT', 'TarHong', 'Tart Collections', 'Tarte', 'Taryn Rose', 'Task Essential', 'Tasso Elba', 'Tattly', 'Tattoo Me', 'Tavik', 'Taylor', 'Taylor Swift', 'Tazio', 'Tea Forte', 'Team Beans', 'Team Dynamics', 'Team Golf', 'TechnoMarine', 'Tee By Big Star', 'Teen Vogue', 'Teeze Me', 'TeleShop', 'Telebrands', 'Teletubbies', 'TemaHome', 'Tempaper', 'Tempted', 'Tempur-Pedic', 'Terramar', \"Terre D'OC\", 'Tervis Tumbler', 'Teva', 'Th Modern Essentials', 'Thalia Sodi', \"That's Smoooth\", 'The Blonde Salad', 'The Cellar', 'The Cordless Collection', 'The Cottage Greenhouse', 'The Edit By Seventeen', 'The Emblem Source', 'The Fifth Label', 'The Fifth Season by Roberto Coin', 'The Finest Accessories', 'The Fur Vault', 'The Good Game Company', 'The Hammock Source', 'The Handbag Raincoat', 'The Lice Crew', 'The Macbeth Collection', 'The Mason Jar Cookie Company', 'The Modern Gourmet', 'The North Face', 'The Original Duck Boot', 'The Original Master Slicer', 'The Sak', 'The Sharper Image', 'The Simpsons', 'The Style Club', 'The Wet Brush', 'Theme', 'Theo Klein', 'Therm-a-Rest', 'Thermaltake', 'ThermoServ', 'Thermos', 'Thinner', 'Thirstystone', 'Thom Olson', 'Thomas & Friends', 'Thomas Sabo', 'Thomson Pottery', 'Threads & Heirs', 'Threads 4 Thought', 'Three Dots', 'Three Hearts', 'Thule', 'Tiana B', 'Tiara', 'Tiffany & Co.', 'Tiger', 'Tigi', 'Tignanello', 'Tile', 'Timberland', 'Timbuk2', 'Timeless Frames', 'Timex', 'Timothy Stone', 'Tinseltown', 'Tinsey', 'Tissot', 'Tizo', 'To Go Spa', \"Today's Mom\", 'Tom Ford', 'Tom and Jerry', 'TomTom', 'Tommy Bahama', 'Tommy Bahama Home', 'Tommy Girl', 'Tommy Hilfiger', 'Tommy Hilfiger Home', 'Tommy Hilfiger Luggage', 'Tommy John', 'Too Faced', 'Tools of the Trade', 'Top Chef', 'Top Knits', 'Top Line', 'Top of the World', 'Topperscot', 'Topps', 'Tori Richard', 'Torn Ranch', 'Tory Burch', 'Tot Tutors', 'Totes', 'Touch by Alyssa Milano', 'Touch of Silver', 'Towle', 'Town & Country', 'Toxic Hazard', 'Toy Story', 'ToyWatch', 'Toysmith', 'Tracy Porter', 'Tracy Reese', 'Trademark Global', 'Trademark Innovations', 'Traditions', 'Tramontina', 'Trans Pac', 'Transformers', 'Trash Nouveau', 'Travalo', 'Travel Gear', 'Travel Select', 'Travel Smart', \"Traveler's Choice\", 'Travelers Club', 'Travelon', 'Travelpro', 'Treasure Garden', 'Treasured Hearts', 'TreeHaus', 'Trend', 'Trend Lab', 'Tretorn', 'Trevco', 'Tri-Coastal Design', 'Tria', 'Tribeca Living', 'Tricots St Raphael', 'Triforce luggage', 'Trilogi', 'Trimfit', 'Trimfoot', 'Trina Turk', 'Triple C', 'Triple Fat Goose', 'Trips', 'Trisha Yearwood Home', 'Tristar', 'Triton', 'Trixxi', 'Trolls by DreamWorks', 'Tropical Honey', 'TruMiracle', 'Trudeau', 'True & Tidy', 'True Desire', 'True Religion', 'True Vintage', 'Trukfit', 'Truly Soft', 'Trump', 'Trunks Surf & Swim Co.', 'Truth or Dare by Madonna', 'Tubbs', 'Tumi', 'Tvilum', 'Tweezerman', 'Twenty Tees Maternity', 'Twice', 'Twiin', 'Twinkling Diamond Star', 'Twinnings', 'Twistshake', 'Two Lips', 'Two Souls, One Love®', \"Two's Company\", 'Tyler Rodan', 'Typhoon', 'Tyte', 'Tzumi', 'U.S. Traveler', 'UGG®', 'UNITE', 'UPI Marketing', 'UR Gloves', 'URBANEARS', 'US Honor', 'US Shade & Shutter', 'USA Pan', 'USAopoly', 'Ukala', 'Ultima', 'Ultra Flirt', 'Ultra Pro', 'Ultra Tokyo', 'Umbra', 'Uncanny Brands', 'Under Armour', 'Under the Canopy', 'Underwrapz Preggo Panty', 'Ungaro Homme', 'Unionbay', 'Unisa', 'United Curtain Co Inc', 'United Legwear & Co.', 'United by Blue', 'Unity', 'Universal Home Fashions', 'Universal Studios', 'University Games', 'Univibe', 'Unk', 'Unlisted', 'Unwritten', 'UpSpring Baby', 'Urban Decay', 'Urban Habitat', 'Urban Hearts', 'Urban Originals', 'Urban Playground', 'Urban Republic', 'Us Angels', 'Usher', 'Utica', 'Uttermost', 'V-Tech', 'V. Fraas', 'VAYA LLC', 'VCNY Home', 'VESI', 'VF Licensed Sports Group', 'VIETRI', 'VIG Furniture', 'VIVA SOL', 'VLADO', 'VM', 'VRY WRM', 'Va Bien', 'VacuVin', 'Vaillancourt', 'Valentino', 'Vampirina', 'Van Heusen', 'Vanilla Star', 'Vanity Fair', 'Vans', 'Vant', 'Vatican', 'Velero', 'Vellux', 'Velvet', 'Venetian Worldwide', 'Venus Textiles', 'Vera', 'Vera Bradley', 'Vera Wang', 'Vera Wang Wedgwood', 'Verb', 'Verona Collection', 'Versace', 'Versus by Versace', 'Vertical Design', 'Vestal', 'Via Europa', 'Via Spiga', 'Vic Firth', 'Vickerman', 'Victoria', 'Victoria Classics', 'Victoria Townsend', 'Victorinox', 'Victorinox Swiss Army', 'Victrola', 'Vida by Eva Mendes', 'Vidal Sasson', 'Vigoss Jeans', 'Viking', 'Viktor & Rolf', 'Villeroy & Boch', 'Vince', 'Vince Camuto', 'Vince Camuto Home', 'Vinotemp', 'Vintage America', 'Vintage Cotton', 'Vintage Red', 'Vintage Suzie', 'Vinturi', 'Violeta by Mango', 'Vipp', 'Vista Living', 'Vita Liberata', 'Vitale', 'Vitamix', 'Vivienne Tam', 'Vogue', 'VogueStrap', 'Volcom', 'Volume One', 'VonZipper', 'Vornado', 'Voyage', 'Voyager', 'W&P Design', 'W-C Designs', 'W118 by Walter Baker', 'WELDER', 'WHITESPACE', 'WHT SPACE', 'WILDFOX', 'WILLIAM RAST', 'WOLF', 'WONDER HOME', 'WRSI', 'Wacoal', 'Wahl', 'Waisted', 'Walker Edison', 'Wallace', 'Wallflower', 'Wamsutta', 'Wanted', 'Waring', 'Warner Brothers', \"Warner's\", 'Warren Industries, Inc', 'Waterford', 'Waterford Home', 'Waterpik', 'Watershed', 'Waverly', 'Way Basics', 'Way Of Will', 'We Take The Cake', 'WeSC', 'Wear First', 'WearEver', 'WearFirst', 'Weatherproof', 'Weatherproof Vintage', 'Weathertamer', 'Weberline Couture', 'Wedgwood', 'Weekend Max Mara', 'Weight Watchers', 'Welcome Industrial', 'WellnessMats', 'Wembley', 'Wendy Bellissimo', 'Wenger', 'Wes & Willy', 'West Point', 'Western Chief', 'Westinghouse', 'Weston', 'Westpoint', 'Westport', 'Wet Brush', \"Where's Waldo?\", 'Whispering Smith', 'White Mark', 'White Mountain', 'Whitmor', 'Wildflower', 'William Bounds', 'Williams and Bennett', 'Willow & Clay', 'Wilson Sport', 'Wilton', 'Wilton Armetale', 'Wincraft', 'Wine Enthusiast', 'Winegard', 'Winix', 'Winky Lux', 'Winning Moves', 'Winning Solutions', 'Winning Streak', 'Winward', 'Wippette', 'WiseLift', 'WiseWear', 'Wishbone', 'Wishes WishesWishes', 'WishesWishesWishes', 'With Love, Barbie', 'Wittnauer', 'WizKids Games', 'Wolf Gourmet', \"Wolferman's\", 'Wolfgang Puck', 'Wolford', 'Wonderbra', 'WoodWick Candle', 'Woolite', 'Woolrich', 'Wrangler', 'Wrapped', 'Wrapped in Love', 'Wrebit', \"Wright's Apothecary\", 'Wrinkles Schminkles', 'Wu Wear', 'Wurkin Stiffs', 'Wüsthof', 'X-Ray', 'X3', 'XNY', 'XOXO', 'XSCAPE', 'Xbox', 'Xoopar', 'YALA Designs', 'YMI', 'YSJ', 'YUNI', 'YYIGAL', 'Yamazaki', 'Yankee Candle', 'YellOra', 'Yellow Box', 'Yoga Direct', 'Yogatech', 'You The Fan', 'Young & Reckless', 'Yu Shan', 'Yuneec', 'Yves Saint Laurent', 'Z Brand', 'Z-Man Games', 'ZAVOR', 'ZCO', 'ZIGIny', 'ZOOB', 'Zana-di', 'Zeev Lighting', 'Zegna', 'Zen 3', 'Zenzii', 'Zephyr', 'Zero Water', 'ZeroXposur', 'Zeroll', 'Zevro', 'Zinc', 'Zing', 'Zing Toys', 'Zinus', 'Zirh', 'Zodica', 'Zoe Organics', 'Zojirushi', 'Zoku', 'Zoo York', 'Zrike', 'Zumba', 'Zuo', 'Zwilling Beauty', 'Zyliss', 'aden by aden + anais', 'adidas', 'adidas Originals', 'b.o.c.', \"b.tempt'd\", 'bObsweep', 'ban.do', 'bareMinerals', 'beautyblender', 'bebe', 'black Up', 'bluebellgray', 'boscia', 'buddy scrub', 'butter LONDON', 'c.A.K.e. by Ali Khan', 'cargo cosmetics', 'carriage & co.', 'chelsea sky', 'cupcakes and cashmere', 'danuu', 'design R+D', 'doo.ri', 'elevenparis', 'endless rose', 'eric and lani', 'evian', 'ewatchfactory', 'finn + emma', 'foxiedox', 'free spirit', 'fur', 'girlactik', 'hi-Fun', 'iBaby', 'iCanvas', 'iHome', 'iLive', 'iNSPIRE Q', 'iRobot', 'iTouch', 'iTouchless Housewares & Products, Inc', 'ienjoy Home', 'iittala', 'iluminage', 'indaïa', 'indigo rd.', 'it Girl', 'it Luggage', 'jam', 'julia jordan', 'justsweet', 'kate spade new york', 'kensie', 'kikki.K', 'kyle & deena', 'littleBits', 'lonna & lilly', 'lugBLU', 'm-61 by Bluemercury', 'mblm by Tess Holliday', 'me', 'nails.inc', 'northbeam', 'nuyu', 'philosophy', 'pivothead', 'platypus', 'pmd', 'remo+', 'ring', 'sangria', 'seventeen', 'simplehuman', 'the Gift', 'trèStiQue', 'tula', 'twelveNYC', 'zoovilla']\n"
     ]
    }
   ],
   "source": [
    "print(sorted(attr['brand'].unique()))"
   ]
  },
  {
   "cell_type": "code",
   "execution_count": 14,
   "metadata": {},
   "outputs": [
    {
     "data": {
      "text/plain": [
       "Index(['product_id', 'prod_name', 'today_original_price', 'today_retail_price',\n",
       "       'availability_flag', 'home_category_id', 'gmm_id', 'div_id',\n",
       "       'department_id', 'prod_age_txt', 'new_arrival', 'brand',\n",
       "       'today_price_type_id', 'deal', 'age_category', 'prodtype', 'gender',\n",
       "       'master_product_flag', 'recommend_pdp', 'product_long_description',\n",
       "       'site_product_type', 'size_attr_name', 'actv_web_cat_ids', 'pwp_ind'],\n",
       "      dtype='object')"
      ]
     },
     "execution_count": 14,
     "metadata": {},
     "output_type": "execute_result"
    }
   ],
   "source": [
    "attr.columns"
   ]
  },
  {
   "cell_type": "code",
   "execution_count": 15,
   "metadata": {},
   "outputs": [
    {
     "name": "stdout",
     "output_type": "stream",
     "text": [
      "49\n"
     ]
    },
    {
     "data": {
      "text/plain": [
       "Apparel                1032348\n",
       "Home                    470783\n",
       "Jewelry                 151150\n",
       "Cosmetics                28214\n",
       "<null>                   23155\n",
       "Toys & Games             14932\n",
       "Fragrance                 9939\n",
       "Wallet                    9210\n",
       "Cleaning/Organizing       6011\n",
       "Luggage                   5847\n",
       "Name: prodtype, dtype: int64"
      ]
     },
     "execution_count": 15,
     "metadata": {},
     "output_type": "execute_result"
    }
   ],
   "source": [
    "print(attr['prodtype'].nunique())\n",
    "attr['prodtype'].value_counts()[:10]"
   ]
  },
  {
   "cell_type": "code",
   "execution_count": 16,
   "metadata": {},
   "outputs": [
    {
     "name": "stdout",
     "output_type": "stream",
     "text": [
      "212\n"
     ]
    },
    {
     "data": {
      "text/plain": [
       "TOP          220182\n",
       "ART          195389\n",
       "HAT          109268\n",
       "DRESS        102032\n",
       "AREA_RUG      56230\n",
       "SHOE          55530\n",
       "T-SHIRT       48502\n",
       "FURNITURE     43437\n",
       "PANTS         42266\n",
       "WATCH         39932\n",
       "Name: site_product_type, dtype: int64"
      ]
     },
     "execution_count": 16,
     "metadata": {},
     "output_type": "execute_result"
    }
   ],
   "source": [
    "print(attr['site_product_type'].nunique())\n",
    "attr['site_product_type'].value_counts()[:10]"
   ]
  },
  {
   "cell_type": "code",
   "execution_count": 17,
   "metadata": {},
   "outputs": [
    {
     "data": {
      "text/plain": [
       "<null>    683268\n",
       "Women     619834\n",
       "Men       319204\n",
       "Boys       81072\n",
       "Girls      67098\n",
       "Unisex     23134\n",
       "Name: gender, dtype: int64"
      ]
     },
     "execution_count": 17,
     "metadata": {},
     "output_type": "execute_result"
    }
   ],
   "source": [
    "attr['gender'].value_counts()"
   ]
  },
  {
   "cell_type": "code",
   "execution_count": 18,
   "metadata": {},
   "outputs": [],
   "source": [
    "import matplotlib.pyplot as plt"
   ]
  },
  {
   "cell_type": "code",
   "execution_count": 19,
   "metadata": {},
   "outputs": [],
   "source": [
    "# plt.figure(figsize=(10,10))\n",
    "# plt.scatter(attr['home_category_id'].values,attr['department_id'].values)\n",
    "# plt.show()"
   ]
  },
  {
   "cell_type": "code",
   "execution_count": 20,
   "metadata": {},
   "outputs": [],
   "source": [
    "#np.corrcoef(attr['home_category_id'].values,attr['department_id'].values)"
   ]
  },
  {
   "cell_type": "code",
   "execution_count": 21,
   "metadata": {},
   "outputs": [
    {
     "data": {
      "text/plain": [
       "215"
      ]
     },
     "execution_count": 21,
     "metadata": {},
     "output_type": "execute_result"
    }
   ],
   "source": [
    "attr['size_attr_name'].nunique()"
   ]
  },
  {
   "cell_type": "code",
   "execution_count": 28,
   "metadata": {},
   "outputs": [
    {
     "data": {
      "text/plain": [
       "NULL                                         1549955\n",
       "WOMEN_REGULAR_SIZE_T                           40966\n",
       "CAP_SIZE_T                                     35116\n",
       "MEN_REGULAR_SIZE_T|MEN_BIG_TALL_SIZE_T         31746\n",
       "BED_SIZE_T                                     12563\n",
       "MEN_REGULAR_SIZE_T                             10191\n",
       "MATERNITY_SIZE_REG_T                            9216\n",
       "WOMEN_SHOE_SIZE_T|WOMEN_SHOE_WIDTH_SIZE_T       8828\n",
       "WOMEN_PLUS_SIZE_T                               8205\n",
       "MEN_SHOE_SIZE_T                                 6737\n",
       "Name: size_attr_name, dtype: int64"
      ]
     },
     "execution_count": 28,
     "metadata": {},
     "output_type": "execute_result"
    }
   ],
   "source": [
    "attr['size_attr_name'].value_counts()[:10]"
   ]
  },
  {
   "cell_type": "code",
   "execution_count": 29,
   "metadata": {},
   "outputs": [
    {
     "data": {
      "text/html": [
       "<div>\n",
       "<style scoped>\n",
       "    .dataframe tbody tr th:only-of-type {\n",
       "        vertical-align: middle;\n",
       "    }\n",
       "\n",
       "    .dataframe tbody tr th {\n",
       "        vertical-align: top;\n",
       "    }\n",
       "\n",
       "    .dataframe thead th {\n",
       "        text-align: right;\n",
       "    }\n",
       "</style>\n",
       "<table border=\"1\" class=\"dataframe\">\n",
       "  <thead>\n",
       "    <tr style=\"text-align: right;\">\n",
       "      <th></th>\n",
       "      <th>product_id</th>\n",
       "      <th>prod_name</th>\n",
       "      <th>today_original_price</th>\n",
       "      <th>today_retail_price</th>\n",
       "      <th>availability_flag</th>\n",
       "      <th>home_category_id</th>\n",
       "      <th>gmm_id</th>\n",
       "      <th>div_id</th>\n",
       "      <th>department_id</th>\n",
       "      <th>prod_age_txt</th>\n",
       "      <th>...</th>\n",
       "      <th>age_category</th>\n",
       "      <th>prodtype</th>\n",
       "      <th>gender</th>\n",
       "      <th>master_product_flag</th>\n",
       "      <th>recommend_pdp</th>\n",
       "      <th>product_long_description</th>\n",
       "      <th>site_product_type</th>\n",
       "      <th>size_attr_name</th>\n",
       "      <th>actv_web_cat_ids</th>\n",
       "      <th>pwp_ind</th>\n",
       "    </tr>\n",
       "  </thead>\n",
       "  <tbody>\n",
       "    <tr>\n",
       "      <th>0</th>\n",
       "      <td>6</td>\n",
       "      <td>DRAFT - ETN W/CHALLIS BTM NO</td>\n",
       "      <td>NULL</td>\n",
       "      <td>NULL</td>\n",
       "      <td>N</td>\n",
       "      <td>18109</td>\n",
       "      <td>2</td>\n",
       "      <td>11</td>\n",
       "      <td>226</td>\n",
       "      <td>&lt;null&gt;</td>\n",
       "      <td>...</td>\n",
       "      <td>&lt;null&gt;</td>\n",
       "      <td>Apparel</td>\n",
       "      <td>&lt;null&gt;</td>\n",
       "      <td>N</td>\n",
       "      <td>NULL</td>\n",
       "      <td>NULL</td>\n",
       "      <td>DRESS</td>\n",
       "      <td>NULL</td>\n",
       "      <td>NULL</td>\n",
       "      <td>N</td>\n",
       "    </tr>\n",
       "    <tr>\n",
       "      <th>1</th>\n",
       "      <td>39</td>\n",
       "      <td>DRAFT - EuroPro Shark Super Garment Steamer</td>\n",
       "      <td>NULL</td>\n",
       "      <td>NULL</td>\n",
       "      <td>N</td>\n",
       "      <td>23487</td>\n",
       "      <td>47</td>\n",
       "      <td>85</td>\n",
       "      <td>693</td>\n",
       "      <td>&lt;null&gt;</td>\n",
       "      <td>...</td>\n",
       "      <td>&lt;null&gt;</td>\n",
       "      <td>Home</td>\n",
       "      <td>&lt;null&gt;</td>\n",
       "      <td>N</td>\n",
       "      <td>NULL</td>\n",
       "      <td>NULL</td>\n",
       "      <td>PERSONAL_CARE</td>\n",
       "      <td>NULL</td>\n",
       "      <td>NULL</td>\n",
       "      <td>N</td>\n",
       "    </tr>\n",
       "  </tbody>\n",
       "</table>\n",
       "<p>2 rows × 24 columns</p>\n",
       "</div>"
      ],
      "text/plain": [
       "  product_id                                    prod_name  \\\n",
       "0          6                 DRAFT - ETN W/CHALLIS BTM NO   \n",
       "1         39  DRAFT - EuroPro Shark Super Garment Steamer   \n",
       "\n",
       "  today_original_price today_retail_price availability_flag home_category_id  \\\n",
       "0                 NULL               NULL                 N            18109   \n",
       "1                 NULL               NULL                 N            23487   \n",
       "\n",
       "  gmm_id div_id department_id prod_age_txt   ...   age_category prodtype  \\\n",
       "0      2     11           226       <null>   ...         <null>  Apparel   \n",
       "1     47     85           693       <null>   ...         <null>     Home   \n",
       "\n",
       "   gender master_product_flag recommend_pdp product_long_description  \\\n",
       "0  <null>                   N          NULL                     NULL   \n",
       "1  <null>                   N          NULL                     NULL   \n",
       "\n",
       "  site_product_type size_attr_name actv_web_cat_ids pwp_ind  \n",
       "0             DRESS           NULL             NULL       N  \n",
       "1     PERSONAL_CARE           NULL             NULL       N  \n",
       "\n",
       "[2 rows x 24 columns]"
      ]
     },
     "execution_count": 29,
     "metadata": {},
     "output_type": "execute_result"
    }
   ],
   "source": [
    "null_size = attr.query('size_attr_name == \"NULL\"')\n",
    "null_size.head(2)"
   ]
  },
  {
   "cell_type": "code",
   "execution_count": 30,
   "metadata": {},
   "outputs": [
    {
     "data": {
      "text/plain": [
       "array(['6350414', '7750958', '2238830', '818651', '1782757', '5255228',\n",
       "       '8350005', '1170836', '1452284', '246470'], dtype=object)"
      ]
     },
     "execution_count": 30,
     "metadata": {},
     "output_type": "execute_result"
    }
   ],
   "source": [
    "null_size['product_id'].sample(n=10).values"
   ]
  },
  {
   "cell_type": "code",
   "execution_count": 31,
   "metadata": {},
   "outputs": [],
   "source": [
    "#viz.display_recom_panel(['7403609', '1227525', '7377401', '7496251', '456302', '1967871','4820142', '2237733', '919133', '1624532'])"
   ]
  },
  {
   "cell_type": "code",
   "execution_count": 32,
   "metadata": {},
   "outputs": [],
   "source": [
    "#attr.query('product_id == \"4342097\" or product_id == \"6004406\"')"
   ]
  },
  {
   "cell_type": "code",
   "execution_count": 33,
   "metadata": {},
   "outputs": [
    {
     "data": {
      "text/plain": [
       "(670, 772)"
      ]
     },
     "execution_count": 33,
     "metadata": {},
     "output_type": "execute_result"
    }
   ],
   "source": [
    "attr['home_category_id'].nunique(), attr['department_id'].nunique()"
   ]
  },
  {
   "cell_type": "code",
   "execution_count": 34,
   "metadata": {},
   "outputs": [
    {
     "data": {
      "text/plain": [
       "Index(['product_id', 'prod_name', 'today_original_price', 'today_retail_price',\n",
       "       'availability_flag', 'home_category_id', 'gmm_id', 'div_id',\n",
       "       'department_id', 'prod_age_txt', 'new_arrival', 'brand',\n",
       "       'today_price_type_id', 'deal', 'age_category', 'prodtype', 'gender',\n",
       "       'master_product_flag', 'recommend_pdp', 'product_long_description',\n",
       "       'site_product_type', 'size_attr_name', 'actv_web_cat_ids', 'pwp_ind'],\n",
       "      dtype='object')"
      ]
     },
     "execution_count": 34,
     "metadata": {},
     "output_type": "execute_result"
    }
   ],
   "source": [
    "attr.columns"
   ]
  },
  {
   "cell_type": "code",
   "execution_count": 35,
   "metadata": {},
   "outputs": [
    {
     "data": {
      "text/plain": [
       "1793610"
      ]
     },
     "execution_count": 35,
     "metadata": {},
     "output_type": "execute_result"
    }
   ],
   "source": [
    "attr['product_id'].nunique()"
   ]
  },
  {
   "cell_type": "code",
   "execution_count": 36,
   "metadata": {},
   "outputs": [
    {
     "data": {
      "text/plain": [
       "(6, 6)"
      ]
     },
     "execution_count": 36,
     "metadata": {},
     "output_type": "execute_result"
    }
   ],
   "source": [
    "attr['gender'].nunique(), attr['deal'].nunique()"
   ]
  },
  {
   "cell_type": "markdown",
   "metadata": {},
   "source": [
    "### TODO\n",
    "* Pick out which attributes to substitute in. So far I have:\n",
    "    * brand (or brand + site_product_type pairs)\n",
    "    * brand + deal pairs\n",
    "    * site_product_type\n",
    "    * home_category_id\n",
    "    * department_id\n",
    "    * dimensionality-reduced cluster ids?\n",
    "    * prod_age_txt == too many null values\n",
    "* Train each model separately"
   ]
  },
  {
   "cell_type": "code",
   "execution_count": 37,
   "metadata": {},
   "outputs": [
    {
     "data": {
      "text/plain": [
       "Index(['product_id', 'prod_name', 'today_original_price', 'today_retail_price',\n",
       "       'availability_flag', 'home_category_id', 'gmm_id', 'div_id',\n",
       "       'department_id', 'prod_age_txt', 'new_arrival', 'brand',\n",
       "       'today_price_type_id', 'deal', 'age_category', 'prodtype', 'gender',\n",
       "       'master_product_flag', 'recommend_pdp', 'product_long_description',\n",
       "       'site_product_type', 'size_attr_name', 'actv_web_cat_ids', 'pwp_ind'],\n",
       "      dtype='object')"
      ]
     },
     "execution_count": 37,
     "metadata": {},
     "output_type": "execute_result"
    }
   ],
   "source": [
    "attr.columns"
   ]
  },
  {
   "cell_type": "code",
   "execution_count": 38,
   "metadata": {},
   "outputs": [
    {
     "data": {
      "text/plain": [
       "(4163, 212)"
      ]
     },
     "execution_count": 38,
     "metadata": {},
     "output_type": "execute_result"
    }
   ],
   "source": [
    "attr['brand'].nunique(), attr['site_product_type'].nunique()"
   ]
  },
  {
   "cell_type": "code",
   "execution_count": 39,
   "metadata": {},
   "outputs": [
    {
     "data": {
      "text/plain": [
       "<null>    1394322\n",
       "134         36630\n",
       "Name: prod_age_txt, dtype: int64"
      ]
     },
     "execution_count": 39,
     "metadata": {},
     "output_type": "execute_result"
    }
   ],
   "source": [
    "attr['prod_age_txt'].value_counts()[:2]"
   ]
  },
  {
   "cell_type": "code",
   "execution_count": 40,
   "metadata": {},
   "outputs": [
    {
     "data": {
      "text/plain": [
       "NULL    1772772\n",
       "new       20838\n",
       "Name: new_arrival, dtype: int64"
      ]
     },
     "execution_count": 40,
     "metadata": {},
     "output_type": "execute_result"
    }
   ],
   "source": [
    "attr['new_arrival'].value_counts()"
   ]
  },
  {
   "cell_type": "code",
   "execution_count": 41,
   "metadata": {},
   "outputs": [
    {
     "data": {
      "text/plain": [
       "(199035, 2, 6)"
      ]
     },
     "execution_count": 41,
     "metadata": {},
     "output_type": "execute_result"
    }
   ],
   "source": [
    "attr['actv_web_cat_ids'].nunique(), attr['pwp_ind'].nunique(), attr['deal'].nunique()"
   ]
  },
  {
   "cell_type": "code",
   "execution_count": 42,
   "metadata": {},
   "outputs": [
    {
     "data": {
      "text/plain": [
       "array(['NULL', 'NULL',\n",
       "       '30076,30088,31746,32738,32963,34899,48192,51576,54698,66190,68371,70054,70978,71749,72640,73821,75517,75970,75974,76000,77138,77184,77471,77517,77804,77850,77951,79241,79245,87642,120059,127242,127244,169742,172846,172847,172849,172851,183582'],\n",
       "      dtype=object)"
      ]
     },
     "execution_count": 42,
     "metadata": {},
     "output_type": "execute_result"
    }
   ],
   "source": [
    "attr['actv_web_cat_ids'].values[:3]"
   ]
  },
  {
   "cell_type": "code",
   "execution_count": 43,
   "metadata": {},
   "outputs": [
    {
     "data": {
      "text/plain": [
       "regular            1129898\n",
       "regular price       241779\n",
       "markdown            157599\n",
       "specials            154615\n",
       "sale                 99009\n",
       "advertised sale      10710\n",
       "Name: deal, dtype: int64"
      ]
     },
     "execution_count": 43,
     "metadata": {},
     "output_type": "execute_result"
    }
   ],
   "source": [
    "attr['deal'].value_counts()"
   ]
  },
  {
   "cell_type": "code",
   "execution_count": 44,
   "metadata": {},
   "outputs": [
    {
     "data": {
      "text/plain": [
       "Adult                 824826\n",
       "<null>                690342\n",
       "Adult, Teen           111520\n",
       "Child                  86811\n",
       "Child, Toddler         35031\n",
       "Infant                 28730\n",
       "Toddler                 5435\n",
       "Teen                    2355\n",
       "Adult, Child            1703\n",
       "Adult, Child, Teen      1451\n",
       "Name: age_category, dtype: int64"
      ]
     },
     "execution_count": 44,
     "metadata": {},
     "output_type": "execute_result"
    }
   ],
   "source": [
    "attr['age_category'].value_counts()[:10]"
   ]
  },
  {
   "cell_type": "code",
   "execution_count": 79,
   "metadata": {},
   "outputs": [
    {
     "data": {
      "text/plain": [
       "NULL    1129898\n",
       "0        189682\n",
       "24       153566\n",
       "7        103438\n",
       "3         79317\n",
       "Name: today_price_type_id, dtype: int64"
      ]
     },
     "execution_count": 79,
     "metadata": {},
     "output_type": "execute_result"
    }
   ],
   "source": [
    "attr['today_price_type_id'].value_counts()[:5]"
   ]
  },
  {
   "cell_type": "code",
   "execution_count": 48,
   "metadata": {},
   "outputs": [],
   "source": [
    "#attr['size_attr_name'].value_counts()"
   ]
  },
  {
   "cell_type": "code",
   "execution_count": null,
   "metadata": {},
   "outputs": [],
   "source": [
    "#viz.display_recom_panel(attr.query('age_category == \"Adult\"').sample(n=8)['product_id'].values)"
   ]
  },
  {
   "cell_type": "code",
   "execution_count": null,
   "metadata": {},
   "outputs": [],
   "source": [
    "#viz.display_recom_panel(attr.query('age_category == \"Adult, Teen\"').sample(n=8)['product_id'].values)"
   ]
  },
  {
   "cell_type": "code",
   "execution_count": null,
   "metadata": {},
   "outputs": [],
   "source": [
    "#viz.display_recom_panel(attr.query('age_category == \"<null>\"').sample(n=8)['product_id'].values)"
   ]
  },
  {
   "cell_type": "code",
   "execution_count": 45,
   "metadata": {},
   "outputs": [
    {
     "data": {
      "text/plain": [
       "(8949, 21)"
      ]
     },
     "execution_count": 45,
     "metadata": {},
     "output_type": "execute_result"
    }
   ],
   "source": [
    "# mostly null\n",
    "attr['today_retail_price'].nunique(), attr['today_price_type_id'].nunique()"
   ]
  },
  {
   "cell_type": "code",
   "execution_count": null,
   "metadata": {},
   "outputs": [],
   "source": [
    "import itertools"
   ]
  },
  {
   "cell_type": "code",
   "execution_count": null,
   "metadata": {},
   "outputs": [],
   "source": [
    "#%%time\n",
    "#brand_siteprod = list(itertools.product(attr['brand'].values, attr['site_product_type'].values))"
   ]
  },
  {
   "cell_type": "markdown",
   "metadata": {},
   "source": [
    "### Create Combined Columns"
   ]
  },
  {
   "cell_type": "code",
   "execution_count": 46,
   "metadata": {},
   "outputs": [
    {
     "data": {
      "text/plain": [
       "Index(['product_id', 'prod_name', 'today_original_price', 'today_retail_price',\n",
       "       'availability_flag', 'home_category_id', 'gmm_id', 'div_id',\n",
       "       'department_id', 'prod_age_txt', 'new_arrival', 'brand',\n",
       "       'today_price_type_id', 'deal', 'age_category', 'prodtype', 'gender',\n",
       "       'master_product_flag', 'recommend_pdp', 'product_long_description',\n",
       "       'site_product_type', 'size_attr_name', 'actv_web_cat_ids', 'pwp_ind'],\n",
       "      dtype='object')"
      ]
     },
     "execution_count": 46,
     "metadata": {},
     "output_type": "execute_result"
    }
   ],
   "source": [
    "attr.columns"
   ]
  },
  {
   "cell_type": "code",
   "execution_count": 72,
   "metadata": {},
   "outputs": [],
   "source": [
    "maybe_use_later = ['prod_name', 'today_original_price', 'today_retail_price',\n",
    "                   'availability_flag','prod_age_txt', 'new_arrival','today_price_type_id',\n",
    "                   'master_product_flag', 'recommend_pdp', 'product_long_description',\n",
    "                  'actv_web_cat_ids', 'pwp_ind']\n",
    "\n",
    "others = ['prodtype']\n",
    "\n",
    "to_permute = [ 'home_category_id', 'gmm_id', 'div_id','department_id', 'brand','deal', \n",
    "              'age_category', 'gender','site_product_type', 'size_attr_name',]\n",
    "\n",
    "to_permute34 = [ 'home_category_id', 'brand','deal', 'age_category', 'gender','site_product_type']"
   ]
  },
  {
   "cell_type": "code",
   "execution_count": 65,
   "metadata": {},
   "outputs": [],
   "source": [
    "from itertools import combinations"
   ]
  },
  {
   "cell_type": "code",
   "execution_count": 66,
   "metadata": {},
   "outputs": [
    {
     "name": "stdout",
     "output_type": "stream",
     "text": [
      "[('home_category_id', 'gmm_id'), ('home_category_id', 'div_id'), ('home_category_id', 'department_id'), ('home_category_id', 'brand'), ('home_category_id', 'deal'), ('home_category_id', 'age_category'), ('home_category_id', 'gender'), ('home_category_id', 'site_product_type'), ('home_category_id', 'size_attr_name'), ('gmm_id', 'div_id')]\n"
     ]
    }
   ],
   "source": [
    "comb2 = list(combinations(to_permute,2))\n",
    "print(comb2[:10])"
   ]
  },
  {
   "cell_type": "code",
   "execution_count": 73,
   "metadata": {},
   "outputs": [
    {
     "name": "stdout",
     "output_type": "stream",
     "text": [
      "[('home_category_id', 'brand', 'deal'), ('home_category_id', 'brand', 'age_category'), ('home_category_id', 'brand', 'gender'), ('home_category_id', 'brand', 'site_product_type'), ('home_category_id', 'deal', 'age_category'), ('home_category_id', 'deal', 'gender'), ('home_category_id', 'deal', 'site_product_type'), ('home_category_id', 'age_category', 'gender'), ('home_category_id', 'age_category', 'site_product_type'), ('home_category_id', 'gender', 'site_product_type')]\n"
     ]
    }
   ],
   "source": [
    "comb3 = list(combinations(to_permute34,3))\n",
    "print(comb3[:10])"
   ]
  },
  {
   "cell_type": "code",
   "execution_count": 74,
   "metadata": {},
   "outputs": [
    {
     "name": "stdout",
     "output_type": "stream",
     "text": [
      "[('home_category_id', 'brand', 'deal', 'age_category'), ('home_category_id', 'brand', 'deal', 'gender'), ('home_category_id', 'brand', 'deal', 'site_product_type'), ('home_category_id', 'brand', 'age_category', 'gender'), ('home_category_id', 'brand', 'age_category', 'site_product_type'), ('home_category_id', 'brand', 'gender', 'site_product_type'), ('home_category_id', 'deal', 'age_category', 'gender'), ('home_category_id', 'deal', 'age_category', 'site_product_type'), ('home_category_id', 'deal', 'gender', 'site_product_type'), ('home_category_id', 'age_category', 'gender', 'site_product_type')]\n"
     ]
    }
   ],
   "source": [
    "comb4 = list(combinations(to_permute34,4))\n",
    "print(comb4[:10])"
   ]
  },
  {
   "cell_type": "markdown",
   "metadata": {},
   "source": [
    "### Pick the ones that seem like they'd be the most interesting / informative"
   ]
  },
  {
   "cell_type": "code",
   "execution_count": 75,
   "metadata": {},
   "outputs": [
    {
     "name": "stdout",
     "output_type": "stream",
     "text": [
      "[('home_category_id', 'brand', 'deal'), ('home_category_id', 'brand', 'age_category'), ('home_category_id', 'brand', 'gender'), ('home_category_id', 'brand', 'site_product_type'), ('home_category_id', 'deal', 'age_category'), ('home_category_id', 'deal', 'gender'), ('home_category_id', 'deal', 'site_product_type'), ('home_category_id', 'age_category', 'gender'), ('home_category_id', 'age_category', 'site_product_type'), ('home_category_id', 'gender', 'site_product_type'), ('brand', 'deal', 'age_category'), ('brand', 'deal', 'gender'), ('brand', 'deal', 'site_product_type'), ('brand', 'age_category', 'gender'), ('brand', 'age_category', 'site_product_type'), ('brand', 'gender', 'site_product_type'), ('deal', 'age_category', 'gender'), ('deal', 'age_category', 'site_product_type'), ('deal', 'gender', 'site_product_type'), ('age_category', 'gender', 'site_product_type')]\n"
     ]
    }
   ],
   "source": [
    "print(comb3)"
   ]
  },
  {
   "cell_type": "code",
   "execution_count": 70,
   "metadata": {},
   "outputs": [],
   "source": [
    "cool2 = [('home_category_id', 'brand'), ('home_category_id', 'deal'), ('home_category_id', 'age_category'), \n",
    "         ('home_category_id', 'gender'), ('gmm_id', 'brand'), ('gmm_id', 'deal'), ('gmm_id', 'age_category'), \n",
    "         ('gmm_id', 'gender'), ('gmm_id', 'size_attr_name'), ('div_id', 'brand'), ('div_id', 'deal'), \n",
    "         ('div_id', 'age_category'), ('div_id', 'gender'), ('div_id', 'site_product_type'), \n",
    "         ('department_id', 'brand'), ('department_id', 'deal'), ('department_id', 'age_category'), \n",
    "         ('department_id', 'gender'), ('department_id', 'site_product_type'), ('brand', 'deal'), \n",
    "         ('brand', 'age_category'), ('brand', 'gender'), ('brand', 'site_product_type'), \n",
    "         ('brand', 'size_attr_name'), ('deal', 'age_category'), ('deal', 'gender'), ('deal', 'site_product_type'), \n",
    "         ('deal', 'size_attr_name'), ('age_category', 'gender'), ('age_category', 'site_product_type'), \n",
    "         ('gender', 'site_product_type'), ('gender', 'size_attr_name'), ('site_product_type', 'size_attr_name')]\n",
    "\n",
    "c2 =     [('home_category_id', 'brand'), ('home_category_id', 'deal'), ('brand', 'deal'), \n",
    "         ('brand', 'age_category'), ('brand', 'gender'), ('deal', 'age_category'), ('deal', 'gender'), \n",
    "          ('deal', 'site_product_type'), ('deal', 'size_attr_name'), ('age_category', 'site_product_type')]"
   ]
  },
  {
   "cell_type": "code",
   "execution_count": 76,
   "metadata": {},
   "outputs": [],
   "source": [
    "c3 = [('home_category_id', 'brand', 'deal'), \n",
    "      ('home_category_id', 'brand', 'age_category'), \n",
    "      ('home_category_id', 'brand', 'gender'), \n",
    "      ('home_category_id', 'brand', 'site_product_type'), \n",
    "      ('home_category_id', 'deal', 'age_category'), \n",
    "      ('home_category_id', 'deal', 'gender'), \n",
    "      ('home_category_id', 'deal', 'site_product_type'), \n",
    "      ('home_category_id', 'age_category', 'site_product_type'), \n",
    "      ('home_category_id', 'gender', 'site_product_type'), \n",
    "      ('brand', 'deal', 'age_category'), \n",
    "      ('brand', 'deal', 'gender'), \n",
    "      ('brand', 'deal', 'site_product_type'), \n",
    "      ('brand', 'age_category', 'gender'), \n",
    "      ('brand', 'age_category', 'site_product_type'), \n",
    "      ('brand', 'gender', 'site_product_type'), \n",
    "      ('deal', 'age_category', 'gender'), \n",
    "      ('deal', 'age_category', 'site_product_type'), \n",
    "      ('deal', 'gender', 'site_product_type'), \n",
    "      ('age_category', 'gender', 'site_product_type')]"
   ]
  },
  {
   "cell_type": "markdown",
   "metadata": {},
   "source": [
    "### Now creating new columns"
   ]
  },
  {
   "cell_type": "code",
   "execution_count": 119,
   "metadata": {},
   "outputs": [
    {
     "data": {
      "text/plain": [
       "Index(['product_id', 'prod_name', 'today_original_price', 'today_retail_price',\n",
       "       'availability_flag', 'home_category_id', 'gmm_id', 'div_id',\n",
       "       'department_id', 'prod_age_txt', 'new_arrival', 'brand',\n",
       "       'today_price_type_id', 'deal', 'age_category', 'prodtype', 'gender',\n",
       "       'master_product_flag', 'recommend_pdp', 'product_long_description',\n",
       "       'site_product_type', 'size_attr_name', 'actv_web_cat_ids', 'pwp_ind'],\n",
       "      dtype='object')"
      ]
     },
     "execution_count": 119,
     "metadata": {},
     "output_type": "execute_result"
    }
   ],
   "source": [
    "attr.columns"
   ]
  },
  {
   "cell_type": "code",
   "execution_count": 120,
   "metadata": {},
   "outputs": [
    {
     "data": {
      "text/plain": [
       "130"
      ]
     },
     "execution_count": 120,
     "metadata": {},
     "output_type": "execute_result"
    }
   ],
   "source": [
    "attrsave = attr[['product_id', 'prod_name', 'home_category_id', 'gmm_id', 'div_id', \n",
    "                 'department_id', 'brand', 'deal', 'age_category', 'gender',\n",
    "                 'product_long_description', 'site_product_type', 'size_attr_name']]\n",
    "gc.collect()"
   ]
  },
  {
   "cell_type": "code",
   "execution_count": 121,
   "metadata": {},
   "outputs": [
    {
     "data": {
      "text/plain": [
       "(1793610, 13)"
      ]
     },
     "execution_count": 121,
     "metadata": {},
     "output_type": "execute_result"
    }
   ],
   "source": [
    "attrsave.shape"
   ]
  },
  {
   "cell_type": "code",
   "execution_count": 122,
   "metadata": {},
   "outputs": [
    {
     "data": {
      "text/plain": [
       "'home_category_id___brand'"
      ]
     },
     "execution_count": 122,
     "metadata": {},
     "output_type": "execute_result"
    }
   ],
   "source": [
    "\"___\".join(map(str,c2[0]))"
   ]
  },
  {
   "cell_type": "code",
   "execution_count": 113,
   "metadata": {},
   "outputs": [
    {
     "data": {
      "text/plain": [
       "(0, 1, 2, 3, 4, 5, 6, 7, 8, 9)"
      ]
     },
     "execution_count": 113,
     "metadata": {},
     "output_type": "execute_result"
    }
   ],
   "source": [
    "tuple([x for x in range(10)])"
   ]
  },
  {
   "cell_type": "code",
   "execution_count": 114,
   "metadata": {},
   "outputs": [],
   "source": [
    "#list(zip(*[attrsave['home_category_id'],attrsave['brand']]))"
   ]
  },
  {
   "cell_type": "code",
   "execution_count": 123,
   "metadata": {},
   "outputs": [
    {
     "name": "stdout",
     "output_type": "stream",
     "text": [
      "('home_category_id', 'brand')\n",
      "joined:  home_category_id___brand\n"
     ]
    },
    {
     "name": "stderr",
     "output_type": "stream",
     "text": [
      "/opt/conda/lib/python3.6/site-packages/ipykernel_launcher.py:4: SettingWithCopyWarning: \n",
      "A value is trying to be set on a copy of a slice from a DataFrame.\n",
      "Try using .loc[row_indexer,col_indexer] = value instead\n",
      "\n",
      "See the caveats in the documentation: http://pandas.pydata.org/pandas-docs/stable/indexing.html#indexing-view-versus-copy\n",
      "  after removing the cwd from sys.path.\n"
     ]
    },
    {
     "name": "stdout",
     "output_type": "stream",
     "text": [
      "('home_category_id', 'deal')\n",
      "joined:  home_category_id___deal\n",
      "('brand', 'deal')\n",
      "joined:  brand___deal\n",
      "('brand', 'age_category')\n",
      "joined:  brand___age_category\n",
      "('brand', 'gender')\n",
      "joined:  brand___gender\n",
      "('deal', 'age_category')\n",
      "joined:  deal___age_category\n",
      "('deal', 'gender')\n",
      "joined:  deal___gender\n",
      "('deal', 'site_product_type')\n",
      "joined:  deal___site_product_type\n",
      "('deal', 'size_attr_name')\n",
      "joined:  deal___size_attr_name\n",
      "('age_category', 'site_product_type')\n",
      "joined:  age_category___site_product_type\n",
      "('home_category_id', 'brand', 'deal')\n",
      "joined:  home_category_id___brand___deal\n",
      "('home_category_id', 'brand', 'age_category')\n",
      "joined:  home_category_id___brand___age_category\n",
      "('home_category_id', 'brand', 'gender')\n",
      "joined:  home_category_id___brand___gender\n",
      "('home_category_id', 'brand', 'site_product_type')\n",
      "joined:  home_category_id___brand___site_product_type\n",
      "('home_category_id', 'deal', 'age_category')\n",
      "joined:  home_category_id___deal___age_category\n",
      "('home_category_id', 'deal', 'gender')\n",
      "joined:  home_category_id___deal___gender\n",
      "('home_category_id', 'deal', 'site_product_type')\n",
      "joined:  home_category_id___deal___site_product_type\n",
      "('home_category_id', 'age_category', 'site_product_type')\n",
      "joined:  home_category_id___age_category___site_product_type\n",
      "('home_category_id', 'gender', 'site_product_type')\n",
      "joined:  home_category_id___gender___site_product_type\n",
      "('brand', 'deal', 'age_category')\n",
      "joined:  brand___deal___age_category\n",
      "('brand', 'deal', 'gender')\n",
      "joined:  brand___deal___gender\n",
      "('brand', 'deal', 'site_product_type')\n",
      "joined:  brand___deal___site_product_type\n",
      "('brand', 'age_category', 'gender')\n",
      "joined:  brand___age_category___gender\n",
      "('brand', 'age_category', 'site_product_type')\n",
      "joined:  brand___age_category___site_product_type\n",
      "('brand', 'gender', 'site_product_type')\n",
      "joined:  brand___gender___site_product_type\n",
      "('deal', 'age_category', 'gender')\n",
      "joined:  deal___age_category___gender\n",
      "('deal', 'age_category', 'site_product_type')\n",
      "joined:  deal___age_category___site_product_type\n",
      "('deal', 'gender', 'site_product_type')\n",
      "joined:  deal___gender___site_product_type\n",
      "('age_category', 'gender', 'site_product_type')\n",
      "joined:  age_category___gender___site_product_type\n"
     ]
    }
   ],
   "source": [
    "for tup in c2:\n",
    "    print(tup)\n",
    "    print(\"joined: \",\"___\".join(map(str,tup)))\n",
    "    attrsave[\"___\".join(map(str,tup))] = list(zip(*[attrsave[x] for x in tup]))\n",
    "    \n",
    "for tup in c3:\n",
    "    print(tup)\n",
    "    print(\"joined: \",\"___\".join(map(str,tup)))\n",
    "    attrsave[\"___\".join(map(str,tup))] = list(zip(*[attrsave[x] for x in tup]))"
   ]
  },
  {
   "cell_type": "code",
   "execution_count": 132,
   "metadata": {},
   "outputs": [
    {
     "data": {
      "text/plain": [
       "Index(['product_id', 'prod_name', 'home_category_id', 'gmm_id', 'div_id',\n",
       "       'department_id', 'brand', 'deal', 'age_category', 'gender',\n",
       "       'product_long_description', 'site_product_type', 'size_attr_name',\n",
       "       'home_category_id___brand', 'home_category_id___deal', 'brand___deal',\n",
       "       'brand___age_category', 'brand___gender', 'deal___age_category',\n",
       "       'deal___gender', 'deal___site_product_type', 'deal___size_attr_name',\n",
       "       'age_category___site_product_type', 'home_category_id___brand___deal',\n",
       "       'home_category_id___brand___age_category',\n",
       "       'home_category_id___brand___gender',\n",
       "       'home_category_id___brand___site_product_type',\n",
       "       'home_category_id___deal___age_category',\n",
       "       'home_category_id___deal___gender',\n",
       "       'home_category_id___deal___site_product_type',\n",
       "       'home_category_id___age_category___site_product_type',\n",
       "       'home_category_id___gender___site_product_type',\n",
       "       'brand___deal___age_category', 'brand___deal___gender',\n",
       "       'brand___deal___site_product_type', 'brand___age_category___gender',\n",
       "       'brand___age_category___site_product_type',\n",
       "       'brand___gender___site_product_type', 'deal___age_category___gender',\n",
       "       'deal___age_category___site_product_type',\n",
       "       'deal___gender___site_product_type',\n",
       "       'age_category___gender___site_product_type'],\n",
       "      dtype='object')"
      ]
     },
     "execution_count": 132,
     "metadata": {},
     "output_type": "execute_result"
    }
   ],
   "source": [
    "attrsave.columns"
   ]
  },
  {
   "cell_type": "code",
   "execution_count": 125,
   "metadata": {},
   "outputs": [
    {
     "name": "stdout",
     "output_type": "stream",
     "text": [
      "(1793610, 42)\n"
     ]
    },
    {
     "data": {
      "text/html": [
       "<div>\n",
       "<style scoped>\n",
       "    .dataframe tbody tr th:only-of-type {\n",
       "        vertical-align: middle;\n",
       "    }\n",
       "\n",
       "    .dataframe tbody tr th {\n",
       "        vertical-align: top;\n",
       "    }\n",
       "\n",
       "    .dataframe thead th {\n",
       "        text-align: right;\n",
       "    }\n",
       "</style>\n",
       "<table border=\"1\" class=\"dataframe\">\n",
       "  <thead>\n",
       "    <tr style=\"text-align: right;\">\n",
       "      <th></th>\n",
       "      <th>product_id</th>\n",
       "      <th>prod_name</th>\n",
       "      <th>home_category_id</th>\n",
       "      <th>gmm_id</th>\n",
       "      <th>div_id</th>\n",
       "      <th>department_id</th>\n",
       "      <th>brand</th>\n",
       "      <th>deal</th>\n",
       "      <th>age_category</th>\n",
       "      <th>gender</th>\n",
       "      <th>...</th>\n",
       "      <th>brand___deal___age_category</th>\n",
       "      <th>brand___deal___gender</th>\n",
       "      <th>brand___deal___site_product_type</th>\n",
       "      <th>brand___age_category___gender</th>\n",
       "      <th>brand___age_category___site_product_type</th>\n",
       "      <th>brand___gender___site_product_type</th>\n",
       "      <th>deal___age_category___gender</th>\n",
       "      <th>deal___age_category___site_product_type</th>\n",
       "      <th>deal___gender___site_product_type</th>\n",
       "      <th>age_category___gender___site_product_type</th>\n",
       "    </tr>\n",
       "  </thead>\n",
       "  <tbody>\n",
       "    <tr>\n",
       "      <th>0</th>\n",
       "      <td>6</td>\n",
       "      <td>DRAFT - ETN W/CHALLIS BTM NO</td>\n",
       "      <td>18109</td>\n",
       "      <td>2</td>\n",
       "      <td>11</td>\n",
       "      <td>226</td>\n",
       "      <td>Macys</td>\n",
       "      <td>regular</td>\n",
       "      <td>&lt;null&gt;</td>\n",
       "      <td>&lt;null&gt;</td>\n",
       "      <td>...</td>\n",
       "      <td>(Macys, regular, &lt;null&gt;)</td>\n",
       "      <td>(Macys, regular, &lt;null&gt;)</td>\n",
       "      <td>(Macys, regular, DRESS)</td>\n",
       "      <td>(Macys, &lt;null&gt;, &lt;null&gt;)</td>\n",
       "      <td>(Macys, &lt;null&gt;, DRESS)</td>\n",
       "      <td>(Macys, &lt;null&gt;, DRESS)</td>\n",
       "      <td>(regular, &lt;null&gt;, &lt;null&gt;)</td>\n",
       "      <td>(regular, &lt;null&gt;, DRESS)</td>\n",
       "      <td>(regular, &lt;null&gt;, DRESS)</td>\n",
       "      <td>(&lt;null&gt;, &lt;null&gt;, DRESS)</td>\n",
       "    </tr>\n",
       "    <tr>\n",
       "      <th>1</th>\n",
       "      <td>39</td>\n",
       "      <td>DRAFT - EuroPro Shark Super Garment Steamer</td>\n",
       "      <td>23487</td>\n",
       "      <td>47</td>\n",
       "      <td>85</td>\n",
       "      <td>693</td>\n",
       "      <td>Macys</td>\n",
       "      <td>regular</td>\n",
       "      <td>&lt;null&gt;</td>\n",
       "      <td>&lt;null&gt;</td>\n",
       "      <td>...</td>\n",
       "      <td>(Macys, regular, &lt;null&gt;)</td>\n",
       "      <td>(Macys, regular, &lt;null&gt;)</td>\n",
       "      <td>(Macys, regular, PERSONAL_CARE)</td>\n",
       "      <td>(Macys, &lt;null&gt;, &lt;null&gt;)</td>\n",
       "      <td>(Macys, &lt;null&gt;, PERSONAL_CARE)</td>\n",
       "      <td>(Macys, &lt;null&gt;, PERSONAL_CARE)</td>\n",
       "      <td>(regular, &lt;null&gt;, &lt;null&gt;)</td>\n",
       "      <td>(regular, &lt;null&gt;, PERSONAL_CARE)</td>\n",
       "      <td>(regular, &lt;null&gt;, PERSONAL_CARE)</td>\n",
       "      <td>(&lt;null&gt;, &lt;null&gt;, PERSONAL_CARE)</td>\n",
       "    </tr>\n",
       "    <tr>\n",
       "      <th>2</th>\n",
       "      <td>45</td>\n",
       "      <td>Ralph Lauren Men's Polo Eau de Toilette Spray,...</td>\n",
       "      <td>30088</td>\n",
       "      <td>4</td>\n",
       "      <td>38</td>\n",
       "      <td>349</td>\n",
       "      <td>Ralph Lauren</td>\n",
       "      <td>regular price</td>\n",
       "      <td>Adult</td>\n",
       "      <td>Men</td>\n",
       "      <td>...</td>\n",
       "      <td>(Ralph Lauren, regular price, Adult)</td>\n",
       "      <td>(Ralph Lauren, regular price, Men)</td>\n",
       "      <td>(Ralph Lauren, regular price, FRAGRANCE)</td>\n",
       "      <td>(Ralph Lauren, Adult, Men)</td>\n",
       "      <td>(Ralph Lauren, Adult, FRAGRANCE)</td>\n",
       "      <td>(Ralph Lauren, Men, FRAGRANCE)</td>\n",
       "      <td>(regular price, Adult, Men)</td>\n",
       "      <td>(regular price, Adult, FRAGRANCE)</td>\n",
       "      <td>(regular price, Men, FRAGRANCE)</td>\n",
       "      <td>(Adult, Men, FRAGRANCE)</td>\n",
       "    </tr>\n",
       "  </tbody>\n",
       "</table>\n",
       "<p>3 rows × 42 columns</p>\n",
       "</div>"
      ],
      "text/plain": [
       "  product_id                                          prod_name  \\\n",
       "0          6                       DRAFT - ETN W/CHALLIS BTM NO   \n",
       "1         39        DRAFT - EuroPro Shark Super Garment Steamer   \n",
       "2         45  Ralph Lauren Men's Polo Eau de Toilette Spray,...   \n",
       "\n",
       "  home_category_id gmm_id div_id department_id         brand           deal  \\\n",
       "0            18109      2     11           226         Macys        regular   \n",
       "1            23487     47     85           693         Macys        regular   \n",
       "2            30088      4     38           349  Ralph Lauren  regular price   \n",
       "\n",
       "  age_category  gender                    ...                     \\\n",
       "0       <null>  <null>                    ...                      \n",
       "1       <null>  <null>                    ...                      \n",
       "2        Adult     Men                    ...                      \n",
       "\n",
       "            brand___deal___age_category               brand___deal___gender  \\\n",
       "0              (Macys, regular, <null>)            (Macys, regular, <null>)   \n",
       "1              (Macys, regular, <null>)            (Macys, regular, <null>)   \n",
       "2  (Ralph Lauren, regular price, Adult)  (Ralph Lauren, regular price, Men)   \n",
       "\n",
       "           brand___deal___site_product_type brand___age_category___gender  \\\n",
       "0                   (Macys, regular, DRESS)       (Macys, <null>, <null>)   \n",
       "1           (Macys, regular, PERSONAL_CARE)       (Macys, <null>, <null>)   \n",
       "2  (Ralph Lauren, regular price, FRAGRANCE)    (Ralph Lauren, Adult, Men)   \n",
       "\n",
       "  brand___age_category___site_product_type brand___gender___site_product_type  \\\n",
       "0                   (Macys, <null>, DRESS)             (Macys, <null>, DRESS)   \n",
       "1           (Macys, <null>, PERSONAL_CARE)     (Macys, <null>, PERSONAL_CARE)   \n",
       "2         (Ralph Lauren, Adult, FRAGRANCE)     (Ralph Lauren, Men, FRAGRANCE)   \n",
       "\n",
       "  deal___age_category___gender deal___age_category___site_product_type  \\\n",
       "0    (regular, <null>, <null>)                (regular, <null>, DRESS)   \n",
       "1    (regular, <null>, <null>)        (regular, <null>, PERSONAL_CARE)   \n",
       "2  (regular price, Adult, Men)       (regular price, Adult, FRAGRANCE)   \n",
       "\n",
       "  deal___gender___site_product_type age_category___gender___site_product_type  \n",
       "0          (regular, <null>, DRESS)                   (<null>, <null>, DRESS)  \n",
       "1  (regular, <null>, PERSONAL_CARE)           (<null>, <null>, PERSONAL_CARE)  \n",
       "2   (regular price, Men, FRAGRANCE)                   (Adult, Men, FRAGRANCE)  \n",
       "\n",
       "[3 rows x 42 columns]"
      ]
     },
     "execution_count": 125,
     "metadata": {},
     "output_type": "execute_result"
    }
   ],
   "source": [
    "print(attrsave.shape)\n",
    "attrsave.head(3)"
   ]
  },
  {
   "cell_type": "code",
   "execution_count": 128,
   "metadata": {},
   "outputs": [
    {
     "name": "stdout",
     "output_type": "stream",
     "text": [
      "product_id:\n",
      "7635945    1\n",
      "2832391    1\n",
      "1294347    1\n",
      "2278947    1\n",
      "486318     1\n",
      "Name: product_id, dtype: int64\n",
      "\n",
      "prod_name:\n",
      "DRAFT - DELETE                                    1115\n",
      "DRAFT - Delete                                     705\n",
      "DRAFT - product for sanity DWMSM                   629\n",
      "DRAFT - delete                                     620\n",
      "DRAFT - Lucky Brand Women's Emmie Ballet Flats     429\n",
      "Name: prod_name, dtype: int64\n",
      "\n",
      "home_category_id:\n",
      "65701     195985\n",
      "55979      93309\n",
      "55285      76807\n",
      "190362     70640\n",
      "22672      66485\n",
      "Name: home_category_id, dtype: int64\n",
      "\n",
      "gmm_id:\n",
      "47    476983\n",
      "2     340334\n",
      "91    328329\n",
      "5     310678\n",
      "1     288909\n",
      "Name: gmm_id, dtype: int64\n",
      "\n",
      "div_id:\n",
      "67    323985\n",
      "82    262406\n",
      "81    100450\n",
      "6      79432\n",
      "79     60256\n",
      "Name: div_id, dtype: int64\n",
      "\n",
      "department_id:\n",
      "912    220888\n",
      "699    220035\n",
      "911     54979\n",
      "868     25228\n",
      "61      20440\n",
      "Name: department_id, dtype: int64\n",
      "\n",
      "brand:\n",
      "Macys                  243623\n",
      "Trademark Global        80399\n",
      "Nike                    54696\n",
      "New Era                 54185\n",
      "Lauren Ralph Lauren     33774\n",
      "Name: brand, dtype: int64\n",
      "\n",
      "deal:\n",
      "regular          1129898\n",
      "regular price     241779\n",
      "markdown          157599\n",
      "specials          154615\n",
      "sale               99009\n",
      "Name: deal, dtype: int64\n",
      "\n",
      "age_category:\n",
      "Adult             824826\n",
      "<null>            690342\n",
      "Adult, Teen       111520\n",
      "Child              86811\n",
      "Child, Toddler     35031\n",
      "Name: age_category, dtype: int64\n",
      "\n",
      "gender:\n",
      "<null>    683268\n",
      "Women     619834\n",
      "Men       319204\n",
      "Boys       81072\n",
      "Girls      67098\n",
      "Name: gender, dtype: int64\n",
      "\n",
      "product_long_description:\n",
      "NULL                                                                                                                                                                                                                                                                                                                                                          243267\n",
      "Great art deserves to be on canvas. Unlike cheap posters and paper prints that require additional framing, giclee canvas artwork offers the texture, look and feel of fine-art paintings. This artwork is crafted in the usa with artist-grade canvas, professionally hand-stretched and stapled over north american pine-wood bars in gallery wrap style.      3674\n",
      "This ready to hang, matted framed art piece features a colorful painting of a dog. Art and animals these two passions define Dean a Brooklyn based artist who uses vibrant Pop Art colors and bold abstract patterns to give a voice to his favorite subject - animals.                                                                                         2424\n",
      "This ready to hang piece in a gold ornate frame features a coloring book image of a basket of flowers. Krisa Bousquet, based in San Antonio, TX, the creator of KCDoodleArt, began her drawings as a simple way to pass the time. It quickly grew from hobby to obsession as her art grew more complex, detailed, and refined.                                  2159\n",
      "This ready to hang, gallery-wrapped art piece features a coloring book image of a collection of spiral flowers. Krisa Bousquet, based in San Antonio, TX, the creator of KCDoodleArt, began her drawings as a simple way to pass the time. It quickly grew from hobby to obsession as her art grew more complex, detailed, and refined.                         2151\n",
      "Name: product_long_description, dtype: int64\n",
      "\n",
      "site_product_type:\n",
      "TOP         220182\n",
      "ART         195389\n",
      "HAT         109268\n",
      "DRESS       102032\n",
      "AREA_RUG     56230\n",
      "Name: site_product_type, dtype: int64\n",
      "\n",
      "size_attr_name:\n",
      "NULL                                      1549955\n",
      "WOMEN_REGULAR_SIZE_T                        40966\n",
      "CAP_SIZE_T                                  35116\n",
      "MEN_REGULAR_SIZE_T|MEN_BIG_TALL_SIZE_T      31746\n",
      "BED_SIZE_T                                  12563\n",
      "Name: size_attr_name, dtype: int64\n",
      "\n",
      "home_category_id___brand:\n",
      "(55979, Trademark Global)    65452\n",
      "(190362, Macys)              56664\n",
      "(65701, New Era)             52918\n",
      "(65701, Nike)                32669\n",
      "(22672, Metaverse)           21621\n",
      "Name: home_category_id___brand, dtype: int64\n",
      "\n",
      "home_category_id___deal:\n",
      "(65701, regular)     121343\n",
      "(55979, specials)     80105\n",
      "(55285, regular)      63931\n",
      "(190362, regular)     56707\n",
      "(255, regular)        55661\n",
      "Name: home_category_id___deal, dtype: int64\n",
      "\n",
      "brand___deal:\n",
      "(Macys, regular)                  243582\n",
      "(Trademark Global, specials)       72505\n",
      "(New Era, regular)                 32160\n",
      "(Lauren Ralph Lauren, regular)     29093\n",
      "(Nike, regular)                    27285\n",
      "Name: brand___deal, dtype: int64\n",
      "\n",
      "brand___age_category:\n",
      "(Macys, <null>)               243280\n",
      "(Trademark Global, <null>)     80100\n",
      "(New Era, Adult)               49649\n",
      "(Nike, Adult)                  43876\n",
      "(Metaverse, <null>)            31701\n",
      "Name: brand___age_category, dtype: int64\n",
      "\n",
      "brand___gender:\n",
      "(Macys, <null>)               243268\n",
      "(Trademark Global, <null>)     80399\n",
      "(New Era, Men)                 47765\n",
      "(Nike, Men)                    34175\n",
      "(Metaverse, <null>)            31701\n",
      "Name: brand___gender, dtype: int64\n",
      "\n",
      "deal___age_category:\n",
      "(regular, Adult)           583322\n",
      "(regular, <null>)          332189\n",
      "(specials, <null>)         136538\n",
      "(regular price, <null>)    119394\n",
      "(markdown, Adult)          114780\n",
      "Name: deal___age_category, dtype: int64\n",
      "\n",
      "deal___gender:\n",
      "(regular, Women)           474386\n",
      "(regular, <null>)          318239\n",
      "(regular, Men)             208302\n",
      "(specials, <null>)         137824\n",
      "(regular price, <null>)    123888\n",
      "Name: deal___gender, dtype: int64\n",
      "\n",
      "deal___site_product_type:\n",
      "(regular, TOP)      160680\n",
      "(specials, ART)     116063\n",
      "(regular, DRESS)     85266\n",
      "(regular, HAT)       73627\n",
      "(regular, ART)       58142\n",
      "Name: deal___site_product_type, dtype: int64\n",
      "\n",
      "deal___size_attr_name:\n",
      "(regular, NULL)          1129897\n",
      "(regular price, NULL)     158237\n",
      "(specials, NULL)          140048\n",
      "(sale, NULL)               79280\n",
      "(markdown, NULL)           32704\n",
      "Name: deal___size_attr_name, dtype: int64\n",
      "\n",
      "age_category___site_product_type:\n",
      "(<null>, ART)         194175\n",
      "(Adult, TOP)          160570\n",
      "(Adult, HAT)           90344\n",
      "(Adult, DRESS)         67049\n",
      "(<null>, AREA_RUG)     56230\n",
      "Name: age_category___site_product_type, dtype: int64\n",
      "\n",
      "home_category_id___brand___deal:\n",
      "(55979, Trademark Global, specials)    60476\n",
      "(190362, Macys, regular)               56664\n",
      "(65701, New Era, regular)              31400\n",
      "(22672, Metaverse, specials)           19392\n",
      "(16905, Safavieh, regular price)       18784\n",
      "Name: home_category_id___brand___deal, dtype: int64\n",
      "\n",
      "home_category_id___brand___age_category:\n",
      "(55979, Trademark Global, <null>)    65231\n",
      "(190362, Macys, <null>)              56664\n",
      "(65701, New Era, Adult)              48570\n",
      "(65701, Nike, Adult)                 29282\n",
      "(22672, Metaverse, <null>)           21621\n",
      "Name: home_category_id___brand___age_category, dtype: int64\n",
      "\n",
      "home_category_id___brand___gender:\n",
      "(55979, Trademark Global, <null>)    65452\n",
      "(190362, Macys, <null>)              56664\n",
      "(65701, New Era, Men)                47760\n",
      "(65701, Nike, Men)                   28406\n",
      "(22672, Metaverse, <null>)           21621\n",
      "Name: home_category_id___brand___gender, dtype: int64\n",
      "\n",
      "home_category_id___brand___site_product_type:\n",
      "(55979, Trademark Global, ART)    65452\n",
      "(190362, Macys, ART)              56663\n",
      "(65701, New Era, HAT)             52838\n",
      "(65701, Nike, TOP)                23768\n",
      "(22672, Metaverse, ART)           21621\n",
      "Name: home_category_id___brand___site_product_type, dtype: int64\n",
      "\n",
      "home_category_id___deal___age_category:\n",
      "(65701, regular, Adult)      80484\n",
      "(55979, specials, <null>)    79676\n",
      "(190362, regular, <null>)    56707\n",
      "(55285, regular, Adult)      56571\n",
      "(255, regular, Adult)        49467\n",
      "Name: home_category_id___deal___age_category, dtype: int64\n",
      "\n",
      "home_category_id___deal___gender:\n",
      "(55979, specials, <null>)    80105\n",
      "(65701, regular, Men)        76857\n",
      "(55285, regular, Women)      58668\n",
      "(190362, regular, <null>)    56707\n",
      "(255, regular, Women)        50532\n",
      "Name: home_category_id___deal___gender, dtype: int64\n",
      "\n",
      "home_category_id___deal___site_product_type:\n",
      "(55979, specials, ART)    79968\n",
      "(65701, regular, HAT)     67361\n",
      "(190362, regular, ART)    56706\n",
      "(255, regular, TOP)       55139\n",
      "(5449, regular, DRESS)    46487\n",
      "Name: home_category_id___deal___site_product_type, dtype: int64\n",
      "\n",
      "home_category_id___age_category___site_product_type:\n",
      "(55979, <null>, ART)         92693\n",
      "(65701, Adult, HAT)          85499\n",
      "(190362, <null>, ART)        70623\n",
      "(255, Adult, TOP)            56992\n",
      "(16905, <null>, AREA_RUG)    55139\n",
      "Name: home_category_id___age_category___site_product_type, dtype: int64\n",
      "\n",
      "home_category_id___gender___site_product_type:\n"
     ]
    },
    {
     "name": "stdout",
     "output_type": "stream",
     "text": [
      "(55979, <null>, ART)         93159\n",
      "(65701, Men, HAT)            83998\n",
      "(190362, <null>, ART)        70639\n",
      "(255, Women, TOP)            58264\n",
      "(16905, <null>, AREA_RUG)    55139\n",
      "Name: home_category_id___gender___site_product_type, dtype: int64\n",
      "\n",
      "brand___deal___age_category:\n",
      "(Macys, regular, <null>)                 243279\n",
      "(Trademark Global, specials, <null>)      72249\n",
      "(New Era, regular, Adult)                 29411\n",
      "(Lauren Ralph Lauren, regular, Adult)     25962\n",
      "(Metaverse, specials, <null>)             24956\n",
      "Name: brand___deal___age_category, dtype: int64\n",
      "\n",
      "brand___deal___gender:\n",
      "(Macys, regular, <null>)                 243268\n",
      "(Trademark Global, specials, <null>)      72505\n",
      "(New Era, regular, Men)                   28095\n",
      "(Lauren Ralph Lauren, regular, Women)     25150\n",
      "(Metaverse, specials, <null>)             24956\n",
      "Name: brand___deal___gender, dtype: int64\n",
      "\n",
      "brand___deal___site_product_type:\n",
      "(Trademark Global, specials, ART)      72154\n",
      "(Macys, regular, ART)                  56811\n",
      "(New Era, regular, HAT)                32154\n",
      "(Metaverse, specials, ART)             24956\n",
      "(Safavieh, regular price, AREA_RUG)    18784\n",
      "Name: brand___deal___site_product_type, dtype: int64\n",
      "\n",
      "brand___age_category___gender:\n",
      "(Macys, <null>, <null>)               243268\n",
      "(Trademark Global, <null>, <null>)     80100\n",
      "(New Era, Adult, Men)                  47624\n",
      "(Nike, Adult, Men)                     32532\n",
      "(Metaverse, <null>, <null>)            31701\n",
      "Name: brand___age_category___gender, dtype: int64\n",
      "\n",
      "brand___age_category___site_product_type:\n",
      "(Trademark Global, <null>, ART)    79480\n",
      "(Macys, <null>, ART)               56811\n",
      "(New Era, Adult, HAT)              49563\n",
      "(Metaverse, <null>, ART)           31701\n",
      "(Nike, Adult, TOP)                 27278\n",
      "Name: brand___age_category___site_product_type, dtype: int64\n",
      "\n",
      "brand___gender___site_product_type:\n",
      "(Trademark Global, <null>, ART)    79709\n",
      "(Macys, <null>, ART)               56811\n",
      "(New Era, Men, HAT)                47701\n",
      "(Metaverse, <null>, ART)           31701\n",
      "(Nike, Men, TOP)                   20699\n",
      "Name: brand___gender___site_product_type, dtype: int64\n",
      "\n",
      "deal___age_category___gender:\n",
      "(regular, Adult, Women)            419648\n",
      "(regular, <null>, <null>)          307017\n",
      "(regular, Adult, Men)              152224\n",
      "(specials, <null>, <null>)         135998\n",
      "(regular price, <null>, <null>)    108058\n",
      "Name: deal___age_category___gender, dtype: int64\n",
      "\n",
      "deal___age_category___site_product_type:\n",
      "(specials, <null>, ART)    114980\n",
      "(regular, Adult, TOP)      110600\n",
      "(regular, <null>, ART)      58091\n",
      "(regular, Adult, HAT)       57566\n",
      "(regular, Adult, DRESS)     55409\n",
      "Name: deal___age_category___site_product_type, dtype: int64\n",
      "\n",
      "deal___gender___site_product_type:\n",
      "(specials, <null>, ART)    116063\n",
      "(regular, Women, TOP)       98116\n",
      "(regular, Women, DRESS)     64578\n",
      "(regular, <null>, ART)      58060\n",
      "(regular, Men, HAT)         55345\n",
      "Name: deal___gender___site_product_type, dtype: int64\n",
      "\n",
      "age_category___gender___site_product_type:\n",
      "(<null>, <null>, ART)         194089\n",
      "(Adult, Women, TOP)           117630\n",
      "(Adult, Men, HAT)              84724\n",
      "(Adult, Women, DRESS)          67005\n",
      "(<null>, <null>, AREA_RUG)     56229\n",
      "Name: age_category___gender___site_product_type, dtype: int64\n",
      "\n"
     ]
    }
   ],
   "source": [
    "for col in attrsave.columns:\n",
    "    print(\"{}:\".format(col))\n",
    "    print(attrsave[col].value_counts()[:5])\n",
    "    print()"
   ]
  },
  {
   "cell_type": "code",
   "execution_count": 129,
   "metadata": {},
   "outputs": [
    {
     "name": "stdout",
     "output_type": "stream",
     "text": [
      "CPU times: user 1min 30s, sys: 3.58 s, total: 1min 34s\n",
      "Wall time: 1min 36s\n"
     ]
    }
   ],
   "source": [
    "%%time\n",
    "attrsave.to_csv('/home/jovyan/data/yh09262/prod/20190329_60/Mar292019_attrsave_c2c3.csv')"
   ]
  },
  {
   "cell_type": "code",
   "execution_count": 130,
   "metadata": {},
   "outputs": [
    {
     "name": "stdout",
     "output_type": "stream",
     "text": [
      "/home/jovyan/data/yh09262/prod/20190329_60/Mar292019_attr_multi.csv\r\n",
      "/home/jovyan/data/yh09262/prod/20190329_60/Mar292019_attrsave_c2c3.csv\r\n",
      "/home/jovyan/data/yh09262/prod/20190329_60/Mar292019_develop_atb.csv\r\n",
      "/home/jovyan/data/yh09262/prod/20190329_60/Mar292019_develop_productattribute.csv\r\n",
      "/home/jovyan/data/yh09262/prod/20190329_60/Mar292019_develop_purchase.csv\r\n",
      "/home/jovyan/data/yh09262/prod/20190329_60/Mar292019_develop_user_mapping.csv\r\n",
      "/home/jovyan/data/yh09262/prod/20190329_60/Mar292019_develop_view.csv\r\n"
     ]
    }
   ],
   "source": [
    "!ls /home/jovyan/data/yh09262/prod/20190329_60/*.csv"
   ]
  },
  {
   "cell_type": "markdown",
   "metadata": {},
   "source": [
    "### NOW LETS DO THE WORD |VECTOR CREATION AND DIMENSIONALITY REDUCTION"
   ]
  },
  {
   "cell_type": "code",
   "execution_count": 34,
   "metadata": {},
   "outputs": [
    {
     "name": "stdout",
     "output_type": "stream",
     "text": [
      "(1793610, 24)\n",
      "Index(['Unnamed: 0', 'product_id', 'prod_name', 'home_category_id', 'gmm_id',\n",
      "       'div_id', 'department_id', 'brand', 'deal', 'age_category', 'prodtype',\n",
      "       'gender', 'product_long_description', 'site_product_type',\n",
      "       'size_attr_name', 'brand_siteprod', 'brand_deal', 'deal_siteprod',\n",
      "       'gender_deal', 'age_deal', 'age_brand', 'age_siteprod',\n",
      "       'brand_deal_siteprod', 'age_deal_siteprod'],\n",
      "      dtype='object')\n"
     ]
    },
    {
     "data": {
      "text/html": [
       "<div>\n",
       "<style scoped>\n",
       "    .dataframe tbody tr th:only-of-type {\n",
       "        vertical-align: middle;\n",
       "    }\n",
       "\n",
       "    .dataframe tbody tr th {\n",
       "        vertical-align: top;\n",
       "    }\n",
       "\n",
       "    .dataframe thead th {\n",
       "        text-align: right;\n",
       "    }\n",
       "</style>\n",
       "<table border=\"1\" class=\"dataframe\">\n",
       "  <thead>\n",
       "    <tr style=\"text-align: right;\">\n",
       "      <th></th>\n",
       "      <th>Unnamed: 0</th>\n",
       "      <th>product_id</th>\n",
       "      <th>prod_name</th>\n",
       "      <th>home_category_id</th>\n",
       "      <th>gmm_id</th>\n",
       "      <th>div_id</th>\n",
       "      <th>department_id</th>\n",
       "      <th>brand</th>\n",
       "      <th>deal</th>\n",
       "      <th>age_category</th>\n",
       "      <th>...</th>\n",
       "      <th>size_attr_name</th>\n",
       "      <th>brand_siteprod</th>\n",
       "      <th>brand_deal</th>\n",
       "      <th>deal_siteprod</th>\n",
       "      <th>gender_deal</th>\n",
       "      <th>age_deal</th>\n",
       "      <th>age_brand</th>\n",
       "      <th>age_siteprod</th>\n",
       "      <th>brand_deal_siteprod</th>\n",
       "      <th>age_deal_siteprod</th>\n",
       "    </tr>\n",
       "  </thead>\n",
       "  <tbody>\n",
       "    <tr>\n",
       "      <th>0</th>\n",
       "      <td>0</td>\n",
       "      <td>6</td>\n",
       "      <td>DRAFT - ETN W/CHALLIS BTM NO</td>\n",
       "      <td>18109.0</td>\n",
       "      <td>2</td>\n",
       "      <td>11</td>\n",
       "      <td>226</td>\n",
       "      <td>Macys</td>\n",
       "      <td>regular</td>\n",
       "      <td>&lt;null&gt;</td>\n",
       "      <td>...</td>\n",
       "      <td>NaN</td>\n",
       "      <td>('Macys', 'DRESS')</td>\n",
       "      <td>('Macys', 'regular')</td>\n",
       "      <td>('DRESS', 'regular')</td>\n",
       "      <td>('&lt;null&gt;', 'regular')</td>\n",
       "      <td>('&lt;null&gt;', 'regular')</td>\n",
       "      <td>('&lt;null&gt;', 'Macys')</td>\n",
       "      <td>('&lt;null&gt;', 'DRESS')</td>\n",
       "      <td>('Macys', 'regular', 'DRESS')</td>\n",
       "      <td>('&lt;null&gt;', 'regular', 'DRESS')</td>\n",
       "    </tr>\n",
       "    <tr>\n",
       "      <th>1</th>\n",
       "      <td>1</td>\n",
       "      <td>39</td>\n",
       "      <td>DRAFT - EuroPro Shark Super Garment Steamer</td>\n",
       "      <td>23487.0</td>\n",
       "      <td>47</td>\n",
       "      <td>85</td>\n",
       "      <td>693</td>\n",
       "      <td>Macys</td>\n",
       "      <td>regular</td>\n",
       "      <td>&lt;null&gt;</td>\n",
       "      <td>...</td>\n",
       "      <td>NaN</td>\n",
       "      <td>('Macys', 'PERSONAL_CARE')</td>\n",
       "      <td>('Macys', 'regular')</td>\n",
       "      <td>('PERSONAL_CARE', 'regular')</td>\n",
       "      <td>('&lt;null&gt;', 'regular')</td>\n",
       "      <td>('&lt;null&gt;', 'regular')</td>\n",
       "      <td>('&lt;null&gt;', 'Macys')</td>\n",
       "      <td>('&lt;null&gt;', 'PERSONAL_CARE')</td>\n",
       "      <td>('Macys', 'regular', 'PERSONAL_CARE')</td>\n",
       "      <td>('&lt;null&gt;', 'regular', 'PERSONAL_CARE')</td>\n",
       "    </tr>\n",
       "    <tr>\n",
       "      <th>2</th>\n",
       "      <td>2</td>\n",
       "      <td>45</td>\n",
       "      <td>Ralph Lauren Men's Polo Eau de Toilette Spray,...</td>\n",
       "      <td>30088.0</td>\n",
       "      <td>4</td>\n",
       "      <td>38</td>\n",
       "      <td>349</td>\n",
       "      <td>Ralph Lauren</td>\n",
       "      <td>regular price</td>\n",
       "      <td>Adult</td>\n",
       "      <td>...</td>\n",
       "      <td>NaN</td>\n",
       "      <td>('Ralph Lauren', 'FRAGRANCE')</td>\n",
       "      <td>('Ralph Lauren', 'regular price')</td>\n",
       "      <td>('FRAGRANCE', 'regular price')</td>\n",
       "      <td>('Men', 'regular price')</td>\n",
       "      <td>('Adult', 'regular price')</td>\n",
       "      <td>('Adult', 'Ralph Lauren')</td>\n",
       "      <td>('Adult', 'FRAGRANCE')</td>\n",
       "      <td>('Ralph Lauren', 'regular price', 'FRAGRANCE')</td>\n",
       "      <td>('Adult', 'regular price', 'FRAGRANCE')</td>\n",
       "    </tr>\n",
       "    <tr>\n",
       "      <th>3</th>\n",
       "      <td>3</td>\n",
       "      <td>113</td>\n",
       "      <td>Elizabeth Arden Visible Difference Refining Mo...</td>\n",
       "      <td>30078.0</td>\n",
       "      <td>4</td>\n",
       "      <td>37</td>\n",
       "      <td>359</td>\n",
       "      <td>Elizabeth Arden</td>\n",
       "      <td>regular price</td>\n",
       "      <td>Adult</td>\n",
       "      <td>...</td>\n",
       "      <td>NaN</td>\n",
       "      <td>('Elizabeth Arden', 'SKIN_CARE')</td>\n",
       "      <td>('Elizabeth Arden', 'regular price')</td>\n",
       "      <td>('SKIN_CARE', 'regular price')</td>\n",
       "      <td>('Women', 'regular price')</td>\n",
       "      <td>('Adult', 'regular price')</td>\n",
       "      <td>('Adult', 'Elizabeth Arden')</td>\n",
       "      <td>('Adult', 'SKIN_CARE')</td>\n",
       "      <td>('Elizabeth Arden', 'regular price', 'SKIN_CARE')</td>\n",
       "      <td>('Adult', 'regular price', 'SKIN_CARE')</td>\n",
       "    </tr>\n",
       "    <tr>\n",
       "      <th>4</th>\n",
       "      <td>4</td>\n",
       "      <td>117</td>\n",
       "      <td>Elizabeth Arden Lip-Fix Cream, 0.5 fl. oz.</td>\n",
       "      <td>30077.0</td>\n",
       "      <td>4</td>\n",
       "      <td>37</td>\n",
       "      <td>359</td>\n",
       "      <td>Elizabeth Arden</td>\n",
       "      <td>regular</td>\n",
       "      <td>Adult</td>\n",
       "      <td>...</td>\n",
       "      <td>NaN</td>\n",
       "      <td>('Elizabeth Arden', 'LIP_MAKEUP')</td>\n",
       "      <td>('Elizabeth Arden', 'regular')</td>\n",
       "      <td>('LIP_MAKEUP', 'regular')</td>\n",
       "      <td>('Women', 'regular')</td>\n",
       "      <td>('Adult', 'regular')</td>\n",
       "      <td>('Adult', 'Elizabeth Arden')</td>\n",
       "      <td>('Adult', 'LIP_MAKEUP')</td>\n",
       "      <td>('Elizabeth Arden', 'regular', 'LIP_MAKEUP')</td>\n",
       "      <td>('Adult', 'regular', 'LIP_MAKEUP')</td>\n",
       "    </tr>\n",
       "  </tbody>\n",
       "</table>\n",
       "<p>5 rows × 24 columns</p>\n",
       "</div>"
      ],
      "text/plain": [
       "   Unnamed: 0  product_id                                          prod_name  \\\n",
       "0           0           6                       DRAFT - ETN W/CHALLIS BTM NO   \n",
       "1           1          39        DRAFT - EuroPro Shark Super Garment Steamer   \n",
       "2           2          45  Ralph Lauren Men's Polo Eau de Toilette Spray,...   \n",
       "3           3         113  Elizabeth Arden Visible Difference Refining Mo...   \n",
       "4           4         117         Elizabeth Arden Lip-Fix Cream, 0.5 fl. oz.   \n",
       "\n",
       "   home_category_id  gmm_id  div_id  department_id            brand  \\\n",
       "0           18109.0       2      11            226            Macys   \n",
       "1           23487.0      47      85            693            Macys   \n",
       "2           30088.0       4      38            349     Ralph Lauren   \n",
       "3           30078.0       4      37            359  Elizabeth Arden   \n",
       "4           30077.0       4      37            359  Elizabeth Arden   \n",
       "\n",
       "            deal age_category                   ...                     \\\n",
       "0        regular       <null>                   ...                      \n",
       "1        regular       <null>                   ...                      \n",
       "2  regular price        Adult                   ...                      \n",
       "3  regular price        Adult                   ...                      \n",
       "4        regular        Adult                   ...                      \n",
       "\n",
       "  size_attr_name                     brand_siteprod  \\\n",
       "0            NaN                 ('Macys', 'DRESS')   \n",
       "1            NaN         ('Macys', 'PERSONAL_CARE')   \n",
       "2            NaN      ('Ralph Lauren', 'FRAGRANCE')   \n",
       "3            NaN   ('Elizabeth Arden', 'SKIN_CARE')   \n",
       "4            NaN  ('Elizabeth Arden', 'LIP_MAKEUP')   \n",
       "\n",
       "                             brand_deal                   deal_siteprod  \\\n",
       "0                  ('Macys', 'regular')            ('DRESS', 'regular')   \n",
       "1                  ('Macys', 'regular')    ('PERSONAL_CARE', 'regular')   \n",
       "2     ('Ralph Lauren', 'regular price')  ('FRAGRANCE', 'regular price')   \n",
       "3  ('Elizabeth Arden', 'regular price')  ('SKIN_CARE', 'regular price')   \n",
       "4        ('Elizabeth Arden', 'regular')       ('LIP_MAKEUP', 'regular')   \n",
       "\n",
       "                  gender_deal                    age_deal  \\\n",
       "0       ('<null>', 'regular')       ('<null>', 'regular')   \n",
       "1       ('<null>', 'regular')       ('<null>', 'regular')   \n",
       "2    ('Men', 'regular price')  ('Adult', 'regular price')   \n",
       "3  ('Women', 'regular price')  ('Adult', 'regular price')   \n",
       "4        ('Women', 'regular')        ('Adult', 'regular')   \n",
       "\n",
       "                      age_brand                 age_siteprod  \\\n",
       "0           ('<null>', 'Macys')          ('<null>', 'DRESS')   \n",
       "1           ('<null>', 'Macys')  ('<null>', 'PERSONAL_CARE')   \n",
       "2     ('Adult', 'Ralph Lauren')       ('Adult', 'FRAGRANCE')   \n",
       "3  ('Adult', 'Elizabeth Arden')       ('Adult', 'SKIN_CARE')   \n",
       "4  ('Adult', 'Elizabeth Arden')      ('Adult', 'LIP_MAKEUP')   \n",
       "\n",
       "                                 brand_deal_siteprod  \\\n",
       "0                      ('Macys', 'regular', 'DRESS')   \n",
       "1              ('Macys', 'regular', 'PERSONAL_CARE')   \n",
       "2     ('Ralph Lauren', 'regular price', 'FRAGRANCE')   \n",
       "3  ('Elizabeth Arden', 'regular price', 'SKIN_CARE')   \n",
       "4       ('Elizabeth Arden', 'regular', 'LIP_MAKEUP')   \n",
       "\n",
       "                         age_deal_siteprod  \n",
       "0           ('<null>', 'regular', 'DRESS')  \n",
       "1   ('<null>', 'regular', 'PERSONAL_CARE')  \n",
       "2  ('Adult', 'regular price', 'FRAGRANCE')  \n",
       "3  ('Adult', 'regular price', 'SKIN_CARE')  \n",
       "4       ('Adult', 'regular', 'LIP_MAKEUP')  \n",
       "\n",
       "[5 rows x 24 columns]"
      ]
     },
     "execution_count": 34,
     "metadata": {},
     "output_type": "execute_result"
    }
   ],
   "source": [
    "attr = pd.read_csv('/home/jovyan/data/yh09262/prod/20190329_60/Mar292019_attr_multi.csv')\n",
    "print(attr.shape)\n",
    "print(attr.columns)\n",
    "attr.head()"
   ]
  },
  {
   "cell_type": "markdown",
   "metadata": {},
   "source": [
    "### Create Word Vectors"
   ]
  },
  {
   "cell_type": "code",
   "execution_count": 35,
   "metadata": {},
   "outputs": [],
   "source": [
    "#!pip install spacy\n",
    "#!python -m spacy download en_core_web_md"
   ]
  },
  {
   "cell_type": "code",
   "execution_count": 36,
   "metadata": {},
   "outputs": [],
   "source": [
    "import spacy\n",
    "nlp = spacy.load('en_core_web_md')"
   ]
  },
  {
   "cell_type": "code",
   "execution_count": 37,
   "metadata": {},
   "outputs": [
    {
     "data": {
      "text/plain": [
       "Index(['Unnamed: 0', 'product_id', 'prod_name', 'home_category_id', 'gmm_id',\n",
       "       'div_id', 'department_id', 'brand', 'deal', 'age_category', 'prodtype',\n",
       "       'gender', 'product_long_description', 'site_product_type',\n",
       "       'size_attr_name', 'brand_siteprod', 'brand_deal', 'deal_siteprod',\n",
       "       'gender_deal', 'age_deal', 'age_brand', 'age_siteprod',\n",
       "       'brand_deal_siteprod', 'age_deal_siteprod'],\n",
       "      dtype='object')"
      ]
     },
     "execution_count": 37,
     "metadata": {},
     "output_type": "execute_result"
    }
   ],
   "source": [
    "attr.columns"
   ]
  },
  {
   "cell_type": "raw",
   "metadata": {},
   "source": [
    "#pat = '¿®!\"#$%&\\'()*+,-./:;<=>?@[\\\\]^_`{|}~\\d+'\n",
    "pat = '.' #;:<=>?\"#$%' #\\'®()*+/@[\\\\]^_`{|}~¿'\n",
    "\n",
    "# tried and not working\n",
    "'!\"#$%&\\'()*+,-.'\n",
    "'!\"#$%.'\n",
    "\n",
    "# working patterns:\n",
    "pat ="
   ]
  },
  {
   "cell_type": "markdown",
   "metadata": {},
   "source": [
    "### TODO: More sophisticated regex rules"
   ]
  },
  {
   "cell_type": "code",
   "execution_count": 144,
   "metadata": {},
   "outputs": [
    {
     "name": "stdout",
     "output_type": "stream",
     "text": [
      "CPU times: user 24.3 s, sys: 1.73 s, total: 26 s\n",
      "Wall time: 26 s\n"
     ]
    }
   ],
   "source": [
    "%%time\n",
    "pat1 = '[A-Za-z]\\.[A-Za-z]' #\\.[A-Za-z]'\n",
    "\n",
    "attr['s_merge'] = attr.loc[:,'site_product_type'] + \" \" + attr.loc[:,'prod_name'].astype(str)\n",
    "attr['l_merge'] = attr.loc[:,'site_product_type'] + \" \" + attr.loc[:,'prod_name'].astype(str) + \" \" + attr.loc[:,'product_long_description'] + \" \" + attr.loc[:,'site_product_type'] + \" \" + attr.loc[:,'prod_name'].astype(str)\n",
    "attr['s_merge'] = attr['s_merge'].str.replace(r\"{}\".format(pat1),' ').values\n",
    "attr['l_merge'] = attr['l_merge'].str.replace(r\"{}\".format(pat1),' ').values"
   ]
  },
  {
   "cell_type": "code",
   "execution_count": 145,
   "metadata": {},
   "outputs": [
    {
     "data": {
      "text/plain": [
       "nan"
      ]
     },
     "execution_count": 145,
     "metadata": {},
     "output_type": "execute_result"
    }
   ],
   "source": [
    "attr.loc[0,'product_long_description']"
   ]
  },
  {
   "cell_type": "code",
   "execution_count": 146,
   "metadata": {},
   "outputs": [
    {
     "data": {
      "text/plain": [
       "'DRESS DRAFT - ETN W/CHALLIS BTM NO'"
      ]
     },
     "execution_count": 146,
     "metadata": {},
     "output_type": "execute_result"
    }
   ],
   "source": [
    "attr.loc[0,'s_merge']"
   ]
  },
  {
   "cell_type": "markdown",
   "metadata": {},
   "source": [
    "#### Need to think about how we will handle the nan values - before or after vectorizing?"
   ]
  },
  {
   "cell_type": "code",
   "execution_count": 147,
   "metadata": {},
   "outputs": [
    {
     "data": {
      "text/plain": [
       "nan"
      ]
     },
     "execution_count": 147,
     "metadata": {},
     "output_type": "execute_result"
    }
   ],
   "source": [
    "attr.loc[0,'l_merge']"
   ]
  },
  {
   "cell_type": "code",
   "execution_count": 148,
   "metadata": {},
   "outputs": [
    {
     "data": {
      "text/plain": [
       "'BODY_CARE Calvin Klein ck one Deodorant, 2.6 oz'"
      ]
     },
     "execution_count": 148,
     "metadata": {},
     "output_type": "execute_result"
    }
   ],
   "source": [
    "attr.loc[10,'s_merge']"
   ]
  },
  {
   "cell_type": "code",
   "execution_count": 149,
   "metadata": {},
   "outputs": [
    {
     "data": {
      "text/plain": [
       "'Calvin Klein ck one Deodorant, 2.6 oz'"
      ]
     },
     "execution_count": 149,
     "metadata": {},
     "output_type": "execute_result"
    }
   ],
   "source": [
    "attr.loc[10,'prod_name']"
   ]
  },
  {
   "cell_type": "code",
   "execution_count": 150,
   "metadata": {},
   "outputs": [
    {
     "data": {
      "text/plain": [
       "\"One of the world's leading lifestyle brands, Calvin Klein is synonymous with authentic modern minimalist style. Everything it creates -clothing, accessories, home design-becomes a timeless classic. The label's award-winning fragrances are no exception. Calvin Klein's portfolio of bold and iconic scents continues to redefine the world of perfume.This lightly scented ck one deodorant stick will keep you fresh and dry all day.¿ Cool. Clean. Refreshing. ck one is a free-spirited, youthful fragrance that inspires you to be yourself. Designed for men and women to share, it belongs to everyone.The universally appealing fragrance, balancing brightness and sensuality, is for use any time of the day or night.A green tea accord travels through the scent, contributing to the signature identity of ck one. The fragrance begins with bright notes of mandarin orange, papaya, bergamot, and lemon. The heart comes to life with an aromatic harmony of nutmeg, violet, jasmine, lily-of-the-valley and rose. The drydown is a sensual combination of musk and amber.Non sticky and long lasting, the ck one Deordorant Stick can be used on its own or to complement the Eau de Toilette.\""
      ]
     },
     "execution_count": 150,
     "metadata": {},
     "output_type": "execute_result"
    }
   ],
   "source": [
    "attr.loc[10,'product_long_description']"
   ]
  },
  {
   "cell_type": "code",
   "execution_count": 151,
   "metadata": {
    "scrolled": true
   },
   "outputs": [
    {
     "data": {
      "text/plain": [
       "\"BODY_CARE Calvin Klein ck one Deodorant, 2.6 oz One of the world's leading lifestyle brands, Calvin Klein is synonymous with authentic modern minimalist style. Everything it creates -clothing, accessories, home design-becomes a timeless classic. The label's award-winning fragrances are no exception. Calvin Klein's portfolio of bold and iconic scents continues to redefine the world of perfum his lightly scented ck one deodorant stick will keep you fresh and dry all day.¿ Cool. Clean. Refreshing. ck one is a free-spirited, youthful fragrance that inspires you to be yourself. Designed for men and women to share, it belongs to everyon he universally appealing fragrance, balancing brightness and sensuality, is for use any time of the day or nigh  green tea accord travels through the scent, contributing to the signature identity of ck one. The fragrance begins with bright notes of mandarin orange, papaya, bergamot, and lemon. The heart comes to life with an aromatic harmony of nutmeg, violet, jasmine, lily-of-the-valley and rose. The drydown is a sensual combination of musk and ambe on sticky and long lasting, the ck one Deordorant Stick can be used on its own or to complement the Eau de Toilette. BODY_CARE Calvin Klein ck one Deodorant, 2.6 oz\""
      ]
     },
     "execution_count": 151,
     "metadata": {},
     "output_type": "execute_result"
    }
   ],
   "source": [
    "attr.loc[10,'l_merge']"
   ]
  },
  {
   "cell_type": "markdown",
   "metadata": {},
   "source": [
    "### Data Preparation"
   ]
  },
  {
   "cell_type": "code",
   "execution_count": 43,
   "metadata": {},
   "outputs": [
    {
     "name": "stdout",
     "output_type": "stream",
     "text": [
      "(1853513,)\n"
     ]
    }
   ],
   "source": [
    "N_DATA = 120000 #textdf.shape[0] #600000\n",
    "\n",
    "# data = np.matrix([np.array(x,dtype='float64') for x in textdf['vectors2']])[:N_DATA]\n",
    "# data = np.array(data,dtype='float64')\n",
    "#data=newvecs[:N_DATA]\n",
    "data = textdf['vectors3']\n",
    "print(data.shape)"
   ]
  },
  {
   "cell_type": "code",
   "execution_count": 49,
   "metadata": {},
   "outputs": [
    {
     "data": {
      "text/plain": [
       "(300,)"
      ]
     },
     "execution_count": 49,
     "metadata": {},
     "output_type": "execute_result"
    }
   ],
   "source": [
    "data[1].shape"
   ]
  },
  {
   "cell_type": "code",
   "execution_count": 48,
   "metadata": {},
   "outputs": [
    {
     "data": {
      "text/plain": [
       "array([ 0.12184899,  0.08809177, -0.11497238, -0.08713301, -0.03187023])"
      ]
     },
     "execution_count": 48,
     "metadata": {},
     "output_type": "execute_result"
    }
   ],
   "source": [
    "data[1][:5]"
   ]
  },
  {
   "cell_type": "code",
   "execution_count": 51,
   "metadata": {},
   "outputs": [],
   "source": [
    "data = np.stack(data, axis=0)"
   ]
  },
  {
   "cell_type": "code",
   "execution_count": 52,
   "metadata": {},
   "outputs": [
    {
     "data": {
      "text/plain": [
       "(1853513, 300)"
      ]
     },
     "execution_count": 52,
     "metadata": {},
     "output_type": "execute_result"
    }
   ],
   "source": [
    "data.shape"
   ]
  },
  {
   "cell_type": "markdown",
   "metadata": {},
   "source": [
    "### Dimensionality Reduction"
   ]
  },
  {
   "cell_type": "code",
   "execution_count": 58,
   "metadata": {},
   "outputs": [],
   "source": [
    "from sklearn.decomposition import PCA\n",
    "COMPONENTS = 30\n",
    "pca = PCA(n_components=COMPONENTS)\n",
    "pca_result = pca.fit_transform(data)"
   ]
  },
  {
   "cell_type": "code",
   "execution_count": 59,
   "metadata": {},
   "outputs": [],
   "source": [
    "import matplotlib.pyplot as plt"
   ]
  },
  {
   "cell_type": "code",
   "execution_count": 60,
   "metadata": {},
   "outputs": [
    {
     "data": {
      "image/png": "[encoded data removed]",
      "text/plain": [
       "<Figure size 432x288 with 1 Axes>"
      ]
     },
     "metadata": {
      "needs_background": "light"
     },
     "output_type": "display_data"
    }
   ],
   "source": [
    "plt.plot(range(COMPONENTS), pca.explained_variance_ratio_)\n",
    "plt.plot(range(COMPONENTS), np.cumsum(pca.explained_variance_ratio_))\n",
    "plt.title(\"Component-wise and Cumulative Explained Variance\")\n",
    "plt.show()"
   ]
  },
  {
   "cell_type": "code",
   "execution_count": 61,
   "metadata": {},
   "outputs": [
    {
     "data": {
      "text/plain": [
       "array([-0.63527902, -0.18212442, -0.26983706,  0.30890223, -0.23266606,\n",
       "        0.02925379, -0.24107081,  0.04270466,  0.03719537, -0.2606079 ,\n",
       "       -0.13074765,  0.05140696, -0.39999298, -0.01963215, -0.01056054,\n",
       "       -0.20094207, -0.0268786 ,  0.20037388,  0.04700421,  0.06580689,\n",
       "       -0.16604169, -0.06567558, -0.0393065 , -0.00817959, -0.19399947,\n",
       "       -0.05744873,  0.08755488,  0.15593953, -0.14748489,  0.04416686])"
      ]
     },
     "execution_count": 61,
     "metadata": {},
     "output_type": "execute_result"
    }
   ],
   "source": [
    "pca_result[0]"
   ]
  },
  {
   "cell_type": "code",
   "execution_count": null,
   "metadata": {},
   "outputs": [],
   "source": [
    "from sklearn.decomposition import FastICA\n",
    "ICA = FastICA(n_components=COMPONENTS, random_state=12)\n",
    "ica_result = ICA.fit_transform(data)"
   ]
  },
  {
   "cell_type": "code",
   "execution_count": 84,
   "metadata": {},
   "outputs": [
    {
     "ename": "NameError",
     "evalue": "name 'ica_result' is not defined",
     "output_type": "error",
     "traceback": [
      "\u001b[0;31m---------------------------------------------------------------------------\u001b[0m",
      "\u001b[0;31mNameError\u001b[0m                                 Traceback (most recent call last)",
      "\u001b[0;32m<ipython-input-84-9f23f264dc07>\u001b[0m in \u001b[0;36m<module>\u001b[0;34m()\u001b[0m\n\u001b[0;32m----> 1\u001b[0;31m \u001b[0mica_result\u001b[0m\u001b[0;34m\u001b[0m\u001b[0m\n\u001b[0m",
      "\u001b[0;31mNameError\u001b[0m: name 'ica_result' is not defined"
     ]
    }
   ],
   "source": [
    "ica_result"
   ]
  },
  {
   "cell_type": "code",
   "execution_count": null,
   "metadata": {},
   "outputs": [],
   "source": []
  }
 ],
 "metadata": {
  "kernelspec": {
   "display_name": "Python 3",
   "language": "python",
   "name": "python3"
  },
  "language_info": {
   "codemirror_mode": {
    "name": "ipython",
    "version": 3
   },
   "file_extension": ".py",
   "mimetype": "text/x-python",
   "name": "python",
   "nbconvert_exporter": "python",
   "pygments_lexer": "ipython3",
   "version": "3.6.8"
  }
 },
 "nbformat": 4,
 "nbformat_minor": 2
}
