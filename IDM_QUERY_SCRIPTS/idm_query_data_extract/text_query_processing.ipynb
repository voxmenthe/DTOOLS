{
 "cells": [
  {
   "cell_type": "code",
   "execution_count": 1,
   "metadata": {},
   "outputs": [],
   "source": [
    "import numpy as np\n",
    "import pandas as pd"
   ]
  },
  {
   "cell_type": "code",
   "execution_count": 2,
   "metadata": {},
   "outputs": [
    {
     "name": "stdout",
     "output_type": "stream",
     "text": [
      "raw_attribute_data_shrek_cleaned.h5  raw_text_data_shrek.h5\r\n",
      "raw_attribute_data_shrek.h5\t     RUGS_IDM_1118_and_0119_DATA.h5\r\n",
      "raw_image_data_denis.h5\t\t     RUGS_IDM_Nov2018_DATA.h5\r\n",
      "raw_image_data_patrick.h5\t     RUGS_VALIDATION_DATA.h5\r\n"
     ]
    }
   ],
   "source": [
    "!ls *.h5"
   ]
  },
  {
   "cell_type": "code",
   "execution_count": 4,
   "metadata": {},
   "outputs": [
    {
     "data": {
      "text/html": [
       "<div>\n",
       "<style scoped>\n",
       "    .dataframe tbody tr th:only-of-type {\n",
       "        vertical-align: middle;\n",
       "    }\n",
       "\n",
       "    .dataframe tbody tr th {\n",
       "        vertical-align: top;\n",
       "    }\n",
       "\n",
       "    .dataframe thead th {\n",
       "        text-align: right;\n",
       "    }\n",
       "</style>\n",
       "<table border=\"1\" class=\"dataframe\">\n",
       "  <thead>\n",
       "    <tr style=\"text-align: right;\">\n",
       "      <th></th>\n",
       "      <th>PROD_ID</th>\n",
       "      <th>ATTR_NAME</th>\n",
       "      <th>ATTR_VAL</th>\n",
       "    </tr>\n",
       "  </thead>\n",
       "  <tbody>\n",
       "    <tr>\n",
       "      <th>0</th>\n",
       "      <td>1</td>\n",
       "      <td>PRODUCT_NAME</td>\n",
       "      <td>X</td>\n",
       "    </tr>\n",
       "    <tr>\n",
       "      <th>1</th>\n",
       "      <td>1</td>\n",
       "      <td>PRODUCT_TYPE_HIERARCHY</td>\n",
       "      <td>Apparel -&gt; Dress</td>\n",
       "    </tr>\n",
       "    <tr>\n",
       "      <th>2</th>\n",
       "      <td>2</td>\n",
       "      <td>PRODUCT_NAME</td>\n",
       "      <td>FRNT &amp; BACK STUDS  2</td>\n",
       "    </tr>\n",
       "    <tr>\n",
       "      <th>3</th>\n",
       "      <td>2</td>\n",
       "      <td>PRODUCT_TYPE_HIERARCHY</td>\n",
       "      <td>Apparel -&gt; Dress</td>\n",
       "    </tr>\n",
       "    <tr>\n",
       "      <th>4</th>\n",
       "      <td>3</td>\n",
       "      <td>PRODUCT_NAME</td>\n",
       "      <td>IYB W/ NEW HEAT CUFF</td>\n",
       "    </tr>\n",
       "  </tbody>\n",
       "</table>\n",
       "</div>"
      ],
      "text/plain": [
       "   PROD_ID               ATTR_NAME              ATTR_VAL\n",
       "0        1            PRODUCT_NAME                     X\n",
       "1        1  PRODUCT_TYPE_HIERARCHY      Apparel -> Dress\n",
       "2        2            PRODUCT_NAME  FRNT & BACK STUDS  2\n",
       "3        2  PRODUCT_TYPE_HIERARCHY      Apparel -> Dress\n",
       "4        3            PRODUCT_NAME  IYB W/ NEW HEAT CUFF"
      ]
     },
     "execution_count": 4,
     "metadata": {},
     "output_type": "execute_result"
    }
   ],
   "source": [
    "textdf = pd.read_hdf('raw_text_data_shrek.h5')\n",
    "textdf.head()"
   ]
  },
  {
   "cell_type": "code",
   "execution_count": 6,
   "metadata": {},
   "outputs": [
    {
     "data": {
      "text/plain": [
       "array(['PRODUCT_NAME', 'PRODUCT_TYPE_HIERARCHY', 'Bullet Text', 'Keyword',\n",
       "       'Member Description', 'PDF Email Description',\n",
       "       'Product Long Description', 'Fabric Content',\n",
       "       'Registry Bullet Text', 'Dimension Bullet Text',\n",
       "       'From My Home to Yours'], dtype=object)"
      ]
     },
     "execution_count": 6,
     "metadata": {},
     "output_type": "execute_result"
    }
   ],
   "source": [
    "textdf['ATTR_NAME'].unique()"
   ]
  },
  {
   "cell_type": "code",
   "execution_count": 7,
   "metadata": {},
   "outputs": [
    {
     "data": {
      "text/html": [
       "<div>\n",
       "<style scoped>\n",
       "    .dataframe tbody tr th:only-of-type {\n",
       "        vertical-align: middle;\n",
       "    }\n",
       "\n",
       "    .dataframe tbody tr th {\n",
       "        vertical-align: top;\n",
       "    }\n",
       "\n",
       "    .dataframe thead th {\n",
       "        text-align: right;\n",
       "    }\n",
       "</style>\n",
       "<table border=\"1\" class=\"dataframe\">\n",
       "  <thead>\n",
       "    <tr style=\"text-align: right;\">\n",
       "      <th></th>\n",
       "      <th>PROD_ID</th>\n",
       "      <th>ATTR_NAME</th>\n",
       "      <th>ATTR_VAL</th>\n",
       "    </tr>\n",
       "  </thead>\n",
       "  <tbody>\n",
       "    <tr>\n",
       "      <th>61</th>\n",
       "      <td>45</td>\n",
       "      <td>Product Long Description</td>\n",
       "      <td>The signature Ralph Lauren brand. A true class...</td>\n",
       "    </tr>\n",
       "    <tr>\n",
       "      <th>73</th>\n",
       "      <td>48</td>\n",
       "      <td>Product Long Description</td>\n",
       "      <td>The signature Ralph Lauren brand. A true class...</td>\n",
       "    </tr>\n",
       "    <tr>\n",
       "      <th>77</th>\n",
       "      <td>55</td>\n",
       "      <td>Product Long Description</td>\n",
       "      <td>Good for maturing skins. A two-phase toner tha...</td>\n",
       "    </tr>\n",
       "    <tr>\n",
       "      <th>81</th>\n",
       "      <td>62</td>\n",
       "      <td>Product Long Description</td>\n",
       "      <td>Good for maturing skin. A pure and potent enca...</td>\n",
       "    </tr>\n",
       "    <tr>\n",
       "      <th>89</th>\n",
       "      <td>65</td>\n",
       "      <td>Product Long Description</td>\n",
       "      <td>Prepare to be impressed. This super-moisturize...</td>\n",
       "    </tr>\n",
       "  </tbody>\n",
       "</table>\n",
       "</div>"
      ],
      "text/plain": [
       "    PROD_ID                 ATTR_NAME  \\\n",
       "61       45  Product Long Description   \n",
       "73       48  Product Long Description   \n",
       "77       55  Product Long Description   \n",
       "81       62  Product Long Description   \n",
       "89       65  Product Long Description   \n",
       "\n",
       "                                             ATTR_VAL  \n",
       "61  The signature Ralph Lauren brand. A true class...  \n",
       "73  The signature Ralph Lauren brand. A true class...  \n",
       "77  Good for maturing skins. A two-phase toner tha...  \n",
       "81  Good for maturing skin. A pure and potent enca...  \n",
       "89  Prepare to be impressed. This super-moisturize...  "
      ]
     },
     "execution_count": 7,
     "metadata": {},
     "output_type": "execute_result"
    }
   ],
   "source": [
    "long_desc = textdf.query('ATTR_NAME == \"Product Long Description\"')\n",
    "long_desc.head()"
   ]
  },
  {
   "cell_type": "code",
   "execution_count": 10,
   "metadata": {},
   "outputs": [
    {
     "data": {
      "text/plain": [
       "\"Prepare to be impressed. This super-moisturizer has proven itself. It minimizes the visible signs of aging so your skin can reveal its true radiance. Researchers found that the natural production of Ceramides, collagen, elastin and essential nutrients like calcium all contribute to skin's healthy vitality, but can be compromised by age and environmental aggression. \""
      ]
     },
     "execution_count": 10,
     "metadata": {},
     "output_type": "execute_result"
    }
   ],
   "source": [
    "long_desc.loc[89,'ATTR_VAL']"
   ]
  },
  {
   "cell_type": "code",
   "execution_count": 11,
   "metadata": {},
   "outputs": [
    {
     "data": {
      "text/html": [
       "<div>\n",
       "<style scoped>\n",
       "    .dataframe tbody tr th:only-of-type {\n",
       "        vertical-align: middle;\n",
       "    }\n",
       "\n",
       "    .dataframe tbody tr th {\n",
       "        vertical-align: top;\n",
       "    }\n",
       "\n",
       "    .dataframe thead th {\n",
       "        text-align: right;\n",
       "    }\n",
       "</style>\n",
       "<table border=\"1\" class=\"dataframe\">\n",
       "  <thead>\n",
       "    <tr style=\"text-align: right;\">\n",
       "      <th></th>\n",
       "      <th>PROD_ID</th>\n",
       "      <th>ATTR_NAME</th>\n",
       "      <th>ATTR_VAL</th>\n",
       "    </tr>\n",
       "  </thead>\n",
       "  <tbody>\n",
       "    <tr>\n",
       "      <th>0</th>\n",
       "      <td>1</td>\n",
       "      <td>PRODUCT_NAME</td>\n",
       "      <td>X</td>\n",
       "    </tr>\n",
       "    <tr>\n",
       "      <th>2</th>\n",
       "      <td>2</td>\n",
       "      <td>PRODUCT_NAME</td>\n",
       "      <td>FRNT &amp; BACK STUDS  2</td>\n",
       "    </tr>\n",
       "    <tr>\n",
       "      <th>4</th>\n",
       "      <td>3</td>\n",
       "      <td>PRODUCT_NAME</td>\n",
       "      <td>IYB W/ NEW HEAT CUFF</td>\n",
       "    </tr>\n",
       "    <tr>\n",
       "      <th>5</th>\n",
       "      <td>4</td>\n",
       "      <td>PRODUCT_NAME</td>\n",
       "      <td>CRISSCROSS FRONT OTT</td>\n",
       "    </tr>\n",
       "    <tr>\n",
       "      <th>6</th>\n",
       "      <td>5</td>\n",
       "      <td>PRODUCT_NAME</td>\n",
       "      <td>OTTOMAN DRESS W/LACE</td>\n",
       "    </tr>\n",
       "  </tbody>\n",
       "</table>\n",
       "</div>"
      ],
      "text/plain": [
       "   PROD_ID     ATTR_NAME              ATTR_VAL\n",
       "0        1  PRODUCT_NAME                     X\n",
       "2        2  PRODUCT_NAME  FRNT & BACK STUDS  2\n",
       "4        3  PRODUCT_NAME  IYB W/ NEW HEAT CUFF\n",
       "5        4  PRODUCT_NAME  CRISSCROSS FRONT OTT\n",
       "6        5  PRODUCT_NAME  OTTOMAN DRESS W/LACE"
      ]
     },
     "execution_count": 11,
     "metadata": {},
     "output_type": "execute_result"
    }
   ],
   "source": [
    "prod_names = textdf.query('ATTR_NAME == \"PRODUCT_NAME\"')\n",
    "prod_names.head()"
   ]
  },
  {
   "cell_type": "code",
   "execution_count": 15,
   "metadata": {},
   "outputs": [
    {
     "data": {
      "text/html": [
       "<div>\n",
       "<style scoped>\n",
       "    .dataframe tbody tr th:only-of-type {\n",
       "        vertical-align: middle;\n",
       "    }\n",
       "\n",
       "    .dataframe tbody tr th {\n",
       "        vertical-align: top;\n",
       "    }\n",
       "\n",
       "    .dataframe thead th {\n",
       "        text-align: right;\n",
       "    }\n",
       "</style>\n",
       "<table border=\"1\" class=\"dataframe\">\n",
       "  <thead>\n",
       "    <tr style=\"text-align: right;\">\n",
       "      <th></th>\n",
       "      <th>PROD_ID</th>\n",
       "      <th>ATTR_NAME</th>\n",
       "      <th>ATTR_VAL</th>\n",
       "    </tr>\n",
       "  </thead>\n",
       "  <tbody>\n",
       "    <tr>\n",
       "      <th>84</th>\n",
       "      <td>65</td>\n",
       "      <td>Bullet Text</td>\n",
       "      <td>A unique combination of Ceramides 1 and 3 help...</td>\n",
       "    </tr>\n",
       "    <tr>\n",
       "      <th>85</th>\n",
       "      <td>65</td>\n",
       "      <td>Bullet Text</td>\n",
       "      <td>Boosts skin's hydration level over 450% after ...</td>\n",
       "    </tr>\n",
       "    <tr>\n",
       "      <th>86</th>\n",
       "      <td>65</td>\n",
       "      <td>Bullet Text</td>\n",
       "      <td>Provides skin-essential moisture all day long ...</td>\n",
       "    </tr>\n",
       "    <tr>\n",
       "      <th>87</th>\n",
       "      <td>65</td>\n",
       "      <td>Bullet Text</td>\n",
       "      <td>Reduces the appearance of fine lines and wrink...</td>\n",
       "    </tr>\n",
       "    <tr>\n",
       "      <th>88</th>\n",
       "      <td>65</td>\n",
       "      <td>PDF Email Description</td>\n",
       "      <td>Elizabeth Arden Ceramide Time Complex Moisture...</td>\n",
       "    </tr>\n",
       "    <tr>\n",
       "      <th>89</th>\n",
       "      <td>65</td>\n",
       "      <td>Product Long Description</td>\n",
       "      <td>Prepare to be impressed. This super-moisturize...</td>\n",
       "    </tr>\n",
       "    <tr>\n",
       "      <th>90</th>\n",
       "      <td>65</td>\n",
       "      <td>PRODUCT_NAME</td>\n",
       "      <td>Elizabeth Arden Ceramide Time Complex Moisture...</td>\n",
       "    </tr>\n",
       "    <tr>\n",
       "      <th>91</th>\n",
       "      <td>65</td>\n",
       "      <td>PRODUCT_TYPE_HIERARCHY</td>\n",
       "      <td>Cosmetics -&gt; Skincare</td>\n",
       "    </tr>\n",
       "  </tbody>\n",
       "</table>\n",
       "</div>"
      ],
      "text/plain": [
       "    PROD_ID                 ATTR_NAME  \\\n",
       "84       65               Bullet Text   \n",
       "85       65               Bullet Text   \n",
       "86       65               Bullet Text   \n",
       "87       65               Bullet Text   \n",
       "88       65     PDF Email Description   \n",
       "89       65  Product Long Description   \n",
       "90       65              PRODUCT_NAME   \n",
       "91       65    PRODUCT_TYPE_HIERARCHY   \n",
       "\n",
       "                                             ATTR_VAL  \n",
       "84  A unique combination of Ceramides 1 and 3 help...  \n",
       "85  Boosts skin's hydration level over 450% after ...  \n",
       "86  Provides skin-essential moisture all day long ...  \n",
       "87  Reduces the appearance of fine lines and wrink...  \n",
       "88  Elizabeth Arden Ceramide Time Complex Moisture...  \n",
       "89  Prepare to be impressed. This super-moisturize...  \n",
       "90  Elizabeth Arden Ceramide Time Complex Moisture...  \n",
       "91                              Cosmetics -> Skincare  "
      ]
     },
     "execution_count": 15,
     "metadata": {},
     "output_type": "execute_result"
    }
   ],
   "source": [
    "prod65 = textdf.query('PROD_ID == 65')\n",
    "prod65"
   ]
  },
  {
   "cell_type": "code",
   "execution_count": 16,
   "metadata": {},
   "outputs": [
    {
     "data": {
      "text/plain": [
       "'Elizabeth Arden Ceramide Time Complex Moisture Cream, 1.7 fl. oz./ 50 ml'"
      ]
     },
     "execution_count": 16,
     "metadata": {},
     "output_type": "execute_result"
    }
   ],
   "source": [
    "prod65.loc[90,'ATTR_VAL']"
   ]
  },
  {
   "cell_type": "code",
   "execution_count": 17,
   "metadata": {},
   "outputs": [
    {
     "data": {
      "text/plain": [
       "\"Prepare to be impressed. This super-moisturizer has proven itself. It minimizes the visible signs of aging so your skin can reveal its true radiance. Researchers found that the natural production of Ceramides, collagen, elastin and essential nutrients like calcium all contribute to skin's healthy vitality, but can be compromised by age and environmental aggression. \""
      ]
     },
     "execution_count": 17,
     "metadata": {},
     "output_type": "execute_result"
    }
   ],
   "source": [
    "long_desc.loc[89,'ATTR_VAL']"
   ]
  },
  {
   "cell_type": "code",
   "execution_count": 22,
   "metadata": {},
   "outputs": [
    {
     "data": {
      "text/plain": [
       "[\"A unique combination of Ceramides 1 and 3 helps maintain skin's moisture all day long and smoothes fine lines and wrinkles. \",\n",
       " \"Boosts skin's hydration level over 450% after just one hour. \",\n",
       " 'Provides skin-essential moisture all day long (up to 15 hours). ',\n",
       " 'Reduces the appearance of fine lines and wrinkles. ']"
      ]
     },
     "execution_count": 22,
     "metadata": {},
     "output_type": "execute_result"
    }
   ],
   "source": [
    "bullet65 = prod65.query('ATTR_NAME == \"Bullet Text\"')['ATTR_VAL'].tolist()\n",
    "bullet65"
   ]
  },
  {
   "cell_type": "code",
   "execution_count": null,
   "metadata": {},
   "outputs": [],
   "source": [
    "textbyid = textdf.groupby('PROD_ID')"
   ]
  }
 ],
 "metadata": {
  "kernelspec": {
   "display_name": "Python 3",
   "language": "python",
   "name": "python3"
  },
  "language_info": {
   "codemirror_mode": {
    "name": "ipython",
    "version": 3
   },
   "file_extension": ".py",
   "mimetype": "text/x-python",
   "name": "python",
   "nbconvert_exporter": "python",
   "pygments_lexer": "ipython3",
   "version": "3.6.6"
  }
 },
 "nbformat": 4,
 "nbformat_minor": 2
}
