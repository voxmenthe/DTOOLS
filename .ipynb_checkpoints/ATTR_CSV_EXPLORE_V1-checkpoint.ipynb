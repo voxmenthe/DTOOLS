{
 "cells": [
  {
   "cell_type": "code",
   "execution_count": 1,
   "metadata": {},
   "outputs": [],
   "source": [
    "%load_ext autoreload\n",
    "%autoreload 2"
   ]
  },
  {
   "cell_type": "code",
   "execution_count": 13,
   "metadata": {},
   "outputs": [],
   "source": [
    "import gc\n",
    "import sys\n",
    "import json\n",
    "import numpy as np\n",
    "import pandas as pd\n",
    "import mml_lib.visualization as viz\n",
    "\n",
    "sys.path.append('/home/jovyan/work/yh09262/cython_home')\n",
    "sys.path.append('/home/jovyan/work/yh09262/utils_and_queries')\n",
    "\n",
    "from get_csv_rows import get_csv_rows\n",
    "from get_baskets import get_baskets\n",
    "from get_baskets_cdef import get_baskets_cdef\n",
    "\n",
    "import UPC_utils_July_2019 as uu"
   ]
  },
  {
   "cell_type": "code",
   "execution_count": 3,
   "metadata": {},
   "outputs": [
    {
     "name": "stdout",
     "output_type": "stream",
     "text": [
      "/home/jovyan/datasets/d_train_20181030_60\r\n",
      "/home/jovyan/datasets/d_train_20190210_90\r\n",
      "/home/jovyan/datasets/d_train_20190515_14\r\n",
      "/home/jovyan/datasets/d_train_20190723_120_0\r\n",
      "/home/jovyan/datasets/d_train_20190723_60_0\r\n",
      "/home/jovyan/datasets/d_train_20190723_90_0\r\n",
      "/home/jovyan/datasets/d_train_20190809_3_0\r\n",
      "/home/jovyan/datasets/d_train_ari_namita\r\n",
      "/home/jovyan/datasets/d_train_test\r\n"
     ]
    }
   ],
   "source": [
    "!ls -d ~/datasets/d_train*"
   ]
  },
  {
   "cell_type": "code",
   "execution_count": 11,
   "metadata": {},
   "outputs": [],
   "source": [
    "#attr_rows_big = get_csv_rows('/home/jovyan/datasets/d_train_20190723_120_0/ur_production_product_attr.csv',numcols=23)\n",
    "attr_rows_recent = get_csv_rows('/home/jovyan/datasets/d_train_20190809_3_0/ur_production_product_attr.csv',numcols=23)"
   ]
  },
  {
   "cell_type": "code",
   "execution_count": 12,
   "metadata": {},
   "outputs": [
    {
     "data": {
      "text/plain": [
       "(2751103, 2799177)"
      ]
     },
     "execution_count": 12,
     "metadata": {},
     "output_type": "execute_result"
    }
   ],
   "source": [
    "len(attr_rows_big), len(attr_rows_recent)"
   ]
  },
  {
   "cell_type": "code",
   "execution_count": 14,
   "metadata": {},
   "outputs": [
    {
     "data": {
      "text/html": [
       "<div>\n",
       "<style scoped>\n",
       "    .dataframe tbody tr th:only-of-type {\n",
       "        vertical-align: middle;\n",
       "    }\n",
       "\n",
       "    .dataframe tbody tr th {\n",
       "        vertical-align: top;\n",
       "    }\n",
       "\n",
       "    .dataframe thead th {\n",
       "        text-align: right;\n",
       "    }\n",
       "</style>\n",
       "<table border=\"1\" class=\"dataframe\">\n",
       "  <thead>\n",
       "    <tr style=\"text-align: right;\">\n",
       "      <th></th>\n",
       "      <th>product_id</th>\n",
       "      <th>prod_name</th>\n",
       "      <th>today_original_price</th>\n",
       "      <th>today_retail_price</th>\n",
       "      <th>availability_flag</th>\n",
       "      <th>home_category_id</th>\n",
       "      <th>gmm_id</th>\n",
       "      <th>div_id</th>\n",
       "      <th>department_id</th>\n",
       "      <th>prod_age_txt</th>\n",
       "      <th>...</th>\n",
       "      <th>deal</th>\n",
       "      <th>age_category</th>\n",
       "      <th>prodtype</th>\n",
       "      <th>gender</th>\n",
       "      <th>master_product_flag</th>\n",
       "      <th>recommend_pdp</th>\n",
       "      <th>product_long_description</th>\n",
       "      <th>special_size</th>\n",
       "      <th>view_30_day_count</th>\n",
       "      <th>purch_30_day_count</th>\n",
       "    </tr>\n",
       "  </thead>\n",
       "  <tbody>\n",
       "    <tr>\n",
       "      <th>0</th>\n",
       "      <td>99290475</td>\n",
       "      <td>MARTHA STEWART COLLECTION \"FAUX BOIS\" REVERSIB...</td>\n",
       "      <td>\\N</td>\n",
       "      <td>\\N</td>\n",
       "      <td>\\N</td>\n",
       "      <td>\\N</td>\n",
       "      <td>47</td>\n",
       "      <td>81</td>\n",
       "      <td>609</td>\n",
       "      <td>\\N</td>\n",
       "      <td>...</td>\n",
       "      <td>regular</td>\n",
       "      <td>\\N</td>\n",
       "      <td>COMFORTER</td>\n",
       "      <td>\\N</td>\n",
       "      <td>\\N</td>\n",
       "      <td>Y</td>\n",
       "      <td>\\N</td>\n",
       "      <td>\\N</td>\n",
       "      <td>0</td>\n",
       "      <td>0</td>\n",
       "    </tr>\n",
       "    <tr>\n",
       "      <th>1</th>\n",
       "      <td>99290474</td>\n",
       "      <td>MARTHA STEWART COLLECTION \"FAUX BOIS\" REVERSIB...</td>\n",
       "      <td>\\N</td>\n",
       "      <td>\\N</td>\n",
       "      <td>\\N</td>\n",
       "      <td>\\N</td>\n",
       "      <td>47</td>\n",
       "      <td>81</td>\n",
       "      <td>609</td>\n",
       "      <td>\\N</td>\n",
       "      <td>...</td>\n",
       "      <td>regular</td>\n",
       "      <td>\\N</td>\n",
       "      <td>COMFORTER</td>\n",
       "      <td>\\N</td>\n",
       "      <td>\\N</td>\n",
       "      <td>Y</td>\n",
       "      <td>\\N</td>\n",
       "      <td>\\N</td>\n",
       "      <td>0</td>\n",
       "      <td>0</td>\n",
       "    </tr>\n",
       "    <tr>\n",
       "      <th>2</th>\n",
       "      <td>99290469</td>\n",
       "      <td>JESSICA SIMPSON \"KREME\" SLINGBACK PUMP</td>\n",
       "      <td>\\N</td>\n",
       "      <td>\\N</td>\n",
       "      <td>\\N</td>\n",
       "      <td>\\N</td>\n",
       "      <td>1</td>\n",
       "      <td>16</td>\n",
       "      <td>394</td>\n",
       "      <td>\\N</td>\n",
       "      <td>...</td>\n",
       "      <td>regular</td>\n",
       "      <td>\\N</td>\n",
       "      <td>UNKNOWN</td>\n",
       "      <td>\\N</td>\n",
       "      <td>\\N</td>\n",
       "      <td>Y</td>\n",
       "      <td>\\N</td>\n",
       "      <td>\\N</td>\n",
       "      <td>0</td>\n",
       "      <td>0</td>\n",
       "    </tr>\n",
       "  </tbody>\n",
       "</table>\n",
       "<p>3 rows × 23 columns</p>\n",
       "</div>"
      ],
      "text/plain": [
       "  product_id                                          prod_name  \\\n",
       "0   99290475  MARTHA STEWART COLLECTION \"FAUX BOIS\" REVERSIB...   \n",
       "1   99290474  MARTHA STEWART COLLECTION \"FAUX BOIS\" REVERSIB...   \n",
       "2   99290469             JESSICA SIMPSON \"KREME\" SLINGBACK PUMP   \n",
       "\n",
       "  today_original_price today_retail_price availability_flag home_category_id  \\\n",
       "0                   \\N                 \\N                \\N               \\N   \n",
       "1                   \\N                 \\N                \\N               \\N   \n",
       "2                   \\N                 \\N                \\N               \\N   \n",
       "\n",
       "  gmm_id div_id department_id prod_age_txt  ...     deal age_category  \\\n",
       "0     47     81           609           \\N  ...  regular           \\N   \n",
       "1     47     81           609           \\N  ...  regular           \\N   \n",
       "2      1     16           394           \\N  ...  regular           \\N   \n",
       "\n",
       "    prodtype gender master_product_flag recommend_pdp  \\\n",
       "0  COMFORTER     \\N                  \\N             Y   \n",
       "1  COMFORTER     \\N                  \\N             Y   \n",
       "2    UNKNOWN     \\N                  \\N             Y   \n",
       "\n",
       "  product_long_description special_size view_30_day_count purch_30_day_count  \n",
       "0                       \\N           \\N                 0                  0  \n",
       "1                       \\N           \\N                 0                  0  \n",
       "2                       \\N           \\N                 0                  0  \n",
       "\n",
       "[3 rows x 23 columns]"
      ]
     },
     "execution_count": 14,
     "metadata": {},
     "output_type": "execute_result"
    }
   ],
   "source": [
    "attr_r = pd.DataFrame(attr_rows_recent[1:])\n",
    "attr_r.columns = attr_rows_recent[0]\n",
    "attr_b = pd.DataFrame(attr_rows_big[1:])\n",
    "attr_b.columns = attr_rows_big[0]\n",
    "attr_r.head(3)"
   ]
  },
  {
   "cell_type": "code",
   "execution_count": 15,
   "metadata": {},
   "outputs": [
    {
     "data": {
      "text/plain": [
       "0"
      ]
     },
     "execution_count": 15,
     "metadata": {},
     "output_type": "execute_result"
    }
   ],
   "source": [
    "del attr_rows_recent\n",
    "del attr_rows_big\n",
    "gc.collect()"
   ]
  },
  {
   "cell_type": "code",
   "execution_count": 16,
   "metadata": {},
   "outputs": [
    {
     "data": {
      "text/plain": [
       "Index(['product_id', 'prod_name', 'today_original_price', 'today_retail_price',\n",
       "       'availability_flag', 'home_category_id', 'gmm_id', 'div_id',\n",
       "       'department_id', 'prod_age_txt', 'new_arrival', 'brand',\n",
       "       'today_price_type_id', 'deal', 'age_category', 'prodtype', 'gender',\n",
       "       'master_product_flag', 'recommend_pdp', 'product_long_description',\n",
       "       'special_size', 'view_30_day_count', 'purch_30_day_count'],\n",
       "      dtype='object')"
      ]
     },
     "execution_count": 16,
     "metadata": {},
     "output_type": "execute_result"
    }
   ],
   "source": [
    "attr_r.columns"
   ]
  },
  {
   "cell_type": "code",
   "execution_count": 17,
   "metadata": {},
   "outputs": [
    {
     "name": "stdout",
     "output_type": "stream",
     "text": [
      "homecat ids:  750\n",
      "gmm ids:  6\n",
      "div ids:  57\n",
      "department ids:  709\n",
      "prodtype:  339\n"
     ]
    }
   ],
   "source": [
    "print(\"homecat ids: \", attr_r['home_category_id'].nunique())\n",
    "print(\"gmm ids: \", attr_r['gmm_id'].nunique())\n",
    "print(\"div ids: \", attr_r['div_id'].nunique())\n",
    "print(\"department ids: \", attr_r['department_id'].nunique())\n",
    "print(\"prodtype: \", attr_r['prodtype'].nunique())"
   ]
  },
  {
   "cell_type": "code",
   "execution_count": null,
   "metadata": {},
   "outputs": [],
   "source": [
    "avail_attr = attr_r.query('availability_flag == \"Y\" & master_product_flag != \"Y\"')[['product_id', 'prod_name', \n",
    "                                                            'home_category_id', 'gmm_id', 'div_id', \n",
    "                                                            'department_id', 'brand', 'prodtype',\n",
    "                                                            'view_30_day_count', 'purch_30_day_count']]\n",
    "avail_attr['view_30_day_count'] = avail_attr['view_30_day_count'].astype('int32')\n",
    "avail_attr['purch_30_day_count'] = avail_attr['purch_30_day_count'].astype('int32')\n",
    "avail_attr = avail_attr.sort_values(by=['purch_30_day_count','view_30_day_count'],ascending=False)\n",
    "avail_attr.head()"
   ]
  },
  {
   "cell_type": "code",
   "execution_count": null,
   "metadata": {},
   "outputs": [],
   "source": []
  }
 ],
 "metadata": {
  "kernelspec": {
   "display_name": "Python 3",
   "language": "python",
   "name": "python3"
  },
  "language_info": {
   "codemirror_mode": {
    "name": "ipython",
    "version": 3
   },
   "file_extension": ".py",
   "mimetype": "text/x-python",
   "name": "python",
   "nbconvert_exporter": "python",
   "pygments_lexer": "ipython3",
   "version": "3.6.8"
  }
 },
 "nbformat": 4,
 "nbformat_minor": 2
}
