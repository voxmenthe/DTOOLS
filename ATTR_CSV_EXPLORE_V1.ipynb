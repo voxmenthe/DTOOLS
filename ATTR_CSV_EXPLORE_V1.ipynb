{
 "cells": [
  {
   "cell_type": "code",
   "execution_count": 1,
   "metadata": {},
   "outputs": [],
   "source": [
    "%load_ext autoreload\n",
    "%autoreload 2"
   ]
  },
  {
   "cell_type": "code",
   "execution_count": 35,
   "metadata": {},
   "outputs": [],
   "source": [
    "import gc\n",
    "import sys\n",
    "import json\n",
    "import numpy as np\n",
    "import pandas as pd\n",
    "import mml_lib.visualization as viz\n",
    "\n",
    "from IPython.display import display_html, Markdown, display\n",
    "\n",
    "sys.path.append('/home/jovyan/work/yh09262/cython_home')\n",
    "sys.path.append('/home/jovyan/work/yh09262/utils_and_queries')\n",
    "\n",
    "from get_csv_rows import get_csv_rows\n",
    "from get_baskets import get_baskets\n",
    "from get_baskets_cdef import get_baskets_cdef\n",
    "\n",
    "import UPC_utils_July_2019 as uu"
   ]
  },
  {
   "cell_type": "code",
   "execution_count": 3,
   "metadata": {},
   "outputs": [
    {
     "name": "stdout",
     "output_type": "stream",
     "text": [
      "/home/jovyan/datasets/d_train_20181030_60\r\n",
      "/home/jovyan/datasets/d_train_20190210_90\r\n",
      "/home/jovyan/datasets/d_train_20190515_14\r\n",
      "/home/jovyan/datasets/d_train_20190723_120_0\r\n",
      "/home/jovyan/datasets/d_train_20190723_60_0\r\n",
      "/home/jovyan/datasets/d_train_20190723_90_0\r\n",
      "/home/jovyan/datasets/d_train_20190809_3_0\r\n",
      "/home/jovyan/datasets/d_train_ari_namita\r\n",
      "/home/jovyan/datasets/d_train_test\r\n"
     ]
    }
   ],
   "source": [
    "!ls -d ~/datasets/d_train*"
   ]
  },
  {
   "cell_type": "code",
   "execution_count": 11,
   "metadata": {},
   "outputs": [],
   "source": [
    "#attr_rows_big = get_csv_rows('/home/jovyan/datasets/d_train_20190723_120_0/ur_production_product_attr.csv',numcols=23)\n",
    "attr_rows_recent = get_csv_rows('/home/jovyan/datasets/d_train_20190809_3_0/ur_production_product_attr.csv',numcols=23)"
   ]
  },
  {
   "cell_type": "code",
   "execution_count": 12,
   "metadata": {},
   "outputs": [
    {
     "data": {
      "text/plain": [
       "(2751103, 2799177)"
      ]
     },
     "execution_count": 12,
     "metadata": {},
     "output_type": "execute_result"
    }
   ],
   "source": [
    "len(attr_rows_big), len(attr_rows_recent)"
   ]
  },
  {
   "cell_type": "code",
   "execution_count": 14,
   "metadata": {},
   "outputs": [
    {
     "data": {
      "text/html": [
       "<div>\n",
       "<style scoped>\n",
       "    .dataframe tbody tr th:only-of-type {\n",
       "        vertical-align: middle;\n",
       "    }\n",
       "\n",
       "    .dataframe tbody tr th {\n",
       "        vertical-align: top;\n",
       "    }\n",
       "\n",
       "    .dataframe thead th {\n",
       "        text-align: right;\n",
       "    }\n",
       "</style>\n",
       "<table border=\"1\" class=\"dataframe\">\n",
       "  <thead>\n",
       "    <tr style=\"text-align: right;\">\n",
       "      <th></th>\n",
       "      <th>product_id</th>\n",
       "      <th>prod_name</th>\n",
       "      <th>today_original_price</th>\n",
       "      <th>today_retail_price</th>\n",
       "      <th>availability_flag</th>\n",
       "      <th>home_category_id</th>\n",
       "      <th>gmm_id</th>\n",
       "      <th>div_id</th>\n",
       "      <th>department_id</th>\n",
       "      <th>prod_age_txt</th>\n",
       "      <th>...</th>\n",
       "      <th>deal</th>\n",
       "      <th>age_category</th>\n",
       "      <th>prodtype</th>\n",
       "      <th>gender</th>\n",
       "      <th>master_product_flag</th>\n",
       "      <th>recommend_pdp</th>\n",
       "      <th>product_long_description</th>\n",
       "      <th>special_size</th>\n",
       "      <th>view_30_day_count</th>\n",
       "      <th>purch_30_day_count</th>\n",
       "    </tr>\n",
       "  </thead>\n",
       "  <tbody>\n",
       "    <tr>\n",
       "      <th>0</th>\n",
       "      <td>99290475</td>\n",
       "      <td>MARTHA STEWART COLLECTION \"FAUX BOIS\" REVERSIB...</td>\n",
       "      <td>\\N</td>\n",
       "      <td>\\N</td>\n",
       "      <td>\\N</td>\n",
       "      <td>\\N</td>\n",
       "      <td>47</td>\n",
       "      <td>81</td>\n",
       "      <td>609</td>\n",
       "      <td>\\N</td>\n",
       "      <td>...</td>\n",
       "      <td>regular</td>\n",
       "      <td>\\N</td>\n",
       "      <td>COMFORTER</td>\n",
       "      <td>\\N</td>\n",
       "      <td>\\N</td>\n",
       "      <td>Y</td>\n",
       "      <td>\\N</td>\n",
       "      <td>\\N</td>\n",
       "      <td>0</td>\n",
       "      <td>0</td>\n",
       "    </tr>\n",
       "    <tr>\n",
       "      <th>1</th>\n",
       "      <td>99290474</td>\n",
       "      <td>MARTHA STEWART COLLECTION \"FAUX BOIS\" REVERSIB...</td>\n",
       "      <td>\\N</td>\n",
       "      <td>\\N</td>\n",
       "      <td>\\N</td>\n",
       "      <td>\\N</td>\n",
       "      <td>47</td>\n",
       "      <td>81</td>\n",
       "      <td>609</td>\n",
       "      <td>\\N</td>\n",
       "      <td>...</td>\n",
       "      <td>regular</td>\n",
       "      <td>\\N</td>\n",
       "      <td>COMFORTER</td>\n",
       "      <td>\\N</td>\n",
       "      <td>\\N</td>\n",
       "      <td>Y</td>\n",
       "      <td>\\N</td>\n",
       "      <td>\\N</td>\n",
       "      <td>0</td>\n",
       "      <td>0</td>\n",
       "    </tr>\n",
       "    <tr>\n",
       "      <th>2</th>\n",
       "      <td>99290469</td>\n",
       "      <td>JESSICA SIMPSON \"KREME\" SLINGBACK PUMP</td>\n",
       "      <td>\\N</td>\n",
       "      <td>\\N</td>\n",
       "      <td>\\N</td>\n",
       "      <td>\\N</td>\n",
       "      <td>1</td>\n",
       "      <td>16</td>\n",
       "      <td>394</td>\n",
       "      <td>\\N</td>\n",
       "      <td>...</td>\n",
       "      <td>regular</td>\n",
       "      <td>\\N</td>\n",
       "      <td>UNKNOWN</td>\n",
       "      <td>\\N</td>\n",
       "      <td>\\N</td>\n",
       "      <td>Y</td>\n",
       "      <td>\\N</td>\n",
       "      <td>\\N</td>\n",
       "      <td>0</td>\n",
       "      <td>0</td>\n",
       "    </tr>\n",
       "  </tbody>\n",
       "</table>\n",
       "<p>3 rows × 23 columns</p>\n",
       "</div>"
      ],
      "text/plain": [
       "  product_id                                          prod_name  \\\n",
       "0   99290475  MARTHA STEWART COLLECTION \"FAUX BOIS\" REVERSIB...   \n",
       "1   99290474  MARTHA STEWART COLLECTION \"FAUX BOIS\" REVERSIB...   \n",
       "2   99290469             JESSICA SIMPSON \"KREME\" SLINGBACK PUMP   \n",
       "\n",
       "  today_original_price today_retail_price availability_flag home_category_id  \\\n",
       "0                   \\N                 \\N                \\N               \\N   \n",
       "1                   \\N                 \\N                \\N               \\N   \n",
       "2                   \\N                 \\N                \\N               \\N   \n",
       "\n",
       "  gmm_id div_id department_id prod_age_txt  ...     deal age_category  \\\n",
       "0     47     81           609           \\N  ...  regular           \\N   \n",
       "1     47     81           609           \\N  ...  regular           \\N   \n",
       "2      1     16           394           \\N  ...  regular           \\N   \n",
       "\n",
       "    prodtype gender master_product_flag recommend_pdp  \\\n",
       "0  COMFORTER     \\N                  \\N             Y   \n",
       "1  COMFORTER     \\N                  \\N             Y   \n",
       "2    UNKNOWN     \\N                  \\N             Y   \n",
       "\n",
       "  product_long_description special_size view_30_day_count purch_30_day_count  \n",
       "0                       \\N           \\N                 0                  0  \n",
       "1                       \\N           \\N                 0                  0  \n",
       "2                       \\N           \\N                 0                  0  \n",
       "\n",
       "[3 rows x 23 columns]"
      ]
     },
     "execution_count": 14,
     "metadata": {},
     "output_type": "execute_result"
    }
   ],
   "source": [
    "attr_r = pd.DataFrame(attr_rows_recent[1:])\n",
    "attr_r.columns = attr_rows_recent[0]\n",
    "attr_b = pd.DataFrame(attr_rows_big[1:])\n",
    "attr_b.columns = attr_rows_big[0]\n",
    "attr_r.head(3)"
   ]
  },
  {
   "cell_type": "code",
   "execution_count": 15,
   "metadata": {},
   "outputs": [
    {
     "data": {
      "text/plain": [
       "0"
      ]
     },
     "execution_count": 15,
     "metadata": {},
     "output_type": "execute_result"
    }
   ],
   "source": [
    "del attr_rows_recent\n",
    "del attr_rows_big\n",
    "gc.collect()"
   ]
  },
  {
   "cell_type": "code",
   "execution_count": 16,
   "metadata": {},
   "outputs": [
    {
     "data": {
      "text/plain": [
       "Index(['product_id', 'prod_name', 'today_original_price', 'today_retail_price',\n",
       "       'availability_flag', 'home_category_id', 'gmm_id', 'div_id',\n",
       "       'department_id', 'prod_age_txt', 'new_arrival', 'brand',\n",
       "       'today_price_type_id', 'deal', 'age_category', 'prodtype', 'gender',\n",
       "       'master_product_flag', 'recommend_pdp', 'product_long_description',\n",
       "       'special_size', 'view_30_day_count', 'purch_30_day_count'],\n",
       "      dtype='object')"
      ]
     },
     "execution_count": 16,
     "metadata": {},
     "output_type": "execute_result"
    }
   ],
   "source": [
    "attr_r.columns"
   ]
  },
  {
   "cell_type": "code",
   "execution_count": 17,
   "metadata": {},
   "outputs": [
    {
     "name": "stdout",
     "output_type": "stream",
     "text": [
      "homecat ids:  750\n",
      "gmm ids:  6\n",
      "div ids:  57\n",
      "department ids:  709\n",
      "prodtype:  339\n"
     ]
    }
   ],
   "source": [
    "print(\"homecat ids: \", attr_r['home_category_id'].nunique())\n",
    "print(\"gmm ids: \", attr_r['gmm_id'].nunique())\n",
    "print(\"div ids: \", attr_r['div_id'].nunique())\n",
    "print(\"department ids: \", attr_r['department_id'].nunique())\n",
    "print(\"prodtype: \", attr_r['prodtype'].nunique())"
   ]
  },
  {
   "cell_type": "code",
   "execution_count": 18,
   "metadata": {},
   "outputs": [
    {
     "data": {
      "text/html": [
       "<div>\n",
       "<style scoped>\n",
       "    .dataframe tbody tr th:only-of-type {\n",
       "        vertical-align: middle;\n",
       "    }\n",
       "\n",
       "    .dataframe tbody tr th {\n",
       "        vertical-align: top;\n",
       "    }\n",
       "\n",
       "    .dataframe thead th {\n",
       "        text-align: right;\n",
       "    }\n",
       "</style>\n",
       "<table border=\"1\" class=\"dataframe\">\n",
       "  <thead>\n",
       "    <tr style=\"text-align: right;\">\n",
       "      <th></th>\n",
       "      <th>product_id</th>\n",
       "      <th>prod_name</th>\n",
       "      <th>home_category_id</th>\n",
       "      <th>gmm_id</th>\n",
       "      <th>div_id</th>\n",
       "      <th>department_id</th>\n",
       "      <th>brand</th>\n",
       "      <th>prodtype</th>\n",
       "      <th>view_30_day_count</th>\n",
       "      <th>purch_30_day_count</th>\n",
       "    </tr>\n",
       "  </thead>\n",
       "  <tbody>\n",
       "    <tr>\n",
       "      <th>1382239</th>\n",
       "      <td>4401441</td>\n",
       "      <td>TOMMY HILFIGER ALL AMERICAN II COTTON BATH TOW...</td>\n",
       "      <td>16853</td>\n",
       "      <td>47</td>\n",
       "      <td>81</td>\n",
       "      <td>601</td>\n",
       "      <td>TOMMY HILFIGER</td>\n",
       "      <td>TOWEL</td>\n",
       "      <td>204522</td>\n",
       "      <td>28160</td>\n",
       "    </tr>\n",
       "    <tr>\n",
       "      <th>237719</th>\n",
       "      <td>9386971</td>\n",
       "      <td>DIAMOND CLUSTER STUD EARRINGS (1/10 CT. T.W.) ...</td>\n",
       "      <td>10835</td>\n",
       "      <td>1</td>\n",
       "      <td>35</td>\n",
       "      <td>734</td>\n",
       "      <td>MACY'S</td>\n",
       "      <td>EARRINGS</td>\n",
       "      <td>181846</td>\n",
       "      <td>22514</td>\n",
       "    </tr>\n",
       "    <tr>\n",
       "      <th>969965</th>\n",
       "      <td>6945072</td>\n",
       "      <td>CLARKS COLLECTION WOMEN'S BRINKLEY SAIL FLIP-F...</td>\n",
       "      <td>17570</td>\n",
       "      <td>1</td>\n",
       "      <td>16</td>\n",
       "      <td>391</td>\n",
       "      <td>CLARKS</td>\n",
       "      <td>SHOE</td>\n",
       "      <td>304418</td>\n",
       "      <td>17595</td>\n",
       "    </tr>\n",
       "    <tr>\n",
       "      <th>1137088</th>\n",
       "      <td>5887722</td>\n",
       "      <td>INSTANT POT DUO60  7-IN-1 PROGRAMMABLE PRESSUR...</td>\n",
       "      <td>7554</td>\n",
       "      <td>47</td>\n",
       "      <td>85</td>\n",
       "      <td>691</td>\n",
       "      <td>INSTANT POT</td>\n",
       "      <td>ELECTRICS</td>\n",
       "      <td>366994</td>\n",
       "      <td>14655</td>\n",
       "    </tr>\n",
       "    <tr>\n",
       "      <th>2414824</th>\n",
       "      <td>560829</td>\n",
       "      <td>BALI DOUBLE SUPPORT SPA CLOSURE WIRELESS BRA  ...</td>\n",
       "      <td>55799</td>\n",
       "      <td>1</td>\n",
       "      <td>22</td>\n",
       "      <td>251</td>\n",
       "      <td>BALI</td>\n",
       "      <td>BRA</td>\n",
       "      <td>218755</td>\n",
       "      <td>12739</td>\n",
       "    </tr>\n",
       "  </tbody>\n",
       "</table>\n",
       "</div>"
      ],
      "text/plain": [
       "        product_id                                          prod_name  \\\n",
       "1382239    4401441  TOMMY HILFIGER ALL AMERICAN II COTTON BATH TOW...   \n",
       "237719     9386971  DIAMOND CLUSTER STUD EARRINGS (1/10 CT. T.W.) ...   \n",
       "969965     6945072  CLARKS COLLECTION WOMEN'S BRINKLEY SAIL FLIP-F...   \n",
       "1137088    5887722  INSTANT POT DUO60  7-IN-1 PROGRAMMABLE PRESSUR...   \n",
       "2414824     560829  BALI DOUBLE SUPPORT SPA CLOSURE WIRELESS BRA  ...   \n",
       "\n",
       "        home_category_id gmm_id div_id department_id           brand  \\\n",
       "1382239            16853     47     81           601  TOMMY HILFIGER   \n",
       "237719             10835      1     35           734          MACY'S   \n",
       "969965             17570      1     16           391          CLARKS   \n",
       "1137088             7554     47     85           691     INSTANT POT   \n",
       "2414824            55799      1     22           251            BALI   \n",
       "\n",
       "          prodtype  view_30_day_count  purch_30_day_count  \n",
       "1382239      TOWEL             204522               28160  \n",
       "237719    EARRINGS             181846               22514  \n",
       "969965        SHOE             304418               17595  \n",
       "1137088  ELECTRICS             366994               14655  \n",
       "2414824        BRA             218755               12739  "
      ]
     },
     "execution_count": 18,
     "metadata": {},
     "output_type": "execute_result"
    }
   ],
   "source": [
    "avail_attr = attr_r.query('availability_flag == \"Y\" & master_product_flag != \"Y\"')[['product_id', 'prod_name', \n",
    "                                                            'home_category_id', 'gmm_id', 'div_id', \n",
    "                                                            'department_id', 'brand', 'prodtype',\n",
    "                                                            'view_30_day_count', 'purch_30_day_count']]\n",
    "avail_attr['view_30_day_count'] = avail_attr['view_30_day_count'].astype('int32')\n",
    "avail_attr['purch_30_day_count'] = avail_attr['purch_30_day_count'].astype('int32')\n",
    "avail_attr = avail_attr.sort_values(by=['purch_30_day_count','view_30_day_count'],ascending=False)\n",
    "avail_attr.head()"
   ]
  },
  {
   "cell_type": "code",
   "execution_count": 19,
   "metadata": {},
   "outputs": [
    {
     "name": "stdout",
     "output_type": "stream",
     "text": [
      "728960 (728960, 10)\n",
      "['4401441' '9386971' '6945072' '5887722' '560829']\n"
     ]
    }
   ],
   "source": [
    "avail_pids = avail_attr['product_id'].unique()\n",
    "print(len(avail_pids), avail_attr.shape)\n",
    "print(avail_pids[:5])"
   ]
  },
  {
   "cell_type": "code",
   "execution_count": 20,
   "metadata": {},
   "outputs": [
    {
     "data": {
      "text/html": [
       "<div>\n",
       "<style scoped>\n",
       "    .dataframe tbody tr th:only-of-type {\n",
       "        vertical-align: middle;\n",
       "    }\n",
       "\n",
       "    .dataframe tbody tr th {\n",
       "        vertical-align: top;\n",
       "    }\n",
       "\n",
       "    .dataframe thead th {\n",
       "        text-align: right;\n",
       "    }\n",
       "</style>\n",
       "<table border=\"1\" class=\"dataframe\">\n",
       "  <thead>\n",
       "    <tr style=\"text-align: right;\">\n",
       "      <th></th>\n",
       "      <th>product_id</th>\n",
       "      <th>prod_name</th>\n",
       "      <th>home_category_id</th>\n",
       "      <th>gmm_id</th>\n",
       "      <th>div_id</th>\n",
       "      <th>department_id</th>\n",
       "      <th>brand</th>\n",
       "      <th>prodtype</th>\n",
       "      <th>view_30_day_count</th>\n",
       "      <th>purch_30_day_count</th>\n",
       "    </tr>\n",
       "  </thead>\n",
       "  <tbody>\n",
       "    <tr>\n",
       "      <th>1287608</th>\n",
       "      <td>4824912</td>\n",
       "      <td>ROD DESYNE EMILIA 5/8\" CURTAIN ROD 84\"-120\"</td>\n",
       "      <td>198056</td>\n",
       "      <td>47</td>\n",
       "      <td>81</td>\n",
       "      <td>61</td>\n",
       "      <td>ROD DESYNE</td>\n",
       "      <td>WINDOW_HARDWARE</td>\n",
       "      <td>1</td>\n",
       "      <td>1</td>\n",
       "    </tr>\n",
       "    <tr>\n",
       "      <th>1506295</th>\n",
       "      <td>2870324</td>\n",
       "      <td>ROD DESYNE LENORE SINGLE CURTAIN ROD 160-240\"</td>\n",
       "      <td>198056</td>\n",
       "      <td>47</td>\n",
       "      <td>81</td>\n",
       "      <td>61</td>\n",
       "      <td>ROD DESYNE</td>\n",
       "      <td>WINDOW_HARDWARE</td>\n",
       "      <td>1</td>\n",
       "      <td>1</td>\n",
       "    </tr>\n",
       "    <tr>\n",
       "      <th>1726353</th>\n",
       "      <td>2294898</td>\n",
       "      <td>FOREVER COLLECTIBLES INDIANAPOLIS COLTS BIG LO...</td>\n",
       "      <td>65701</td>\n",
       "      <td>91</td>\n",
       "      <td>67</td>\n",
       "      <td>912</td>\n",
       "      <td>FOREVER COLLECTIBLES</td>\n",
       "      <td>BACKPACK_MESSENGER</td>\n",
       "      <td>1</td>\n",
       "      <td>1</td>\n",
       "    </tr>\n",
       "    <tr>\n",
       "      <th>1942320</th>\n",
       "      <td>1613268</td>\n",
       "      <td>TERVIS TUMBLER LOS ANGELES KINGS 24 OZ. COLOSS...</td>\n",
       "      <td>65701</td>\n",
       "      <td>91</td>\n",
       "      <td>67</td>\n",
       "      <td>912</td>\n",
       "      <td>TERVIS TUMBLER</td>\n",
       "      <td>BARWARE</td>\n",
       "      <td>1</td>\n",
       "      <td>1</td>\n",
       "    </tr>\n",
       "    <tr>\n",
       "      <th>1942364</th>\n",
       "      <td>1613224</td>\n",
       "      <td>TERVIS TUMBLER TAMPA BAY BUCCANEERS 24 OZ. COL...</td>\n",
       "      <td>65701</td>\n",
       "      <td>91</td>\n",
       "      <td>67</td>\n",
       "      <td>912</td>\n",
       "      <td>TERVIS TUMBLER</td>\n",
       "      <td>BARWARE</td>\n",
       "      <td>1</td>\n",
       "      <td>1</td>\n",
       "    </tr>\n",
       "  </tbody>\n",
       "</table>\n",
       "</div>"
      ],
      "text/plain": [
       "        product_id                                          prod_name  \\\n",
       "1287608    4824912        ROD DESYNE EMILIA 5/8\" CURTAIN ROD 84\"-120\"   \n",
       "1506295    2870324      ROD DESYNE LENORE SINGLE CURTAIN ROD 160-240\"   \n",
       "1726353    2294898  FOREVER COLLECTIBLES INDIANAPOLIS COLTS BIG LO...   \n",
       "1942320    1613268  TERVIS TUMBLER LOS ANGELES KINGS 24 OZ. COLOSS...   \n",
       "1942364    1613224  TERVIS TUMBLER TAMPA BAY BUCCANEERS 24 OZ. COL...   \n",
       "\n",
       "        home_category_id gmm_id div_id department_id                 brand  \\\n",
       "1287608           198056     47     81            61            ROD DESYNE   \n",
       "1506295           198056     47     81            61            ROD DESYNE   \n",
       "1726353            65701     91     67           912  FOREVER COLLECTIBLES   \n",
       "1942320            65701     91     67           912        TERVIS TUMBLER   \n",
       "1942364            65701     91     67           912        TERVIS TUMBLER   \n",
       "\n",
       "                   prodtype  view_30_day_count  purch_30_day_count  \n",
       "1287608     WINDOW_HARDWARE                  1                   1  \n",
       "1506295     WINDOW_HARDWARE                  1                   1  \n",
       "1726353  BACKPACK_MESSENGER                  1                   1  \n",
       "1942320             BARWARE                  1                   1  \n",
       "1942364             BARWARE                  1                   1  "
      ]
     },
     "execution_count": 20,
     "metadata": {},
     "output_type": "execute_result"
    }
   ],
   "source": [
    "avail_attr_purch = avail_attr.query('purch_30_day_count > 0 & view_30_day_count > 0')\n",
    "avail_attr_purch.tail()"
   ]
  },
  {
   "cell_type": "code",
   "execution_count": 28,
   "metadata": {},
   "outputs": [
    {
     "name": "stdout",
     "output_type": "stream",
     "text": [
      "7 50 28 14080 214\n"
     ]
    }
   ],
   "source": [
    "medianpc = int(avail_attr_purch['purch_30_day_count'].median())\n",
    "meanpc = int(avail_attr_purch['purch_30_day_count'].mean())\n",
    "std = int(avail_attr_purch['purch_30_day_count'].std())\n",
    "mm = int((medianpc+meanpc)/2)\n",
    "mid = int(avail_attr_purch['purch_30_day_count'].max()/2)\n",
    "print(medianpc, meanpc, mm, mid, std)"
   ]
  },
  {
   "cell_type": "code",
   "execution_count": 29,
   "metadata": {},
   "outputs": [
    {
     "name": "stdout",
     "output_type": "stream",
     "text": [
      "173407\n",
      "['4401441' '9386971' '6945072' '5887722' '560829']\n"
     ]
    }
   ],
   "source": [
    "avail_purch_pids = avail_attr_purch['product_id'].unique()\n",
    "print(len(avail_purch_pids))\n",
    "print(avail_purch_pids[:5])"
   ]
  },
  {
   "cell_type": "code",
   "execution_count": 77,
   "metadata": {},
   "outputs": [
    {
     "name": "stdout",
     "output_type": "stream",
     "text": [
      "200\n"
     ]
    }
   ],
   "source": [
    "bestsell_20 = avail_purch_pids[:20]\n",
    "bestsell_200 = avail_purch_pids[:200]\n",
    "worstsell_20 = avail_purch_pids[-20:]\n",
    "worstsell_200 = avail_purch_pids[-200:]\n",
    "midsell_15good10_20 = np.random.choice(avail_purch_pids[mid-(std*15):mid-(std*10)],size=20,replace=False) # neg = higher rank\n",
    "midsell_20 = np.random.choice(avail_purch_pids[mid-std:mid+std],size=20,replace=False)\n",
    "midsell_200 = np.random.choice(avail_purch_pids[mid-std-std:mid+std+std],size=200,replace=False)\n",
    "midsell_10bad15_20 = np.random.choice(avail_purch_pids[mid+(std*10):mid+(std*15)],size=20,replace=False) # pos = lower rank\n",
    "sample_20 = np.random.choice(avail_pids,size=20,replace=False)\n",
    "sample_200 = np.random.choice(avail_pids,size=200,replace=False)\n",
    "samplep_20 = np.random.choice(avail_purch_pids,size=20,replace=False)\n",
    "samplep_200 = np.random.choice(avail_purch_pids,size=200,replace=False)\n",
    "print(len(midsell_200))"
   ]
  },
  {
   "cell_type": "code",
   "execution_count": 78,
   "metadata": {},
   "outputs": [
    {
     "data": {
      "text/plain": [
       "array(['8714784', '402401', '8487359', '4550250', '7823131', '8487340',\n",
       "       '8823292', '7894949', '804202', '8404021', '8010978', '5759499',\n",
       "       '8523562', '201797', '7607197', '7877929', '6304699', '9185188',\n",
       "       '9030449', '10036752'], dtype=object)"
      ]
     },
     "execution_count": 78,
     "metadata": {},
     "output_type": "execute_result"
    }
   ],
   "source": [
    "midsell_15good10_20"
   ]
  },
  {
   "cell_type": "code",
   "execution_count": 75,
   "metadata": {},
   "outputs": [
    {
     "data": {
      "text/html": [
       "<div>\n",
       "<style scoped>\n",
       "    .dataframe tbody tr th:only-of-type {\n",
       "        vertical-align: middle;\n",
       "    }\n",
       "\n",
       "    .dataframe tbody tr th {\n",
       "        vertical-align: top;\n",
       "    }\n",
       "\n",
       "    .dataframe thead th {\n",
       "        text-align: right;\n",
       "    }\n",
       "</style>\n",
       "<table border=\"1\" class=\"dataframe\">\n",
       "  <thead>\n",
       "    <tr style=\"text-align: right;\">\n",
       "      <th></th>\n",
       "      <th>product_id</th>\n",
       "      <th>prod_name</th>\n",
       "      <th>home_category_id</th>\n",
       "      <th>gmm_id</th>\n",
       "      <th>div_id</th>\n",
       "      <th>department_id</th>\n",
       "      <th>brand</th>\n",
       "      <th>prodtype</th>\n",
       "      <th>view_30_day_count</th>\n",
       "      <th>purch_30_day_count</th>\n",
       "    </tr>\n",
       "  </thead>\n",
       "  <tbody>\n",
       "    <tr>\n",
       "      <th>2558692</th>\n",
       "      <td>367726</td>\n",
       "      <td>MAC STUDIO SCULPT SPF 15 FOUNDATION</td>\n",
       "      <td>30077</td>\n",
       "      <td>4</td>\n",
       "      <td>41</td>\n",
       "      <td>340</td>\n",
       "      <td>MAC</td>\n",
       "      <td>MAKEUP</td>\n",
       "      <td>3197</td>\n",
       "      <td>172</td>\n",
       "    </tr>\n",
       "    <tr>\n",
       "      <th>1972142</th>\n",
       "      <td>1505360</td>\n",
       "      <td>BALI ONE SMOOTH U ULTRALIGHT HIPSTER UNDERWEAR...</td>\n",
       "      <td>225</td>\n",
       "      <td>1</td>\n",
       "      <td>22</td>\n",
       "      <td>246</td>\n",
       "      <td>BALI</td>\n",
       "      <td>PANTY</td>\n",
       "      <td>6275</td>\n",
       "      <td>171</td>\n",
       "    </tr>\n",
       "    <tr>\n",
       "      <th>375760</th>\n",
       "      <td>9013598</td>\n",
       "      <td>FIRST IMPRESSIONS TODDLER GIRLS COTTON BIRD-PR...</td>\n",
       "      <td>63014</td>\n",
       "      <td>5</td>\n",
       "      <td>21</td>\n",
       "      <td>410</td>\n",
       "      <td>FIRST IMPRESSIONS</td>\n",
       "      <td>T-SHIRT</td>\n",
       "      <td>4656</td>\n",
       "      <td>171</td>\n",
       "    </tr>\n",
       "    <tr>\n",
       "      <th>3114</th>\n",
       "      <td>10133895</td>\n",
       "      <td>CIRCUS BY SAM EDELMAN CANYON MEDALLION FLAT SA...</td>\n",
       "      <td>17570</td>\n",
       "      <td>1</td>\n",
       "      <td>16</td>\n",
       "      <td>382</td>\n",
       "      <td>CIRCUS BY SAM EDELMAN</td>\n",
       "      <td>SHOE</td>\n",
       "      <td>14094</td>\n",
       "      <td>169</td>\n",
       "    </tr>\n",
       "    <tr>\n",
       "      <th>485450</th>\n",
       "      <td>8637964</td>\n",
       "      <td>I.N.C. TIE-FRONT PEASANT TOP, CREATED FOR MACY'S</td>\n",
       "      <td>255</td>\n",
       "      <td>2</td>\n",
       "      <td>77</td>\n",
       "      <td>899</td>\n",
       "      <td>INC INTERNATIONAL CONCEPTS</td>\n",
       "      <td>TOP</td>\n",
       "      <td>7556</td>\n",
       "      <td>169</td>\n",
       "    </tr>\n",
       "  </tbody>\n",
       "</table>\n",
       "</div>"
      ],
      "text/plain": [
       "        product_id                                          prod_name  \\\n",
       "2558692     367726                MAC STUDIO SCULPT SPF 15 FOUNDATION   \n",
       "1972142    1505360  BALI ONE SMOOTH U ULTRALIGHT HIPSTER UNDERWEAR...   \n",
       "375760     9013598  FIRST IMPRESSIONS TODDLER GIRLS COTTON BIRD-PR...   \n",
       "3114      10133895  CIRCUS BY SAM EDELMAN CANYON MEDALLION FLAT SA...   \n",
       "485450     8637964   I.N.C. TIE-FRONT PEASANT TOP, CREATED FOR MACY'S   \n",
       "\n",
       "        home_category_id gmm_id div_id department_id  \\\n",
       "2558692            30077      4     41           340   \n",
       "1972142              225      1     22           246   \n",
       "375760             63014      5     21           410   \n",
       "3114               17570      1     16           382   \n",
       "485450               255      2     77           899   \n",
       "\n",
       "                              brand prodtype  view_30_day_count  \\\n",
       "2558692                         MAC   MAKEUP               3197   \n",
       "1972142                        BALI    PANTY               6275   \n",
       "375760            FIRST IMPRESSIONS  T-SHIRT               4656   \n",
       "3114          CIRCUS BY SAM EDELMAN     SHOE              14094   \n",
       "485450   INC INTERNATIONAL CONCEPTS      TOP               7556   \n",
       "\n",
       "         purch_30_day_count  \n",
       "2558692                 172  \n",
       "1972142                 171  \n",
       "375760                  171  \n",
       "3114                    169  \n",
       "485450                  169  "
      ]
     },
     "execution_count": 75,
     "metadata": {},
     "output_type": "execute_result"
    }
   ],
   "source": [
    "avail_attr_purch.query('product_id in @midsell_10good15_20').head()"
   ]
  },
  {
   "cell_type": "code",
   "execution_count": 73,
   "metadata": {
    "scrolled": false
   },
   "outputs": [
    {
     "name": "stdout",
     "output_type": "stream",
     "text": [
      "['6308269' '5759646' '2783187' '4849260' '1505360' '8930184' '10010758'\n",
      " '9013598' '8186135' '367726' '7980378' '7723851' '5132057' '10133895'\n",
      " '5837598' '6386570' '8301947' '8637964' '8757268' '9026560']\n"
     ]
    },
    {
     "data": {
      "text/html": [
       "\n",
       "\t\t\t<style>\n",
       "\t\t\t.recom {float: left;\n",
       "\t\t\t\t\t\t\tmargin: 3px;\n",
       "\t\t\t\t\t\t\ttext-align: left;\n",
       "\t\t\t\t\t\t\t}\n",
       "\n",
       "\t\t\t.recomdiff {float: left;\n",
       "\t\t\t\t\t\t\t\t\tmargin: 3px;\n",
       "\t\t\t\t\t\t\t\t\ttext-align: left;\n",
       "\t\t\t\t\t\t\t\t\tborder: 1px solid #800000;}\n",
       "\n",
       "\t\t\t.recomhighlight {float: left;\n",
       "\t\t\t\t\t\t\t\t\tmargin: 3px;\n",
       "\t\t\t\t\t\t\t\t\ttext-align: left;\n",
       "\t\t\t\t\t\t\t\t\tborder: 1px solid #008000;}\n",
       "\t\t\t.description {float: left;font-size: 11px; text-align: left;}\n",
       "\t\t\t.price {float: left;font-size: 11px; text-align: left;}\n",
       "\t\t\t.det {float: left;margin: 1px; font-size: 8px}\n",
       "\t\t\t</style>\n",
       "\t\t\t<div class=\"recom\"><img src=\"../../../_product_images_cache/6/3/6308269.jpg\" width=\"120\">\n",
       "\t\t\t\t\t\t\t\t\t\t <br/ >\n",
       "\t\t\t\t\t\t\t\t\t\t <span class=\"description\">$39.98 (6308269)</span> <br />\n",
       "\t\t\t\t\t\t\t\t\t\t <span class=\"description\">XOXO Junio...</span> <br /></div><div class=\"recom\"><img src=\"../../../_product_images_cache/5/7/5759646.jpg\" width=\"120\">\n",
       "\t\t\t\t\t\t\t\t\t\t <br/ >\n",
       "\t\t\t\t\t\t\t\t\t\t <span class=\"description\">$55.0 (5759646)</span> <br />\n",
       "\t\t\t\t\t\t\t\t\t\t <span class=\"description\">Nike Men's...</span> <br /></div><div class=\"recom\"><img src=\"../../../_product_images_cache/2/7/2783187.jpg\" width=\"120\">\n",
       "\t\t\t\t\t\t\t\t\t\t <br/ >\n",
       "\t\t\t\t\t\t\t\t\t\t <span class=\"description\">$13.0 (2783187)</span> <br />\n",
       "\t\t\t\t\t\t\t\t\t\t <span class=\"description\">LANCME D...</span> <br /></div><div class=\"recom\"><img src=\"../../../_product_images_cache/4/8/4849260.jpg\" width=\"120\">\n",
       "\t\t\t\t\t\t\t\t\t\t <br/ >\n",
       "\t\t\t\t\t\t\t\t\t\t <span class=\"description\">$23.73 (4849260)</span> <br />\n",
       "\t\t\t\t\t\t\t\t\t\t <span class=\"description\">I.N.C. Men...</span> <br /></div><div class=\"recom\"><img src=\"../../../_product_images_cache/1/5/1505360.jpg\" width=\"120\">\n",
       "\t\t\t\t\t\t\t\t\t\t <br/ >\n",
       "\t\t\t\t\t\t\t\t\t\t <span class=\"description\">$8.4 (1505360)</span> <br />\n",
       "\t\t\t\t\t\t\t\t\t\t <span class=\"description\">BALI ONE S...</span> <br /></div><div class=\"recom\"><img src=\"../../../_product_images_cache/8/9/8930184.jpg\" width=\"120\">\n",
       "\t\t\t\t\t\t\t\t\t\t <br/ >\n",
       "\t\t\t\t\t\t\t\t\t\t <span class=\"description\">$59.5 (8930184)</span> <br />\n",
       "\t\t\t\t\t\t\t\t\t\t <span class=\"description\">Tommy Hilf...</span> <br /></div><div class=\"recom\"><img src=\"../../../_product_images_cache/1/0/10010758.jpg\" width=\"120\">\n",
       "\t\t\t\t\t\t\t\t\t\t <br/ >\n",
       "\t\t\t\t\t\t\t\t\t\t <span class=\"description\">$7.93 (10010758)</span> <br />\n",
       "\t\t\t\t\t\t\t\t\t\t <span class=\"description\">Champion L...</span> <br /></div><div class=\"recom\"><img src=\"../../../_product_images_cache/9/0/9013598.jpg\" width=\"120\">\n",
       "\t\t\t\t\t\t\t\t\t\t <br/ >\n",
       "\t\t\t\t\t\t\t\t\t\t <span class=\"description\">$15.0 (9013598)</span> <br />\n",
       "\t\t\t\t\t\t\t\t\t\t <span class=\"description\">First Impr...</span> <br /></div><div class=\"recom\"><img src=\"../../../_product_images_cache/8/1/8186135.jpg\" width=\"120\">\n",
       "\t\t\t\t\t\t\t\t\t\t <br/ >\n",
       "\t\t\t\t\t\t\t\t\t\t <span class=\"description\">$16.99 (8186135)</span> <br />\n",
       "\t\t\t\t\t\t\t\t\t\t <span class=\"description\">Jenni Stit...</span> <br /></div><div class=\"recom\"><img src=\"../../../_product_images_cache/3/6/367726.jpg\" width=\"120\">\n",
       "\t\t\t\t\t\t\t\t\t\t <br/ >\n",
       "\t\t\t\t\t\t\t\t\t\t <span class=\"description\">$33.0 (367726)</span> <br />\n",
       "\t\t\t\t\t\t\t\t\t\t <span class=\"description\">MAC STUDIO...</span> <br /></div><div class=\"recom\"><img src=\"../../../_product_images_cache/7/9/7980378.jpg\" width=\"120\">\n",
       "\t\t\t\t\t\t\t\t\t\t <br/ >\n",
       "\t\t\t\t\t\t\t\t\t\t <span class=\"description\">$89.0 (7980378)</span> <br />\n",
       "\t\t\t\t\t\t\t\t\t\t <span class=\"description\">3/4 SLEEVE...</span> <br /></div><div class=\"recom\"><img src=\"../../../_product_images_cache/7/7/7723851.jpg\" width=\"120\">\n",
       "\t\t\t\t\t\t\t\t\t\t <br/ >\n",
       "\t\t\t\t\t\t\t\t\t\t <span class=\"description\">$48.0 (7723851)</span> <br />\n",
       "\t\t\t\t\t\t\t\t\t\t <span class=\"description\">Bar III Ir...</span> <br /></div><div class=\"recom\"><img src=\"../../../_product_images_cache/5/1/5132057.jpg\" width=\"120\">\n",
       "\t\t\t\t\t\t\t\t\t\t <br/ >\n",
       "\t\t\t\t\t\t\t\t\t\t <span class=\"description\">$99.99 (5132057)</span> <br />\n",
       "\t\t\t\t\t\t\t\t\t\t <span class=\"description\">HAMILTON B...</span> <br /></div><div class=\"recom\"><img src=\"../../../_product_images_cache/1/0/10133895.jpg\" width=\"120\">\n",
       "\t\t\t\t\t\t\t\t\t\t <br/ >\n",
       "\t\t\t\t\t\t\t\t\t\t <span class=\"description\">$? (10133895)</span> <br />\n",
       "\t\t\t\t\t\t\t\t\t\t <span class=\"description\">?...</span> <br /></div><div class=\"recom\"><img src=\"../../../_product_images_cache/5/8/5837598.jpg\" width=\"120\">\n",
       "\t\t\t\t\t\t\t\t\t\t <br/ >\n",
       "\t\t\t\t\t\t\t\t\t\t <span class=\"description\">$250.0 (5837598)</span> <br />\n",
       "\t\t\t\t\t\t\t\t\t\t <span class=\"description\">Hotel Coll...</span> <br /></div><div class=\"recom\"><img src=\"../../../_product_images_cache/6/3/6386570.jpg\" width=\"120\">\n",
       "\t\t\t\t\t\t\t\t\t\t <br/ >\n",
       "\t\t\t\t\t\t\t\t\t\t <span class=\"description\">$49.99 (6386570)</span> <br />\n",
       "\t\t\t\t\t\t\t\t\t\t <span class=\"description\">Ayesha Cur...</span> <br /></div><div class=\"recom\"><img src=\"../../../_product_images_cache/8/3/8301947.jpg\" width=\"120\">\n",
       "\t\t\t\t\t\t\t\t\t\t <br/ >\n",
       "\t\t\t\t\t\t\t\t\t\t <span class=\"description\">$100.0 (8301947)</span> <br />\n",
       "\t\t\t\t\t\t\t\t\t\t <span class=\"description\">Juicy Cout...</span> <br /></div><div class=\"recom\"><img src=\"../../../_product_images_cache/8/6/8637964.jpg\" width=\"120\">\n",
       "\t\t\t\t\t\t\t\t\t\t <br/ >\n",
       "\t\t\t\t\t\t\t\t\t\t <span class=\"description\">$69.5 (8637964)</span> <br />\n",
       "\t\t\t\t\t\t\t\t\t\t <span class=\"description\">I.N.C. Tie...</span> <br /></div><div class=\"recom\"><img src=\"../../../_product_images_cache/8/7/8757268.jpg\" width=\"120\">\n",
       "\t\t\t\t\t\t\t\t\t\t <br/ >\n",
       "\t\t\t\t\t\t\t\t\t\t <span class=\"description\">$39.99 (8757268)</span> <br />\n",
       "\t\t\t\t\t\t\t\t\t\t <span class=\"description\">Charter Cl...</span> <br /></div><div class=\"recom\"><img src=\"../../../_product_images_cache/9/0/9026560.jpg\" width=\"120\">\n",
       "\t\t\t\t\t\t\t\t\t\t <br/ >\n",
       "\t\t\t\t\t\t\t\t\t\t <span class=\"description\">$56.0 (9026560)</span> <br />\n",
       "\t\t\t\t\t\t\t\t\t\t <span class=\"description\">Raisins Cu...</span> <br /></div>"
      ]
     },
     "metadata": {},
     "output_type": "display_data"
    }
   ],
   "source": [
    "pid_list = midsell_10good15_20#worstsell_20\n",
    "print(pid_list)\n",
    "display_html(uu.html_recom_panel(pid_list, W=120),raw=True)"
   ]
  },
  {
   "cell_type": "code",
   "execution_count": null,
   "metadata": {},
   "outputs": [],
   "source": []
  }
 ],
 "metadata": {
  "kernelspec": {
   "display_name": "Python 3",
   "language": "python",
   "name": "python3"
  },
  "language_info": {
   "codemirror_mode": {
    "name": "ipython",
    "version": 3
   },
   "file_extension": ".py",
   "mimetype": "text/x-python",
   "name": "python",
   "nbconvert_exporter": "python",
   "pygments_lexer": "ipython3",
   "version": "3.6.5"
  }
 },
 "nbformat": 4,
 "nbformat_minor": 2
}
