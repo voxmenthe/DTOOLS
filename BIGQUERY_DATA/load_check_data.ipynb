{
 "cells": [
  {
   "cell_type": "code",
   "execution_count": 1,
   "metadata": {},
   "outputs": [
    {
     "ename": "ModuleNotFoundError",
     "evalue": "No module named 'csv_event_rows_to_dict'",
     "output_type": "error",
     "traceback": [
      "\u001b[0;31m---------------------------------------------------------------------------\u001b[0m",
      "\u001b[0;31mModuleNotFoundError\u001b[0m                       Traceback (most recent call last)",
      "\u001b[0;32m<ipython-input-1-2f9b41d693bc>\u001b[0m in \u001b[0;36m<module>\u001b[0;34m()\u001b[0m\n\u001b[1;32m      7\u001b[0m \u001b[0;31m# cython utilities\u001b[0m\u001b[0;34m\u001b[0m\u001b[0;34m\u001b[0m\u001b[0m\n\u001b[1;32m      8\u001b[0m \u001b[0;32mfrom\u001b[0m \u001b[0mget_csv_rows\u001b[0m \u001b[0;32mimport\u001b[0m \u001b[0mget_csv_rows\u001b[0m\u001b[0;34m\u001b[0m\u001b[0m\n\u001b[0;32m----> 9\u001b[0;31m \u001b[0;32mfrom\u001b[0m \u001b[0mcsv_event_rows_to_dict\u001b[0m \u001b[0;32mimport\u001b[0m \u001b[0mcsv_event_rows_to_dict\u001b[0m\u001b[0;34m\u001b[0m\u001b[0m\n\u001b[0m",
      "\u001b[0;31mModuleNotFoundError\u001b[0m: No module named 'csv_event_rows_to_dict'"
     ]
    }
   ],
   "source": [
    "import sys\n",
    "import numpy as np\n",
    "import pandas as pd\n",
    "import mml_lib.visualization as viz\n",
    "sys.path.append('/home/jovyan/work/a091569/cython_home')\n",
    "\n",
    "# cython utilities\n",
    "from get_csv_rows import get_csv_rows\n",
    "from csv_event_rows_to_dict import csv_event_rows_to_dict"
   ]
  },
  {
   "cell_type": "code",
   "execution_count": 82,
   "metadata": {},
   "outputs": [
    {
     "name": "stdout",
     "output_type": "stream",
     "text": [
      "product_attributes_csv_ur_develop_productattribute.csv\r\n",
      "pros_cart_item_addn_csv_120_pros_cart_item_addition.csv\r\n",
      "pros_cart_item_addn_csv_pros_cart_item_addition.csv\r\n",
      "pros_cart_item_pur_csv_120_pros_cart_item_purchase.csv\r\n",
      "pros_prod_vw_csv_120_pros_product_view.csv\r\n",
      "results-20191022-152105.csv\r\n"
     ]
    }
   ],
   "source": [
    "!ls *.csv"
   ]
  },
  {
   "cell_type": "code",
   "execution_count": 83,
   "metadata": {},
   "outputs": [
    {
     "name": "stdout",
     "output_type": "stream",
     "text": [
      "375938096\n"
     ]
    },
    {
     "data": {
      "text/plain": [
       "[['user_indiv_id', 'itemid', 'evnt_ts', 'sessionid'],\n",
       " ['161322486',\n",
       "  '1806',\n",
       "  '2019-06-26 17:46:22',\n",
       "  '57133676298705600281061543070534137125503'],\n",
       " ['123152321',\n",
       "  '64887',\n",
       "  '2019-08-04 11:05:37',\n",
       "  '756201711834091504050373584764359394489975620171183409150405037358476435939448']]"
      ]
     },
     "execution_count": 83,
     "metadata": {},
     "output_type": "execute_result"
    }
   ],
   "source": [
    "view_rows = get_csv_rows('pros_prod_vw_csv_120_pros_product_view.csv',numcols=4)\n",
    "print(len(view_rows))\n",
    "view_rows[:3]"
   ]
  },
  {
   "cell_type": "code",
   "execution_count": null,
   "metadata": {},
   "outputs": [],
   "source": [
    "view_cols = view_rows[0]\n",
    "view_rows = pd.DataFrame(view_rows)\n",
    "view_rows.columns = view_cols\n",
    "view_rows.head()"
   ]
  },
  {
   "cell_type": "code",
   "execution_count": 1,
   "metadata": {},
   "outputs": [
    {
     "ename": "NameError",
     "evalue": "name 'view_rows' is not defined",
     "output_type": "error",
     "traceback": [
      "\u001b[0;31m---------------------------------------------------------------------------\u001b[0m",
      "\u001b[0;31mNameError\u001b[0m                                 Traceback (most recent call last)",
      "\u001b[0;32m<ipython-input-1-1cca3a723714>\u001b[0m in \u001b[0;36m<module>\u001b[0;34m()\u001b[0m\n\u001b[0;32m----> 1\u001b[0;31m \u001b[0mview_rows\u001b[0m\u001b[0;34m[\u001b[0m\u001b[0;34m:\u001b[0m\u001b[0;36m3\u001b[0m\u001b[0;34m]\u001b[0m\u001b[0;34m\u001b[0m\u001b[0m\n\u001b[0m",
      "\u001b[0;31mNameError\u001b[0m: name 'view_rows' is not defined"
     ]
    }
   ],
   "source": [
    "view_rows[:3]"
   ]
  },
  {
   "cell_type": "code",
   "execution_count": 65,
   "metadata": {},
   "outputs": [
    {
     "name": "stdout",
     "output_type": "stream",
     "text": [
      "(33046185, 4)\n"
     ]
    },
    {
     "data": {
      "text/html": [
       "<div>\n",
       "<style scoped>\n",
       "    .dataframe tbody tr th:only-of-type {\n",
       "        vertical-align: middle;\n",
       "    }\n",
       "\n",
       "    .dataframe tbody tr th {\n",
       "        vertical-align: top;\n",
       "    }\n",
       "\n",
       "    .dataframe thead th {\n",
       "        text-align: right;\n",
       "    }\n",
       "</style>\n",
       "<table border=\"1\" class=\"dataframe\">\n",
       "  <thead>\n",
       "    <tr style=\"text-align: right;\">\n",
       "      <th></th>\n",
       "      <th>user_indiv_id</th>\n",
       "      <th>itemid</th>\n",
       "      <th>evnt_ts</th>\n",
       "      <th>sessionid</th>\n",
       "    </tr>\n",
       "  </thead>\n",
       "  <tbody>\n",
       "    <tr>\n",
       "      <th>0</th>\n",
       "      <td>23366872</td>\n",
       "      <td>237110</td>\n",
       "      <td>2019-08-25 12:10:03</td>\n",
       "      <td>9121353398468207352992220960641855277399121353...</td>\n",
       "    </tr>\n",
       "    <tr>\n",
       "      <th>1</th>\n",
       "      <td>167404204</td>\n",
       "      <td>106344</td>\n",
       "      <td>2019-10-17 03:31:25</td>\n",
       "      <td>8624261677556333870120113964743851738686242616...</td>\n",
       "    </tr>\n",
       "    <tr>\n",
       "      <th>2</th>\n",
       "      <td>1026487863</td>\n",
       "      <td>106344</td>\n",
       "      <td>2019-09-21 19:24:38</td>\n",
       "      <td>3262225133254954180461170530068461626474326222...</td>\n",
       "    </tr>\n",
       "    <tr>\n",
       "      <th>3</th>\n",
       "      <td>78588651</td>\n",
       "      <td>106344</td>\n",
       "      <td>2019-09-15 13:32:52</td>\n",
       "      <td>3342735317420968053691753015399636163211334273...</td>\n",
       "    </tr>\n",
       "    <tr>\n",
       "      <th>4</th>\n",
       "      <td>150977898</td>\n",
       "      <td>401011</td>\n",
       "      <td>2019-10-06 16:35:37</td>\n",
       "      <td>1696738881285883358215043740839664615810169673...</td>\n",
       "    </tr>\n",
       "  </tbody>\n",
       "</table>\n",
       "</div>"
      ],
      "text/plain": [
       "   user_indiv_id  itemid              evnt_ts  \\\n",
       "0       23366872  237110  2019-08-25 12:10:03   \n",
       "1      167404204  106344  2019-10-17 03:31:25   \n",
       "2     1026487863  106344  2019-09-21 19:24:38   \n",
       "3       78588651  106344  2019-09-15 13:32:52   \n",
       "4      150977898  401011  2019-10-06 16:35:37   \n",
       "\n",
       "                                           sessionid  \n",
       "0  9121353398468207352992220960641855277399121353...  \n",
       "1  8624261677556333870120113964743851738686242616...  \n",
       "2  3262225133254954180461170530068461626474326222...  \n",
       "3  3342735317420968053691753015399636163211334273...  \n",
       "4  1696738881285883358215043740839664615810169673...  "
      ]
     },
     "execution_count": 65,
     "metadata": {},
     "output_type": "execute_result"
    }
   ],
   "source": [
    "#test = pd.read_csv('results-20191022-152105.csv')\n",
    "test = pd.read_csv('pros_cart_item_addn_csv_pros_cart_item_addition.csv',sep='\\t')\n",
    "print(test.shape)\n",
    "test.head()"
   ]
  },
  {
   "cell_type": "code",
   "execution_count": 68,
   "metadata": {},
   "outputs": [
    {
     "data": {
      "text/plain": [
       "('2019-08-20 00:00:00', '2019-10-18 23:59:59')"
      ]
     },
     "execution_count": 68,
     "metadata": {},
     "output_type": "execute_result"
    }
   ],
   "source": [
    "min(test['evnt_ts']), max(test['evnt_ts'])"
   ]
  },
  {
   "cell_type": "code",
   "execution_count": 69,
   "metadata": {},
   "outputs": [
    {
     "name": "stdout",
     "output_type": "stream",
     "text": [
      "<class 'pandas.core.frame.DataFrame'>\n",
      "RangeIndex: 33046185 entries, 0 to 33046184\n",
      "Data columns (total 4 columns):\n",
      "user_indiv_id    int64\n",
      "itemid           int64\n",
      "evnt_ts          object\n",
      "sessionid        object\n",
      "dtypes: int64(2), object(2)\n",
      "memory usage: 1008.5+ MB\n"
     ]
    }
   ],
   "source": [
    "test.info()"
   ]
  },
  {
   "cell_type": "markdown",
   "metadata": {},
   "source": [
    "### To create a sequence of events we must:\n",
    "* Group events by \"vstr_id\" or \"user_indiv_id\"\n",
    "* Then sort by \"evnt_ts\""
   ]
  },
  {
   "cell_type": "code",
   "execution_count": 70,
   "metadata": {},
   "outputs": [
    {
     "data": {
      "text/html": [
       "<div>\n",
       "<style scoped>\n",
       "    .dataframe tbody tr th:only-of-type {\n",
       "        vertical-align: middle;\n",
       "    }\n",
       "\n",
       "    .dataframe tbody tr th {\n",
       "        vertical-align: top;\n",
       "    }\n",
       "\n",
       "    .dataframe thead th {\n",
       "        text-align: right;\n",
       "    }\n",
       "</style>\n",
       "<table border=\"1\" class=\"dataframe\">\n",
       "  <thead>\n",
       "    <tr style=\"text-align: right;\">\n",
       "      <th></th>\n",
       "      <th>user_indiv_id</th>\n",
       "      <th>itemid</th>\n",
       "      <th>evnt_ts</th>\n",
       "      <th>sessionid</th>\n",
       "    </tr>\n",
       "  </thead>\n",
       "  <tbody>\n",
       "    <tr>\n",
       "      <th>13247240</th>\n",
       "      <td>112338792</td>\n",
       "      <td>9996280</td>\n",
       "      <td>2019-08-20 00:00:00</td>\n",
       "      <td>3297094789467973269691753025063303248617332970...</td>\n",
       "    </tr>\n",
       "    <tr>\n",
       "      <th>31075855</th>\n",
       "      <td>79323285</td>\n",
       "      <td>4648754</td>\n",
       "      <td>2019-08-20 00:00:01</td>\n",
       "      <td>8785495632687523678137183020366777391714187854...</td>\n",
       "    </tr>\n",
       "    <tr>\n",
       "      <th>18355531</th>\n",
       "      <td>120991693</td>\n",
       "      <td>1356233</td>\n",
       "      <td>2019-08-20 00:00:01</td>\n",
       "      <td>2099095209120684436434554810500908238517320990...</td>\n",
       "    </tr>\n",
       "    <tr>\n",
       "      <th>25503263</th>\n",
       "      <td>259798304</td>\n",
       "      <td>8315784</td>\n",
       "      <td>2019-08-20 00:00:01</td>\n",
       "      <td>9148496090015697266778932720021728587011914849...</td>\n",
       "    </tr>\n",
       "    <tr>\n",
       "      <th>9099149</th>\n",
       "      <td>44351390</td>\n",
       "      <td>9618868</td>\n",
       "      <td>2019-08-20 00:00:01</td>\n",
       "      <td>3328369169359421189691753027479225712573328369...</td>\n",
       "    </tr>\n",
       "  </tbody>\n",
       "</table>\n",
       "</div>"
      ],
      "text/plain": [
       "          user_indiv_id   itemid              evnt_ts  \\\n",
       "13247240      112338792  9996280  2019-08-20 00:00:00   \n",
       "31075855       79323285  4648754  2019-08-20 00:00:01   \n",
       "18355531      120991693  1356233  2019-08-20 00:00:01   \n",
       "25503263      259798304  8315784  2019-08-20 00:00:01   \n",
       "9099149        44351390  9618868  2019-08-20 00:00:01   \n",
       "\n",
       "                                                  sessionid  \n",
       "13247240  3297094789467973269691753025063303248617332970...  \n",
       "31075855  8785495632687523678137183020366777391714187854...  \n",
       "18355531  2099095209120684436434554810500908238517320990...  \n",
       "25503263  9148496090015697266778932720021728587011914849...  \n",
       "9099149   3328369169359421189691753027479225712573328369...  "
      ]
     },
     "execution_count": 70,
     "metadata": {},
     "output_type": "execute_result"
    }
   ],
   "source": [
    "sort1 = test.sort_values('evnt_ts')\n",
    "sort1.head()"
   ]
  },
  {
   "cell_type": "code",
   "execution_count": 71,
   "metadata": {},
   "outputs": [
    {
     "data": {
      "text/html": [
       "<div>\n",
       "<style scoped>\n",
       "    .dataframe tbody tr th:only-of-type {\n",
       "        vertical-align: middle;\n",
       "    }\n",
       "\n",
       "    .dataframe tbody tr th {\n",
       "        vertical-align: top;\n",
       "    }\n",
       "\n",
       "    .dataframe thead th {\n",
       "        text-align: right;\n",
       "    }\n",
       "</style>\n",
       "<table border=\"1\" class=\"dataframe\">\n",
       "  <thead>\n",
       "    <tr style=\"text-align: right;\">\n",
       "      <th></th>\n",
       "      <th>user_indiv_id</th>\n",
       "      <th>itemid</th>\n",
       "      <th>evnt_ts</th>\n",
       "      <th>sessionid</th>\n",
       "    </tr>\n",
       "  </thead>\n",
       "  <tbody>\n",
       "    <tr>\n",
       "      <th>13247240</th>\n",
       "      <td>112338792</td>\n",
       "      <td>9996280</td>\n",
       "      <td>2019-08-20 00:00:00</td>\n",
       "      <td>3297094789467973269691753025063303248617332970...</td>\n",
       "    </tr>\n",
       "    <tr>\n",
       "      <th>31075855</th>\n",
       "      <td>79323285</td>\n",
       "      <td>4648754</td>\n",
       "      <td>2019-08-20 00:00:01</td>\n",
       "      <td>8785495632687523678137183020366777391714187854...</td>\n",
       "    </tr>\n",
       "    <tr>\n",
       "      <th>18355531</th>\n",
       "      <td>120991693</td>\n",
       "      <td>1356233</td>\n",
       "      <td>2019-08-20 00:00:01</td>\n",
       "      <td>2099095209120684436434554810500908238517320990...</td>\n",
       "    </tr>\n",
       "    <tr>\n",
       "      <th>25503263</th>\n",
       "      <td>259798304</td>\n",
       "      <td>8315784</td>\n",
       "      <td>2019-08-20 00:00:01</td>\n",
       "      <td>9148496090015697266778932720021728587011914849...</td>\n",
       "    </tr>\n",
       "    <tr>\n",
       "      <th>9099149</th>\n",
       "      <td>44351390</td>\n",
       "      <td>9618868</td>\n",
       "      <td>2019-08-20 00:00:01</td>\n",
       "      <td>3328369169359421189691753027479225712573328369...</td>\n",
       "    </tr>\n",
       "  </tbody>\n",
       "</table>\n",
       "</div>"
      ],
      "text/plain": [
       "          user_indiv_id   itemid             evnt_ts  \\\n",
       "13247240      112338792  9996280 2019-08-20 00:00:00   \n",
       "31075855       79323285  4648754 2019-08-20 00:00:01   \n",
       "18355531      120991693  1356233 2019-08-20 00:00:01   \n",
       "25503263      259798304  8315784 2019-08-20 00:00:01   \n",
       "9099149        44351390  9618868 2019-08-20 00:00:01   \n",
       "\n",
       "                                                  sessionid  \n",
       "13247240  3297094789467973269691753025063303248617332970...  \n",
       "31075855  8785495632687523678137183020366777391714187854...  \n",
       "18355531  2099095209120684436434554810500908238517320990...  \n",
       "25503263  9148496090015697266778932720021728587011914849...  \n",
       "9099149   3328369169359421189691753027479225712573328369...  "
      ]
     },
     "execution_count": 71,
     "metadata": {},
     "output_type": "execute_result"
    }
   ],
   "source": [
    "sort2 = test.copy()\n",
    "sort2['evnt_ts'] = pd.to_datetime(sort2['evnt_ts'])\n",
    "sort2 = sort2.sort_values('evnt_ts')\n",
    "sort2.head()"
   ]
  },
  {
   "cell_type": "raw",
   "metadata": {},
   "source": [
    "#sort2.sort_values(['evnt_ts']).groupby('vstr_id').head()\n",
    "grouptest1 = sort2.sort_values(['evnt_ts']).groupby('user_indiv_id')\n",
    "grouptest1.head()"
   ]
  },
  {
   "cell_type": "code",
   "execution_count": 73,
   "metadata": {},
   "outputs": [
    {
     "data": {
      "text/html": [
       "<div>\n",
       "<style scoped>\n",
       "    .dataframe tbody tr th:only-of-type {\n",
       "        vertical-align: middle;\n",
       "    }\n",
       "\n",
       "    .dataframe tbody tr th {\n",
       "        vertical-align: top;\n",
       "    }\n",
       "\n",
       "    .dataframe thead th {\n",
       "        text-align: right;\n",
       "    }\n",
       "</style>\n",
       "<table border=\"1\" class=\"dataframe\">\n",
       "  <thead>\n",
       "    <tr style=\"text-align: right;\">\n",
       "      <th></th>\n",
       "      <th>user_indiv_id</th>\n",
       "      <th>itemid</th>\n",
       "      <th>evnt_ts</th>\n",
       "      <th>sessionid</th>\n",
       "    </tr>\n",
       "  </thead>\n",
       "  <tbody>\n",
       "    <tr>\n",
       "      <th>0</th>\n",
       "      <td>-9223346256872843933</td>\n",
       "      <td>404141</td>\n",
       "      <td>2019-09-15 02:57:21</td>\n",
       "      <td>3542632177959033695706765902810329180713542632...</td>\n",
       "    </tr>\n",
       "    <tr>\n",
       "      <th>1</th>\n",
       "      <td>-9223346256872843933</td>\n",
       "      <td>585676</td>\n",
       "      <td>2019-09-18 22:14:21</td>\n",
       "      <td>3542632177959033695706765902810329180723542632...</td>\n",
       "    </tr>\n",
       "    <tr>\n",
       "      <th>2</th>\n",
       "      <td>-9223346256872843933</td>\n",
       "      <td>10216247</td>\n",
       "      <td>2019-09-27 22:37:25</td>\n",
       "      <td>3542632177959033695706765902810329180733542632...</td>\n",
       "    </tr>\n",
       "    <tr>\n",
       "      <th>3</th>\n",
       "      <td>-9223346256872843933</td>\n",
       "      <td>8336650</td>\n",
       "      <td>2019-09-27 22:39:03</td>\n",
       "      <td>3542632177959033695706765902810329180733542632...</td>\n",
       "    </tr>\n",
       "    <tr>\n",
       "      <th>4</th>\n",
       "      <td>-9223346256872843933</td>\n",
       "      <td>7975690</td>\n",
       "      <td>2019-09-27 22:40:52</td>\n",
       "      <td>3542632177959033695706765902810329180733542632...</td>\n",
       "    </tr>\n",
       "  </tbody>\n",
       "</table>\n",
       "</div>"
      ],
      "text/plain": [
       "         user_indiv_id    itemid             evnt_ts  \\\n",
       "0 -9223346256872843933    404141 2019-09-15 02:57:21   \n",
       "1 -9223346256872843933    585676 2019-09-18 22:14:21   \n",
       "2 -9223346256872843933  10216247 2019-09-27 22:37:25   \n",
       "3 -9223346256872843933   8336650 2019-09-27 22:39:03   \n",
       "4 -9223346256872843933   7975690 2019-09-27 22:40:52   \n",
       "\n",
       "                                           sessionid  \n",
       "0  3542632177959033695706765902810329180713542632...  \n",
       "1  3542632177959033695706765902810329180723542632...  \n",
       "2  3542632177959033695706765902810329180733542632...  \n",
       "3  3542632177959033695706765902810329180733542632...  \n",
       "4  3542632177959033695706765902810329180733542632...  "
      ]
     },
     "execution_count": 73,
     "metadata": {},
     "output_type": "execute_result"
    }
   ],
   "source": [
    "#sort2.groupby([\"vstr_id\"]).apply(lambda x: x.sort_values([\"evnt_ts\"])).reset_index(drop=True)\n",
    "grouptest2 = sort2.groupby([\"user_indiv_id\"]).apply(lambda x: x.sort_values([\"evnt_ts\"])).reset_index(drop=True)\n",
    "grouptest2.head()"
   ]
  },
  {
   "cell_type": "code",
   "execution_count": 75,
   "metadata": {},
   "outputs": [
    {
     "data": {
      "text/html": [
       "<div>\n",
       "<style scoped>\n",
       "    .dataframe tbody tr th:only-of-type {\n",
       "        vertical-align: middle;\n",
       "    }\n",
       "\n",
       "    .dataframe tbody tr th {\n",
       "        vertical-align: top;\n",
       "    }\n",
       "\n",
       "    .dataframe thead th {\n",
       "        text-align: right;\n",
       "    }\n",
       "</style>\n",
       "<table border=\"1\" class=\"dataframe\">\n",
       "  <thead>\n",
       "    <tr style=\"text-align: right;\">\n",
       "      <th></th>\n",
       "      <th>user_indiv_id</th>\n",
       "      <th>itemid</th>\n",
       "      <th>evnt_ts</th>\n",
       "      <th>sessionid</th>\n",
       "    </tr>\n",
       "  </thead>\n",
       "  <tbody>\n",
       "    <tr>\n",
       "      <th>0</th>\n",
       "      <td>-9223346256872843933</td>\n",
       "      <td>404141</td>\n",
       "      <td>2019-09-15 02:57:21</td>\n",
       "      <td>3542632177959033695706765902810329180713542632...</td>\n",
       "    </tr>\n",
       "    <tr>\n",
       "      <th>1</th>\n",
       "      <td>-9223346256872843933</td>\n",
       "      <td>585676</td>\n",
       "      <td>2019-09-18 22:14:21</td>\n",
       "      <td>3542632177959033695706765902810329180723542632...</td>\n",
       "    </tr>\n",
       "    <tr>\n",
       "      <th>2</th>\n",
       "      <td>-9223346256872843933</td>\n",
       "      <td>10216247</td>\n",
       "      <td>2019-09-27 22:37:25</td>\n",
       "      <td>3542632177959033695706765902810329180733542632...</td>\n",
       "    </tr>\n",
       "    <tr>\n",
       "      <th>3</th>\n",
       "      <td>-9223346256872843933</td>\n",
       "      <td>8336650</td>\n",
       "      <td>2019-09-27 22:39:03</td>\n",
       "      <td>3542632177959033695706765902810329180733542632...</td>\n",
       "    </tr>\n",
       "    <tr>\n",
       "      <th>4</th>\n",
       "      <td>-9223346256872843933</td>\n",
       "      <td>7975690</td>\n",
       "      <td>2019-09-27 22:40:52</td>\n",
       "      <td>3542632177959033695706765902810329180733542632...</td>\n",
       "    </tr>\n",
       "  </tbody>\n",
       "</table>\n",
       "</div>"
      ],
      "text/plain": [
       "         user_indiv_id    itemid             evnt_ts  \\\n",
       "0 -9223346256872843933    404141 2019-09-15 02:57:21   \n",
       "1 -9223346256872843933    585676 2019-09-18 22:14:21   \n",
       "2 -9223346256872843933  10216247 2019-09-27 22:37:25   \n",
       "3 -9223346256872843933   8336650 2019-09-27 22:39:03   \n",
       "4 -9223346256872843933   7975690 2019-09-27 22:40:52   \n",
       "\n",
       "                                           sessionid  \n",
       "0  3542632177959033695706765902810329180713542632...  \n",
       "1  3542632177959033695706765902810329180723542632...  \n",
       "2  3542632177959033695706765902810329180733542632...  \n",
       "3  3542632177959033695706765902810329180733542632...  \n",
       "4  3542632177959033695706765902810329180733542632...  "
      ]
     },
     "execution_count": 75,
     "metadata": {},
     "output_type": "execute_result"
    }
   ],
   "source": [
    "user1 = grouptest2.query('user_indiv_id == -9223346256872843933')\n",
    "user1"
   ]
  },
  {
   "cell_type": "code",
   "execution_count": 78,
   "metadata": {},
   "outputs": [
    {
     "data": {
      "text/html": [
       "\n",
       "      <style>\n",
       "      .recom {float: left;\n",
       "              margin: 3px;\n",
       "              text-align: center;}\n",
       "      \n",
       "      .recom_red {float: left;\n",
       "                  margin: 3px;\n",
       "                  text-align: center;\n",
       "                  border: 1px solid #FF0000;}\n",
       "      \n",
       "      .recom_green {float: left;\n",
       "                  margin: 3px;\n",
       "                  text-align: center;\n",
       "                  border: 1px solid #00FF00;}\n",
       "      .recom_blue {float: left;\n",
       "                  margin: 3px;\n",
       "                  text-align: center;\n",
       "                  border: 1px solid #0000FF;}\n",
       "      .description {font-size: 11px}\n",
       "      .price {font-size: 11px}\n",
       "      </style>\n",
       "      <div class=\"recom\"><img src=\"../../../../_product_images_cache/4/0/404141.jpg\" width=\"75\">\n",
       "                   <br/ >\n",
       "                   <span class=\"description\">$60.0 (404141)</span> <br />\n",
       "                   <span class=\"description\">THOMSON PO...</span> <br /></div><div class=\"recom\"><img src=\"../../../../_product_images_cache/5/8/585676.jpg\" width=\"75\">\n",
       "                   <br/ >\n",
       "                   <span class=\"description\">$20.0 (585676)</span> <br />\n",
       "                   <span class=\"description\">GODINGER C...</span> <br /></div><div class=\"recom\"><img src=\"../../../../_product_images_cache/1/0/10216247.jpg\" width=\"75\">\n",
       "                   <br/ >\n",
       "                   <span class=\"description\">$? (10216247)</span> <br />\n",
       "                   <span class=\"description\">?...</span> <br /></div><div class=\"recom\"><img src=\"../../../../_product_images_cache/8/3/8336650.jpg\" width=\"75\">\n",
       "                   <br/ >\n",
       "                   <span class=\"description\">$36.5 (8336650)</span> <br />\n",
       "                   <span class=\"description\">Karen Scot...</span> <br /></div><div class=\"recom\"><img src=\"../../../../_product_images_cache/7/9/7975690.jpg\" width=\"75\">\n",
       "                   <br/ >\n",
       "                   <span class=\"description\">$64.5 (7975690)</span> <br />\n",
       "                   <span class=\"description\">Charter Cl...</span> <br /></div>"
      ]
     },
     "metadata": {},
     "output_type": "display_data"
    }
   ],
   "source": [
    "viz.display_recom_panel([str(x) for x in user1['itemid']])"
   ]
  },
  {
   "cell_type": "code",
   "execution_count": 80,
   "metadata": {},
   "outputs": [
    {
     "data": {
      "text/plain": [
       "(33046185, 4)"
      ]
     },
     "execution_count": 80,
     "metadata": {},
     "output_type": "execute_result"
    }
   ],
   "source": [
    "grouptest2.shape"
   ]
  },
  {
   "cell_type": "code",
   "execution_count": null,
   "metadata": {},
   "outputs": [],
   "source": []
  }
 ],
 "metadata": {
  "kernelspec": {
   "display_name": "Python 3",
   "language": "python",
   "name": "python3"
  },
  "language_info": {
   "codemirror_mode": {
    "name": "ipython",
    "version": 3
   },
   "file_extension": ".py",
   "mimetype": "text/x-python",
   "name": "python",
   "nbconvert_exporter": "python",
   "pygments_lexer": "ipython3",
   "version": "3.6.5"
  }
 },
 "nbformat": 4,
 "nbformat_minor": 2
}
