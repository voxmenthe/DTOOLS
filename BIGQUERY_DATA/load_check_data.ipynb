{
 "cells": [
  {
   "cell_type": "code",
   "execution_count": 1,
   "metadata": {},
   "outputs": [],
   "source": [
    "import sys\n",
    "import pickle\n",
    "import numpy as np\n",
    "import pandas as pd\n",
    "import mml_lib.visualization as viz\n",
    "sys.path.append('/home/jovyan/work/a091569/cython_home')\n",
    "sys.path.append('/home/jovyan/work/a091569/cython_home/cython_home')\n",
    "\n",
    "# cython utilities\n",
    "from get_csv_rows import get_csv_rows\n",
    "from csv_event_rows_to_dict import csv_event_rows_to_dict"
   ]
  },
  {
   "cell_type": "code",
   "execution_count": 3,
   "metadata": {},
   "outputs": [
    {
     "name": "stdout",
     "output_type": "stream",
     "text": [
      "product_attributes_csv_20191019.csv\t  pros_cart_item_pur_csv_20191027.csv\r\n",
      "pros_cart_item_addn_csv_120_20191019.csv  pros_prod_vw_csv_120_20191019.csv\r\n",
      "pros_cart_item_addn_csv_20191019.csv\t  results-20191022-152105.csv\r\n",
      "pros_cart_item_pur_csv_120_20191019.csv\r\n"
     ]
    }
   ],
   "source": [
    "!ls *.csv"
   ]
  },
  {
   "cell_type": "code",
   "execution_count": null,
   "metadata": {},
   "outputs": [],
   "source": []
  },
  {
   "cell_type": "code",
   "execution_count": 53,
   "metadata": {},
   "outputs": [
    {
     "name": "stdout",
     "output_type": "stream",
     "text": [
      "user_indiv_id\titemid\tevnt_ts\tsessionid\r\n",
      "161322486\t1806\t2019-06-26 17:46:22\t57133676298705600281061543070534137125503\r\n",
      "123152321\t64887\t2019-08-04 11:05:37\t756201711834091504050373584764359394489975620171183409150405037358476435939448\r\n",
      "126175897\t111175\t2019-07-15 18:55:43\t850338558370763480082111563216276234052559\r\n",
      "150319733\t212226\t2019-10-02 02:49:06\t2372149009064601358465935340155052781232372149009064601358465935340155052781\r\n",
      "277726415\t212226\t2019-07-03 18:01:45\t159507908974240456882031562168544009886329\r\n",
      "1038986511\t212226\t2019-10-15 20:39:27\t3244989876172701418691754834801460080015932449898761727014186917548348014600800\r\n",
      "149602045\t212226\t2019-07-18 03:01:01\t530644917336061142530191322424243117940558\r\n",
      "177000459\t212226\t2019-10-02 21:54:35\t3299276396631141872461168715659373194519932992763966311418724611687156593731945\r\n",
      "144607372\t212226\t2019-08-22 13:06:39\t5195397003545820487476546375366780505205195397003545820487476546375366780505\r\n"
     ]
    }
   ],
   "source": [
    "!head -n 10 pros_prod_vw_csv_120_pros_product_view.csv"
   ]
  },
  {
   "cell_type": "code",
   "execution_count": 54,
   "metadata": {},
   "outputs": [
    {
     "name": "stdout",
     "output_type": "stream",
     "text": [
      "/home/jovyan/work/a091569/DTOOLS/BIGQUERY_DATA\r\n"
     ]
    }
   ],
   "source": [
    "%%load /home/jovyan/work/a091569/"
   ]
  },
  {
   "cell_type": "code",
   "execution_count": null,
   "metadata": {},
   "outputs": [],
   "source": [
    "%%time\n",
    "view_dict = csv_event_rows_to_dict('pros_prod_vw_csv_120_pros_product_view.csv',chunksize=800000)\n",
    "print(len(view_dict))"
   ]
  },
  {
   "cell_type": "code",
   "execution_count": 12,
   "metadata": {},
   "outputs": [
    {
     "name": "stdout",
     "output_type": "stream",
     "text": [
      "saved view_dict as view_dict_20191019.pkl\n"
     ]
    }
   ],
   "source": [
    "VIEW_FILE = 'view_dict_20191019.pkl'\n",
    "with open(VIEW_FILE, 'wb') as handle:\n",
    "    pickle.dump(view_dict, handle, protocol=pickle.HIGHEST_PROTOCOL)\n",
    "print(\"saved view_dict as {}\".format(VIEW_FILE))"
   ]
  },
  {
   "cell_type": "code",
   "execution_count": 9,
   "metadata": {},
   "outputs": [
    {
     "name": "stdout",
     "output_type": "stream",
     "text": [
      "9914556\n"
     ]
    }
   ],
   "source": [
    "print(len(view_dict))"
   ]
  },
  {
   "cell_type": "code",
   "execution_count": null,
   "metadata": {},
   "outputs": [],
   "source": [
    "%%time\n",
    "atb_dict = csv_event_rows_to_dict('pros_cart_item_addn_csv_120_pros_cart_item_addition.csv',chunksize=600000)\n",
    "print(len(atb_dict))"
   ]
  },
  {
   "cell_type": "code",
   "execution_count": null,
   "metadata": {},
   "outputs": [],
   "source": [
    "%%time\n",
    "ATB_FILE = 'atb_dict_20191019.pkl'\n",
    "with open(ATB_FILE, 'wb') as handle:\n",
    "    pickle.dump(atb_dict, handle, protocol=pickle.HIGHEST_PROTOCOL)\n",
    "print(\"saved purchase_dict as {}\".format(ATB_FILE))"
   ]
  },
  {
   "cell_type": "code",
   "execution_count": 32,
   "metadata": {},
   "outputs": [
    {
     "name": "stdout",
     "output_type": "stream",
     "text": [
      "4291901\n",
      "CPU times: user 1h 7min 52s, sys: 6min 24s, total: 1h 14min 17s\n",
      "Wall time: 1h 14min 11s\n"
     ]
    }
   ],
   "source": [
    "%%time\n",
    "purchase_dict = csv_event_rows_to_dict('pros_cart_item_pur_csv_120_pros_cart_item_purchase.csv',chunksize=600000)\n",
    "print(len(output_dict))"
   ]
  },
  {
   "cell_type": "code",
   "execution_count": 13,
   "metadata": {},
   "outputs": [
    {
     "name": "stdout",
     "output_type": "stream",
     "text": [
      "saved purchase_dict as view_dict_20191019.pkl\n"
     ]
    }
   ],
   "source": [
    "PURCHASE_FILE = 'purchase_dict_20191019.pkl'\n",
    "with open(PURCHASE_FILE, 'wb') as handle:\n",
    "    pickle.dump(purchase_dict, handle, protocol=pickle.HIGHEST_PROTOCOL)\n",
    "print(\"saved purchase_dict as {}\".format(PURCHASE_FILE))"
   ]
  },
  {
   "cell_type": "code",
   "execution_count": 34,
   "metadata": {},
   "outputs": [
    {
     "name": "stdout",
     "output_type": "stream",
     "text": [
      "atb_dict_20191019.pkl  purchase_dict_20191019.pkl  view_dict_20191019.pkl\r\n"
     ]
    }
   ],
   "source": [
    "!ls *.pkl"
   ]
  },
  {
   "cell_type": "code",
   "execution_count": 40,
   "metadata": {},
   "outputs": [
    {
     "data": {
      "text/plain": [
       "2093632"
      ]
     },
     "execution_count": 40,
     "metadata": {},
     "output_type": "execute_result"
    }
   ],
   "source": [
    "purch_user_ids_min3 = [k for k,v in purchase_dict.items() if len(v) >= 3]\n",
    "len(purch_user_ids_min3)"
   ]
  },
  {
   "cell_type": "code",
   "execution_count": 55,
   "metadata": {},
   "outputs": [
    {
     "data": {
      "text/plain": [
       "[('user_indiv_id', [('itemid', 'evnt_ts')]),\n",
       " ('-899320069214479257',\n",
       "  [('75190', '2019-09-29 20:55:39'),\n",
       "   ('75190', '2019-09-29 20:55:39'),\n",
       "   ('2236949', '2019-09-29 20:55:39')]),\n",
       " ('1022976420', [('237110', '2019-07-24 17:38:23')]),\n",
       " ('331913352',\n",
       "  [('286805', '2019-07-22 04:24:01'),\n",
       "   ('286802', '2019-07-22 04:24:00'),\n",
       "   ('1996291', '2019-07-22 04:24:01'),\n",
       "   ('286803', '2019-08-02 13:31:12')]),\n",
       " ('198808388',\n",
       "  [('296516', '2019-10-08 18:54:02'),\n",
       "   ('2513452', '2019-07-06 19:47:19'),\n",
       "   ('2226621', '2019-10-08 18:54:02'),\n",
       "   ('5470096', '2019-10-08 18:54:02'),\n",
       "   ('1205765', '2019-10-08 18:54:02'),\n",
       "   ('1146116', '2019-10-08 18:54:02'),\n",
       "   ('5520150', '2019-09-22 00:40:18'),\n",
       "   ('2514421', '2019-07-06 19:47:19'),\n",
       "   ('5461410', '2019-10-08 18:54:02'),\n",
       "   ('9505285', '2019-10-08 18:54:02'),\n",
       "   ('9502650', '2019-10-08 18:54:02'),\n",
       "   ('9271126', '2019-10-08 18:54:02'),\n",
       "   ('10083309', '2019-10-08 18:54:02'),\n",
       "   ('338345', '2019-10-08 18:54:02'),\n",
       "   ('9977612', '2019-10-08 18:54:02'),\n",
       "   ('9395736', '2019-10-08 18:54:02'),\n",
       "   ('9519113', '2019-10-08 18:54:02'),\n",
       "   ('787094', '2019-10-13 19:59:02')]),\n",
       " ('142350418',\n",
       "  [('296516', '2019-08-25 18:58:57'),\n",
       "   ('253779', '2019-10-09 19:57:13'),\n",
       "   ('296516', '2019-08-25 00:57:33'),\n",
       "   ('6373604', '2019-10-15 02:30:40'),\n",
       "   ('258770', '2019-10-09 19:57:13'),\n",
       "   ('6373604', '2019-10-14 18:07:55'),\n",
       "   ('9510448', '2019-08-28 02:25:03'),\n",
       "   ('9338585', '2019-10-09 19:57:13'),\n",
       "   ('9595679', '2019-08-29 21:27:14'),\n",
       "   ('4436825', '2019-08-28 02:25:03'),\n",
       "   ('683245', '2019-09-02 04:10:09'),\n",
       "   ('116214', '2019-10-09 19:57:13'),\n",
       "   ('2127504', '2019-08-25 00:57:33'),\n",
       "   ('6283428', '2019-08-28 02:25:03'),\n",
       "   ('683245', '2019-08-25 18:58:57'),\n",
       "   ('75134', '2019-08-28 02:25:03'),\n",
       "   ('153337', '2019-08-02 01:52:18'),\n",
       "   ('2840026', '2019-10-14 18:07:55'),\n",
       "   ('296516', '2019-09-02 04:10:09'),\n",
       "   ('2840102', '2019-10-14 18:07:55'),\n",
       "   ('683245', '2019-08-25 00:57:33')]),\n",
       " ('1048185635',\n",
       "  [('296516', '2019-07-16 22:14:29'), ('2678389', '2019-07-20 23:18:11')]),\n",
       " ('119557527',\n",
       "  [('296516', '2019-08-25 22:42:56'),\n",
       "   ('512149', '2019-06-25 20:15:55'),\n",
       "   ('4372725', '2019-07-10 04:09:30'),\n",
       "   ('8226434', '2019-08-25 22:42:56'),\n",
       "   ('7370471', '2019-09-06 21:59:05'),\n",
       "   ('2460364', '2019-10-02 23:14:22')]),\n",
       " ('1040490744',\n",
       "  [('296516', '2019-07-01 19:40:48'), ('2431017', '2019-07-25 16:22:48')]),\n",
       " ('41872816',\n",
       "  [('296516', '2019-08-11 00:44:13'),\n",
       "   ('5594429', '2019-08-11 00:44:13'),\n",
       "   ('4795349', '2019-08-11 00:44:13'),\n",
       "   ('790724', '2019-08-10 23:56:05'),\n",
       "   ('5594434', '2019-08-11 00:44:13'),\n",
       "   ('574131', '2019-08-10 23:56:05'),\n",
       "   ('5594509', '2019-08-11 00:44:13'),\n",
       "   ('667241', '2019-08-10 23:56:05'),\n",
       "   ('5594422', '2019-08-11 00:44:13'),\n",
       "   ('5594545', '2019-08-11 00:44:13'),\n",
       "   ('9218210', '2019-08-11 00:44:13'),\n",
       "   ('5793386', '2019-08-10 23:56:05'),\n",
       "   ('6596183', '2019-08-10 23:56:05'),\n",
       "   ('9021716', '2019-08-11 00:44:13'),\n",
       "   ('5428264', '2019-08-11 00:44:13'),\n",
       "   ('223134', '2019-08-11 00:44:13'),\n",
       "   ('5599871', '2019-08-10 23:56:05'),\n",
       "   ('750734', '2019-08-10 23:56:05')])]"
      ]
     },
     "execution_count": 55,
     "metadata": {},
     "output_type": "execute_result"
    }
   ],
   "source": [
    "a_few_examples = list(purchase_dict.items())[:10]\n",
    "a_few_examples"
   ]
  },
  {
   "cell_type": "markdown",
   "metadata": {},
   "source": [
    "### Get a full sequence"
   ]
  },
  {
   "cell_type": "code",
   "execution_count": 42,
   "metadata": {},
   "outputs": [],
   "source": [
    "from operator import itemgetter\n",
    "def show_sequences(user_id, show_data=False):\n",
    "    # use pandas unique b/c maintains order\n",
    "    vs = sorted(view_dict[user_id],key=itemgetter(1))\n",
    "    vsu = pd.unique([x[0] for x in vs]).astype('str').tolist()\n",
    "    at = sorted(atb_dict[user_id],key=itemgetter(1))\n",
    "    atu = pd.unique([x[0] for x in at]).astype('str').tolist()\n",
    "    pu = sorted(purchase_dict[user_id],key=itemgetter(1))\n",
    "    puu = pd.unique([x[0] for x in pu]).astype('str').tolist()\n",
    "    print(\"View Sequence\")\n",
    "    if show_data: print(vs)\n",
    "    viz.display_recom_panel(vsu)\n",
    "    print(\"Atb Sequence\")\n",
    "    if show_data: print(at)\n",
    "    viz.display_recom_panel(atu)\n",
    "    print(\"Pur Sequence\")\n",
    "    if show_data: print(pu)\n",
    "    viz.display_recom_panel(puu)    "
   ]
  },
  {
   "cell_type": "code",
   "execution_count": 49,
   "metadata": {},
   "outputs": [],
   "source": [
    "def show_interspersed_sequence(user_id, show_data=False):\n",
    "    vs = sorted(view_dict[user_id],key=itemgetter(1))\n",
    "    vsl = [x + (\"view\",) for x in vs]\n",
    "    vsu = pd.unique([x[0] for x in vs]).astype('str').tolist()\n",
    "    at = sorted(atb_dict[user_id],key=itemgetter(1))\n",
    "    atl = [x + (\"atb\",) for x in at]\n",
    "    atu = pd.unique([x[0] for x in at]).astype('str').tolist()\n",
    "    pu = sorted(purchase_dict[user_id],key=itemgetter(1))\n",
    "    pul = [x + (\"purchase\",) for x in pu]\n",
    "    puu = pd.unique([x[0] for x in pu]).astype('str').tolist()\n",
    "    full_sequence = sorted(vsl+atl+pul,key=itemgetter(1))\n",
    "    past_status = \"\"\n",
    "    current_status = \"\"\n",
    "    current_items = []\n",
    "    for item in full_sequence:\n",
    "        if item[2] != current_status:\n",
    "            if current_status and current_items:\n",
    "                print(current_status)\n",
    "                viz.display_recom_panel(current_items)\n",
    "                current_items = []\n",
    "                current_status = item[2]\n",
    "            current_status = item[2]\n",
    "            current_items.append(str(item[0]))        "
   ]
  },
  {
   "cell_type": "code",
   "execution_count": 52,
   "metadata": {},
   "outputs": [
    {
     "name": "stdout",
     "output_type": "stream",
     "text": [
      "User id: 1038522723\n",
      "view\n"
     ]
    },
    {
     "data": {
      "text/html": [
       "\n",
       "      <style>\n",
       "      .recom {float: left;\n",
       "              margin: 3px;\n",
       "              text-align: center;}\n",
       "      \n",
       "      .recom_red {float: left;\n",
       "                  margin: 3px;\n",
       "                  text-align: center;\n",
       "                  border: 1px solid #FF0000;}\n",
       "      \n",
       "      .recom_green {float: left;\n",
       "                  margin: 3px;\n",
       "                  text-align: center;\n",
       "                  border: 1px solid #00FF00;}\n",
       "      .recom_blue {float: left;\n",
       "                  margin: 3px;\n",
       "                  text-align: center;\n",
       "                  border: 1px solid #0000FF;}\n",
       "      .description {font-size: 11px}\n",
       "      .price {font-size: 11px}\n",
       "      </style>\n",
       "      <div class=\"recom\"><img src=\"../../../../_product_images_cache/8/2/8287018.jpg\" width=\"75\">\n",
       "                   <br/ >\n",
       "                   <span class=\"description\">$20.0 (8287018)</span> <br />\n",
       "                   <span class=\"description\">Pho Sho Me...</span> <br /></div>"
      ]
     },
     "metadata": {},
     "output_type": "display_data"
    },
    {
     "name": "stdout",
     "output_type": "stream",
     "text": [
      "atb\n"
     ]
    },
    {
     "data": {
      "text/html": [
       "\n",
       "      <style>\n",
       "      .recom {float: left;\n",
       "              margin: 3px;\n",
       "              text-align: center;}\n",
       "      \n",
       "      .recom_red {float: left;\n",
       "                  margin: 3px;\n",
       "                  text-align: center;\n",
       "                  border: 1px solid #FF0000;}\n",
       "      \n",
       "      .recom_green {float: left;\n",
       "                  margin: 3px;\n",
       "                  text-align: center;\n",
       "                  border: 1px solid #00FF00;}\n",
       "      .recom_blue {float: left;\n",
       "                  margin: 3px;\n",
       "                  text-align: center;\n",
       "                  border: 1px solid #0000FF;}\n",
       "      .description {font-size: 11px}\n",
       "      .price {font-size: 11px}\n",
       "      </style>\n",
       "      <div class=\"recom\"><img src=\"../../../../_product_images_cache/7/3/7336979.jpg\" width=\"75\">\n",
       "                   <br/ >\n",
       "                   <span class=\"description\">$25.0 (7336979)</span> <br />\n",
       "                   <span class=\"description\">Columbia M...</span> <br /></div>"
      ]
     },
     "metadata": {},
     "output_type": "display_data"
    },
    {
     "name": "stdout",
     "output_type": "stream",
     "text": [
      "view\n"
     ]
    },
    {
     "data": {
      "text/html": [
       "\n",
       "      <style>\n",
       "      .recom {float: left;\n",
       "              margin: 3px;\n",
       "              text-align: center;}\n",
       "      \n",
       "      .recom_red {float: left;\n",
       "                  margin: 3px;\n",
       "                  text-align: center;\n",
       "                  border: 1px solid #FF0000;}\n",
       "      \n",
       "      .recom_green {float: left;\n",
       "                  margin: 3px;\n",
       "                  text-align: center;\n",
       "                  border: 1px solid #00FF00;}\n",
       "      .recom_blue {float: left;\n",
       "                  margin: 3px;\n",
       "                  text-align: center;\n",
       "                  border: 1px solid #0000FF;}\n",
       "      .description {font-size: 11px}\n",
       "      .price {font-size: 11px}\n",
       "      </style>\n",
       "      <div class=\"recom\"><img src=\"../../../../_product_images_cache/9/9/9907349.jpg\" width=\"75\">\n",
       "                   <br/ >\n",
       "                   <span class=\"description\">$24.99 (9907349)</span> <br />\n",
       "                   <span class=\"description\">Marvel Men...</span> <br /></div>"
      ]
     },
     "metadata": {},
     "output_type": "display_data"
    },
    {
     "name": "stdout",
     "output_type": "stream",
     "text": [
      "atb\n"
     ]
    },
    {
     "data": {
      "text/html": [
       "\n",
       "      <style>\n",
       "      .recom {float: left;\n",
       "              margin: 3px;\n",
       "              text-align: center;}\n",
       "      \n",
       "      .recom_red {float: left;\n",
       "                  margin: 3px;\n",
       "                  text-align: center;\n",
       "                  border: 1px solid #FF0000;}\n",
       "      \n",
       "      .recom_green {float: left;\n",
       "                  margin: 3px;\n",
       "                  text-align: center;\n",
       "                  border: 1px solid #00FF00;}\n",
       "      .recom_blue {float: left;\n",
       "                  margin: 3px;\n",
       "                  text-align: center;\n",
       "                  border: 1px solid #0000FF;}\n",
       "      .description {font-size: 11px}\n",
       "      .price {font-size: 11px}\n",
       "      </style>\n",
       "      <div class=\"recom\"><img src=\"../../../../_product_images_cache/9/9/9907349.jpg\" width=\"75\">\n",
       "                   <br/ >\n",
       "                   <span class=\"description\">$24.99 (9907349)</span> <br />\n",
       "                   <span class=\"description\">Marvel Men...</span> <br /></div>"
      ]
     },
     "metadata": {},
     "output_type": "display_data"
    },
    {
     "name": "stdout",
     "output_type": "stream",
     "text": [
      "view\n"
     ]
    },
    {
     "data": {
      "text/html": [
       "\n",
       "      <style>\n",
       "      .recom {float: left;\n",
       "              margin: 3px;\n",
       "              text-align: center;}\n",
       "      \n",
       "      .recom_red {float: left;\n",
       "                  margin: 3px;\n",
       "                  text-align: center;\n",
       "                  border: 1px solid #FF0000;}\n",
       "      \n",
       "      .recom_green {float: left;\n",
       "                  margin: 3px;\n",
       "                  text-align: center;\n",
       "                  border: 1px solid #00FF00;}\n",
       "      .recom_blue {float: left;\n",
       "                  margin: 3px;\n",
       "                  text-align: center;\n",
       "                  border: 1px solid #0000FF;}\n",
       "      .description {font-size: 11px}\n",
       "      .price {font-size: 11px}\n",
       "      </style>\n",
       "      <div class=\"recom\"><img src=\"../../../../_product_images_cache/9/9/9907535.jpg\" width=\"75\">\n",
       "                   <br/ >\n",
       "                   <span class=\"description\">$24.99 (9907535)</span> <br />\n",
       "                   <span class=\"description\">Marvel Men...</span> <br /></div>"
      ]
     },
     "metadata": {},
     "output_type": "display_data"
    },
    {
     "name": "stdout",
     "output_type": "stream",
     "text": [
      "atb\n"
     ]
    },
    {
     "data": {
      "text/html": [
       "\n",
       "      <style>\n",
       "      .recom {float: left;\n",
       "              margin: 3px;\n",
       "              text-align: center;}\n",
       "      \n",
       "      .recom_red {float: left;\n",
       "                  margin: 3px;\n",
       "                  text-align: center;\n",
       "                  border: 1px solid #FF0000;}\n",
       "      \n",
       "      .recom_green {float: left;\n",
       "                  margin: 3px;\n",
       "                  text-align: center;\n",
       "                  border: 1px solid #00FF00;}\n",
       "      .recom_blue {float: left;\n",
       "                  margin: 3px;\n",
       "                  text-align: center;\n",
       "                  border: 1px solid #0000FF;}\n",
       "      .description {font-size: 11px}\n",
       "      .price {font-size: 11px}\n",
       "      </style>\n",
       "      <div class=\"recom\"><img src=\"../../../../_product_images_cache/9/9/9907349.jpg\" width=\"75\">\n",
       "                   <br/ >\n",
       "                   <span class=\"description\">$24.99 (9907349)</span> <br />\n",
       "                   <span class=\"description\">Marvel Men...</span> <br /></div>"
      ]
     },
     "metadata": {},
     "output_type": "display_data"
    },
    {
     "name": "stdout",
     "output_type": "stream",
     "text": [
      "view\n"
     ]
    },
    {
     "data": {
      "text/html": [
       "\n",
       "      <style>\n",
       "      .recom {float: left;\n",
       "              margin: 3px;\n",
       "              text-align: center;}\n",
       "      \n",
       "      .recom_red {float: left;\n",
       "                  margin: 3px;\n",
       "                  text-align: center;\n",
       "                  border: 1px solid #FF0000;}\n",
       "      \n",
       "      .recom_green {float: left;\n",
       "                  margin: 3px;\n",
       "                  text-align: center;\n",
       "                  border: 1px solid #00FF00;}\n",
       "      .recom_blue {float: left;\n",
       "                  margin: 3px;\n",
       "                  text-align: center;\n",
       "                  border: 1px solid #0000FF;}\n",
       "      .description {font-size: 11px}\n",
       "      .price {font-size: 11px}\n",
       "      </style>\n",
       "      <div class=\"recom\"><img src=\"../../../../_product_images_cache/8/4/8476033.jpg\" width=\"75\">\n",
       "                   <br/ >\n",
       "                   <span class=\"description\">$29.0 (8476033)</span> <br />\n",
       "                   <span class=\"description\">Jack & Jon...</span> <br /></div>"
      ]
     },
     "metadata": {},
     "output_type": "display_data"
    },
    {
     "name": "stdout",
     "output_type": "stream",
     "text": [
      "atb\n"
     ]
    },
    {
     "data": {
      "text/html": [
       "\n",
       "      <style>\n",
       "      .recom {float: left;\n",
       "              margin: 3px;\n",
       "              text-align: center;}\n",
       "      \n",
       "      .recom_red {float: left;\n",
       "                  margin: 3px;\n",
       "                  text-align: center;\n",
       "                  border: 1px solid #FF0000;}\n",
       "      \n",
       "      .recom_green {float: left;\n",
       "                  margin: 3px;\n",
       "                  text-align: center;\n",
       "                  border: 1px solid #00FF00;}\n",
       "      .recom_blue {float: left;\n",
       "                  margin: 3px;\n",
       "                  text-align: center;\n",
       "                  border: 1px solid #0000FF;}\n",
       "      .description {font-size: 11px}\n",
       "      .price {font-size: 11px}\n",
       "      </style>\n",
       "      <div class=\"recom\"><img src=\"../../../../_product_images_cache/2/1/2130625.jpg\" width=\"75\">\n",
       "                   <br/ >\n",
       "                   <span class=\"description\">$22.0 (2130625)</span> <br />\n",
       "                   <span class=\"description\">32 DEGREES...</span> <br /></div>"
      ]
     },
     "metadata": {},
     "output_type": "display_data"
    },
    {
     "name": "stdout",
     "output_type": "stream",
     "text": [
      "view\n"
     ]
    },
    {
     "data": {
      "text/html": [
       "\n",
       "      <style>\n",
       "      .recom {float: left;\n",
       "              margin: 3px;\n",
       "              text-align: center;}\n",
       "      \n",
       "      .recom_red {float: left;\n",
       "                  margin: 3px;\n",
       "                  text-align: center;\n",
       "                  border: 1px solid #FF0000;}\n",
       "      \n",
       "      .recom_green {float: left;\n",
       "                  margin: 3px;\n",
       "                  text-align: center;\n",
       "                  border: 1px solid #00FF00;}\n",
       "      .recom_blue {float: left;\n",
       "                  margin: 3px;\n",
       "                  text-align: center;\n",
       "                  border: 1px solid #0000FF;}\n",
       "      .description {font-size: 11px}\n",
       "      .price {font-size: 11px}\n",
       "      </style>\n",
       "      <div class=\"recom\"><img src=\"../../../../_product_images_cache/5/0/5093879.jpg\" width=\"75\">\n",
       "                   <br/ >\n",
       "                   <span class=\"description\">$20.0 (5093879)</span> <br />\n",
       "                   <span class=\"description\">Alfani Men...</span> <br /></div>"
      ]
     },
     "metadata": {},
     "output_type": "display_data"
    },
    {
     "name": "stdout",
     "output_type": "stream",
     "text": [
      "atb\n"
     ]
    },
    {
     "data": {
      "text/html": [
       "\n",
       "      <style>\n",
       "      .recom {float: left;\n",
       "              margin: 3px;\n",
       "              text-align: center;}\n",
       "      \n",
       "      .recom_red {float: left;\n",
       "                  margin: 3px;\n",
       "                  text-align: center;\n",
       "                  border: 1px solid #FF0000;}\n",
       "      \n",
       "      .recom_green {float: left;\n",
       "                  margin: 3px;\n",
       "                  text-align: center;\n",
       "                  border: 1px solid #00FF00;}\n",
       "      .recom_blue {float: left;\n",
       "                  margin: 3px;\n",
       "                  text-align: center;\n",
       "                  border: 1px solid #0000FF;}\n",
       "      .description {font-size: 11px}\n",
       "      .price {font-size: 11px}\n",
       "      </style>\n",
       "      <div class=\"recom\"><img src=\"../../../../_product_images_cache/2/1/2130625.jpg\" width=\"75\">\n",
       "                   <br/ >\n",
       "                   <span class=\"description\">$22.0 (2130625)</span> <br />\n",
       "                   <span class=\"description\">32 DEGREES...</span> <br /></div>"
      ]
     },
     "metadata": {},
     "output_type": "display_data"
    },
    {
     "name": "stdout",
     "output_type": "stream",
     "text": [
      "view\n"
     ]
    },
    {
     "data": {
      "text/html": [
       "\n",
       "      <style>\n",
       "      .recom {float: left;\n",
       "              margin: 3px;\n",
       "              text-align: center;}\n",
       "      \n",
       "      .recom_red {float: left;\n",
       "                  margin: 3px;\n",
       "                  text-align: center;\n",
       "                  border: 1px solid #FF0000;}\n",
       "      \n",
       "      .recom_green {float: left;\n",
       "                  margin: 3px;\n",
       "                  text-align: center;\n",
       "                  border: 1px solid #00FF00;}\n",
       "      .recom_blue {float: left;\n",
       "                  margin: 3px;\n",
       "                  text-align: center;\n",
       "                  border: 1px solid #0000FF;}\n",
       "      .description {font-size: 11px}\n",
       "      .price {font-size: 11px}\n",
       "      </style>\n",
       "      <div class=\"recom\"><img src=\"../../../../_product_images_cache/8/7/8757259.jpg\" width=\"75\">\n",
       "                   <br/ >\n",
       "                   <span class=\"description\">$35.0 (8757259)</span> <br />\n",
       "                   <span class=\"description\">American R...</span> <br /></div>"
      ]
     },
     "metadata": {},
     "output_type": "display_data"
    },
    {
     "name": "stdout",
     "output_type": "stream",
     "text": [
      "atb\n"
     ]
    },
    {
     "data": {
      "text/html": [
       "\n",
       "      <style>\n",
       "      .recom {float: left;\n",
       "              margin: 3px;\n",
       "              text-align: center;}\n",
       "      \n",
       "      .recom_red {float: left;\n",
       "                  margin: 3px;\n",
       "                  text-align: center;\n",
       "                  border: 1px solid #FF0000;}\n",
       "      \n",
       "      .recom_green {float: left;\n",
       "                  margin: 3px;\n",
       "                  text-align: center;\n",
       "                  border: 1px solid #00FF00;}\n",
       "      .recom_blue {float: left;\n",
       "                  margin: 3px;\n",
       "                  text-align: center;\n",
       "                  border: 1px solid #0000FF;}\n",
       "      .description {font-size: 11px}\n",
       "      .price {font-size: 11px}\n",
       "      </style>\n",
       "      <div class=\"recom\"><img src=\"../../../../_product_images_cache/3/0/3027306.jpg\" width=\"75\">\n",
       "                   <br/ >\n",
       "                   <span class=\"description\">$22.0 (3027306)</span> <br />\n",
       "                   <span class=\"description\">ELEMENT ME...</span> <br /></div>"
      ]
     },
     "metadata": {},
     "output_type": "display_data"
    },
    {
     "name": "stdout",
     "output_type": "stream",
     "text": [
      "view\n"
     ]
    },
    {
     "data": {
      "text/html": [
       "\n",
       "      <style>\n",
       "      .recom {float: left;\n",
       "              margin: 3px;\n",
       "              text-align: center;}\n",
       "      \n",
       "      .recom_red {float: left;\n",
       "                  margin: 3px;\n",
       "                  text-align: center;\n",
       "                  border: 1px solid #FF0000;}\n",
       "      \n",
       "      .recom_green {float: left;\n",
       "                  margin: 3px;\n",
       "                  text-align: center;\n",
       "                  border: 1px solid #00FF00;}\n",
       "      .recom_blue {float: left;\n",
       "                  margin: 3px;\n",
       "                  text-align: center;\n",
       "                  border: 1px solid #0000FF;}\n",
       "      .description {font-size: 11px}\n",
       "      .price {font-size: 11px}\n",
       "      </style>\n",
       "      <div class=\"recom\"><img src=\"../../../../_product_images_cache/9/4/9401859.jpg\" width=\"75\">\n",
       "                   <br/ >\n",
       "                   <span class=\"description\">$20.0 (9401859)</span> <br />\n",
       "                   <span class=\"description\">Jeopardy! ...</span> <br /></div>"
      ]
     },
     "metadata": {},
     "output_type": "display_data"
    },
    {
     "name": "stdout",
     "output_type": "stream",
     "text": [
      "atb\n"
     ]
    },
    {
     "data": {
      "text/html": [
       "\n",
       "      <style>\n",
       "      .recom {float: left;\n",
       "              margin: 3px;\n",
       "              text-align: center;}\n",
       "      \n",
       "      .recom_red {float: left;\n",
       "                  margin: 3px;\n",
       "                  text-align: center;\n",
       "                  border: 1px solid #FF0000;}\n",
       "      \n",
       "      .recom_green {float: left;\n",
       "                  margin: 3px;\n",
       "                  text-align: center;\n",
       "                  border: 1px solid #00FF00;}\n",
       "      .recom_blue {float: left;\n",
       "                  margin: 3px;\n",
       "                  text-align: center;\n",
       "                  border: 1px solid #0000FF;}\n",
       "      .description {font-size: 11px}\n",
       "      .price {font-size: 11px}\n",
       "      </style>\n",
       "      <div class=\"recom\"><img src=\"../../../../_product_images_cache/9/4/9401859.jpg\" width=\"75\">\n",
       "                   <br/ >\n",
       "                   <span class=\"description\">$20.0 (9401859)</span> <br />\n",
       "                   <span class=\"description\">Jeopardy! ...</span> <br /></div>"
      ]
     },
     "metadata": {},
     "output_type": "display_data"
    },
    {
     "name": "stdout",
     "output_type": "stream",
     "text": [
      "view\n"
     ]
    },
    {
     "data": {
      "text/html": [
       "\n",
       "      <style>\n",
       "      .recom {float: left;\n",
       "              margin: 3px;\n",
       "              text-align: center;}\n",
       "      \n",
       "      .recom_red {float: left;\n",
       "                  margin: 3px;\n",
       "                  text-align: center;\n",
       "                  border: 1px solid #FF0000;}\n",
       "      \n",
       "      .recom_green {float: left;\n",
       "                  margin: 3px;\n",
       "                  text-align: center;\n",
       "                  border: 1px solid #00FF00;}\n",
       "      .recom_blue {float: left;\n",
       "                  margin: 3px;\n",
       "                  text-align: center;\n",
       "                  border: 1px solid #0000FF;}\n",
       "      .description {font-size: 11px}\n",
       "      .price {font-size: 11px}\n",
       "      </style>\n",
       "      <div class=\"recom\"><img src=\"../../../../_product_images_cache/9/4/9463973.jpg\" width=\"75\">\n",
       "                   <br/ >\n",
       "                   <span class=\"description\">$26.0 (9463973)</span> <br />\n",
       "                   <span class=\"description\">Mickey Mou...</span> <br /></div>"
      ]
     },
     "metadata": {},
     "output_type": "display_data"
    },
    {
     "name": "stdout",
     "output_type": "stream",
     "text": [
      "atb\n"
     ]
    },
    {
     "data": {
      "text/html": [
       "\n",
       "      <style>\n",
       "      .recom {float: left;\n",
       "              margin: 3px;\n",
       "              text-align: center;}\n",
       "      \n",
       "      .recom_red {float: left;\n",
       "                  margin: 3px;\n",
       "                  text-align: center;\n",
       "                  border: 1px solid #FF0000;}\n",
       "      \n",
       "      .recom_green {float: left;\n",
       "                  margin: 3px;\n",
       "                  text-align: center;\n",
       "                  border: 1px solid #00FF00;}\n",
       "      .recom_blue {float: left;\n",
       "                  margin: 3px;\n",
       "                  text-align: center;\n",
       "                  border: 1px solid #0000FF;}\n",
       "      .description {font-size: 11px}\n",
       "      .price {font-size: 11px}\n",
       "      </style>\n",
       "      <div class=\"recom\"><img src=\"../../../../_product_images_cache/9/4/9463973.jpg\" width=\"75\">\n",
       "                   <br/ >\n",
       "                   <span class=\"description\">$26.0 (9463973)</span> <br />\n",
       "                   <span class=\"description\">Mickey Mou...</span> <br /></div>"
      ]
     },
     "metadata": {},
     "output_type": "display_data"
    },
    {
     "name": "stdout",
     "output_type": "stream",
     "text": [
      "view\n"
     ]
    },
    {
     "data": {
      "text/html": [
       "\n",
       "      <style>\n",
       "      .recom {float: left;\n",
       "              margin: 3px;\n",
       "              text-align: center;}\n",
       "      \n",
       "      .recom_red {float: left;\n",
       "                  margin: 3px;\n",
       "                  text-align: center;\n",
       "                  border: 1px solid #FF0000;}\n",
       "      \n",
       "      .recom_green {float: left;\n",
       "                  margin: 3px;\n",
       "                  text-align: center;\n",
       "                  border: 1px solid #00FF00;}\n",
       "      .recom_blue {float: left;\n",
       "                  margin: 3px;\n",
       "                  text-align: center;\n",
       "                  border: 1px solid #0000FF;}\n",
       "      .description {font-size: 11px}\n",
       "      .price {font-size: 11px}\n",
       "      </style>\n",
       "      <div class=\"recom\"><img src=\"../../../../_product_images_cache/9/4/9463972.jpg\" width=\"75\">\n",
       "                   <br/ >\n",
       "                   <span class=\"description\">$26.0 (9463972)</span> <br />\n",
       "                   <span class=\"description\">Coca-Cola ...</span> <br /></div>"
      ]
     },
     "metadata": {},
     "output_type": "display_data"
    },
    {
     "name": "stdout",
     "output_type": "stream",
     "text": [
      "atb\n"
     ]
    },
    {
     "data": {
      "text/html": [
       "\n",
       "      <style>\n",
       "      .recom {float: left;\n",
       "              margin: 3px;\n",
       "              text-align: center;}\n",
       "      \n",
       "      .recom_red {float: left;\n",
       "                  margin: 3px;\n",
       "                  text-align: center;\n",
       "                  border: 1px solid #FF0000;}\n",
       "      \n",
       "      .recom_green {float: left;\n",
       "                  margin: 3px;\n",
       "                  text-align: center;\n",
       "                  border: 1px solid #00FF00;}\n",
       "      .recom_blue {float: left;\n",
       "                  margin: 3px;\n",
       "                  text-align: center;\n",
       "                  border: 1px solid #0000FF;}\n",
       "      .description {font-size: 11px}\n",
       "      .price {font-size: 11px}\n",
       "      </style>\n",
       "      <div class=\"recom\"><img src=\"../../../../_product_images_cache/8/6/8667493.jpg\" width=\"75\">\n",
       "                   <br/ >\n",
       "                   <span class=\"description\">$34.5 (8667493)</span> <br />\n",
       "                   <span class=\"description\">Nautica Me...</span> <br /></div>"
      ]
     },
     "metadata": {},
     "output_type": "display_data"
    },
    {
     "name": "stdout",
     "output_type": "stream",
     "text": [
      "view\n"
     ]
    },
    {
     "data": {
      "text/html": [
       "\n",
       "      <style>\n",
       "      .recom {float: left;\n",
       "              margin: 3px;\n",
       "              text-align: center;}\n",
       "      \n",
       "      .recom_red {float: left;\n",
       "                  margin: 3px;\n",
       "                  text-align: center;\n",
       "                  border: 1px solid #FF0000;}\n",
       "      \n",
       "      .recom_green {float: left;\n",
       "                  margin: 3px;\n",
       "                  text-align: center;\n",
       "                  border: 1px solid #00FF00;}\n",
       "      .recom_blue {float: left;\n",
       "                  margin: 3px;\n",
       "                  text-align: center;\n",
       "                  border: 1px solid #0000FF;}\n",
       "      .description {font-size: 11px}\n",
       "      .price {font-size: 11px}\n",
       "      </style>\n",
       "      <div class=\"recom\"><img src=\"../../../../_product_images_cache/8/4/8476027.jpg\" width=\"75\">\n",
       "                   <br/ >\n",
       "                   <span class=\"description\">$24.0 (8476027)</span> <br />\n",
       "                   <span class=\"description\">Jack & Jon...</span> <br /></div>"
      ]
     },
     "metadata": {},
     "output_type": "display_data"
    },
    {
     "name": "stdout",
     "output_type": "stream",
     "text": [
      "atb\n"
     ]
    },
    {
     "data": {
      "text/html": [
       "\n",
       "      <style>\n",
       "      .recom {float: left;\n",
       "              margin: 3px;\n",
       "              text-align: center;}\n",
       "      \n",
       "      .recom_red {float: left;\n",
       "                  margin: 3px;\n",
       "                  text-align: center;\n",
       "                  border: 1px solid #FF0000;}\n",
       "      \n",
       "      .recom_green {float: left;\n",
       "                  margin: 3px;\n",
       "                  text-align: center;\n",
       "                  border: 1px solid #00FF00;}\n",
       "      .recom_blue {float: left;\n",
       "                  margin: 3px;\n",
       "                  text-align: center;\n",
       "                  border: 1px solid #0000FF;}\n",
       "      .description {font-size: 11px}\n",
       "      .price {font-size: 11px}\n",
       "      </style>\n",
       "      <div class=\"recom\"><img src=\"../../../../_product_images_cache/8/7/8784937.jpg\" width=\"75\">\n",
       "                   <br/ >\n",
       "                   <span class=\"description\">$25.0 (8784937)</span> <br />\n",
       "                   <span class=\"description\">Quiksilver...</span> <br /></div>"
      ]
     },
     "metadata": {},
     "output_type": "display_data"
    },
    {
     "name": "stdout",
     "output_type": "stream",
     "text": [
      "view\n"
     ]
    },
    {
     "data": {
      "text/html": [
       "\n",
       "      <style>\n",
       "      .recom {float: left;\n",
       "              margin: 3px;\n",
       "              text-align: center;}\n",
       "      \n",
       "      .recom_red {float: left;\n",
       "                  margin: 3px;\n",
       "                  text-align: center;\n",
       "                  border: 1px solid #FF0000;}\n",
       "      \n",
       "      .recom_green {float: left;\n",
       "                  margin: 3px;\n",
       "                  text-align: center;\n",
       "                  border: 1px solid #00FF00;}\n",
       "      .recom_blue {float: left;\n",
       "                  margin: 3px;\n",
       "                  text-align: center;\n",
       "                  border: 1px solid #0000FF;}\n",
       "      .description {font-size: 11px}\n",
       "      .price {font-size: 11px}\n",
       "      </style>\n",
       "      <div class=\"recom\"><img src=\"../../../../_product_images_cache/8/4/8484151.jpg\" width=\"75\">\n",
       "                   <br/ >\n",
       "                   <span class=\"description\">$44.99 (8484151)</span> <br />\n",
       "                   <span class=\"description\">Gelert Men...</span> <br /></div>"
      ]
     },
     "metadata": {},
     "output_type": "display_data"
    },
    {
     "name": "stdout",
     "output_type": "stream",
     "text": [
      "atb\n"
     ]
    },
    {
     "data": {
      "text/html": [
       "\n",
       "      <style>\n",
       "      .recom {float: left;\n",
       "              margin: 3px;\n",
       "              text-align: center;}\n",
       "      \n",
       "      .recom_red {float: left;\n",
       "                  margin: 3px;\n",
       "                  text-align: center;\n",
       "                  border: 1px solid #FF0000;}\n",
       "      \n",
       "      .recom_green {float: left;\n",
       "                  margin: 3px;\n",
       "                  text-align: center;\n",
       "                  border: 1px solid #00FF00;}\n",
       "      .recom_blue {float: left;\n",
       "                  margin: 3px;\n",
       "                  text-align: center;\n",
       "                  border: 1px solid #0000FF;}\n",
       "      .description {font-size: 11px}\n",
       "      .price {font-size: 11px}\n",
       "      </style>\n",
       "      <div class=\"recom\"><img src=\"../../../../_product_images_cache/7/8/7800857.jpg\" width=\"75\">\n",
       "                   <br/ >\n",
       "                   <span class=\"description\">$44.99 (7800857)</span> <br />\n",
       "                   <span class=\"description\">EMS Men's...</span> <br /></div>"
      ]
     },
     "metadata": {},
     "output_type": "display_data"
    },
    {
     "name": "stdout",
     "output_type": "stream",
     "text": [
      "view\n"
     ]
    },
    {
     "data": {
      "text/html": [
       "\n",
       "      <style>\n",
       "      .recom {float: left;\n",
       "              margin: 3px;\n",
       "              text-align: center;}\n",
       "      \n",
       "      .recom_red {float: left;\n",
       "                  margin: 3px;\n",
       "                  text-align: center;\n",
       "                  border: 1px solid #FF0000;}\n",
       "      \n",
       "      .recom_green {float: left;\n",
       "                  margin: 3px;\n",
       "                  text-align: center;\n",
       "                  border: 1px solid #00FF00;}\n",
       "      .recom_blue {float: left;\n",
       "                  margin: 3px;\n",
       "                  text-align: center;\n",
       "                  border: 1px solid #0000FF;}\n",
       "      .description {font-size: 11px}\n",
       "      .price {font-size: 11px}\n",
       "      </style>\n",
       "      <div class=\"recom\"><img src=\"../../../../_product_images_cache/6/7/6750844.jpg\" width=\"75\">\n",
       "                   <br/ >\n",
       "                   <span class=\"description\">$60.0 (6750844)</span> <br />\n",
       "                   <span class=\"description\">BRENTYN TR...</span> <br /></div>"
      ]
     },
     "metadata": {},
     "output_type": "display_data"
    },
    {
     "name": "stdout",
     "output_type": "stream",
     "text": [
      "atb\n"
     ]
    },
    {
     "data": {
      "text/html": [
       "\n",
       "      <style>\n",
       "      .recom {float: left;\n",
       "              margin: 3px;\n",
       "              text-align: center;}\n",
       "      \n",
       "      .recom_red {float: left;\n",
       "                  margin: 3px;\n",
       "                  text-align: center;\n",
       "                  border: 1px solid #FF0000;}\n",
       "      \n",
       "      .recom_green {float: left;\n",
       "                  margin: 3px;\n",
       "                  text-align: center;\n",
       "                  border: 1px solid #00FF00;}\n",
       "      .recom_blue {float: left;\n",
       "                  margin: 3px;\n",
       "                  text-align: center;\n",
       "                  border: 1px solid #0000FF;}\n",
       "      .description {font-size: 11px}\n",
       "      .price {font-size: 11px}\n",
       "      </style>\n",
       "      <div class=\"recom\"><img src=\"../../../../_product_images_cache/2/7/2760632.jpg\" width=\"75\">\n",
       "                   <br/ >\n",
       "                   <span class=\"description\">$55.0 (2760632)</span> <br />\n",
       "                   <span class=\"description\">TASSO ELBA...</span> <br /></div>"
      ]
     },
     "metadata": {},
     "output_type": "display_data"
    },
    {
     "name": "stdout",
     "output_type": "stream",
     "text": [
      "view\n"
     ]
    },
    {
     "data": {
      "text/html": [
       "\n",
       "      <style>\n",
       "      .recom {float: left;\n",
       "              margin: 3px;\n",
       "              text-align: center;}\n",
       "      \n",
       "      .recom_red {float: left;\n",
       "                  margin: 3px;\n",
       "                  text-align: center;\n",
       "                  border: 1px solid #FF0000;}\n",
       "      \n",
       "      .recom_green {float: left;\n",
       "                  margin: 3px;\n",
       "                  text-align: center;\n",
       "                  border: 1px solid #00FF00;}\n",
       "      .recom_blue {float: left;\n",
       "                  margin: 3px;\n",
       "                  text-align: center;\n",
       "                  border: 1px solid #0000FF;}\n",
       "      .description {font-size: 11px}\n",
       "      .price {font-size: 11px}\n",
       "      </style>\n",
       "      <div class=\"recom\"><img src=\"../../../../_product_images_cache/5/9/5924400.jpg\" width=\"75\">\n",
       "                   <br/ >\n",
       "                   <span class=\"description\">$59.5 (5924400)</span> <br />\n",
       "                   <span class=\"description\">I.N.C. Men...</span> <br /></div>"
      ]
     },
     "metadata": {},
     "output_type": "display_data"
    },
    {
     "name": "stdout",
     "output_type": "stream",
     "text": [
      "atb\n"
     ]
    },
    {
     "data": {
      "text/html": [
       "\n",
       "      <style>\n",
       "      .recom {float: left;\n",
       "              margin: 3px;\n",
       "              text-align: center;}\n",
       "      \n",
       "      .recom_red {float: left;\n",
       "                  margin: 3px;\n",
       "                  text-align: center;\n",
       "                  border: 1px solid #FF0000;}\n",
       "      \n",
       "      .recom_green {float: left;\n",
       "                  margin: 3px;\n",
       "                  text-align: center;\n",
       "                  border: 1px solid #00FF00;}\n",
       "      .recom_blue {float: left;\n",
       "                  margin: 3px;\n",
       "                  text-align: center;\n",
       "                  border: 1px solid #0000FF;}\n",
       "      .description {font-size: 11px}\n",
       "      .price {font-size: 11px}\n",
       "      </style>\n",
       "      <div class=\"recom\"><img src=\"../../../../_product_images_cache/9/4/9401859.jpg\" width=\"75\">\n",
       "                   <br/ >\n",
       "                   <span class=\"description\">$20.0 (9401859)</span> <br />\n",
       "                   <span class=\"description\">Jeopardy! ...</span> <br /></div>"
      ]
     },
     "metadata": {},
     "output_type": "display_data"
    },
    {
     "name": "stdout",
     "output_type": "stream",
     "text": [
      "view\n"
     ]
    },
    {
     "data": {
      "text/html": [
       "\n",
       "      <style>\n",
       "      .recom {float: left;\n",
       "              margin: 3px;\n",
       "              text-align: center;}\n",
       "      \n",
       "      .recom_red {float: left;\n",
       "                  margin: 3px;\n",
       "                  text-align: center;\n",
       "                  border: 1px solid #FF0000;}\n",
       "      \n",
       "      .recom_green {float: left;\n",
       "                  margin: 3px;\n",
       "                  text-align: center;\n",
       "                  border: 1px solid #00FF00;}\n",
       "      .recom_blue {float: left;\n",
       "                  margin: 3px;\n",
       "                  text-align: center;\n",
       "                  border: 1px solid #0000FF;}\n",
       "      .description {font-size: 11px}\n",
       "      .price {font-size: 11px}\n",
       "      </style>\n",
       "      <div class=\"recom\"><img src=\"../../../../_product_images_cache/9/4/9463973.jpg\" width=\"75\">\n",
       "                   <br/ >\n",
       "                   <span class=\"description\">$26.0 (9463973)</span> <br />\n",
       "                   <span class=\"description\">Mickey Mou...</span> <br /></div>"
      ]
     },
     "metadata": {},
     "output_type": "display_data"
    },
    {
     "name": "stdout",
     "output_type": "stream",
     "text": [
      "atb\n"
     ]
    },
    {
     "data": {
      "text/html": [
       "\n",
       "      <style>\n",
       "      .recom {float: left;\n",
       "              margin: 3px;\n",
       "              text-align: center;}\n",
       "      \n",
       "      .recom_red {float: left;\n",
       "                  margin: 3px;\n",
       "                  text-align: center;\n",
       "                  border: 1px solid #FF0000;}\n",
       "      \n",
       "      .recom_green {float: left;\n",
       "                  margin: 3px;\n",
       "                  text-align: center;\n",
       "                  border: 1px solid #00FF00;}\n",
       "      .recom_blue {float: left;\n",
       "                  margin: 3px;\n",
       "                  text-align: center;\n",
       "                  border: 1px solid #0000FF;}\n",
       "      .description {font-size: 11px}\n",
       "      .price {font-size: 11px}\n",
       "      </style>\n",
       "      <div class=\"recom\"><img src=\"../../../../_product_images_cache/2/1/2130625.jpg\" width=\"75\">\n",
       "                   <br/ >\n",
       "                   <span class=\"description\">$22.0 (2130625)</span> <br />\n",
       "                   <span class=\"description\">32 DEGREES...</span> <br /></div>"
      ]
     },
     "metadata": {},
     "output_type": "display_data"
    },
    {
     "name": "stdout",
     "output_type": "stream",
     "text": [
      "view\n"
     ]
    },
    {
     "data": {
      "text/html": [
       "\n",
       "      <style>\n",
       "      .recom {float: left;\n",
       "              margin: 3px;\n",
       "              text-align: center;}\n",
       "      \n",
       "      .recom_red {float: left;\n",
       "                  margin: 3px;\n",
       "                  text-align: center;\n",
       "                  border: 1px solid #FF0000;}\n",
       "      \n",
       "      .recom_green {float: left;\n",
       "                  margin: 3px;\n",
       "                  text-align: center;\n",
       "                  border: 1px solid #00FF00;}\n",
       "      .recom_blue {float: left;\n",
       "                  margin: 3px;\n",
       "                  text-align: center;\n",
       "                  border: 1px solid #0000FF;}\n",
       "      .description {font-size: 11px}\n",
       "      .price {font-size: 11px}\n",
       "      </style>\n",
       "      <div class=\"recom\"><img src=\"../../../../_product_images_cache/3/0/3027306.jpg\" width=\"75\">\n",
       "                   <br/ >\n",
       "                   <span class=\"description\">$22.0 (3027306)</span> <br />\n",
       "                   <span class=\"description\">ELEMENT ME...</span> <br /></div>"
      ]
     },
     "metadata": {},
     "output_type": "display_data"
    },
    {
     "name": "stdout",
     "output_type": "stream",
     "text": [
      "atb\n"
     ]
    },
    {
     "data": {
      "text/html": [
       "\n",
       "      <style>\n",
       "      .recom {float: left;\n",
       "              margin: 3px;\n",
       "              text-align: center;}\n",
       "      \n",
       "      .recom_red {float: left;\n",
       "                  margin: 3px;\n",
       "                  text-align: center;\n",
       "                  border: 1px solid #FF0000;}\n",
       "      \n",
       "      .recom_green {float: left;\n",
       "                  margin: 3px;\n",
       "                  text-align: center;\n",
       "                  border: 1px solid #00FF00;}\n",
       "      .recom_blue {float: left;\n",
       "                  margin: 3px;\n",
       "                  text-align: center;\n",
       "                  border: 1px solid #0000FF;}\n",
       "      .description {font-size: 11px}\n",
       "      .price {font-size: 11px}\n",
       "      </style>\n",
       "      <div class=\"recom\"><img src=\"../../../../_product_images_cache/3/0/3027306.jpg\" width=\"75\">\n",
       "                   <br/ >\n",
       "                   <span class=\"description\">$22.0 (3027306)</span> <br />\n",
       "                   <span class=\"description\">ELEMENT ME...</span> <br /></div>"
      ]
     },
     "metadata": {},
     "output_type": "display_data"
    },
    {
     "name": "stdout",
     "output_type": "stream",
     "text": [
      "view\n"
     ]
    },
    {
     "data": {
      "text/html": [
       "\n",
       "      <style>\n",
       "      .recom {float: left;\n",
       "              margin: 3px;\n",
       "              text-align: center;}\n",
       "      \n",
       "      .recom_red {float: left;\n",
       "                  margin: 3px;\n",
       "                  text-align: center;\n",
       "                  border: 1px solid #FF0000;}\n",
       "      \n",
       "      .recom_green {float: left;\n",
       "                  margin: 3px;\n",
       "                  text-align: center;\n",
       "                  border: 1px solid #00FF00;}\n",
       "      .recom_blue {float: left;\n",
       "                  margin: 3px;\n",
       "                  text-align: center;\n",
       "                  border: 1px solid #0000FF;}\n",
       "      .description {font-size: 11px}\n",
       "      .price {font-size: 11px}\n",
       "      </style>\n",
       "      <div class=\"recom\"><img src=\"../../../../_product_images_cache/3/0/3027306.jpg\" width=\"75\">\n",
       "                   <br/ >\n",
       "                   <span class=\"description\">$22.0 (3027306)</span> <br />\n",
       "                   <span class=\"description\">ELEMENT ME...</span> <br /></div>"
      ]
     },
     "metadata": {},
     "output_type": "display_data"
    },
    {
     "name": "stdout",
     "output_type": "stream",
     "text": [
      "atb\n"
     ]
    },
    {
     "data": {
      "text/html": [
       "\n",
       "      <style>\n",
       "      .recom {float: left;\n",
       "              margin: 3px;\n",
       "              text-align: center;}\n",
       "      \n",
       "      .recom_red {float: left;\n",
       "                  margin: 3px;\n",
       "                  text-align: center;\n",
       "                  border: 1px solid #FF0000;}\n",
       "      \n",
       "      .recom_green {float: left;\n",
       "                  margin: 3px;\n",
       "                  text-align: center;\n",
       "                  border: 1px solid #00FF00;}\n",
       "      .recom_blue {float: left;\n",
       "                  margin: 3px;\n",
       "                  text-align: center;\n",
       "                  border: 1px solid #0000FF;}\n",
       "      .description {font-size: 11px}\n",
       "      .price {font-size: 11px}\n",
       "      </style>\n",
       "      <div class=\"recom\"><img src=\"../../../../_product_images_cache/7/3/7336979.jpg\" width=\"75\">\n",
       "                   <br/ >\n",
       "                   <span class=\"description\">$25.0 (7336979)</span> <br />\n",
       "                   <span class=\"description\">Columbia M...</span> <br /></div>"
      ]
     },
     "metadata": {},
     "output_type": "display_data"
    },
    {
     "name": "stdout",
     "output_type": "stream",
     "text": [
      "view\n"
     ]
    },
    {
     "data": {
      "text/html": [
       "\n",
       "      <style>\n",
       "      .recom {float: left;\n",
       "              margin: 3px;\n",
       "              text-align: center;}\n",
       "      \n",
       "      .recom_red {float: left;\n",
       "                  margin: 3px;\n",
       "                  text-align: center;\n",
       "                  border: 1px solid #FF0000;}\n",
       "      \n",
       "      .recom_green {float: left;\n",
       "                  margin: 3px;\n",
       "                  text-align: center;\n",
       "                  border: 1px solid #00FF00;}\n",
       "      .recom_blue {float: left;\n",
       "                  margin: 3px;\n",
       "                  text-align: center;\n",
       "                  border: 1px solid #0000FF;}\n",
       "      .description {font-size: 11px}\n",
       "      .price {font-size: 11px}\n",
       "      </style>\n",
       "      <div class=\"recom\"><img src=\"../../../../_product_images_cache/3/0/3027306.jpg\" width=\"75\">\n",
       "                   <br/ >\n",
       "                   <span class=\"description\">$22.0 (3027306)</span> <br />\n",
       "                   <span class=\"description\">ELEMENT ME...</span> <br /></div>"
      ]
     },
     "metadata": {},
     "output_type": "display_data"
    },
    {
     "name": "stdout",
     "output_type": "stream",
     "text": [
      "atb\n"
     ]
    },
    {
     "data": {
      "text/html": [
       "\n",
       "      <style>\n",
       "      .recom {float: left;\n",
       "              margin: 3px;\n",
       "              text-align: center;}\n",
       "      \n",
       "      .recom_red {float: left;\n",
       "                  margin: 3px;\n",
       "                  text-align: center;\n",
       "                  border: 1px solid #FF0000;}\n",
       "      \n",
       "      .recom_green {float: left;\n",
       "                  margin: 3px;\n",
       "                  text-align: center;\n",
       "                  border: 1px solid #00FF00;}\n",
       "      .recom_blue {float: left;\n",
       "                  margin: 3px;\n",
       "                  text-align: center;\n",
       "                  border: 1px solid #0000FF;}\n",
       "      .description {font-size: 11px}\n",
       "      .price {font-size: 11px}\n",
       "      </style>\n",
       "      <div class=\"recom\"><img src=\"../../../../_product_images_cache/9/4/9463973.jpg\" width=\"75\">\n",
       "                   <br/ >\n",
       "                   <span class=\"description\">$26.0 (9463973)</span> <br />\n",
       "                   <span class=\"description\">Mickey Mou...</span> <br /></div>"
      ]
     },
     "metadata": {},
     "output_type": "display_data"
    },
    {
     "name": "stdout",
     "output_type": "stream",
     "text": [
      "view\n"
     ]
    },
    {
     "data": {
      "text/html": [
       "\n",
       "      <style>\n",
       "      .recom {float: left;\n",
       "              margin: 3px;\n",
       "              text-align: center;}\n",
       "      \n",
       "      .recom_red {float: left;\n",
       "                  margin: 3px;\n",
       "                  text-align: center;\n",
       "                  border: 1px solid #FF0000;}\n",
       "      \n",
       "      .recom_green {float: left;\n",
       "                  margin: 3px;\n",
       "                  text-align: center;\n",
       "                  border: 1px solid #00FF00;}\n",
       "      .recom_blue {float: left;\n",
       "                  margin: 3px;\n",
       "                  text-align: center;\n",
       "                  border: 1px solid #0000FF;}\n",
       "      .description {font-size: 11px}\n",
       "      .price {font-size: 11px}\n",
       "      </style>\n",
       "      <div class=\"recom\"><img src=\"../../../../_product_images_cache/2/1/2130625.jpg\" width=\"75\">\n",
       "                   <br/ >\n",
       "                   <span class=\"description\">$22.0 (2130625)</span> <br />\n",
       "                   <span class=\"description\">32 DEGREES...</span> <br /></div>"
      ]
     },
     "metadata": {},
     "output_type": "display_data"
    },
    {
     "name": "stdout",
     "output_type": "stream",
     "text": [
      "atb\n"
     ]
    },
    {
     "data": {
      "text/html": [
       "\n",
       "      <style>\n",
       "      .recom {float: left;\n",
       "              margin: 3px;\n",
       "              text-align: center;}\n",
       "      \n",
       "      .recom_red {float: left;\n",
       "                  margin: 3px;\n",
       "                  text-align: center;\n",
       "                  border: 1px solid #FF0000;}\n",
       "      \n",
       "      .recom_green {float: left;\n",
       "                  margin: 3px;\n",
       "                  text-align: center;\n",
       "                  border: 1px solid #00FF00;}\n",
       "      .recom_blue {float: left;\n",
       "                  margin: 3px;\n",
       "                  text-align: center;\n",
       "                  border: 1px solid #0000FF;}\n",
       "      .description {font-size: 11px}\n",
       "      .price {font-size: 11px}\n",
       "      </style>\n",
       "      <div class=\"recom\"><img src=\"../../../../_product_images_cache/2/1/2130625.jpg\" width=\"75\">\n",
       "                   <br/ >\n",
       "                   <span class=\"description\">$22.0 (2130625)</span> <br />\n",
       "                   <span class=\"description\">32 DEGREES...</span> <br /></div>"
      ]
     },
     "metadata": {},
     "output_type": "display_data"
    },
    {
     "name": "stdout",
     "output_type": "stream",
     "text": [
      "view\n"
     ]
    },
    {
     "data": {
      "text/html": [
       "\n",
       "      <style>\n",
       "      .recom {float: left;\n",
       "              margin: 3px;\n",
       "              text-align: center;}\n",
       "      \n",
       "      .recom_red {float: left;\n",
       "                  margin: 3px;\n",
       "                  text-align: center;\n",
       "                  border: 1px solid #FF0000;}\n",
       "      \n",
       "      .recom_green {float: left;\n",
       "                  margin: 3px;\n",
       "                  text-align: center;\n",
       "                  border: 1px solid #00FF00;}\n",
       "      .recom_blue {float: left;\n",
       "                  margin: 3px;\n",
       "                  text-align: center;\n",
       "                  border: 1px solid #0000FF;}\n",
       "      .description {font-size: 11px}\n",
       "      .price {font-size: 11px}\n",
       "      </style>\n",
       "      <div class=\"recom\"><img src=\"../../../../_product_images_cache/9/3/9372165.jpg\" width=\"75\">\n",
       "                   <br/ >\n",
       "                   <span class=\"description\">$46.0 (9372165)</span> <br />\n",
       "                   <span class=\"description\">Unionbay M...</span> <br /></div>"
      ]
     },
     "metadata": {},
     "output_type": "display_data"
    },
    {
     "name": "stdout",
     "output_type": "stream",
     "text": [
      "atb\n"
     ]
    },
    {
     "data": {
      "text/html": [
       "\n",
       "      <style>\n",
       "      .recom {float: left;\n",
       "              margin: 3px;\n",
       "              text-align: center;}\n",
       "      \n",
       "      .recom_red {float: left;\n",
       "                  margin: 3px;\n",
       "                  text-align: center;\n",
       "                  border: 1px solid #FF0000;}\n",
       "      \n",
       "      .recom_green {float: left;\n",
       "                  margin: 3px;\n",
       "                  text-align: center;\n",
       "                  border: 1px solid #00FF00;}\n",
       "      .recom_blue {float: left;\n",
       "                  margin: 3px;\n",
       "                  text-align: center;\n",
       "                  border: 1px solid #0000FF;}\n",
       "      .description {font-size: 11px}\n",
       "      .price {font-size: 11px}\n",
       "      </style>\n",
       "      <div class=\"recom\"><img src=\"../../../../_product_images_cache/3/0/3027306.jpg\" width=\"75\">\n",
       "                   <br/ >\n",
       "                   <span class=\"description\">$22.0 (3027306)</span> <br />\n",
       "                   <span class=\"description\">ELEMENT ME...</span> <br /></div>"
      ]
     },
     "metadata": {},
     "output_type": "display_data"
    },
    {
     "name": "stdout",
     "output_type": "stream",
     "text": [
      "view\n"
     ]
    },
    {
     "data": {
      "text/html": [
       "\n",
       "      <style>\n",
       "      .recom {float: left;\n",
       "              margin: 3px;\n",
       "              text-align: center;}\n",
       "      \n",
       "      .recom_red {float: left;\n",
       "                  margin: 3px;\n",
       "                  text-align: center;\n",
       "                  border: 1px solid #FF0000;}\n",
       "      \n",
       "      .recom_green {float: left;\n",
       "                  margin: 3px;\n",
       "                  text-align: center;\n",
       "                  border: 1px solid #00FF00;}\n",
       "      .recom_blue {float: left;\n",
       "                  margin: 3px;\n",
       "                  text-align: center;\n",
       "                  border: 1px solid #0000FF;}\n",
       "      .description {font-size: 11px}\n",
       "      .price {font-size: 11px}\n",
       "      </style>\n",
       "      <div class=\"recom\"><img src=\"../../../../_product_images_cache/3/0/3027306.jpg\" width=\"75\">\n",
       "                   <br/ >\n",
       "                   <span class=\"description\">$22.0 (3027306)</span> <br />\n",
       "                   <span class=\"description\">ELEMENT ME...</span> <br /></div>"
      ]
     },
     "metadata": {},
     "output_type": "display_data"
    },
    {
     "name": "stdout",
     "output_type": "stream",
     "text": [
      "atb\n"
     ]
    },
    {
     "data": {
      "text/html": [
       "\n",
       "      <style>\n",
       "      .recom {float: left;\n",
       "              margin: 3px;\n",
       "              text-align: center;}\n",
       "      \n",
       "      .recom_red {float: left;\n",
       "                  margin: 3px;\n",
       "                  text-align: center;\n",
       "                  border: 1px solid #FF0000;}\n",
       "      \n",
       "      .recom_green {float: left;\n",
       "                  margin: 3px;\n",
       "                  text-align: center;\n",
       "                  border: 1px solid #00FF00;}\n",
       "      .recom_blue {float: left;\n",
       "                  margin: 3px;\n",
       "                  text-align: center;\n",
       "                  border: 1px solid #0000FF;}\n",
       "      .description {font-size: 11px}\n",
       "      .price {font-size: 11px}\n",
       "      </style>\n",
       "      <div class=\"recom\"><img src=\"../../../../_product_images_cache/7/3/7336979.jpg\" width=\"75\">\n",
       "                   <br/ >\n",
       "                   <span class=\"description\">$25.0 (7336979)</span> <br />\n",
       "                   <span class=\"description\">Columbia M...</span> <br /></div>"
      ]
     },
     "metadata": {},
     "output_type": "display_data"
    },
    {
     "name": "stdout",
     "output_type": "stream",
     "text": [
      "view\n"
     ]
    },
    {
     "data": {
      "text/html": [
       "\n",
       "      <style>\n",
       "      .recom {float: left;\n",
       "              margin: 3px;\n",
       "              text-align: center;}\n",
       "      \n",
       "      .recom_red {float: left;\n",
       "                  margin: 3px;\n",
       "                  text-align: center;\n",
       "                  border: 1px solid #FF0000;}\n",
       "      \n",
       "      .recom_green {float: left;\n",
       "                  margin: 3px;\n",
       "                  text-align: center;\n",
       "                  border: 1px solid #00FF00;}\n",
       "      .recom_blue {float: left;\n",
       "                  margin: 3px;\n",
       "                  text-align: center;\n",
       "                  border: 1px solid #0000FF;}\n",
       "      .description {font-size: 11px}\n",
       "      .price {font-size: 11px}\n",
       "      </style>\n",
       "      <div class=\"recom\"><img src=\"../../../../_product_images_cache/6/8/6854070.jpg\" width=\"75\">\n",
       "                   <br/ >\n",
       "                   <span class=\"description\">$50.0 (6854070)</span> <br />\n",
       "                   <span class=\"description\">Unionbay M...</span> <br /></div>"
      ]
     },
     "metadata": {},
     "output_type": "display_data"
    },
    {
     "name": "stdout",
     "output_type": "stream",
     "text": [
      "atb\n"
     ]
    },
    {
     "data": {
      "text/html": [
       "\n",
       "      <style>\n",
       "      .recom {float: left;\n",
       "              margin: 3px;\n",
       "              text-align: center;}\n",
       "      \n",
       "      .recom_red {float: left;\n",
       "                  margin: 3px;\n",
       "                  text-align: center;\n",
       "                  border: 1px solid #FF0000;}\n",
       "      \n",
       "      .recom_green {float: left;\n",
       "                  margin: 3px;\n",
       "                  text-align: center;\n",
       "                  border: 1px solid #00FF00;}\n",
       "      .recom_blue {float: left;\n",
       "                  margin: 3px;\n",
       "                  text-align: center;\n",
       "                  border: 1px solid #0000FF;}\n",
       "      .description {font-size: 11px}\n",
       "      .price {font-size: 11px}\n",
       "      </style>\n",
       "      <div class=\"recom\"><img src=\"../../../../_product_images_cache/6/7/6724652.jpg\" width=\"75\">\n",
       "                   <br/ >\n",
       "                   <span class=\"description\">$25.0 (6724652)</span> <br />\n",
       "                   <span class=\"description\">Columbia M...</span> <br /></div>"
      ]
     },
     "metadata": {},
     "output_type": "display_data"
    },
    {
     "name": "stdout",
     "output_type": "stream",
     "text": [
      "view\n"
     ]
    },
    {
     "data": {
      "text/html": [
       "\n",
       "      <style>\n",
       "      .recom {float: left;\n",
       "              margin: 3px;\n",
       "              text-align: center;}\n",
       "      \n",
       "      .recom_red {float: left;\n",
       "                  margin: 3px;\n",
       "                  text-align: center;\n",
       "                  border: 1px solid #FF0000;}\n",
       "      \n",
       "      .recom_green {float: left;\n",
       "                  margin: 3px;\n",
       "                  text-align: center;\n",
       "                  border: 1px solid #00FF00;}\n",
       "      .recom_blue {float: left;\n",
       "                  margin: 3px;\n",
       "                  text-align: center;\n",
       "                  border: 1px solid #0000FF;}\n",
       "      .description {font-size: 11px}\n",
       "      .price {font-size: 11px}\n",
       "      </style>\n",
       "      <div class=\"recom\"><img src=\"../../../../_product_images_cache/6/4/6455647.jpg\" width=\"75\">\n",
       "                   <br/ >\n",
       "                   <span class=\"description\">$25.0 (6455647)</span> <br />\n",
       "                   <span class=\"description\">Columbia M...</span> <br /></div>"
      ]
     },
     "metadata": {},
     "output_type": "display_data"
    },
    {
     "name": "stdout",
     "output_type": "stream",
     "text": [
      "atb\n"
     ]
    },
    {
     "data": {
      "text/html": [
       "\n",
       "      <style>\n",
       "      .recom {float: left;\n",
       "              margin: 3px;\n",
       "              text-align: center;}\n",
       "      \n",
       "      .recom_red {float: left;\n",
       "                  margin: 3px;\n",
       "                  text-align: center;\n",
       "                  border: 1px solid #FF0000;}\n",
       "      \n",
       "      .recom_green {float: left;\n",
       "                  margin: 3px;\n",
       "                  text-align: center;\n",
       "                  border: 1px solid #00FF00;}\n",
       "      .recom_blue {float: left;\n",
       "                  margin: 3px;\n",
       "                  text-align: center;\n",
       "                  border: 1px solid #0000FF;}\n",
       "      .description {font-size: 11px}\n",
       "      .price {font-size: 11px}\n",
       "      </style>\n",
       "      <div class=\"recom\"><img src=\"../../../../_product_images_cache/3/0/3027306.jpg\" width=\"75\">\n",
       "                   <br/ >\n",
       "                   <span class=\"description\">$22.0 (3027306)</span> <br />\n",
       "                   <span class=\"description\">ELEMENT ME...</span> <br /></div>"
      ]
     },
     "metadata": {},
     "output_type": "display_data"
    },
    {
     "name": "stdout",
     "output_type": "stream",
     "text": [
      "view\n"
     ]
    },
    {
     "data": {
      "text/html": [
       "\n",
       "      <style>\n",
       "      .recom {float: left;\n",
       "              margin: 3px;\n",
       "              text-align: center;}\n",
       "      \n",
       "      .recom_red {float: left;\n",
       "                  margin: 3px;\n",
       "                  text-align: center;\n",
       "                  border: 1px solid #FF0000;}\n",
       "      \n",
       "      .recom_green {float: left;\n",
       "                  margin: 3px;\n",
       "                  text-align: center;\n",
       "                  border: 1px solid #00FF00;}\n",
       "      .recom_blue {float: left;\n",
       "                  margin: 3px;\n",
       "                  text-align: center;\n",
       "                  border: 1px solid #0000FF;}\n",
       "      .description {font-size: 11px}\n",
       "      .price {font-size: 11px}\n",
       "      </style>\n",
       "      <div class=\"recom\"><img src=\"../../../../_product_images_cache/4/3/4332555.jpg\" width=\"75\">\n",
       "                   <br/ >\n",
       "                   <span class=\"description\">$42.0 (4332555)</span> <br />\n",
       "                   <span class=\"description\">SPEEDO MEN...</span> <br /></div>"
      ]
     },
     "metadata": {},
     "output_type": "display_data"
    },
    {
     "name": "stdout",
     "output_type": "stream",
     "text": [
      "atb\n"
     ]
    },
    {
     "data": {
      "text/html": [
       "\n",
       "      <style>\n",
       "      .recom {float: left;\n",
       "              margin: 3px;\n",
       "              text-align: center;}\n",
       "      \n",
       "      .recom_red {float: left;\n",
       "                  margin: 3px;\n",
       "                  text-align: center;\n",
       "                  border: 1px solid #FF0000;}\n",
       "      \n",
       "      .recom_green {float: left;\n",
       "                  margin: 3px;\n",
       "                  text-align: center;\n",
       "                  border: 1px solid #00FF00;}\n",
       "      .recom_blue {float: left;\n",
       "                  margin: 3px;\n",
       "                  text-align: center;\n",
       "                  border: 1px solid #0000FF;}\n",
       "      .description {font-size: 11px}\n",
       "      .price {font-size: 11px}\n",
       "      </style>\n",
       "      <div class=\"recom\"><img src=\"../../../../_product_images_cache/4/3/4332555.jpg\" width=\"75\">\n",
       "                   <br/ >\n",
       "                   <span class=\"description\">$42.0 (4332555)</span> <br />\n",
       "                   <span class=\"description\">SPEEDO MEN...</span> <br /></div>"
      ]
     },
     "metadata": {},
     "output_type": "display_data"
    },
    {
     "name": "stdout",
     "output_type": "stream",
     "text": [
      "view\n"
     ]
    },
    {
     "data": {
      "text/html": [
       "\n",
       "      <style>\n",
       "      .recom {float: left;\n",
       "              margin: 3px;\n",
       "              text-align: center;}\n",
       "      \n",
       "      .recom_red {float: left;\n",
       "                  margin: 3px;\n",
       "                  text-align: center;\n",
       "                  border: 1px solid #FF0000;}\n",
       "      \n",
       "      .recom_green {float: left;\n",
       "                  margin: 3px;\n",
       "                  text-align: center;\n",
       "                  border: 1px solid #00FF00;}\n",
       "      .recom_blue {float: left;\n",
       "                  margin: 3px;\n",
       "                  text-align: center;\n",
       "                  border: 1px solid #0000FF;}\n",
       "      .description {font-size: 11px}\n",
       "      .price {font-size: 11px}\n",
       "      </style>\n",
       "      <div class=\"recom\"><img src=\"../../../../_product_images_cache/8/3/8334806.jpg\" width=\"75\">\n",
       "                   <br/ >\n",
       "                   <span class=\"description\">$45.0 (8334806)</span> <br />\n",
       "                   <span class=\"description\">Club Room ...</span> <br /></div>"
      ]
     },
     "metadata": {},
     "output_type": "display_data"
    },
    {
     "name": "stdout",
     "output_type": "stream",
     "text": [
      "atb\n"
     ]
    },
    {
     "data": {
      "text/html": [
       "\n",
       "      <style>\n",
       "      .recom {float: left;\n",
       "              margin: 3px;\n",
       "              text-align: center;}\n",
       "      \n",
       "      .recom_red {float: left;\n",
       "                  margin: 3px;\n",
       "                  text-align: center;\n",
       "                  border: 1px solid #FF0000;}\n",
       "      \n",
       "      .recom_green {float: left;\n",
       "                  margin: 3px;\n",
       "                  text-align: center;\n",
       "                  border: 1px solid #00FF00;}\n",
       "      .recom_blue {float: left;\n",
       "                  margin: 3px;\n",
       "                  text-align: center;\n",
       "                  border: 1px solid #0000FF;}\n",
       "      .description {font-size: 11px}\n",
       "      .price {font-size: 11px}\n",
       "      </style>\n",
       "      <div class=\"recom\"><img src=\"../../../../_product_images_cache/7/1/7133581.jpg\" width=\"75\">\n",
       "                   <br/ >\n",
       "                   <span class=\"description\">$54.0 (7133581)</span> <br />\n",
       "                   <span class=\"description\">Trunks Sur...</span> <br /></div>"
      ]
     },
     "metadata": {},
     "output_type": "display_data"
    },
    {
     "name": "stdout",
     "output_type": "stream",
     "text": [
      "view\n"
     ]
    },
    {
     "data": {
      "text/html": [
       "\n",
       "      <style>\n",
       "      .recom {float: left;\n",
       "              margin: 3px;\n",
       "              text-align: center;}\n",
       "      \n",
       "      .recom_red {float: left;\n",
       "                  margin: 3px;\n",
       "                  text-align: center;\n",
       "                  border: 1px solid #FF0000;}\n",
       "      \n",
       "      .recom_green {float: left;\n",
       "                  margin: 3px;\n",
       "                  text-align: center;\n",
       "                  border: 1px solid #00FF00;}\n",
       "      .recom_blue {float: left;\n",
       "                  margin: 3px;\n",
       "                  text-align: center;\n",
       "                  border: 1px solid #0000FF;}\n",
       "      .description {font-size: 11px}\n",
       "      .price {font-size: 11px}\n",
       "      </style>\n",
       "      <div class=\"recom\"><img src=\"../../../../_product_images_cache/8/0/8046849.jpg\" width=\"75\">\n",
       "                   <br/ >\n",
       "                   <span class=\"description\">$54.0 (8046849)</span> <br />\n",
       "                   <span class=\"description\">Trunks Sur...</span> <br /></div>"
      ]
     },
     "metadata": {},
     "output_type": "display_data"
    },
    {
     "name": "stdout",
     "output_type": "stream",
     "text": [
      "atb\n"
     ]
    },
    {
     "data": {
      "text/html": [
       "\n",
       "      <style>\n",
       "      .recom {float: left;\n",
       "              margin: 3px;\n",
       "              text-align: center;}\n",
       "      \n",
       "      .recom_red {float: left;\n",
       "                  margin: 3px;\n",
       "                  text-align: center;\n",
       "                  border: 1px solid #FF0000;}\n",
       "      \n",
       "      .recom_green {float: left;\n",
       "                  margin: 3px;\n",
       "                  text-align: center;\n",
       "                  border: 1px solid #00FF00;}\n",
       "      .recom_blue {float: left;\n",
       "                  margin: 3px;\n",
       "                  text-align: center;\n",
       "                  border: 1px solid #0000FF;}\n",
       "      .description {font-size: 11px}\n",
       "      .price {font-size: 11px}\n",
       "      </style>\n",
       "      <div class=\"recom\"><img src=\"../../../../_product_images_cache/7/1/7133581.jpg\" width=\"75\">\n",
       "                   <br/ >\n",
       "                   <span class=\"description\">$54.0 (7133581)</span> <br />\n",
       "                   <span class=\"description\">Trunks Sur...</span> <br /></div>"
      ]
     },
     "metadata": {},
     "output_type": "display_data"
    },
    {
     "name": "stdout",
     "output_type": "stream",
     "text": [
      "view\n"
     ]
    },
    {
     "data": {
      "text/html": [
       "\n",
       "      <style>\n",
       "      .recom {float: left;\n",
       "              margin: 3px;\n",
       "              text-align: center;}\n",
       "      \n",
       "      .recom_red {float: left;\n",
       "                  margin: 3px;\n",
       "                  text-align: center;\n",
       "                  border: 1px solid #FF0000;}\n",
       "      \n",
       "      .recom_green {float: left;\n",
       "                  margin: 3px;\n",
       "                  text-align: center;\n",
       "                  border: 1px solid #00FF00;}\n",
       "      .recom_blue {float: left;\n",
       "                  margin: 3px;\n",
       "                  text-align: center;\n",
       "                  border: 1px solid #0000FF;}\n",
       "      .description {font-size: 11px}\n",
       "      .price {font-size: 11px}\n",
       "      </style>\n",
       "      <div class=\"recom\"><img src=\"../../../../_product_images_cache/3/0/3027306.jpg\" width=\"75\">\n",
       "                   <br/ >\n",
       "                   <span class=\"description\">$22.0 (3027306)</span> <br />\n",
       "                   <span class=\"description\">ELEMENT ME...</span> <br /></div>"
      ]
     },
     "metadata": {},
     "output_type": "display_data"
    },
    {
     "name": "stdout",
     "output_type": "stream",
     "text": [
      "atb\n"
     ]
    },
    {
     "data": {
      "text/html": [
       "\n",
       "      <style>\n",
       "      .recom {float: left;\n",
       "              margin: 3px;\n",
       "              text-align: center;}\n",
       "      \n",
       "      .recom_red {float: left;\n",
       "                  margin: 3px;\n",
       "                  text-align: center;\n",
       "                  border: 1px solid #FF0000;}\n",
       "      \n",
       "      .recom_green {float: left;\n",
       "                  margin: 3px;\n",
       "                  text-align: center;\n",
       "                  border: 1px solid #00FF00;}\n",
       "      .recom_blue {float: left;\n",
       "                  margin: 3px;\n",
       "                  text-align: center;\n",
       "                  border: 1px solid #0000FF;}\n",
       "      .description {font-size: 11px}\n",
       "      .price {font-size: 11px}\n",
       "      </style>\n",
       "      <div class=\"recom\"><img src=\"../../../../_product_images_cache/2/1/2130625.jpg\" width=\"75\">\n",
       "                   <br/ >\n",
       "                   <span class=\"description\">$22.0 (2130625)</span> <br />\n",
       "                   <span class=\"description\">32 DEGREES...</span> <br /></div>"
      ]
     },
     "metadata": {},
     "output_type": "display_data"
    },
    {
     "name": "stdout",
     "output_type": "stream",
     "text": [
      "purchase\n"
     ]
    },
    {
     "data": {
      "text/html": [
       "\n",
       "      <style>\n",
       "      .recom {float: left;\n",
       "              margin: 3px;\n",
       "              text-align: center;}\n",
       "      \n",
       "      .recom_red {float: left;\n",
       "                  margin: 3px;\n",
       "                  text-align: center;\n",
       "                  border: 1px solid #FF0000;}\n",
       "      \n",
       "      .recom_green {float: left;\n",
       "                  margin: 3px;\n",
       "                  text-align: center;\n",
       "                  border: 1px solid #00FF00;}\n",
       "      .recom_blue {float: left;\n",
       "                  margin: 3px;\n",
       "                  text-align: center;\n",
       "                  border: 1px solid #0000FF;}\n",
       "      .description {font-size: 11px}\n",
       "      .price {font-size: 11px}\n",
       "      </style>\n",
       "      <div class=\"recom\"><img src=\"../../../../_product_images_cache/2/1/2130625.jpg\" width=\"75\">\n",
       "                   <br/ >\n",
       "                   <span class=\"description\">$22.0 (2130625)</span> <br />\n",
       "                   <span class=\"description\">32 DEGREES...</span> <br /></div>"
      ]
     },
     "metadata": {},
     "output_type": "display_data"
    }
   ],
   "source": [
    "rand_uid = np.random.choice(purch_user_ids_min3)\n",
    "print(f\"User id: {rand_uid}\")\n",
    "show_interspersed_sequence(rand_uid, show_data=True)"
   ]
  },
  {
   "cell_type": "code",
   "execution_count": 56,
   "metadata": {
    "scrolled": false
   },
   "outputs": [
    {
     "name": "stdout",
     "output_type": "stream",
     "text": [
      "User id: 28015624\n",
      "View Sequence\n"
     ]
    },
    {
     "data": {
      "text/html": [
       "\n",
       "      <style>\n",
       "      .recom {float: left;\n",
       "              margin: 3px;\n",
       "              text-align: center;}\n",
       "      \n",
       "      .recom_red {float: left;\n",
       "                  margin: 3px;\n",
       "                  text-align: center;\n",
       "                  border: 1px solid #FF0000;}\n",
       "      \n",
       "      .recom_green {float: left;\n",
       "                  margin: 3px;\n",
       "                  text-align: center;\n",
       "                  border: 1px solid #00FF00;}\n",
       "      .recom_blue {float: left;\n",
       "                  margin: 3px;\n",
       "                  text-align: center;\n",
       "                  border: 1px solid #0000FF;}\n",
       "      .description {font-size: 11px}\n",
       "      .price {font-size: 11px}\n",
       "      </style>\n",
       "      <div class=\"recom\"><img src=\"../../../../_product_images_cache/4/0/402398.jpg\" width=\"75\">\n",
       "                   <br/ >\n",
       "                   <span class=\"description\">$30.0 (402398)</span> <br />\n",
       "                   <span class=\"description\">SHISEIDO A...</span> <br /></div><div class=\"recom\"><img src=\"../../../../_product_images_cache/9/3/9371330.jpg\" width=\"75\">\n",
       "                   <br/ >\n",
       "                   <span class=\"description\">$? (9371330)</span> <br />\n",
       "                   <span class=\"description\">?...</span> <br /></div><div class=\"recom\"><img src=\"../../../../_product_images_cache/5/2/527629.jpg\" width=\"75\">\n",
       "                   <br/ >\n",
       "                   <span class=\"description\">$35.0 (527629)</span> <br />\n",
       "                   <span class=\"description\">LAURA MERC...</span> <br /></div><div class=\"recom\"><img src=\"../../../../_product_images_cache/1/1/113762.jpg\" width=\"75\">\n",
       "                   <br/ >\n",
       "                   <span class=\"description\">$16.5 (113762)</span> <br />\n",
       "                   <span class=\"description\">CLINIQUE S...</span> <br /></div><div class=\"recom\"><img src=\"../../../../_product_images_cache/4/7/4781266.jpg\" width=\"75\">\n",
       "                   <br/ >\n",
       "                   <span class=\"description\">$50.0 (4781266)</span> <br />\n",
       "                   <span class=\"description\">MARTHA STE...</span> <br /></div><div class=\"recom\"><img src=\"../../../../_product_images_cache/7/1/7135891.jpg\" width=\"75\">\n",
       "                   <br/ >\n",
       "                   <span class=\"description\">$36.0 (7135891)</span> <br />\n",
       "                   <span class=\"description\">Martha Ste...</span> <br /></div><div class=\"recom\"><img src=\"../../../../_product_images_cache/7/6/7652701.jpg\" width=\"75\">\n",
       "                   <br/ >\n",
       "                   <span class=\"description\">$135.0 (7652701)</span> <br />\n",
       "                   <span class=\"description\">Martha Ste...</span> <br /></div><div class=\"recom\"><img src=\"../../../../_product_images_cache/3/0/3053159.jpg\" width=\"75\">\n",
       "                   <br/ >\n",
       "                   <span class=\"description\">$49.99 (3053159)</span> <br />\n",
       "                   <span class=\"description\">MARTHA STE...</span> <br /></div><div class=\"recom\"><img src=\"../../../../_product_images_cache/5/3/5358247.jpg\" width=\"75\">\n",
       "                   <br/ >\n",
       "                   <span class=\"description\">$12.5 (5358247)</span> <br />\n",
       "                   <span class=\"description\">TONYMOLY T...</span> <br /></div><div class=\"recom\"><img src=\"../../../../_product_images_cache/3/2/322357.jpg\" width=\"75\">\n",
       "                   <br/ >\n",
       "                   <span class=\"description\">$26.0 (322357)</span> <br />\n",
       "                   <span class=\"description\">JOCKEY HAL...</span> <br /></div><div class=\"recom\"><img src=\"../../../../_product_images_cache/3/6/3605313.jpg\" width=\"75\">\n",
       "                   <br/ >\n",
       "                   <span class=\"description\">$89.25 (3605313)</span> <br />\n",
       "                   <span class=\"description\">T3 VOLUMIZ...</span> <br /></div><div class=\"recom\"><img src=\"../../../../_product_images_cache/7/9/7910507.jpg\" width=\"75\">\n",
       "                   <br/ >\n",
       "                   <span class=\"description\">$495.0 (7910507)</span> <br />\n",
       "                   <span class=\"description\">Tommy Hilf...</span> <br /></div><div class=\"recom\"><img src=\"../../../../_product_images_cache/7/9/7910512.jpg\" width=\"75\">\n",
       "                   <br/ >\n",
       "                   <span class=\"description\">$525.0 (7910512)</span> <br />\n",
       "                   <span class=\"description\">Tommy Hilf...</span> <br /></div><div class=\"recom\"><img src=\"../../../../_product_images_cache/8/2/8286819.jpg\" width=\"75\">\n",
       "                   <br/ >\n",
       "                   <span class=\"description\">$89.0 (8286819)</span> <br />\n",
       "                   <span class=\"description\">Connected ...</span> <br /></div><div class=\"recom\"><img src=\"../../../../_product_images_cache/7/8/7877680.jpg\" width=\"75\">\n",
       "                   <br/ >\n",
       "                   <span class=\"description\">$125.0 (7877680)</span> <br />\n",
       "                   <span class=\"description\">LAUREN RAL...</span> <br /></div><div class=\"recom\"><img src=\"../../../../_product_images_cache/6/2/6271562.jpg\" width=\"75\">\n",
       "                   <br/ >\n",
       "                   <span class=\"description\">$495.0 (6271562)</span> <br />\n",
       "                   <span class=\"description\">Tommy Hilf...</span> <br /></div><div class=\"recom\"><img src=\"../../../../_product_images_cache/7/1/7119000.jpg\" width=\"75\">\n",
       "                   <br/ >\n",
       "                   <span class=\"description\">$399.0 (7119000)</span> <br />\n",
       "                   <span class=\"description\">AppleWatc...</span> <br /></div><div class=\"recom\"><img src=\"../../../../_product_images_cache/6/2/6271559.jpg\" width=\"75\">\n",
       "                   <br/ >\n",
       "                   <span class=\"description\">$495.0 (6271559)</span> <br />\n",
       "                   <span class=\"description\">Tommy Hilf...</span> <br /></div><div class=\"recom\"><img src=\"../../../../_product_images_cache/7/9/7996898.jpg\" width=\"75\">\n",
       "                   <br/ >\n",
       "                   <span class=\"description\">$68.0 (7996898)</span> <br />\n",
       "                   <span class=\"description\">Free Peopl...</span> <br /></div><div class=\"recom\"><img src=\"../../../../_product_images_cache/8/5/8505948.jpg\" width=\"75\">\n",
       "                   <br/ >\n",
       "                   <span class=\"description\">$58.0 (8505948)</span> <br />\n",
       "                   <span class=\"description\">Free Peopl...</span> <br /></div><div class=\"recom\"><img src=\"../../../../_product_images_cache/8/2/8252591.jpg\" width=\"75\">\n",
       "                   <br/ >\n",
       "                   <span class=\"description\">$128.0 (8252591)</span> <br />\n",
       "                   <span class=\"description\">Free Peopl...</span> <br /></div><div class=\"recom\"><img src=\"../../../../_product_images_cache/8/3/8316249.jpg\" width=\"75\">\n",
       "                   <br/ >\n",
       "                   <span class=\"description\">$148.0 (8316249)</span> <br />\n",
       "                   <span class=\"description\">Free Peopl...</span> <br /></div><div class=\"recom\"><img src=\"../../../../_product_images_cache/8/2/8252533.jpg\" width=\"75\">\n",
       "                   <br/ >\n",
       "                   <span class=\"description\">$98.0 (8252533)</span> <br />\n",
       "                   <span class=\"description\">Free Peopl...</span> <br /></div><div class=\"recom\"><img src=\"../../../../_product_images_cache/8/0/8067833.jpg\" width=\"75\">\n",
       "                   <br/ >\n",
       "                   <span class=\"description\">$128.0 (8067833)</span> <br />\n",
       "                   <span class=\"description\">Free Peopl...</span> <br /></div><div class=\"recom\"><img src=\"../../../../_product_images_cache/7/9/7996847.jpg\" width=\"75\">\n",
       "                   <br/ >\n",
       "                   <span class=\"description\">$38.0 (7996847)</span> <br />\n",
       "                   <span class=\"description\">Free Peopl...</span> <br /></div><div class=\"recom\"><img src=\"../../../../_product_images_cache/8/5/8505911.jpg\" width=\"75\">\n",
       "                   <br/ >\n",
       "                   <span class=\"description\">$98.0 (8505911)</span> <br />\n",
       "                   <span class=\"description\">Free Peopl...</span> <br /></div><div class=\"recom\"><img src=\"../../../../_product_images_cache/8/2/8252570.jpg\" width=\"75\">\n",
       "                   <br/ >\n",
       "                   <span class=\"description\">$78.0 (8252570)</span> <br />\n",
       "                   <span class=\"description\">Free Peopl...</span> <br /></div><div class=\"recom\"><img src=\"../../../../_product_images_cache/8/0/8067811.jpg\" width=\"75\">\n",
       "                   <br/ >\n",
       "                   <span class=\"description\">$148.0 (8067811)</span> <br />\n",
       "                   <span class=\"description\">Free Peopl...</span> <br /></div><div class=\"recom\"><img src=\"../../../../_product_images_cache/8/2/8252574.jpg\" width=\"75\">\n",
       "                   <br/ >\n",
       "                   <span class=\"description\">$98.0 (8252574)</span> <br />\n",
       "                   <span class=\"description\">Free Peopl...</span> <br /></div><div class=\"recom\"><img src=\"../../../../_product_images_cache/9/3/9345894.jpg\" width=\"75\">\n",
       "                   <br/ >\n",
       "                   <span class=\"description\">$98.0 (9345894)</span> <br />\n",
       "                   <span class=\"description\">Free Peopl...</span> <br /></div><div class=\"recom\"><img src=\"../../../../_product_images_cache/8/5/8505903.jpg\" width=\"75\">\n",
       "                   <br/ >\n",
       "                   <span class=\"description\">$128.0 (8505903)</span> <br />\n",
       "                   <span class=\"description\">Free Peopl...</span> <br /></div><div class=\"recom\"><img src=\"../../../../_product_images_cache/8/3/8316233.jpg\" width=\"75\">\n",
       "                   <br/ >\n",
       "                   <span class=\"description\">$48.0 (8316233)</span> <br />\n",
       "                   <span class=\"description\">Free Peopl...</span> <br /></div><div class=\"recom\"><img src=\"../../../../_product_images_cache/8/3/8316095.jpg\" width=\"75\">\n",
       "                   <br/ >\n",
       "                   <span class=\"description\">$68.0 (8316095)</span> <br />\n",
       "                   <span class=\"description\">Free Peopl...</span> <br /></div><div class=\"recom\"><img src=\"../../../../_product_images_cache/8/9/8924949.jpg\" width=\"75\">\n",
       "                   <br/ >\n",
       "                   <span class=\"description\">$138.0 (8924949)</span> <br />\n",
       "                   <span class=\"description\">Free Peopl...</span> <br /></div><div class=\"recom\"><img src=\"../../../../_product_images_cache/9/3/9371198.jpg\" width=\"75\">\n",
       "                   <br/ >\n",
       "                   <span class=\"description\">$148.0 (9371198)</span> <br />\n",
       "                   <span class=\"description\">Free Peopl...</span> <br /></div><div class=\"recom\"><img src=\"../../../../_product_images_cache/7/9/7996878.jpg\" width=\"75\">\n",
       "                   <br/ >\n",
       "                   <span class=\"description\">$148.0 (7996878)</span> <br />\n",
       "                   <span class=\"description\">Free Peopl...</span> <br /></div><div class=\"recom\"><img src=\"../../../../_product_images_cache/9/3/9345908.jpg\" width=\"75\">\n",
       "                   <br/ >\n",
       "                   <span class=\"description\">$108.0 (9345908)</span> <br />\n",
       "                   <span class=\"description\">Free Peopl...</span> <br /></div><div class=\"recom\"><img src=\"../../../../_product_images_cache/8/9/8924861.jpg\" width=\"75\">\n",
       "                   <br/ >\n",
       "                   <span class=\"description\">$108.0 (8924861)</span> <br />\n",
       "                   <span class=\"description\">Free Peopl...</span> <br /></div><div class=\"recom\"><img src=\"../../../../_product_images_cache/8/3/8316124.jpg\" width=\"75\">\n",
       "                   <br/ >\n",
       "                   <span class=\"description\">$148.0 (8316124)</span> <br />\n",
       "                   <span class=\"description\">Free Peopl...</span> <br /></div><div class=\"recom\"><img src=\"../../../../_product_images_cache/8/2/8252540.jpg\" width=\"75\">\n",
       "                   <br/ >\n",
       "                   <span class=\"description\">$58.0 (8252540)</span> <br />\n",
       "                   <span class=\"description\">Free Peopl...</span> <br /></div><div class=\"recom\"><img src=\"../../../../_product_images_cache/8/1/8151281.jpg\" width=\"75\">\n",
       "                   <br/ >\n",
       "                   <span class=\"description\">$28.0 (8151281)</span> <br />\n",
       "                   <span class=\"description\">Free Peopl...</span> <br /></div><div class=\"recom\"><img src=\"../../../../_product_images_cache/8/9/8924953.jpg\" width=\"75\">\n",
       "                   <br/ >\n",
       "                   <span class=\"description\">$138.0 (8924953)</span> <br />\n",
       "                   <span class=\"description\">Free Peopl...</span> <br /></div><div class=\"recom\"><img src=\"../../../../_product_images_cache/5/3/5342080.jpg\" width=\"75\">\n",
       "                   <br/ >\n",
       "                   <span class=\"description\">$48.0 (5342080)</span> <br />\n",
       "                   <span class=\"description\">Free Peopl...</span> <br /></div><div class=\"recom\"><img src=\"../../../../_product_images_cache/5/2/5238797.jpg\" width=\"75\">\n",
       "                   <br/ >\n",
       "                   <span class=\"description\">$165.0 (5238797)</span> <br />\n",
       "                   <span class=\"description\">Lauren Ral...</span> <br /></div><div class=\"recom\"><img src=\"../../../../_product_images_cache/6/7/6749627.jpg\" width=\"75\">\n",
       "                   <br/ >\n",
       "                   <span class=\"description\">$25.0 (6749627)</span> <br />\n",
       "                   <span class=\"description\">Este Laud...</span> <br /></div>"
      ]
     },
     "metadata": {},
     "output_type": "display_data"
    },
    {
     "name": "stdout",
     "output_type": "stream",
     "text": [
      "Atb Sequence\n"
     ]
    },
    {
     "data": {
      "text/html": [
       "\n",
       "      <style>\n",
       "      .recom {float: left;\n",
       "              margin: 3px;\n",
       "              text-align: center;}\n",
       "      \n",
       "      .recom_red {float: left;\n",
       "                  margin: 3px;\n",
       "                  text-align: center;\n",
       "                  border: 1px solid #FF0000;}\n",
       "      \n",
       "      .recom_green {float: left;\n",
       "                  margin: 3px;\n",
       "                  text-align: center;\n",
       "                  border: 1px solid #00FF00;}\n",
       "      .recom_blue {float: left;\n",
       "                  margin: 3px;\n",
       "                  text-align: center;\n",
       "                  border: 1px solid #0000FF;}\n",
       "      .description {font-size: 11px}\n",
       "      .price {font-size: 11px}\n",
       "      </style>\n",
       "      <div class=\"recom\"><img src=\"../../../../_product_images_cache/4/0/402398.jpg\" width=\"75\">\n",
       "                   <br/ >\n",
       "                   <span class=\"description\">$30.0 (402398)</span> <br />\n",
       "                   <span class=\"description\">SHISEIDO A...</span> <br /></div><div class=\"recom\"><img src=\"../../../../_product_images_cache/6/2/6271559.jpg\" width=\"75\">\n",
       "                   <br/ >\n",
       "                   <span class=\"description\">$495.0 (6271559)</span> <br />\n",
       "                   <span class=\"description\">Tommy Hilf...</span> <br /></div>"
      ]
     },
     "metadata": {},
     "output_type": "display_data"
    },
    {
     "name": "stdout",
     "output_type": "stream",
     "text": [
      "Pur Sequence\n"
     ]
    },
    {
     "data": {
      "text/html": [
       "\n",
       "      <style>\n",
       "      .recom {float: left;\n",
       "              margin: 3px;\n",
       "              text-align: center;}\n",
       "      \n",
       "      .recom_red {float: left;\n",
       "                  margin: 3px;\n",
       "                  text-align: center;\n",
       "                  border: 1px solid #FF0000;}\n",
       "      \n",
       "      .recom_green {float: left;\n",
       "                  margin: 3px;\n",
       "                  text-align: center;\n",
       "                  border: 1px solid #00FF00;}\n",
       "      .recom_blue {float: left;\n",
       "                  margin: 3px;\n",
       "                  text-align: center;\n",
       "                  border: 1px solid #0000FF;}\n",
       "      .description {font-size: 11px}\n",
       "      .price {font-size: 11px}\n",
       "      </style>\n",
       "      <div class=\"recom\"><img src=\"../../../../_product_images_cache/4/0/402398.jpg\" width=\"75\">\n",
       "                   <br/ >\n",
       "                   <span class=\"description\">$30.0 (402398)</span> <br />\n",
       "                   <span class=\"description\">SHISEIDO A...</span> <br /></div><div class=\"recom\"><img src=\"../../../../_product_images_cache/4/7/4768568.jpg\" width=\"75\">\n",
       "                   <br/ >\n",
       "                   <span class=\"description\">$25.0 (4768568)</span> <br />\n",
       "                   <span class=\"description\">MARTHA STE...</span> <br /></div><div class=\"recom\"><img src=\"../../../../_product_images_cache/7/1/7135891.jpg\" width=\"75\">\n",
       "                   <br/ >\n",
       "                   <span class=\"description\">$36.0 (7135891)</span> <br />\n",
       "                   <span class=\"description\">Martha Ste...</span> <br /></div><div class=\"recom\"><img src=\"../../../../_product_images_cache/7/0/7060756.jpg\" width=\"75\">\n",
       "                   <br/ >\n",
       "                   <span class=\"description\">$99.99 (7060756)</span> <br />\n",
       "                   <span class=\"description\">Martha Ste...</span> <br /></div><div class=\"recom\"><img src=\"../../../../_product_images_cache/8/0/8027542.jpg\" width=\"75\">\n",
       "                   <br/ >\n",
       "                   <span class=\"description\">$39.5 (8027542)</span> <br />\n",
       "                   <span class=\"description\">I.N.C. Gol...</span> <br /></div><div class=\"recom\"><img src=\"../../../../_product_images_cache/4/7/4781270.jpg\" width=\"75\">\n",
       "                   <br/ >\n",
       "                   <span class=\"description\">$30.99 (4781270)</span> <br />\n",
       "                   <span class=\"description\">MARTHA STE...</span> <br /></div><div class=\"recom\"><img src=\"../../../../_product_images_cache/2/2/224130.jpg\" width=\"75\">\n",
       "                   <br/ >\n",
       "                   <span class=\"description\">$43.0 (224130)</span> <br />\n",
       "                   <span class=\"description\">MIRACLESUI...</span> <br /></div><div class=\"recom\"><img src=\"../../../../_product_images_cache/9/5/958730.jpg\" width=\"75\">\n",
       "                   <br/ >\n",
       "                   <span class=\"description\">$16.97 (958730)</span> <br />\n",
       "                   <span class=\"description\">STYLE & CO...</span> <br /></div><div class=\"recom\"><img src=\"../../../../_product_images_cache/1/1/113762.jpg\" width=\"75\">\n",
       "                   <br/ >\n",
       "                   <span class=\"description\">$16.5 (113762)</span> <br />\n",
       "                   <span class=\"description\">CLINIQUE S...</span> <br /></div><div class=\"recom\"><img src=\"../../../../_product_images_cache/8/2/8226760.jpg\" width=\"75\">\n",
       "                   <br/ >\n",
       "                   <span class=\"description\">$54.5 (8226760)</span> <br />\n",
       "                   <span class=\"description\">I.N.C. Den...</span> <br /></div>"
      ]
     },
     "metadata": {},
     "output_type": "display_data"
    }
   ],
   "source": [
    "rand_uid = np.random.choice(purch_user_ids_min3)\n",
    "print(f\"User id: {rand_uid}\")\n",
    "show_sequences(rand_uid, show_data=False)"
   ]
  },
  {
   "cell_type": "code",
   "execution_count": 37,
   "metadata": {},
   "outputs": [
    {
     "name": "stdout",
     "output_type": "stream",
     "text": [
      "View Sequence\n",
      "[('237110', '2019-07-24 16:33:56'), ('237110', '2019-07-24 16:41:54'), ('237110', '2019-07-24 16:50:22'), ('237110', '2019-07-24 17:34:02'), ('1074650', '2019-07-24 17:43:22'), ('8031987', '2019-07-24 17:43:50'), ('589785', '2019-07-24 17:51:09'), ('237110', '2019-07-24 22:09:58'), ('9383247', '2019-07-25 01:38:02'), ('8060535', '2019-07-25 01:38:18'), ('7924980', '2019-07-25 01:39:56'), ('6822739', '2019-07-25 01:42:39'), ('6760138', '2019-07-25 01:44:30'), ('7722384', '2019-07-25 01:48:35'), ('8826049', '2019-07-25 01:48:44'), ('7449740', '2019-07-25 01:49:05'), ('6994349', '2019-07-25 01:50:09'), ('8826049', '2019-07-25 01:51:07'), ('6994349', '2019-07-25 01:51:31'), ('7722384', '2019-07-25 01:51:58'), ('5882481', '2019-07-25 01:53:16'), ('8907585', '2019-07-25 02:03:51'), ('8505520', '2019-07-25 02:04:01'), ('7080226', '2019-07-25 02:07:21'), ('7722384', '2019-07-25 02:07:43'), ('8826049', '2019-07-25 02:08:39'), ('8826050', '2019-07-25 02:09:12'), ('8906302', '2019-07-25 02:11:40'), ('9926957', '2019-07-25 02:12:14'), ('9885096', '2019-07-25 02:15:14'), ('8346956', '2019-07-25 02:15:27'), ('8998319', '2019-07-25 02:15:59'), ('6920361', '2019-07-25 02:25:01'), ('6822750', '2019-07-25 02:25:09'), ('2760799', '2019-07-25 02:25:43'), ('6142982', '2019-07-25 02:30:05'), ('6813849', '2019-07-25 02:30:16'), ('5728879', '2019-07-25 02:30:34'), ('6142935', '2019-07-25 02:31:29'), ('5859885', '2019-07-25 02:31:57'), ('8064551', '2019-07-25 02:32:21'), ('2582051', '2019-07-25 02:32:47'), ('7262503', '2019-07-25 17:17:43'), ('8998319', '2019-07-25 17:18:25'), ('8998319', '2019-07-25 17:29:09'), ('8998319', '2019-07-25 18:16:31'), ('8998319', '2019-07-25 23:55:52'), ('8998319', '2019-08-03 12:49:46')]\n"
     ]
    },
    {
     "data": {
      "text/html": [
       "\n",
       "      <style>\n",
       "      .recom {float: left;\n",
       "              margin: 3px;\n",
       "              text-align: center;}\n",
       "      \n",
       "      .recom_red {float: left;\n",
       "                  margin: 3px;\n",
       "                  text-align: center;\n",
       "                  border: 1px solid #FF0000;}\n",
       "      \n",
       "      .recom_green {float: left;\n",
       "                  margin: 3px;\n",
       "                  text-align: center;\n",
       "                  border: 1px solid #00FF00;}\n",
       "      .recom_blue {float: left;\n",
       "                  margin: 3px;\n",
       "                  text-align: center;\n",
       "                  border: 1px solid #0000FF;}\n",
       "      .description {font-size: 11px}\n",
       "      .price {font-size: 11px}\n",
       "      </style>\n",
       "      <div class=\"recom\"><img src=\"../../../../_product_images_cache/2/3/237110.jpg\" width=\"75\">\n",
       "                   <br/ >\n",
       "                   <span class=\"description\">$120.0 (237110)</span> <br />\n",
       "                   <span class=\"description\">ANGEL BY M...</span> <br /></div><div class=\"recom\"><img src=\"../../../../_product_images_cache/1/0/1074650.jpg\" width=\"75\">\n",
       "                   <br/ >\n",
       "                   <span class=\"description\">$3807.0 (1074650)</span> <br />\n",
       "                   <span class=\"description\">AILEY KING...</span> <br /></div><div class=\"recom\"><img src=\"../../../../_product_images_cache/8/0/8031987.jpg\" width=\"75\">\n",
       "                   <br/ >\n",
       "                   <span class=\"description\">$1199.0 (8031987)</span> <br />\n",
       "                   <span class=\"description\">Virgil Kin...</span> <br /></div><div class=\"recom\"><img src=\"../../../../_product_images_cache/5/8/589785.jpg\" width=\"75\">\n",
       "                   <br/ >\n",
       "                   <span class=\"description\">$11.99 (589785)</span> <br />\n",
       "                   <span class=\"description\">MELISSA AN...</span> <br /></div><div class=\"recom\"><img src=\"../../../../_product_images_cache/9/3/9383247.jpg\" width=\"75\">\n",
       "                   <br/ >\n",
       "                   <span class=\"description\">$75.0 (9383247)</span> <br />\n",
       "                   <span class=\"description\">Fila Women...</span> <br /></div><div class=\"recom\"><img src=\"../../../../_product_images_cache/8/0/8060535.jpg\" width=\"75\">\n",
       "                   <br/ >\n",
       "                   <span class=\"description\">$65.0 (8060535)</span> <br />\n",
       "                   <span class=\"description\">Fila Women...</span> <br /></div><div class=\"recom\"><img src=\"../../../../_product_images_cache/7/9/7924980.jpg\" width=\"75\">\n",
       "                   <br/ >\n",
       "                   <span class=\"description\">$65.0 (7924980)</span> <br />\n",
       "                   <span class=\"description\">Fila Women...</span> <br /></div><div class=\"recom\"><img src=\"../../../../_product_images_cache/6/8/6822739.jpg\" width=\"75\">\n",
       "                   <br/ >\n",
       "                   <span class=\"description\">$66.0 (6822739)</span> <br />\n",
       "                   <span class=\"description\">Fila Rosly...</span> <br /></div><div class=\"recom\"><img src=\"../../../../_product_images_cache/6/7/6760138.jpg\" width=\"75\">\n",
       "                   <br/ >\n",
       "                   <span class=\"description\">$25.0 (6760138)</span> <br />\n",
       "                   <span class=\"description\">adidas Lin...</span> <br /></div><div class=\"recom\"><img src=\"../../../../_product_images_cache/7/7/7722384.jpg\" width=\"75\">\n",
       "                   <br/ >\n",
       "                   <span class=\"description\">$50.0 (7722384)</span> <br />\n",
       "                   <span class=\"description\">Fila Boys'...</span> <br /></div><div class=\"recom\"><img src=\"../../../../_product_images_cache/8/8/8826049.jpg\" width=\"75\">\n",
       "                   <br/ >\n",
       "                   <span class=\"description\">$55.0 (8826049)</span> <br />\n",
       "                   <span class=\"description\">Fila Boys'...</span> <br /></div><div class=\"recom\"><img src=\"../../../../_product_images_cache/7/4/7449740.jpg\" width=\"75\">\n",
       "                   <br/ >\n",
       "                   <span class=\"description\">$55.0 (7449740)</span> <br />\n",
       "                   <span class=\"description\">Fila Littl...</span> <br /></div><div class=\"recom\"><img src=\"../../../../_product_images_cache/6/9/6994349.jpg\" width=\"75\">\n",
       "                   <br/ >\n",
       "                   <span class=\"description\">$65.0 (6994349)</span> <br />\n",
       "                   <span class=\"description\">Fila Men's...</span> <br /></div><div class=\"recom\"><img src=\"../../../../_product_images_cache/5/8/5882481.jpg\" width=\"75\">\n",
       "                   <br/ >\n",
       "                   <span class=\"description\">$65.0 (5882481)</span> <br />\n",
       "                   <span class=\"description\">Fila Const...</span> <br /></div><div class=\"recom\"><img src=\"../../../../_product_images_cache/8/9/8907585.jpg\" width=\"75\">\n",
       "                   <br/ >\n",
       "                   <span class=\"description\">$70.0 (8907585)</span> <br />\n",
       "                   <span class=\"description\">Nike Littl...</span> <br /></div><div class=\"recom\"><img src=\"../../../../_product_images_cache/8/5/8505520.jpg\" width=\"75\">\n",
       "                   <br/ >\n",
       "                   <span class=\"description\">$50.0 (8505520)</span> <br />\n",
       "                   <span class=\"description\">Champion L...</span> <br /></div><div class=\"recom\"><img src=\"../../../../_product_images_cache/7/0/7080226.jpg\" width=\"75\">\n",
       "                   <br/ >\n",
       "                   <span class=\"description\">$12.0 (7080226)</span> <br />\n",
       "                   <span class=\"description\">Champion L...</span> <br /></div><div class=\"recom\"><img src=\"../../../../_product_images_cache/8/8/8826050.jpg\" width=\"75\">\n",
       "                   <br/ >\n",
       "                   <span class=\"description\">$55.0 (8826050)</span> <br />\n",
       "                   <span class=\"description\">Fila Boys'...</span> <br /></div><div class=\"recom\"><img src=\"../../../../_product_images_cache/8/9/8906302.jpg\" width=\"75\">\n",
       "                   <br/ >\n",
       "                   <span class=\"description\">$65.0 (8906302)</span> <br />\n",
       "                   <span class=\"description\">Fila Boys'...</span> <br /></div><div class=\"recom\"><img src=\"../../../../_product_images_cache/9/9/9926957.jpg\" width=\"75\">\n",
       "                   <br/ >\n",
       "                   <span class=\"description\">$43.0 (9926957)</span> <br />\n",
       "                   <span class=\"description\">Nike Toddl...</span> <br /></div><div class=\"recom\"><img src=\"../../../../_product_images_cache/9/8/9885096.jpg\" width=\"75\">\n",
       "                   <br/ >\n",
       "                   <span class=\"description\">$48.0 (9885096)</span> <br />\n",
       "                   <span class=\"description\">Nike Toddl...</span> <br /></div><div class=\"recom\"><img src=\"../../../../_product_images_cache/8/3/8346956.jpg\" width=\"75\">\n",
       "                   <br/ >\n",
       "                   <span class=\"description\">$80.0 (8346956)</span> <br />\n",
       "                   <span class=\"description\">adidas Boy...</span> <br /></div><div class=\"recom\"><img src=\"../../../../_product_images_cache/8/9/8998319.jpg\" width=\"75\">\n",
       "                   <br/ >\n",
       "                   <span class=\"description\">$40.0 (8998319)</span> <br />\n",
       "                   <span class=\"description\">Fila Toddl...</span> <br /></div><div class=\"recom\"><img src=\"../../../../_product_images_cache/6/9/6920361.jpg\" width=\"75\">\n",
       "                   <br/ >\n",
       "                   <span class=\"description\">$35.0 (6920361)</span> <br />\n",
       "                   <span class=\"description\">bennet tee...</span> <br /></div><div class=\"recom\"><img src=\"../../../../_product_images_cache/6/8/6822750.jpg\" width=\"75\">\n",
       "                   <br/ >\n",
       "                   <span class=\"description\">$45.0 (6822750)</span> <br />\n",
       "                   <span class=\"description\">Fila Virgi...</span> <br /></div><div class=\"recom\"><img src=\"../../../../_product_images_cache/2/7/2760799.jpg\" width=\"75\">\n",
       "                   <br/ >\n",
       "                   <span class=\"description\">$38.0 (2760799)</span> <br />\n",
       "                   <span class=\"description\">FILA TIONN...</span> <br /></div><div class=\"recom\"><img src=\"../../../../_product_images_cache/6/1/6142982.jpg\" width=\"75\">\n",
       "                   <br/ >\n",
       "                   <span class=\"description\">$32.0 (6142982)</span> <br />\n",
       "                   <span class=\"description\">adidas Big...</span> <br /></div><div class=\"recom\"><img src=\"../../../../_product_images_cache/6/8/6813849.jpg\" width=\"75\">\n",
       "                   <br/ >\n",
       "                   <span class=\"description\">$36.0 (6813849)</span> <br />\n",
       "                   <span class=\"description\">adidas Bab...</span> <br /></div><div class=\"recom\"><img src=\"../../../../_product_images_cache/5/7/5728879.jpg\" width=\"75\">\n",
       "                   <br/ >\n",
       "                   <span class=\"description\">$54.0 (5728879)</span> <br />\n",
       "                   <span class=\"description\">adidas 2-P...</span> <br /></div><div class=\"recom\"><img src=\"../../../../_product_images_cache/6/1/6142935.jpg\" width=\"75\">\n",
       "                   <br/ >\n",
       "                   <span class=\"description\">$30.0 (6142935)</span> <br />\n",
       "                   <span class=\"description\">adidas Lit...</span> <br /></div><div class=\"recom\"><img src=\"../../../../_product_images_cache/5/8/5859885.jpg\" width=\"75\">\n",
       "                   <br/ >\n",
       "                   <span class=\"description\">$75.0 (5859885)</span> <br />\n",
       "                   <span class=\"description\">adidas Spa...</span> <br /></div><div class=\"recom\"><img src=\"../../../../_product_images_cache/8/0/8064551.jpg\" width=\"75\">\n",
       "                   <br/ >\n",
       "                   <span class=\"description\">$20.0 (8064551)</span> <br />\n",
       "                   <span class=\"description\">adidas Big...</span> <br /></div><div class=\"recom\"><img src=\"../../../../_product_images_cache/2/5/2582051.jpg\" width=\"75\">\n",
       "                   <br/ >\n",
       "                   <span class=\"description\">$65.0 (2582051)</span> <br />\n",
       "                   <span class=\"description\">ADIDAS KID...</span> <br /></div><div class=\"recom\"><img src=\"../../../../_product_images_cache/7/2/7262503.jpg\" width=\"75\">\n",
       "                   <br/ >\n",
       "                   <span class=\"description\">$50.0 (7262503)</span> <br />\n",
       "                   <span class=\"description\">Fila Boys'...</span> <br /></div>"
      ]
     },
     "metadata": {},
     "output_type": "display_data"
    },
    {
     "name": "stdout",
     "output_type": "stream",
     "text": [
      "Atb Sequence\n",
      "[('237110', '2019-07-24 16:34:20'), ('237110', '2019-07-24 16:40:55'), ('237110', '2019-07-24 16:41:59'), ('237110', '2019-07-24 16:42:06'), ('237110', '2019-07-24 17:34:40'), ('237110', '2019-07-24 17:34:57'), ('237110', '2019-07-24 17:38:23'), ('6760138', '2019-07-25 01:44:42'), ('6760138', '2019-07-25 02:18:59')]\n"
     ]
    },
    {
     "data": {
      "text/html": [
       "\n",
       "      <style>\n",
       "      .recom {float: left;\n",
       "              margin: 3px;\n",
       "              text-align: center;}\n",
       "      \n",
       "      .recom_red {float: left;\n",
       "                  margin: 3px;\n",
       "                  text-align: center;\n",
       "                  border: 1px solid #FF0000;}\n",
       "      \n",
       "      .recom_green {float: left;\n",
       "                  margin: 3px;\n",
       "                  text-align: center;\n",
       "                  border: 1px solid #00FF00;}\n",
       "      .recom_blue {float: left;\n",
       "                  margin: 3px;\n",
       "                  text-align: center;\n",
       "                  border: 1px solid #0000FF;}\n",
       "      .description {font-size: 11px}\n",
       "      .price {font-size: 11px}\n",
       "      </style>\n",
       "      <div class=\"recom\"><img src=\"../../../../_product_images_cache/2/3/237110.jpg\" width=\"75\">\n",
       "                   <br/ >\n",
       "                   <span class=\"description\">$120.0 (237110)</span> <br />\n",
       "                   <span class=\"description\">ANGEL BY M...</span> <br /></div><div class=\"recom\"><img src=\"../../../../_product_images_cache/6/7/6760138.jpg\" width=\"75\">\n",
       "                   <br/ >\n",
       "                   <span class=\"description\">$25.0 (6760138)</span> <br />\n",
       "                   <span class=\"description\">adidas Lin...</span> <br /></div>"
      ]
     },
     "metadata": {},
     "output_type": "display_data"
    },
    {
     "name": "stdout",
     "output_type": "stream",
     "text": [
      "Pur Sequence\n",
      "[('237110', '2019-07-24 17:38:23')]\n"
     ]
    },
    {
     "data": {
      "text/html": [
       "\n",
       "      <style>\n",
       "      .recom {float: left;\n",
       "              margin: 3px;\n",
       "              text-align: center;}\n",
       "      \n",
       "      .recom_red {float: left;\n",
       "                  margin: 3px;\n",
       "                  text-align: center;\n",
       "                  border: 1px solid #FF0000;}\n",
       "      \n",
       "      .recom_green {float: left;\n",
       "                  margin: 3px;\n",
       "                  text-align: center;\n",
       "                  border: 1px solid #00FF00;}\n",
       "      .recom_blue {float: left;\n",
       "                  margin: 3px;\n",
       "                  text-align: center;\n",
       "                  border: 1px solid #0000FF;}\n",
       "      .description {font-size: 11px}\n",
       "      .price {font-size: 11px}\n",
       "      </style>\n",
       "      <div class=\"recom\"><img src=\"../../../../_product_images_cache/2/3/237110.jpg\" width=\"75\">\n",
       "                   <br/ >\n",
       "                   <span class=\"description\">$120.0 (237110)</span> <br />\n",
       "                   <span class=\"description\">ANGEL BY M...</span> <br /></div>"
      ]
     },
     "metadata": {},
     "output_type": "display_data"
    }
   ],
   "source": [
    "show_sequences('1022976420')"
   ]
  },
  {
   "cell_type": "code",
   "execution_count": 38,
   "metadata": {},
   "outputs": [
    {
     "name": "stdout",
     "output_type": "stream",
     "text": [
      "View Sequence\n",
      "[('8550627', '2019-07-02 20:21:43'), ('6784804', '2019-07-02 20:23:46'), ('8259701', '2019-07-02 20:23:52'), ('8259701', '2019-07-03 01:04:26'), ('178703', '2019-08-25 00:42:20'), ('683245', '2019-08-25 00:45:04'), ('296516', '2019-08-25 00:48:28'), ('2127504', '2019-08-25 00:52:25'), ('6952716', '2019-08-25 18:39:25'), ('4806798', '2019-08-25 18:40:13'), ('644915', '2019-08-25 18:40:28'), ('4806798', '2019-08-25 18:40:57'), ('683245', '2019-08-25 18:41:33'), ('296516', '2019-08-25 18:49:55'), ('2142453', '2019-08-25 18:53:57'), ('6283428', '2019-08-28 02:04:49'), ('4436825', '2019-08-28 02:07:00'), ('9510448', '2019-08-28 02:10:27'), ('75134', '2019-08-28 02:19:22'), ('9595679', '2019-08-28 12:51:08'), ('9595679', '2019-08-29 21:24:56'), ('296516', '2019-09-02 04:03:23'), ('683245', '2019-09-02 04:05:23'), ('683245', '2019-09-08 15:10:28'), ('683245', '2019-09-08 15:13:47'), ('683245', '2019-09-08 15:14:17'), ('683245', '2019-09-08 15:14:26'), ('9338585', '2019-10-09 19:38:25'), ('8982043', '2019-10-09 19:40:20'), ('9338585', '2019-10-09 19:40:43'), ('10209602', '2019-10-09 19:41:09'), ('116214', '2019-10-09 19:42:33'), ('2914388', '2019-10-09 19:46:57'), ('253779', '2019-10-09 19:49:37'), ('258770', '2019-10-09 19:52:11'), ('9338585', '2019-10-09 19:54:21'), ('6373604', '2019-10-14 17:55:19'), ('2839995', '2019-10-14 18:00:14'), ('2839987', '2019-10-14 18:00:16'), ('2839995', '2019-10-14 18:00:29'), ('2839995', '2019-10-14 18:00:34'), ('2840102', '2019-10-14 18:02:53'), ('2839994', '2019-10-14 18:03:38'), ('2840098', '2019-10-14 18:04:09'), ('2839995', '2019-10-14 18:04:23'), ('2840026', '2019-10-14 18:04:55'), ('6373604', '2019-10-14 20:33:25'), ('2840026', '2019-10-14 20:35:01'), ('2839990', '2019-10-14 20:36:39'), ('2840026', '2019-10-14 20:37:07'), ('6373604', '2019-10-15 02:19:47')]\n"
     ]
    },
    {
     "data": {
      "text/html": [
       "\n",
       "      <style>\n",
       "      .recom {float: left;\n",
       "              margin: 3px;\n",
       "              text-align: center;}\n",
       "      \n",
       "      .recom_red {float: left;\n",
       "                  margin: 3px;\n",
       "                  text-align: center;\n",
       "                  border: 1px solid #FF0000;}\n",
       "      \n",
       "      .recom_green {float: left;\n",
       "                  margin: 3px;\n",
       "                  text-align: center;\n",
       "                  border: 1px solid #00FF00;}\n",
       "      .recom_blue {float: left;\n",
       "                  margin: 3px;\n",
       "                  text-align: center;\n",
       "                  border: 1px solid #0000FF;}\n",
       "      .description {font-size: 11px}\n",
       "      .price {font-size: 11px}\n",
       "      </style>\n",
       "      <div class=\"recom\"><img src=\"../../../../_product_images_cache/8/5/8550627.jpg\" width=\"75\">\n",
       "                   <br/ >\n",
       "                   <span class=\"description\">$50.0 (8550627)</span> <br />\n",
       "                   <span class=\"description\">Skechers W...</span> <br /></div><div class=\"recom\"><img src=\"../../../../_product_images_cache/6/7/6784804.jpg\" width=\"75\">\n",
       "                   <br/ >\n",
       "                   <span class=\"description\">$50.0 (6784804)</span> <br />\n",
       "                   <span class=\"description\">Skechers W...</span> <br /></div><div class=\"recom\"><img src=\"../../../../_product_images_cache/8/2/8259701.jpg\" width=\"75\">\n",
       "                   <br/ >\n",
       "                   <span class=\"description\">$50.0 (8259701)</span> <br />\n",
       "                   <span class=\"description\">Skechers W...</span> <br /></div><div class=\"recom\"><img src=\"../../../../_product_images_cache/1/7/178703.jpg\" width=\"75\">\n",
       "                   <br/ >\n",
       "                   <span class=\"description\">$20.0 (178703)</span> <br />\n",
       "                   <span class=\"description\">LANCME CO...</span> <br /></div><div class=\"recom\"><img src=\"../../../../_product_images_cache/6/8/683245.jpg\" width=\"75\">\n",
       "                   <br/ >\n",
       "                   <span class=\"description\">$19.0 (683245)</span> <br />\n",
       "                   <span class=\"description\">URBAN DECA...</span> <br /></div><div class=\"recom\"><img src=\"../../../../_product_images_cache/2/9/296516.jpg\" width=\"75\">\n",
       "                   <br/ >\n",
       "                   <span class=\"description\">$20.0 (296516)</span> <br />\n",
       "                   <span class=\"description\">URBAN DECA...</span> <br /></div><div class=\"recom\"><img src=\"../../../../_product_images_cache/2/1/2127504.jpg\" width=\"75\">\n",
       "                   <br/ >\n",
       "                   <span class=\"description\">$20.0 (2127504)</span> <br />\n",
       "                   <span class=\"description\">URBAN DECA...</span> <br /></div><div class=\"recom\"><img src=\"../../../../_product_images_cache/6/9/6952716.jpg\" width=\"75\">\n",
       "                   <br/ >\n",
       "                   <span class=\"description\">$49.0 (6952716)</span> <br />\n",
       "                   <span class=\"description\">Urban Deca...</span> <br /></div><div class=\"recom\"><img src=\"../../../../_product_images_cache/4/8/4806798.jpg\" width=\"75\">\n",
       "                   <br/ >\n",
       "                   <span class=\"description\">$54.0 (4806798)</span> <br />\n",
       "                   <span class=\"description\">URBAN DECA...</span> <br /></div><div class=\"recom\"><img src=\"../../../../_product_images_cache/6/4/644915.jpg\" width=\"75\">\n",
       "                   <br/ >\n",
       "                   <span class=\"description\">$54.0 (644915)</span> <br />\n",
       "                   <span class=\"description\">URBAN DECA...</span> <br /></div><div class=\"recom\"><img src=\"../../../../_product_images_cache/2/1/2142453.jpg\" width=\"75\">\n",
       "                   <br/ >\n",
       "                   <span class=\"description\">$47.99 (2142453)</span> <br />\n",
       "                   <span class=\"description\">URBAN DECA...</span> <br /></div><div class=\"recom\"><img src=\"../../../../_product_images_cache/6/2/6283428.jpg\" width=\"75\">\n",
       "                   <br/ >\n",
       "                   <span class=\"description\">$34.0 (6283428)</span> <br />\n",
       "                   <span class=\"description\">Urban Deca...</span> <br /></div><div class=\"recom\"><img src=\"../../../../_product_images_cache/4/4/4436825.jpg\" width=\"75\">\n",
       "                   <br/ >\n",
       "                   <span class=\"description\">$34.0 (4436825)</span> <br />\n",
       "                   <span class=\"description\">URBAN DECA...</span> <br /></div><div class=\"recom\"><img src=\"../../../../_product_images_cache/9/5/9510448.jpg\" width=\"75\">\n",
       "                   <br/ >\n",
       "                   <span class=\"description\">$39.0 (9510448)</span> <br />\n",
       "                   <span class=\"description\">Urban Deca...</span> <br /></div><div class=\"recom\"><img src=\"../../../../_product_images_cache/7/5/75134.jpg\" width=\"75\">\n",
       "                   <br/ >\n",
       "                   <span class=\"description\">$17.0 (75134)</span> <br />\n",
       "                   <span class=\"description\">CLINIQUE 3...</span> <br /></div><div class=\"recom\"><img src=\"../../../../_product_images_cache/9/5/9595679.jpg\" width=\"75\">\n",
       "                   <br/ >\n",
       "                   <span class=\"description\">$? (9595679)</span> <br />\n",
       "                   <span class=\"description\">?...</span> <br /></div><div class=\"recom\"><img src=\"../../../../_product_images_cache/9/3/9338585.jpg\" width=\"75\">\n",
       "                   <br/ >\n",
       "                   <span class=\"description\">$? (9338585)</span> <br />\n",
       "                   <span class=\"description\">?...</span> <br /></div><div class=\"recom\"><img src=\"../../../../_product_images_cache/8/9/8982043.jpg\" width=\"75\">\n",
       "                   <br/ >\n",
       "                   <span class=\"description\">$59.5 (8982043)</span> <br />\n",
       "                   <span class=\"description\">Charter Cl...</span> <br /></div><div class=\"recom\"><img src=\"../../../../_product_images_cache/1/0/10209602.jpg\" width=\"75\">\n",
       "                   <br/ >\n",
       "                   <span class=\"description\">$? (10209602)</span> <br />\n",
       "                   <span class=\"description\">?...</span> <br /></div><div class=\"recom\"><img src=\"../../../../_product_images_cache/1/1/116214.jpg\" width=\"75\">\n",
       "                   <br/ >\n",
       "                   <span class=\"description\">$27.5 (116214)</span> <br />\n",
       "                   <span class=\"description\">LANCME HY...</span> <br /></div><div class=\"recom\"><img src=\"../../../../_product_images_cache/2/9/2914388.jpg\" width=\"75\">\n",
       "                   <br/ >\n",
       "                   <span class=\"description\">$24.5 (2914388)</span> <br />\n",
       "                   <span class=\"description\">CLINIQUE C...</span> <br /></div><div class=\"recom\"><img src=\"../../../../_product_images_cache/2/5/253779.jpg\" width=\"75\">\n",
       "                   <br/ >\n",
       "                   <span class=\"description\">$16.0 (253779)</span> <br />\n",
       "                   <span class=\"description\">CLINIQUE A...</span> <br /></div><div class=\"recom\"><img src=\"../../../../_product_images_cache/2/5/258770.jpg\" width=\"75\">\n",
       "                   <br/ >\n",
       "                   <span class=\"description\">$15.5 (258770)</span> <br />\n",
       "                   <span class=\"description\">CLINIQUE A...</span> <br /></div><div class=\"recom\"><img src=\"../../../../_product_images_cache/6/3/6373604.jpg\" width=\"75\">\n",
       "                   <br/ >\n",
       "                   <span class=\"description\">$49.0 (6373604)</span> <br />\n",
       "                   <span class=\"description\">Urban Deca...</span> <br /></div><div class=\"recom\"><img src=\"../../../../_product_images_cache/2/8/2839995.jpg\" width=\"75\">\n",
       "                   <br/ >\n",
       "                   <span class=\"description\">$24.0 (2839995)</span> <br />\n",
       "                   <span class=\"description\">URBAN DECA...</span> <br /></div><div class=\"recom\"><img src=\"../../../../_product_images_cache/2/8/2839987.jpg\" width=\"75\">\n",
       "                   <br/ >\n",
       "                   <span class=\"description\">$26.0 (2839987)</span> <br />\n",
       "                   <span class=\"description\">URBAN DECA...</span> <br /></div><div class=\"recom\"><img src=\"../../../../_product_images_cache/2/8/2840102.jpg\" width=\"75\">\n",
       "                   <br/ >\n",
       "                   <span class=\"description\">$26.0 (2840102)</span> <br />\n",
       "                   <span class=\"description\">URBAN DECA...</span> <br /></div><div class=\"recom\"><img src=\"../../../../_product_images_cache/2/8/2839994.jpg\" width=\"75\">\n",
       "                   <br/ >\n",
       "                   <span class=\"description\">$24.0 (2839994)</span> <br />\n",
       "                   <span class=\"description\">URBAN DECA...</span> <br /></div><div class=\"recom\"><img src=\"../../../../_product_images_cache/2/8/2840098.jpg\" width=\"75\">\n",
       "                   <br/ >\n",
       "                   <span class=\"description\">$45.0 (2840098)</span> <br />\n",
       "                   <span class=\"description\">URBAN DECA...</span> <br /></div><div class=\"recom\"><img src=\"../../../../_product_images_cache/2/8/2840026.jpg\" width=\"75\">\n",
       "                   <br/ >\n",
       "                   <span class=\"description\">$32.0 (2840026)</span> <br />\n",
       "                   <span class=\"description\">URBAN DECA...</span> <br /></div><div class=\"recom\"><img src=\"../../../../_product_images_cache/2/8/2839990.jpg\" width=\"75\">\n",
       "                   <br/ >\n",
       "                   <span class=\"description\">$26.0 (2839990)</span> <br />\n",
       "                   <span class=\"description\">URBAN DECA...</span> <br /></div>"
      ]
     },
     "metadata": {},
     "output_type": "display_data"
    },
    {
     "name": "stdout",
     "output_type": "stream",
     "text": [
      "Atb Sequence\n",
      "[('153337', '2019-08-02 01:47:05'), ('8505511', '2019-08-02 01:49:20'), ('153337', '2019-08-02 01:50:37'), ('8505511', '2019-08-02 01:50:37'), ('153337', '2019-08-02 01:52:18'), ('683245', '2019-08-25 00:48:05'), ('296516', '2019-08-25 00:49:59'), ('2127504', '2019-08-25 00:52:52'), ('683245', '2019-08-25 18:45:00'), ('683245', '2019-08-25 18:46:29'), ('683245', '2019-08-25 18:49:22'), ('296516', '2019-08-25 18:52:50'), ('6283428', '2019-08-28 02:06:24'), ('4436825', '2019-08-28 02:09:06'), ('9510448', '2019-08-28 02:14:21'), ('75134', '2019-08-28 02:19:54'), ('9595679', '2019-08-28 12:53:18'), ('9595679', '2019-08-29 21:25:16'), ('296516', '2019-09-02 04:03:38'), ('296516', '2019-09-02 04:04:31'), ('683245', '2019-09-02 04:06:44'), ('9338585', '2019-10-09 19:39:19'), ('9338585', '2019-10-09 19:39:35'), ('116214', '2019-10-09 19:42:41'), ('253779', '2019-10-09 19:50:20'), ('258770', '2019-10-09 19:53:34'), ('6373604', '2019-10-14 17:55:53'), ('2840102', '2019-10-14 18:03:01'), ('2840026', '2019-10-14 18:05:13'), ('6373604', '2019-10-14 20:33:34'), ('2840026', '2019-10-14 20:37:08'), ('6373604', '2019-10-15 02:21:37')]\n"
     ]
    },
    {
     "data": {
      "text/html": [
       "\n",
       "      <style>\n",
       "      .recom {float: left;\n",
       "              margin: 3px;\n",
       "              text-align: center;}\n",
       "      \n",
       "      .recom_red {float: left;\n",
       "                  margin: 3px;\n",
       "                  text-align: center;\n",
       "                  border: 1px solid #FF0000;}\n",
       "      \n",
       "      .recom_green {float: left;\n",
       "                  margin: 3px;\n",
       "                  text-align: center;\n",
       "                  border: 1px solid #00FF00;}\n",
       "      .recom_blue {float: left;\n",
       "                  margin: 3px;\n",
       "                  text-align: center;\n",
       "                  border: 1px solid #0000FF;}\n",
       "      .description {font-size: 11px}\n",
       "      .price {font-size: 11px}\n",
       "      </style>\n",
       "      <div class=\"recom\"><img src=\"../../../../_product_images_cache/1/5/153337.jpg\" width=\"75\">\n",
       "                   <br/ >\n",
       "                   <span class=\"description\">$27.5 (153337)</span> <br />\n",
       "                   <span class=\"description\">LANCME HY...</span> <br /></div><div class=\"recom\"><img src=\"../../../../_product_images_cache/8/5/8505511.jpg\" width=\"75\">\n",
       "                   <br/ >\n",
       "                   <span class=\"description\">$55.0 (8505511)</span> <br />\n",
       "                   <span class=\"description\">Skechers W...</span> <br /></div><div class=\"recom\"><img src=\"../../../../_product_images_cache/6/8/683245.jpg\" width=\"75\">\n",
       "                   <br/ >\n",
       "                   <span class=\"description\">$19.0 (683245)</span> <br />\n",
       "                   <span class=\"description\">URBAN DECA...</span> <br /></div><div class=\"recom\"><img src=\"../../../../_product_images_cache/2/9/296516.jpg\" width=\"75\">\n",
       "                   <br/ >\n",
       "                   <span class=\"description\">$20.0 (296516)</span> <br />\n",
       "                   <span class=\"description\">URBAN DECA...</span> <br /></div><div class=\"recom\"><img src=\"../../../../_product_images_cache/2/1/2127504.jpg\" width=\"75\">\n",
       "                   <br/ >\n",
       "                   <span class=\"description\">$20.0 (2127504)</span> <br />\n",
       "                   <span class=\"description\">URBAN DECA...</span> <br /></div><div class=\"recom\"><img src=\"../../../../_product_images_cache/6/2/6283428.jpg\" width=\"75\">\n",
       "                   <br/ >\n",
       "                   <span class=\"description\">$34.0 (6283428)</span> <br />\n",
       "                   <span class=\"description\">Urban Deca...</span> <br /></div><div class=\"recom\"><img src=\"../../../../_product_images_cache/4/4/4436825.jpg\" width=\"75\">\n",
       "                   <br/ >\n",
       "                   <span class=\"description\">$34.0 (4436825)</span> <br />\n",
       "                   <span class=\"description\">URBAN DECA...</span> <br /></div><div class=\"recom\"><img src=\"../../../../_product_images_cache/9/5/9510448.jpg\" width=\"75\">\n",
       "                   <br/ >\n",
       "                   <span class=\"description\">$39.0 (9510448)</span> <br />\n",
       "                   <span class=\"description\">Urban Deca...</span> <br /></div><div class=\"recom\"><img src=\"../../../../_product_images_cache/7/5/75134.jpg\" width=\"75\">\n",
       "                   <br/ >\n",
       "                   <span class=\"description\">$17.0 (75134)</span> <br />\n",
       "                   <span class=\"description\">CLINIQUE 3...</span> <br /></div><div class=\"recom\"><img src=\"../../../../_product_images_cache/9/5/9595679.jpg\" width=\"75\">\n",
       "                   <br/ >\n",
       "                   <span class=\"description\">$? (9595679)</span> <br />\n",
       "                   <span class=\"description\">?...</span> <br /></div><div class=\"recom\"><img src=\"../../../../_product_images_cache/9/3/9338585.jpg\" width=\"75\">\n",
       "                   <br/ >\n",
       "                   <span class=\"description\">$? (9338585)</span> <br />\n",
       "                   <span class=\"description\">?...</span> <br /></div><div class=\"recom\"><img src=\"../../../../_product_images_cache/1/1/116214.jpg\" width=\"75\">\n",
       "                   <br/ >\n",
       "                   <span class=\"description\">$27.5 (116214)</span> <br />\n",
       "                   <span class=\"description\">LANCME HY...</span> <br /></div><div class=\"recom\"><img src=\"../../../../_product_images_cache/2/5/253779.jpg\" width=\"75\">\n",
       "                   <br/ >\n",
       "                   <span class=\"description\">$16.0 (253779)</span> <br />\n",
       "                   <span class=\"description\">CLINIQUE A...</span> <br /></div><div class=\"recom\"><img src=\"../../../../_product_images_cache/2/5/258770.jpg\" width=\"75\">\n",
       "                   <br/ >\n",
       "                   <span class=\"description\">$15.5 (258770)</span> <br />\n",
       "                   <span class=\"description\">CLINIQUE A...</span> <br /></div><div class=\"recom\"><img src=\"../../../../_product_images_cache/6/3/6373604.jpg\" width=\"75\">\n",
       "                   <br/ >\n",
       "                   <span class=\"description\">$49.0 (6373604)</span> <br />\n",
       "                   <span class=\"description\">Urban Deca...</span> <br /></div><div class=\"recom\"><img src=\"../../../../_product_images_cache/2/8/2840102.jpg\" width=\"75\">\n",
       "                   <br/ >\n",
       "                   <span class=\"description\">$26.0 (2840102)</span> <br />\n",
       "                   <span class=\"description\">URBAN DECA...</span> <br /></div><div class=\"recom\"><img src=\"../../../../_product_images_cache/2/8/2840026.jpg\" width=\"75\">\n",
       "                   <br/ >\n",
       "                   <span class=\"description\">$32.0 (2840026)</span> <br />\n",
       "                   <span class=\"description\">URBAN DECA...</span> <br /></div>"
      ]
     },
     "metadata": {},
     "output_type": "display_data"
    },
    {
     "name": "stdout",
     "output_type": "stream",
     "text": [
      "Pur Sequence\n",
      "[('153337', '2019-08-02 01:52:18'), ('296516', '2019-08-25 00:57:33'), ('2127504', '2019-08-25 00:57:33'), ('683245', '2019-08-25 00:57:33'), ('296516', '2019-08-25 18:58:57'), ('683245', '2019-08-25 18:58:57'), ('9510448', '2019-08-28 02:25:03'), ('4436825', '2019-08-28 02:25:03'), ('6283428', '2019-08-28 02:25:03'), ('75134', '2019-08-28 02:25:03'), ('9595679', '2019-08-29 21:27:14'), ('683245', '2019-09-02 04:10:09'), ('296516', '2019-09-02 04:10:09'), ('253779', '2019-10-09 19:57:13'), ('258770', '2019-10-09 19:57:13'), ('9338585', '2019-10-09 19:57:13'), ('116214', '2019-10-09 19:57:13'), ('6373604', '2019-10-14 18:07:55'), ('2840026', '2019-10-14 18:07:55'), ('2840102', '2019-10-14 18:07:55'), ('6373604', '2019-10-15 02:30:40')]\n"
     ]
    },
    {
     "data": {
      "text/html": [
       "\n",
       "      <style>\n",
       "      .recom {float: left;\n",
       "              margin: 3px;\n",
       "              text-align: center;}\n",
       "      \n",
       "      .recom_red {float: left;\n",
       "                  margin: 3px;\n",
       "                  text-align: center;\n",
       "                  border: 1px solid #FF0000;}\n",
       "      \n",
       "      .recom_green {float: left;\n",
       "                  margin: 3px;\n",
       "                  text-align: center;\n",
       "                  border: 1px solid #00FF00;}\n",
       "      .recom_blue {float: left;\n",
       "                  margin: 3px;\n",
       "                  text-align: center;\n",
       "                  border: 1px solid #0000FF;}\n",
       "      .description {font-size: 11px}\n",
       "      .price {font-size: 11px}\n",
       "      </style>\n",
       "      <div class=\"recom\"><img src=\"../../../../_product_images_cache/1/5/153337.jpg\" width=\"75\">\n",
       "                   <br/ >\n",
       "                   <span class=\"description\">$27.5 (153337)</span> <br />\n",
       "                   <span class=\"description\">LANCME HY...</span> <br /></div><div class=\"recom\"><img src=\"../../../../_product_images_cache/2/9/296516.jpg\" width=\"75\">\n",
       "                   <br/ >\n",
       "                   <span class=\"description\">$20.0 (296516)</span> <br />\n",
       "                   <span class=\"description\">URBAN DECA...</span> <br /></div><div class=\"recom\"><img src=\"../../../../_product_images_cache/2/1/2127504.jpg\" width=\"75\">\n",
       "                   <br/ >\n",
       "                   <span class=\"description\">$20.0 (2127504)</span> <br />\n",
       "                   <span class=\"description\">URBAN DECA...</span> <br /></div><div class=\"recom\"><img src=\"../../../../_product_images_cache/6/8/683245.jpg\" width=\"75\">\n",
       "                   <br/ >\n",
       "                   <span class=\"description\">$19.0 (683245)</span> <br />\n",
       "                   <span class=\"description\">URBAN DECA...</span> <br /></div><div class=\"recom\"><img src=\"../../../../_product_images_cache/9/5/9510448.jpg\" width=\"75\">\n",
       "                   <br/ >\n",
       "                   <span class=\"description\">$39.0 (9510448)</span> <br />\n",
       "                   <span class=\"description\">Urban Deca...</span> <br /></div><div class=\"recom\"><img src=\"../../../../_product_images_cache/4/4/4436825.jpg\" width=\"75\">\n",
       "                   <br/ >\n",
       "                   <span class=\"description\">$34.0 (4436825)</span> <br />\n",
       "                   <span class=\"description\">URBAN DECA...</span> <br /></div><div class=\"recom\"><img src=\"../../../../_product_images_cache/6/2/6283428.jpg\" width=\"75\">\n",
       "                   <br/ >\n",
       "                   <span class=\"description\">$34.0 (6283428)</span> <br />\n",
       "                   <span class=\"description\">Urban Deca...</span> <br /></div><div class=\"recom\"><img src=\"../../../../_product_images_cache/7/5/75134.jpg\" width=\"75\">\n",
       "                   <br/ >\n",
       "                   <span class=\"description\">$17.0 (75134)</span> <br />\n",
       "                   <span class=\"description\">CLINIQUE 3...</span> <br /></div><div class=\"recom\"><img src=\"../../../../_product_images_cache/9/5/9595679.jpg\" width=\"75\">\n",
       "                   <br/ >\n",
       "                   <span class=\"description\">$? (9595679)</span> <br />\n",
       "                   <span class=\"description\">?...</span> <br /></div><div class=\"recom\"><img src=\"../../../../_product_images_cache/2/5/253779.jpg\" width=\"75\">\n",
       "                   <br/ >\n",
       "                   <span class=\"description\">$16.0 (253779)</span> <br />\n",
       "                   <span class=\"description\">CLINIQUE A...</span> <br /></div><div class=\"recom\"><img src=\"../../../../_product_images_cache/2/5/258770.jpg\" width=\"75\">\n",
       "                   <br/ >\n",
       "                   <span class=\"description\">$15.5 (258770)</span> <br />\n",
       "                   <span class=\"description\">CLINIQUE A...</span> <br /></div><div class=\"recom\"><img src=\"../../../../_product_images_cache/9/3/9338585.jpg\" width=\"75\">\n",
       "                   <br/ >\n",
       "                   <span class=\"description\">$? (9338585)</span> <br />\n",
       "                   <span class=\"description\">?...</span> <br /></div><div class=\"recom\"><img src=\"../../../../_product_images_cache/1/1/116214.jpg\" width=\"75\">\n",
       "                   <br/ >\n",
       "                   <span class=\"description\">$27.5 (116214)</span> <br />\n",
       "                   <span class=\"description\">LANCME HY...</span> <br /></div><div class=\"recom\"><img src=\"../../../../_product_images_cache/6/3/6373604.jpg\" width=\"75\">\n",
       "                   <br/ >\n",
       "                   <span class=\"description\">$49.0 (6373604)</span> <br />\n",
       "                   <span class=\"description\">Urban Deca...</span> <br /></div><div class=\"recom\"><img src=\"../../../../_product_images_cache/2/8/2840026.jpg\" width=\"75\">\n",
       "                   <br/ >\n",
       "                   <span class=\"description\">$32.0 (2840026)</span> <br />\n",
       "                   <span class=\"description\">URBAN DECA...</span> <br /></div><div class=\"recom\"><img src=\"../../../../_product_images_cache/2/8/2840102.jpg\" width=\"75\">\n",
       "                   <br/ >\n",
       "                   <span class=\"description\">$26.0 (2840102)</span> <br />\n",
       "                   <span class=\"description\">URBAN DECA...</span> <br /></div>"
      ]
     },
     "metadata": {},
     "output_type": "display_data"
    }
   ],
   "source": [
    "show_sequences('142350418')"
   ]
  },
  {
   "cell_type": "code",
   "execution_count": 21,
   "metadata": {},
   "outputs": [],
   "source": [
    "example_sequence = view_dict['1022976420'] + atb_dict['1022976420'] + output_dict['1022976420']\n"
   ]
  },
  {
   "cell_type": "code",
   "execution_count": 33,
   "metadata": {},
   "outputs": [
    {
     "data": {
      "text/plain": [
       "array(['1074650', '237110', '2582051', '2760799', '5728879', '5859885',\n",
       "       '5882481', '589785', '6142935', '6142982', '6760138', '6813849',\n",
       "       '6822739', '6822750', '6920361', '6994349', '7080226', '7262503',\n",
       "       '7449740', '7722384', '7924980', '8031987', '8060535', '8064551',\n",
       "       '8346956', '8505520', '8826049', '8826050', '8906302', '8907585',\n",
       "       '8998319', '9383247', '9885096', '9926957'], dtype='<U7')"
      ]
     },
     "execution_count": 33,
     "metadata": {},
     "output_type": "execute_result"
    }
   ],
   "source": [
    "unique_pids_sequence = np.unique(list(zip(*example_sequence))[0])\n",
    "unique_pids_sequence"
   ]
  },
  {
   "cell_type": "code",
   "execution_count": 31,
   "metadata": {},
   "outputs": [
    {
     "data": {
      "text/html": [
       "\n",
       "      <style>\n",
       "      .recom {float: left;\n",
       "              margin: 3px;\n",
       "              text-align: center;}\n",
       "      \n",
       "      .recom_red {float: left;\n",
       "                  margin: 3px;\n",
       "                  text-align: center;\n",
       "                  border: 1px solid #FF0000;}\n",
       "      \n",
       "      .recom_green {float: left;\n",
       "                  margin: 3px;\n",
       "                  text-align: center;\n",
       "                  border: 1px solid #00FF00;}\n",
       "      .recom_blue {float: left;\n",
       "                  margin: 3px;\n",
       "                  text-align: center;\n",
       "                  border: 1px solid #0000FF;}\n",
       "      .description {font-size: 11px}\n",
       "      .price {font-size: 11px}\n",
       "      </style>\n",
       "      <div class=\"recom\"><img src=\"../../../../_product_images_cache/1/0/1074650.jpg\" width=\"75\">\n",
       "                   <br/ >\n",
       "                   <span class=\"description\">$3807.0 (1074650)</span> <br />\n",
       "                   <span class=\"description\">AILEY KING...</span> <br /></div><div class=\"recom\"><img src=\"../../../../_product_images_cache/2/3/237110.jpg\" width=\"75\">\n",
       "                   <br/ >\n",
       "                   <span class=\"description\">$120.0 (237110)</span> <br />\n",
       "                   <span class=\"description\">ANGEL BY M...</span> <br /></div><div class=\"recom\"><img src=\"../../../../_product_images_cache/2/5/2582051.jpg\" width=\"75\">\n",
       "                   <br/ >\n",
       "                   <span class=\"description\">$65.0 (2582051)</span> <br />\n",
       "                   <span class=\"description\">ADIDAS KID...</span> <br /></div><div class=\"recom\"><img src=\"../../../../_product_images_cache/2/7/2760799.jpg\" width=\"75\">\n",
       "                   <br/ >\n",
       "                   <span class=\"description\">$38.0 (2760799)</span> <br />\n",
       "                   <span class=\"description\">FILA TIONN...</span> <br /></div><div class=\"recom\"><img src=\"../../../../_product_images_cache/5/7/5728879.jpg\" width=\"75\">\n",
       "                   <br/ >\n",
       "                   <span class=\"description\">$54.0 (5728879)</span> <br />\n",
       "                   <span class=\"description\">adidas 2-P...</span> <br /></div><div class=\"recom\"><img src=\"../../../../_product_images_cache/5/8/5859885.jpg\" width=\"75\">\n",
       "                   <br/ >\n",
       "                   <span class=\"description\">$75.0 (5859885)</span> <br />\n",
       "                   <span class=\"description\">adidas Spa...</span> <br /></div><div class=\"recom\"><img src=\"../../../../_product_images_cache/5/8/5882481.jpg\" width=\"75\">\n",
       "                   <br/ >\n",
       "                   <span class=\"description\">$65.0 (5882481)</span> <br />\n",
       "                   <span class=\"description\">Fila Const...</span> <br /></div><div class=\"recom\"><img src=\"../../../../_product_images_cache/5/8/589785.jpg\" width=\"75\">\n",
       "                   <br/ >\n",
       "                   <span class=\"description\">$11.99 (589785)</span> <br />\n",
       "                   <span class=\"description\">MELISSA AN...</span> <br /></div><div class=\"recom\"><img src=\"../../../../_product_images_cache/6/1/6142935.jpg\" width=\"75\">\n",
       "                   <br/ >\n",
       "                   <span class=\"description\">$30.0 (6142935)</span> <br />\n",
       "                   <span class=\"description\">adidas Lit...</span> <br /></div><div class=\"recom\"><img src=\"../../../../_product_images_cache/6/1/6142982.jpg\" width=\"75\">\n",
       "                   <br/ >\n",
       "                   <span class=\"description\">$32.0 (6142982)</span> <br />\n",
       "                   <span class=\"description\">adidas Big...</span> <br /></div><div class=\"recom\"><img src=\"../../../../_product_images_cache/6/7/6760138.jpg\" width=\"75\">\n",
       "                   <br/ >\n",
       "                   <span class=\"description\">$25.0 (6760138)</span> <br />\n",
       "                   <span class=\"description\">adidas Lin...</span> <br /></div><div class=\"recom\"><img src=\"../../../../_product_images_cache/6/8/6813849.jpg\" width=\"75\">\n",
       "                   <br/ >\n",
       "                   <span class=\"description\">$36.0 (6813849)</span> <br />\n",
       "                   <span class=\"description\">adidas Bab...</span> <br /></div><div class=\"recom\"><img src=\"../../../../_product_images_cache/6/8/6822739.jpg\" width=\"75\">\n",
       "                   <br/ >\n",
       "                   <span class=\"description\">$66.0 (6822739)</span> <br />\n",
       "                   <span class=\"description\">Fila Rosly...</span> <br /></div><div class=\"recom\"><img src=\"../../../../_product_images_cache/6/8/6822750.jpg\" width=\"75\">\n",
       "                   <br/ >\n",
       "                   <span class=\"description\">$45.0 (6822750)</span> <br />\n",
       "                   <span class=\"description\">Fila Virgi...</span> <br /></div><div class=\"recom\"><img src=\"../../../../_product_images_cache/6/9/6920361.jpg\" width=\"75\">\n",
       "                   <br/ >\n",
       "                   <span class=\"description\">$35.0 (6920361)</span> <br />\n",
       "                   <span class=\"description\">bennet tee...</span> <br /></div><div class=\"recom\"><img src=\"../../../../_product_images_cache/6/9/6994349.jpg\" width=\"75\">\n",
       "                   <br/ >\n",
       "                   <span class=\"description\">$65.0 (6994349)</span> <br />\n",
       "                   <span class=\"description\">Fila Men's...</span> <br /></div><div class=\"recom\"><img src=\"../../../../_product_images_cache/7/0/7080226.jpg\" width=\"75\">\n",
       "                   <br/ >\n",
       "                   <span class=\"description\">$12.0 (7080226)</span> <br />\n",
       "                   <span class=\"description\">Champion L...</span> <br /></div><div class=\"recom\"><img src=\"../../../../_product_images_cache/7/2/7262503.jpg\" width=\"75\">\n",
       "                   <br/ >\n",
       "                   <span class=\"description\">$50.0 (7262503)</span> <br />\n",
       "                   <span class=\"description\">Fila Boys'...</span> <br /></div><div class=\"recom\"><img src=\"../../../../_product_images_cache/7/4/7449740.jpg\" width=\"75\">\n",
       "                   <br/ >\n",
       "                   <span class=\"description\">$55.0 (7449740)</span> <br />\n",
       "                   <span class=\"description\">Fila Littl...</span> <br /></div><div class=\"recom\"><img src=\"../../../../_product_images_cache/7/7/7722384.jpg\" width=\"75\">\n",
       "                   <br/ >\n",
       "                   <span class=\"description\">$50.0 (7722384)</span> <br />\n",
       "                   <span class=\"description\">Fila Boys'...</span> <br /></div><div class=\"recom\"><img src=\"../../../../_product_images_cache/7/9/7924980.jpg\" width=\"75\">\n",
       "                   <br/ >\n",
       "                   <span class=\"description\">$65.0 (7924980)</span> <br />\n",
       "                   <span class=\"description\">Fila Women...</span> <br /></div><div class=\"recom\"><img src=\"../../../../_product_images_cache/8/0/8031987.jpg\" width=\"75\">\n",
       "                   <br/ >\n",
       "                   <span class=\"description\">$1199.0 (8031987)</span> <br />\n",
       "                   <span class=\"description\">Virgil Kin...</span> <br /></div><div class=\"recom\"><img src=\"../../../../_product_images_cache/8/0/8060535.jpg\" width=\"75\">\n",
       "                   <br/ >\n",
       "                   <span class=\"description\">$65.0 (8060535)</span> <br />\n",
       "                   <span class=\"description\">Fila Women...</span> <br /></div><div class=\"recom\"><img src=\"../../../../_product_images_cache/8/0/8064551.jpg\" width=\"75\">\n",
       "                   <br/ >\n",
       "                   <span class=\"description\">$20.0 (8064551)</span> <br />\n",
       "                   <span class=\"description\">adidas Big...</span> <br /></div><div class=\"recom\"><img src=\"../../../../_product_images_cache/8/3/8346956.jpg\" width=\"75\">\n",
       "                   <br/ >\n",
       "                   <span class=\"description\">$80.0 (8346956)</span> <br />\n",
       "                   <span class=\"description\">adidas Boy...</span> <br /></div><div class=\"recom\"><img src=\"../../../../_product_images_cache/8/5/8505520.jpg\" width=\"75\">\n",
       "                   <br/ >\n",
       "                   <span class=\"description\">$50.0 (8505520)</span> <br />\n",
       "                   <span class=\"description\">Champion L...</span> <br /></div><div class=\"recom\"><img src=\"../../../../_product_images_cache/8/8/8826049.jpg\" width=\"75\">\n",
       "                   <br/ >\n",
       "                   <span class=\"description\">$55.0 (8826049)</span> <br />\n",
       "                   <span class=\"description\">Fila Boys'...</span> <br /></div><div class=\"recom\"><img src=\"../../../../_product_images_cache/8/8/8826050.jpg\" width=\"75\">\n",
       "                   <br/ >\n",
       "                   <span class=\"description\">$55.0 (8826050)</span> <br />\n",
       "                   <span class=\"description\">Fila Boys'...</span> <br /></div><div class=\"recom\"><img src=\"../../../../_product_images_cache/8/9/8906302.jpg\" width=\"75\">\n",
       "                   <br/ >\n",
       "                   <span class=\"description\">$65.0 (8906302)</span> <br />\n",
       "                   <span class=\"description\">Fila Boys'...</span> <br /></div><div class=\"recom\"><img src=\"../../../../_product_images_cache/8/9/8907585.jpg\" width=\"75\">\n",
       "                   <br/ >\n",
       "                   <span class=\"description\">$70.0 (8907585)</span> <br />\n",
       "                   <span class=\"description\">Nike Littl...</span> <br /></div><div class=\"recom\"><img src=\"../../../../_product_images_cache/8/9/8998319.jpg\" width=\"75\">\n",
       "                   <br/ >\n",
       "                   <span class=\"description\">$40.0 (8998319)</span> <br />\n",
       "                   <span class=\"description\">Fila Toddl...</span> <br /></div><div class=\"recom\"><img src=\"../../../../_product_images_cache/9/3/9383247.jpg\" width=\"75\">\n",
       "                   <br/ >\n",
       "                   <span class=\"description\">$75.0 (9383247)</span> <br />\n",
       "                   <span class=\"description\">Fila Women...</span> <br /></div><div class=\"recom\"><img src=\"../../../../_product_images_cache/9/8/9885096.jpg\" width=\"75\">\n",
       "                   <br/ >\n",
       "                   <span class=\"description\">$48.0 (9885096)</span> <br />\n",
       "                   <span class=\"description\">Nike Toddl...</span> <br /></div><div class=\"recom\"><img src=\"../../../../_product_images_cache/9/9/9926957.jpg\" width=\"75\">\n",
       "                   <br/ >\n",
       "                   <span class=\"description\">$43.0 (9926957)</span> <br />\n",
       "                   <span class=\"description\">Nike Toddl...</span> <br /></div>"
      ]
     },
     "metadata": {},
     "output_type": "display_data"
    }
   ],
   "source": [
    "viz.display_recom_panel(unique_pids_sequence)"
   ]
  },
  {
   "cell_type": "code",
   "execution_count": 39,
   "metadata": {},
   "outputs": [
    {
     "name": "stdout",
     "output_type": "stream",
     "text": [
      "View Sequence\n",
      "[('4645900', '2019-08-10 22:42:26'), ('4504737', '2019-08-10 22:42:54'), ('2530348', '2019-08-10 22:44:51'), ('4888352', '2019-08-10 22:48:29'), ('6672465', '2019-08-10 22:51:54'), ('4504737', '2019-08-10 22:53:36'), ('4504737', '2019-08-10 22:54:28'), ('1607181', '2019-08-10 22:55:35'), ('4645900', '2019-08-10 22:56:22'), ('6596183', '2019-08-10 22:57:48'), ('4815268', '2019-08-10 22:59:01'), ('750734', '2019-08-10 23:05:09'), ('6596183', '2019-08-10 23:07:03'), ('6596183', '2019-08-10 23:08:53'), ('927595', '2019-08-10 23:11:32'), ('574131', '2019-08-10 23:12:54'), ('574131', '2019-08-10 23:13:47'), ('667241', '2019-08-10 23:18:25'), ('574131', '2019-08-10 23:23:45'), ('6596183', '2019-08-10 23:23:59'), ('574131', '2019-08-10 23:25:50'), ('6596183', '2019-08-10 23:27:00'), ('5599871', '2019-08-10 23:30:40'), ('6596183', '2019-08-10 23:40:44'), ('790724', '2019-08-10 23:42:01'), ('5793386', '2019-08-10 23:43:56'), ('750734', '2019-08-10 23:50:54'), ('296516', '2019-08-10 23:57:09'), ('296516', '2019-08-10 23:58:10'), ('9534364', '2019-08-11 00:05:02'), ('9534317', '2019-08-11 00:07:36'), ('4796247', '2019-08-11 00:11:58'), ('5594509', '2019-08-11 00:13:26'), ('5594545', '2019-08-11 00:13:39'), ('5594422', '2019-08-11 00:14:55'), ('9218210', '2019-08-11 00:15:52'), ('5594434', '2019-08-11 00:16:17'), ('5594434', '2019-08-11 00:20:21'), ('5428264', '2019-08-11 00:20:45'), ('5428264', '2019-08-11 00:21:55'), ('5594429', '2019-08-11 00:22:30'), ('5594429', '2019-08-11 00:23:18'), ('5428264', '2019-08-11 00:24:08'), ('9534432', '2019-08-11 00:24:33'), ('9021716', '2019-08-11 00:27:42'), ('9021717', '2019-08-11 00:28:18'), ('9021716', '2019-08-11 00:28:35'), ('9021716', '2019-08-11 00:33:53'), ('9021716', '2019-08-11 00:35:47'), ('9021717', '2019-08-11 00:35:50'), ('223134', '2019-08-11 00:36:52'), ('2258673', '2019-08-11 00:38:23'), ('3097783', '2019-08-11 00:39:08')]\n"
     ]
    },
    {
     "data": {
      "text/html": [
       "\n",
       "      <style>\n",
       "      .recom {float: left;\n",
       "              margin: 3px;\n",
       "              text-align: center;}\n",
       "      \n",
       "      .recom_red {float: left;\n",
       "                  margin: 3px;\n",
       "                  text-align: center;\n",
       "                  border: 1px solid #FF0000;}\n",
       "      \n",
       "      .recom_green {float: left;\n",
       "                  margin: 3px;\n",
       "                  text-align: center;\n",
       "                  border: 1px solid #00FF00;}\n",
       "      .recom_blue {float: left;\n",
       "                  margin: 3px;\n",
       "                  text-align: center;\n",
       "                  border: 1px solid #0000FF;}\n",
       "      .description {font-size: 11px}\n",
       "      .price {font-size: 11px}\n",
       "      </style>\n",
       "      <div class=\"recom\"><img src=\"../../../../_product_images_cache/4/6/4645900.jpg\" width=\"75\">\n",
       "                   <br/ >\n",
       "                   <span class=\"description\">$nan (4645900)</span> <br />\n",
       "                   <span class=\"description\">AQ TEXTILE...</span> <br /></div><div class=\"recom\"><img src=\"../../../../_product_images_cache/4/5/4504737.jpg\" width=\"75\">\n",
       "                   <br/ >\n",
       "                   <span class=\"description\">$nan (4504737)</span> <br />\n",
       "                   <span class=\"description\">CHARTER CL...</span> <br /></div><div class=\"recom\"><img src=\"../../../../_product_images_cache/2/5/2530348.jpg\" width=\"75\">\n",
       "                   <br/ >\n",
       "                   <span class=\"description\">$nan (2530348)</span> <br />\n",
       "                   <span class=\"description\">MICROFIBER...</span> <br /></div><div class=\"recom\"><img src=\"../../../../_product_images_cache/4/8/4888352.jpg\" width=\"75\">\n",
       "                   <br/ >\n",
       "                   <span class=\"description\">$nan (4888352)</span> <br />\n",
       "                   <span class=\"description\">MADISON PA...</span> <br /></div><div class=\"recom\"><img src=\"../../../../_product_images_cache/6/6/6672465.jpg\" width=\"75\">\n",
       "                   <br/ >\n",
       "                   <span class=\"description\">$? (6672465)</span> <br />\n",
       "                   <span class=\"description\">?...</span> <br /></div><div class=\"recom\"><img src=\"../../../../_product_images_cache/1/6/1607181.jpg\" width=\"75\">\n",
       "                   <br/ >\n",
       "                   <span class=\"description\">$32.0 (1607181)</span> <br />\n",
       "                   <span class=\"description\">HOTEL COLL...</span> <br /></div><div class=\"recom\"><img src=\"../../../../_product_images_cache/6/5/6596183.jpg\" width=\"75\">\n",
       "                   <br/ >\n",
       "                   <span class=\"description\">$42.0 (6596183)</span> <br />\n",
       "                   <span class=\"description\">Maidenform...</span> <br /></div><div class=\"recom\"><img src=\"../../../../_product_images_cache/4/8/4815268.jpg\" width=\"75\">\n",
       "                   <br/ >\n",
       "                   <span class=\"description\">$21.99 (4815268)</span> <br />\n",
       "                   <span class=\"description\">MAIDENFORM...</span> <br /></div><div class=\"recom\"><img src=\"../../../../_product_images_cache/7/5/750734.jpg\" width=\"75\">\n",
       "                   <br/ >\n",
       "                   <span class=\"description\">$42.0 (750734)</span> <br />\n",
       "                   <span class=\"description\">MAIDENFORM...</span> <br /></div><div class=\"recom\"><img src=\"../../../../_product_images_cache/9/2/927595.jpg\" width=\"75\">\n",
       "                   <br/ >\n",
       "                   <span class=\"description\">$42.0 (927595)</span> <br />\n",
       "                   <span class=\"description\">MAIDENFORM...</span> <br /></div><div class=\"recom\"><img src=\"../../../../_product_images_cache/5/7/574131.jpg\" width=\"75\">\n",
       "                   <br/ >\n",
       "                   <span class=\"description\">$36.0 (574131)</span> <br />\n",
       "                   <span class=\"description\">MAIDENFORM...</span> <br /></div><div class=\"recom\"><img src=\"../../../../_product_images_cache/6/6/667241.jpg\" width=\"75\">\n",
       "                   <br/ >\n",
       "                   <span class=\"description\">$38.0 (667241)</span> <br />\n",
       "                   <span class=\"description\">MAIDENFORM...</span> <br /></div><div class=\"recom\"><img src=\"../../../../_product_images_cache/5/5/5599871.jpg\" width=\"75\">\n",
       "                   <br/ >\n",
       "                   <span class=\"description\">$42.0 (5599871)</span> <br />\n",
       "                   <span class=\"description\">Maidenform...</span> <br /></div><div class=\"recom\"><img src=\"../../../../_product_images_cache/7/9/790724.jpg\" width=\"75\">\n",
       "                   <br/ >\n",
       "                   <span class=\"description\">$42.0 (790724)</span> <br />\n",
       "                   <span class=\"description\">MAIDENFORM...</span> <br /></div><div class=\"recom\"><img src=\"../../../../_product_images_cache/5/7/5793386.jpg\" width=\"75\">\n",
       "                   <br/ >\n",
       "                   <span class=\"description\">$40.0 (5793386)</span> <br />\n",
       "                   <span class=\"description\">Warner's P...</span> <br /></div><div class=\"recom\"><img src=\"../../../../_product_images_cache/2/9/296516.jpg\" width=\"75\">\n",
       "                   <br/ >\n",
       "                   <span class=\"description\">$20.0 (296516)</span> <br />\n",
       "                   <span class=\"description\">URBAN DECA...</span> <br /></div><div class=\"recom\"><img src=\"../../../../_product_images_cache/9/5/9534364.jpg\" width=\"75\">\n",
       "                   <br/ >\n",
       "                   <span class=\"description\">$? (9534364)</span> <br />\n",
       "                   <span class=\"description\">?...</span> <br /></div><div class=\"recom\"><img src=\"../../../../_product_images_cache/9/5/9534317.jpg\" width=\"75\">\n",
       "                   <br/ >\n",
       "                   <span class=\"description\">$? (9534317)</span> <br />\n",
       "                   <span class=\"description\">?...</span> <br /></div><div class=\"recom\"><img src=\"../../../../_product_images_cache/4/7/4796247.jpg\" width=\"75\">\n",
       "                   <br/ >\n",
       "                   <span class=\"description\">$nan (4796247)</span> <br />\n",
       "                   <span class=\"description\">FIESTA 3-P...</span> <br /></div><div class=\"recom\"><img src=\"../../../../_product_images_cache/5/5/5594509.jpg\" width=\"75\">\n",
       "                   <br/ >\n",
       "                   <span class=\"description\">$47.0 (5594509)</span> <br />\n",
       "                   <span class=\"description\">Fiesta 3-P...</span> <br /></div><div class=\"recom\"><img src=\"../../../../_product_images_cache/5/5/5594545.jpg\" width=\"75\">\n",
       "                   <br/ >\n",
       "                   <span class=\"description\">$47.0 (5594545)</span> <br />\n",
       "                   <span class=\"description\">Fiesta 3-P...</span> <br /></div><div class=\"recom\"><img src=\"../../../../_product_images_cache/5/5/5594422.jpg\" width=\"75\">\n",
       "                   <br/ >\n",
       "                   <span class=\"description\">$47.0 (5594422)</span> <br />\n",
       "                   <span class=\"description\">Fiesta 3-P...</span> <br /></div><div class=\"recom\"><img src=\"../../../../_product_images_cache/9/2/9218210.jpg\" width=\"75\">\n",
       "                   <br/ >\n",
       "                   <span class=\"description\">$47.0 (9218210)</span> <br />\n",
       "                   <span class=\"description\">Fiesta Mea...</span> <br /></div><div class=\"recom\"><img src=\"../../../../_product_images_cache/5/5/5594434.jpg\" width=\"75\">\n",
       "                   <br/ >\n",
       "                   <span class=\"description\">$47.0 (5594434)</span> <br />\n",
       "                   <span class=\"description\">Fiesta 3-P...</span> <br /></div><div class=\"recom\"><img src=\"../../../../_product_images_cache/5/4/5428264.jpg\" width=\"75\">\n",
       "                   <br/ >\n",
       "                   <span class=\"description\">$47.0 (5428264)</span> <br />\n",
       "                   <span class=\"description\">Fiesta 3-P...</span> <br /></div><div class=\"recom\"><img src=\"../../../../_product_images_cache/5/5/5594429.jpg\" width=\"75\">\n",
       "                   <br/ >\n",
       "                   <span class=\"description\">$47.0 (5594429)</span> <br />\n",
       "                   <span class=\"description\">Fiesta 3-P...</span> <br /></div><div class=\"recom\"><img src=\"../../../../_product_images_cache/9/5/9534432.jpg\" width=\"75\">\n",
       "                   <br/ >\n",
       "                   <span class=\"description\">$? (9534432)</span> <br />\n",
       "                   <span class=\"description\">?...</span> <br /></div><div class=\"recom\"><img src=\"../../../../_product_images_cache/9/0/9021716.jpg\" width=\"75\">\n",
       "                   <br/ >\n",
       "                   <span class=\"description\">$125.0 (9021716)</span> <br />\n",
       "                   <span class=\"description\">Martha Ste...</span> <br /></div><div class=\"recom\"><img src=\"../../../../_product_images_cache/9/0/9021717.jpg\" width=\"75\">\n",
       "                   <br/ >\n",
       "                   <span class=\"description\">$125.0 (9021717)</span> <br />\n",
       "                   <span class=\"description\">Martha Ste...</span> <br /></div><div class=\"recom\"><img src=\"../../../../_product_images_cache/2/2/223134.jpg\" width=\"75\">\n",
       "                   <br/ >\n",
       "                   <span class=\"description\">$53.0 (223134)</span> <br />\n",
       "                   <span class=\"description\">THE CELLAR...</span> <br /></div><div class=\"recom\"><img src=\"../../../../_product_images_cache/2/2/2258673.jpg\" width=\"75\">\n",
       "                   <br/ >\n",
       "                   <span class=\"description\">$43.0 (2258673)</span> <br />\n",
       "                   <span class=\"description\">THE CELLAR...</span> <br /></div><div class=\"recom\"><img src=\"../../../../_product_images_cache/3/0/3097783.jpg\" width=\"75\">\n",
       "                   <br/ >\n",
       "                   <span class=\"description\">$23.99 (3097783)</span> <br />\n",
       "                   <span class=\"description\">THE CELLAR...</span> <br /></div>"
      ]
     },
     "metadata": {},
     "output_type": "display_data"
    },
    {
     "name": "stdout",
     "output_type": "stream",
     "text": [
      "Atb Sequence\n",
      "[('750734', '2019-08-10 23:06:27'), ('6596183', '2019-08-10 23:07:17'), ('6596183', '2019-08-10 23:07:27'), ('574131', '2019-08-10 23:13:59'), ('574131', '2019-08-10 23:14:07'), ('574131', '2019-08-10 23:17:16'), ('667241', '2019-08-10 23:21:54'), ('667241', '2019-08-10 23:22:18'), ('5599871', '2019-08-10 23:31:03'), ('6596183', '2019-08-10 23:41:03'), ('790724', '2019-08-10 23:42:17'), ('5793386', '2019-08-10 23:44:32'), ('296516', '2019-08-10 23:58:18'), ('4795349', '2019-08-11 00:13:07'), ('5594509', '2019-08-11 00:13:30'), ('5594545', '2019-08-11 00:13:46'), ('5594422', '2019-08-11 00:14:58'), ('9218210', '2019-08-11 00:16:01'), ('5594434', '2019-08-11 00:16:20'), ('5428264', '2019-08-11 00:20:49'), ('5594429', '2019-08-11 00:22:34'), ('9021716', '2019-08-11 00:32:29'), ('223134', '2019-08-11 00:38:04')]\n"
     ]
    },
    {
     "data": {
      "text/html": [
       "\n",
       "      <style>\n",
       "      .recom {float: left;\n",
       "              margin: 3px;\n",
       "              text-align: center;}\n",
       "      \n",
       "      .recom_red {float: left;\n",
       "                  margin: 3px;\n",
       "                  text-align: center;\n",
       "                  border: 1px solid #FF0000;}\n",
       "      \n",
       "      .recom_green {float: left;\n",
       "                  margin: 3px;\n",
       "                  text-align: center;\n",
       "                  border: 1px solid #00FF00;}\n",
       "      .recom_blue {float: left;\n",
       "                  margin: 3px;\n",
       "                  text-align: center;\n",
       "                  border: 1px solid #0000FF;}\n",
       "      .description {font-size: 11px}\n",
       "      .price {font-size: 11px}\n",
       "      </style>\n",
       "      <div class=\"recom\"><img src=\"../../../../_product_images_cache/7/5/750734.jpg\" width=\"75\">\n",
       "                   <br/ >\n",
       "                   <span class=\"description\">$42.0 (750734)</span> <br />\n",
       "                   <span class=\"description\">MAIDENFORM...</span> <br /></div><div class=\"recom\"><img src=\"../../../../_product_images_cache/6/5/6596183.jpg\" width=\"75\">\n",
       "                   <br/ >\n",
       "                   <span class=\"description\">$42.0 (6596183)</span> <br />\n",
       "                   <span class=\"description\">Maidenform...</span> <br /></div><div class=\"recom\"><img src=\"../../../../_product_images_cache/5/7/574131.jpg\" width=\"75\">\n",
       "                   <br/ >\n",
       "                   <span class=\"description\">$36.0 (574131)</span> <br />\n",
       "                   <span class=\"description\">MAIDENFORM...</span> <br /></div><div class=\"recom\"><img src=\"../../../../_product_images_cache/6/6/667241.jpg\" width=\"75\">\n",
       "                   <br/ >\n",
       "                   <span class=\"description\">$38.0 (667241)</span> <br />\n",
       "                   <span class=\"description\">MAIDENFORM...</span> <br /></div><div class=\"recom\"><img src=\"../../../../_product_images_cache/5/5/5599871.jpg\" width=\"75\">\n",
       "                   <br/ >\n",
       "                   <span class=\"description\">$42.0 (5599871)</span> <br />\n",
       "                   <span class=\"description\">Maidenform...</span> <br /></div><div class=\"recom\"><img src=\"../../../../_product_images_cache/7/9/790724.jpg\" width=\"75\">\n",
       "                   <br/ >\n",
       "                   <span class=\"description\">$42.0 (790724)</span> <br />\n",
       "                   <span class=\"description\">MAIDENFORM...</span> <br /></div><div class=\"recom\"><img src=\"../../../../_product_images_cache/5/7/5793386.jpg\" width=\"75\">\n",
       "                   <br/ >\n",
       "                   <span class=\"description\">$40.0 (5793386)</span> <br />\n",
       "                   <span class=\"description\">Warner's P...</span> <br /></div><div class=\"recom\"><img src=\"../../../../_product_images_cache/2/9/296516.jpg\" width=\"75\">\n",
       "                   <br/ >\n",
       "                   <span class=\"description\">$20.0 (296516)</span> <br />\n",
       "                   <span class=\"description\">URBAN DECA...</span> <br /></div><div class=\"recom\"><img src=\"../../../../_product_images_cache/4/7/4795349.jpg\" width=\"75\">\n",
       "                   <br/ >\n",
       "                   <span class=\"description\">$47.0 (4795349)</span> <br />\n",
       "                   <span class=\"description\">FIESTA POP...</span> <br /></div><div class=\"recom\"><img src=\"../../../../_product_images_cache/5/5/5594509.jpg\" width=\"75\">\n",
       "                   <br/ >\n",
       "                   <span class=\"description\">$47.0 (5594509)</span> <br />\n",
       "                   <span class=\"description\">Fiesta 3-P...</span> <br /></div><div class=\"recom\"><img src=\"../../../../_product_images_cache/5/5/5594545.jpg\" width=\"75\">\n",
       "                   <br/ >\n",
       "                   <span class=\"description\">$47.0 (5594545)</span> <br />\n",
       "                   <span class=\"description\">Fiesta 3-P...</span> <br /></div><div class=\"recom\"><img src=\"../../../../_product_images_cache/5/5/5594422.jpg\" width=\"75\">\n",
       "                   <br/ >\n",
       "                   <span class=\"description\">$47.0 (5594422)</span> <br />\n",
       "                   <span class=\"description\">Fiesta 3-P...</span> <br /></div><div class=\"recom\"><img src=\"../../../../_product_images_cache/9/2/9218210.jpg\" width=\"75\">\n",
       "                   <br/ >\n",
       "                   <span class=\"description\">$47.0 (9218210)</span> <br />\n",
       "                   <span class=\"description\">Fiesta Mea...</span> <br /></div><div class=\"recom\"><img src=\"../../../../_product_images_cache/5/5/5594434.jpg\" width=\"75\">\n",
       "                   <br/ >\n",
       "                   <span class=\"description\">$47.0 (5594434)</span> <br />\n",
       "                   <span class=\"description\">Fiesta 3-P...</span> <br /></div><div class=\"recom\"><img src=\"../../../../_product_images_cache/5/4/5428264.jpg\" width=\"75\">\n",
       "                   <br/ >\n",
       "                   <span class=\"description\">$47.0 (5428264)</span> <br />\n",
       "                   <span class=\"description\">Fiesta 3-P...</span> <br /></div><div class=\"recom\"><img src=\"../../../../_product_images_cache/5/5/5594429.jpg\" width=\"75\">\n",
       "                   <br/ >\n",
       "                   <span class=\"description\">$47.0 (5594429)</span> <br />\n",
       "                   <span class=\"description\">Fiesta 3-P...</span> <br /></div><div class=\"recom\"><img src=\"../../../../_product_images_cache/9/0/9021716.jpg\" width=\"75\">\n",
       "                   <br/ >\n",
       "                   <span class=\"description\">$125.0 (9021716)</span> <br />\n",
       "                   <span class=\"description\">Martha Ste...</span> <br /></div><div class=\"recom\"><img src=\"../../../../_product_images_cache/2/2/223134.jpg\" width=\"75\">\n",
       "                   <br/ >\n",
       "                   <span class=\"description\">$53.0 (223134)</span> <br />\n",
       "                   <span class=\"description\">THE CELLAR...</span> <br /></div>"
      ]
     },
     "metadata": {},
     "output_type": "display_data"
    },
    {
     "name": "stdout",
     "output_type": "stream",
     "text": [
      "Pur Sequence\n",
      "[('790724', '2019-08-10 23:56:05'), ('574131', '2019-08-10 23:56:05'), ('667241', '2019-08-10 23:56:05'), ('5793386', '2019-08-10 23:56:05'), ('6596183', '2019-08-10 23:56:05'), ('5599871', '2019-08-10 23:56:05'), ('750734', '2019-08-10 23:56:05'), ('296516', '2019-08-11 00:44:13'), ('5594429', '2019-08-11 00:44:13'), ('4795349', '2019-08-11 00:44:13'), ('5594434', '2019-08-11 00:44:13'), ('5594509', '2019-08-11 00:44:13'), ('5594422', '2019-08-11 00:44:13'), ('5594545', '2019-08-11 00:44:13'), ('9218210', '2019-08-11 00:44:13'), ('9021716', '2019-08-11 00:44:13'), ('5428264', '2019-08-11 00:44:13'), ('223134', '2019-08-11 00:44:13')]\n"
     ]
    },
    {
     "data": {
      "text/html": [
       "\n",
       "      <style>\n",
       "      .recom {float: left;\n",
       "              margin: 3px;\n",
       "              text-align: center;}\n",
       "      \n",
       "      .recom_red {float: left;\n",
       "                  margin: 3px;\n",
       "                  text-align: center;\n",
       "                  border: 1px solid #FF0000;}\n",
       "      \n",
       "      .recom_green {float: left;\n",
       "                  margin: 3px;\n",
       "                  text-align: center;\n",
       "                  border: 1px solid #00FF00;}\n",
       "      .recom_blue {float: left;\n",
       "                  margin: 3px;\n",
       "                  text-align: center;\n",
       "                  border: 1px solid #0000FF;}\n",
       "      .description {font-size: 11px}\n",
       "      .price {font-size: 11px}\n",
       "      </style>\n",
       "      <div class=\"recom\"><img src=\"../../../../_product_images_cache/7/9/790724.jpg\" width=\"75\">\n",
       "                   <br/ >\n",
       "                   <span class=\"description\">$42.0 (790724)</span> <br />\n",
       "                   <span class=\"description\">MAIDENFORM...</span> <br /></div><div class=\"recom\"><img src=\"../../../../_product_images_cache/5/7/574131.jpg\" width=\"75\">\n",
       "                   <br/ >\n",
       "                   <span class=\"description\">$36.0 (574131)</span> <br />\n",
       "                   <span class=\"description\">MAIDENFORM...</span> <br /></div><div class=\"recom\"><img src=\"../../../../_product_images_cache/6/6/667241.jpg\" width=\"75\">\n",
       "                   <br/ >\n",
       "                   <span class=\"description\">$38.0 (667241)</span> <br />\n",
       "                   <span class=\"description\">MAIDENFORM...</span> <br /></div><div class=\"recom\"><img src=\"../../../../_product_images_cache/5/7/5793386.jpg\" width=\"75\">\n",
       "                   <br/ >\n",
       "                   <span class=\"description\">$40.0 (5793386)</span> <br />\n",
       "                   <span class=\"description\">Warner's P...</span> <br /></div><div class=\"recom\"><img src=\"../../../../_product_images_cache/6/5/6596183.jpg\" width=\"75\">\n",
       "                   <br/ >\n",
       "                   <span class=\"description\">$42.0 (6596183)</span> <br />\n",
       "                   <span class=\"description\">Maidenform...</span> <br /></div><div class=\"recom\"><img src=\"../../../../_product_images_cache/5/5/5599871.jpg\" width=\"75\">\n",
       "                   <br/ >\n",
       "                   <span class=\"description\">$42.0 (5599871)</span> <br />\n",
       "                   <span class=\"description\">Maidenform...</span> <br /></div><div class=\"recom\"><img src=\"../../../../_product_images_cache/7/5/750734.jpg\" width=\"75\">\n",
       "                   <br/ >\n",
       "                   <span class=\"description\">$42.0 (750734)</span> <br />\n",
       "                   <span class=\"description\">MAIDENFORM...</span> <br /></div><div class=\"recom\"><img src=\"../../../../_product_images_cache/2/9/296516.jpg\" width=\"75\">\n",
       "                   <br/ >\n",
       "                   <span class=\"description\">$20.0 (296516)</span> <br />\n",
       "                   <span class=\"description\">URBAN DECA...</span> <br /></div><div class=\"recom\"><img src=\"../../../../_product_images_cache/5/5/5594429.jpg\" width=\"75\">\n",
       "                   <br/ >\n",
       "                   <span class=\"description\">$47.0 (5594429)</span> <br />\n",
       "                   <span class=\"description\">Fiesta 3-P...</span> <br /></div><div class=\"recom\"><img src=\"../../../../_product_images_cache/4/7/4795349.jpg\" width=\"75\">\n",
       "                   <br/ >\n",
       "                   <span class=\"description\">$47.0 (4795349)</span> <br />\n",
       "                   <span class=\"description\">FIESTA POP...</span> <br /></div><div class=\"recom\"><img src=\"../../../../_product_images_cache/5/5/5594434.jpg\" width=\"75\">\n",
       "                   <br/ >\n",
       "                   <span class=\"description\">$47.0 (5594434)</span> <br />\n",
       "                   <span class=\"description\">Fiesta 3-P...</span> <br /></div><div class=\"recom\"><img src=\"../../../../_product_images_cache/5/5/5594509.jpg\" width=\"75\">\n",
       "                   <br/ >\n",
       "                   <span class=\"description\">$47.0 (5594509)</span> <br />\n",
       "                   <span class=\"description\">Fiesta 3-P...</span> <br /></div><div class=\"recom\"><img src=\"../../../../_product_images_cache/5/5/5594422.jpg\" width=\"75\">\n",
       "                   <br/ >\n",
       "                   <span class=\"description\">$47.0 (5594422)</span> <br />\n",
       "                   <span class=\"description\">Fiesta 3-P...</span> <br /></div><div class=\"recom\"><img src=\"../../../../_product_images_cache/5/5/5594545.jpg\" width=\"75\">\n",
       "                   <br/ >\n",
       "                   <span class=\"description\">$47.0 (5594545)</span> <br />\n",
       "                   <span class=\"description\">Fiesta 3-P...</span> <br /></div><div class=\"recom\"><img src=\"../../../../_product_images_cache/9/2/9218210.jpg\" width=\"75\">\n",
       "                   <br/ >\n",
       "                   <span class=\"description\">$47.0 (9218210)</span> <br />\n",
       "                   <span class=\"description\">Fiesta Mea...</span> <br /></div><div class=\"recom\"><img src=\"../../../../_product_images_cache/9/0/9021716.jpg\" width=\"75\">\n",
       "                   <br/ >\n",
       "                   <span class=\"description\">$125.0 (9021716)</span> <br />\n",
       "                   <span class=\"description\">Martha Ste...</span> <br /></div><div class=\"recom\"><img src=\"../../../../_product_images_cache/5/4/5428264.jpg\" width=\"75\">\n",
       "                   <br/ >\n",
       "                   <span class=\"description\">$47.0 (5428264)</span> <br />\n",
       "                   <span class=\"description\">Fiesta 3-P...</span> <br /></div><div class=\"recom\"><img src=\"../../../../_product_images_cache/2/2/223134.jpg\" width=\"75\">\n",
       "                   <br/ >\n",
       "                   <span class=\"description\">$53.0 (223134)</span> <br />\n",
       "                   <span class=\"description\">THE CELLAR...</span> <br /></div>"
      ]
     },
     "metadata": {},
     "output_type": "display_data"
    }
   ],
   "source": [
    "show_sequences('41872816')"
   ]
  },
  {
   "cell_type": "code",
   "execution_count": 6,
   "metadata": {},
   "outputs": [
    {
     "data": {
      "text/plain": [
       "[('user_indiv_id', [('itemid', 'evnt_ts')]),\n",
       " ('-899320069214479257',\n",
       "  [('75190', '2019-09-29 20:55:39'),\n",
       "   ('75190', '2019-09-29 20:55:39'),\n",
       "   ('2236949', '2019-09-29 20:55:39')]),\n",
       " ('1022976420', [('237110', '2019-07-24 17:38:23')]),\n",
       " ('331913352',\n",
       "  [('286805', '2019-07-22 04:24:01'),\n",
       "   ('286802', '2019-07-22 04:24:00'),\n",
       "   ('1996291', '2019-07-22 04:24:01'),\n",
       "   ('286803', '2019-08-02 13:31:12')]),\n",
       " ('198808388',\n",
       "  [('296516', '2019-10-08 18:54:02'),\n",
       "   ('2513452', '2019-07-06 19:47:19'),\n",
       "   ('2226621', '2019-10-08 18:54:02'),\n",
       "   ('5470096', '2019-10-08 18:54:02'),\n",
       "   ('1205765', '2019-10-08 18:54:02'),\n",
       "   ('1146116', '2019-10-08 18:54:02'),\n",
       "   ('5520150', '2019-09-22 00:40:18'),\n",
       "   ('2514421', '2019-07-06 19:47:19'),\n",
       "   ('5461410', '2019-10-08 18:54:02'),\n",
       "   ('9505285', '2019-10-08 18:54:02'),\n",
       "   ('9502650', '2019-10-08 18:54:02'),\n",
       "   ('9271126', '2019-10-08 18:54:02'),\n",
       "   ('10083309', '2019-10-08 18:54:02'),\n",
       "   ('338345', '2019-10-08 18:54:02'),\n",
       "   ('9977612', '2019-10-08 18:54:02'),\n",
       "   ('9395736', '2019-10-08 18:54:02'),\n",
       "   ('9519113', '2019-10-08 18:54:02'),\n",
       "   ('787094', '2019-10-13 19:59:02')]),\n",
       " ('142350418',\n",
       "  [('296516', '2019-08-25 18:58:57'),\n",
       "   ('253779', '2019-10-09 19:57:13'),\n",
       "   ('296516', '2019-08-25 00:57:33'),\n",
       "   ('6373604', '2019-10-15 02:30:40'),\n",
       "   ('258770', '2019-10-09 19:57:13'),\n",
       "   ('6373604', '2019-10-14 18:07:55'),\n",
       "   ('9510448', '2019-08-28 02:25:03'),\n",
       "   ('9338585', '2019-10-09 19:57:13'),\n",
       "   ('9595679', '2019-08-29 21:27:14'),\n",
       "   ('4436825', '2019-08-28 02:25:03'),\n",
       "   ('683245', '2019-09-02 04:10:09'),\n",
       "   ('116214', '2019-10-09 19:57:13'),\n",
       "   ('2127504', '2019-08-25 00:57:33'),\n",
       "   ('6283428', '2019-08-28 02:25:03'),\n",
       "   ('683245', '2019-08-25 18:58:57'),\n",
       "   ('75134', '2019-08-28 02:25:03'),\n",
       "   ('153337', '2019-08-02 01:52:18'),\n",
       "   ('2840026', '2019-10-14 18:07:55'),\n",
       "   ('296516', '2019-09-02 04:10:09'),\n",
       "   ('2840102', '2019-10-14 18:07:55'),\n",
       "   ('683245', '2019-08-25 00:57:33')]),\n",
       " ('1048185635',\n",
       "  [('296516', '2019-07-16 22:14:29'), ('2678389', '2019-07-20 23:18:11')]),\n",
       " ('119557527',\n",
       "  [('296516', '2019-08-25 22:42:56'),\n",
       "   ('512149', '2019-06-25 20:15:55'),\n",
       "   ('4372725', '2019-07-10 04:09:30'),\n",
       "   ('8226434', '2019-08-25 22:42:56'),\n",
       "   ('7370471', '2019-09-06 21:59:05'),\n",
       "   ('2460364', '2019-10-02 23:14:22')]),\n",
       " ('1040490744',\n",
       "  [('296516', '2019-07-01 19:40:48'), ('2431017', '2019-07-25 16:22:48')]),\n",
       " ('41872816',\n",
       "  [('296516', '2019-08-11 00:44:13'),\n",
       "   ('5594429', '2019-08-11 00:44:13'),\n",
       "   ('4795349', '2019-08-11 00:44:13'),\n",
       "   ('790724', '2019-08-10 23:56:05'),\n",
       "   ('5594434', '2019-08-11 00:44:13'),\n",
       "   ('574131', '2019-08-10 23:56:05'),\n",
       "   ('5594509', '2019-08-11 00:44:13'),\n",
       "   ('667241', '2019-08-10 23:56:05'),\n",
       "   ('5594422', '2019-08-11 00:44:13'),\n",
       "   ('5594545', '2019-08-11 00:44:13'),\n",
       "   ('9218210', '2019-08-11 00:44:13'),\n",
       "   ('5793386', '2019-08-10 23:56:05'),\n",
       "   ('6596183', '2019-08-10 23:56:05'),\n",
       "   ('9021716', '2019-08-11 00:44:13'),\n",
       "   ('5428264', '2019-08-11 00:44:13'),\n",
       "   ('223134', '2019-08-11 00:44:13'),\n",
       "   ('5599871', '2019-08-10 23:56:05'),\n",
       "   ('750734', '2019-08-10 23:56:05')])]"
      ]
     },
     "execution_count": 6,
     "metadata": {},
     "output_type": "execute_result"
    }
   ],
   "source": [
    "a_few=list(output_dict.items())[:1000]\n",
    "a_few[:10]"
   ]
  },
  {
   "cell_type": "code",
   "execution_count": 83,
   "metadata": {},
   "outputs": [
    {
     "name": "stdout",
     "output_type": "stream",
     "text": [
      "375938096\n"
     ]
    },
    {
     "data": {
      "text/plain": [
       "[['user_indiv_id', 'itemid', 'evnt_ts', 'sessionid'],\n",
       " ['161322486',\n",
       "  '1806',\n",
       "  '2019-06-26 17:46:22',\n",
       "  '57133676298705600281061543070534137125503'],\n",
       " ['123152321',\n",
       "  '64887',\n",
       "  '2019-08-04 11:05:37',\n",
       "  '756201711834091504050373584764359394489975620171183409150405037358476435939448']]"
      ]
     },
     "execution_count": 83,
     "metadata": {},
     "output_type": "execute_result"
    }
   ],
   "source": [
    "view_rows = get_csv_rows('pros_prod_vw_csv_120_pros_product_view.csv',numcols=4)\n",
    "print(len(view_rows))\n",
    "view_rows[:3]"
   ]
  },
  {
   "cell_type": "code",
   "execution_count": null,
   "metadata": {},
   "outputs": [],
   "source": [
    "view_cols = view_rows[0]\n",
    "view_rows = pd.DataFrame(view_rows)\n",
    "view_rows.columns = view_cols\n",
    "view_rows.head()"
   ]
  },
  {
   "cell_type": "code",
   "execution_count": 1,
   "metadata": {},
   "outputs": [
    {
     "ename": "NameError",
     "evalue": "name 'view_rows' is not defined",
     "output_type": "error",
     "traceback": [
      "\u001b[0;31m---------------------------------------------------------------------------\u001b[0m",
      "\u001b[0;31mNameError\u001b[0m                                 Traceback (most recent call last)",
      "\u001b[0;32m<ipython-input-1-1cca3a723714>\u001b[0m in \u001b[0;36m<module>\u001b[0;34m()\u001b[0m\n\u001b[0;32m----> 1\u001b[0;31m \u001b[0mview_rows\u001b[0m\u001b[0;34m[\u001b[0m\u001b[0;34m:\u001b[0m\u001b[0;36m3\u001b[0m\u001b[0;34m]\u001b[0m\u001b[0;34m\u001b[0m\u001b[0m\n\u001b[0m",
      "\u001b[0;31mNameError\u001b[0m: name 'view_rows' is not defined"
     ]
    }
   ],
   "source": [
    "view_rows[:3]"
   ]
  },
  {
   "cell_type": "code",
   "execution_count": 65,
   "metadata": {},
   "outputs": [
    {
     "name": "stdout",
     "output_type": "stream",
     "text": [
      "(33046185, 4)\n"
     ]
    },
    {
     "data": {
      "text/html": [
       "<div>\n",
       "<style scoped>\n",
       "    .dataframe tbody tr th:only-of-type {\n",
       "        vertical-align: middle;\n",
       "    }\n",
       "\n",
       "    .dataframe tbody tr th {\n",
       "        vertical-align: top;\n",
       "    }\n",
       "\n",
       "    .dataframe thead th {\n",
       "        text-align: right;\n",
       "    }\n",
       "</style>\n",
       "<table border=\"1\" class=\"dataframe\">\n",
       "  <thead>\n",
       "    <tr style=\"text-align: right;\">\n",
       "      <th></th>\n",
       "      <th>user_indiv_id</th>\n",
       "      <th>itemid</th>\n",
       "      <th>evnt_ts</th>\n",
       "      <th>sessionid</th>\n",
       "    </tr>\n",
       "  </thead>\n",
       "  <tbody>\n",
       "    <tr>\n",
       "      <th>0</th>\n",
       "      <td>23366872</td>\n",
       "      <td>237110</td>\n",
       "      <td>2019-08-25 12:10:03</td>\n",
       "      <td>9121353398468207352992220960641855277399121353...</td>\n",
       "    </tr>\n",
       "    <tr>\n",
       "      <th>1</th>\n",
       "      <td>167404204</td>\n",
       "      <td>106344</td>\n",
       "      <td>2019-10-17 03:31:25</td>\n",
       "      <td>8624261677556333870120113964743851738686242616...</td>\n",
       "    </tr>\n",
       "    <tr>\n",
       "      <th>2</th>\n",
       "      <td>1026487863</td>\n",
       "      <td>106344</td>\n",
       "      <td>2019-09-21 19:24:38</td>\n",
       "      <td>3262225133254954180461170530068461626474326222...</td>\n",
       "    </tr>\n",
       "    <tr>\n",
       "      <th>3</th>\n",
       "      <td>78588651</td>\n",
       "      <td>106344</td>\n",
       "      <td>2019-09-15 13:32:52</td>\n",
       "      <td>3342735317420968053691753015399636163211334273...</td>\n",
       "    </tr>\n",
       "    <tr>\n",
       "      <th>4</th>\n",
       "      <td>150977898</td>\n",
       "      <td>401011</td>\n",
       "      <td>2019-10-06 16:35:37</td>\n",
       "      <td>1696738881285883358215043740839664615810169673...</td>\n",
       "    </tr>\n",
       "  </tbody>\n",
       "</table>\n",
       "</div>"
      ],
      "text/plain": [
       "   user_indiv_id  itemid              evnt_ts  \\\n",
       "0       23366872  237110  2019-08-25 12:10:03   \n",
       "1      167404204  106344  2019-10-17 03:31:25   \n",
       "2     1026487863  106344  2019-09-21 19:24:38   \n",
       "3       78588651  106344  2019-09-15 13:32:52   \n",
       "4      150977898  401011  2019-10-06 16:35:37   \n",
       "\n",
       "                                           sessionid  \n",
       "0  9121353398468207352992220960641855277399121353...  \n",
       "1  8624261677556333870120113964743851738686242616...  \n",
       "2  3262225133254954180461170530068461626474326222...  \n",
       "3  3342735317420968053691753015399636163211334273...  \n",
       "4  1696738881285883358215043740839664615810169673...  "
      ]
     },
     "execution_count": 65,
     "metadata": {},
     "output_type": "execute_result"
    }
   ],
   "source": [
    "#test = pd.read_csv('results-20191022-152105.csv')\n",
    "test = pd.read_csv('pros_cart_item_addn_csv_pros_cart_item_addition.csv',sep='\\t')\n",
    "print(test.shape)\n",
    "test.head()"
   ]
  },
  {
   "cell_type": "code",
   "execution_count": 68,
   "metadata": {},
   "outputs": [
    {
     "data": {
      "text/plain": [
       "('2019-08-20 00:00:00', '2019-10-18 23:59:59')"
      ]
     },
     "execution_count": 68,
     "metadata": {},
     "output_type": "execute_result"
    }
   ],
   "source": [
    "min(test['evnt_ts']), max(test['evnt_ts'])"
   ]
  },
  {
   "cell_type": "code",
   "execution_count": 69,
   "metadata": {},
   "outputs": [
    {
     "name": "stdout",
     "output_type": "stream",
     "text": [
      "<class 'pandas.core.frame.DataFrame'>\n",
      "RangeIndex: 33046185 entries, 0 to 33046184\n",
      "Data columns (total 4 columns):\n",
      "user_indiv_id    int64\n",
      "itemid           int64\n",
      "evnt_ts          object\n",
      "sessionid        object\n",
      "dtypes: int64(2), object(2)\n",
      "memory usage: 1008.5+ MB\n"
     ]
    }
   ],
   "source": [
    "test.info()"
   ]
  },
  {
   "cell_type": "markdown",
   "metadata": {},
   "source": [
    "### To create a sequence of events we must:\n",
    "* Group events by \"vstr_id\" or \"user_indiv_id\"\n",
    "* Then sort by \"evnt_ts\""
   ]
  },
  {
   "cell_type": "code",
   "execution_count": 70,
   "metadata": {},
   "outputs": [
    {
     "data": {
      "text/html": [
       "<div>\n",
       "<style scoped>\n",
       "    .dataframe tbody tr th:only-of-type {\n",
       "        vertical-align: middle;\n",
       "    }\n",
       "\n",
       "    .dataframe tbody tr th {\n",
       "        vertical-align: top;\n",
       "    }\n",
       "\n",
       "    .dataframe thead th {\n",
       "        text-align: right;\n",
       "    }\n",
       "</style>\n",
       "<table border=\"1\" class=\"dataframe\">\n",
       "  <thead>\n",
       "    <tr style=\"text-align: right;\">\n",
       "      <th></th>\n",
       "      <th>user_indiv_id</th>\n",
       "      <th>itemid</th>\n",
       "      <th>evnt_ts</th>\n",
       "      <th>sessionid</th>\n",
       "    </tr>\n",
       "  </thead>\n",
       "  <tbody>\n",
       "    <tr>\n",
       "      <th>13247240</th>\n",
       "      <td>112338792</td>\n",
       "      <td>9996280</td>\n",
       "      <td>2019-08-20 00:00:00</td>\n",
       "      <td>3297094789467973269691753025063303248617332970...</td>\n",
       "    </tr>\n",
       "    <tr>\n",
       "      <th>31075855</th>\n",
       "      <td>79323285</td>\n",
       "      <td>4648754</td>\n",
       "      <td>2019-08-20 00:00:01</td>\n",
       "      <td>8785495632687523678137183020366777391714187854...</td>\n",
       "    </tr>\n",
       "    <tr>\n",
       "      <th>18355531</th>\n",
       "      <td>120991693</td>\n",
       "      <td>1356233</td>\n",
       "      <td>2019-08-20 00:00:01</td>\n",
       "      <td>2099095209120684436434554810500908238517320990...</td>\n",
       "    </tr>\n",
       "    <tr>\n",
       "      <th>25503263</th>\n",
       "      <td>259798304</td>\n",
       "      <td>8315784</td>\n",
       "      <td>2019-08-20 00:00:01</td>\n",
       "      <td>9148496090015697266778932720021728587011914849...</td>\n",
       "    </tr>\n",
       "    <tr>\n",
       "      <th>9099149</th>\n",
       "      <td>44351390</td>\n",
       "      <td>9618868</td>\n",
       "      <td>2019-08-20 00:00:01</td>\n",
       "      <td>3328369169359421189691753027479225712573328369...</td>\n",
       "    </tr>\n",
       "  </tbody>\n",
       "</table>\n",
       "</div>"
      ],
      "text/plain": [
       "          user_indiv_id   itemid              evnt_ts  \\\n",
       "13247240      112338792  9996280  2019-08-20 00:00:00   \n",
       "31075855       79323285  4648754  2019-08-20 00:00:01   \n",
       "18355531      120991693  1356233  2019-08-20 00:00:01   \n",
       "25503263      259798304  8315784  2019-08-20 00:00:01   \n",
       "9099149        44351390  9618868  2019-08-20 00:00:01   \n",
       "\n",
       "                                                  sessionid  \n",
       "13247240  3297094789467973269691753025063303248617332970...  \n",
       "31075855  8785495632687523678137183020366777391714187854...  \n",
       "18355531  2099095209120684436434554810500908238517320990...  \n",
       "25503263  9148496090015697266778932720021728587011914849...  \n",
       "9099149   3328369169359421189691753027479225712573328369...  "
      ]
     },
     "execution_count": 70,
     "metadata": {},
     "output_type": "execute_result"
    }
   ],
   "source": [
    "sort1 = test.sort_values('evnt_ts')\n",
    "sort1.head()"
   ]
  },
  {
   "cell_type": "code",
   "execution_count": 71,
   "metadata": {},
   "outputs": [
    {
     "data": {
      "text/html": [
       "<div>\n",
       "<style scoped>\n",
       "    .dataframe tbody tr th:only-of-type {\n",
       "        vertical-align: middle;\n",
       "    }\n",
       "\n",
       "    .dataframe tbody tr th {\n",
       "        vertical-align: top;\n",
       "    }\n",
       "\n",
       "    .dataframe thead th {\n",
       "        text-align: right;\n",
       "    }\n",
       "</style>\n",
       "<table border=\"1\" class=\"dataframe\">\n",
       "  <thead>\n",
       "    <tr style=\"text-align: right;\">\n",
       "      <th></th>\n",
       "      <th>user_indiv_id</th>\n",
       "      <th>itemid</th>\n",
       "      <th>evnt_ts</th>\n",
       "      <th>sessionid</th>\n",
       "    </tr>\n",
       "  </thead>\n",
       "  <tbody>\n",
       "    <tr>\n",
       "      <th>13247240</th>\n",
       "      <td>112338792</td>\n",
       "      <td>9996280</td>\n",
       "      <td>2019-08-20 00:00:00</td>\n",
       "      <td>3297094789467973269691753025063303248617332970...</td>\n",
       "    </tr>\n",
       "    <tr>\n",
       "      <th>31075855</th>\n",
       "      <td>79323285</td>\n",
       "      <td>4648754</td>\n",
       "      <td>2019-08-20 00:00:01</td>\n",
       "      <td>8785495632687523678137183020366777391714187854...</td>\n",
       "    </tr>\n",
       "    <tr>\n",
       "      <th>18355531</th>\n",
       "      <td>120991693</td>\n",
       "      <td>1356233</td>\n",
       "      <td>2019-08-20 00:00:01</td>\n",
       "      <td>2099095209120684436434554810500908238517320990...</td>\n",
       "    </tr>\n",
       "    <tr>\n",
       "      <th>25503263</th>\n",
       "      <td>259798304</td>\n",
       "      <td>8315784</td>\n",
       "      <td>2019-08-20 00:00:01</td>\n",
       "      <td>9148496090015697266778932720021728587011914849...</td>\n",
       "    </tr>\n",
       "    <tr>\n",
       "      <th>9099149</th>\n",
       "      <td>44351390</td>\n",
       "      <td>9618868</td>\n",
       "      <td>2019-08-20 00:00:01</td>\n",
       "      <td>3328369169359421189691753027479225712573328369...</td>\n",
       "    </tr>\n",
       "  </tbody>\n",
       "</table>\n",
       "</div>"
      ],
      "text/plain": [
       "          user_indiv_id   itemid             evnt_ts  \\\n",
       "13247240      112338792  9996280 2019-08-20 00:00:00   \n",
       "31075855       79323285  4648754 2019-08-20 00:00:01   \n",
       "18355531      120991693  1356233 2019-08-20 00:00:01   \n",
       "25503263      259798304  8315784 2019-08-20 00:00:01   \n",
       "9099149        44351390  9618868 2019-08-20 00:00:01   \n",
       "\n",
       "                                                  sessionid  \n",
       "13247240  3297094789467973269691753025063303248617332970...  \n",
       "31075855  8785495632687523678137183020366777391714187854...  \n",
       "18355531  2099095209120684436434554810500908238517320990...  \n",
       "25503263  9148496090015697266778932720021728587011914849...  \n",
       "9099149   3328369169359421189691753027479225712573328369...  "
      ]
     },
     "execution_count": 71,
     "metadata": {},
     "output_type": "execute_result"
    }
   ],
   "source": [
    "sort2 = test.copy()\n",
    "sort2['evnt_ts'] = pd.to_datetime(sort2['evnt_ts'])\n",
    "sort2 = sort2.sort_values('evnt_ts')\n",
    "sort2.head()"
   ]
  },
  {
   "cell_type": "raw",
   "metadata": {},
   "source": [
    "#sort2.sort_values(['evnt_ts']).groupby('vstr_id').head()\n",
    "grouptest1 = sort2.sort_values(['evnt_ts']).groupby('user_indiv_id')\n",
    "grouptest1.head()"
   ]
  },
  {
   "cell_type": "code",
   "execution_count": 73,
   "metadata": {},
   "outputs": [
    {
     "data": {
      "text/html": [
       "<div>\n",
       "<style scoped>\n",
       "    .dataframe tbody tr th:only-of-type {\n",
       "        vertical-align: middle;\n",
       "    }\n",
       "\n",
       "    .dataframe tbody tr th {\n",
       "        vertical-align: top;\n",
       "    }\n",
       "\n",
       "    .dataframe thead th {\n",
       "        text-align: right;\n",
       "    }\n",
       "</style>\n",
       "<table border=\"1\" class=\"dataframe\">\n",
       "  <thead>\n",
       "    <tr style=\"text-align: right;\">\n",
       "      <th></th>\n",
       "      <th>user_indiv_id</th>\n",
       "      <th>itemid</th>\n",
       "      <th>evnt_ts</th>\n",
       "      <th>sessionid</th>\n",
       "    </tr>\n",
       "  </thead>\n",
       "  <tbody>\n",
       "    <tr>\n",
       "      <th>0</th>\n",
       "      <td>-9223346256872843933</td>\n",
       "      <td>404141</td>\n",
       "      <td>2019-09-15 02:57:21</td>\n",
       "      <td>3542632177959033695706765902810329180713542632...</td>\n",
       "    </tr>\n",
       "    <tr>\n",
       "      <th>1</th>\n",
       "      <td>-9223346256872843933</td>\n",
       "      <td>585676</td>\n",
       "      <td>2019-09-18 22:14:21</td>\n",
       "      <td>3542632177959033695706765902810329180723542632...</td>\n",
       "    </tr>\n",
       "    <tr>\n",
       "      <th>2</th>\n",
       "      <td>-9223346256872843933</td>\n",
       "      <td>10216247</td>\n",
       "      <td>2019-09-27 22:37:25</td>\n",
       "      <td>3542632177959033695706765902810329180733542632...</td>\n",
       "    </tr>\n",
       "    <tr>\n",
       "      <th>3</th>\n",
       "      <td>-9223346256872843933</td>\n",
       "      <td>8336650</td>\n",
       "      <td>2019-09-27 22:39:03</td>\n",
       "      <td>3542632177959033695706765902810329180733542632...</td>\n",
       "    </tr>\n",
       "    <tr>\n",
       "      <th>4</th>\n",
       "      <td>-9223346256872843933</td>\n",
       "      <td>7975690</td>\n",
       "      <td>2019-09-27 22:40:52</td>\n",
       "      <td>3542632177959033695706765902810329180733542632...</td>\n",
       "    </tr>\n",
       "  </tbody>\n",
       "</table>\n",
       "</div>"
      ],
      "text/plain": [
       "         user_indiv_id    itemid             evnt_ts  \\\n",
       "0 -9223346256872843933    404141 2019-09-15 02:57:21   \n",
       "1 -9223346256872843933    585676 2019-09-18 22:14:21   \n",
       "2 -9223346256872843933  10216247 2019-09-27 22:37:25   \n",
       "3 -9223346256872843933   8336650 2019-09-27 22:39:03   \n",
       "4 -9223346256872843933   7975690 2019-09-27 22:40:52   \n",
       "\n",
       "                                           sessionid  \n",
       "0  3542632177959033695706765902810329180713542632...  \n",
       "1  3542632177959033695706765902810329180723542632...  \n",
       "2  3542632177959033695706765902810329180733542632...  \n",
       "3  3542632177959033695706765902810329180733542632...  \n",
       "4  3542632177959033695706765902810329180733542632...  "
      ]
     },
     "execution_count": 73,
     "metadata": {},
     "output_type": "execute_result"
    }
   ],
   "source": [
    "#sort2.groupby([\"vstr_id\"]).apply(lambda x: x.sort_values([\"evnt_ts\"])).reset_index(drop=True)\n",
    "grouptest2 = sort2.groupby([\"user_indiv_id\"]).apply(lambda x: x.sort_values([\"evnt_ts\"])).reset_index(drop=True)\n",
    "grouptest2.head()"
   ]
  },
  {
   "cell_type": "code",
   "execution_count": 75,
   "metadata": {},
   "outputs": [
    {
     "data": {
      "text/html": [
       "<div>\n",
       "<style scoped>\n",
       "    .dataframe tbody tr th:only-of-type {\n",
       "        vertical-align: middle;\n",
       "    }\n",
       "\n",
       "    .dataframe tbody tr th {\n",
       "        vertical-align: top;\n",
       "    }\n",
       "\n",
       "    .dataframe thead th {\n",
       "        text-align: right;\n",
       "    }\n",
       "</style>\n",
       "<table border=\"1\" class=\"dataframe\">\n",
       "  <thead>\n",
       "    <tr style=\"text-align: right;\">\n",
       "      <th></th>\n",
       "      <th>user_indiv_id</th>\n",
       "      <th>itemid</th>\n",
       "      <th>evnt_ts</th>\n",
       "      <th>sessionid</th>\n",
       "    </tr>\n",
       "  </thead>\n",
       "  <tbody>\n",
       "    <tr>\n",
       "      <th>0</th>\n",
       "      <td>-9223346256872843933</td>\n",
       "      <td>404141</td>\n",
       "      <td>2019-09-15 02:57:21</td>\n",
       "      <td>3542632177959033695706765902810329180713542632...</td>\n",
       "    </tr>\n",
       "    <tr>\n",
       "      <th>1</th>\n",
       "      <td>-9223346256872843933</td>\n",
       "      <td>585676</td>\n",
       "      <td>2019-09-18 22:14:21</td>\n",
       "      <td>3542632177959033695706765902810329180723542632...</td>\n",
       "    </tr>\n",
       "    <tr>\n",
       "      <th>2</th>\n",
       "      <td>-9223346256872843933</td>\n",
       "      <td>10216247</td>\n",
       "      <td>2019-09-27 22:37:25</td>\n",
       "      <td>3542632177959033695706765902810329180733542632...</td>\n",
       "    </tr>\n",
       "    <tr>\n",
       "      <th>3</th>\n",
       "      <td>-9223346256872843933</td>\n",
       "      <td>8336650</td>\n",
       "      <td>2019-09-27 22:39:03</td>\n",
       "      <td>3542632177959033695706765902810329180733542632...</td>\n",
       "    </tr>\n",
       "    <tr>\n",
       "      <th>4</th>\n",
       "      <td>-9223346256872843933</td>\n",
       "      <td>7975690</td>\n",
       "      <td>2019-09-27 22:40:52</td>\n",
       "      <td>3542632177959033695706765902810329180733542632...</td>\n",
       "    </tr>\n",
       "  </tbody>\n",
       "</table>\n",
       "</div>"
      ],
      "text/plain": [
       "         user_indiv_id    itemid             evnt_ts  \\\n",
       "0 -9223346256872843933    404141 2019-09-15 02:57:21   \n",
       "1 -9223346256872843933    585676 2019-09-18 22:14:21   \n",
       "2 -9223346256872843933  10216247 2019-09-27 22:37:25   \n",
       "3 -9223346256872843933   8336650 2019-09-27 22:39:03   \n",
       "4 -9223346256872843933   7975690 2019-09-27 22:40:52   \n",
       "\n",
       "                                           sessionid  \n",
       "0  3542632177959033695706765902810329180713542632...  \n",
       "1  3542632177959033695706765902810329180723542632...  \n",
       "2  3542632177959033695706765902810329180733542632...  \n",
       "3  3542632177959033695706765902810329180733542632...  \n",
       "4  3542632177959033695706765902810329180733542632...  "
      ]
     },
     "execution_count": 75,
     "metadata": {},
     "output_type": "execute_result"
    }
   ],
   "source": [
    "user1 = grouptest2.query('user_indiv_id == -9223346256872843933')\n",
    "user1"
   ]
  },
  {
   "cell_type": "code",
   "execution_count": 78,
   "metadata": {},
   "outputs": [
    {
     "data": {
      "text/html": [
       "\n",
       "      <style>\n",
       "      .recom {float: left;\n",
       "              margin: 3px;\n",
       "              text-align: center;}\n",
       "      \n",
       "      .recom_red {float: left;\n",
       "                  margin: 3px;\n",
       "                  text-align: center;\n",
       "                  border: 1px solid #FF0000;}\n",
       "      \n",
       "      .recom_green {float: left;\n",
       "                  margin: 3px;\n",
       "                  text-align: center;\n",
       "                  border: 1px solid #00FF00;}\n",
       "      .recom_blue {float: left;\n",
       "                  margin: 3px;\n",
       "                  text-align: center;\n",
       "                  border: 1px solid #0000FF;}\n",
       "      .description {font-size: 11px}\n",
       "      .price {font-size: 11px}\n",
       "      </style>\n",
       "      <div class=\"recom\"><img src=\"../../../../_product_images_cache/4/0/404141.jpg\" width=\"75\">\n",
       "                   <br/ >\n",
       "                   <span class=\"description\">$60.0 (404141)</span> <br />\n",
       "                   <span class=\"description\">THOMSON PO...</span> <br /></div><div class=\"recom\"><img src=\"../../../../_product_images_cache/5/8/585676.jpg\" width=\"75\">\n",
       "                   <br/ >\n",
       "                   <span class=\"description\">$20.0 (585676)</span> <br />\n",
       "                   <span class=\"description\">GODINGER C...</span> <br /></div><div class=\"recom\"><img src=\"../../../../_product_images_cache/1/0/10216247.jpg\" width=\"75\">\n",
       "                   <br/ >\n",
       "                   <span class=\"description\">$? (10216247)</span> <br />\n",
       "                   <span class=\"description\">?...</span> <br /></div><div class=\"recom\"><img src=\"../../../../_product_images_cache/8/3/8336650.jpg\" width=\"75\">\n",
       "                   <br/ >\n",
       "                   <span class=\"description\">$36.5 (8336650)</span> <br />\n",
       "                   <span class=\"description\">Karen Scot...</span> <br /></div><div class=\"recom\"><img src=\"../../../../_product_images_cache/7/9/7975690.jpg\" width=\"75\">\n",
       "                   <br/ >\n",
       "                   <span class=\"description\">$64.5 (7975690)</span> <br />\n",
       "                   <span class=\"description\">Charter Cl...</span> <br /></div>"
      ]
     },
     "metadata": {},
     "output_type": "display_data"
    }
   ],
   "source": [
    "viz.display_recom_panel([str(x) for x in user1['itemid']])"
   ]
  },
  {
   "cell_type": "code",
   "execution_count": 80,
   "metadata": {},
   "outputs": [
    {
     "data": {
      "text/plain": [
       "(33046185, 4)"
      ]
     },
     "execution_count": 80,
     "metadata": {},
     "output_type": "execute_result"
    }
   ],
   "source": [
    "grouptest2.shape"
   ]
  },
  {
   "cell_type": "code",
   "execution_count": null,
   "metadata": {},
   "outputs": [],
   "source": []
  }
 ],
 "metadata": {
  "kernelspec": {
   "display_name": "Python 3",
   "language": "python",
   "name": "python3"
  },
  "language_info": {
   "codemirror_mode": {
    "name": "ipython",
    "version": 3
   },
   "file_extension": ".py",
   "mimetype": "text/x-python",
   "name": "python",
   "nbconvert_exporter": "python",
   "pygments_lexer": "ipython3",
   "version": "3.6.5"
  }
 },
 "nbformat": 4,
 "nbformat_minor": 2
}
