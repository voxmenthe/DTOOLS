{
 "cells": [
  {
   "cell_type": "code",
   "execution_count": 5,
   "metadata": {},
   "outputs": [],
   "source": [
    "%load_ext cython\n",
    "import multiprocessing\n",
    "import threading\n",
    "import queue"
   ]
  },
  {
   "cell_type": "code",
   "execution_count": 6,
   "metadata": {},
   "outputs": [],
   "source": [
    "%%cython\n",
    "\n",
    "from libc.math cimport ceil, sqrt\n",
    "\n",
    "\n",
    "cdef inline int _is_prime(int n) nogil:\n",
    "   \"\"\"return a boolean, is the input integer a prime?\"\"\"\n",
    "   if n == 2:\n",
    "       return True\n",
    "   cdef int max_i = <int>ceil(sqrt(n))\n",
    "   cdef int i = 2\n",
    "   while i <= max_i:\n",
    "      if n % i == 0:\n",
    "          return False\n",
    "      i += 1\n",
    "   return True\n",
    "\n",
    "\n",
    "cdef unsigned long _sum_primes(int n) nogil:\n",
    "   \"\"\"return sum of all primes less than n \"\"\"\n",
    "   cdef unsigned long i = 0\n",
    "   cdef int x\n",
    "   for x in range(2, n):\n",
    "       if _is_prime(x):\n",
    "           i += x\n",
    "   return i\n",
    "\n",
    "\n",
    "def sum_primes(int n):\n",
    "    with nogil:\n",
    "        result = _sum_primes(n)\n",
    "    return result"
   ]
  },
  {
   "cell_type": "code",
   "execution_count": 7,
   "metadata": {},
   "outputs": [
    {
     "name": "stdout",
     "output_type": "stream",
     "text": [
      "We have 40 cores to work on!\n"
     ]
    }
   ],
   "source": [
    "input_range = range(int(1e6), int(2e6), int(5e4))\n",
    "ncpus = multiprocessing.cpu_count()\n",
    "print(\"We have {} cores to work on!\".format(ncpus))"
   ]
  },
  {
   "cell_type": "code",
   "execution_count": 8,
   "metadata": {},
   "outputs": [
    {
     "name": "stdout",
     "output_type": "stream",
     "text": [
      "37550402023 41276629127 45125753695 49161463647 53433406131 57759511224 62287995772 66955471633 71881256647 76875349479 82074443256 87423357964 92878592188 98576757977 104450958704 110431974857 116581137847 122913801665 129451433482 136136977177 \n",
      "CPU times: user 7.54 s, sys: 4.68 ms, total: 7.55 s\n",
      "Wall time: 7.53 s\n"
     ]
    }
   ],
   "source": [
    "%%time\n",
    "\n",
    "for i in input_range:\n",
    "    print(sum_primes(i), end=' ', flush=True)\n",
    "print()"
   ]
  },
  {
   "cell_type": "code",
   "execution_count": 9,
   "metadata": {},
   "outputs": [
    {
     "name": "stdout",
     "output_type": "stream",
     "text": [
      "37550402023 41276629127 45125753695 49161463647 53433406131 57759511224 62287995772 66955471633 71881256647 76875349479 82074443256 87423357964 92878592188 98576757977 104450958704 110431974857 116581137847 122913801665 129451433482 136136977177 \n",
      "CPU times: user 9.31 s, sys: 11 ms, total: 9.32 s\n",
      "Wall time: 665 ms\n"
     ]
    }
   ],
   "source": [
    "%%time\n",
    "\n",
    "### We need to define a worker function that fetches jobs from the queue.\n",
    "def worker(q):\n",
    "    while True:\n",
    "        try:\n",
    "            x = q.get(block=False)\n",
    "            print(sum_primes(x), end=' ', flush=True)\n",
    "        except queue.Empty:\n",
    "            break\n",
    "\n",
    "### Create the queue, and fill it with input values\n",
    "work_queue = queue.Queue()\n",
    "for i in input_range:\n",
    "    work_queue.put(i)\n",
    "\n",
    "### Start a number of threads\n",
    "threads = [\n",
    "    threading.Thread(target=worker, args=(work_queue,))\n",
    "    for i in range(ncpus)]\n",
    "\n",
    "for t in threads:\n",
    "    t.start()\n",
    "\n",
    "### Wait until all of them are done\n",
    "for t in threads:\n",
    "    t.join()\n",
    "\n",
    "print()"
   ]
  },
  {
   "cell_type": "code",
   "execution_count": 12,
   "metadata": {},
   "outputs": [],
   "source": [
    "#!pip install noodles"
   ]
  },
  {
   "cell_type": "code",
   "execution_count": 13,
   "metadata": {},
   "outputs": [],
   "source": [
    "from noodles import (schedule, run_parallel, gather)"
   ]
  },
  {
   "cell_type": "code",
   "execution_count": 14,
   "metadata": {},
   "outputs": [
    {
     "name": "stdout",
     "output_type": "stream",
     "text": [
      "37550402023 41276629127 45125753695 53433406131 57759511224 62287995772 49161463647 71881256647 76875349479 66955471633 82074443256 92878592188 98576757977 87423357964 104450958704 110431974857 129451433482 116581137847 136136977177 122913801665 \n",
      "CPU times: user 9.73 s, sys: 9.92 ms, total: 9.74 s\n",
      "Wall time: 720 ms\n"
     ]
    }
   ],
   "source": [
    "%%time\n",
    "\n",
    "@schedule\n",
    "def s_sum_primes(n):\n",
    "    result = sum_primes(n)\n",
    "    print(result, end=' ', flush=True)\n",
    "    return result\n",
    "\n",
    "p_prime_sums = gather(*(s_sum_primes(i) for i in input_range))\n",
    "prime_sums = run_parallel(p_prime_sums, n_threads=ncpus)\n",
    "print()"
   ]
  },
  {
   "cell_type": "code",
   "execution_count": null,
   "metadata": {},
   "outputs": [],
   "source": []
  }
 ],
 "metadata": {
  "kernelspec": {
   "display_name": "Python 3",
   "language": "python",
   "name": "python3"
  },
  "language_info": {
   "codemirror_mode": {
    "name": "ipython",
    "version": 3
   },
   "file_extension": ".py",
   "mimetype": "text/x-python",
   "name": "python",
   "nbconvert_exporter": "python",
   "pygments_lexer": "ipython3",
   "version": "3.6.5"
  }
 },
 "nbformat": 4,
 "nbformat_minor": 2
}
