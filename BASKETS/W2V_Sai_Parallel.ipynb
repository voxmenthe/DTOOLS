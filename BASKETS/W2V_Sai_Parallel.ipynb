{
 "cells": [
  {
   "cell_type": "markdown",
   "metadata": {},
   "source": [
    "### Approach:\n",
    "1. Working with session data (Views, ATB, purchases).   \n",
    "2. **Views, ATB and Purchases**  \n",
    "3. Cleaning the data  \n",
    "4. Removing duplicate productids occuring consecutively as having the same productid does not capture any information for our word2vec model.   \n",
    "5. Using Pytorch for word2vec algorithm. \n",
    "6. Finding the word embeddings of each productid and computing the cosine similarity of the vectors to generate the top 15 recommendations for an anchor product. \n"
   ]
  },
  {
   "cell_type": "markdown",
   "metadata": {},
   "source": [
    "\n",
    "**Install the requirements**     \n",
    " Numpy, Pandas, iPython-autotime, Gensim, pyarrow, pytorch `cd work/a127669/` and `sudo pip install -r requirements.txt`  \n",
    " Product visualization ```cd src/mml-lib``` and ```sudo pip install -e .```    \n",
    " Recommendation evaluator ```cd src/recom-evaluator``` and ```sudo pip install -e .``` "
   ]
  },
  {
   "cell_type": "code",
   "execution_count": 1,
   "metadata": {},
   "outputs": [],
   "source": [
    "import sys\n",
    "sys.path.append('/home/jovyan/work/a091569/RECOM_LIBS/recom-evaluator')\n",
    "sys.path.append('/home/jovyan/work/a091569/RECOM_LIBS/mml-lib')"
   ]
  },
  {
   "cell_type": "code",
   "execution_count": 3,
   "metadata": {},
   "outputs": [
    {
     "name": "stdout",
     "output_type": "stream",
     "text": [
      "The autotime extension is already loaded. To reload it, use:\n",
      "  %reload_ext autotime\n",
      "time: 5.93 ms\n"
     ]
    }
   ],
   "source": [
    "import numpy as np\n",
    "import itertools, logging\n",
    "np.random.seed(12345)\n",
    "%load_ext autotime\n",
    "import warnings\n",
    "warnings.filterwarnings('ignore')\n",
    "import os, sys\n",
    "import pandas as pd\n",
    "from multiprocessing import  Pool\n",
    "from gensim.models import Word2Vec\n",
    "from sklearn.metrics.pairwise import cosine_similarity\n",
    "import heapq\n",
    "#from mml_lib.visualization import display_recom_panel, display_product\n",
    "import recomevaluator.run_all as evaluate_recoms\n",
    "from sklearn.metrics.pairwise import cosine_similarity\n",
    "import matplotlib.pyplot as plt\n",
    "from mml_lib.datasets import get_datacollection"
   ]
  },
  {
   "cell_type": "markdown",
   "metadata": {},
   "source": [
    "## 1. Loading the data\n",
    "   i) **Fetching from the data collection**  \n",
    "Don't run this if you already have the parquet files (.gzip)"
   ]
  },
  {
   "cell_type": "code",
   "execution_count": 3,
   "metadata": {},
   "outputs": [
    {
     "name": "stdout",
     "output_type": "stream",
     "text": [
      "/home/jovyan/datasets/d_train_20190402_60_0\n",
      "/home/jovyan/datasets/d_train_20190403_60_0\n",
      "/home/jovyan/datasets/d_train_20190417_60_0\n",
      "/home/jovyan/datasets/d_train_20190506_60_0\n",
      "/home/jovyan/datasets/d_train_20190605_60_0\n",
      "/home/jovyan/datasets/d_train_20190606_35_0\n",
      "/home/jovyan/datasets/d_train_20190607_45_0\n",
      "/home/jovyan/datasets/d_train_20190723_120_0\n",
      "/home/jovyan/datasets/d_train_20190723_45_0\n",
      "/home/jovyan/datasets/d_train_20190723_60_0\n",
      "/home/jovyan/datasets/d_train_20190723_90_0\n",
      "/home/jovyan/datasets/d_train_20190810_22_0\n",
      "time: 635 ms\n"
     ]
    }
   ],
   "source": [
    "!ls -d /home/jovyan/datasets/d_train_2019*_0"
   ]
  },
  {
   "cell_type": "code",
   "execution_count": 4,
   "metadata": {},
   "outputs": [
    {
     "name": "stdout",
     "output_type": "stream",
     "text": [
      "Using dataset /home/jovyan/datasets/d_train_20190810_22_0\n",
      "Loading view events...\n",
      "loaded 238641154 events.\n",
      "Loading atb events...\n",
      "loaded 64924676 events.\n",
      "Loading purchase events...\n",
      "loaded 6322456 events.\n",
      "time: 34min 42s\n"
     ]
    }
   ],
   "source": [
    "MIN_VIEW_EVENTS = 2\n",
    "MIN_ATB_EVENTS = 1\n",
    "MIN_PURCHASE_EVENTS = 0\n",
    "\n",
    "dc = get_datacollection('/home/jovyan/datasets/d_train_20190810_22_0/')(verbose=True)\n",
    "\n",
    "views = dc.view_events.groupby(['indiv_id'])['product_id'].apply(list)\n",
    "views = views[views.map(len) > MIN_VIEW_EVENTS]\n",
    "views = views.to_frame()\n",
    "\n",
    "atb = dc.atb_events.groupby(['indiv_id'])['product_id'].apply(list)\n",
    "atb = atb[atb.map(len) > MIN_ATB_EVENTS]\n",
    "atb = atb.to_frame()\n",
    "\n",
    "purchase = dc.purchase_events.groupby(['indiv_id'])['product_id'].apply(list)\n",
    "purchase = purchase[purchase.map(len) > MIN_PURCHASE_EVENTS]\n",
    "purchase = purchase.to_frame()\n",
    "\n",
    "view_atb = views.join(atb, on='indiv_id', lsuffix='_views', rsuffix='_atb') \n",
    "common_events = view_atb.join(purchase, on='indiv_id', rsuffix = '_purchase')"
   ]
  },
  {
   "cell_type": "markdown",
   "metadata": {},
   "source": [
    "**Save the dataframe to parquet file to load it faster than from a csv.** \n"
   ]
  },
  {
   "cell_type": "code",
   "execution_count": 6,
   "metadata": {},
   "outputs": [
    {
     "name": "stdout",
     "output_type": "stream",
     "text": [
      "time: 1.45 ms\n"
     ]
    }
   ],
   "source": [
    "def save_df_as_parquet_file(dataframe, filename):\n",
    "    path = '/home/jovyan/work/a091569/DTOOLS/DATA'\n",
    "    parquet_file = os.path.join(path,'{}.gzip'.format(filename))\n",
    "    dataframe.to_parquet(parquet_file ,compression='gzip')\n"
   ]
  },
  {
   "cell_type": "code",
   "execution_count": null,
   "metadata": {},
   "outputs": [],
   "source": [
    "save_df_as_parquet_file(views, 'views_20190810_22')\n",
    "save_df_as_parquet_file(atb, 'atb_20190810_22')\n",
    "save_df_as_parquet_file(purchase, 'pur_20190810_22')"
   ]
  },
  {
   "cell_type": "code",
   "execution_count": null,
   "metadata": {},
   "outputs": [],
   "source": [
    "save_df_as_parquet_file(view_atb, 'view_atb_20190810_22')\n",
    "save_df_as_parquet_file(common_events, 'common_events_20190810_22')"
   ]
  },
  {
   "cell_type": "markdown",
   "metadata": {},
   "source": [
    "ii) **Loading the data from the parquet file**"
   ]
  },
  {
   "cell_type": "code",
   "execution_count": 5,
   "metadata": {},
   "outputs": [
    {
     "name": "stdout",
     "output_type": "stream",
     "text": [
      "atb_20190810_22.gzip\t\tview_atb_20190810_22.gzip\n",
      "common_events_20190810_22.gzip\tviews_20190810_22.gzip\n",
      "pur_20190810_22.gzip\n",
      "time: 2.07 s\n"
     ]
    }
   ],
   "source": [
    "!ls /home/jovyan/work/a091569/DTOOLS/DATA"
   ]
  },
  {
   "cell_type": "code",
   "execution_count": null,
   "metadata": {},
   "outputs": [],
   "source": [
    "common_events = pd.read_parquet('/home/jovyan/work/a091569/DTOOLS/DATA/common_events_20190810_22.gzip')\n",
    "view_atb = pd.read_parquet('/home/jovyan/work/a091569/DTOOLS/DATA/view_atb_20190810_22.gzip')\n",
    "views = pd.read_parquet('/home/jovyan/work/a091569/DTOOLS/DATA/views_20190810_22.gzip')\n",
    "atb = pd.read_parquet('/home/jovyan/work/a091569/DTOOLS/DATA/atb_20190810_22.gzip')\n",
    "pur = pd.read_parquet('/home/jovyan/work/a091569/DTOOLS/DATA/pur_20190810_22.gzip')"
   ]
  },
  {
   "cell_type": "code",
   "execution_count": null,
   "metadata": {},
   "outputs": [],
   "source": [
    "#((1898005, 3), (1898005, 1), (823011, 1), (482362, 1))"
   ]
  },
  {
   "cell_type": "code",
   "execution_count": 7,
   "metadata": {},
   "outputs": [
    {
     "data": {
      "text/plain": [
       "((5169076, 3), (5169076, 2), (5169076, 1), (3460588, 1), (1860148, 1))"
      ]
     },
     "execution_count": 7,
     "metadata": {},
     "output_type": "execute_result"
    },
    {
     "name": "stdout",
     "output_type": "stream",
     "text": [
      "time: 6.02 ms\n"
     ]
    }
   ],
   "source": [
    "common_events.shape, view_atb.shape, views.shape, atb.shape, pur.shape"
   ]
  },
  {
   "cell_type": "code",
   "execution_count": 8,
   "metadata": {},
   "outputs": [
    {
     "data": {
      "text/html": [
       "<div>\n",
       "<style scoped>\n",
       "    .dataframe tbody tr th:only-of-type {\n",
       "        vertical-align: middle;\n",
       "    }\n",
       "\n",
       "    .dataframe tbody tr th {\n",
       "        vertical-align: top;\n",
       "    }\n",
       "\n",
       "    .dataframe thead th {\n",
       "        text-align: right;\n",
       "    }\n",
       "</style>\n",
       "<table border=\"1\" class=\"dataframe\">\n",
       "  <thead>\n",
       "    <tr style=\"text-align: right;\">\n",
       "      <th></th>\n",
       "      <th>product_id</th>\n",
       "    </tr>\n",
       "    <tr>\n",
       "      <th>indiv_id</th>\n",
       "      <th></th>\n",
       "    </tr>\n",
       "  </thead>\n",
       "  <tbody>\n",
       "    <tr>\n",
       "      <td>1000000195</td>\n",
       "      <td>[7284138, 7284138, 8899946, 8997974, 8997974, ...</td>\n",
       "    </tr>\n",
       "    <tr>\n",
       "      <td>1000000406</td>\n",
       "      <td>[8018903, 8768312, 8018899, 1369276, 8768312, ...</td>\n",
       "    </tr>\n",
       "    <tr>\n",
       "      <td>1000000635</td>\n",
       "      <td>[9758432, 7108561, 7825808, 6351408, 9651372]</td>\n",
       "    </tr>\n",
       "    <tr>\n",
       "      <td>1000000722</td>\n",
       "      <td>[5729552, 1633215, 5729552, 5729552, 5729552, ...</td>\n",
       "    </tr>\n",
       "    <tr>\n",
       "      <td>1000000819</td>\n",
       "      <td>[1207174, 2563637, 2563637, 2563637, 2563637, ...</td>\n",
       "    </tr>\n",
       "  </tbody>\n",
       "</table>\n",
       "</div>"
      ],
      "text/plain": [
       "                                                   product_id\n",
       "indiv_id                                                     \n",
       "1000000195  [7284138, 7284138, 8899946, 8997974, 8997974, ...\n",
       "1000000406  [8018903, 8768312, 8018899, 1369276, 8768312, ...\n",
       "1000000635      [9758432, 7108561, 7825808, 6351408, 9651372]\n",
       "1000000722  [5729552, 1633215, 5729552, 5729552, 5729552, ...\n",
       "1000000819  [1207174, 2563637, 2563637, 2563637, 2563637, ..."
      ]
     },
     "execution_count": 8,
     "metadata": {},
     "output_type": "execute_result"
    },
    {
     "name": "stdout",
     "output_type": "stream",
     "text": [
      "time: 21 ms\n"
     ]
    }
   ],
   "source": [
    "views.head()"
   ]
  },
  {
   "cell_type": "code",
   "execution_count": 17,
   "metadata": {},
   "outputs": [
    {
     "data": {
      "text/plain": [
       "array([array(['7284138', '7284138', '8899946', '8997974', '8997974', '6751215',\n",
       "       '6402625', '1346528', '5347769', '6402625', '9950844', '9308182',\n",
       "       '8024321', '6402625', '8174568', '6402625', '9926953', '6402625',\n",
       "       '8174568', '6453662', '2618336', '8217876', '8217876', '4915972'],\n",
       "      dtype=object)], dtype=object)"
      ]
     },
     "execution_count": 17,
     "metadata": {},
     "output_type": "execute_result"
    },
    {
     "name": "stdout",
     "output_type": "stream",
     "text": [
      "time: 5.5 ms\n"
     ]
    }
   ],
   "source": [
    "views.iloc[0].values"
   ]
  },
  {
   "cell_type": "code",
   "execution_count": 9,
   "metadata": {},
   "outputs": [
    {
     "data": {
      "text/html": [
       "<div>\n",
       "<style scoped>\n",
       "    .dataframe tbody tr th:only-of-type {\n",
       "        vertical-align: middle;\n",
       "    }\n",
       "\n",
       "    .dataframe tbody tr th {\n",
       "        vertical-align: top;\n",
       "    }\n",
       "\n",
       "    .dataframe thead th {\n",
       "        text-align: right;\n",
       "    }\n",
       "</style>\n",
       "<table border=\"1\" class=\"dataframe\">\n",
       "  <thead>\n",
       "    <tr style=\"text-align: right;\">\n",
       "      <th></th>\n",
       "      <th>product_id</th>\n",
       "    </tr>\n",
       "    <tr>\n",
       "      <th>indiv_id</th>\n",
       "      <th></th>\n",
       "    </tr>\n",
       "  </thead>\n",
       "  <tbody>\n",
       "    <tr>\n",
       "      <td>1000000195</td>\n",
       "      <td>[8217876, 8217876, 8217876]</td>\n",
       "    </tr>\n",
       "    <tr>\n",
       "      <td>1000000635</td>\n",
       "      <td>[7108561, 6351408, 6351408, 7108561, 7825808, ...</td>\n",
       "    </tr>\n",
       "    <tr>\n",
       "      <td>1000000722</td>\n",
       "      <td>[1633215, 5729552, 1633215, 1633215, 5729552, ...</td>\n",
       "    </tr>\n",
       "    <tr>\n",
       "      <td>1000001145</td>\n",
       "      <td>[9348686, 9348686, 9348690, 9348690, 8277626, ...</td>\n",
       "    </tr>\n",
       "    <tr>\n",
       "      <td>1000001315</td>\n",
       "      <td>[7270860, 7270860, 7270860, 7270860]</td>\n",
       "    </tr>\n",
       "  </tbody>\n",
       "</table>\n",
       "</div>"
      ],
      "text/plain": [
       "                                                   product_id\n",
       "indiv_id                                                     \n",
       "1000000195                        [8217876, 8217876, 8217876]\n",
       "1000000635  [7108561, 6351408, 6351408, 7108561, 7825808, ...\n",
       "1000000722  [1633215, 5729552, 1633215, 1633215, 5729552, ...\n",
       "1000001145  [9348686, 9348686, 9348690, 9348690, 8277626, ...\n",
       "1000001315               [7270860, 7270860, 7270860, 7270860]"
      ]
     },
     "execution_count": 9,
     "metadata": {},
     "output_type": "execute_result"
    },
    {
     "name": "stdout",
     "output_type": "stream",
     "text": [
      "time: 10.9 ms\n"
     ]
    }
   ],
   "source": [
    "atb.head()"
   ]
  },
  {
   "cell_type": "code",
   "execution_count": 10,
   "metadata": {},
   "outputs": [
    {
     "data": {
      "text/html": [
       "<div>\n",
       "<style scoped>\n",
       "    .dataframe tbody tr th:only-of-type {\n",
       "        vertical-align: middle;\n",
       "    }\n",
       "\n",
       "    .dataframe tbody tr th {\n",
       "        vertical-align: top;\n",
       "    }\n",
       "\n",
       "    .dataframe thead th {\n",
       "        text-align: right;\n",
       "    }\n",
       "</style>\n",
       "<table border=\"1\" class=\"dataframe\">\n",
       "  <thead>\n",
       "    <tr style=\"text-align: right;\">\n",
       "      <th></th>\n",
       "      <th>product_id</th>\n",
       "    </tr>\n",
       "    <tr>\n",
       "      <th>indiv_id</th>\n",
       "      <th></th>\n",
       "    </tr>\n",
       "  </thead>\n",
       "  <tbody>\n",
       "    <tr>\n",
       "      <td>1000000195</td>\n",
       "      <td>[8217876]</td>\n",
       "    </tr>\n",
       "    <tr>\n",
       "      <td>1000000635</td>\n",
       "      <td>[6351408, 7825808]</td>\n",
       "    </tr>\n",
       "    <tr>\n",
       "      <td>1000000722</td>\n",
       "      <td>[5729552, 1633215]</td>\n",
       "    </tr>\n",
       "    <tr>\n",
       "      <td>1000001145</td>\n",
       "      <td>[1622049, 8774636, 8774632, 9463656, 9463656, ...</td>\n",
       "    </tr>\n",
       "    <tr>\n",
       "      <td>1000001315</td>\n",
       "      <td>[7270860]</td>\n",
       "    </tr>\n",
       "  </tbody>\n",
       "</table>\n",
       "</div>"
      ],
      "text/plain": [
       "                                                   product_id\n",
       "indiv_id                                                     \n",
       "1000000195                                          [8217876]\n",
       "1000000635                                 [6351408, 7825808]\n",
       "1000000722                                 [5729552, 1633215]\n",
       "1000001145  [1622049, 8774636, 8774632, 9463656, 9463656, ...\n",
       "1000001315                                          [7270860]"
      ]
     },
     "execution_count": 10,
     "metadata": {},
     "output_type": "execute_result"
    },
    {
     "name": "stdout",
     "output_type": "stream",
     "text": [
      "time: 9.43 ms\n"
     ]
    }
   ],
   "source": [
    "pur.head()"
   ]
  },
  {
   "cell_type": "code",
   "execution_count": 11,
   "metadata": {},
   "outputs": [
    {
     "data": {
      "text/html": [
       "<div>\n",
       "<style scoped>\n",
       "    .dataframe tbody tr th:only-of-type {\n",
       "        vertical-align: middle;\n",
       "    }\n",
       "\n",
       "    .dataframe tbody tr th {\n",
       "        vertical-align: top;\n",
       "    }\n",
       "\n",
       "    .dataframe thead th {\n",
       "        text-align: right;\n",
       "    }\n",
       "</style>\n",
       "<table border=\"1\" class=\"dataframe\">\n",
       "  <thead>\n",
       "    <tr style=\"text-align: right;\">\n",
       "      <th></th>\n",
       "      <th>product_id_views</th>\n",
       "      <th>product_id_atb</th>\n",
       "      <th>product_id</th>\n",
       "    </tr>\n",
       "    <tr>\n",
       "      <th>indiv_id</th>\n",
       "      <th></th>\n",
       "      <th></th>\n",
       "      <th></th>\n",
       "    </tr>\n",
       "  </thead>\n",
       "  <tbody>\n",
       "    <tr>\n",
       "      <td>1000000195</td>\n",
       "      <td>[7284138, 7284138, 8899946, 8997974, 8997974, ...</td>\n",
       "      <td>[8217876, 8217876, 8217876]</td>\n",
       "      <td>[8217876]</td>\n",
       "    </tr>\n",
       "    <tr>\n",
       "      <td>1000000406</td>\n",
       "      <td>[8018903, 8768312, 8018899, 1369276, 8768312, ...</td>\n",
       "      <td>None</td>\n",
       "      <td>None</td>\n",
       "    </tr>\n",
       "    <tr>\n",
       "      <td>1000000635</td>\n",
       "      <td>[9758432, 7108561, 7825808, 6351408, 9651372]</td>\n",
       "      <td>[7108561, 6351408, 6351408, 7108561, 7825808, ...</td>\n",
       "      <td>[6351408, 7825808]</td>\n",
       "    </tr>\n",
       "    <tr>\n",
       "      <td>1000000722</td>\n",
       "      <td>[5729552, 1633215, 5729552, 5729552, 5729552, ...</td>\n",
       "      <td>[1633215, 5729552, 1633215, 1633215, 5729552, ...</td>\n",
       "      <td>[5729552, 1633215]</td>\n",
       "    </tr>\n",
       "    <tr>\n",
       "      <td>1000000819</td>\n",
       "      <td>[1207174, 2563637, 2563637, 2563637, 2563637, ...</td>\n",
       "      <td>None</td>\n",
       "      <td>None</td>\n",
       "    </tr>\n",
       "  </tbody>\n",
       "</table>\n",
       "</div>"
      ],
      "text/plain": [
       "                                             product_id_views  \\\n",
       "indiv_id                                                        \n",
       "1000000195  [7284138, 7284138, 8899946, 8997974, 8997974, ...   \n",
       "1000000406  [8018903, 8768312, 8018899, 1369276, 8768312, ...   \n",
       "1000000635      [9758432, 7108561, 7825808, 6351408, 9651372]   \n",
       "1000000722  [5729552, 1633215, 5729552, 5729552, 5729552, ...   \n",
       "1000000819  [1207174, 2563637, 2563637, 2563637, 2563637, ...   \n",
       "\n",
       "                                               product_id_atb  \\\n",
       "indiv_id                                                        \n",
       "1000000195                        [8217876, 8217876, 8217876]   \n",
       "1000000406                                               None   \n",
       "1000000635  [7108561, 6351408, 6351408, 7108561, 7825808, ...   \n",
       "1000000722  [1633215, 5729552, 1633215, 1633215, 5729552, ...   \n",
       "1000000819                                               None   \n",
       "\n",
       "                    product_id  \n",
       "indiv_id                        \n",
       "1000000195           [8217876]  \n",
       "1000000406                None  \n",
       "1000000635  [6351408, 7825808]  \n",
       "1000000722  [5729552, 1633215]  \n",
       "1000000819                None  "
      ]
     },
     "execution_count": 11,
     "metadata": {},
     "output_type": "execute_result"
    },
    {
     "name": "stdout",
     "output_type": "stream",
     "text": [
      "time: 18 ms\n"
     ]
    }
   ],
   "source": [
    "common_events.head()"
   ]
  },
  {
   "cell_type": "markdown",
   "metadata": {},
   "source": [
    "## 2. Data Preparation"
   ]
  },
  {
   "cell_type": "markdown",
   "metadata": {},
   "source": [
    "**Remove the productids which appear consecutively in a session**  \n",
    "session: 123, 345, 567, 567, 231, 345, 345 to  session: 123, 345, 567, 231, 345"
   ]
  },
  {
   "cell_type": "code",
   "execution_count": null,
   "metadata": {},
   "outputs": [],
   "source": [
    "# parallelized code\n",
    "def remove_duplicate_productids(data):\n",
    "    #applies the function on each value of the pandas series\n",
    "    res = data.product_id.apply(loop)\n",
    "    return res"
   ]
  },
  {
   "cell_type": "code",
   "execution_count": null,
   "metadata": {},
   "outputs": [],
   "source": [
    "def loop(row):\n",
    "    last = -1\n",
    "    index = -1\n",
    "    \n",
    "\n",
    "    List = list(row)\n",
    "\n",
    "    '''\n",
    "    Splits the sessions into subsessions based on category and removes productids from the list occuring in a sequence\n",
    "    session: 123, 345, 567, 567, 231, 345, 345 to  session: 123, 345, 567, 231, 345\n",
    "    '''\n",
    "\n",
    "    for i in list(row):\n",
    "\n",
    "        # index keeps check of the index of the product in the list\n",
    "        index +=1\n",
    "        # when the two consecutive productids are equal\n",
    "        if i == last:\n",
    "            # remove the latest occurence of the productid\n",
    "            List.pop(index)\n",
    "            # as the product is removed from the list. Decrement the index value\n",
    "            index -=1\n",
    "        # update the last element visited\n",
    "        last = i  \n",
    "\n",
    "    return List\n",
    "\n",
    "    \n"
   ]
  },
  {
   "cell_type": "code",
   "execution_count": null,
   "metadata": {},
   "outputs": [],
   "source": [
    "def parallelize(df, func, n_cores=10):\n",
    "    '''\n",
    "    The dataframe is split into n_cores and remove_duplicate_productids is performed on each sub dataframe\n",
    "    n_cores: No of processors (96 in this env)\n",
    "    n_cores is taken as 10 as it takes less time to split the given data.\n",
    "    '''\n",
    "    df_split = np.array_split(df, n_cores)\n",
    "    pool = Pool(n_cores)\n",
    "    df = pd.concat(pool.map(func, df_split))\n",
    "    pool.close()\n",
    "    pool.join()\n",
    "    return df\n",
    "  "
   ]
  },
  {
   "cell_type": "code",
   "execution_count": null,
   "metadata": {},
   "outputs": [],
   "source": [
    "de_duped_views = parallelize(views, remove_duplicate_productids)\n",
    "de_duped_atb = parallelize(atb, remove_duplicate_productids)\n",
    "de_duped_pur = parallelize(pur, remove_duplicate_productids)"
   ]
  },
  {
   "cell_type": "markdown",
   "metadata": {},
   "source": [
    "**After removing the product ids appearing in a sequence. Store it inplace**"
   ]
  },
  {
   "cell_type": "code",
   "execution_count": null,
   "metadata": {},
   "outputs": [],
   "source": [
    "views.product_id_views = pd.Series(de_duped_views)\n",
    "atb.product_id_atb = pd.Series(de_duped_atb)\n",
    "pur.product_id_pur = pd.Series(de_duped_pur)"
   ]
  },
  {
   "cell_type": "markdown",
   "metadata": {},
   "source": [
    "**Load the product catalog info**"
   ]
  },
  {
   "cell_type": "code",
   "execution_count": null,
   "metadata": {},
   "outputs": [],
   "source": [
    "#d_train_20190506_60_5449\n",
    "df = pd.read_csv(\"/home/jovyan/datasets/d_train_20190810_22_0/ur_production_product_attr.csv\", sep='\\t')"
   ]
  },
  {
   "cell_type": "code",
   "execution_count": null,
   "metadata": {},
   "outputs": [],
   "source": [
    "df.head(2)"
   ]
  },
  {
   "cell_type": "markdown",
   "metadata": {},
   "source": [
    "**Availability filter**  \n",
    "**No of available products in our catalog**"
   ]
  },
  {
   "cell_type": "code",
   "execution_count": null,
   "metadata": {},
   "outputs": [],
   "source": [
    "s = df.groupby(['availability_flag'])['availability_flag'].count()\n",
    "print(\"Available products: \" +str(s[0]))\n",
    "print(\"Total products: \" +str(s[0] + s[1]))\n",
    "print(\"Ratio of available products to total prods: \" +str(s[0]/(s[0]+s[1])))\n"
   ]
  },
  {
   "cell_type": "code",
   "execution_count": null,
   "metadata": {},
   "outputs": [],
   "source": [
    "def prod_availability_dict(data):\n",
    "    '''\n",
    "    Create a dictionary to store the productid and its availabilty_flag\n",
    "    Helps in filtering the sessions based on availability\n",
    "    '''\n",
    "    dict = {}\n",
    "    for index, col in data.iterrows():\n",
    "        if col['availability_flag'] == 'Y':\n",
    "            dict[col['product_id']] = col['availability_flag']\n",
    "    return dict"
   ]
  },
  {
   "cell_type": "code",
   "execution_count": null,
   "metadata": {},
   "outputs": [],
   "source": [
    "available_dict = prod_availability_dict(df)"
   ]
  },
  {
   "cell_type": "code",
   "execution_count": null,
   "metadata": {},
   "outputs": [],
   "source": [
    "# parallelized code\n",
    "def availability_filter(data):\n",
    "    # applies the function on each value of the pandas series\n",
    "    res = data.product_id.apply(filtering)\n",
    "    return res"
   ]
  },
  {
   "cell_type": "code",
   "execution_count": null,
   "metadata": {},
   "outputs": [],
   "source": [
    "def filtering(col):\n",
    "    '''\n",
    "    Filters the sessions by the available products\n",
    "    Args: Each row of the dataframe\n",
    "    \n",
    "    Returns: Filtered session with prod ids which are available\n",
    "    '''\n",
    "    last = -1\n",
    "    index = -1\n",
    "    List = list(col)\n",
    "    \n",
    "    for i in list(col):\n",
    "        if int(i) in available_dict:\n",
    "            pass\n",
    "        else:\n",
    "            List.remove(i)\n",
    "       \n",
    "    return List        "
   ]
  },
  {
   "cell_type": "code",
   "execution_count": null,
   "metadata": {},
   "outputs": [],
   "source": [
    "def parallelize_availabilty(df, func, n_cores=10):\n",
    "    '''\n",
    "    The dataframe is split into n_cores and availability_filter is performed on each sub dataframe\n",
    "    n_cores: No of processors (96 in this env)\n",
    "    n_cores is taken as 10 as it takes less time to split the given data.\n",
    "    \n",
    "    Args: df: Dataframe\n",
    "          func: The function which has to be parallelized\n",
    "    Returns: Dataframe\n",
    "    '''\n",
    "    df_split = np.array_split(df, n_cores)\n",
    "    pool = Pool(n_cores)\n",
    "    df = pd.concat(pool.map(func, df_split))\n",
    "    pool.close()\n",
    "    pool.join()\n",
    "    return df\n",
    "  "
   ]
  },
  {
   "cell_type": "code",
   "execution_count": null,
   "metadata": {},
   "outputs": [],
   "source": [
    "l1 = parallelize_availabilty(views, availability_filter)\n",
    "l2 = parallelize_availabilty(atb, availability_filter)\n",
    "l3 = parallelize_availabilty(pur, availability_filter)"
   ]
  },
  {
   "cell_type": "markdown",
   "metadata": {},
   "source": [
    "**After filtering the sessions with only available prods. Store it inplace**"
   ]
  },
  {
   "cell_type": "code",
   "execution_count": null,
   "metadata": {},
   "outputs": [],
   "source": [
    "views.product_id = pd.Series(l1)\n",
    "atb.product_id = pd.Series(l2)\n",
    "pur.product_id = pd.Series(l3)"
   ]
  },
  {
   "cell_type": "markdown",
   "metadata": {},
   "source": [
    "**List of count of events in a sessions**"
   ]
  },
  {
   "cell_type": "code",
   "execution_count": null,
   "metadata": {},
   "outputs": [],
   "source": [
    "lengths_of_view_events = views.product_id.map(len)\n",
    "lengths_of_atb_events = atb.product_id.map(len)\n",
    "lengths_of_pur_events = pur.product_id.map(len)"
   ]
  },
  {
   "cell_type": "markdown",
   "metadata": {},
   "source": [
    "**Identify outliers**"
   ]
  },
  {
   "cell_type": "code",
   "execution_count": null,
   "metadata": {},
   "outputs": [],
   "source": [
    "def outlier_detection(lengths_of_events):\n",
    "    # identify outliers with interquartile range\n",
    "    from numpy.random import seed\n",
    "    from numpy.random import randn\n",
    "    from numpy import percentile\n",
    "    # seed the random number generator\n",
    "    seed(1)\n",
    "    # generate univariate observations\n",
    "    data = np.array(lengths_of_events)\n",
    "    # calculate interquartile range\n",
    "    q25, q75 = percentile(data, 25), percentile(data, 75)\n",
    "    iqr = q75 - q25\n",
    "    print('Percentiles: 25th=%.3f, 75th=%.3f, IQR=%.3f' % (q25, q75, iqr))\n",
    "    # calculate the outlier cutoff\n",
    "    cut_off = iqr * 1.5\n",
    "    lower, upper = q25 - cut_off, q75 + cut_off\n",
    "    # identify outliers\n",
    "    outliers = [x for x in data if x < lower or x > upper]\n",
    "    print('Identified outliers: %d' % len(outliers))\n",
    "    # remove outliers\n",
    "    outliers_removed = [x for x in data if x >= lower and x <= upper]\n",
    "    print('Non-outlier observations: %d' % len(outliers_removed))\n",
    "    return outliers"
   ]
  },
  {
   "cell_type": "code",
   "execution_count": null,
   "metadata": {},
   "outputs": [],
   "source": [
    "view_outliers = outlier_detection(lengths_of_view_events)"
   ]
  },
  {
   "cell_type": "code",
   "execution_count": null,
   "metadata": {},
   "outputs": [],
   "source": [
    "atb_outliers = outlier_detection(lengths_of_atb_events)"
   ]
  },
  {
   "cell_type": "code",
   "execution_count": null,
   "metadata": {},
   "outputs": [],
   "source": [
    "pur_outliers = outlier_detection(lengths_of_pur_events)"
   ]
  },
  {
   "cell_type": "markdown",
   "metadata": {},
   "source": [
    "**Get the threshold values to remove the sessions with event count greater than the threshold**"
   ]
  },
  {
   "cell_type": "code",
   "execution_count": null,
   "metadata": {},
   "outputs": [],
   "source": [
    "threshold_count_views = min(view_outliers)\n",
    "threshold_count_atb = min(atb_outliers)\n",
    "threshold_count_pur = min(pur_outliers)"
   ]
  },
  {
   "cell_type": "code",
   "execution_count": null,
   "metadata": {},
   "outputs": [],
   "source": [
    "print('Threshold no of views {}'.format(threshold_count_views))\n",
    "print('Threshold no of atb {}'.format(threshold_count_atb))\n",
    "print('Threshold no of pur {}'.format(threshold_count_pur))"
   ]
  },
  {
   "cell_type": "code",
   "execution_count": null,
   "metadata": {},
   "outputs": [],
   "source": [
    "views = views[views['product_id'].map(len) < threshold_count_views]\n",
    "atb = atb[atb['product_id'].map(len) < threshold_count_atb]\n",
    "pur = pur[pur['product_id'].map(len) < threshold_count_pur]"
   ]
  },
  {
   "cell_type": "markdown",
   "metadata": {},
   "source": [
    "**Merge the data**"
   ]
  },
  {
   "cell_type": "code",
   "execution_count": null,
   "metadata": {},
   "outputs": [],
   "source": [
    "view_atb = views.join(atb, on='indiv_id', lsuffix='_views', rsuffix='_atb') \n",
    "common_events = view_atb.join(purchase, on='indiv_id', rsuffix = '_purchase')"
   ]
  },
  {
   "cell_type": "code",
   "execution_count": null,
   "metadata": {},
   "outputs": [],
   "source": [
    "common_events.head()"
   ]
  },
  {
   "cell_type": "code",
   "execution_count": null,
   "metadata": {},
   "outputs": [],
   "source": [
    "data = common_events.copy()"
   ]
  },
  {
   "cell_type": "markdown",
   "metadata": {},
   "source": [
    "**Removing rows with null values and filtering rows with**   \n",
    "```Min no of view events: 5, Min no of atb: 1, Min no of purchases: 1```  \n"
   ]
  },
  {
   "cell_type": "code",
   "execution_count": null,
   "metadata": {},
   "outputs": [],
   "source": [
    "new_data = data.loc[(data['product_id_views'].map(len) >4)]\n"
   ]
  },
  {
   "cell_type": "markdown",
   "metadata": {},
   "source": [
    "**Data with all events**"
   ]
  },
  {
   "cell_type": "code",
   "execution_count": 335,
   "metadata": {},
   "outputs": [
    {
     "data": {
      "text/html": [
       "<div>\n",
       "<style scoped>\n",
       "    .dataframe tbody tr th:only-of-type {\n",
       "        vertical-align: middle;\n",
       "    }\n",
       "\n",
       "    .dataframe tbody tr th {\n",
       "        vertical-align: top;\n",
       "    }\n",
       "\n",
       "    .dataframe thead th {\n",
       "        text-align: right;\n",
       "    }\n",
       "</style>\n",
       "<table border=\"1\" class=\"dataframe\">\n",
       "  <thead>\n",
       "    <tr style=\"text-align: right;\">\n",
       "      <th></th>\n",
       "      <th>product_id_views</th>\n",
       "      <th>product_id_atb</th>\n",
       "      <th>product_id</th>\n",
       "    </tr>\n",
       "    <tr>\n",
       "      <th>indiv_id</th>\n",
       "      <th></th>\n",
       "      <th></th>\n",
       "      <th></th>\n",
       "    </tr>\n",
       "  </thead>\n",
       "  <tbody>\n",
       "    <tr>\n",
       "      <th>10000005</th>\n",
       "      <td>[8153751, 8776841, 8153751, 8776841, 8153751, ...</td>\n",
       "      <td>[8153751, 8776841, 8153751, 8776841]</td>\n",
       "      <td>[8153751]</td>\n",
       "    </tr>\n",
       "    <tr>\n",
       "      <th>1000002551</th>\n",
       "      <td>[8301955, 8323913, 8266279, 7787590, 5466478]</td>\n",
       "      <td>NaN</td>\n",
       "      <td>NaN</td>\n",
       "    </tr>\n",
       "    <tr>\n",
       "      <th>1000002892</th>\n",
       "      <td>[8330356, 7654600, 8330356, 6627537, 8081526, ...</td>\n",
       "      <td>[8330356]</td>\n",
       "      <td>NaN</td>\n",
       "    </tr>\n",
       "    <tr>\n",
       "      <th>1000003932</th>\n",
       "      <td>[8057021, 8057040, 8279150, 8279152, 8057052, ...</td>\n",
       "      <td>[8057040]</td>\n",
       "      <td>NaN</td>\n",
       "    </tr>\n",
       "    <tr>\n",
       "      <th>1000004009</th>\n",
       "      <td>[2764636, 6915808, 7491773, 2764636, 7955078, ...</td>\n",
       "      <td>NaN</td>\n",
       "      <td>NaN</td>\n",
       "    </tr>\n",
       "  </tbody>\n",
       "</table>\n",
       "</div>"
      ],
      "text/plain": [
       "                                             product_id_views  \\\n",
       "indiv_id                                                        \n",
       "10000005    [8153751, 8776841, 8153751, 8776841, 8153751, ...   \n",
       "1000002551      [8301955, 8323913, 8266279, 7787590, 5466478]   \n",
       "1000002892  [8330356, 7654600, 8330356, 6627537, 8081526, ...   \n",
       "1000003932  [8057021, 8057040, 8279150, 8279152, 8057052, ...   \n",
       "1000004009  [2764636, 6915808, 7491773, 2764636, 7955078, ...   \n",
       "\n",
       "                                  product_id_atb product_id  \n",
       "indiv_id                                                     \n",
       "10000005    [8153751, 8776841, 8153751, 8776841]  [8153751]  \n",
       "1000002551                                   NaN        NaN  \n",
       "1000002892                             [8330356]        NaN  \n",
       "1000003932                             [8057040]        NaN  \n",
       "1000004009                                   NaN        NaN  "
      ]
     },
     "execution_count": 335,
     "metadata": {},
     "output_type": "execute_result"
    },
    {
     "name": "stdout",
     "output_type": "stream",
     "text": [
      "time: 13.7 ms\n"
     ]
    }
   ],
   "source": [
    "new_data.head()"
   ]
  },
  {
   "cell_type": "code",
   "execution_count": 219,
   "metadata": {},
   "outputs": [
    {
     "data": {
      "text/plain": [
       "(1135622, 3)"
      ]
     },
     "execution_count": 219,
     "metadata": {},
     "output_type": "execute_result"
    },
    {
     "name": "stdout",
     "output_type": "stream",
     "text": [
      "time: 3.06 ms\n"
     ]
    }
   ],
   "source": [
    "new_data.shape"
   ]
  },
  {
   "cell_type": "markdown",
   "metadata": {},
   "source": [
    "**Renaming the columns**"
   ]
  },
  {
   "cell_type": "code",
   "execution_count": null,
   "metadata": {},
   "outputs": [],
   "source": [
    "def renaming_df_cols(df, column_names):\n",
    "    '''\n",
    "    Renaming the index, making it as a column and also renaming the existing columns\n",
    "    '''\n",
    "    df.index.names = ['Session ID']\n",
    "    df.columns = column_names\n",
    "    df.reset_index(level=['Session ID'], inplace=True)\n"
   ]
  },
  {
   "cell_type": "code",
   "execution_count": 346,
   "metadata": {},
   "outputs": [
    {
     "name": "stdout",
     "output_type": "stream",
     "text": [
      "time: 40.3 ms\n"
     ]
    }
   ],
   "source": [
    "renaming_df_cols(new_data, ['product_id_views','product_id_atb','product_id_pur'])"
   ]
  },
  {
   "cell_type": "markdown",
   "metadata": {},
   "source": [
    "**Preparing data for generating batch pairs and remove NaN from the above data**"
   ]
  },
  {
   "cell_type": "code",
   "execution_count": 347,
   "metadata": {},
   "outputs": [
    {
     "name": "stdout",
     "output_type": "stream",
     "text": [
      "time: 3.48 ms\n"
     ]
    }
   ],
   "source": [
    "def merge_view_atb_pur(data):\n",
    "    '''\n",
    "    Merges the values in product_id_views, product_id_atb, product_id_pur and replaces NaN with [ ]\n",
    "    Args: Dataframe\n",
    "    Returns: Dataframe with sessionId and merged values\n",
    "    '''\n",
    "    merged_list = []\n",
    "    for i, row in data.iterrows():\n",
    "        views, atb, pur = row['product_id_views'], row['product_id_atb'], row['product_id_pur']\n",
    "        \n",
    "        if type(views) == list and type(atb) == list and type(pur) == list:\n",
    "            l = [views,atb,pur]\n",
    "            \n",
    "        elif type(atb) == float and type(pur) == float:\n",
    "            l = [views,[],[]]\n",
    "            \n",
    "        elif type(atb) == float:\n",
    "            l = [views,[],pur]\n",
    "            \n",
    "        elif type(pur) == float: \n",
    "            l = [views,atb,[]]\n",
    "            \n",
    "        merged_list.append(l)\n",
    "        \n",
    "    data[\"Views_Atb_Pur\"] = pd.Series(merged_list)\n",
    "    data_new = data[['Session ID','Views_Atb_Pur']].copy()\n",
    "    \n",
    "    return data_new"
   ]
  },
  {
   "cell_type": "code",
   "execution_count": 348,
   "metadata": {},
   "outputs": [
    {
     "name": "stdout",
     "output_type": "stream",
     "text": [
      "time: 5min 10s\n"
     ]
    }
   ],
   "source": [
    "sessions_data = merge_view_atb_pur(new_data)"
   ]
  },
  {
   "cell_type": "markdown",
   "metadata": {},
   "source": [
    "**Checkpoint 1**  \n",
    "**Storing the prepared data as a pickle file to avoid running the above lines**"
   ]
  },
  {
   "cell_type": "code",
   "execution_count": 351,
   "metadata": {},
   "outputs": [
    {
     "name": "stdout",
     "output_type": "stream",
     "text": [
      "time: 5.45 s\n"
     ]
    }
   ],
   "source": [
    "path = '/home/jovyan/work/a127669/Models/Data'\n",
    "output_file = os.path.join(path,'data_5449_all.pkl')\n",
    "sessions_data.to_pickle(output_file)"
   ]
  },
  {
   "cell_type": "code",
   "execution_count": 8,
   "metadata": {},
   "outputs": [
    {
     "name": "stdout",
     "output_type": "stream",
     "text": [
      "time: 41 s\n"
     ]
    }
   ],
   "source": [
    "final_data = pd.read_pickle('/home/jovyan/work/a127669/Models/Data/data_5449_all.pkl')"
   ]
  },
  {
   "cell_type": "code",
   "execution_count": 292,
   "metadata": {},
   "outputs": [
    {
     "data": {
      "text/plain": [
       "(1135622, 2)"
      ]
     },
     "execution_count": 292,
     "metadata": {},
     "output_type": "execute_result"
    },
    {
     "name": "stdout",
     "output_type": "stream",
     "text": [
      "time: 3.71 ms\n"
     ]
    }
   ],
   "source": [
    "final_data.shape"
   ]
  },
  {
   "cell_type": "code",
   "execution_count": 356,
   "metadata": {},
   "outputs": [
    {
     "data": {
      "text/html": [
       "<div>\n",
       "<style scoped>\n",
       "    .dataframe tbody tr th:only-of-type {\n",
       "        vertical-align: middle;\n",
       "    }\n",
       "\n",
       "    .dataframe tbody tr th {\n",
       "        vertical-align: top;\n",
       "    }\n",
       "\n",
       "    .dataframe thead th {\n",
       "        text-align: right;\n",
       "    }\n",
       "</style>\n",
       "<table border=\"1\" class=\"dataframe\">\n",
       "  <thead>\n",
       "    <tr style=\"text-align: right;\">\n",
       "      <th></th>\n",
       "      <th>Session ID</th>\n",
       "      <th>Views_Atb_Pur</th>\n",
       "    </tr>\n",
       "  </thead>\n",
       "  <tbody>\n",
       "    <tr>\n",
       "      <th>0</th>\n",
       "      <td>10000005</td>\n",
       "      <td>[[8153751, 8776841, 8153751, 8776841, 8153751,...</td>\n",
       "    </tr>\n",
       "    <tr>\n",
       "      <th>1</th>\n",
       "      <td>1000002551</td>\n",
       "      <td>[[8301955, 8323913, 8266279, 7787590, 5466478]...</td>\n",
       "    </tr>\n",
       "    <tr>\n",
       "      <th>2</th>\n",
       "      <td>1000002892</td>\n",
       "      <td>[[8330356, 7654600, 8330356, 6627537, 8081526,...</td>\n",
       "    </tr>\n",
       "    <tr>\n",
       "      <th>3</th>\n",
       "      <td>1000003932</td>\n",
       "      <td>[[8057021, 8057040, 8279150, 8279152, 8057052,...</td>\n",
       "    </tr>\n",
       "    <tr>\n",
       "      <th>4</th>\n",
       "      <td>1000004009</td>\n",
       "      <td>[[2764636, 6915808, 7491773, 2764636, 7955078,...</td>\n",
       "    </tr>\n",
       "  </tbody>\n",
       "</table>\n",
       "</div>"
      ],
      "text/plain": [
       "   Session ID                                      Views_Atb_Pur\n",
       "0    10000005  [[8153751, 8776841, 8153751, 8776841, 8153751,...\n",
       "1  1000002551  [[8301955, 8323913, 8266279, 7787590, 5466478]...\n",
       "2  1000002892  [[8330356, 7654600, 8330356, 6627537, 8081526,...\n",
       "3  1000003932  [[8057021, 8057040, 8279150, 8279152, 8057052,...\n",
       "4  1000004009  [[2764636, 6915808, 7491773, 2764636, 7955078,..."
      ]
     },
     "execution_count": 356,
     "metadata": {},
     "output_type": "execute_result"
    },
    {
     "name": "stdout",
     "output_type": "stream",
     "text": [
      "time: 13.8 ms\n"
     ]
    }
   ],
   "source": [
    "final_data.head()"
   ]
  },
  {
   "cell_type": "markdown",
   "metadata": {},
   "source": [
    "### Generating batch pairs"
   ]
  },
  {
   "cell_type": "code",
   "execution_count": 357,
   "metadata": {},
   "outputs": [
    {
     "name": "stdout",
     "output_type": "stream",
     "text": [
      "time: 3.69 ms\n"
     ]
    }
   ],
   "source": [
    "def get_prods(data, min_count):\n",
    "        '''\n",
    "        Generates prod_frequency, product to id, id to product dictionaries\n",
    "        \n",
    "        Args: data: Dataframe\n",
    "              min_count: Min occurence of a prod in the sessions\n",
    "        \n",
    "        Returns: prod_frequency, product to id, id to product dictionaries\n",
    "        '''\n",
    "        session_length = 0\n",
    "        extra_pairs = 0       \n",
    "        session_count = 0\n",
    "        prod_frequency = dict()\n",
    "        \n",
    "        for i, session in data.iterrows():\n",
    "            \n",
    "            session_count += 1\n",
    "            \n",
    "            \n",
    "            views = session['Views_Atb_Pur'][0]\n",
    "                \n",
    "            \n",
    "            atb = session['Views_Atb_Pur'][1]\n",
    "            \n",
    "                \n",
    "            purchases = session['Views_Atb_Pur'][2]\n",
    "           \n",
    "            \n",
    "            length = len(views) + len(atb) + len(purchases)\n",
    "            session_length += len(views)\n",
    "            \n",
    "            extra_pairs += length*len(purchases)\n",
    "            # Frequency of occurence of prods\n",
    "            for prod in views:\n",
    "                try:\n",
    "                    prod_frequency[prod] += 1\n",
    "                except:\n",
    "                    prod_frequency[prod] = 1\n",
    "        prod2id = dict()\n",
    "        id2prod = dict()\n",
    "        pid = 0\n",
    "        \n",
    "        for prod, count in prod_frequency.items():\n",
    "            if count < min_count:\n",
    "                session_length -= count\n",
    "                continue\n",
    "            prod2id[prod] = pid\n",
    "            id2prod[pid] = prod\n",
    "            \n",
    "            pid += 1\n",
    "        \n",
    "        \n",
    "        print('Product Count: %d' % len(prod2id))\n",
    "        return prod_frequency, prod2id, id2prod\n"
   ]
  },
  {
   "cell_type": "code",
   "execution_count": 358,
   "metadata": {},
   "outputs": [
    {
     "name": "stdout",
     "output_type": "stream",
     "text": [
      "Product Count: 3967\n",
      "time: 4min 24s\n"
     ]
    }
   ],
   "source": [
    "prod_frequency, prod2id, id2prod = get_prods(final_data, 10)"
   ]
  },
  {
   "cell_type": "code",
   "execution_count": 359,
   "metadata": {},
   "outputs": [
    {
     "name": "stdout",
     "output_type": "stream",
     "text": [
      "time: 1.23 ms\n"
     ]
    }
   ],
   "source": [
    "def log(file_name):\n",
    "    logger = logging.getLogger()\n",
    "    fhandler = logging.FileHandler(filename=file_name, mode='a')\n",
    "    formatter = logging.Formatter('%(asctime)s - %(name)s - %(levelname)s - %(message)s')\n",
    "    fhandler.setFormatter(formatter)\n",
    "    logger.addHandler(fhandler)\n",
    "    logger.setLevel(logging.DEBUG)"
   ]
  },
  {
   "cell_type": "code",
   "execution_count": 367,
   "metadata": {},
   "outputs": [
    {
     "name": "stdout",
     "output_type": "stream",
     "text": [
      "time: 4.4 ms\n"
     ]
    }
   ],
   "source": [
    "log('note.txt')"
   ]
  },
  {
   "cell_type": "code",
   "execution_count": 361,
   "metadata": {},
   "outputs": [
    {
     "name": "stdout",
     "output_type": "stream",
     "text": [
      "time: 687 µs\n"
     ]
    }
   ],
   "source": [
    "def get_pairs(data):\n",
    "    l = data.apply(pair)\n",
    "    return l"
   ]
  },
  {
   "cell_type": "code",
   "execution_count": 368,
   "metadata": {},
   "outputs": [
    {
     "name": "stdout",
     "output_type": "stream",
     "text": [
      "time: 4.29 ms\n"
     ]
    }
   ],
   "source": [
    "def pair(row):\n",
    "    \n",
    "    '''\n",
    "    Generates pairs (center prod, neighbor prod) or (u,v)\n",
    "    \n",
    "    Args: row: Every session [[123,345,456,678],[456,678],[678]]\n",
    "    \n",
    "    Returns:\n",
    "        Views_pairs, Atb_pairs, Pur_pairs\n",
    "    \n",
    "    '''\n",
    "    views_in_a_session = row[0]\n",
    "    atb_in_a_session = row[1]\n",
    "    pur_in_a_session = row[2]\n",
    "    \n",
    "    View_batch_pairs = []\n",
    "    ATB_batch_pairs = []\n",
    "    Pur_batch_pairs = []\n",
    "    \n",
    "    w_size = 5\n",
    "    \n",
    "    #------ Views -------\n",
    "    \n",
    "    prod_to_ids_view = []\n",
    "\n",
    "    # Create a list and store the ids of the products (views)\n",
    "    for prod in views_in_a_session:\n",
    "        try:\n",
    "            prod_to_ids_view.append(prod2id[prod])\n",
    "        except:\n",
    "            continue\n",
    "    \n",
    "    for i, u in enumerate(prod_to_ids_view):\n",
    "        for j, v in enumerate(\n",
    "                prod_to_ids_view[max(i - w_size, 0):i + w_size]):\n",
    "            assert u < len(prod_frequency)\n",
    "            assert v < len(prod_frequency)\n",
    "            if i == j:\n",
    "                continue\n",
    "            View_batch_pairs.append((u, v))\n",
    "    \n",
    "\n",
    "    #---- ATB ------\n",
    "\n",
    "    prod_to_ids_atb = []\n",
    "    # Create a list and store the ids of the products (atb)\n",
    "    for prod in atb_in_a_session:\n",
    "        try:\n",
    "            prod_to_ids_atb.append(prod2id[prod])\n",
    "        except:\n",
    "            continue\n",
    "\n",
    "    ATB_batch_pairs = ATB_batch_pairs + (list(itertools.product(prod_to_ids_view,prod_to_ids_atb)))\n",
    "    \n",
    "\n",
    "    #------Pur -------\n",
    "\n",
    "    prod_to_ids_pur= []\n",
    "\n",
    "    # Create a list and store the ids of the products (purchases)\n",
    "    for prod in pur_in_a_session:\n",
    "        try:\n",
    "            prod_to_ids_pur.append(prod2id[prod])\n",
    "        except:\n",
    "            continue\n",
    "\n",
    "    # Pairs in Views, Atb and Pur must be disjoint\n",
    "    \n",
    "    # Pairs generated for purchased prods\n",
    "    Pur_batch_pairs = Pur_batch_pairs + list(itertools.product(prod_to_ids_view,prod_to_ids_pur))\n",
    "\n",
    "    # Pairs generated for prods added to bag\n",
    "    ATB_batch_pairs = [x for x in ATB_batch_pairs if x not in Pur_batch_pairs]\n",
    "    \n",
    "    # Pairs generated for prods viewed\n",
    "    View_batch_pairs = [x for x in View_batch_pairs if x not in ATB_batch_pairs]\n",
    "    \n",
    "    \n",
    "    # Remove duplicate tuples (pairs)\n",
    "    View_batch_pairs = list(set(View_batch_pairs))\n",
    "    ATB_batch_pairs = list(set(ATB_batch_pairs))\n",
    "    Pur_batch_pairs = list(set(Pur_batch_pairs))\n",
    "    \n",
    "    logging.info('Each row Pairs generated')\n",
    "    \n",
    "    return View_batch_pairs, ATB_batch_pairs,Pur_batch_pairs\n",
    "\n",
    "\n"
   ]
  },
  {
   "cell_type": "code",
   "execution_count": 369,
   "metadata": {},
   "outputs": [
    {
     "name": "stdout",
     "output_type": "stream",
     "text": [
      "time: 1.37 ms\n"
     ]
    }
   ],
   "source": [
    "def parallelize_pairs(df, func, n_cores=48):\n",
    "    '''\n",
    "    The dataframe is split into n_cores and availability_filter is performed on each sub dataframe\n",
    "    n_cores: No of processors (96 in this env)\n",
    "    n_cores is taken as 10 as it takes less time to split the given data.\n",
    "    '''\n",
    "    df_split = np.array_split(df, n_cores)\n",
    "    pool = Pool(n_cores)\n",
    "    df = pd.concat(pool.map(func, df_split))\n",
    "    pool.close()\n",
    "    pool.join()\n",
    "    return df\n",
    "  "
   ]
  },
  {
   "cell_type": "code",
   "execution_count": 370,
   "metadata": {},
   "outputs": [
    {
     "name": "stdout",
     "output_type": "stream",
     "text": [
      "time: 4min 36s\n"
     ]
    }
   ],
   "source": [
    "result = parallelize_pairs(final_data.Views_Atb_Pur, get_pairs)"
   ]
  },
  {
   "cell_type": "markdown",
   "metadata": {},
   "source": [
    "**Store the pairs to a dataframe**"
   ]
  },
  {
   "cell_type": "code",
   "execution_count": 371,
   "metadata": {},
   "outputs": [
    {
     "name": "stdout",
     "output_type": "stream",
     "text": [
      "time: 922 ms\n"
     ]
    }
   ],
   "source": [
    "result = result.apply(list)\n",
    "res = pd.DataFrame(result)\n",
    "res.columns = ['Batch_pairs']"
   ]
  },
  {
   "cell_type": "code",
   "execution_count": 372,
   "metadata": {},
   "outputs": [
    {
     "data": {
      "text/html": [
       "<div>\n",
       "<style scoped>\n",
       "    .dataframe tbody tr th:only-of-type {\n",
       "        vertical-align: middle;\n",
       "    }\n",
       "\n",
       "    .dataframe tbody tr th {\n",
       "        vertical-align: top;\n",
       "    }\n",
       "\n",
       "    .dataframe thead th {\n",
       "        text-align: right;\n",
       "    }\n",
       "</style>\n",
       "<table border=\"1\" class=\"dataframe\">\n",
       "  <thead>\n",
       "    <tr style=\"text-align: right;\">\n",
       "      <th></th>\n",
       "      <th>Batch_pairs</th>\n",
       "    </tr>\n",
       "  </thead>\n",
       "  <tbody>\n",
       "    <tr>\n",
       "      <th>0</th>\n",
       "      <td>[[(1, 2), (3, 2), (0, 0), (1, 3), (3, 3), (3, ...</td>\n",
       "    </tr>\n",
       "    <tr>\n",
       "      <th>1</th>\n",
       "      <td>[[(6, 4), (5, 4), (4, 7), (6, 7), (4, 6), (6, ...</td>\n",
       "    </tr>\n",
       "    <tr>\n",
       "      <th>2</th>\n",
       "      <td>[[(11, 10), (10, 11), (10, 12), (9, 10), (9, 1...</td>\n",
       "    </tr>\n",
       "    <tr>\n",
       "      <th>3</th>\n",
       "      <td>[[(14, 17), (15, 13), (13, 13), (19, 19), (18,...</td>\n",
       "    </tr>\n",
       "    <tr>\n",
       "      <th>4</th>\n",
       "      <td>[[(21, 28), (26, 28), (23, 26), (28, 26), (24,...</td>\n",
       "    </tr>\n",
       "  </tbody>\n",
       "</table>\n",
       "</div>"
      ],
      "text/plain": [
       "                                         Batch_pairs\n",
       "0  [[(1, 2), (3, 2), (0, 0), (1, 3), (3, 3), (3, ...\n",
       "1  [[(6, 4), (5, 4), (4, 7), (6, 7), (4, 6), (6, ...\n",
       "2  [[(11, 10), (10, 11), (10, 12), (9, 10), (9, 1...\n",
       "3  [[(14, 17), (15, 13), (13, 13), (19, 19), (18,...\n",
       "4  [[(21, 28), (26, 28), (23, 26), (28, 26), (24,..."
      ]
     },
     "execution_count": 372,
     "metadata": {},
     "output_type": "execute_result"
    },
    {
     "name": "stdout",
     "output_type": "stream",
     "text": [
      "time: 54.3 ms\n"
     ]
    }
   ],
   "source": [
    "res.head()"
   ]
  },
  {
   "cell_type": "markdown",
   "metadata": {},
   "source": [
    "**Save the pairs df as pickle file to avoid running the pairs generation**"
   ]
  },
  {
   "cell_type": "code",
   "execution_count": 373,
   "metadata": {},
   "outputs": [
    {
     "name": "stdout",
     "output_type": "stream",
     "text": [
      "time: 1min 23s\n"
     ]
    }
   ],
   "source": [
    "def save_df(filename):\n",
    "    path = '/home/jovyan/work/a127669/Models/Batch_pairs/'\n",
    "    output_file = os.path.join(path,'{}.pkl'.format(filename))\n",
    "    res.to_pickle(output_file)\n",
    "    print('The pairs are saved as {}.pkl'.format(filename))"
   ]
  },
  {
   "cell_type": "code",
   "execution_count": null,
   "metadata": {},
   "outputs": [],
   "source": [
    "save_df('pairs')"
   ]
  },
  {
   "cell_type": "code",
   "execution_count": null,
   "metadata": {},
   "outputs": [],
   "source": [
    "def read_pkl(filename):\n",
    "    batch_pairs = pd.read_pickle('/home/jovyan/work/a127669/Models/Batch_pairs/{}.pkl'.format(filename))\n",
    "    batch_pairs.columns = ['Batch_pairs']\n",
    "    \n",
    "    return batch_pairs"
   ]
  },
  {
   "cell_type": "code",
   "execution_count": 374,
   "metadata": {},
   "outputs": [
    {
     "name": "stdout",
     "output_type": "stream",
     "text": [
      "time: 33.9 s\n"
     ]
    }
   ],
   "source": [
    "batch_pairs = read_pkl('pairs')"
   ]
  },
  {
   "cell_type": "code",
   "execution_count": 375,
   "metadata": {},
   "outputs": [
    {
     "data": {
      "text/plain": [
       "(1135622, 1)"
      ]
     },
     "execution_count": 375,
     "metadata": {},
     "output_type": "execute_result"
    },
    {
     "name": "stdout",
     "output_type": "stream",
     "text": [
      "time: 3.07 ms\n"
     ]
    }
   ],
   "source": [
    "batch_pairs.shape"
   ]
  },
  {
   "cell_type": "code",
   "execution_count": 3,
   "metadata": {},
   "outputs": [
    {
     "name": "stdout",
     "output_type": "stream",
     "text": [
      "time: 4.23 ms\n"
     ]
    }
   ],
   "source": [
    "def batch_generations(batch_size):\n",
    "    '''\n",
    "    Creates a dataframe with num of pairs = batch_size as a single row of the dataframe\n",
    "    Each row is accessed to train\n",
    "    Args: Batch size\n",
    "    \n",
    "    Returns: Dataframe\n",
    "    '''\n",
    "    count = 0\n",
    "    l1 = []\n",
    "    l2 = []\n",
    "    l3 = []\n",
    "    L=[]\n",
    "    batch_count = batch_size\n",
    "    # Create a dataframe\n",
    "    df= pd.DataFrame(columns=['Batch_pairs'])\n",
    "    # Iterate over the dataframe\n",
    "    for i, row in batch_pairs.iterrows():\n",
    "\n",
    "        views = len((row['Batch_pairs'][0]))\n",
    "        atb = len((row['Batch_pairs'][1]))\n",
    "        pur = len((row['Batch_pairs'][2]))\n",
    "\n",
    "        if count <= batch_count:\n",
    "\n",
    "            if views > 0 : l1.append(row['Batch_pairs'][0])\n",
    "            if atb > 0 : l2.append(row['Batch_pairs'][1])\n",
    "            if pur > 0 : l3.append(row['Batch_pairs'][2])\n",
    "\n",
    "            count += len((row['Batch_pairs'][0])) + len((row['Batch_pairs'][1])) + len((row['Batch_pairs'][2])) \n",
    "\n",
    "        if count > batch_count:\n",
    "            # convert to a list of lists to a single list\n",
    "            list1 = [item for sublist in l1 for item in sublist]\n",
    "            list2 = [item for sublist in l2 for item in sublist]\n",
    "            list3 = [item for sublist in l3 for item in sublist]\n",
    "            \n",
    "            L.append([list1, list2, list3])\n",
    "            l1,l2,l3 = [],[],[]\n",
    "            count =0\n",
    "\n",
    "        # Reached end of the dataframe \n",
    "        if i == len(batch_pairs.index)-1 and count < batch_count:\n",
    "            \n",
    "            list1 = [item for sublist in l1 for item in sublist]\n",
    "            list2 = [item for sublist in l2 for item in sublist]\n",
    "            list3 = [item for sublist in l3 for item in sublist]\n",
    "\n",
    "            L.append([list1, list2, list3])\n",
    "\n",
    "\n",
    "    df['pairs'] = pd.Series(L).values     \n",
    "    return df\n"
   ]
  },
  {
   "cell_type": "code",
   "execution_count": null,
   "metadata": {},
   "outputs": [],
   "source": [
    "batches = batch_generations(2056)"
   ]
  },
  {
   "cell_type": "markdown",
   "metadata": {},
   "source": [
    "**Store batches as pkl file**"
   ]
  },
  {
   "cell_type": "code",
   "execution_count": null,
   "metadata": {},
   "outputs": [],
   "source": [
    "path = '/home/jovyan/work/a127669/Models/'\n",
    "output_file = os.path.join(path,'batches.pkl')\n",
    "batches.to_pickle(output_file)"
   ]
  },
  {
   "cell_type": "markdown",
   "metadata": {},
   "source": [
    "### Checkpoint 2: \n",
    "Run the below lines to train the model with different parameters ```Window size``` and ```Embedding size```"
   ]
  },
  {
   "cell_type": "markdown",
   "metadata": {},
   "source": [
    "### Model: Word2vec 2.0 in Pytorch"
   ]
  },
  {
   "cell_type": "code",
   "execution_count": 4,
   "metadata": {},
   "outputs": [
    {
     "name": "stdout",
     "output_type": "stream",
     "text": [
      "time: 5.48 ms\n"
     ]
    }
   ],
   "source": [
    "class InputData:\n",
    "    \"\"\"Store data for word2vec, such as product map, sampling table and so on.\n",
    "\n",
    "    Attributes:\n",
    "        prod_frequency: Count of each product, used for filtering low-frequency product and sampling table\n",
    "        prod2id: Map from product to product id, without low-frequency product.\n",
    "        id2prod: Map from product id to product, without low-frequency product.\n",
    "        session_count: Session count in files. \n",
    "        product_count: product count in files, without low-frequency product.\n",
    "    \"\"\"\n",
    "    \n",
    "    \n",
    "    def __init__(self,data, min_count):\n",
    "       \n",
    "        self.get_prods(min_count)\n",
    "        self.View_word_pair_catch = []\n",
    "        self.ATB_batch_pairs = []\n",
    "        self.Pur_batch_pairs =[]\n",
    "        self.init_sample_table()\n",
    "        self.data = data\n",
    "    \n",
    "\n",
    "    def get_prods(self, min_count):\n",
    "        \n",
    "        self.views = 0\n",
    "        self.atb = 0\n",
    "        self.purchases = 0\n",
    "        self.extra_pairs = 0       \n",
    "        self.session_count = 0\n",
    "        self.session_length = 0\n",
    "        prod_frequency = {}\n",
    "        for i, session in self.data.iterrows():\n",
    "            \n",
    "            self.session_count += 1\n",
    "            views = session['Views_Atb_Pur'][0]\n",
    "            atb = session['Views_Atb_Pur'][1]\n",
    "            purchases = session['Views_Atb_Pur'][2]\n",
    "            \n",
    "            length = len(views) + len(atb) + len(purchases)\n",
    "            \n",
    "            self.session_length += len(views)\n",
    "            self.extra_pairs += length*len(purchases)\n",
    "            \n",
    "            self.views += len(views)\n",
    "            self.atb += len(atb)\n",
    "            self.purchases += len(purchases)\n",
    "            self.extra_pairs += length*len(purchases)\n",
    "            for prod in views:\n",
    "                try:\n",
    "                    prod_frequency[prod] += 1\n",
    "                except:\n",
    "                    prod_frequency[prod] = 1\n",
    "        \n",
    "        self.prod2id = {}\n",
    "        self.id2prod = {}\n",
    "        pid = 0\n",
    "        self.temp_prod = {}\n",
    "        \n",
    "        for prod, count in prod_frequency.items():\n",
    "            if count < min_count:\n",
    "                continue\n",
    "            self.prod2id[prod] = pid\n",
    "            self.id2prod[pid] = prod\n",
    "            self.temp_prod[pid] = count\n",
    "            pid += 1\n",
    "        \n",
    "        self.session_count = len(self.prod2id)\n",
    "        \n",
    "        print('Prod Count: %d' % len(self.prod2id))\n",
    "        print('Total prods viewed: {}, Total prods added to bag: {}, Total prods purchases: {}'.format(self.views,self.atb,self.purchases))\n",
    "        \n",
    "\n",
    "    def init_sample_table(self):\n",
    "        self.sample_table = []\n",
    "        sample_table_size = 1e8\n",
    "        pow_frequency = np.array(list(self.temp_prod.values()))**0.75\n",
    "        prod_pow = sum(pow_frequency)\n",
    "        ratio = pow_frequency / prod_pow\n",
    "        count = np.round(ratio * sample_table_size)\n",
    "        for pid, c in enumerate(count):\n",
    "            self.sample_table += [pid] * int(c)\n",
    "        self.sample_table = np.array(self.sample_table)\n",
    "\n",
    "\n",
    "    def get_neg_v_neg_sampling(self, pos_prod_pair, count):\n",
    "        neg_v = np.random.choice(\n",
    "            self.sample_table, size=(len(pos_prod_pair), count)).tolist()\n",
    "        return neg_v\n",
    "\n"
   ]
  },
  {
   "cell_type": "code",
   "execution_count": 5,
   "metadata": {},
   "outputs": [
    {
     "name": "stdout",
     "output_type": "stream",
     "text": [
      "time: 259 ms\n"
     ]
    }
   ],
   "source": [
    "import torch\n",
    "from torch.autograd import Variable\n",
    "import torch.nn as nn\n",
    "import torch.nn.functional as F\n",
    "\n",
    "\n",
    "class SkipGramModel(nn.Module):\n",
    "    \"\"\"Skip gram model of word2vec.\n",
    "\n",
    "    Attributes:\n",
    "        emb_size: Embedding size.\n",
    "        emb_dimention: Embedding dimention, typically from 50 to 500.\n",
    "        u_embedding: Embedding for center prod.\n",
    "        v_embedding: Embedding for adjacent prods.\n",
    "    \"\"\"\n",
    "\n",
    "    def __init__(self, vocab_size, emb_dimension):\n",
    "        \"\"\"Initialize model parameters.\n",
    "\n",
    "        Apply for two embedding layers.\n",
    "        Initialize layer weight\n",
    "\n",
    "        Args:\n",
    "            emb_size: Embedding size.\n",
    "            emb_dimention: Embedding dimention, typically from 50 to 500.\n",
    "\n",
    "        Returns:\n",
    "            None\n",
    "        \"\"\"\n",
    "        super(SkipGramModel, self).__init__()\n",
    "        self.vocab_size = vocab_size\n",
    "        self.emb_dimension = emb_dimension\n",
    "        self.u_embeddings = nn.Embedding(self.vocab_size, emb_dimension, sparse=True) # Embedding matrix( for center products)\n",
    "        self.v_embeddings = nn.Embedding(self.vocab_size, emb_dimension, sparse=True) # Context matrix (for neighboring products)\n",
    "        self.init_emb() # Initialize the embeddings with random values\n",
    "\n",
    "    def init_emb(self):\n",
    "        \"\"\"Initialize embedding weight like word2vec.\n",
    "\n",
    "        The u_embedding is a uniform distribution in [-0.5/em_size, 0.5/emb_size], and the elements of v_embedding are zeroes.\n",
    "\n",
    "        Returns:\n",
    "            None\n",
    "        \"\"\"\n",
    "        initrange = 0.5 / self.emb_dimension\n",
    "        self.u_embeddings.weight.data.uniform_(-initrange, initrange)\n",
    "        self.v_embeddings.weight.data.uniform_(-0, 0)\n",
    "\n",
    "    def forward(self, V_pos_u, V_pos_v,V_neg_v,\n",
    "                ATB_pos_u, ATB_pos_v,ATB_neg_v, \n",
    "                P_pos_u, P_pos_v,P_neg_v):\n",
    "        \"\"\"Forward process.\n",
    "\n",
    "        As pytorch designed, all variables must be batch format, so all input of this method is a list of word id.\n",
    "\n",
    "        Args:\n",
    "            pos_u: list of center prod ids for positive prod pairs.\n",
    "            pos_v: list of neibor prod ids for positive prod pairs.\n",
    "            neg_u: list of center prod ids for negative prod pairs.\n",
    "            neg_v: list of neibor prod ids for negative prod pairs.\n",
    "\n",
    "        Returns:\n",
    "            Loss of this process, a pytorch variable.\n",
    "        \n",
    "        Formula:\n",
    "        \n",
    "        Loss = sum P(log (1/1+e^(-VcVl)) +  sum N(log (1/1+e^V'cVl)) + sum(log(1+1/e^-V'lb Vl)) + sum Mn(log(1+1/e^v'mn vl))\n",
    "        \n",
    "        Vl : central product whose vector is being updated\n",
    "        \n",
    "        P: positive set of pairs (l,c) that represent (central listing, context listing) tuples whose vectors are being pushed toward one another\n",
    "        \n",
    "        N: negative set of pairs (l,c) that represent (central listing, random listing) tuples whose vectors are being pushed away from each other\n",
    "        \n",
    "        lb: booked listing that is treated as global context and pushed toward central listing vector\n",
    "        \n",
    "        Mn is a market negatives set of pairs (l,mn) that represent (central listing, random listing from same market) \n",
    "        tuples whose vectors are being pushed away from each other\n",
    "        \n",
    "        \"\"\"\n",
    "        \n",
    "        \n",
    "        score = 0\n",
    "        #---------------------------------------------------- Views ----------------------------------------------------\n",
    "        \n",
    "        if len(V_pos_u) != 0:\n",
    "            \n",
    "            V_emb_u = self.u_embeddings(V_pos_u) # center products embedding\n",
    "            V_emb_v = self.v_embeddings(V_pos_v) # neighbor products embedding\n",
    "            # Squeezing a tensor removes the dimensions or axes that have a length of one.\n",
    "            # Unsqueezing a tensor adds a dimension with a length of one.\n",
    "            \n",
    "            V_score = torch.mul(V_emb_u, V_emb_v).squeeze()\n",
    "            if len(V_score.size()) == 1:\n",
    "                V_score = torch.sum(V_score)\n",
    "            else:\n",
    "                V_score = torch.sum(V_score, dim = 1)\n",
    "            V_score = F.logsigmoid(V_score)\n",
    "\n",
    "            V_neg_emb_v = self.v_embeddings(V_neg_v)\n",
    "            V_neg_score = torch.bmm(V_neg_emb_v, V_emb_u.unsqueeze(2)).squeeze()\n",
    "            V_neg_score = F.logsigmoid(-1 * V_neg_score)\n",
    "            score = torch.sum(V_score) + torch.sum(V_neg_score)\n",
    "        \n",
    "        #---------------------------------------------------- Add to bag ----------------------------------------------------   \n",
    "        \n",
    "        if len(ATB_pos_u) != 0:\n",
    "            ATB_emb_u = self.u_embeddings(ATB_pos_u)\n",
    "            ATB_emb_v = self.v_embeddings(ATB_pos_v)\n",
    "            ATB_score = torch.mul(ATB_emb_u, ATB_emb_v).squeeze()\n",
    "            if len(ATB_score.size()) == 1:\n",
    "                ATB_score = torch.sum(ATB_score)\n",
    "            else:\n",
    "                ATB_score = torch.sum(ATB_score, dim = 1)\n",
    "            ATB_score = F.logsigmoid(ATB_score)\n",
    "\n",
    "            ATB_neg_emb_v = self.v_embeddings(ATB_neg_v)\n",
    "            ATB_neg_score = torch.bmm(ATB_neg_emb_v, ATB_emb_u.unsqueeze(2)).squeeze()\n",
    "            ATB_neg_score = F.logsigmoid(-1 * ATB_neg_score)\n",
    "            score = score +  3*torch.sum(ATB_score) + torch.sum(ATB_neg_score)\n",
    "            \n",
    "        #---------------------------------------------------- Purchased prods ----------------------------------------------------\n",
    "        if len(P_pos_u) != 0:\n",
    "            P_emb_u = self.u_embeddings(P_pos_u)\n",
    "            P_emb_v = self.v_embeddings(P_pos_v)\n",
    "            P_score = torch.mul(P_emb_u, P_emb_v).squeeze()\n",
    "            if len(P_score.size()) == 1:\n",
    "                P_score = torch.sum(P_score)\n",
    "            else:\n",
    "                P_score = torch.sum(P_score, dim = 1)\n",
    "            P_score = F.logsigmoid(P_score)\n",
    "            \n",
    "            P_neg_emb_v = self.v_embeddings(P_neg_v)\n",
    "            P_neg_score = torch.bmm(P_neg_emb_v, P_emb_u.unsqueeze(2)).squeeze()\n",
    "            P_neg_score = F.logsigmoid(-1 * P_neg_score)\n",
    "            score = score + 6*torch.sum(P_score) + torch.sum(P_neg_score)\n",
    "        return -1*score\n",
    "        \n",
    "    def save_embedding(self,id2prod, filename, use_cuda):\n",
    "        \"\"\"Save all embeddings to file.\n",
    "\n",
    "        As this class only record prod id, so the map from id to prod has to be transfered from outside.\n",
    "\n",
    "        Args:\n",
    "            id2prod: map from prod id to prod.\n",
    "            file_name: file name.\n",
    "        Returns:\n",
    "            None.\n",
    "        \"\"\"\n",
    "        \n",
    "        if use_cuda:\n",
    "            embedding = self.u_embeddings.weight.cpu().data.numpy()\n",
    "        else:\n",
    "            embedding = self.u_embeddings.weight.data.numpy()\n",
    "        \n",
    "        emb_list = []\n",
    "        index = []\n",
    "        for pid, prod in id2prod.items():\n",
    "            emb = embedding[pid]\n",
    "            index.append(prod)\n",
    "            emb_list.append(emb)\n",
    "        df = pd.DataFrame(emb_list, index=index)\n",
    "        path = '/home/jovyan/work/a127669/Models/Trainedembeddings/'\n",
    "        output_file = os.path.join(path,'{}.pkl'.format(filename))\n",
    "        df.to_pickle(output_file)\n",
    "        print(\"The trained embeddings are saved to a file, {}.pkl\".format(filename))\n",
    "        \n"
   ]
  },
  {
   "cell_type": "markdown",
   "metadata": {},
   "source": [
    "**Load the data**"
   ]
  },
  {
   "cell_type": "code",
   "execution_count": null,
   "metadata": {},
   "outputs": [],
   "source": [
    "final_data = pd.read_pickle('/home/jovyan/work/a127669/Models/Cleaned_data/data_5449_all.pkl')"
   ]
  },
  {
   "cell_type": "markdown",
   "metadata": {},
   "source": [
    "**Loading batches to train the model**"
   ]
  },
  {
   "cell_type": "code",
   "execution_count": null,
   "metadata": {},
   "outputs": [],
   "source": [
    "def read_pkl(filename):\n",
    "    batch_pairs = pd.read_pickle('/home/jovyan/work/a127669/Models/{}.pkl'.format(filename))\n",
    "    batch_pairs.columns = ['Batch_pairs']\n",
    "    \n",
    "    return batch_pairs"
   ]
  },
  {
   "cell_type": "code",
   "execution_count": null,
   "metadata": {},
   "outputs": [],
   "source": [
    "train_batches = read_pkl('batches')"
   ]
  },
  {
   "cell_type": "code",
   "execution_count": 380,
   "metadata": {},
   "outputs": [
    {
     "data": {
      "text/plain": [
       "(61834, 1)"
      ]
     },
     "execution_count": 380,
     "metadata": {},
     "output_type": "execute_result"
    },
    {
     "name": "stdout",
     "output_type": "stream",
     "text": [
      "time: 2.93 ms\n"
     ]
    }
   ],
   "source": [
    "train_batches.shape"
   ]
  },
  {
   "cell_type": "code",
   "execution_count": 6,
   "metadata": {},
   "outputs": [
    {
     "name": "stdout",
     "output_type": "stream",
     "text": [
      "time: 14.1 ms\n"
     ]
    }
   ],
   "source": [
    "from torch.autograd import Variable\n",
    "import torch\n",
    "import torch.nn as nn\n",
    "import torch.optim as optim\n",
    "from tqdm import tqdm\n",
    "import sys\n",
    "\n",
    "\n",
    "class Word2Vec:\n",
    "    def __init__(self,\n",
    "                 data,\n",
    "                 output_file_name,\n",
    "                 emb_dimension,\n",
    "                 window_size,\n",
    "                min_count,\n",
    "                 batch_size=2056,\n",
    "                 iteration=1,\n",
    "                 initial_lr=0.025):\n",
    "        \n",
    "        \"\"\"Initilize class parameters.\n",
    "\n",
    "        Args:\n",
    "            input_file_name: Name of a text data from file. Each line is a sentence splited with space.\n",
    "            output_file_name: Name of the final embedding file.\n",
    "            emb_dimention: Embedding dimention, typically from 50 to 500.\n",
    "            batch_size: The count of word pairs for one forward.\n",
    "            window_size: Max skip length between words.\n",
    "            iteration: Control the multiple training iterations.\n",
    "            initial_lr: Initial learning rate.\n",
    "            min_count: The minimal word frequency, words with lower frequency will be filtered.\n",
    "\n",
    "        Returns:\n",
    "            None.\n",
    "        \"\"\"\n",
    "        self.data = InputData(data, min_count)\n",
    "        \n",
    "        self.output_file_name = output_file_name\n",
    "        self.vocab_size = len(self.data.prod2id)\n",
    "        self.emb_dimension = emb_dimension\n",
    "        self.batch_size = batch_size\n",
    "        self.window_size = window_size\n",
    "        self.iteration = iteration\n",
    "        self.initial_lr = initial_lr\n",
    "        \n",
    "        self.skip_gram_model = SkipGramModel(self.vocab_size, self.emb_dimension)\n",
    "        self.use_cuda = torch.cuda.is_available()\n",
    "        if self.use_cuda:\n",
    "            self.skip_gram_model.cuda()\n",
    "        self.optimizer = optim.SGD(\n",
    "            self.skip_gram_model.parameters(), lr=self.initial_lr)\n",
    "        self.count = 1\n",
    "        self.total_batch_count = 0\n",
    "        \n",
    "    def train(self):\n",
    "        \"\"\"Multiple training.\n",
    "        \n",
    "        Returns:\n",
    "            None.\n",
    "        \"\"\"\n",
    "        \n",
    "        process_bar = tqdm(range(len(train_batches.index)))\n",
    "        loss_val = 0\n",
    "        for i in process_bar:\n",
    "            row = train_batches.Batch_pairs[i]\n",
    "            \n",
    "         \n",
    "\n",
    "            V_pos_pairs = row[0]\n",
    "            ATB_pos_pairs = row[1]\n",
    "            P_pos_pairs = row[2]\n",
    "            \n",
    "            \n",
    "            #print('len of pos views {}, len of pos atb {}, len of pos pur {}'.format(\n",
    "            #len(V_pos_pairs), len(ATB_pos_pairs), len(P_pos_pairs)))\n",
    "            \n",
    "\n",
    "            batch_pairs_count = len(V_pos_pairs)+ len(ATB_pos_pairs)+len(P_pos_pairs)\n",
    "            self.total_batch_count += batch_pairs_count\n",
    "            \n",
    "            V_pos_u = [pair[0] for pair in V_pos_pairs]\n",
    "            V_pos_v = [pair[1] for pair in V_pos_pairs]\n",
    "            V_neg_v = self.data.get_neg_v_neg_sampling(V_pos_pairs, 5)\n",
    "\n",
    "\n",
    "            V_neg_v = Variable(torch.LongTensor(V_neg_v))\n",
    "            V_pos_u = Variable(torch.LongTensor(V_pos_u))\n",
    "            V_pos_v = Variable(torch.LongTensor(V_pos_v))\n",
    "\n",
    "\n",
    "            if ATB_pos_pairs:\n",
    "                \n",
    "                ATB_pos_u = [pair[0] for pair in ATB_pos_pairs]\n",
    "                ATB_pos_v = [pair[1] for pair in ATB_pos_pairs]\n",
    "                ATB_neg_v = self.data.get_neg_v_neg_sampling(ATB_pos_pairs, 5)\n",
    "\n",
    "\n",
    "                ATB_pos_u = Variable(torch.LongTensor(ATB_pos_u))\n",
    "                ATB_pos_v = Variable(torch.LongTensor(ATB_pos_v))\n",
    "                ATB_neg_v = Variable(torch.LongTensor(ATB_neg_v))\n",
    "\n",
    "            else:\n",
    "                \n",
    "                ATB_pos_u = torch.zeros(0,0)\n",
    "                ATB_pos_v = torch.zeros(0,0)\n",
    "                ATB_neg_v = torch.zeros(0,0)\n",
    "\n",
    "\n",
    "            if P_pos_pairs: \n",
    "                P_pos_u = [pair[0] for pair in P_pos_pairs]\n",
    "                P_pos_v = [pair[1] for pair in P_pos_pairs]\n",
    "                P_neg_v = self.data.get_neg_v_neg_sampling(P_pos_pairs, 5)            \n",
    "\n",
    "                P_pos_u = Variable(torch.LongTensor(P_pos_u))\n",
    "                P_pos_v = Variable(torch.LongTensor(P_pos_v))\n",
    "                P_neg_v = Variable(torch.LongTensor(P_neg_v))\n",
    "\n",
    "            else:\n",
    "                P_pos_u = torch.zeros(0,0)\n",
    "                P_pos_v = torch.zeros(0,0)\n",
    "                P_neg_v = torch.zeros(0,0)\n",
    "\n",
    "\n",
    "            if self.use_cuda:\n",
    "                V_pos_u = V_pos_u.cuda()\n",
    "                V_pos_v = V_pos_v.cuda()\n",
    "                V_neg_v = V_neg_v.cuda()\n",
    "\n",
    "                if ATB_pos_pairs:\n",
    "                    ATB_pos_u = ATB_pos_u.cuda()\n",
    "                    ATB_pos_v = ATB_pos_v.cuda()\n",
    "                    ATB_neg_v = ATB_neg_v.cuda()\n",
    "                if P_pos_pairs:    \n",
    "                    P_pos_u = P_pos_u.cuda()\n",
    "                    P_pos_v = P_pos_v.cuda()\n",
    "                    P_neg_v = P_neg_v.cuda()\n",
    "\n",
    "            self.optimizer.zero_grad()\n",
    "            \n",
    "            loss = self.skip_gram_model.forward(V_pos_u, V_pos_v,V_neg_v,\n",
    "                ATB_pos_u, ATB_pos_v,ATB_neg_v, \n",
    "                P_pos_u, P_pos_v,P_neg_v)\n",
    "            \n",
    "             \n",
    "            loss.backward()\n",
    "            \n",
    "            self.optimizer.step()\n",
    "\n",
    "            process_bar.set_description(\"Loss: %0.8f, lr: %0.6f\" %\n",
    "                                        (loss.item(),\n",
    "                                         self.optimizer.param_groups[0]['lr']))\n",
    "            \n",
    "\n",
    "    def save(self):\n",
    "        print(\"Total no of batch pairs: %d\" % self.total_batch_count)\n",
    "        self.skip_gram_model.save_embedding(self.data.id2prod, self.output_file_name, self.use_cuda)\n",
    "        "
   ]
  },
  {
   "cell_type": "markdown",
   "metadata": {},
   "source": [
    "### To test for one set of parameters"
   ]
  },
  {
   "cell_type": "code",
   "execution_count": 9,
   "metadata": {},
   "outputs": [
    {
     "name": "stdout",
     "output_type": "stream",
     "text": [
      "Prod Count: 3967\n",
      "Total prods viewed: 21763601, Total prods added to bag: 2492134, Total prods purchases: 737335\n"
     ]
    },
    {
     "name": "stderr",
     "output_type": "stream",
     "text": [
      "Loss: 9735.94238281, lr: 0.025000:   0%|          | 4/61834 [00:00<26:29, 38.90it/s] "
     ]
    },
    {
     "name": "stdout",
     "output_type": "stream",
     "text": [
      "Generating batches.......\n"
     ]
    },
    {
     "name": "stderr",
     "output_type": "stream",
     "text": [
      "Loss: 456.04577637, lr: 0.025000: 100%|██████████| 61834/61834 [24:05<00:00, 42.74it/s]\n"
     ]
    },
    {
     "name": "stdout",
     "output_type": "stream",
     "text": [
      "Total no of batch pairs: 136764459\n",
      "The trained embeddings are saved to a file, 5449_trained_embeddings_50.pkl\n",
      "time: 28min 32s\n"
     ]
    }
   ],
   "source": [
    "w2v = Word2Vec(final_data, output_file_name='5449_trained_embeddings_50', window_size=5, emb_dimension=50, min_count=10)\n",
    "w2v.train()\n",
    "w2v.save()"
   ]
  },
  {
   "cell_type": "markdown",
   "metadata": {},
   "source": [
    "**Load the trained embeddings**"
   ]
  },
  {
   "cell_type": "code",
   "execution_count": 11,
   "metadata": {},
   "outputs": [
    {
     "name": "stdout",
     "output_type": "stream",
     "text": [
      "time: 7.06 ms\n"
     ]
    }
   ],
   "source": [
    "trained_embeddings = pd.read_pickle('/home/jovyan/work/a127669/Models/5449_trained_embeddings_50.pkl')"
   ]
  },
  {
   "cell_type": "markdown",
   "metadata": {},
   "source": [
    "**Generate recommendations**"
   ]
  },
  {
   "cell_type": "code",
   "execution_count": 20,
   "metadata": {},
   "outputs": [
    {
     "name": "stdout",
     "output_type": "stream",
     "text": [
      "time: 5.68 ms\n"
     ]
    }
   ],
   "source": [
    "class recommendation:\n",
    "    \n",
    "    def __init__(self, trained_embeddings):\n",
    "        \n",
    "        \n",
    "        self.rec_list = self.get_recoms(trained_embeddings)\n",
    "        self.products = list(self.recoms.keys()) # unique products list\n",
    "        self.product_list = [self.products[i//15] for i in range(len(self.products)*15)] # duplicate each product 15 times\n",
    "        self.results = pd.DataFrame(columns=['key', 'RPID', 'score']) # the format needed for the recomevaluator\n",
    "        score = [x for x in range(15,0,-1)] * len(self.products) # Each recommendation must have a score from 15 to 1\n",
    "        self.results[\"key\"] = pd.Series(self.product_list)\n",
    "        \n",
    "        self.results['RPID'] = pd.Series(self.rec_list)\n",
    "        self.results[\"score\"] = pd.Series(score)    \n",
    "        \n",
    "    def get_recoms(self, df):\n",
    "\n",
    "        item_factors = df.values\n",
    "        item_mappings = dict(zip(np.arange(df.shape[0]), df.index.values))\n",
    "        num = 15\n",
    "        self.recoms = {}\n",
    "\n",
    "        for i, item_factor in enumerate(item_factors):\n",
    "            prod = item_factor.reshape(-1,1)\n",
    "            pid = item_mappings[i]\n",
    "            dist = cosine_similarity(item_factors, prod.T )\n",
    "            norms = np.sqrt( np.linalg.norm( item_factors, axis=1 ).reshape( -1, 1 ) )\n",
    "            dist = np.multiply( dist, norms ).reshape( -1 )\n",
    "            close_idx = heapq.nlargest( num + 1, range( len( dist ) ), dist.take )\n",
    "            close_pids = np.vectorize( item_mappings.__getitem__ )( close_idx )\n",
    "            close_pids = close_pids[ (close_pids != pid) ]\n",
    "            self.recoms[pid] = close_pids\n",
    "            recommendations = list(self.recoms.values())\n",
    "            rec_list = [item for sublist in recommendations for item in sublist]\n",
    "        return rec_list \n",
    "    \n",
    "    def visualize_recommendation(self, i):\n",
    "        # i: index of the productid in the list\n",
    "        print(\"Anchor product\")\n",
    "        display_recom_panel([self.products[i]])\n",
    "        print(\"Recommendations\")\n",
    "        display_recom_panel(list(self.rec_list[i]))\n",
    "        \n",
    "    def _to_CSV(self,filename):\n",
    "        path = '/home/jovyan/work/a127669/Results/Airbnb/'\n",
    "        output_file = os.path.join(path,'recommendations_{}.csv'.format(filename))\n",
    "        self.results.to_csv(output_file, sep='\\t',index=False)"
   ]
  },
  {
   "cell_type": "code",
   "execution_count": null,
   "metadata": {},
   "outputs": [],
   "source": [
    "r = recommendation(trained_embeddings)\n",
    "r._to_CSV('w5_size50')"
   ]
  },
  {
   "cell_type": "code",
   "execution_count": null,
   "metadata": {},
   "outputs": [],
   "source": [
    "    \n",
    "CONFIG_LOAD_RECS = {\n",
    "    \n",
    "    \"Model_w5_s50\": \"/home/jovyan/work/a127669/Results/Airbnb/recommendations_w5_s50.csv\"\n",
    "    \n",
    "}\n",
    "\n",
    "CONFIG_EVAL_RECS = {\n",
    "    \"test_data_folder\": \"/home/jovyan/datasets/d_test_20190507_5449_1_reg/\",\n",
    "    \"seed\": 300,  # to have reproducible results while sampling events from the test dataset\n",
    "    \"recommenders_characteristics\": [\"Model_w5_s50\"],\n",
    "}\n",
    "\n",
    "CONFIG_SAVE_RESULTS_PDF = {\n",
    "    \"test_data_folder\": \"/home/jovyan/datasets/d_test_20190507_5449_1_reg/\",             # test dataset is the same as in evaluation\n",
    "    \"seed\": 300,                                                # seed is the same as in evaluation\n",
    "    \"report_folder\": \"/home/jovyan/work/a127669/Tests/\",                     # where to put the report, temporary location\n",
    "    \"report_name\": \"report_w7_s250\",                                    # timestamp will be appended automatically\n",
    "    \"report_num_pids\": 20,                                      # how many products with visual recommendations will be in the report\n",
    "}\n",
    "\n",
    "CONFIG_EVAL = {\n",
    "    'load_recs'          : CONFIG_LOAD_RECS,\n",
    "    'eval_recs'          : CONFIG_EVAL_RECS,\n",
    "    'save_results_pdf'   : CONFIG_SAVE_RESULTS_PDF,\n",
    "}"
   ]
  },
  {
   "cell_type": "code",
   "execution_count": null,
   "metadata": {},
   "outputs": [],
   "source": [
    "si_metrics, si_evaluator, ra_metrics, report_path = evaluate_recoms.run_all(CONFIG_EVAL)"
   ]
  },
  {
   "cell_type": "markdown",
   "metadata": {},
   "source": [
    "### To try different combinations of \n",
    "```Window size``` and ```Embedding size```"
   ]
  },
  {
   "cell_type": "code",
   "execution_count": 12,
   "metadata": {},
   "outputs": [
    {
     "name": "stdout",
     "output_type": "stream",
     "text": [
      "time: 731 µs\n"
     ]
    }
   ],
   "source": [
    "window_sizes = [5]\n",
    "embedding_sizes = [50]"
   ]
  },
  {
   "cell_type": "markdown",
   "metadata": {},
   "source": [
    "**After training the model, embeddings are stored as pkl file**"
   ]
  },
  {
   "cell_type": "code",
   "execution_count": null,
   "metadata": {},
   "outputs": [],
   "source": [
    "for w in range(len(window_sizes)):\n",
    "    for e in range(len(embedding_sizes)):\n",
    "        file_name = ('{}_{}_embeddings'.format(window_sizes[w], embedding_sizes[e]))\n",
    "        w2v = Word2Vec(output_file_name=file_name, window_size=window_sizes[w], emb_dimension=embedding_sizes[e], min_count=10)\n",
    "        w2v.train()\n",
    "        w2v.save()"
   ]
  },
  {
   "cell_type": "markdown",
   "metadata": {},
   "source": [
    "**Load the embeddings to compute cosine similarity and generate recommendations**"
   ]
  },
  {
   "cell_type": "code",
   "execution_count": 13,
   "metadata": {},
   "outputs": [
    {
     "name": "stdout",
     "output_type": "stream",
     "text": [
      "time: 1.52 ms\n"
     ]
    }
   ],
   "source": [
    "def load_embeddings(window_sizes, embedding_sizes):\n",
    "    w3_embedding = []\n",
    "    w5_embedding = []\n",
    "    w7_embedding = []\n",
    "    for w in range(len(window_sizes)):\n",
    "        for e in range(len(embedding_sizes)):\n",
    "            path = '/home/jovyan/work/a127669/Models/'\n",
    "            embedding_file_name = os.path.join(path,'{}_{}_embeddings.pkl'.format(window_sizes[w], embedding_sizes[e]))\n",
    "            emb = pd.read_pickle(embedding_file_name)\n",
    "            if window_sizes[w] == 3:\n",
    "                w3_embedding.append(emb)\n",
    "            elif window_sizes[w] == 5:\n",
    "                w5_embedding.append(emb)\n",
    "            else:\n",
    "                w7_embedding.append(emb)\n",
    "\n",
    "    return w3_embedding, w5_embedding, w7_embedding"
   ]
  },
  {
   "cell_type": "code",
   "execution_count": 14,
   "metadata": {},
   "outputs": [
    {
     "name": "stdout",
     "output_type": "stream",
     "text": [
      "time: 9.86 ms\n"
     ]
    }
   ],
   "source": [
    "w3_embedding, w5_embedding, w7_embedding = load_embeddings(window_sizes, embedding_sizes)"
   ]
  },
  {
   "cell_type": "code",
   "execution_count": 15,
   "metadata": {},
   "outputs": [
    {
     "name": "stdout",
     "output_type": "stream",
     "text": [
      "time: 1.34 ms\n"
     ]
    }
   ],
   "source": [
    "file_names_w3 = []\n",
    "file_names_w5 = []\n",
    "file_names_w7 = []\n",
    "for w in range(len(window_sizes)):\n",
    "    for e in range(len(embedding_sizes)):\n",
    "        name = 'w{}_s{}'.format(window_sizes[w], embedding_sizes[e])\n",
    "        if window_sizes[w] == 3:\n",
    "            file_names_w3.append(name)\n",
    "        elif window_sizes[w] == 5:\n",
    "            file_names_w5.append(name)\n",
    "        else:\n",
    "            file_names_w7.append(name)"
   ]
  },
  {
   "cell_type": "code",
   "execution_count": 16,
   "metadata": {},
   "outputs": [
    {
     "name": "stdout",
     "output_type": "stream",
     "text": [
      "time: 1.35 ms\n"
     ]
    }
   ],
   "source": [
    "path_to_csv_w3 = []\n",
    "path_to_csv_w5 = []\n",
    "path_to_csv_w7 = []\n",
    "path = '/home/jovyan/work/a127669/Results/Baseline/'\n",
    "for w in range(len(window_sizes)):\n",
    "    for e in range(len(embedding_sizes)):\n",
    "        name = 'recommendations_w{}_s{}.csv'.format(window_sizes[w], embedding_sizes[e])\n",
    "        csv = path + name\n",
    "        if window_sizes[w] == 3:\n",
    "            path_to_csv_w3.append(csv)\n",
    "        elif window_sizes[w] == 5:\n",
    "            path_to_csv_w5.append(csv)\n",
    "        else:\n",
    "            path_to_csv_w7.append(csv)"
   ]
  },
  {
   "cell_type": "markdown",
   "metadata": {},
   "source": [
    "### Recommendations"
   ]
  },
  {
   "cell_type": "code",
   "execution_count": 20,
   "metadata": {},
   "outputs": [
    {
     "name": "stdout",
     "output_type": "stream",
     "text": [
      "time: 5.68 ms\n"
     ]
    }
   ],
   "source": [
    "class recommendation:\n",
    "    \n",
    "    def __init__(self, embedding):\n",
    "        \n",
    "        \n",
    "        self.rec_list = self.get_recoms(embedding)\n",
    "        self.products = list(self.recoms.keys()) # unique products list\n",
    "        self.product_list = [self.products[i//15] for i in range(len(self.products)*15)] # duplicate each product 15 times\n",
    "        self.results = pd.DataFrame(columns=['key', 'RPID', 'score']) # the format needed for the recomevaluator\n",
    "        score = [x for x in range(15,0,-1)] * len(self.products) # Each recommendation must have a score from 15 to 1\n",
    "        self.results[\"key\"] = pd.Series(self.product_list)\n",
    "        \n",
    "        self.results['RPID'] = pd.Series(self.rec_list)\n",
    "        self.results[\"score\"] = pd.Series(score)    \n",
    "        \n",
    "    def get_recoms(self,df):\n",
    "\n",
    "        item_factors = df.values\n",
    "        item_mappings = dict(zip(np.arange(df.shape[0]), df.index.values))\n",
    "        num = 15\n",
    "        self.recoms = {}\n",
    "\n",
    "        for i, item_factor in enumerate(item_factors):\n",
    "            prod = item_factor.reshape(-1,1)\n",
    "            pid = item_mappings[i]\n",
    "            dist = cosine_similarity(item_factors, prod.T )\n",
    "            norms = np.sqrt( np.linalg.norm( item_factors, axis=1 ).reshape( -1, 1 ) )\n",
    "            dist = np.multiply( dist, norms ).reshape( -1 )\n",
    "            close_idx = heapq.nlargest( num + 1, range( len( dist ) ), dist.take )\n",
    "            close_pids = np.vectorize( item_mappings.__getitem__ )( close_idx )\n",
    "            close_pids = close_pids[ (close_pids != pid) ]\n",
    "            self.recoms[pid] = close_pids\n",
    "            recommendations = list(self.recoms.values())\n",
    "            rec_list = [item for sublist in recommendations for item in sublist]\n",
    "        return rec_list    \n",
    "    def visualize_recommendation(self, i):\n",
    "        # i: index of the productid in the list\n",
    "        print(\"Anchor product\")\n",
    "        display_recom_panel([self.products[i]])\n",
    "        print(\"Recommendations\")\n",
    "        display_recom_panel(list(self.rec_list[i]))\n",
    "        \n",
    "    def _to_CSV(self,filename):\n",
    "        path = '/home/jovyan/work/a127669/Results/Airbnb/'\n",
    "        output_file = os.path.join(path,'recommendations_{}.csv'.format(filename))\n",
    "        self.results.to_csv(output_file, sep='\\t',index=False)"
   ]
  },
  {
   "cell_type": "code",
   "execution_count": 18,
   "metadata": {},
   "outputs": [
    {
     "name": "stdout",
     "output_type": "stream",
     "text": [
      "time: 1.11 ms\n"
     ]
    }
   ],
   "source": [
    "def generate_recommendations_csv(embeddings, file_names):\n",
    "    \n",
    "    for i in range(len(file_names)):\n",
    "        r = recommendation(embeddings[i])\n",
    "        r._to_CSV(file_names[i])"
   ]
  },
  {
   "cell_type": "code",
   "execution_count": null,
   "metadata": {},
   "outputs": [],
   "source": [
    "generate_recommendations_csv(w3_models, file_names_w3)"
   ]
  },
  {
   "cell_type": "code",
   "execution_count": 21,
   "metadata": {},
   "outputs": [
    {
     "name": "stdout",
     "output_type": "stream",
     "text": [
      "time: 2min 15s\n"
     ]
    }
   ],
   "source": [
    "generate_recommendations_csv(w5_models, file_names_w5)"
   ]
  },
  {
   "cell_type": "code",
   "execution_count": null,
   "metadata": {},
   "outputs": [],
   "source": [
    "generate_recommendations_csv(w7_models, file_names_w7)"
   ]
  },
  {
   "cell_type": "markdown",
   "metadata": {},
   "source": [
    "### Evaluating the recommendations"
   ]
  },
  {
   "cell_type": "markdown",
   "metadata": {},
   "source": [
    "#### Test data"
   ]
  },
  {
   "cell_type": "code",
   "execution_count": 22,
   "metadata": {},
   "outputs": [
    {
     "name": "stdout",
     "output_type": "stream",
     "text": [
      "time: 1.67 ms\n"
     ]
    }
   ],
   "source": [
    "def evaluate_recs(file_names, path_to_csv):\n",
    "\n",
    "    CONFIG_LOAD_RECS = dict(zip(file_names, path_to_csv ))\n",
    "\n",
    "    CONFIG_EVAL_RECS = {\n",
    "        \"test_data_folder\": \"/home/jovyan/datasets/d_test_20190507_5449_1_reg/\",\n",
    "        \"seed\": 300,\n",
    "        \"recommenders_characteristics\": file_names,\n",
    "        \n",
    "    }\n",
    "\n",
    "    CONFIG_SAVE_RESULTS_PDF = {\n",
    "        \"test_data_folder\": \"/home/jovyan/datasets/d_test_20190507_5449_1_reg/\",             # test dataset is the same as in evaluation\n",
    "        \"seed\": 300,                                                # seed is the same as in evaluation\n",
    "        \"report_folder\": \"/home/jovyan/work/a127669/Tests/\",                     # where to put the report, temporary location\n",
    "        \"report_name\": \"report_v2\",                                    # timestamp will be appended automatically\n",
    "        \"report_num_pids\": 20,                                      # how many products with visual recommendations will be in the report\n",
    "    }\n",
    "\n",
    "    CONFIG_EVAL = {\n",
    "        'load_recs'          : CONFIG_LOAD_RECS,\n",
    "        'eval_recs'          : CONFIG_EVAL_RECS,\n",
    "        'save_results_pdf'   : CONFIG_SAVE_RESULTS_PDF,\n",
    "    }\n",
    "    \n",
    "    return CONFIG_EVAL"
   ]
  },
  {
   "cell_type": "code",
   "execution_count": null,
   "metadata": {},
   "outputs": [],
   "source": [
    "CONFIG_EVAL_w3 = evaluate_recs(file_names_w3, path_to_csv_w3)"
   ]
  },
  {
   "cell_type": "code",
   "execution_count": null,
   "metadata": {},
   "outputs": [],
   "source": [
    "si_metrics, si_evaluator, ra_metrics, report_path = evaluate_recoms.run_all(CONFIG_EVAL_w3)"
   ]
  },
  {
   "cell_type": "code",
   "execution_count": 23,
   "metadata": {},
   "outputs": [
    {
     "name": "stdout",
     "output_type": "stream",
     "text": [
      "Loading pages (1/6)\n",
      "Counting pages (2/6)                                               \n",
      "Resolving links (4/6)                                                       \n",
      "Loading headers and footers (5/6)                                           \n",
      "Printing pages (6/6)\n",
      "Done                                                                        \n",
      "time: 38.8 s\n"
     ]
    }
   ],
   "source": [
    "CONFIG_EVAL_w5 = evaluate_recs(file_names_w5, path_to_csv_w5)\n",
    "si_metrics_5, si_evaluator_5, ra_metrics_5, report_path_5 = evaluate_recoms.run_all(CONFIG_EVAL_w5)"
   ]
  },
  {
   "cell_type": "code",
   "execution_count": null,
   "metadata": {},
   "outputs": [],
   "source": [
    "CONFIG_EVAL_w7 = evaluate_recs(file_names_w7, path_to_csv_w7)\n",
    "si_metrics_7, si_evaluator_7, ra_metrics_7, report_path_7 = evaluate_recoms.run_all(CONFIG_EVAL_w7)"
   ]
  },
  {
   "cell_type": "markdown",
   "metadata": {},
   "source": [
    "### Plotting the metrics"
   ]
  },
  {
   "cell_type": "code",
   "execution_count": 9,
   "metadata": {},
   "outputs": [
    {
     "name": "stdout",
     "output_type": "stream",
     "text": [
      "time: 2.62 ms\n"
     ]
    }
   ],
   "source": [
    "w3_5449_r_average_precision_at_10 = list(si_metrics_3.iloc[0])[0:]\n",
    "w5_5449_r_average_precision_at_10 = list(si_metrics_5.iloc[0])[0:]\n",
    "w7_5449_r_average_precision_at_10 = list(si_metrics_7.iloc[0])[0:]\n",
    "\n",
    "w3_5449_r_ndcg_at_10 = list(si_metrics_3.iloc[5])[0:]\n",
    "w5_5449_r_ndcg_at_10 = list(si_metrics_5.iloc[5])[0:]\n",
    "w7_5449_r_ndcg_at_10 = list(si_metrics_7.iloc[5])[0:]\n",
    "\n",
    "w3_5449_s_hit_ratio = list(si_metrics_3.iloc[10])[0:]\n",
    "w5_5449_s_hit_ratio = list(si_metrics_5.iloc[10])[0:]\n",
    "w7_5449_s_hit_ratio = list(si_metrics_7.iloc[10])[0:]\n",
    "\n",
    "w3_5449_s_reciprocal_rank = list(si_metrics_3.iloc[13])[0:]\n",
    "w5_5449_s_reciprocal_rank = list(si_metrics_5.iloc[13])[0:]\n",
    "w7_5449_s_reciprocal_rank = list(si_metrics_7.iloc[13])[0:]"
   ]
  },
  {
   "cell_type": "code",
   "execution_count": 13,
   "metadata": {},
   "outputs": [
    {
     "name": "stdout",
     "output_type": "stream",
     "text": [
      "time: 3.16 ms\n"
     ]
    }
   ],
   "source": [
    "from matplotlib.ticker import FormatStrFormatter\n",
    "def graphs(list1,list2,list3, name): \n",
    "\n",
    "    # set width of bar\n",
    "    barWidth = 0.25\n",
    "    w3_allsizes = list1\n",
    "    w5_allsizes = list2\n",
    "    w7_allsizes = list3\n",
    "    \n",
    "    \n",
    "    r1 = np.arange(len(w3_allsizes))\n",
    "    \n",
    "    plt.figure(figsize=(10,7)) \n",
    "    plt.style.use('fivethirtyeight')\n",
    "    # Make the plot\n",
    "    plt.bar(r1, w3_allsizes,  width=barWidth, label='Window size 5')\n",
    "\n",
    "    plt.bar(r2, w5_allsizes,  width=barWidth, label='Window size 5')\n",
    "\n",
    "    plt.bar(r3, w7_allsizes,  width=barWidth, label='Window size 7' )\n",
    "    \n",
    "    # Add xticks on the middle of the group bars\n",
    "    plt.xlabel('Embedding Size', fontweight='bold')\n",
    "    plt.ylabel('Metric Value', fontweight='bold')\n",
    "    plt.xticks([r + barWidth/2 for r in range(len(w5_allsizes))], embedding_sizes)\n",
    "    plt.title(name) \n",
    "    \n",
    "    plt.gca().yaxis.set_major_formatter(FormatStrFormatter('%.3f'))\n",
    "    axes = plt.gca()\n",
    "    min_ = min(w5_allsizes)\n",
    "    max_ = max(w5_allsizes)  \n",
    "    \n",
    "    axes.set_ylim([min_-0.01,max_+0.01])\n",
    "    \n",
    "    plt.legend()\n",
    "    plt.tight_layout()\n",
    "    plt.savefig('/home/jovyan/work/a127669/Models/Graphs/{}.png'.format(name))\n",
    "    plt.show()\n",
    "    \n",
    "    \n",
    "    \n",
    "    \n"
   ]
  },
  {
   "cell_type": "code",
   "execution_count": 14,
   "metadata": {},
   "outputs": [
    {
     "data": {
      "image/png": "[encoded data removed]",
      "text/plain": [
       "<Figure size 720x504 with 1 Axes>"
      ]
     },
     "metadata": {
      "needs_background": "light"
     },
     "output_type": "display_data"
    },
    {
     "data": {
      "image/png": "[encoded data removed]",
      "text/plain": [
       "<Figure size 720x504 with 1 Axes>"
      ]
     },
     "metadata": {},
     "output_type": "display_data"
    },
    {
     "data": {
      "image/png": "[encoded data removed]",
      "text/plain": [
       "<Figure size 720x504 with 1 Axes>"
      ]
     },
     "metadata": {},
     "output_type": "display_data"
    },
    {
     "data": {
      "image/png": "[encoded data removed]",
      "text/plain": [
       "<Figure size 720x504 with 1 Axes>"
      ]
     },
     "metadata": {},
     "output_type": "display_data"
    },
    {
     "name": "stdout",
     "output_type": "stream",
     "text": [
      "time: 2.15 s\n"
     ]
    }
   ],
   "source": [
    "graphs(w3_5449_r_average_precision_at_10, w5_5449_r_average_precision_at_10, w7_5449_r_average_precision_at_10, 'Average Precision at 10 for 5449')\n",
    "graphs(w3_5449_r_ndcg_at_10, w5_5449_r_ndcg_at_10, w7_5449_r_ndcg_at_10, 'NDCG@10 for 5449')\n",
    "graphs(w3_5449_s_hit_ratio, w5_5449_s_hit_ratio, w7_5449_s_hit_ratio, 'Hit ratio for 5449')\n",
    "graphs(w3_5449_s_reciprocal_rank, w5_5449_s_reciprocal_rank, w7_5449_s_reciprocal_rank, 'Reciprocal rank for 5449')\n"
   ]
  }
 ],
 "metadata": {
  "kernelspec": {
   "display_name": "Python 3",
   "language": "python",
   "name": "python3"
  },
  "language_info": {
   "codemirror_mode": {
    "name": "ipython",
    "version": 3
   },
   "file_extension": ".py",
   "mimetype": "text/x-python",
   "name": "python",
   "nbconvert_exporter": "python",
   "pygments_lexer": "ipython3",
   "version": "3.6.8"
  }
 },
 "nbformat": 4,
 "nbformat_minor": 2
}
