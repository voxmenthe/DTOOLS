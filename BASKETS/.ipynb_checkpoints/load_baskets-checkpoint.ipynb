{
 "cells": [
  {
   "cell_type": "code",
   "execution_count": 74,
   "metadata": {},
   "outputs": [
    {
     "name": "stdout",
     "output_type": "stream",
     "text": [
      "The autoreload extension is already loaded. To reload it, use:\n",
      "  %reload_ext autoreload\n"
     ]
    }
   ],
   "source": [
    "%load_ext autoreload\n",
    "%autoreload 2"
   ]
  },
  {
   "cell_type": "code",
   "execution_count": 4,
   "metadata": {},
   "outputs": [
    {
     "name": "stdout",
     "output_type": "stream",
     "text": [
      "Successfully loaded product catalog\n"
     ]
    }
   ],
   "source": [
    "import gc\n",
    "import sys\n",
    "import pickle\n",
    "import numpy as np\n",
    "import pandas as pd\n",
    "\n",
    "import mml_lib.visualization as viz\n",
    "\n",
    "sys.path.append('/home/jovyan/work/a091569/cython_home')\n",
    "sys.path.append('/home/jovyan/work/a091569/utils_and_queries')\n",
    "\n",
    "from get_baskets import get_baskets\n",
    "from get_baskets_cdef import get_baskets_cdef\n",
    "\n",
    "import UPC_utils_July_2019 as uu"
   ]
  },
  {
   "cell_type": "code",
   "execution_count": 7,
   "metadata": {},
   "outputs": [
    {
     "name": "stdout",
     "output_type": "stream",
     "text": [
      "/home/jovyan/datasets/d_train_20190723_120_0\r\n",
      "/home/jovyan/datasets/d_train_20190723_60_0\r\n",
      "/home/jovyan/datasets/d_train_20190723_90_0\r\n",
      "/home/jovyan/datasets/d_train_20190809_3_0\r\n",
      "/home/jovyan/datasets/d_train_20190810_22_0\r\n",
      "/home/jovyan/datasets/d_train_20190923_60_0\r\n",
      "/home/jovyan/datasets/d_train_20190926_4_0\r\n",
      "/home/jovyan/datasets/d_train_20190929_3_0\r\n"
     ]
    }
   ],
   "source": [
    "!ls -d /home/jovyan/datasets/d_train*_0"
   ]
  },
  {
   "cell_type": "code",
   "execution_count": 9,
   "metadata": {},
   "outputs": [],
   "source": [
    "# !python get_baskets_setup.py build_ext --inplace\n",
    "# !python get_baskets_cdef_setup.py build_ext --inplace"
   ]
  },
  {
   "cell_type": "code",
   "execution_count": 10,
   "metadata": {},
   "outputs": [
    {
     "name": "stdout",
     "output_type": "stream",
     "text": [
      "dataset.py\t\t\tur_production_purchase_store.csv\r\n",
      "ur_production_atb.csv\t\tur_production_user_mapping.csv\r\n",
      "ur_production_product_attr.csv\tur_production_view.csv\r\n",
      "ur_production_purchase.csv\tVERSION\r\n"
     ]
    }
   ],
   "source": [
    "#!ls /home/jovyan/data/a091569/ur_train_20190220_3/\n",
    "!ls /home/jovyan/datasets/d_train_20190929_3_0"
   ]
  },
  {
   "cell_type": "code",
   "execution_count": 12,
   "metadata": {},
   "outputs": [],
   "source": [
    "#datapath = '/home/jovyan/data/a091569/ur_train_20190220_3/'\n",
    "datapath = '/home/jovyan/datasets/d_train_20190929_3_0/'"
   ]
  },
  {
   "cell_type": "code",
   "execution_count": 11,
   "metadata": {},
   "outputs": [
    {
     "data": {
      "text/plain": [
       "0"
      ]
     },
     "execution_count": 11,
     "metadata": {},
     "output_type": "execute_result"
    }
   ],
   "source": [
    "#%%time\n",
    "purdict = get_baskets(datapath + 'ur_production_purchase.csv',min_n=1)\n",
    "with open('purdict__20190929_3_m1.pkl', 'wb') as f:\n",
    "    pickle.dump(purdict, f)\n",
    "#del purdict\n",
    "gc.collect()"
   ]
  },
  {
   "cell_type": "code",
   "execution_count": 13,
   "metadata": {},
   "outputs": [
    {
     "data": {
      "text/plain": [
       "0"
      ]
     },
     "execution_count": 13,
     "metadata": {},
     "output_type": "execute_result"
    }
   ],
   "source": [
    "#%%time\n",
    "atbdict = get_baskets(datapath + 'ur_production_atb.csv', min_n=1)\n",
    "with open('atbdict__20190929_3_m1.pkl', 'wb') as f:\n",
    "    pickle.dump(atbdict, f)\n",
    "#del atbdict\n",
    "gc.collect()"
   ]
  },
  {
   "cell_type": "code",
   "execution_count": 14,
   "metadata": {},
   "outputs": [
    {
     "data": {
      "text/plain": [
       "0"
      ]
     },
     "execution_count": 14,
     "metadata": {},
     "output_type": "execute_result"
    }
   ],
   "source": [
    "#%%time\n",
    "viewdict = get_baskets(datapath + 'ur_production_view.csv', min_n=1)\n",
    "with open('viewdict__20190220_3_m1.pkl', 'wb') as f:\n",
    "    pickle.dump(viewdict, f)\n",
    "#del viewdict\n",
    "gc.collect()"
   ]
  },
  {
   "cell_type": "markdown",
   "metadata": {},
   "source": [
    "### Combine The Dictionaries"
   ]
  },
  {
   "cell_type": "code",
   "execution_count": 21,
   "metadata": {},
   "outputs": [],
   "source": [
    "comb_d = {}"
   ]
  },
  {
   "cell_type": "code",
   "execution_count": 22,
   "metadata": {},
   "outputs": [],
   "source": [
    "#%%time\n",
    "for key, value in atbdict.items():\n",
    "    if key not in comb_d:\n",
    "        comb_d[key] = {}\n",
    "    comb_d[key]['atb'] = value"
   ]
  },
  {
   "cell_type": "code",
   "execution_count": 23,
   "metadata": {},
   "outputs": [],
   "source": [
    "#%%time\n",
    "for key, value in purdict.items():\n",
    "    if key not in comb_d:\n",
    "        comb_d[key] = {}\n",
    "    comb_d[key]['purchase'] = value"
   ]
  },
  {
   "cell_type": "code",
   "execution_count": 24,
   "metadata": {},
   "outputs": [],
   "source": [
    "# del atbdict\n",
    "# del purdict\n",
    "# gc.collect()"
   ]
  },
  {
   "cell_type": "code",
   "execution_count": 25,
   "metadata": {},
   "outputs": [],
   "source": [
    "##%%time\n",
    "for key, value in viewdict.items():\n",
    "    if key not in comb_d:\n",
    "        comb_d[key] = {}\n",
    "    comb_d[key]['view'] = value"
   ]
  },
  {
   "cell_type": "code",
   "execution_count": 29,
   "metadata": {},
   "outputs": [
    {
     "data": {
      "text/plain": [
       "0"
      ]
     },
     "execution_count": 29,
     "metadata": {},
     "output_type": "execute_result"
    }
   ],
   "source": [
    "with open('comb_d__20190929_3_m1.pkl', 'wb') as f:\n",
    "    pickle.dump(comb_d, f)\n",
    "#del viewdict\n",
    "gc.collect()"
   ]
  },
  {
   "cell_type": "code",
   "execution_count": 30,
   "metadata": {},
   "outputs": [
    {
     "name": "stdout",
     "output_type": "stream",
     "text": [
      "-rw-r--r-- 1 root root 794M Oct  7 02:37 comb_d__20190929_3_m1.pkl\r\n",
      "-rw-r--r-- 1 root root 794M Oct  7 02:34 comb_d__20190220_3_m1.pkl\r\n",
      "-rw-r--r-- 1 root root 624M Oct  7 02:21 viewdict__20190220_3_m1.pkl\r\n",
      "-rw-r--r-- 1 root root 179M Oct  7 02:20 atbdict__20190929_3_m1.pkl\r\n",
      "-rw-r--r-- 1 root root  20M Oct  7 02:19 purdict__20190929_3_m1.pkl\r\n",
      "-rw-r--r-- 1 root root  42M Jun 17 20:53 purdict__20190220_3_m2.pkl\r\n",
      "-rw-r--r-- 1 root root 207M Jun 17 20:51 atbdict__20190220_3_m1.pkl\r\n",
      "-rw-r--r-- 1 root root  42M Jun 17 20:50 purdict__20190220_3_m1.pkl\r\n",
      "-rw-r--r-- 1 root root  16G May 13 20:46 comb_dict_20190131_46_Mon_May_13_201211_2019_m1.pkl\r\n"
     ]
    }
   ],
   "source": [
    "!ls -lth *.pkl"
   ]
  },
  {
   "cell_type": "code",
   "execution_count": 31,
   "metadata": {},
   "outputs": [],
   "source": [
    "a_few = list(comb_d.items())[:5]"
   ]
  },
  {
   "cell_type": "code",
   "execution_count": 40,
   "metadata": {},
   "outputs": [
    {
     "name": "stdout",
     "output_type": "stream",
     "text": [
      "('81081569566422302544890316093770146010564', {'atb': ['9395981', '9266757', '8485445', '8441290', '3737924', '8485445', '8441290', '9266757', '9395981', '3737924', '3737924', '9208443', '9208443', '9208443', '8441299', '6665975', '6665975', '8248334', '8844293', '8844293', '8844293', '9307877', '9307877', '7335827', '8934134', '8934134', '7335827', '9569597', '9569597', '9569597', '9471550', '9618340', '9471550', '9618340', '9471550'], 'purchase': ['3737924', '9208443', '8844293', '9569597', '9471550'], 'view': ['9395981', '9395981', '9266757', '8485445', '10208767', '8441290', '3737924', '9395981', '9266757', '8441290', '8441290', '9569598', '9383555', '9208443', '9569619', '9208443', '8441299', '6665975', '6665975', '8923708', '8934133', '9575000', '8844293', '8844293', '8844293', '9307877', '9307877', '9484488', '7335827', '8934134', '9371421', '9569597', '9569597', '9569597', '9471550', '9618340', '9471550', '9471550', '9618340']})\n"
     ]
    }
   ],
   "source": [
    "print(a_few[4])"
   ]
  },
  {
   "cell_type": "code",
   "execution_count": 42,
   "metadata": {},
   "outputs": [
    {
     "data": {
      "text/plain": [
       "dict_keys(['atb', 'purchase', 'view'])"
      ]
     },
     "execution_count": 42,
     "metadata": {},
     "output_type": "execute_result"
    }
   ],
   "source": [
    "comb_d['81081569566422302544890316093770146010564'].keys()"
   ]
  },
  {
   "cell_type": "raw",
   "metadata": {},
   "source": [
    "#%%time\n",
    "with open('purdict__20190220_3_m2.pkl', 'wb') as f:\n",
    "    pickle.dump(purdict, f)"
   ]
  },
  {
   "cell_type": "raw",
   "metadata": {},
   "source": [
    "with open('purdict__20190220_3_m2.pkl', 'rb') as f:\n",
    "    reloaded = pickle.load(f)"
   ]
  },
  {
   "cell_type": "code",
   "execution_count": 20,
   "metadata": {},
   "outputs": [],
   "source": [
    "#list(purdict.values())[:5]"
   ]
  },
  {
   "cell_type": "code",
   "execution_count": 21,
   "metadata": {},
   "outputs": [],
   "source": [
    "#list(atbdict.values())[:5]"
   ]
  },
  {
   "cell_type": "code",
   "execution_count": 43,
   "metadata": {},
   "outputs": [],
   "source": [
    "#list(reloaded.values())[:5]"
   ]
  },
  {
   "cell_type": "code",
   "execution_count": 45,
   "metadata": {},
   "outputs": [],
   "source": [
    "#!head /home/jovyan/data/yh09262/ur_train_20190220_3/ur_production_purchase.csv"
   ]
  },
  {
   "cell_type": "code",
   "execution_count": 46,
   "metadata": {},
   "outputs": [
    {
     "name": "stdout",
     "output_type": "stream",
     "text": [
      "-rw-r--r-- 1 root root 794M Oct  7 02:37 comb_d__20190929_3_m1.pkl\r\n",
      "-rw-r--r-- 1 root root 794M Oct  7 02:34 comb_d__20190220_3_m1.pkl\r\n",
      "-rw-r--r-- 1 root root 624M Oct  7 02:21 viewdict__20190220_3_m1.pkl\r\n",
      "-rw-r--r-- 1 root root 179M Oct  7 02:20 atbdict__20190929_3_m1.pkl\r\n",
      "-rw-r--r-- 1 root root  20M Oct  7 02:19 purdict__20190929_3_m1.pkl\r\n",
      "-rw-r--r-- 1 root root  42M Jun 17 20:53 purdict__20190220_3_m2.pkl\r\n",
      "-rw-r--r-- 1 root root 207M Jun 17 20:51 atbdict__20190220_3_m1.pkl\r\n",
      "-rw-r--r-- 1 root root  42M Jun 17 20:50 purdict__20190220_3_m1.pkl\r\n",
      "-rw-r--r-- 1 root root  16G May 13 20:46 comb_dict_20190131_46_Mon_May_13_201211_2019_m1.pkl\r\n"
     ]
    }
   ],
   "source": [
    "!ls -lth *.pkl"
   ]
  },
  {
   "cell_type": "code",
   "execution_count": 54,
   "metadata": {},
   "outputs": [],
   "source": [
    "# with open('comb_dict_20190131_46_Mon_May_13_201211_2019_m1.pkl', 'rb') as f:\n",
    "#     comb_r = pickle.load(f)\n",
    "with open('comb_d__20190929_3_m1.pkl', 'rb') as f:\n",
    "    comb_r = pickle.load(f)"
   ]
  },
  {
   "cell_type": "code",
   "execution_count": 55,
   "metadata": {},
   "outputs": [
    {
     "data": {
      "text/plain": [
       "dict"
      ]
     },
     "execution_count": 55,
     "metadata": {},
     "output_type": "execute_result"
    }
   ],
   "source": [
    "type(comb_r)"
   ]
  },
  {
   "cell_type": "code",
   "execution_count": 56,
   "metadata": {},
   "outputs": [
    {
     "data": {
      "text/plain": [
       "['82111564971166324751046557916470983618711',\n",
       " '80101536662657212790963542766081399121212',\n",
       " '82031551228144084389125431466535915664570']"
      ]
     },
     "execution_count": 56,
     "metadata": {},
     "output_type": "execute_result"
    }
   ],
   "source": [
    "comb_r_k = list(comb_r.keys())\n",
    "comb_r_k[:3]"
   ]
  },
  {
   "cell_type": "code",
   "execution_count": 57,
   "metadata": {},
   "outputs": [],
   "source": [
    "comb_r_v = list(comb_r.values())"
   ]
  },
  {
   "cell_type": "code",
   "execution_count": 58,
   "metadata": {},
   "outputs": [
    {
     "data": {
      "text/plain": [
       "[{'atb': ['10179841',\n",
       "   '10179978',\n",
       "   '75285',\n",
       "   '75192',\n",
       "   '10179911',\n",
       "   '10180038',\n",
       "   '9471219',\n",
       "   '10193344',\n",
       "   '8392266',\n",
       "   '75340']},\n",
       " {'atb': ['9354458', '9354461'], 'view': ['9296970', '9294670', '9294587']},\n",
       " {'atb': ['10179841', '1916521', '2678387', '5644364']},\n",
       " {'atb': ['9498001', '10126242'],\n",
       "  'view': ['9498001', '10126242', '10126242', '9900989']}]"
      ]
     },
     "execution_count": 58,
     "metadata": {},
     "output_type": "execute_result"
    }
   ],
   "source": [
    "comb_r_v[9:13]"
   ]
  },
  {
   "cell_type": "code",
   "execution_count": 59,
   "metadata": {},
   "outputs": [
    {
     "data": {
      "text/plain": [
       "(dict_keys(['atb']), dict_keys(['atb', 'view']))"
      ]
     },
     "execution_count": 59,
     "metadata": {},
     "output_type": "execute_result"
    }
   ],
   "source": [
    "comb_r_v[9].keys(), comb_r_v[10].keys()"
   ]
  },
  {
   "cell_type": "code",
   "execution_count": 60,
   "metadata": {},
   "outputs": [
    {
     "data": {
      "text/plain": [
       "3415139"
      ]
     },
     "execution_count": 60,
     "metadata": {},
     "output_type": "execute_result"
    }
   ],
   "source": [
    "len(comb_r_k)"
   ]
  },
  {
   "cell_type": "code",
   "execution_count": 61,
   "metadata": {},
   "outputs": [],
   "source": [
    "def count_info(dvals):\n",
    "    viewatbpur = 0\n",
    "    viewatb = 0\n",
    "    viewpur = 0\n",
    "    atbpur = 0\n",
    "    viewonly = 0\n",
    "    atbonly = 0\n",
    "    puronly = 0\n",
    "    other = 0\n",
    "    for basket in dvals:\n",
    "        keys = basket.keys()\n",
    "        if set(keys) == set({'view', 'atb', 'purchase'}): viewatbpur +=1\n",
    "        elif set(keys) == set({'view', 'atb'}): viewatb +=1\n",
    "        elif set(keys) == set({'view', 'purchase'}): viewpur +=1\n",
    "        elif set(keys) == set({'atb', 'purchase'}): atbpur +=1\n",
    "        elif set(keys) == set({'view'}): viewonly +=1\n",
    "        elif set(keys) == set({'atb'}): atbonly +=1\n",
    "        elif set(keys) == set({'purchase'}): puronly +=1\n",
    "        else: other +=1\n",
    "    return viewatbpur, viewatb, viewpur, atbpur, viewonly, atbonly, puronly, other"
   ]
  },
  {
   "cell_type": "code",
   "execution_count": 64,
   "metadata": {},
   "outputs": [],
   "source": [
    "def return_sorted_dicts(dvals):\n",
    "    viewatbpurds = []\n",
    "    viewatbds = []\n",
    "    viewpurds = []\n",
    "    atbpurds = []\n",
    "    viewonlyds = []\n",
    "    atbonlyds = []\n",
    "    puronlyds = []\n",
    "    otherds = []\n",
    "    for basket in dvals:\n",
    "        keys = basket.keys()\n",
    "        if set(keys) == set({'view', 'atb', 'purchase'}): viewatbpurds.append(basket)\n",
    "        elif set(keys) == set({'view', 'atb'}): viewatbds.append(basket)\n",
    "        elif set(keys) == set({'view', 'purchase'}): viewpurds.append(basket)\n",
    "        elif set(keys) == set({'atb', 'purchase'}): atbpurds.append(basket)\n",
    "        elif set(keys) == set({'view'}): viewonlyds.append(basket)\n",
    "        elif set(keys) == set({'atb'}): atbonlyds.append(basket)\n",
    "        elif set(keys) == set({'purchase'}): puronlyds.append(basket)\n",
    "        else: otherds.append(basket)\n",
    "    return viewatbpurds, viewatbds, viewpurds, atbpurds, viewonlyds, atbonlyds, puronlyds, otherds"
   ]
  },
  {
   "cell_type": "code",
   "execution_count": 65,
   "metadata": {},
   "outputs": [
    {
     "name": "stdout",
     "output_type": "stream",
     "text": [
      "Done\n"
     ]
    }
   ],
   "source": [
    "viewatbpurds, viewatbds, viewpurds, atbpurds, viewonlyds, atbonlyds, puronlyds, otherds = return_sorted_dicts(comb_r_v)\n",
    "print(\"Done\")"
   ]
  },
  {
   "cell_type": "code",
   "execution_count": 68,
   "metadata": {},
   "outputs": [
    {
     "data": {
      "text/plain": [
       "[]"
      ]
     },
     "execution_count": 68,
     "metadata": {},
     "output_type": "execute_result"
    }
   ],
   "source": [
    "viewpurds"
   ]
  },
  {
   "cell_type": "code",
   "execution_count": 67,
   "metadata": {},
   "outputs": [],
   "source": [
    "#print(viewatbpurds[:2])\n",
    "#print(atbpurds[:2])\n",
    "for x in viewatbpurds[:10]:\n",
    "    print(\"Views: \" ,x['view'])\n",
    "    print(\"Atbs: \", x['atb'])\n",
    "    print(\"Purchase: \", x['purchase'])\n",
    "    print()"
   ]
  },
  {
   "cell_type": "markdown",
   "metadata": {},
   "source": [
    "### Create Sequences\n",
    "\n",
    "Many different possible ways to do this\n",
    "* Simple concatenatenation of view+atb+purchase+view+atb+atb+purchase\n",
    "* Could split into pairs (v1, a1), (v1, a2) etc or ((v1, v2), p1) or whatever but ideally each purchase would have a set of similar products which would be a sequence\n",
    "* Since at the moment we are order invariant, we could augment data by shuffling within each respective view, atb and purchase set.\n"
   ]
  },
  {
   "cell_type": "code",
   "execution_count": 70,
   "metadata": {},
   "outputs": [],
   "source": [
    "simple_sequence = []\n",
    "simple_sequence_fill = []\n",
    "datalimit = 10\n",
    "fill_sequence = ['99999999','99999999','99999999','99999999','99999999']\n",
    "for x in viewatbpurds[:datalimit]:\n",
    "    simple_sequence.append(x['view'])\n",
    "    simple_sequence.append(x['atb'])\n",
    "    simple_sequence.append(x['purchase'])\n",
    "    \n",
    "    simple_sequence_fill.append(x['view'])\n",
    "    simple_sequence_fill.append(x['atb'])\n",
    "    simple_sequence_fill.append(x['purchase'])    \n",
    "    simple_sequence_fill.append(fill_sequence)\n",
    "for x in viewatbds[:datalimit]:\n",
    "    simple_sequence_fill.append(x['view'])\n",
    "    simple_sequence_fill.append(x['atb'])\n",
    "    simple_sequence_fill.append(fill_sequence)\n",
    "\n",
    "for x in viewpurds[:datalimit]:\n",
    "    simple_sequence.append(x['view'])\n",
    "    simple_sequence.append(x['purchase'])\n",
    "    \n",
    "    simple_sequence_fill.append(x['view'])\n",
    "    simple_sequence_fill.append(x['purchase'])    \n",
    "    simple_sequence_fill.append(fill_sequence)\n",
    "\n",
    "for x in atbpurds[:datalimit]:\n",
    "    simple_sequence.append(x['atb'])\n",
    "    simple_sequence.append(x['purchase'])\n",
    "    \n",
    "    simple_sequence_fill.append(x['atb'])\n",
    "    simple_sequence_fill.append(x['purchase'])    \n",
    "    simple_sequence_fill.append(fill_sequence)"
   ]
  },
  {
   "cell_type": "code",
   "execution_count": 72,
   "metadata": {},
   "outputs": [
    {
     "data": {
      "text/plain": [
       "[['9395981',\n",
       "  '9395981',\n",
       "  '9266757',\n",
       "  '8485445',\n",
       "  '10208767',\n",
       "  '8441290',\n",
       "  '3737924',\n",
       "  '9395981',\n",
       "  '9266757',\n",
       "  '8441290',\n",
       "  '8441290',\n",
       "  '9569598',\n",
       "  '9383555',\n",
       "  '9208443',\n",
       "  '9569619',\n",
       "  '9208443',\n",
       "  '8441299',\n",
       "  '6665975',\n",
       "  '6665975',\n",
       "  '8923708',\n",
       "  '8934133',\n",
       "  '9575000',\n",
       "  '8844293',\n",
       "  '8844293',\n",
       "  '8844293',\n",
       "  '9307877',\n",
       "  '9307877',\n",
       "  '9484488',\n",
       "  '7335827',\n",
       "  '8934134',\n",
       "  '9371421',\n",
       "  '9569597',\n",
       "  '9569597',\n",
       "  '9569597',\n",
       "  '9471550',\n",
       "  '9618340',\n",
       "  '9471550',\n",
       "  '9471550',\n",
       "  '9618340'],\n",
       " ['9395981',\n",
       "  '9266757',\n",
       "  '8485445',\n",
       "  '8441290',\n",
       "  '3737924',\n",
       "  '8485445',\n",
       "  '8441290',\n",
       "  '9266757',\n",
       "  '9395981',\n",
       "  '3737924',\n",
       "  '3737924',\n",
       "  '9208443',\n",
       "  '9208443',\n",
       "  '9208443',\n",
       "  '8441299',\n",
       "  '6665975',\n",
       "  '6665975',\n",
       "  '8248334',\n",
       "  '8844293',\n",
       "  '8844293',\n",
       "  '8844293',\n",
       "  '9307877',\n",
       "  '9307877',\n",
       "  '7335827',\n",
       "  '8934134',\n",
       "  '8934134',\n",
       "  '7335827',\n",
       "  '9569597',\n",
       "  '9569597',\n",
       "  '9569597',\n",
       "  '9471550',\n",
       "  '9618340',\n",
       "  '9471550',\n",
       "  '9618340',\n",
       "  '9471550'],\n",
       " ['3737924', '9208443', '8844293', '9569597', '9471550'],\n",
       " ['99999999', '99999999', '99999999', '99999999', '99999999'],\n",
       " ['5343141'],\n",
       " ['5343141', '5343141', '5343141', '5343141'],\n",
       " ['5343141'],\n",
       " ['99999999', '99999999', '99999999', '99999999', '99999999'],\n",
       " ['8666094', '8666094', '10166631', '2460910'],\n",
       " ['7340991', '10166631', '10166631', '7340991', '7340991', '10166631'],\n",
       " ['7340991', '10166631'],\n",
       " ['99999999', '99999999', '99999999', '99999999', '99999999'],\n",
       " ['9372501', '9372501', '9308529'],\n",
       " ['6160215', '6160215', '9900982', '9900982', '9901016', '9901016'],\n",
       " ['6160215', '9900982', '9901016'],\n",
       " ['99999999', '99999999', '99999999', '99999999', '99999999'],\n",
       " ['10150038',\n",
       "  '4890447',\n",
       "  '4890447',\n",
       "  '9207568',\n",
       "  '4890447',\n",
       "  '4890447',\n",
       "  '5870255',\n",
       "  '5870255',\n",
       "  '5870255',\n",
       "  '5870255',\n",
       "  '5870255',\n",
       "  '6466788',\n",
       "  '5013052',\n",
       "  '5013052',\n",
       "  '5013052',\n",
       "  '5013052',\n",
       "  '5013052',\n",
       "  '5013052',\n",
       "  '6466793',\n",
       "  '8777141',\n",
       "  '8777141',\n",
       "  '8048020',\n",
       "  '7692279'],\n",
       " ['9207568',\n",
       "  '4890447',\n",
       "  '9207568',\n",
       "  '4890447',\n",
       "  '9207568',\n",
       "  '5870255',\n",
       "  '5870255',\n",
       "  '5870255',\n",
       "  '5013052',\n",
       "  '5013052',\n",
       "  '5013052'],\n",
       " ['9207568', '5870255', '5013052'],\n",
       " ['99999999', '99999999', '99999999', '99999999', '99999999'],\n",
       " ['10215594'],\n",
       " ['10179841', '10179841', '7050374', '7050374', '7050374'],\n",
       " ['10179841', '7050374'],\n",
       " ['99999999', '99999999', '99999999', '99999999', '99999999'],\n",
       " ['9691795',\n",
       "  '9500731',\n",
       "  '9170451',\n",
       "  '8010982',\n",
       "  '9170451',\n",
       "  '9170451',\n",
       "  '9009833',\n",
       "  '9170451',\n",
       "  '9009833',\n",
       "  '8915907',\n",
       "  '8915907',\n",
       "  '9395661',\n",
       "  '7280126',\n",
       "  '10146799',\n",
       "  '8151654',\n",
       "  '9569623',\n",
       "  '8296042',\n",
       "  '9569623'],\n",
       " ['9691795',\n",
       "  '9500731',\n",
       "  '9170451',\n",
       "  '8010982',\n",
       "  '9500731',\n",
       "  '8010982',\n",
       "  '9691795',\n",
       "  '9170451',\n",
       "  '9170451',\n",
       "  '9170451',\n",
       "  '9170451',\n",
       "  '8915907',\n",
       "  '8915907',\n",
       "  '9395661',\n",
       "  '10146799',\n",
       "  '10146799',\n",
       "  '10146799',\n",
       "  '8151654',\n",
       "  '8151654',\n",
       "  '8151654',\n",
       "  '9569623',\n",
       "  '8296042',\n",
       "  '9569623',\n",
       "  '8296042',\n",
       "  '9569623',\n",
       "  '8296042',\n",
       "  '9569623',\n",
       "  '8296042',\n",
       "  '9569623'],\n",
       " ['9170451', '10146799', '8151654', '9569623', '8296042', '9569623'],\n",
       " ['99999999', '99999999', '99999999', '99999999', '99999999'],\n",
       " ['8539689',\n",
       "  '3605426',\n",
       "  '8539689',\n",
       "  '3605426',\n",
       "  '8539689',\n",
       "  '8539689',\n",
       "  '9390695',\n",
       "  '8785517',\n",
       "  '8398801',\n",
       "  '8539688',\n",
       "  '8539688'],\n",
       " ['8539689', '8539689', '8539689', '8539689', '8539689', '8539689'],\n",
       " ['8539689', '8539689'],\n",
       " ['99999999', '99999999', '99999999', '99999999', '99999999'],\n",
       " ['9977654',\n",
       "  '9977654',\n",
       "  '9977645',\n",
       "  '9977654',\n",
       "  '9532370',\n",
       "  '9977645',\n",
       "  '367206',\n",
       "  '5638045',\n",
       "  '9560228',\n",
       "  '9560228',\n",
       "  '9560228',\n",
       "  '9560228',\n",
       "  '5132718',\n",
       "  '6496989',\n",
       "  '2905322',\n",
       "  '2905322',\n",
       "  '2905322',\n",
       "  '2905322',\n",
       "  '2905322',\n",
       "  '2832275',\n",
       "  '7827450',\n",
       "  '9560223',\n",
       "  '9977630',\n",
       "  '703727'],\n",
       " ['9977654',\n",
       "  '9560228',\n",
       "  '9977654',\n",
       "  '9560228',\n",
       "  '9560228',\n",
       "  '9977654',\n",
       "  '2905322',\n",
       "  '2905322',\n",
       "  '2905322',\n",
       "  '2905322',\n",
       "  '2905322',\n",
       "  '2905322'],\n",
       " ['9977654', '2905322', '2905322'],\n",
       " ['99999999', '99999999', '99999999', '99999999', '99999999'],\n",
       " ['4912109'],\n",
       " ['2381498', '4912109', '4912109', '4912109', '9390607'],\n",
       " ['4912109'],\n",
       " ['99999999', '99999999', '99999999', '99999999', '99999999'],\n",
       " ['6841084', '6741451', '6741451'],\n",
       " ['6720448', '6841084', '6741451', '8599368', '10150528', '6890900'],\n",
       " ['99999999', '99999999', '99999999', '99999999', '99999999'],\n",
       " ['9073711',\n",
       "  '9073711',\n",
       "  '8567328',\n",
       "  '8567328',\n",
       "  '8999000',\n",
       "  '8999000',\n",
       "  '9485905',\n",
       "  '9485905'],\n",
       " ['9491414',\n",
       "  '8931975',\n",
       "  '10043462',\n",
       "  '9538385',\n",
       "  '6106802',\n",
       "  '2960426',\n",
       "  '9540758',\n",
       "  '9540723',\n",
       "  '8429689',\n",
       "  '6854216',\n",
       "  '2810841',\n",
       "  '9591175',\n",
       "  '2296290',\n",
       "  '9143256',\n",
       "  '9094981',\n",
       "  '3040042',\n",
       "  '9538374',\n",
       "  '9674083',\n",
       "  '9886898',\n",
       "  '9996620',\n",
       "  '6747814',\n",
       "  '9970011',\n",
       "  '9073711',\n",
       "  '7335540',\n",
       "  '4677690',\n",
       "  '8931867',\n",
       "  '7934066',\n",
       "  '6051492',\n",
       "  '8790395',\n",
       "  '9941763',\n",
       "  '9354038',\n",
       "  '4750414',\n",
       "  '8074395',\n",
       "  '9930579',\n",
       "  '6696582',\n",
       "  '10126557',\n",
       "  '9887378',\n",
       "  '9886819',\n",
       "  '2049388',\n",
       "  '9351836',\n",
       "  '8999016',\n",
       "  '9909684',\n",
       "  '9485913',\n",
       "  '2492685',\n",
       "  '9395555',\n",
       "  '8567328',\n",
       "  '10135077',\n",
       "  '6545267',\n",
       "  '8925449',\n",
       "  '9742277',\n",
       "  '8465458',\n",
       "  '2265101',\n",
       "  '9491413',\n",
       "  '1485068',\n",
       "  '4457449',\n",
       "  '9930570',\n",
       "  '10209400',\n",
       "  '2886479',\n",
       "  '8205329',\n",
       "  '8127378',\n",
       "  '8074397',\n",
       "  '6583197',\n",
       "  '8283374',\n",
       "  '9538384',\n",
       "  '8465198',\n",
       "  '445905',\n",
       "  '9062956',\n",
       "  '9742351',\n",
       "  '8443001',\n",
       "  '8714131',\n",
       "  '9674734',\n",
       "  '7693854',\n",
       "  '9540751',\n",
       "  '8853862',\n",
       "  '8999000',\n",
       "  '2541776',\n",
       "  '9485912',\n",
       "  '644933',\n",
       "  '9367624',\n",
       "  '9909936',\n",
       "  '9485905',\n",
       "  '2252552',\n",
       "  '9381732',\n",
       "  '9390624',\n",
       "  '9569830',\n",
       "  '9358797',\n",
       "  '2082613',\n",
       "  '6543613',\n",
       "  '4837686',\n",
       "  '8899814',\n",
       "  '8750875',\n",
       "  '5205516'],\n",
       " ['99999999', '99999999', '99999999', '99999999', '99999999'],\n",
       " ['10130089', '10130089', '10130089', '10130089', '4828571', '4828571'],\n",
       " ['10130089', '10234589'],\n",
       " ['99999999', '99999999', '99999999', '99999999', '99999999'],\n",
       " ['9617159',\n",
       "  '9617159',\n",
       "  '9617117',\n",
       "  '9617159',\n",
       "  '1889138',\n",
       "  '9617159',\n",
       "  '9617117',\n",
       "  '1889138',\n",
       "  '8038096',\n",
       "  '8038096',\n",
       "  '8038096',\n",
       "  '9617144',\n",
       "  '9617144',\n",
       "  '8038090',\n",
       "  '8038090',\n",
       "  '8038090',\n",
       "  '6725579',\n",
       "  '6725579',\n",
       "  '6725579'],\n",
       " ['1889138', '9617159', '9970820', '10161355', '9578875'],\n",
       " ['99999999', '99999999', '99999999', '99999999', '99999999'],\n",
       " ['9140927',\n",
       "  '9140927',\n",
       "  '9140927',\n",
       "  '9140927',\n",
       "  '9140927',\n",
       "  '8431670',\n",
       "  '9140927',\n",
       "  '8431670',\n",
       "  '9026564',\n",
       "  '9026564',\n",
       "  '9394453',\n",
       "  '9394453',\n",
       "  '9394453',\n",
       "  '9394453',\n",
       "  '4557644',\n",
       "  '4557644',\n",
       "  '4557644',\n",
       "  '4579043',\n",
       "  '4579043',\n",
       "  '4579043',\n",
       "  '4579043',\n",
       "  '4579043'],\n",
       " ['9140927', '8440882', '9394453', '4457132', '10193363'],\n",
       " ['99999999', '99999999', '99999999', '99999999', '99999999'],\n",
       " ['8048086',\n",
       "  '7490797',\n",
       "  '9540638',\n",
       "  '9540638',\n",
       "  '9526979',\n",
       "  '9526979',\n",
       "  '9526979',\n",
       "  '6684757',\n",
       "  '6684757'],\n",
       " ['8048086'],\n",
       " ['99999999', '99999999', '99999999', '99999999', '99999999'],\n",
       " ['6821438',\n",
       "  '6930255',\n",
       "  '6750524',\n",
       "  '6302360',\n",
       "  '6750292',\n",
       "  '9529802',\n",
       "  '7213763',\n",
       "  '2855659',\n",
       "  '9711785',\n",
       "  '2855659'],\n",
       " ['2880281',\n",
       "  '9455125',\n",
       "  '9169582',\n",
       "  '6821438',\n",
       "  '6821438',\n",
       "  '6750524',\n",
       "  '9538423',\n",
       "  '6750524',\n",
       "  '8278520',\n",
       "  '4689367',\n",
       "  '9501297',\n",
       "  '2040089',\n",
       "  '6805558',\n",
       "  '9359637'],\n",
       " ['99999999', '99999999', '99999999', '99999999', '99999999'],\n",
       " ['9296970', '9294670', '9294587'],\n",
       " ['9354458', '9354461'],\n",
       " ['99999999', '99999999', '99999999', '99999999', '99999999'],\n",
       " ['9498001', '10126242', '10126242', '9900989'],\n",
       " ['9498001', '10126242'],\n",
       " ['99999999', '99999999', '99999999', '99999999', '99999999'],\n",
       " ['8102600',\n",
       "  '8102600',\n",
       "  '9471247',\n",
       "  '9471247',\n",
       "  '10179841',\n",
       "  '10179841',\n",
       "  '10179841',\n",
       "  '10179841',\n",
       "  '9471234',\n",
       "  '9471234',\n",
       "  '9471234',\n",
       "  '9471247',\n",
       "  '9471247',\n",
       "  '8102600',\n",
       "  '8102600',\n",
       "  '9471247',\n",
       "  '8102600',\n",
       "  '8102600',\n",
       "  '8102600',\n",
       "  '8102600',\n",
       "  '8102600',\n",
       "  '8102600',\n",
       "  '9471218',\n",
       "  '9471247',\n",
       "  '9471247',\n",
       "  '9471247',\n",
       "  '9471218',\n",
       "  '9471247',\n",
       "  '9471218',\n",
       "  '9471247',\n",
       "  '9471247',\n",
       "  '10179841',\n",
       "  '8102600',\n",
       "  '10179841',\n",
       "  '10179841',\n",
       "  '791793',\n",
       "  '791793',\n",
       "  '791793',\n",
       "  '10179841',\n",
       "  '10179841',\n",
       "  '10179841',\n",
       "  '8102600',\n",
       "  '10179841',\n",
       "  '10179841',\n",
       "  '10179841',\n",
       "  '10179841',\n",
       "  '9471234',\n",
       "  '9471234',\n",
       "  '9471234',\n",
       "  '8102600',\n",
       "  '8102600',\n",
       "  '8102600',\n",
       "  '8102600',\n",
       "  '9471234',\n",
       "  '8102600',\n",
       "  '9471234',\n",
       "  '9471234',\n",
       "  '9471234',\n",
       "  '9471234',\n",
       "  '4916606',\n",
       "  '4916606',\n",
       "  '10179911',\n",
       "  '10179911',\n",
       "  '10179911',\n",
       "  '10179911',\n",
       "  '10179911',\n",
       "  '10179911',\n",
       "  '10179911',\n",
       "  '10179911',\n",
       "  '10179911',\n",
       "  '10179911',\n",
       "  '10179911',\n",
       "  '10179911',\n",
       "  '10179911',\n",
       "  '10179911',\n",
       "  '10179911',\n",
       "  '10179911',\n",
       "  '10179911',\n",
       "  '10179911',\n",
       "  '10179911',\n",
       "  '10179911',\n",
       "  '10179911',\n",
       "  '10179911',\n",
       "  '10179911',\n",
       "  '10179911',\n",
       "  '9471238',\n",
       "  '9471238',\n",
       "  '9471238',\n",
       "  '9471238',\n",
       "  '9471238',\n",
       "  '9471238',\n",
       "  '9471238',\n",
       "  '9471238',\n",
       "  '9471238',\n",
       "  '9471238',\n",
       "  '9471238',\n",
       "  '9471238',\n",
       "  '9471238',\n",
       "  '9471238',\n",
       "  '9471238',\n",
       "  '9471238',\n",
       "  '9471238',\n",
       "  '9471239',\n",
       "  '9471239',\n",
       "  '9471239',\n",
       "  '9471238',\n",
       "  '9471238',\n",
       "  '9471238',\n",
       "  '9471238',\n",
       "  '9471238',\n",
       "  '9471238',\n",
       "  '9471238',\n",
       "  '9471217',\n",
       "  '9471217',\n",
       "  '9471217',\n",
       "  '10215594',\n",
       "  '10215594',\n",
       "  '10215594',\n",
       "  '10215594',\n",
       "  '10215594',\n",
       "  '10215594',\n",
       "  '10215594',\n",
       "  '10215594',\n",
       "  '10215594',\n",
       "  '10215594',\n",
       "  '10215594',\n",
       "  '10215594',\n",
       "  '10215594',\n",
       "  '9471229',\n",
       "  '9471229',\n",
       "  '9471229',\n",
       "  '9471229',\n",
       "  '9471229',\n",
       "  '9471229',\n",
       "  '9471229',\n",
       "  '9471229',\n",
       "  '9471229',\n",
       "  '6626343',\n",
       "  '6626343',\n",
       "  '6626343',\n",
       "  '6739934',\n",
       "  '6739934',\n",
       "  '6739934',\n",
       "  '10215685',\n",
       "  '10215685',\n",
       "  '10215685',\n",
       "  '9471232',\n",
       "  '9471232',\n",
       "  '9471232',\n",
       "  '9471232',\n",
       "  '9471232',\n",
       "  '9471232'],\n",
       " ['10179841',\n",
       "  '6373302',\n",
       "  '10179978',\n",
       "  '8102600',\n",
       "  '9471247',\n",
       "  '8102600',\n",
       "  '9471234',\n",
       "  '10179911',\n",
       "  '9471238',\n",
       "  '9471232',\n",
       "  '8392266'],\n",
       " ['99999999', '99999999', '99999999', '99999999', '99999999'],\n",
       " ['8776256'],\n",
       " ['8776256'],\n",
       " ['99999999', '99999999', '99999999', '99999999', '99999999'],\n",
       " ['9140672', '9140672', '9595019', '9595019'],\n",
       " ['9595019'],\n",
       " ['99999999', '99999999', '99999999', '99999999', '99999999'],\n",
       " ['8316068',\n",
       "  '8505949',\n",
       "  '8067836',\n",
       "  '9367640',\n",
       "  '9509948',\n",
       "  '9509948',\n",
       "  '8067836',\n",
       "  '8316068',\n",
       "  '8505949',\n",
       "  '9367640',\n",
       "  '9510546',\n",
       "  '9367594',\n",
       "  '9510546',\n",
       "  '9367594',\n",
       "  '8924865',\n",
       "  '8924865',\n",
       "  '8924865',\n",
       "  '8924865',\n",
       "  '8924468',\n",
       "  '8924468',\n",
       "  '5922175',\n",
       "  '5922175'],\n",
       " ['9509948',\n",
       "  '8067836',\n",
       "  '8316068',\n",
       "  '8505949',\n",
       "  '9367640',\n",
       "  '9510546',\n",
       "  '9367594',\n",
       "  '8924865',\n",
       "  '8924865',\n",
       "  '8924468',\n",
       "  '5922175'],\n",
       " ['99999999', '99999999', '99999999', '99999999', '99999999'],\n",
       " ['9591199', '2564979'],\n",
       " ['9591199', '2564979'],\n",
       " ['99999999', '99999999', '99999999', '99999999', '99999999'],\n",
       " ['9401182', '9401182', '9401182'],\n",
       " ['9401182'],\n",
       " ['99999999', '99999999', '99999999', '99999999', '99999999'],\n",
       " ['5860139', '5860139', '9382075', '9382075'],\n",
       " ['5860139', '9382075'],\n",
       " ['99999999', '99999999', '99999999', '99999999', '99999999'],\n",
       " ['8563159', '7362606', '9338521', '8563159', '7362606', '9338521'],\n",
       " ['8563159', '7362606', '9338521'],\n",
       " ['99999999', '99999999', '99999999', '99999999', '99999999'],\n",
       " ['4541246', '4541246', '4541246', '1622777', '8250846', '8250846'],\n",
       " ['4541246', '8250846'],\n",
       " ['99999999', '99999999', '99999999', '99999999', '99999999'],\n",
       " ['10179841', '9471248'],\n",
       " ['10179841', '9471248'],\n",
       " ['99999999', '99999999', '99999999', '99999999', '99999999'],\n",
       " ['254726', '254726'],\n",
       " ['254726'],\n",
       " ['99999999', '99999999', '99999999', '99999999', '99999999']]"
      ]
     },
     "execution_count": 72,
     "metadata": {},
     "output_type": "execute_result"
    }
   ],
   "source": [
    "simple_sequence_fill"
   ]
  },
  {
   "cell_type": "markdown",
   "metadata": {},
   "source": [
    "# TODO\n",
    "* Can we adjust by price? Probably - using the stored product data\n",
    "* Plot number of views vs. # of purchases - is it linear relationship?\n",
    "* So while this analysis tells us about view-to-purchase correlations, it doesn't tell us anything about pros panels being clicked on."
   ]
  },
  {
   "cell_type": "code",
   "execution_count": null,
   "metadata": {},
   "outputs": [],
   "source": [
    "example_dict = {\n",
    "    'pid1' : {'purchasecount' : 23,\n",
    "             'viewcount' : 560\n",
    "             }\n",
    "    'pid2' : {'purchasecount' : 16,\n",
    "             'viewcount' : 120\n",
    "             }\n",
    "}"
   ]
  },
  {
   "cell_type": "code",
   "execution_count": 54,
   "metadata": {},
   "outputs": [],
   "source": [
    "def get_all_counts(dvals):\n",
    "    output = {}\n",
    "    for item in dvals:\n",
    "        if 'view' in item.keys():\n",
    "            for pid in item['view']:\n",
    "                if pid not in output.keys():\n",
    "                    output[pid] = {'views': 1, 'atbs': 0, 'purchases': 0}\n",
    "                else:\n",
    "                    output[pid]['views'] += 1\n",
    "        if 'atb' in item.keys():\n",
    "            for pid in item['atb']:\n",
    "                if pid not in output.keys():\n",
    "                    output[pid] = {'views': 0, 'atbs': 1, 'purchases': 0}\n",
    "                else:\n",
    "                    output[pid]['atbs'] += 1                    \n",
    "        if 'purchase' in item.keys():\n",
    "            for pid in item['purchase']:\n",
    "                if pid not in output.keys():\n",
    "                    output[pid] = {'views': 0, 'atbs': 0, 'purchases': 1}\n",
    "                else:\n",
    "                    output[pid]['purchases'] += 1    \n",
    "    return output"
   ]
  },
  {
   "cell_type": "code",
   "execution_count": 55,
   "metadata": {},
   "outputs": [],
   "source": [
    "counts_pid = get_all_counts(comb_r_v)"
   ]
  },
  {
   "cell_type": "code",
   "execution_count": 57,
   "metadata": {},
   "outputs": [],
   "source": [
    "counts_pid_l = list(counts_pid.items())"
   ]
  },
  {
   "cell_type": "code",
   "execution_count": 58,
   "metadata": {},
   "outputs": [
    {
     "data": {
      "text/plain": [
       "[('6612068', {'views': 24366, 'atbs': 3793, 'purchases': 566}),\n",
       " ('987859', {'views': 63439, 'atbs': 9581, 'purchases': 1802}),\n",
       " ('1048510', {'views': 121317, 'atbs': 18395, 'purchases': 3378})]"
      ]
     },
     "execution_count": 58,
     "metadata": {},
     "output_type": "execute_result"
    }
   ],
   "source": [
    "counts_pid_l[:3]"
   ]
  },
  {
   "cell_type": "code",
   "execution_count": 180,
   "metadata": {},
   "outputs": [
    {
     "data": {
      "text/html": [
       "<div>\n",
       "<style scoped>\n",
       "    .dataframe tbody tr th:only-of-type {\n",
       "        vertical-align: middle;\n",
       "    }\n",
       "\n",
       "    .dataframe tbody tr th {\n",
       "        vertical-align: top;\n",
       "    }\n",
       "\n",
       "    .dataframe thead th {\n",
       "        text-align: right;\n",
       "    }\n",
       "</style>\n",
       "<table border=\"1\" class=\"dataframe\">\n",
       "  <thead>\n",
       "    <tr style=\"text-align: right;\">\n",
       "      <th></th>\n",
       "      <th>atbs</th>\n",
       "      <th>purchases</th>\n",
       "      <th>views</th>\n",
       "    </tr>\n",
       "  </thead>\n",
       "  <tbody>\n",
       "    <tr>\n",
       "      <th>6612068</th>\n",
       "      <td>3793</td>\n",
       "      <td>566</td>\n",
       "      <td>24366</td>\n",
       "    </tr>\n",
       "    <tr>\n",
       "      <th>987859</th>\n",
       "      <td>9581</td>\n",
       "      <td>1802</td>\n",
       "      <td>63439</td>\n",
       "    </tr>\n",
       "    <tr>\n",
       "      <th>1048510</th>\n",
       "      <td>18395</td>\n",
       "      <td>3378</td>\n",
       "      <td>121317</td>\n",
       "    </tr>\n",
       "    <tr>\n",
       "      <th>6446981</th>\n",
       "      <td>13996</td>\n",
       "      <td>2658</td>\n",
       "      <td>68837</td>\n",
       "    </tr>\n",
       "    <tr>\n",
       "      <th>1656539</th>\n",
       "      <td>25572</td>\n",
       "      <td>4869</td>\n",
       "      <td>70271</td>\n",
       "    </tr>\n",
       "  </tbody>\n",
       "</table>\n",
       "</div>"
      ],
      "text/plain": [
       "          atbs  purchases   views\n",
       "6612068   3793        566   24366\n",
       "987859    9581       1802   63439\n",
       "1048510  18395       3378  121317\n",
       "6446981  13996       2658   68837\n",
       "1656539  25572       4869   70271"
      ]
     },
     "execution_count": 180,
     "metadata": {},
     "output_type": "execute_result"
    }
   ],
   "source": [
    "conv = pd.DataFrame(counts_pid).T\n",
    "conv.head()"
   ]
  },
  {
   "cell_type": "code",
   "execution_count": 184,
   "metadata": {},
   "outputs": [],
   "source": [
    "conv['view2pur_conv'] = conv['purchases'] / conv['views']\n",
    "conv['atb2pur_conv'] = conv['purchases'] / conv['atbs']\n",
    "conv['view2atb_conv'] = conv['atbs'] / conv['views']\n",
    "conv['averageconversion'] = (conv['view2pur_conv'] + conv['atb2pur_conv'] + conv['view2atb_conv'])/3\n",
    "conv['totalconversion'] = conv['purchases'] / (conv['atbs'] + conv['views'])"
   ]
  },
  {
   "cell_type": "code",
   "execution_count": 185,
   "metadata": {},
   "outputs": [
    {
     "data": {
      "text/html": [
       "<div>\n",
       "<style scoped>\n",
       "    .dataframe tbody tr th:only-of-type {\n",
       "        vertical-align: middle;\n",
       "    }\n",
       "\n",
       "    .dataframe tbody tr th {\n",
       "        vertical-align: top;\n",
       "    }\n",
       "\n",
       "    .dataframe thead th {\n",
       "        text-align: right;\n",
       "    }\n",
       "</style>\n",
       "<table border=\"1\" class=\"dataframe\">\n",
       "  <thead>\n",
       "    <tr style=\"text-align: right;\">\n",
       "      <th></th>\n",
       "      <th>atbs</th>\n",
       "      <th>purchases</th>\n",
       "      <th>views</th>\n",
       "      <th>view2pur_conv</th>\n",
       "      <th>atb2pur_conv</th>\n",
       "      <th>view2atb_conv</th>\n",
       "      <th>totalconversion</th>\n",
       "      <th>averageconversion</th>\n",
       "    </tr>\n",
       "  </thead>\n",
       "  <tbody>\n",
       "    <tr>\n",
       "      <th>8030455</th>\n",
       "      <td>1955</td>\n",
       "      <td>1920</td>\n",
       "      <td>641</td>\n",
       "      <td>2.995320</td>\n",
       "      <td>0.982097</td>\n",
       "      <td>3.049922</td>\n",
       "      <td>0.739599</td>\n",
       "      <td>2.342446</td>\n",
       "    </tr>\n",
       "    <tr>\n",
       "      <th>2374327</th>\n",
       "      <td>23433</td>\n",
       "      <td>13925</td>\n",
       "      <td>4639</td>\n",
       "      <td>3.001725</td>\n",
       "      <td>0.594247</td>\n",
       "      <td>5.051304</td>\n",
       "      <td>0.496046</td>\n",
       "      <td>2.882425</td>\n",
       "    </tr>\n",
       "    <tr>\n",
       "      <th>8024313</th>\n",
       "      <td>140</td>\n",
       "      <td>70</td>\n",
       "      <td>31</td>\n",
       "      <td>2.258065</td>\n",
       "      <td>0.500000</td>\n",
       "      <td>4.516129</td>\n",
       "      <td>0.409357</td>\n",
       "      <td>2.424731</td>\n",
       "    </tr>\n",
       "    <tr>\n",
       "      <th>6555405</th>\n",
       "      <td>4069</td>\n",
       "      <td>1815</td>\n",
       "      <td>669</td>\n",
       "      <td>2.713004</td>\n",
       "      <td>0.446056</td>\n",
       "      <td>6.082212</td>\n",
       "      <td>0.383073</td>\n",
       "      <td>3.080424</td>\n",
       "    </tr>\n",
       "    <tr>\n",
       "      <th>7934068</th>\n",
       "      <td>3205</td>\n",
       "      <td>1362</td>\n",
       "      <td>357</td>\n",
       "      <td>3.815126</td>\n",
       "      <td>0.424961</td>\n",
       "      <td>8.977591</td>\n",
       "      <td>0.382369</td>\n",
       "      <td>4.405893</td>\n",
       "    </tr>\n",
       "  </tbody>\n",
       "</table>\n",
       "</div>"
      ],
      "text/plain": [
       "          atbs  purchases  views  view2pur_conv  atb2pur_conv  view2atb_conv  \\\n",
       "8030455   1955       1920    641       2.995320      0.982097       3.049922   \n",
       "2374327  23433      13925   4639       3.001725      0.594247       5.051304   \n",
       "8024313    140         70     31       2.258065      0.500000       4.516129   \n",
       "6555405   4069       1815    669       2.713004      0.446056       6.082212   \n",
       "7934068   3205       1362    357       3.815126      0.424961       8.977591   \n",
       "\n",
       "         totalconversion  averageconversion  \n",
       "8030455         0.739599           2.342446  \n",
       "2374327         0.496046           2.882425  \n",
       "8024313         0.409357           2.424731  \n",
       "6555405         0.383073           3.080424  \n",
       "7934068         0.382369           4.405893  "
      ]
     },
     "execution_count": 185,
     "metadata": {},
     "output_type": "execute_result"
    }
   ],
   "source": [
    "topconversion = conv.query('views > 15').sort_values(by='totalconversion', ascending=False)\n",
    "topconversion.head()"
   ]
  },
  {
   "cell_type": "code",
   "execution_count": 186,
   "metadata": {},
   "outputs": [
    {
     "data": {
      "text/html": [
       "<div>\n",
       "<style scoped>\n",
       "    .dataframe tbody tr th:only-of-type {\n",
       "        vertical-align: middle;\n",
       "    }\n",
       "\n",
       "    .dataframe tbody tr th {\n",
       "        vertical-align: top;\n",
       "    }\n",
       "\n",
       "    .dataframe thead th {\n",
       "        text-align: right;\n",
       "    }\n",
       "</style>\n",
       "<table border=\"1\" class=\"dataframe\">\n",
       "  <thead>\n",
       "    <tr style=\"text-align: right;\">\n",
       "      <th></th>\n",
       "      <th>atbs</th>\n",
       "      <th>purchases</th>\n",
       "      <th>views</th>\n",
       "      <th>view2pur_conv</th>\n",
       "      <th>atb2pur_conv</th>\n",
       "      <th>view2atb_conv</th>\n",
       "      <th>totalconversion</th>\n",
       "      <th>averageconversion</th>\n",
       "    </tr>\n",
       "  </thead>\n",
       "  <tbody>\n",
       "    <tr>\n",
       "      <th>7651230</th>\n",
       "      <td>7</td>\n",
       "      <td>0</td>\n",
       "      <td>113</td>\n",
       "      <td>0.0</td>\n",
       "      <td>0.0</td>\n",
       "      <td>0.061947</td>\n",
       "      <td>0.0</td>\n",
       "      <td>0.020649</td>\n",
       "    </tr>\n",
       "    <tr>\n",
       "      <th>4848991</th>\n",
       "      <td>1</td>\n",
       "      <td>0</td>\n",
       "      <td>90</td>\n",
       "      <td>0.0</td>\n",
       "      <td>0.0</td>\n",
       "      <td>0.011111</td>\n",
       "      <td>0.0</td>\n",
       "      <td>0.003704</td>\n",
       "    </tr>\n",
       "    <tr>\n",
       "      <th>7052959</th>\n",
       "      <td>0</td>\n",
       "      <td>0</td>\n",
       "      <td>80</td>\n",
       "      <td>0.0</td>\n",
       "      <td>NaN</td>\n",
       "      <td>0.000000</td>\n",
       "      <td>0.0</td>\n",
       "      <td>NaN</td>\n",
       "    </tr>\n",
       "    <tr>\n",
       "      <th>4845470</th>\n",
       "      <td>0</td>\n",
       "      <td>0</td>\n",
       "      <td>62</td>\n",
       "      <td>0.0</td>\n",
       "      <td>NaN</td>\n",
       "      <td>0.000000</td>\n",
       "      <td>0.0</td>\n",
       "      <td>NaN</td>\n",
       "    </tr>\n",
       "    <tr>\n",
       "      <th>5391016</th>\n",
       "      <td>0</td>\n",
       "      <td>0</td>\n",
       "      <td>19</td>\n",
       "      <td>0.0</td>\n",
       "      <td>NaN</td>\n",
       "      <td>0.000000</td>\n",
       "      <td>0.0</td>\n",
       "      <td>NaN</td>\n",
       "    </tr>\n",
       "  </tbody>\n",
       "</table>\n",
       "</div>"
      ],
      "text/plain": [
       "         atbs  purchases  views  view2pur_conv  atb2pur_conv  view2atb_conv  \\\n",
       "7651230     7          0    113            0.0           0.0       0.061947   \n",
       "4848991     1          0     90            0.0           0.0       0.011111   \n",
       "7052959     0          0     80            0.0           NaN       0.000000   \n",
       "4845470     0          0     62            0.0           NaN       0.000000   \n",
       "5391016     0          0     19            0.0           NaN       0.000000   \n",
       "\n",
       "         totalconversion  averageconversion  \n",
       "7651230              0.0           0.020649  \n",
       "4848991              0.0           0.003704  \n",
       "7052959              0.0                NaN  \n",
       "4845470              0.0                NaN  \n",
       "5391016              0.0                NaN  "
      ]
     },
     "execution_count": 186,
     "metadata": {},
     "output_type": "execute_result"
    }
   ],
   "source": [
    "topconversion.tail()"
   ]
  },
  {
   "cell_type": "markdown",
   "metadata": {},
   "source": [
    "### Need to filter out GWP and PWP"
   ]
  },
  {
   "cell_type": "code",
   "execution_count": 79,
   "metadata": {},
   "outputs": [
    {
     "name": "stdout",
     "output_type": "stream",
     "text": [
      "d_test\t\t\t\tur_production_purchase_store.csv\r\n",
      "d_train\t\t\t\tur_production_user_mapping.csv\r\n",
      "ur_production_atb.csv\t\tur_production_view.csv\r\n",
      "ur_production_product_attr.csv\tur_train_20190220_3.tar.gz\r\n",
      "ur_production_purchase.csv\r\n"
     ]
    }
   ],
   "source": [
    "!ls /home/jovyan/data/yh09262/ur_train_20190220_3"
   ]
  },
  {
   "cell_type": "code",
   "execution_count": 189,
   "metadata": {},
   "outputs": [
    {
     "name": "stdout",
     "output_type": "stream",
     "text": [
      "20190329_60  20190605_60  prod_attribute_July26_2019.csv\r\n"
     ]
    }
   ],
   "source": [
    "!ls /home/jovyan/data/yh09262/prod"
   ]
  },
  {
   "cell_type": "code",
   "execution_count": 82,
   "metadata": {},
   "outputs": [],
   "source": [
    "#!ls /home/jovyan/work/yh09262/cython_home\n",
    "# attr = pd.read_csv('/home/jovyan/data/yh09262/ur_train_20190220_3/ur_production_product_attr.csv')\n",
    "# attr.head()\n",
    "from get_csv_rows import get_csv_rows"
   ]
  },
  {
   "cell_type": "code",
   "execution_count": 190,
   "metadata": {},
   "outputs": [],
   "source": [
    "#attrrows = get_csv_rows('/home/jovyan/data/yh09262/ur_train_20190220_3/ur_production_product_attr.csv')\n",
    "attrrows = get_csv_rows('/home/jovyan/data/yh09262/prod/prod_attribute_July26_2019.csv',numcols=24)"
   ]
  },
  {
   "cell_type": "code",
   "execution_count": 194,
   "metadata": {},
   "outputs": [
    {
     "name": "stdout",
     "output_type": "stream",
     "text": [
      "(2285468, 23)\n"
     ]
    },
    {
     "data": {
      "text/html": [
       "<div>\n",
       "<style scoped>\n",
       "    .dataframe tbody tr th:only-of-type {\n",
       "        vertical-align: middle;\n",
       "    }\n",
       "\n",
       "    .dataframe tbody tr th {\n",
       "        vertical-align: top;\n",
       "    }\n",
       "\n",
       "    .dataframe thead th {\n",
       "        text-align: right;\n",
       "    }\n",
       "</style>\n",
       "<table border=\"1\" class=\"dataframe\">\n",
       "  <thead>\n",
       "    <tr style=\"text-align: right;\">\n",
       "      <th></th>\n",
       "      <th>prod_name</th>\n",
       "      <th>today_original_price</th>\n",
       "      <th>today_retail_price</th>\n",
       "      <th>availability_flag</th>\n",
       "      <th>home_category_id</th>\n",
       "      <th>gmm_id</th>\n",
       "      <th>div_id</th>\n",
       "      <th>department_id</th>\n",
       "      <th>prod_age_txt</th>\n",
       "      <th>new_arrival</th>\n",
       "      <th>...</th>\n",
       "      <th>age_category</th>\n",
       "      <th>prodtype</th>\n",
       "      <th>gender</th>\n",
       "      <th>master_product_flag</th>\n",
       "      <th>recommend_pdp</th>\n",
       "      <th>product_long_description</th>\n",
       "      <th>site_product_type</th>\n",
       "      <th>size_attr_name</th>\n",
       "      <th>actv_web_cat_ids</th>\n",
       "      <th>pwp_ind</th>\n",
       "    </tr>\n",
       "    <tr>\n",
       "      <th>product_id</th>\n",
       "      <th></th>\n",
       "      <th></th>\n",
       "      <th></th>\n",
       "      <th></th>\n",
       "      <th></th>\n",
       "      <th></th>\n",
       "      <th></th>\n",
       "      <th></th>\n",
       "      <th></th>\n",
       "      <th></th>\n",
       "      <th></th>\n",
       "      <th></th>\n",
       "      <th></th>\n",
       "      <th></th>\n",
       "      <th></th>\n",
       "      <th></th>\n",
       "      <th></th>\n",
       "      <th></th>\n",
       "      <th></th>\n",
       "      <th></th>\n",
       "      <th></th>\n",
       "    </tr>\n",
       "  </thead>\n",
       "  <tbody>\n",
       "    <tr>\n",
       "      <th>75389</th>\n",
       "      <td>Marquis By Waterford Sheridan Bowls</td>\n",
       "      <td>NULL</td>\n",
       "      <td>NULL</td>\n",
       "      <td>N</td>\n",
       "      <td>56127</td>\n",
       "      <td>47</td>\n",
       "      <td>82</td>\n",
       "      <td>628</td>\n",
       "      <td>&lt;null&gt;</td>\n",
       "      <td>NULL</td>\n",
       "      <td>...</td>\n",
       "      <td>Adult</td>\n",
       "      <td>Home</td>\n",
       "      <td>&lt;null&gt;</td>\n",
       "      <td>Y</td>\n",
       "      <td>NULL</td>\n",
       "      <td>A series of vertical wedge cuts around the sid...</td>\n",
       "      <td>GIFTWARE</td>\n",
       "      <td>NULL</td>\n",
       "      <td>NULL</td>\n",
       "      <td>N</td>\n",
       "    </tr>\n",
       "    <tr>\n",
       "      <th>6850</th>\n",
       "      <td>Lenox Serveware, 10\" Holiday Oval Vegetable Bowl</td>\n",
       "      <td>360.0</td>\n",
       "      <td>360.0</td>\n",
       "      <td>Y</td>\n",
       "      <td>53630</td>\n",
       "      <td>47</td>\n",
       "      <td>82</td>\n",
       "      <td>783</td>\n",
       "      <td>2918</td>\n",
       "      <td>NULL</td>\n",
       "      <td>...</td>\n",
       "      <td>&lt;null&gt;</td>\n",
       "      <td>Home</td>\n",
       "      <td>&lt;null&gt;</td>\n",
       "      <td>N</td>\n",
       "      <td>Y</td>\n",
       "      <td>What finer things can there be than this? Part...</td>\n",
       "      <td>CHINA</td>\n",
       "      <td>NULL</td>\n",
       "      <td>8377,9545,24294,25037,25152,27226,29023,32175,...</td>\n",
       "      <td>N</td>\n",
       "    </tr>\n",
       "    <tr>\n",
       "      <th>16241</th>\n",
       "      <td>Dermablend Remover, 6.3 oz.</td>\n",
       "      <td>NULL</td>\n",
       "      <td>NULL</td>\n",
       "      <td>N</td>\n",
       "      <td>30077</td>\n",
       "      <td>4</td>\n",
       "      <td>37</td>\n",
       "      <td>374</td>\n",
       "      <td>&lt;null&gt;</td>\n",
       "      <td>NULL</td>\n",
       "      <td>...</td>\n",
       "      <td>Adult</td>\n",
       "      <td>Cosmetics</td>\n",
       "      <td>Women</td>\n",
       "      <td>N</td>\n",
       "      <td>NULL</td>\n",
       "      <td>This fast dissolving formula effectively remov...</td>\n",
       "      <td>SKIN_CARE</td>\n",
       "      <td>NULL</td>\n",
       "      <td>NULL</td>\n",
       "      <td>N</td>\n",
       "    </tr>\n",
       "    <tr>\n",
       "      <th>16245</th>\n",
       "      <td>Dermablend Compact Cover Creme, .49 oz.</td>\n",
       "      <td>NULL</td>\n",
       "      <td>NULL</td>\n",
       "      <td>N</td>\n",
       "      <td>30077</td>\n",
       "      <td>4</td>\n",
       "      <td>37</td>\n",
       "      <td>374</td>\n",
       "      <td>&lt;null&gt;</td>\n",
       "      <td>NULL</td>\n",
       "      <td>...</td>\n",
       "      <td>Adult</td>\n",
       "      <td>Cosmetics</td>\n",
       "      <td>Women</td>\n",
       "      <td>N</td>\n",
       "      <td>NULL</td>\n",
       "      <td>In an array of skin tones this cover creme dev...</td>\n",
       "      <td>FACE_MAKEUP</td>\n",
       "      <td>NULL</td>\n",
       "      <td>NULL</td>\n",
       "      <td>N</td>\n",
       "    </tr>\n",
       "    <tr>\n",
       "      <th>16313</th>\n",
       "      <td>Carolina Herrera 212 for Men Eau de Toilette S...</td>\n",
       "      <td>90.0</td>\n",
       "      <td>90.0</td>\n",
       "      <td>Y</td>\n",
       "      <td>30076</td>\n",
       "      <td>4</td>\n",
       "      <td>38</td>\n",
       "      <td>343</td>\n",
       "      <td>2918</td>\n",
       "      <td>NULL</td>\n",
       "      <td>...</td>\n",
       "      <td>Adult</td>\n",
       "      <td>Fragrance</td>\n",
       "      <td>Men</td>\n",
       "      <td>N</td>\n",
       "      <td>Y</td>\n",
       "      <td>Carolina Herrera presents a whole new 212 just...</td>\n",
       "      <td>FRAGRANCE</td>\n",
       "      <td>NULL</td>\n",
       "      <td>3536,9559,14877,26679,30076,30088,30169,31620,...</td>\n",
       "      <td>N</td>\n",
       "    </tr>\n",
       "  </tbody>\n",
       "</table>\n",
       "<p>5 rows × 23 columns</p>\n",
       "</div>"
      ],
      "text/plain": [
       "                                                    prod_name  \\\n",
       "product_id                                                      \n",
       "75389                     Marquis By Waterford Sheridan Bowls   \n",
       "6850         Lenox Serveware, 10\" Holiday Oval Vegetable Bowl   \n",
       "16241                             Dermablend Remover, 6.3 oz.   \n",
       "16245                 Dermablend Compact Cover Creme, .49 oz.   \n",
       "16313       Carolina Herrera 212 for Men Eau de Toilette S...   \n",
       "\n",
       "           today_original_price today_retail_price availability_flag  \\\n",
       "product_id                                                             \n",
       "75389                      NULL               NULL                 N   \n",
       "6850                      360.0              360.0                 Y   \n",
       "16241                      NULL               NULL                 N   \n",
       "16245                      NULL               NULL                 N   \n",
       "16313                      90.0               90.0                 Y   \n",
       "\n",
       "           home_category_id gmm_id div_id department_id prod_age_txt  \\\n",
       "product_id                                                             \n",
       "75389                 56127     47     82           628       <null>   \n",
       "6850                  53630     47     82           783         2918   \n",
       "16241                 30077      4     37           374       <null>   \n",
       "16245                 30077      4     37           374       <null>   \n",
       "16313                 30076      4     38           343         2918   \n",
       "\n",
       "           new_arrival  ... age_category   prodtype  gender  \\\n",
       "product_id              ...                                   \n",
       "75389             NULL  ...        Adult       Home  <null>   \n",
       "6850              NULL  ...       <null>       Home  <null>   \n",
       "16241             NULL  ...        Adult  Cosmetics   Women   \n",
       "16245             NULL  ...        Adult  Cosmetics   Women   \n",
       "16313             NULL  ...        Adult  Fragrance     Men   \n",
       "\n",
       "           master_product_flag recommend_pdp  \\\n",
       "product_id                                     \n",
       "75389                        Y          NULL   \n",
       "6850                         N             Y   \n",
       "16241                        N          NULL   \n",
       "16245                        N          NULL   \n",
       "16313                        N             Y   \n",
       "\n",
       "                                     product_long_description  \\\n",
       "product_id                                                      \n",
       "75389       A series of vertical wedge cuts around the sid...   \n",
       "6850        What finer things can there be than this? Part...   \n",
       "16241       This fast dissolving formula effectively remov...   \n",
       "16245       In an array of skin tones this cover creme dev...   \n",
       "16313       Carolina Herrera presents a whole new 212 just...   \n",
       "\n",
       "           site_product_type size_attr_name  \\\n",
       "product_id                                    \n",
       "75389               GIFTWARE           NULL   \n",
       "6850                   CHINA           NULL   \n",
       "16241              SKIN_CARE           NULL   \n",
       "16245            FACE_MAKEUP           NULL   \n",
       "16313              FRAGRANCE           NULL   \n",
       "\n",
       "                                             actv_web_cat_ids pwp_ind  \n",
       "product_id                                                             \n",
       "75389                                                    NULL       N  \n",
       "6850        8377,9545,24294,25037,25152,27226,29023,32175,...       N  \n",
       "16241                                                    NULL       N  \n",
       "16245                                                    NULL       N  \n",
       "16313       3536,9559,14877,26679,30076,30088,30169,31620,...       N  \n",
       "\n",
       "[5 rows x 23 columns]"
      ]
     },
     "execution_count": 194,
     "metadata": {},
     "output_type": "execute_result"
    }
   ],
   "source": [
    "attr = pd.DataFrame(attrrows[1:],columns=attrrows[0]).set_index('product_id')\n",
    "print(attr.shape)\n",
    "attr.head()"
   ]
  },
  {
   "cell_type": "code",
   "execution_count": 192,
   "metadata": {},
   "outputs": [
    {
     "data": {
      "text/plain": [
       "(2285468, 24)"
      ]
     },
     "execution_count": 192,
     "metadata": {},
     "output_type": "execute_result"
    }
   ],
   "source": [
    "attr.shape"
   ]
  },
  {
   "cell_type": "code",
   "execution_count": 124,
   "metadata": {},
   "outputs": [],
   "source": [
    "import os\n",
    "CACHE_IMAGE_PATH = os.environ.get('PROS_DS_LIB_IMAGE_CACHE_DIR',os.path.join(os.path.expanduser('~'),'_product_images_cache'))\n",
    "PRODUCT_FILE = os.environ.get('PROS_DS_LIB_PRODUCT_FILE',os.path.join(CACHE_IMAGE_PATH, 'product_catalog.csv'))\n",
    "prods = pd.read_csv(PRODUCT_FILE,dtype={'product_id': str, 'prod_name': str, 'price_retail': float}).set_index('product_id')"
   ]
  },
  {
   "cell_type": "code",
   "execution_count": 137,
   "metadata": {},
   "outputs": [
    {
     "name": "stdout",
     "output_type": "stream",
     "text": [
      "(2526359, 3)\n"
     ]
    },
    {
     "data": {
      "text/html": [
       "<div>\n",
       "<style scoped>\n",
       "    .dataframe tbody tr th:only-of-type {\n",
       "        vertical-align: middle;\n",
       "    }\n",
       "\n",
       "    .dataframe tbody tr th {\n",
       "        vertical-align: top;\n",
       "    }\n",
       "\n",
       "    .dataframe thead th {\n",
       "        text-align: right;\n",
       "    }\n",
       "</style>\n",
       "<table border=\"1\" class=\"dataframe\">\n",
       "  <thead>\n",
       "    <tr style=\"text-align: right;\">\n",
       "      <th></th>\n",
       "      <th>prod_name</th>\n",
       "      <th>price_retail</th>\n",
       "      <th>names_lower</th>\n",
       "    </tr>\n",
       "    <tr>\n",
       "      <th>product_id</th>\n",
       "      <th></th>\n",
       "      <th></th>\n",
       "      <th></th>\n",
       "    </tr>\n",
       "  </thead>\n",
       "  <tbody>\n",
       "    <tr>\n",
       "      <th>2187</th>\n",
       "      <td>COOL WATER WOMAN BODY MOISTURIZER, 6.7 OZ.</td>\n",
       "      <td>34.0</td>\n",
       "      <td>cool water woman body moisturizer, 6.7 oz.</td>\n",
       "    </tr>\n",
       "    <tr>\n",
       "      <th>2276</th>\n",
       "      <td>FIESTA 19-OZ. MEDIUM BOWL</td>\n",
       "      <td>14.0</td>\n",
       "      <td>fiesta 19-oz. medium bowl</td>\n",
       "    </tr>\n",
       "    <tr>\n",
       "      <th>2280</th>\n",
       "      <td>FIESTA 13\" OVAL PLATTER</td>\n",
       "      <td>38.0</td>\n",
       "      <td>fiesta 13\" oval platter</td>\n",
       "    </tr>\n",
       "    <tr>\n",
       "      <th>16379</th>\n",
       "      <td>CACHAREL ANAIS ANAIS FOR WOMEN PERFUME COLLECTION</td>\n",
       "      <td>NaN</td>\n",
       "      <td>cacharel anais anais for women perfume collection</td>\n",
       "    </tr>\n",
       "    <tr>\n",
       "      <th>19952</th>\n",
       "      <td>GORHAM MELON BUD FROSTED STAINLESS FLATWARE CO...</td>\n",
       "      <td>NaN</td>\n",
       "      <td>gorham melon bud frosted stainless flatware co...</td>\n",
       "    </tr>\n",
       "  </tbody>\n",
       "</table>\n",
       "</div>"
      ],
      "text/plain": [
       "                                                    prod_name  price_retail  \\\n",
       "product_id                                                                    \n",
       "2187               COOL WATER WOMAN BODY MOISTURIZER, 6.7 OZ.          34.0   \n",
       "2276                                FIESTA 19-OZ. MEDIUM BOWL          14.0   \n",
       "2280                                  FIESTA 13\" OVAL PLATTER          38.0   \n",
       "16379       CACHAREL ANAIS ANAIS FOR WOMEN PERFUME COLLECTION           NaN   \n",
       "19952       GORHAM MELON BUD FROSTED STAINLESS FLATWARE CO...           NaN   \n",
       "\n",
       "                                                  names_lower  \n",
       "product_id                                                     \n",
       "2187               cool water woman body moisturizer, 6.7 oz.  \n",
       "2276                                fiesta 19-oz. medium bowl  \n",
       "2280                                  fiesta 13\" oval platter  \n",
       "16379       cacharel anais anais for women perfume collection  \n",
       "19952       gorham melon bud frosted stainless flatware co...  "
      ]
     },
     "execution_count": 137,
     "metadata": {},
     "output_type": "execute_result"
    }
   ],
   "source": [
    "print(prods.shape)\n",
    "prods['names_lower'] = prods['prod_name'].str.lower().astype('str')\n",
    "prods.head()"
   ]
  },
  {
   "cell_type": "code",
   "execution_count": 117,
   "metadata": {},
   "outputs": [],
   "source": [
    "#PRODUCT_CATALOG.to_csv('/home/jovyan/work/yh09262/DTOOLS/product_catalog_July26_2019.csv')"
   ]
  },
  {
   "cell_type": "code",
   "execution_count": 94,
   "metadata": {},
   "outputs": [
    {
     "name": "stdout",
     "output_type": "stream",
     "text": [
      "{'ProductThumbnailData': {'errorMessage': 'Product thumbnail may be unavailable, archived or some of the business rules related to display product thumbnail are not met'}}\n"
     ]
    }
   ],
   "source": [
    "import json\n",
    "import requests\n",
    "URL = 'https://www.macys.com/api/navigation/products/thumbnail/'\n",
    "#HEADERS = {'User-Agent': 'Mozilla/5.0 (Macintosh; Intel Mac OS X 10_11_5) AppleWebKit/537.36 (KHTML, like Gecko) Cafari/537.36'}\n",
    "HEADERS = {\n",
    "    'User-Agent': ('Mozilla/5.0 (Macintosh; Intel Mac OS X 10_11_5)'\n",
    "                   'AppleWebKit/537.36 (KHTML, like Gecko) Cafari/537.36')}\n",
    "\n",
    "print(requests.get(URL+'8030455').json())"
   ]
  },
  {
   "cell_type": "code",
   "execution_count": 92,
   "metadata": {},
   "outputs": [
    {
     "data": {
      "text/plain": [
       "{'ProductThumbnailData': {'errorMessage': 'Product thumbnail may be unavailable, archived or some of the business rules related to display product thumbnail are not met'}}"
      ]
     },
     "execution_count": 92,
     "metadata": {},
     "output_type": "execute_result"
    }
   ],
   "source": [
    "uu.get_product_info_from_mcom('8030455')"
   ]
  },
  {
   "cell_type": "code",
   "execution_count": 121,
   "metadata": {},
   "outputs": [
    {
     "name": "stdout",
     "output_type": "stream",
     "text": [
      "RECEIVE A FREE DELUXE ADVANCED NIGHT REPAIR SERUM WITH ANY $75 ESTÉE LAUDER PURCHASE\n",
      "Receive a free FULL SIZE Rejuvenating Face Oil with $50 BABOR Purchase! (a $69 value)\n",
      "Receive a Complimentary Duffel Bag with any $54 purchase from the Paul Sebastian fragrance collection\n",
      "RECEIVE A FREE MINI SETTING POWDER WITH ANY FOUNDATION PURCHASE!\n",
      "Happy Lunar New Year! FREE 4 pc Gift with $85 Kiehl's Purchase!\n"
     ]
    }
   ],
   "source": [
    "print(PRODUCT_CATALOG.loc['4765862',:]['prod_name'])\n",
    "print(PRODUCT_CATALOG.loc['8024313',:]['prod_name'])\n",
    "print(PRODUCT_CATALOG.loc['6733522',:]['prod_name'])\n",
    "print(PRODUCT_CATALOG.loc['2374327',:]['prod_name'])\n",
    "print(PRODUCT_CATALOG.loc['8030455',:]['prod_name'])"
   ]
  },
  {
   "cell_type": "code",
   "execution_count": 173,
   "metadata": {},
   "outputs": [
    {
     "name": "stdout",
     "output_type": "stream",
     "text": [
      "15541 71707 78771\n"
     ]
    }
   ],
   "source": [
    "prods_pf = prods[prods['price_retail'] <= 3]\n",
    "gwp = prods[prods['names_lower'].str.contains(\"receive a complimentary\") | \\\n",
    "            prods['names_lower'].str.contains(\"receive a free\") | \\\n",
    "            prods['names_lower'].str.contains(\"gift with\") | \\\n",
    "            prods['names_lower'].str.contains(\"with your $\")]\n",
    "\n",
    "all_gwp = set(prods_pf.index.values).union(set(gwp.index.values))\n",
    "print(len(gwp), len(prods_pf), len(all_gwp))"
   ]
  },
  {
   "cell_type": "code",
   "execution_count": 153,
   "metadata": {},
   "outputs": [
    {
     "name": "stdout",
     "output_type": "stream",
     "text": [
      "2510818\n"
     ]
    }
   ],
   "source": [
    "gwp_n = prods[~prods['names_lower'].str.contains(\"receive a complimentary\") & \\\n",
    "            ~prods['names_lower'].str.contains(\"receive a free\") & \\\n",
    "            ~prods['names_lower'].str.contains(\"gift with\")]\n",
    "print(len(gwp_n))"
   ]
  },
  {
   "cell_type": "code",
   "execution_count": 154,
   "metadata": {},
   "outputs": [
    {
     "data": {
      "text/plain": [
       "2526359"
      ]
     },
     "execution_count": 154,
     "metadata": {},
     "output_type": "execute_result"
    }
   ],
   "source": [
    "len(prods)"
   ]
  },
  {
   "cell_type": "code",
   "execution_count": 155,
   "metadata": {},
   "outputs": [
    {
     "data": {
      "text/plain": [
       "2510818"
      ]
     },
     "execution_count": 155,
     "metadata": {},
     "output_type": "execute_result"
    }
   ],
   "source": [
    "2526359 - 15541"
   ]
  },
  {
   "cell_type": "code",
   "execution_count": 156,
   "metadata": {},
   "outputs": [
    {
     "data": {
      "text/html": [
       "<div>\n",
       "<style scoped>\n",
       "    .dataframe tbody tr th:only-of-type {\n",
       "        vertical-align: middle;\n",
       "    }\n",
       "\n",
       "    .dataframe tbody tr th {\n",
       "        vertical-align: top;\n",
       "    }\n",
       "\n",
       "    .dataframe thead th {\n",
       "        text-align: right;\n",
       "    }\n",
       "</style>\n",
       "<table border=\"1\" class=\"dataframe\">\n",
       "  <thead>\n",
       "    <tr style=\"text-align: right;\">\n",
       "      <th></th>\n",
       "      <th>prod_name</th>\n",
       "      <th>price_retail</th>\n",
       "      <th>names_lower</th>\n",
       "    </tr>\n",
       "    <tr>\n",
       "      <th>product_id</th>\n",
       "      <th></th>\n",
       "      <th></th>\n",
       "      <th></th>\n",
       "    </tr>\n",
       "  </thead>\n",
       "  <tbody>\n",
       "    <tr>\n",
       "      <th>2187</th>\n",
       "      <td>COOL WATER WOMAN BODY MOISTURIZER, 6.7 OZ.</td>\n",
       "      <td>34.0</td>\n",
       "      <td>cool water woman body moisturizer, 6.7 oz.</td>\n",
       "    </tr>\n",
       "    <tr>\n",
       "      <th>2276</th>\n",
       "      <td>FIESTA 19-OZ. MEDIUM BOWL</td>\n",
       "      <td>14.0</td>\n",
       "      <td>fiesta 19-oz. medium bowl</td>\n",
       "    </tr>\n",
       "    <tr>\n",
       "      <th>2280</th>\n",
       "      <td>FIESTA 13\" OVAL PLATTER</td>\n",
       "      <td>38.0</td>\n",
       "      <td>fiesta 13\" oval platter</td>\n",
       "    </tr>\n",
       "  </tbody>\n",
       "</table>\n",
       "</div>"
      ],
      "text/plain": [
       "                                             prod_name  price_retail  \\\n",
       "product_id                                                             \n",
       "2187        COOL WATER WOMAN BODY MOISTURIZER, 6.7 OZ.          34.0   \n",
       "2276                         FIESTA 19-OZ. MEDIUM BOWL          14.0   \n",
       "2280                           FIESTA 13\" OVAL PLATTER          38.0   \n",
       "\n",
       "                                           names_lower  \n",
       "product_id                                              \n",
       "2187        cool water woman body moisturizer, 6.7 oz.  \n",
       "2276                         fiesta 19-oz. medium bowl  \n",
       "2280                           fiesta 13\" oval platter  "
      ]
     },
     "execution_count": 156,
     "metadata": {},
     "output_type": "execute_result"
    }
   ],
   "source": [
    "gwp_n.head(3)"
   ]
  },
  {
   "cell_type": "code",
   "execution_count": 176,
   "metadata": {},
   "outputs": [
    {
     "data": {
      "text/plain": [
       "True"
      ]
     },
     "execution_count": 176,
     "metadata": {},
     "output_type": "execute_result"
    }
   ],
   "source": [
    "'6555405' in all_gwp"
   ]
  },
  {
   "cell_type": "code",
   "execution_count": 187,
   "metadata": {},
   "outputs": [],
   "source": [
    "top_conversion_n = [str(x) for x in topconversion.index.values if x not in all_gwp]"
   ]
  },
  {
   "cell_type": "code",
   "execution_count": 177,
   "metadata": {},
   "outputs": [],
   "source": [
    "# for x in [6555405, 6314681, 7807902, 5797187, 7693208, 8226305, 7787221, 6851321, 6788984, 6245587]:\n",
    "#     print(prods.loc[str(x),'names_lower'])"
   ]
  },
  {
   "cell_type": "code",
   "execution_count": 197,
   "metadata": {},
   "outputs": [
    {
     "data": {
      "text/plain": [
       "Index(['75389', '6850', '16241'], dtype='object', name='product_id')"
      ]
     },
     "execution_count": 197,
     "metadata": {},
     "output_type": "execute_result"
    }
   ],
   "source": [
    "attr.index[:3]"
   ]
  },
  {
   "cell_type": "code",
   "execution_count": 213,
   "metadata": {},
   "outputs": [
    {
     "name": "stderr",
     "output_type": "stream",
     "text": [
      "/opt/conda/lib/python3.6/site-packages/pandas/core/indexing.py:1494: FutureWarning: \n",
      "Passing list-likes to .loc or [] with any missing label will raise\n",
      "KeyError in the future, you can use .reindex() as an alternative.\n",
      "\n",
      "See the documentation here:\n",
      "https://pandas.pydata.org/pandas-docs/stable/indexing.html#deprecate-loc-reindex-listlike\n",
      "  return self._getitem_tuple(key)\n"
     ]
    },
    {
     "data": {
      "text/html": [
       "<div>\n",
       "<style scoped>\n",
       "    .dataframe tbody tr th:only-of-type {\n",
       "        vertical-align: middle;\n",
       "    }\n",
       "\n",
       "    .dataframe tbody tr th {\n",
       "        vertical-align: top;\n",
       "    }\n",
       "\n",
       "    .dataframe thead th {\n",
       "        text-align: right;\n",
       "    }\n",
       "</style>\n",
       "<table border=\"1\" class=\"dataframe\">\n",
       "  <thead>\n",
       "    <tr style=\"text-align: right;\">\n",
       "      <th></th>\n",
       "      <th>prod_name</th>\n",
       "      <th>today_retail_price</th>\n",
       "      <th>product_long_description</th>\n",
       "      <th>site_product_type</th>\n",
       "    </tr>\n",
       "    <tr>\n",
       "      <th>product_id</th>\n",
       "      <th></th>\n",
       "      <th></th>\n",
       "      <th></th>\n",
       "      <th></th>\n",
       "    </tr>\n",
       "  </thead>\n",
       "  <tbody>\n",
       "    <tr>\n",
       "      <th>7135725</th>\n",
       "      <td>The Art of Shaving Lavender Pre-Shave Oil, 1 f...</td>\n",
       "      <td>16.0</td>\n",
       "      <td>Lavender Pre-Shave Oil softens the beard and p...</td>\n",
       "      <td>SKIN_CARE</td>\n",
       "    </tr>\n",
       "    <tr>\n",
       "      <th>1725859</th>\n",
       "      <td>Team Golf Chicago Bears Golf Towel</td>\n",
       "      <td>16.99</td>\n",
       "      <td>Hit the links with your favorite team when you...</td>\n",
       "      <td>ACCESSORIES</td>\n",
       "    </tr>\n",
       "    <tr>\n",
       "      <th>6245587</th>\n",
       "      <td>Origins Ginger Souffle Whipped Body Cream, 8.5...</td>\n",
       "      <td>22.0</td>\n",
       "      <td>The gift every body loves: Sensuous Ginger Sou...</td>\n",
       "      <td>BODY_CARE</td>\n",
       "    </tr>\n",
       "    <tr>\n",
       "      <th>2379781</th>\n",
       "      <td>Fiesta 7.25\" Cobalt Salad Plate</td>\n",
       "      <td>15.0</td>\n",
       "      <td>Perhaps the name \"Fiesta\" was chosen in 1936 b...</td>\n",
       "      <td>CASUAL_DINNERWARE</td>\n",
       "    </tr>\n",
       "    <tr>\n",
       "      <th>6337118</th>\n",
       "      <td>Rod Desyne Bud 13/16\" Curtain Rod 48\"-84\"</td>\n",
       "      <td>92.0</td>\n",
       "      <td>The perfect choice for adding style to your wi...</td>\n",
       "      <td>WINDOW_HARDWARE</td>\n",
       "    </tr>\n",
       "    <tr>\n",
       "      <th>6873111</th>\n",
       "      <td>Xbox 1 Pro Evolution Soccer 2019</td>\n",
       "      <td>59.99</td>\n",
       "      <td>Player individuality taken to the next level, ...</td>\n",
       "      <td>ELECTRONICS</td>\n",
       "    </tr>\n",
       "    <tr>\n",
       "      <th>6664085</th>\n",
       "      <td>NaN</td>\n",
       "      <td>NaN</td>\n",
       "      <td>NaN</td>\n",
       "      <td>NaN</td>\n",
       "    </tr>\n",
       "    <tr>\n",
       "      <th>2379819</th>\n",
       "      <td>Fiesta 7.25\" Lemongrass Salad Plate</td>\n",
       "      <td>15.0</td>\n",
       "      <td>Perhaps the name \"Fiesta\" was chosen in 1936 b...</td>\n",
       "      <td>CASUAL_DINNERWARE</td>\n",
       "    </tr>\n",
       "    <tr>\n",
       "      <th>574217</th>\n",
       "      <td>The Bon Marche T Shirt</td>\n",
       "      <td>26.0</td>\n",
       "      <td>Affectionately called \"The Bon\" by loyal custo...</td>\n",
       "      <td>T-SHIRT</td>\n",
       "    </tr>\n",
       "    <tr>\n",
       "      <th>23937</th>\n",
       "      <td>Wedgwood Dinnerware, Nantucket Basket Covered ...</td>\n",
       "      <td>93.75</td>\n",
       "      <td>Nantucket Basket is a fine, all-white Wedgwood...</td>\n",
       "      <td>SERVEWARE</td>\n",
       "    </tr>\n",
       "    <tr>\n",
       "      <th>2379786</th>\n",
       "      <td>Fiesta 7.25\" Sunflower Salad Plate</td>\n",
       "      <td>15.0</td>\n",
       "      <td>Perhaps the name \"Fiesta\" was chosen in 1936 b...</td>\n",
       "      <td>CASUAL_DINNERWARE</td>\n",
       "    </tr>\n",
       "    <tr>\n",
       "      <th>7479716</th>\n",
       "      <td>Unicorn Moods Giant Message Board</td>\n",
       "      <td>70.0</td>\n",
       "      <td>Add a playful touch of magic to walls with thi...</td>\n",
       "      <td>ART</td>\n",
       "    </tr>\n",
       "    <tr>\n",
       "      <th>2601392</th>\n",
       "      <td>Rod Desyne Magnolia Single Curtain Rod 28'' - ...</td>\n",
       "      <td>95.0</td>\n",
       "      <td>Let your contemporary window décor blossom wit...</td>\n",
       "      <td>WINDOW_HARDWARE</td>\n",
       "    </tr>\n",
       "    <tr>\n",
       "      <th>2050665</th>\n",
       "      <td>Waterford Lismore Diamond Lapis Dinner Plate</td>\n",
       "      <td>41.0</td>\n",
       "      <td>The gold and purple hues of Waterford's Lismor...</td>\n",
       "      <td>CHINA</td>\n",
       "    </tr>\n",
       "    <tr>\n",
       "      <th>7368406</th>\n",
       "      <td>New Era Pittsburgh Steelers Salute To Service ...</td>\n",
       "      <td>20.0</td>\n",
       "      <td>Show support for your favorite team and your c...</td>\n",
       "      <td>HAT</td>\n",
       "    </tr>\n",
       "    <tr>\n",
       "      <th>2371145</th>\n",
       "      <td>Fiesta Poppy 9\" Luncheon Plate</td>\n",
       "      <td>18.0</td>\n",
       "      <td>An American classic with definitive Deco flair...</td>\n",
       "      <td>CASUAL_DINNERWARE</td>\n",
       "    </tr>\n",
       "    <tr>\n",
       "      <th>6943007</th>\n",
       "      <td>Nike Men's Iowa State Cyclones Legend Staff Si...</td>\n",
       "      <td>18.0</td>\n",
       "      <td>The Nike NCAA Men's Legend Staff Sideline T-sh...</td>\n",
       "      <td>TOP</td>\n",
       "    </tr>\n",
       "    <tr>\n",
       "      <th>4631908</th>\n",
       "      <td>Fiesta Daffodil 9\" Luncheon Plate</td>\n",
       "      <td>18.0</td>\n",
       "      <td>An irresistible cheery yellow combines in a De...</td>\n",
       "      <td>CASUAL_DINNERWARE</td>\n",
       "    </tr>\n",
       "    <tr>\n",
       "      <th>6431544</th>\n",
       "      <td>Department 56 Village Figure Who-Ville Christm...</td>\n",
       "      <td>NULL</td>\n",
       "      <td>Put the finishing touches on the Who-Ville Chr...</td>\n",
       "      <td>VILLAGES</td>\n",
       "    </tr>\n",
       "    <tr>\n",
       "      <th>2380027</th>\n",
       "      <td>Fiesta 7.25\" Poppy Salad Plate</td>\n",
       "      <td>15.0</td>\n",
       "      <td>Perhaps the name \"Fiesta\" was chosen in 1936 b...</td>\n",
       "      <td>CASUAL_DINNERWARE</td>\n",
       "    </tr>\n",
       "  </tbody>\n",
       "</table>\n",
       "</div>"
      ],
      "text/plain": [
       "                                                    prod_name  \\\n",
       "product_id                                                      \n",
       "7135725     The Art of Shaving Lavender Pre-Shave Oil, 1 f...   \n",
       "1725859                    Team Golf Chicago Bears Golf Towel   \n",
       "6245587     Origins Ginger Souffle Whipped Body Cream, 8.5...   \n",
       "2379781                       Fiesta 7.25\" Cobalt Salad Plate   \n",
       "6337118             Rod Desyne Bud 13/16\" Curtain Rod 48\"-84\"   \n",
       "6873111                      Xbox 1 Pro Evolution Soccer 2019   \n",
       "6664085                                                   NaN   \n",
       "2379819                   Fiesta 7.25\" Lemongrass Salad Plate   \n",
       "574217                                 The Bon Marche T Shirt   \n",
       "23937       Wedgwood Dinnerware, Nantucket Basket Covered ...   \n",
       "2379786                    Fiesta 7.25\" Sunflower Salad Plate   \n",
       "7479716                     Unicorn Moods Giant Message Board   \n",
       "2601392     Rod Desyne Magnolia Single Curtain Rod 28'' - ...   \n",
       "2050665          Waterford Lismore Diamond Lapis Dinner Plate   \n",
       "7368406     New Era Pittsburgh Steelers Salute To Service ...   \n",
       "2371145                        Fiesta Poppy 9\" Luncheon Plate   \n",
       "6943007     Nike Men's Iowa State Cyclones Legend Staff Si...   \n",
       "4631908                     Fiesta Daffodil 9\" Luncheon Plate   \n",
       "6431544     Department 56 Village Figure Who-Ville Christm...   \n",
       "2380027                        Fiesta 7.25\" Poppy Salad Plate   \n",
       "\n",
       "           today_retail_price  \\\n",
       "product_id                      \n",
       "7135725                  16.0   \n",
       "1725859                 16.99   \n",
       "6245587                  22.0   \n",
       "2379781                  15.0   \n",
       "6337118                  92.0   \n",
       "6873111                 59.99   \n",
       "6664085                   NaN   \n",
       "2379819                  15.0   \n",
       "574217                   26.0   \n",
       "23937                   93.75   \n",
       "2379786                  15.0   \n",
       "7479716                  70.0   \n",
       "2601392                  95.0   \n",
       "2050665                  41.0   \n",
       "7368406                  20.0   \n",
       "2371145                  18.0   \n",
       "6943007                  18.0   \n",
       "4631908                  18.0   \n",
       "6431544                  NULL   \n",
       "2380027                  15.0   \n",
       "\n",
       "                                     product_long_description  \\\n",
       "product_id                                                      \n",
       "7135725     Lavender Pre-Shave Oil softens the beard and p...   \n",
       "1725859     Hit the links with your favorite team when you...   \n",
       "6245587     The gift every body loves: Sensuous Ginger Sou...   \n",
       "2379781     Perhaps the name \"Fiesta\" was chosen in 1936 b...   \n",
       "6337118     The perfect choice for adding style to your wi...   \n",
       "6873111     Player individuality taken to the next level, ...   \n",
       "6664085                                                   NaN   \n",
       "2379819     Perhaps the name \"Fiesta\" was chosen in 1936 b...   \n",
       "574217      Affectionately called \"The Bon\" by loyal custo...   \n",
       "23937       Nantucket Basket is a fine, all-white Wedgwood...   \n",
       "2379786     Perhaps the name \"Fiesta\" was chosen in 1936 b...   \n",
       "7479716     Add a playful touch of magic to walls with thi...   \n",
       "2601392     Let your contemporary window décor blossom wit...   \n",
       "2050665     The gold and purple hues of Waterford's Lismor...   \n",
       "7368406     Show support for your favorite team and your c...   \n",
       "2371145     An American classic with definitive Deco flair...   \n",
       "6943007     The Nike NCAA Men's Legend Staff Sideline T-sh...   \n",
       "4631908     An irresistible cheery yellow combines in a De...   \n",
       "6431544     Put the finishing touches on the Who-Ville Chr...   \n",
       "2380027     Perhaps the name \"Fiesta\" was chosen in 1936 b...   \n",
       "\n",
       "            site_product_type  \n",
       "product_id                     \n",
       "7135725             SKIN_CARE  \n",
       "1725859           ACCESSORIES  \n",
       "6245587             BODY_CARE  \n",
       "2379781     CASUAL_DINNERWARE  \n",
       "6337118       WINDOW_HARDWARE  \n",
       "6873111           ELECTRONICS  \n",
       "6664085                   NaN  \n",
       "2379819     CASUAL_DINNERWARE  \n",
       "574217                T-SHIRT  \n",
       "23937               SERVEWARE  \n",
       "2379786     CASUAL_DINNERWARE  \n",
       "7479716                   ART  \n",
       "2601392       WINDOW_HARDWARE  \n",
       "2050665                 CHINA  \n",
       "7368406                   HAT  \n",
       "2371145     CASUAL_DINNERWARE  \n",
       "6943007                   TOP  \n",
       "4631908     CASUAL_DINNERWARE  \n",
       "6431544              VILLAGES  \n",
       "2380027     CASUAL_DINNERWARE  "
      ]
     },
     "execution_count": 213,
     "metadata": {},
     "output_type": "execute_result"
    }
   ],
   "source": [
    "attr.loc[top_conversion_n[:20],['prod_name','today_retail_price','product_long_description','site_product_type']]"
   ]
  },
  {
   "cell_type": "code",
   "execution_count": 217,
   "metadata": {},
   "outputs": [
    {
     "name": "stderr",
     "output_type": "stream",
     "text": [
      "/opt/conda/lib/python3.6/site-packages/pandas/core/indexing.py:1494: FutureWarning: \n",
      "Passing list-likes to .loc or [] with any missing label will raise\n",
      "KeyError in the future, you can use .reindex() as an alternative.\n",
      "\n",
      "See the documentation here:\n",
      "https://pandas.pydata.org/pandas-docs/stable/indexing.html#deprecate-loc-reindex-listlike\n",
      "  return self._getitem_tuple(key)\n"
     ]
    },
    {
     "data": {
      "text/plain": [
       "CASUAL_DINNERWARE    145\n",
       "SERVEWARE             99\n",
       "TOP                   84\n",
       "HAT                   70\n",
       "MAKEUP                47\n",
       "SKIN_CARE             44\n",
       "WINDOW_HARDWARE       39\n",
       "TOWEL                 37\n",
       "PILLOW                31\n",
       "BATH_ACCESSORY        29\n",
       "Name: site_product_type, dtype: int64"
      ]
     },
     "execution_count": 217,
     "metadata": {},
     "output_type": "execute_result"
    }
   ],
   "source": [
    "stp1k_top = attr.loc[top_conversion_n[:1000],['site_product_type']]\n",
    "stp1k_top['site_product_type'].value_counts()[:10]"
   ]
  },
  {
   "cell_type": "code",
   "execution_count": 218,
   "metadata": {},
   "outputs": [
    {
     "name": "stderr",
     "output_type": "stream",
     "text": [
      "/opt/conda/lib/python3.6/site-packages/pandas/core/indexing.py:1494: FutureWarning: \n",
      "Passing list-likes to .loc or [] with any missing label will raise\n",
      "KeyError in the future, you can use .reindex() as an alternative.\n",
      "\n",
      "See the documentation here:\n",
      "https://pandas.pydata.org/pandas-docs/stable/indexing.html#deprecate-loc-reindex-listlike\n",
      "  return self._getitem_tuple(key)\n"
     ]
    },
    {
     "data": {
      "text/plain": [
       "FURNITURE              157\n",
       "AREA_RUG                61\n",
       "LAMP                    56\n",
       "RING                    38\n",
       "TOP                     37\n",
       "WATCH                   33\n",
       "ART                     31\n",
       "SHOE                    27\n",
       "DRESS                   25\n",
       "CURTAINS_AND_DRAPES     19\n",
       "Name: site_product_type, dtype: int64"
      ]
     },
     "execution_count": 218,
     "metadata": {},
     "output_type": "execute_result"
    }
   ],
   "source": [
    "stp1k_bot = attr.loc[top_conversion_n[-1000:],['site_product_type']]\n",
    "stp1k_bot['site_product_type'].value_counts()[:10]"
   ]
  },
  {
   "cell_type": "code",
   "execution_count": 221,
   "metadata": {},
   "outputs": [
    {
     "data": {
      "text/html": [
       "\n",
       "      <style>\n",
       "      .recom {float: left;\n",
       "              margin: 3px;\n",
       "              text-align: center;}\n",
       "      \n",
       "      .recom_red {float: left;\n",
       "                  margin: 3px;\n",
       "                  text-align: center;\n",
       "                  border: 1px solid #FF0000;}\n",
       "      \n",
       "      .recom_green {float: left;\n",
       "                  margin: 3px;\n",
       "                  text-align: center;\n",
       "                  border: 1px solid #00FF00;}\n",
       "      .recom_blue {float: left;\n",
       "                  margin: 3px;\n",
       "                  text-align: center;\n",
       "                  border: 1px solid #0000FF;}\n",
       "      .description {font-size: 11px}\n",
       "      .price {font-size: 11px}\n",
       "      </style>\n",
       "      <div class=\"recom\"><img src=\"../../../../_product_images_cache/7/1/7135725.jpg\" width=\"75\">\n",
       "                   <br/ >\n",
       "                   <span class=\"description\">$16.0 (7135725)</span> <br />\n",
       "                   <span class=\"description\">The Art of...</span> <br /></div><div class=\"recom\"><img src=\"../../../../_product_images_cache/1/7/1725859.jpg\" width=\"75\">\n",
       "                   <br/ >\n",
       "                   <span class=\"description\">$7.99 (1725859)</span> <br />\n",
       "                   <span class=\"description\">TEAM GOLF ...</span> <br /></div><div class=\"recom\"><img src=\"../../../../_product_images_cache/6/2/6245587.jpg\" width=\"75\">\n",
       "                   <br/ >\n",
       "                   <span class=\"description\">$22.0 (6245587)</span> <br />\n",
       "                   <span class=\"description\">Origins Gi...</span> <br /></div><div class=\"recom\"><img src=\"../../../../_product_images_cache/2/3/2379781.jpg\" width=\"75\">\n",
       "                   <br/ >\n",
       "                   <span class=\"description\">$14.0 (2379781)</span> <br />\n",
       "                   <span class=\"description\">FIESTA 7.2...</span> <br /></div><div class=\"recom\"><img src=\"../../../../_product_images_cache/6/3/6337118.jpg\" width=\"75\">\n",
       "                   <br/ >\n",
       "                   <span class=\"description\">$92.0 (6337118)</span> <br />\n",
       "                   <span class=\"description\">Rod Desyne...</span> <br /></div><div class=\"recom\"><img src=\"../../../../_product_images_cache/6/8/6873111.jpg\" width=\"75\">\n",
       "                   <br/ >\n",
       "                   <span class=\"description\">$59.99 (6873111)</span> <br />\n",
       "                   <span class=\"description\">Xbox 1 Pro...</span> <br /></div><div class=\"recom\"><img src=\"../../../../_product_images_cache/6/6/6664085.jpg\" width=\"75\">\n",
       "                   <br/ >\n",
       "                   <span class=\"description\">$40.0 (6664085)</span> <br />\n",
       "                   <span class=\"description\">Elrene Ele...</span> <br /></div><div class=\"recom\"><img src=\"../../../../_product_images_cache/2/3/2379819.jpg\" width=\"75\">\n",
       "                   <br/ >\n",
       "                   <span class=\"description\">$14.0 (2379819)</span> <br />\n",
       "                   <span class=\"description\">FIESTA 7.2...</span> <br /></div><div class=\"recom\"><img src=\"../../../../_product_images_cache/5/7/574217.jpg\" width=\"75\">\n",
       "                   <br/ >\n",
       "                   <span class=\"description\">$24.0 (574217)</span> <br />\n",
       "                   <span class=\"description\">THE BON MA...</span> <br /></div><div class=\"recom\"><img src=\"../../../../_product_images_cache/2/3/23937.jpg\" width=\"75\">\n",
       "                   <br/ >\n",
       "                   <span class=\"description\">$93.75 (23937)</span> <br />\n",
       "                   <span class=\"description\">WEDGWOOD D...</span> <br /></div>"
      ]
     },
     "metadata": {},
     "output_type": "display_data"
    }
   ],
   "source": [
    "viz.display_recom_panel(top_conversion_n[:10])"
   ]
  },
  {
   "cell_type": "code",
   "execution_count": 224,
   "metadata": {},
   "outputs": [
    {
     "data": {
      "text/html": [
       "\n",
       "      <style>\n",
       "      .recom {float: left;\n",
       "              margin: 3px;\n",
       "              text-align: center;}\n",
       "      \n",
       "      .recom_red {float: left;\n",
       "                  margin: 3px;\n",
       "                  text-align: center;\n",
       "                  border: 1px solid #FF0000;}\n",
       "      \n",
       "      .recom_green {float: left;\n",
       "                  margin: 3px;\n",
       "                  text-align: center;\n",
       "                  border: 1px solid #00FF00;}\n",
       "      .recom_blue {float: left;\n",
       "                  margin: 3px;\n",
       "                  text-align: center;\n",
       "                  border: 1px solid #0000FF;}\n",
       "      .description {font-size: 11px}\n",
       "      .price {font-size: 11px}\n",
       "      </style>\n",
       "      <div class=\"recom\"><img src=\"../../../../_product_images_cache/6/1/6143524.jpg\" width=\"75\">\n",
       "                   <br/ >\n",
       "                   <span class=\"description\">$25.0 (6143524)</span> <br />\n",
       "                   <span class=\"description\">Deny Desig...</span> <br /></div><div class=\"recom\"><img src=\"../../../../_product_images_cache/4/4/4409995.jpg\" width=\"75\">\n",
       "                   <br/ >\n",
       "                   <span class=\"description\">$106.99 (4409995)</span> <br />\n",
       "                   <span class=\"description\">LENOX FEDE...</span> <br /></div><div class=\"recom\"><img src=\"../../../../_product_images_cache/7/3/7351142.jpg\" width=\"75\">\n",
       "                   <br/ >\n",
       "                   <span class=\"description\">$44.99 (7351142)</span> <br />\n",
       "                   <span class=\"description\">The Best B...</span> <br /></div><div class=\"recom\"><img src=\"../../../../_product_images_cache/7/1/7135704.jpg\" width=\"75\">\n",
       "                   <br/ >\n",
       "                   <span class=\"description\">$18.0 (7135704)</span> <br />\n",
       "                   <span class=\"description\">The Art of...</span> <br /></div><div class=\"recom\"><img src=\"../../../../_product_images_cache/7/9/7989390.jpg\" width=\"75\">\n",
       "                   <br/ >\n",
       "                   <span class=\"description\">$70.0 (7989390)</span> <br />\n",
       "                   <span class=\"description\">Nike Steve...</span> <br /></div><div class=\"recom\"><img src=\"../../../../_product_images_cache/4/6/4651894.jpg\" width=\"75\">\n",
       "                   <br/ >\n",
       "                   <span class=\"description\">$160.0 (4651894)</span> <br />\n",
       "                   <span class=\"description\">CHARISMA C...</span> <br /></div><div class=\"recom\"><img src=\"../../../../_product_images_cache/6/3/6374635.jpg\" width=\"75\">\n",
       "                   <br/ >\n",
       "                   <span class=\"description\">$28.0 (6374635)</span> <br />\n",
       "                   <span class=\"description\">Nike Phila...</span> <br /></div><div class=\"recom\"><img src=\"../../../../_product_images_cache/7/3/7367181.jpg\" width=\"75\">\n",
       "                   <br/ >\n",
       "                   <span class=\"description\">$35.0 (7367181)</span> <br />\n",
       "                   <span class=\"description\">Nike Men's...</span> <br /></div><div class=\"recom\"><img src=\"../../../../_product_images_cache/2/5/2509373.jpg\" width=\"75\">\n",
       "                   <br/ >\n",
       "                   <span class=\"description\">$12.0 (2509373)</span> <br />\n",
       "                   <span class=\"description\">FIESTA POP...</span> <br /></div><div class=\"recom\"><img src=\"../../../../_product_images_cache/2/5/2509210.jpg\" width=\"75\">\n",
       "                   <br/ >\n",
       "                   <span class=\"description\">$23.0 (2509210)</span> <br />\n",
       "                   <span class=\"description\">FIESTA SU...</span> <br /></div>"
      ]
     },
     "metadata": {},
     "output_type": "display_data"
    }
   ],
   "source": [
    "viz.display_recom_panel(top_conversion_n[150:160])"
   ]
  },
  {
   "cell_type": "code",
   "execution_count": 223,
   "metadata": {},
   "outputs": [
    {
     "data": {
      "text/html": [
       "\n",
       "      <style>\n",
       "      .recom {float: left;\n",
       "              margin: 3px;\n",
       "              text-align: center;}\n",
       "      \n",
       "      .recom_red {float: left;\n",
       "                  margin: 3px;\n",
       "                  text-align: center;\n",
       "                  border: 1px solid #FF0000;}\n",
       "      \n",
       "      .recom_green {float: left;\n",
       "                  margin: 3px;\n",
       "                  text-align: center;\n",
       "                  border: 1px solid #00FF00;}\n",
       "      .recom_blue {float: left;\n",
       "                  margin: 3px;\n",
       "                  text-align: center;\n",
       "                  border: 1px solid #0000FF;}\n",
       "      .description {font-size: 11px}\n",
       "      .price {font-size: 11px}\n",
       "      </style>\n",
       "      <div class=\"recom\"><img src=\"../../../../_product_images_cache/7/2/7223177.jpg\" width=\"75\">\n",
       "                   <br/ >\n",
       "                   <span class=\"description\">$23.0 (7223177)</span> <br />\n",
       "                   <span class=\"description\">Grania Ori...</span> <br /></div><div class=\"recom\"><img src=\"../../../../_product_images_cache/1/0/1061929.jpg\" width=\"75\">\n",
       "                   <br/ >\n",
       "                   <span class=\"description\">$299.0 (1061929)</span> <br />\n",
       "                   <span class=\"description\">ADRIANNA P...</span> <br /></div><div class=\"recom\"><img src=\"../../../../_product_images_cache/8/4/8433924.jpg\" width=\"75\">\n",
       "                   <br/ >\n",
       "                   <span class=\"description\">$2089.0 (8433924)</span> <br />\n",
       "                   <span class=\"description\">MacyBed 12...</span> <br /></div><div class=\"recom\"><img src=\"../../../../_product_images_cache/7/0/7074997.jpg\" width=\"75\">\n",
       "                   <br/ >\n",
       "                   <span class=\"description\">$3840.0 (7074997)</span> <br />\n",
       "                   <span class=\"description\">Sapphire (...</span> <br /></div><div class=\"recom\"><img src=\"../../../../_product_images_cache/3/2/328268.jpg\" width=\"75\">\n",
       "                   <br/ >\n",
       "                   <span class=\"description\">$170.0 (328268)</span> <br />\n",
       "                   <span class=\"description\">SURE FIT S...</span> <br /></div><div class=\"recom\"><img src=\"../../../../_product_images_cache/7/6/7651230.jpg\" width=\"75\">\n",
       "                   <br/ >\n",
       "                   <span class=\"description\">$300.0 (7651230)</span> <br />\n",
       "                   <span class=\"description\">Mitchell &...</span> <br /></div><div class=\"recom\"><img src=\"../../../../_product_images_cache/4/8/4848991.jpg\" width=\"75\">\n",
       "                   <br/ >\n",
       "                   <span class=\"description\">$25.0 (4848991)</span> <br />\n",
       "                   <span class=\"description\">Under Armo...</span> <br /></div><div class=\"recom\"><img src=\"../../../../_product_images_cache/7/0/7052959.jpg\" width=\"75\">\n",
       "                   <br/ >\n",
       "                   <span class=\"description\">$150.0 (7052959)</span> <br />\n",
       "                   <span class=\"description\">Mitchell &...</span> <br /></div><div class=\"recom\"><img src=\"../../../../_product_images_cache/4/8/4845470.jpg\" width=\"75\">\n",
       "                   <br/ >\n",
       "                   <span class=\"description\">$469.0 (4845470)</span> <br />\n",
       "                   <span class=\"description\">LAYLA KING...</span> <br /></div><div class=\"recom\"><img src=\"../../../../_product_images_cache/5/3/5391016.jpg\" width=\"75\">\n",
       "                   <br/ >\n",
       "                   <span class=\"description\">$? (5391016)</span> <br />\n",
       "                   <span class=\"description\">?...</span> <br /></div>"
      ]
     },
     "metadata": {},
     "output_type": "display_data"
    }
   ],
   "source": [
    "viz.display_recom_panel([str(x) for x in topconversion.index.values[-10:]])"
   ]
  },
  {
   "cell_type": "code",
   "execution_count": 238,
   "metadata": {},
   "outputs": [
    {
     "data": {
      "text/html": [
       "\n",
       "      <style>\n",
       "      .recom {float: left;\n",
       "              margin: 3px;\n",
       "              text-align: center;}\n",
       "      \n",
       "      .recom_red {float: left;\n",
       "                  margin: 3px;\n",
       "                  text-align: center;\n",
       "                  border: 1px solid #FF0000;}\n",
       "      \n",
       "      .recom_green {float: left;\n",
       "                  margin: 3px;\n",
       "                  text-align: center;\n",
       "                  border: 1px solid #00FF00;}\n",
       "      .recom_blue {float: left;\n",
       "                  margin: 3px;\n",
       "                  text-align: center;\n",
       "                  border: 1px solid #0000FF;}\n",
       "      .description {font-size: 11px}\n",
       "      .price {font-size: 11px}\n",
       "      </style>\n",
       "      <div class=\"recom\"><img src=\"../../../../_product_images_cache/5/2/5247688.jpg\" width=\"75\">\n",
       "                   <br/ >\n",
       "                   <span class=\"description\">$519.99 (5247688)</span> <br />\n",
       "                   <span class=\"description\">Safavieh M...</span> <br /></div><div class=\"recom\"><img src=\"../../../../_product_images_cache/5/4/5413806.jpg\" width=\"75\">\n",
       "                   <br/ >\n",
       "                   <span class=\"description\">$? (5413806)</span> <br />\n",
       "                   <span class=\"description\">?...</span> <br /></div><div class=\"recom\"><img src=\"../../../../_product_images_cache/2/4/2420079.jpg\" width=\"75\">\n",
       "                   <br/ >\n",
       "                   <span class=\"description\">$49.99 (2420079)</span> <br />\n",
       "                   <span class=\"description\">SIRENA DIA...</span> <br /></div><div class=\"recom\"><img src=\"../../../../_product_images_cache/7/9/7952040.jpg\" width=\"75\">\n",
       "                   <br/ >\n",
       "                   <span class=\"description\">$3900.0 (7952040)</span> <br />\n",
       "                   <span class=\"description\">Sirena Dia...</span> <br /></div><div class=\"recom\"><img src=\"../../../../_product_images_cache/5/0/5002790.jpg\" width=\"75\">\n",
       "                   <br/ >\n",
       "                   <span class=\"description\">$nan (5002790)</span> <br />\n",
       "                   <span class=\"description\">AVANTI GAL...</span> <br /></div><div class=\"recom\"><img src=\"../../../../_product_images_cache/7/0/7044205.jpg\" width=\"75\">\n",
       "                   <br/ >\n",
       "                   <span class=\"description\">$456.0 (7044205)</span> <br />\n",
       "                   <span class=\"description\">Hyatt 4 Pi...</span> <br /></div><div class=\"recom\"><img src=\"../../../../_product_images_cache/5/2/5202176.jpg\" width=\"75\">\n",
       "                   <br/ >\n",
       "                   <span class=\"description\">$nan (5202176)</span> <br />\n",
       "                   <span class=\"description\">MI ZONE KI...</span> <br /></div><div class=\"recom\"><img src=\"../../../../_product_images_cache/7/3/7349382.jpg\" width=\"75\">\n",
       "                   <br/ >\n",
       "                   <span class=\"description\">$118.0 (7349382)</span> <br />\n",
       "                   <span class=\"description\">Amanti Art...</span> <br /></div><div class=\"recom\"><img src=\"../../../../_product_images_cache/2/6/2632034.jpg\" width=\"75\">\n",
       "                   <br/ >\n",
       "                   <span class=\"description\">$nan (2632034)</span> <br />\n",
       "                   <span class=\"description\">KATE SPADE...</span> <br /></div><div class=\"recom\"><img src=\"../../../../_product_images_cache/6/1/6162852.jpg\" width=\"75\">\n",
       "                   <br/ >\n",
       "                   <span class=\"description\">$? (6162852)</span> <br />\n",
       "                   <span class=\"description\">?...</span> <br /></div>"
      ]
     },
     "metadata": {},
     "output_type": "display_data"
    }
   ],
   "source": [
    "viz.display_recom_panel(top_conversion_n[-140:-130])"
   ]
  },
  {
   "cell_type": "code",
   "execution_count": 232,
   "metadata": {},
   "outputs": [
    {
     "data": {
      "text/plain": [
       "Index(['75389', '6850'], dtype='object', name='product_id')"
      ]
     },
     "execution_count": 232,
     "metadata": {},
     "output_type": "execute_result"
    }
   ],
   "source": [
    "attr.index[:2]"
   ]
  },
  {
   "cell_type": "code",
   "execution_count": 235,
   "metadata": {},
   "outputs": [
    {
     "data": {
      "text/plain": [
       "'Rachael Ray Cinema Round Mirror'"
      ]
     },
     "execution_count": 235,
     "metadata": {},
     "output_type": "execute_result"
    }
   ],
   "source": [
    "prods.loc['5837087','prod_name']"
   ]
  },
  {
   "cell_type": "code",
   "execution_count": 17,
   "metadata": {},
   "outputs": [
    {
     "name": "stdout",
     "output_type": "stream",
     "text": [
      "CPU times: user 4 µs, sys: 2 µs, total: 6 µs\n",
      "Wall time: 21.2 µs\n"
     ]
    }
   ],
   "source": [
    "%time\n",
    "viewatbpur, viewatb, viewpur, viewonly, atbonly, puronly, other = count_info(comb_r_v)"
   ]
  },
  {
   "cell_type": "code",
   "execution_count": 21,
   "metadata": {},
   "outputs": [
    {
     "name": "stdout",
     "output_type": "stream",
     "text": [
      "viewatbpur: 6741760   viewatb: 17871135   viewpur:  0\n",
      "viewonly: 58119237   atbonly: 3441957   puronly: 0   other: 696774\n"
     ]
    }
   ],
   "source": [
    "print(\"viewatbpur:\", viewatbpur,\"  viewatb:\", viewatb, \"  viewpur: \", viewpur)\n",
    "print(\"viewonly:\", viewonly, \"  atbonly:\", atbonly, \"  puronly:\", puronly, \"  other:\", other)"
   ]
  },
  {
   "cell_type": "code",
   "execution_count": 15,
   "metadata": {},
   "outputs": [],
   "source": [
    "# testdf = pd.DataFrame(comb_r_v)\n",
    "# testdf.head()"
   ]
  },
  {
   "cell_type": "code",
   "execution_count": 27,
   "metadata": {},
   "outputs": [
    {
     "data": {
      "text/plain": [
       "array(['atb', 'purchase'], dtype='<U8')"
      ]
     },
     "execution_count": 27,
     "metadata": {},
     "output_type": "execute_result"
    }
   ],
   "source": [
    "np.intersect1d(['view', 'atb', 'purchase'],list({'atb', 'purchase'}))"
   ]
  },
  {
   "cell_type": "code",
   "execution_count": null,
   "metadata": {},
   "outputs": [],
   "source": [
    "inspect_others = [x for x in comb_r_v if len(np.intersect1d(list(x.keys()),['view', 'atb', 'purchase'])) < 1]"
   ]
  },
  {
   "cell_type": "code",
   "execution_count": null,
   "metadata": {},
   "outputs": [],
   "source": [
    "inspect_others[:10]"
   ]
  },
  {
   "cell_type": "markdown",
   "metadata": {},
   "source": [
    "### Panel ClickAge"
   ]
  },
  {
   "cell_type": "code",
   "execution_count": 245,
   "metadata": {},
   "outputs": [],
   "source": [
    "panel1 = pd.read_csv('prod_view_20190625_20190725.csv',delimiter='\\t',nrows=1000)"
   ]
  },
  {
   "cell_type": "code",
   "execution_count": 246,
   "metadata": {},
   "outputs": [],
   "source": [
    "pva_1 = panel1[['time_stamp','product_id','product_view_attribute_1']].dropna()"
   ]
  },
  {
   "cell_type": "code",
   "execution_count": 250,
   "metadata": {},
   "outputs": [
    {
     "data": {
      "text/plain": [
       "array(['POS4 | M05MDU | CD4E0B6B-F202-4BF3-A147-91C0A44C2D28 | H7 | 120',\n",
       "       'POS5 | M05MAS | 17C18FFB-B138-4FA3-A3DF-79F2AD1F7D50 | H7 | 255',\n",
       "       'POS1 | M05MDU | 2B679D4B-9689-42AE-9DDF-673E0BC34DF5 | H7 | 55607',\n",
       "       'POS10 | M11MDU | 32B9023E-CA3C-41C8-85FB-F48D993B5E52 | H7 | 17570',\n",
       "       'POS1 | 3710',\n",
       "       'POS6 | M11MDU | D8CCD2BF-84D6-418C-9AEB-8FAB2CD76F48 | H7 | 23930',\n",
       "       'POS2 | M11MDU | AF7BD4AD-A781-4455-BFE6-AA063CFBB6E5 | H7 | 23930',\n",
       "       'POS7 | M11MDU | 80530DE0-99E4-4A78-B8C8-5E9D61B8F6C2 | H7 | 23930',\n",
       "       'POS2 | M11MDU | AF7BD4AD-A781-4455-BFE6-AA063CFBB6E5 | H7 | 23930',\n",
       "       'POS3 | M05MDU | 5F824DB4-91E7-4368-B1BB-1A8A2B70A511 | H7 | 7502',\n",
       "       'POS5 | M11MDU | D3B71565-F2D1-4107-856D-D0414D100326 | H7 | 5449',\n",
       "       'POS3 | 1724',\n",
       "       'POS4 | M06MAU | 86B8FD66-D991-41B1-9B6D-7C77DE7E6348 | H8 | 26846',\n",
       "       'POS5 | M06MJF | D0401811-EA53-4408-AD9C-9B5658586CE9 | H8 | 255',\n",
       "       'POS3 | 5987',\n",
       "       'POS6 | M07MIV | EA342740-4BE9-4F88-A745-AD3B0F335857 | H50 | 118',\n",
       "       'POS3 | M05MIC | FF1CE500-FD9F-49B8-83D5-2A678D4CB124 | H7 | 255',\n",
       "       'POS13 | M05MIC | 8EDC8DB9-D4C4-4A50-9C7D-66F93B0762B4 | H7 | 255',\n",
       "       'POS14 | MB9MGT | 8C447196-E9E6-425D-BFB3-07BE510ECAD7 | H98 | 5449',\n",
       "       'POS14 | MB9MGT | 8C447196-E9E6-425D-BFB3-07BE510ECAD7 | H98 | 5449',\n",
       "       'POS2 | M06MIU | 068FA90C-8E78-4F17-8208-1A5102E8010A | H8 | 5449',\n",
       "       'POS2 | M05MDR | 205A19DA-4C6A-4E4F-921C-4F5D97D27748 | H7 | 5449',\n",
       "       'POS3 | M04MEH | 53FBFA01-E76D-435D-B0EB-54DC5E77E329 | H71 | 5449',\n",
       "       'POS2 | M53MJG | EC66D86C-C221-465D-9AC3-EB5DD326B4AC | H8 | 29391',\n",
       "       'POS2 | M11MDU | 434AB007-81DB-435C-81DA-CD68555EBA48 | H7 | 63268',\n",
       "       'POS3 | M36MEC | E41FE9BD-4A27-4412-AB20-5AABFA915C1F | H50 | 26481',\n",
       "       'POS3 | M06MAU | FA895797-6F57-48CE-9053-D32E85D1087C | H8 | 7919',\n",
       "       'POS1 | 8332',\n",
       "       'POS2 | M06MAU | A3A88CA4-7983-4D51-A1A0-15F0E6125110 | H8 | 7919',\n",
       "       'POS5 | M06MAU | FEEAE83E-A3B9-4D3C-9218-54014180D426 | H8 | 7919',\n",
       "       'POS1 | M05MDU | 42397C1F-5549-4C6C-8813-5138181F1A15 | H7 | 30078',\n",
       "       'POS2 | M05MDU | 3458655A-2E49-4222-AA78-EB134CB06E7A | H7 | 30078',\n",
       "       'POS1 | M06MAU | 3A541AE5-7D65-438E-ADE4-AF972569B596 | H8 | 30078',\n",
       "       'POS11 | M59MEX | AC771465-2465-4B0A-9095-E1A715B75921 | 29391',\n",
       "       'POS9 | 4456',\n",
       "       'POS3 | M05MDU | 4B9AF2B8-E214-4D84-AB9D-4F129059E5CB | H7 | 18109',\n",
       "       'POS5 | M05MAS | 96E62EA1-3263-46CE-B2C3-72B5077B1DC3 | H7 | 18109',\n",
       "       'POS9 | 4456',\n",
       "       'POS5 | M05MAS | 96E62EA1-3263-46CE-B2C3-72B5077B1DC3 | H7 | 18109',\n",
       "       'POS4 | M53MAR | B23DFEB2-AE64-45A0-93C6-999E4B1B8835 | H8 | 22672',\n",
       "       'POS2 | M05MDU | ED6F3340-C18D-4574-9CD0-E6F4AA703C2D | H7 | 255',\n",
       "       'POS3 | M06MAU | 3F112D53-64A1-4F17-90EB-BBC7113AEC22 | H8 | 26795',\n",
       "       'POS2 | 1485',\n",
       "       'POS6 | M06MAU | 24F0A106-6B61-4C39-B015-1CAE837B9067 | H8 | 26795',\n",
       "       'POS1 | 3259', 'POS1 | 3259',\n",
       "       'POS3 | M04MEH | 583418E7-157C-493F-8ABF-056D403E4528 | H71 | 255',\n",
       "       'POS1 | M07MER | 219E5345-3A13-42E7-8B23-D1F848C77759 | H50 | 255',\n",
       "       'POS4 | 3882', 'POS4 | 3882', 'POS2 | 7190',\n",
       "       'POS3 | M05MDU | A15ABC65-1CF4-4D3C-81B7-BEF9F3E6C928 | H7 | 17043',\n",
       "       'POS14 | M04MEH | DC87DD24-A286-46DB-B651-7736A2E8A2B6 | H71 | 34048',\n",
       "       'POS2 | M05MDU | 08BA617D-C908-452B-B21B-A1B50CF096FE | H7 | 17043',\n",
       "       'POS11 | M04MEH | 325D6E06-017A-4796-9296-0F63C164F558 | H71 | 55596',\n",
       "       'POS1 | M04MEH | 325D6E06-017A-4796-9296-0F63C164F558 | H71 | 260',\n",
       "       'POS1 | M05MDU | 3DFC1A40-AFAA-4497-857F-415F66E9685C | H7 | 37038',\n",
       "       'POS1 | M05MDU | 9F4B28A9-5304-41C6-8C03-247FF5497049 | H7 | 260',\n",
       "       'POS15 | M04MEH | 325D6E06-017A-4796-9296-0F63C164F558 | H71 | 55596',\n",
       "       'POS13 | M04MEH | 325D6E06-017A-4796-9296-0F63C164F558 | H71 | 260',\n",
       "       'POS1 | M05MDU | 3DFC1A40-AFAA-4497-857F-415F66E9685C | H7 | 37038',\n",
       "       'POS5 | M06MAU | 7E7519DD-A7CA-4A00-80B1-3BD0A8535B86 | H8 | 37038',\n",
       "       'POS1 | M06MAU | C4C4C7A4-745B-4713-BFCD-AC88D81BEF7F | H8 | 37038',\n",
       "       'POS2 | M05MAS | 07E9D18A-0AD7-435F-8DF3-4A2FE93CDBEE | H7 | 26846',\n",
       "       'POS3 | M05MAS | 2CA1C8C7-F495-4E0F-874C-ACA5EF2BDD73 | H7 | 26846',\n",
       "       'POS1 | M36MEC | B15DD992-640B-437A-ACC4-66530C0177D4 | H50 | 35786',\n",
       "       'POS4 | M11MDU | FA976327-A7B9-4E29-87E6-EF74BD51F0CD | H7 | 21176',\n",
       "       'POS1 | M05MDU | 1B30C5DF-E915-435C-941D-28F63AE29A12 | H7 | 225',\n",
       "       'POS2 | M05MDU | 8C4B3ED1-74FD-407E-9F36-D8A99DA01D05 | H7 | 225',\n",
       "       'POS3 | M05MDU | BBF1CD1E-FA38-45A5-AAB1-76D656A4E90D | H7 | 225',\n",
       "       'POS1 | M05MDU | 69936D11-49B6-4C54-8D0A-9CCD7E49F689 | H7 | 29391',\n",
       "       'POS2 | M05MDU | A6814E29-1206-49FC-B9D6-40A588A68812 | H7 | 29391',\n",
       "       'POS3 | M06MAU | 4C89A579-07F9-4B46-9300-31F18AFF10FA | H8 | 29391',\n",
       "       'POS1 | M05MAS | 7024FE84-3E19-40CD-82B5-E93FF066F0F8 | H7 | 29391',\n",
       "       'POS2 | M05MAS | DA0CB12B-78AF-42EA-A1F8-A1A8A70B7D42 | H7 | 29391',\n",
       "       'PDPZ2_1',\n",
       "       'POS4 | M57MEO | EA47C01D-8502-403E-BB15-DE45B683F4C7 | H5 | 55537',\n",
       "       'POS8 | M58MAS | 670CB48E-956B-4B37-8C08-727C43DF2A92 | H5 | 255',\n",
       "       'POS1 | M05MDU | 5B881AFD-83D0-4D85-9D4D-1175B44123F4 | H7 | 16905',\n",
       "       'POS1 | M06MAU | B78FD390-25EC-4401-88A5-76C1A339C42C | H8 | 16905',\n",
       "       'POS1 | M05MDU | AB99BBA6-C727-4443-B88F-F0350ADFADAB | H7 | 10835',\n",
       "       'POS1 | M05MDU | AB99BBA6-C727-4443-B88F-F0350ADFADAB | H7 | 10835',\n",
       "       'POS3 | M06MAU | 8465E61A-BDE6-476B-85AE-0185E53025D2 | H8 | 10835',\n",
       "       'POS4 | M05MDU | 99A020E0-6AB9-4FCB-A021-002159B5D345 | H7 | 10835',\n",
       "       'POS1 | M05MDU | AB99BBA6-C727-4443-B88F-F0350ADFADAB | H7 | 10835',\n",
       "       'POS1 | M05MDU | AB99BBA6-C727-4443-B88F-F0350ADFADAB | H7 | 10835',\n",
       "       'POS1 | M07MIV | E1E1B02D-6549-4FC0-A03B-AADD7B838C0F | H50 | 10835',\n",
       "       'POS1 | M07MIV | E1E1B02D-6549-4FC0-A03B-AADD7B838C0F | H50 | 10835',\n",
       "       'POS3 | M06MAU | CF98A5D4-C915-4C58-BBDB-5A90074FF3C4 | H8 | 10835',\n",
       "       'POS9 | M38MFQ | D5CF81A3-BE29-44BC-A45A-6D0665E8E7CE | H82 | 16853',\n",
       "       'POS4 | 8822',\n",
       "       'POS1 | M05MDU | 91DA51B8-56E8-4A8F-8236-8FDA5C1A8AED | H7 | 20635',\n",
       "       'POS1 | M11MDR | 08E1A37C-7247-47FC-86D7-1BF7468BDD5C | H7 | 26846',\n",
       "       'POS6 | M11MDR | 04828720-A0F9-46B8-8C3E-D90A4DC53709 | H7 | 26846',\n",
       "       'POS3 | M11MDR | 0661C2B9-02B2-4414-869F-FD8C64D7E368 | H7 | 26846',\n",
       "       'POS3 | M11MDR | 0661C2B9-02B2-4414-869F-FD8C64D7E368 | H7 | 26846',\n",
       "       'POS8 | M58MAS | B785709E-0431-4D0F-BD25-A3F42B24FC6A | H5 | 260',\n",
       "       'POS3 | M11MDU | 885088A6-CD6C-4B60-9C0E-19004F209F72 | H7 | 63013',\n",
       "       'POS1 | M58MAS | 267E66EE-D4F2-41AC-AD56-3A116F369122 | H5 | 63013',\n",
       "       'POS1 | M58MAS | DA1E1408-2331-40CC-9C45-561B667F5A96 | H5 | 5991',\n",
       "       'POS3 | M11MDU | E230DEF3-AC79-4EB5-A7DA-BDC7536C772C | H7 | 5991',\n",
       "       'POS1 | M58MAS | 7026C724-33F9-420D-9A4C-0258DC96AFBB | H5 | 5991',\n",
       "       'POS8 | M11MDU | CEE6AA2C-301D-4270-963E-6495C68696BB | H7 | 63013',\n",
       "       'POS1 | M58MAS | 7026C724-33F9-420D-9A4C-0258DC96AFBB | H5 | 5991',\n",
       "       'POS13 | M11MDU | 01E6E83B-D583-4C7B-8215-001FC653F775 | H7 | 63013',\n",
       "       'POS1 | M58MAS | DA1E1408-2331-40CC-9C45-561B667F5A96 | H5 | 5991',\n",
       "       'POS1 | M58MAS | 7026C724-33F9-420D-9A4C-0258DC96AFBB | H5 | 5991',\n",
       "       'POS1 | M58MAS | 7026C724-33F9-420D-9A4C-0258DC96AFBB | H5 | 5991',\n",
       "       'POS1 | M58MAS | DA1E1408-2331-40CC-9C45-561B667F5A96 | H5 | 5991',\n",
       "       'POS7 | M11MDU | 5D025B02-94D0-452F-87A4-4EAABA051A46 | H7 | 169950',\n",
       "       'POS6 | M36MAJ | 26973976-321A-4FF8-B2D0-DC5B75916261 | H6 | 31839',\n",
       "       'POS14 | M58MAS | BA1CE1AB-A389-42E7-AE8B-7D53FC9A690D | H5 | 31839',\n",
       "       'POS2 | 8177',\n",
       "       'POS5 | M06MAU | 60B66188-2619-4B2F-8F58-1920AD6365E5 | H8 | 30078',\n",
       "       'POS5 | M06MAU | 60B66188-2619-4B2F-8F58-1920AD6365E5 | H8 | 30078',\n",
       "       'POS1 | M05MDU | E6098C1C-8E4A-4321-AC0D-E9087268AFF6 | H7 | 30077'],\n",
       "      dtype=object)"
      ]
     },
     "execution_count": 250,
     "metadata": {},
     "output_type": "execute_result"
    }
   ],
   "source": [
    "pva_1['product_view_attribute_1'].values"
   ]
  },
  {
   "cell_type": "code",
   "execution_count": 267,
   "metadata": {},
   "outputs": [
    {
     "data": {
      "text/plain": [
       "array(['SINGLE ITEM', 'SINGLE ITEM', 'SINGLE ITEM', 'MEMBER',\n",
       "       'SINGLE ITEM', 'MEMBER', 'SINGLE ITEM', 'SINGLE ITEM',\n",
       "       'MASTER | 7885768', 'MEMBER', 'MEMBER', 'MASTER | 7885768',\n",
       "       'MEMBER', 'MASTER | 7885768', 'MASTER | 7885768', 'SINGLE ITEM',\n",
       "       'MEMBER', 'MEMBER', 'MASTER | 6260706', 'SINGLE ITEM',\n",
       "       'SINGLE ITEM', 'SINGLE ITEM', 'SINGLE ITEM', 'SINGLE ITEM',\n",
       "       'SINGLE ITEM', 'SINGLE ITEM', 'SINGLE ITEM', 'MEMBER',\n",
       "       'SINGLE ITEM', 'SINGLE ITEM', 'SINGLE ITEM', 'SINGLE ITEM',\n",
       "       'SINGLE ITEM', 'SINGLE ITEM', 'MEMBER', 'SINGLE ITEM',\n",
       "       'SINGLE ITEM', 'SINGLE ITEM', 'MEMBER', 'SINGLE ITEM',\n",
       "       'SINGLE ITEM', 'SINGLE ITEM', 'SINGLE ITEM', 'SINGLE ITEM',\n",
       "       'SINGLE ITEM', 'SINGLE ITEM', 'SINGLE ITEM', 'SINGLE ITEM',\n",
       "       'SINGLE ITEM', 'SINGLE ITEM', 'SINGLE ITEM', 'SINGLE ITEM',\n",
       "       'SINGLE ITEM', 'SINGLE ITEM', 'SINGLE ITEM', 'SINGLE ITEM',\n",
       "       'SINGLE ITEM', 'SINGLE ITEM', 'SINGLE ITEM', 'SINGLE ITEM',\n",
       "       'SINGLE ITEM', 'SINGLE ITEM', 'SINGLE ITEM', 'SINGLE ITEM',\n",
       "       'SINGLE ITEM', 'SINGLE ITEM', 'SINGLE ITEM', 'SINGLE ITEM',\n",
       "       'SINGLE ITEM', 'SINGLE ITEM', 'SINGLE ITEM', 'SINGLE ITEM',\n",
       "       'SINGLE ITEM', 'SINGLE ITEM', 'SINGLE ITEM', 'MEMBER',\n",
       "       'SINGLE ITEM', 'SINGLE ITEM', 'SINGLE ITEM', 'SINGLE ITEM',\n",
       "       'SINGLE ITEM', 'SINGLE ITEM', 'SINGLE', 'SINGLE', nan,\n",
       "       'SINGLE ITEM', 'SINGLE ITEM', 'SINGLE ITEM', 'SINGLE ITEM',\n",
       "       'SINGLE ITEM', 'SINGLE ITEM', 'SINGLE ITEM', 'SINGLE ITEM',\n",
       "       'SINGLE ITEM', 'SINGLE ITEM', 'SINGLE ITEM', 'SINGLE ITEM',\n",
       "       'SINGLE ITEM', 'MASTER | 4454347', 'MASTER | 8666126'],\n",
       "      dtype=object)"
      ]
     },
     "execution_count": 267,
     "metadata": {},
     "output_type": "execute_result"
    }
   ],
   "source": [
    "panel1['product_view_attribute_16'].values[:100]"
   ]
  },
  {
   "cell_type": "code",
   "execution_count": null,
   "metadata": {},
   "outputs": [],
   "source": []
  }
 ],
 "metadata": {
  "kernelspec": {
   "display_name": "Python 3",
   "language": "python",
   "name": "python3"
  },
  "language_info": {
   "codemirror_mode": {
    "name": "ipython",
    "version": 3
   },
   "file_extension": ".py",
   "mimetype": "text/x-python",
   "name": "python",
   "nbconvert_exporter": "python",
   "pygments_lexer": "ipython3",
   "version": "3.6.5"
  }
 },
 "nbformat": 4,
 "nbformat_minor": 2
}
