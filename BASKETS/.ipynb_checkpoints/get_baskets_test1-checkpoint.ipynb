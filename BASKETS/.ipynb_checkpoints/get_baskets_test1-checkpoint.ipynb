{
 "cells": [
  {
   "cell_type": "code",
   "execution_count": 1,
   "metadata": {},
   "outputs": [],
   "source": [
    "%load_ext autoreload\n",
    "%autoreload 2"
   ]
  },
  {
   "cell_type": "code",
   "execution_count": 89,
   "metadata": {},
   "outputs": [
    {
     "name": "stdout",
     "output_type": "stream",
     "text": [
      "Successfully loaded product catalog\n"
     ]
    }
   ],
   "source": [
    "import gc\n",
    "import sys\n",
    "import pickle\n",
    "import numpy as np\n",
    "import pandas as pd\n",
    "\n",
    "import mml_lib.visualization as viz\n",
    "\n",
    "sys.path.append('/home/jovyan/work/yh09262/cython_home')\n",
    "sys.path.append('/home/jovyan/work/yh09262/utils_and_queries')\n",
    "\n",
    "from get_baskets import get_baskets\n",
    "from get_baskets_cdef import get_baskets_cdef\n",
    "\n",
    "import UPC_utils_July_2019 as uu"
   ]
  },
  {
   "cell_type": "code",
   "execution_count": 3,
   "metadata": {},
   "outputs": [],
   "source": [
    "#!ls"
   ]
  },
  {
   "cell_type": "code",
   "execution_count": 4,
   "metadata": {},
   "outputs": [],
   "source": [
    "#!python get_baskets_setup.py build_ext --inplace\n",
    "#!python get_baskets_cdef_setup.py build_ext --inplace"
   ]
  },
  {
   "cell_type": "code",
   "execution_count": 5,
   "metadata": {},
   "outputs": [
    {
     "name": "stdout",
     "output_type": "stream",
     "text": [
      "d_test\t\t\t\tur_production_purchase_store.csv\r\n",
      "d_train\t\t\t\tur_production_user_mapping.csv\r\n",
      "ur_production_atb.csv\t\tur_production_view.csv\r\n",
      "ur_production_product_attr.csv\tur_train_20190220_3.tar.gz\r\n",
      "ur_production_purchase.csv\r\n"
     ]
    }
   ],
   "source": [
    "!ls /home/jovyan/data/yh09262/ur_train_20190220_3/"
   ]
  },
  {
   "cell_type": "code",
   "execution_count": 6,
   "metadata": {},
   "outputs": [
    {
     "data": {
      "text/plain": [
       "0"
      ]
     },
     "execution_count": 6,
     "metadata": {},
     "output_type": "execute_result"
    }
   ],
   "source": [
    "#%%time\n",
    "purdict = get_baskets('/home/jovyan/data/yh09262/ur_train_20190220_3/ur_production_purchase.csv',min_n=1)\n",
    "with open('purdict__20190220_3_m1.pkl', 'wb') as f:\n",
    "    pickle.dump(purdict, f)\n",
    "#del purdict\n",
    "gc.collect()"
   ]
  },
  {
   "cell_type": "code",
   "execution_count": 7,
   "metadata": {},
   "outputs": [
    {
     "data": {
      "text/plain": [
       "0"
      ]
     },
     "execution_count": 7,
     "metadata": {},
     "output_type": "execute_result"
    }
   ],
   "source": [
    "#%%time\n",
    "atbdict = get_baskets('/home/jovyan/data/yh09262/ur_train_20190220_3/ur_production_atb.csv', min_n=1)\n",
    "with open('atbdict__20190220_3_m1.pkl', 'wb') as f:\n",
    "    pickle.dump(atbdict, f)\n",
    "#del atbdict\n",
    "gc.collect()"
   ]
  },
  {
   "cell_type": "code",
   "execution_count": 8,
   "metadata": {},
   "outputs": [
    {
     "data": {
      "text/plain": [
       "0"
      ]
     },
     "execution_count": 8,
     "metadata": {},
     "output_type": "execute_result"
    }
   ],
   "source": [
    "#%%time\n",
    "viewdict = get_baskets('/home/jovyan/data/yh09262/ur_train_20190220_3/ur_production_view.csv', min_n=1)\n",
    "with open('viewdict__20190220_3_m1.pkl', 'wb') as f:\n",
    "    pickle.dump(viewdict, f)\n",
    "#del viewdict\n",
    "gc.collect()"
   ]
  },
  {
   "cell_type": "markdown",
   "metadata": {},
   "source": [
    "### Combine The Dictionaries"
   ]
  },
  {
   "cell_type": "code",
   "execution_count": 9,
   "metadata": {},
   "outputs": [],
   "source": [
    "comb_d = {}"
   ]
  },
  {
   "cell_type": "code",
   "execution_count": 10,
   "metadata": {},
   "outputs": [],
   "source": [
    "#%%time\n",
    "for key, value in atbdict.items():\n",
    "    if key not in comb_d:\n",
    "        comb_d[key] = {}\n",
    "    comb_d[key]['atb'] = value"
   ]
  },
  {
   "cell_type": "code",
   "execution_count": 11,
   "metadata": {},
   "outputs": [],
   "source": [
    "#%%time\n",
    "for key, value in purdict.items():\n",
    "    if key not in comb_d:\n",
    "        comb_d[key] = {}\n",
    "    comb_d[key]['purchase'] = value"
   ]
  },
  {
   "cell_type": "code",
   "execution_count": 12,
   "metadata": {},
   "outputs": [],
   "source": [
    "# del atbdict\n",
    "# del purdict\n",
    "# gc.collect()"
   ]
  },
  {
   "cell_type": "code",
   "execution_count": 13,
   "metadata": {},
   "outputs": [],
   "source": [
    "##%%time\n",
    "for key, value in viewdict.items():\n",
    "    if key not in comb_d:\n",
    "        comb_d[key] = {}\n",
    "    comb_d[key]['view'] = value"
   ]
  },
  {
   "cell_type": "code",
   "execution_count": 14,
   "metadata": {},
   "outputs": [
    {
     "data": {
      "text/plain": [
       "0"
      ]
     },
     "execution_count": 14,
     "metadata": {},
     "output_type": "execute_result"
    }
   ],
   "source": [
    "with open('comb_d__20190220_3_m1.pkl', 'wb') as f:\n",
    "    pickle.dump(comb_d, f)\n",
    "#del viewdict\n",
    "gc.collect()"
   ]
  },
  {
   "cell_type": "code",
   "execution_count": 1,
   "metadata": {},
   "outputs": [
    {
     "name": "stdout",
     "output_type": "stream",
     "text": [
      "-rw-r--r-- 1 root root  42M Jun 17 20:53 purdict__20190220_3_m2.pkl\r\n",
      "-rw-r--r-- 1 root root 882M Jun 17 20:53 comb_d__20190220_3_m1.pkl\r\n",
      "-rw-r--r-- 1 root root 674M Jun 17 20:52 viewdict__20190220_3_m1.pkl\r\n",
      "-rw-r--r-- 1 root root 207M Jun 17 20:51 atbdict__20190220_3_m1.pkl\r\n",
      "-rw-r--r-- 1 root root  42M Jun 17 20:50 purdict__20190220_3_m1.pkl\r\n",
      "-rw-r--r-- 1 root root  16G May 13 20:46 comb_dict_20190131_46_Mon_May_13_201211_2019_m1.pkl\r\n"
     ]
    }
   ],
   "source": [
    "!ls -lth *.pkl"
   ]
  },
  {
   "cell_type": "code",
   "execution_count": 16,
   "metadata": {},
   "outputs": [],
   "source": [
    "a_few = list(comb_d.items())[:5]"
   ]
  },
  {
   "cell_type": "code",
   "execution_count": 17,
   "metadata": {},
   "outputs": [],
   "source": [
    "#a_few[0]\n",
    "#comb_d['820115365468423107037175256246828459689794']"
   ]
  },
  {
   "cell_type": "code",
   "execution_count": 18,
   "metadata": {},
   "outputs": [],
   "source": [
    "#%%time\n",
    "with open('purdict__20190220_3_m2.pkl', 'wb') as f:\n",
    "    pickle.dump(purdict, f)"
   ]
  },
  {
   "cell_type": "code",
   "execution_count": 19,
   "metadata": {},
   "outputs": [],
   "source": [
    "with open('purdict__20190220_3_m2.pkl', 'rb') as f:\n",
    "    reloaded = pickle.load(f)"
   ]
  },
  {
   "cell_type": "code",
   "execution_count": 20,
   "metadata": {},
   "outputs": [],
   "source": [
    "#list(purdict.values())[:5]"
   ]
  },
  {
   "cell_type": "code",
   "execution_count": 21,
   "metadata": {},
   "outputs": [],
   "source": [
    "#list(atbdict.values())[:5]"
   ]
  },
  {
   "cell_type": "code",
   "execution_count": 22,
   "metadata": {},
   "outputs": [
    {
     "data": {
      "text/plain": [
       "[['2813247', '6398782', '6368884'],\n",
       " ['6911779', '7261668', '6422269', '6911778', '945524', '7019552'],\n",
       " ['6118827', '6497622', '4378898'],\n",
       " ['6945238'],\n",
       " ['6279439', '7049499', '4525472', '6698557', '6278298']]"
      ]
     },
     "execution_count": 22,
     "metadata": {},
     "output_type": "execute_result"
    }
   ],
   "source": [
    "list(reloaded.values())[:5]"
   ]
  },
  {
   "cell_type": "code",
   "execution_count": 23,
   "metadata": {},
   "outputs": [
    {
     "name": "stdout",
     "output_type": "stream",
     "text": [
      "126590663\t2813247\t20190218\t821015505425913235095355951707410408440027\r\n",
      "173717102\t6911779\t20190218\t50161413384320076543816760194641522250860\r\n",
      "75584760\t6118827\t20190218\t800315505353321615086362739440376679818949\r\n",
      "1078091610\t6945238\t20190218\t820915505424013044029051586377757974227249\r\n",
      "1078080372\t6279439\t20190218\t810115505440101094024365255198706822618922\r\n",
      "16746383\t1744699\t20190218\t810815505434123124988402818793335580331619\r\n",
      "53121585\t3008237\t20190218\t810115456578672335600333977664424737496313\r\n",
      "56636412\t6742304\t20190218\t501414438387620807328625364140309211544430\r\n",
      "56636412\t6206955\t20190218\t501414438387620807328625364140309211544430\r\n",
      "56636412\t6597882\t20190218\t501414438387620807328625364140309211544430\r\n"
     ]
    }
   ],
   "source": [
    "!head /home/jovyan/data/yh09262/ur_train_20190220_3/ur_production_purchase.csv"
   ]
  },
  {
   "cell_type": "code",
   "execution_count": 5,
   "metadata": {},
   "outputs": [],
   "source": [
    "with open('comb_dict_20190131_46_Mon_May_13_201211_2019_m1.pkl', 'rb') as f:\n",
    "    comb_r = pickle.load(f)"
   ]
  },
  {
   "cell_type": "code",
   "execution_count": 6,
   "metadata": {},
   "outputs": [
    {
     "data": {
      "text/plain": [
       "dict"
      ]
     },
     "execution_count": 6,
     "metadata": {},
     "output_type": "execute_result"
    }
   ],
   "source": [
    "type(comb_r)"
   ]
  },
  {
   "cell_type": "code",
   "execution_count": 7,
   "metadata": {},
   "outputs": [
    {
     "data": {
      "text/plain": [
       "['300111955717712203804706838559218124294681',\n",
       " '30011224712309301086785906629879379713306',\n",
       " '300112406763652146033863927383422326251824']"
      ]
     },
     "execution_count": 7,
     "metadata": {},
     "output_type": "execute_result"
    }
   ],
   "source": [
    "comb_r_k = list(comb_r.keys())\n",
    "comb_r_k[:3]"
   ]
  },
  {
   "cell_type": "code",
   "execution_count": 8,
   "metadata": {},
   "outputs": [],
   "source": [
    "comb_r_v = list(comb_r.values())"
   ]
  },
  {
   "cell_type": "code",
   "execution_count": 22,
   "metadata": {},
   "outputs": [
    {
     "data": {
      "text/plain": [
       "[{'view': ['6667748', '6667748', '1643342', '1643342']},\n",
       " {'view': ['6653428', '6653436', '1617778', '6638125', '1617778', '8177560'],\n",
       "  'atb': ['1617778'],\n",
       "  'purchase': ['1617778']},\n",
       " {'view': ['666172', '4194', '2977524', '2977524', '4028905'],\n",
       "  'atb': ['2977524', '666172', '4194']},\n",
       " {'view': ['1643342']}]"
      ]
     },
     "execution_count": 22,
     "metadata": {},
     "output_type": "execute_result"
    }
   ],
   "source": [
    "comb_r_v[9:13]"
   ]
  },
  {
   "cell_type": "code",
   "execution_count": 10,
   "metadata": {},
   "outputs": [
    {
     "data": {
      "text/plain": [
       "(dict_keys(['view']), dict_keys(['view', 'atb', 'purchase']))"
      ]
     },
     "execution_count": 10,
     "metadata": {},
     "output_type": "execute_result"
    }
   ],
   "source": [
    "comb_r_v[9].keys(), comb_r_v[10].keys()"
   ]
  },
  {
   "cell_type": "code",
   "execution_count": 11,
   "metadata": {},
   "outputs": [
    {
     "data": {
      "text/plain": [
       "86870863"
      ]
     },
     "execution_count": 11,
     "metadata": {},
     "output_type": "execute_result"
    }
   ],
   "source": [
    "len(comb_r_k)"
   ]
  },
  {
   "cell_type": "code",
   "execution_count": 35,
   "metadata": {},
   "outputs": [],
   "source": [
    "def count_info(dvals):\n",
    "    viewatbpur = 0\n",
    "    viewatb = 0\n",
    "    viewpur = 0\n",
    "    atbpur = 0\n",
    "    viewonly = 0\n",
    "    atbonly = 0\n",
    "    puronly = 0\n",
    "    other = 0\n",
    "    for basket in dvals:\n",
    "        keys = basket.keys()\n",
    "        if set(keys) == set({'view', 'atb', 'purchase'}): viewatbpur +=1\n",
    "        elif set(keys) == set({'view', 'atb'}): viewatb +=1\n",
    "        elif set(keys) == set({'view', 'purchase'}): viewpur +=1\n",
    "        elif set(keys) == set({'atb', 'purchase'}): atbpur +=1\n",
    "        elif set(keys) == set({'view'}): viewonly +=1\n",
    "        elif set(keys) == set({'atb'}): atbonly +=1\n",
    "        elif set(keys) == set({'purchase'}): puronly +=1\n",
    "        else: other +=1\n",
    "    return viewatbpur, viewatb, viewpur, atbpur, viewonly, atbonly, puronly, other"
   ]
  },
  {
   "cell_type": "code",
   "execution_count": 39,
   "metadata": {},
   "outputs": [],
   "source": [
    "def return_sorted_dicts(dvals):\n",
    "    viewatbpurdsds = []\n",
    "    viewatbds = []\n",
    "    viewpurds = []\n",
    "    atbpurds = []\n",
    "    viewonlyds = []\n",
    "    atbonlyds = []\n",
    "    puronlyds = []\n",
    "    otherds = []\n",
    "    for basket in dvals:\n",
    "        keys = basket.keys()\n",
    "        if set(keys) == set({'view', 'atb', 'purchase'}): viewatbpurds.append(basket)\n",
    "        elif set(keys) == set({'view', 'atb'}): viewatbds.append(basket)\n",
    "        elif set(keys) == set({'view', 'purchase'}): viewpurds.append(basket)\n",
    "        elif set(keys) == set({'atb', 'purchase'}): atbpurds.append(basket)\n",
    "        elif set(keys) == set({'view'}): viewonlyds.append(basket)\n",
    "        elif set(keys) == set({'atb'}): atbonlyds.append(basket)\n",
    "        elif set(keys) == set({'purchase'}): puronlyds.append(basket)\n",
    "        else: otherds.append(basket)\n",
    "    return viewatbpurds, viewatbds, viewpurds, atbpurds, viewonlyds, atbonlyds, puronlyds, otherds"
   ]
  },
  {
   "cell_type": "code",
   "execution_count": 40,
   "metadata": {},
   "outputs": [
    {
     "name": "stdout",
     "output_type": "stream",
     "text": [
      "Done\n"
     ]
    }
   ],
   "source": [
    "viewatbpurds, viewatbds, viewpurds, atbpurds, viewonlyds, atbonlyds, puronlyds, otherds = return_sorted_dicts(comb_r_v)\n",
    "print(\"Done\")"
   ]
  },
  {
   "cell_type": "code",
   "execution_count": 50,
   "metadata": {},
   "outputs": [
    {
     "name": "stdout",
     "output_type": "stream",
     "text": [
      "Views:  ['6653428', '6653436', '1617778', '6638125', '1617778', '8177560']\n",
      "Atbs:  ['1617778']\n",
      "Purchase:  ['1617778']\n",
      "\n",
      "Views:  ['7892720', '7086563', '7197961', '6767678', '7693317', '7693317', '7050700', '7693317', '6635622', '6990979', '6990984', '7050700', '6937139', '7693317', '6713888']\n",
      "Atbs:  ['6990984', '7050700', '6767678', '7050700', '7693317']\n",
      "Purchase:  ['7050700', '7693317', '6990984', '6767678']\n",
      "\n",
      "Views:  ['5471441', '4860947', '4789976', '7045731', '6667748', '1643342']\n",
      "Atbs:  ['1643342', '5471441', '7045731', '1643342', '1643342', '6667748']\n",
      "Purchase:  ['6667748', '1643342', '7045731']\n",
      "\n",
      "Views:  ['7045731', '4194', '2977524']\n",
      "Atbs:  ['7045731', '2977524', '4194']\n",
      "Purchase:  ['7045731', '2977524']\n",
      "\n",
      "Views:  ['7115312']\n",
      "Atbs:  ['7117763', '7117763']\n",
      "Purchase:  ['7117763']\n",
      "\n",
      "Views:  ['3212', '483713', '561451', '3212', '560829']\n",
      "Atbs:  ['3212', '483713']\n",
      "Purchase:  ['483713', '3212']\n",
      "\n",
      "Views:  ['6688919', '6567860', '5446106', '6688928']\n",
      "Atbs:  ['6688919', '6567860']\n",
      "Purchase:  ['6567860', '6688919']\n",
      "\n",
      "Views:  ['6383119']\n",
      "Atbs:  ['6383119']\n",
      "Purchase:  ['6383119']\n",
      "\n",
      "Views:  ['6809436']\n",
      "Atbs:  ['6809436']\n",
      "Purchase:  ['6809436']\n",
      "\n",
      "Views:  ['8174739', '8174739', '902755', '902755', '521794', '323450', '6749599', '902755']\n",
      "Atbs:  ['8174739', '8174739', '8174739', '323450', '902755', '6749599', '6749599', '8174739', '323450', '902755']\n",
      "Purchase:  ['323450', '902755', '8174739']\n",
      "\n"
     ]
    }
   ],
   "source": [
    "#print(viewatbpurds[:2])\n",
    "#print(atbpurds[:2])\n",
    "for x in viewatbpurds[:10]:\n",
    "    print(\"Views: \" ,x['view'])\n",
    "    print(\"Atbs: \", x['atb'])\n",
    "    print(\"Purchase: \", x['purchase'])\n",
    "    print()"
   ]
  },
  {
   "cell_type": "markdown",
   "metadata": {},
   "source": [
    "# TODO\n",
    "* Statistics for which product types are most likely to go view-to-purchase\n",
    "* Stats for most likely atb-pur and most likely view-atb-pur, etc.\n",
    "* Stats for least likely.\n",
    "* Can we adjust by price?\n",
    "* Need to bring in an attribute table.\n",
    "* Plot number of views vs. # of purchases - is it linear relationship?"
   ]
  },
  {
   "cell_type": "code",
   "execution_count": null,
   "metadata": {},
   "outputs": [],
   "source": [
    "example_dict = {\n",
    "    'pid1' : {'purchasecount' : 23,\n",
    "             'viewcount' : 560\n",
    "             }\n",
    "    'pid2' : {'purchasecount' : 16,\n",
    "             'viewcount' : 120\n",
    "             }\n",
    "}"
   ]
  },
  {
   "cell_type": "code",
   "execution_count": 54,
   "metadata": {},
   "outputs": [],
   "source": [
    "def get_all_counts(dvals):\n",
    "    output = {}\n",
    "    for item in dvals:\n",
    "        if 'view' in item.keys():\n",
    "            for pid in item['view']:\n",
    "                if pid not in output.keys():\n",
    "                    output[pid] = {'views': 1, 'atbs': 0, 'purchases': 0}\n",
    "                else:\n",
    "                    output[pid]['views'] += 1\n",
    "        if 'atb' in item.keys():\n",
    "            for pid in item['atb']:\n",
    "                if pid not in output.keys():\n",
    "                    output[pid] = {'views': 0, 'atbs': 1, 'purchases': 0}\n",
    "                else:\n",
    "                    output[pid]['atbs'] += 1                    \n",
    "        if 'purchase' in item.keys():\n",
    "            for pid in item['purchase']:\n",
    "                if pid not in output.keys():\n",
    "                    output[pid] = {'views': 0, 'atbs': 0, 'purchases': 1}\n",
    "                else:\n",
    "                    output[pid]['purchases'] += 1    \n",
    "    return output"
   ]
  },
  {
   "cell_type": "code",
   "execution_count": 55,
   "metadata": {},
   "outputs": [],
   "source": [
    "counts_pid = get_all_counts(comb_r_v)"
   ]
  },
  {
   "cell_type": "code",
   "execution_count": 57,
   "metadata": {},
   "outputs": [],
   "source": [
    "counts_pid_l = list(counts_pid.items())"
   ]
  },
  {
   "cell_type": "code",
   "execution_count": 58,
   "metadata": {},
   "outputs": [
    {
     "data": {
      "text/plain": [
       "[('6612068', {'views': 24366, 'atbs': 3793, 'purchases': 566}),\n",
       " ('987859', {'views': 63439, 'atbs': 9581, 'purchases': 1802}),\n",
       " ('1048510', {'views': 121317, 'atbs': 18395, 'purchases': 3378})]"
      ]
     },
     "execution_count": 58,
     "metadata": {},
     "output_type": "execute_result"
    }
   ],
   "source": [
    "counts_pid_l[:3]"
   ]
  },
  {
   "cell_type": "code",
   "execution_count": 180,
   "metadata": {},
   "outputs": [
    {
     "data": {
      "text/html": [
       "<div>\n",
       "<style scoped>\n",
       "    .dataframe tbody tr th:only-of-type {\n",
       "        vertical-align: middle;\n",
       "    }\n",
       "\n",
       "    .dataframe tbody tr th {\n",
       "        vertical-align: top;\n",
       "    }\n",
       "\n",
       "    .dataframe thead th {\n",
       "        text-align: right;\n",
       "    }\n",
       "</style>\n",
       "<table border=\"1\" class=\"dataframe\">\n",
       "  <thead>\n",
       "    <tr style=\"text-align: right;\">\n",
       "      <th></th>\n",
       "      <th>atbs</th>\n",
       "      <th>purchases</th>\n",
       "      <th>views</th>\n",
       "    </tr>\n",
       "  </thead>\n",
       "  <tbody>\n",
       "    <tr>\n",
       "      <th>6612068</th>\n",
       "      <td>3793</td>\n",
       "      <td>566</td>\n",
       "      <td>24366</td>\n",
       "    </tr>\n",
       "    <tr>\n",
       "      <th>987859</th>\n",
       "      <td>9581</td>\n",
       "      <td>1802</td>\n",
       "      <td>63439</td>\n",
       "    </tr>\n",
       "    <tr>\n",
       "      <th>1048510</th>\n",
       "      <td>18395</td>\n",
       "      <td>3378</td>\n",
       "      <td>121317</td>\n",
       "    </tr>\n",
       "    <tr>\n",
       "      <th>6446981</th>\n",
       "      <td>13996</td>\n",
       "      <td>2658</td>\n",
       "      <td>68837</td>\n",
       "    </tr>\n",
       "    <tr>\n",
       "      <th>1656539</th>\n",
       "      <td>25572</td>\n",
       "      <td>4869</td>\n",
       "      <td>70271</td>\n",
       "    </tr>\n",
       "  </tbody>\n",
       "</table>\n",
       "</div>"
      ],
      "text/plain": [
       "          atbs  purchases   views\n",
       "6612068   3793        566   24366\n",
       "987859    9581       1802   63439\n",
       "1048510  18395       3378  121317\n",
       "6446981  13996       2658   68837\n",
       "1656539  25572       4869   70271"
      ]
     },
     "execution_count": 180,
     "metadata": {},
     "output_type": "execute_result"
    }
   ],
   "source": [
    "conv = pd.DataFrame(counts_pid).T\n",
    "conv.head()"
   ]
  },
  {
   "cell_type": "code",
   "execution_count": 184,
   "metadata": {},
   "outputs": [],
   "source": [
    "conv['view2pur_conv'] = conv['purchases'] / conv['views']\n",
    "conv['atb2pur_conv'] = conv['purchases'] / conv['atbs']\n",
    "conv['view2atb_conv'] = conv['atbs'] / conv['views']\n",
    "conv['averageconversion'] = (conv['view2pur_conv'] + conv['atb2pur_conv'] + conv['view2atb_conv'])/3\n",
    "conv['totalconversion'] = conv['purchases'] / (conv['atbs'] + conv['views'])"
   ]
  },
  {
   "cell_type": "code",
   "execution_count": 185,
   "metadata": {},
   "outputs": [
    {
     "data": {
      "text/html": [
       "<div>\n",
       "<style scoped>\n",
       "    .dataframe tbody tr th:only-of-type {\n",
       "        vertical-align: middle;\n",
       "    }\n",
       "\n",
       "    .dataframe tbody tr th {\n",
       "        vertical-align: top;\n",
       "    }\n",
       "\n",
       "    .dataframe thead th {\n",
       "        text-align: right;\n",
       "    }\n",
       "</style>\n",
       "<table border=\"1\" class=\"dataframe\">\n",
       "  <thead>\n",
       "    <tr style=\"text-align: right;\">\n",
       "      <th></th>\n",
       "      <th>atbs</th>\n",
       "      <th>purchases</th>\n",
       "      <th>views</th>\n",
       "      <th>view2pur_conv</th>\n",
       "      <th>atb2pur_conv</th>\n",
       "      <th>view2atb_conv</th>\n",
       "      <th>totalconversion</th>\n",
       "      <th>averageconversion</th>\n",
       "    </tr>\n",
       "  </thead>\n",
       "  <tbody>\n",
       "    <tr>\n",
       "      <th>8030455</th>\n",
       "      <td>1955</td>\n",
       "      <td>1920</td>\n",
       "      <td>641</td>\n",
       "      <td>2.995320</td>\n",
       "      <td>0.982097</td>\n",
       "      <td>3.049922</td>\n",
       "      <td>0.739599</td>\n",
       "      <td>2.342446</td>\n",
       "    </tr>\n",
       "    <tr>\n",
       "      <th>2374327</th>\n",
       "      <td>23433</td>\n",
       "      <td>13925</td>\n",
       "      <td>4639</td>\n",
       "      <td>3.001725</td>\n",
       "      <td>0.594247</td>\n",
       "      <td>5.051304</td>\n",
       "      <td>0.496046</td>\n",
       "      <td>2.882425</td>\n",
       "    </tr>\n",
       "    <tr>\n",
       "      <th>8024313</th>\n",
       "      <td>140</td>\n",
       "      <td>70</td>\n",
       "      <td>31</td>\n",
       "      <td>2.258065</td>\n",
       "      <td>0.500000</td>\n",
       "      <td>4.516129</td>\n",
       "      <td>0.409357</td>\n",
       "      <td>2.424731</td>\n",
       "    </tr>\n",
       "    <tr>\n",
       "      <th>6555405</th>\n",
       "      <td>4069</td>\n",
       "      <td>1815</td>\n",
       "      <td>669</td>\n",
       "      <td>2.713004</td>\n",
       "      <td>0.446056</td>\n",
       "      <td>6.082212</td>\n",
       "      <td>0.383073</td>\n",
       "      <td>3.080424</td>\n",
       "    </tr>\n",
       "    <tr>\n",
       "      <th>7934068</th>\n",
       "      <td>3205</td>\n",
       "      <td>1362</td>\n",
       "      <td>357</td>\n",
       "      <td>3.815126</td>\n",
       "      <td>0.424961</td>\n",
       "      <td>8.977591</td>\n",
       "      <td>0.382369</td>\n",
       "      <td>4.405893</td>\n",
       "    </tr>\n",
       "  </tbody>\n",
       "</table>\n",
       "</div>"
      ],
      "text/plain": [
       "          atbs  purchases  views  view2pur_conv  atb2pur_conv  view2atb_conv  \\\n",
       "8030455   1955       1920    641       2.995320      0.982097       3.049922   \n",
       "2374327  23433      13925   4639       3.001725      0.594247       5.051304   \n",
       "8024313    140         70     31       2.258065      0.500000       4.516129   \n",
       "6555405   4069       1815    669       2.713004      0.446056       6.082212   \n",
       "7934068   3205       1362    357       3.815126      0.424961       8.977591   \n",
       "\n",
       "         totalconversion  averageconversion  \n",
       "8030455         0.739599           2.342446  \n",
       "2374327         0.496046           2.882425  \n",
       "8024313         0.409357           2.424731  \n",
       "6555405         0.383073           3.080424  \n",
       "7934068         0.382369           4.405893  "
      ]
     },
     "execution_count": 185,
     "metadata": {},
     "output_type": "execute_result"
    }
   ],
   "source": [
    "topconversion = conv.query('views > 15').sort_values(by='totalconversion', ascending=False)\n",
    "topconversion.head()"
   ]
  },
  {
   "cell_type": "code",
   "execution_count": 186,
   "metadata": {},
   "outputs": [
    {
     "data": {
      "text/html": [
       "<div>\n",
       "<style scoped>\n",
       "    .dataframe tbody tr th:only-of-type {\n",
       "        vertical-align: middle;\n",
       "    }\n",
       "\n",
       "    .dataframe tbody tr th {\n",
       "        vertical-align: top;\n",
       "    }\n",
       "\n",
       "    .dataframe thead th {\n",
       "        text-align: right;\n",
       "    }\n",
       "</style>\n",
       "<table border=\"1\" class=\"dataframe\">\n",
       "  <thead>\n",
       "    <tr style=\"text-align: right;\">\n",
       "      <th></th>\n",
       "      <th>atbs</th>\n",
       "      <th>purchases</th>\n",
       "      <th>views</th>\n",
       "      <th>view2pur_conv</th>\n",
       "      <th>atb2pur_conv</th>\n",
       "      <th>view2atb_conv</th>\n",
       "      <th>totalconversion</th>\n",
       "      <th>averageconversion</th>\n",
       "    </tr>\n",
       "  </thead>\n",
       "  <tbody>\n",
       "    <tr>\n",
       "      <th>7651230</th>\n",
       "      <td>7</td>\n",
       "      <td>0</td>\n",
       "      <td>113</td>\n",
       "      <td>0.0</td>\n",
       "      <td>0.0</td>\n",
       "      <td>0.061947</td>\n",
       "      <td>0.0</td>\n",
       "      <td>0.020649</td>\n",
       "    </tr>\n",
       "    <tr>\n",
       "      <th>4848991</th>\n",
       "      <td>1</td>\n",
       "      <td>0</td>\n",
       "      <td>90</td>\n",
       "      <td>0.0</td>\n",
       "      <td>0.0</td>\n",
       "      <td>0.011111</td>\n",
       "      <td>0.0</td>\n",
       "      <td>0.003704</td>\n",
       "    </tr>\n",
       "    <tr>\n",
       "      <th>7052959</th>\n",
       "      <td>0</td>\n",
       "      <td>0</td>\n",
       "      <td>80</td>\n",
       "      <td>0.0</td>\n",
       "      <td>NaN</td>\n",
       "      <td>0.000000</td>\n",
       "      <td>0.0</td>\n",
       "      <td>NaN</td>\n",
       "    </tr>\n",
       "    <tr>\n",
       "      <th>4845470</th>\n",
       "      <td>0</td>\n",
       "      <td>0</td>\n",
       "      <td>62</td>\n",
       "      <td>0.0</td>\n",
       "      <td>NaN</td>\n",
       "      <td>0.000000</td>\n",
       "      <td>0.0</td>\n",
       "      <td>NaN</td>\n",
       "    </tr>\n",
       "    <tr>\n",
       "      <th>5391016</th>\n",
       "      <td>0</td>\n",
       "      <td>0</td>\n",
       "      <td>19</td>\n",
       "      <td>0.0</td>\n",
       "      <td>NaN</td>\n",
       "      <td>0.000000</td>\n",
       "      <td>0.0</td>\n",
       "      <td>NaN</td>\n",
       "    </tr>\n",
       "  </tbody>\n",
       "</table>\n",
       "</div>"
      ],
      "text/plain": [
       "         atbs  purchases  views  view2pur_conv  atb2pur_conv  view2atb_conv  \\\n",
       "7651230     7          0    113            0.0           0.0       0.061947   \n",
       "4848991     1          0     90            0.0           0.0       0.011111   \n",
       "7052959     0          0     80            0.0           NaN       0.000000   \n",
       "4845470     0          0     62            0.0           NaN       0.000000   \n",
       "5391016     0          0     19            0.0           NaN       0.000000   \n",
       "\n",
       "         totalconversion  averageconversion  \n",
       "7651230              0.0           0.020649  \n",
       "4848991              0.0           0.003704  \n",
       "7052959              0.0                NaN  \n",
       "4845470              0.0                NaN  \n",
       "5391016              0.0                NaN  "
      ]
     },
     "execution_count": 186,
     "metadata": {},
     "output_type": "execute_result"
    }
   ],
   "source": [
    "topconversion.tail()"
   ]
  },
  {
   "cell_type": "markdown",
   "metadata": {},
   "source": [
    "### Need to filter out GWP and PWP"
   ]
  },
  {
   "cell_type": "code",
   "execution_count": 79,
   "metadata": {},
   "outputs": [
    {
     "name": "stdout",
     "output_type": "stream",
     "text": [
      "d_test\t\t\t\tur_production_purchase_store.csv\r\n",
      "d_train\t\t\t\tur_production_user_mapping.csv\r\n",
      "ur_production_atb.csv\t\tur_production_view.csv\r\n",
      "ur_production_product_attr.csv\tur_train_20190220_3.tar.gz\r\n",
      "ur_production_purchase.csv\r\n"
     ]
    }
   ],
   "source": [
    "!ls /home/jovyan/data/yh09262/ur_train_20190220_3"
   ]
  },
  {
   "cell_type": "code",
   "execution_count": 189,
   "metadata": {},
   "outputs": [
    {
     "name": "stdout",
     "output_type": "stream",
     "text": [
      "20190329_60  20190605_60  prod_attribute_July26_2019.csv\r\n"
     ]
    }
   ],
   "source": [
    "!ls /home/jovyan/data/yh09262/prod"
   ]
  },
  {
   "cell_type": "code",
   "execution_count": 82,
   "metadata": {},
   "outputs": [],
   "source": [
    "#!ls /home/jovyan/work/yh09262/cython_home\n",
    "# attr = pd.read_csv('/home/jovyan/data/yh09262/ur_train_20190220_3/ur_production_product_attr.csv')\n",
    "# attr.head()\n",
    "from get_csv_rows import get_csv_rows"
   ]
  },
  {
   "cell_type": "code",
   "execution_count": 190,
   "metadata": {},
   "outputs": [],
   "source": [
    "#attrrows = get_csv_rows('/home/jovyan/data/yh09262/ur_train_20190220_3/ur_production_product_attr.csv')\n",
    "attrrows = get_csv_rows('/home/jovyan/data/yh09262/prod/prod_attribute_July26_2019.csv',numcols=24)"
   ]
  },
  {
   "cell_type": "code",
   "execution_count": 194,
   "metadata": {},
   "outputs": [
    {
     "name": "stdout",
     "output_type": "stream",
     "text": [
      "(2285468, 23)\n"
     ]
    },
    {
     "data": {
      "text/html": [
       "<div>\n",
       "<style scoped>\n",
       "    .dataframe tbody tr th:only-of-type {\n",
       "        vertical-align: middle;\n",
       "    }\n",
       "\n",
       "    .dataframe tbody tr th {\n",
       "        vertical-align: top;\n",
       "    }\n",
       "\n",
       "    .dataframe thead th {\n",
       "        text-align: right;\n",
       "    }\n",
       "</style>\n",
       "<table border=\"1\" class=\"dataframe\">\n",
       "  <thead>\n",
       "    <tr style=\"text-align: right;\">\n",
       "      <th></th>\n",
       "      <th>prod_name</th>\n",
       "      <th>today_original_price</th>\n",
       "      <th>today_retail_price</th>\n",
       "      <th>availability_flag</th>\n",
       "      <th>home_category_id</th>\n",
       "      <th>gmm_id</th>\n",
       "      <th>div_id</th>\n",
       "      <th>department_id</th>\n",
       "      <th>prod_age_txt</th>\n",
       "      <th>new_arrival</th>\n",
       "      <th>...</th>\n",
       "      <th>age_category</th>\n",
       "      <th>prodtype</th>\n",
       "      <th>gender</th>\n",
       "      <th>master_product_flag</th>\n",
       "      <th>recommend_pdp</th>\n",
       "      <th>product_long_description</th>\n",
       "      <th>site_product_type</th>\n",
       "      <th>size_attr_name</th>\n",
       "      <th>actv_web_cat_ids</th>\n",
       "      <th>pwp_ind</th>\n",
       "    </tr>\n",
       "    <tr>\n",
       "      <th>product_id</th>\n",
       "      <th></th>\n",
       "      <th></th>\n",
       "      <th></th>\n",
       "      <th></th>\n",
       "      <th></th>\n",
       "      <th></th>\n",
       "      <th></th>\n",
       "      <th></th>\n",
       "      <th></th>\n",
       "      <th></th>\n",
       "      <th></th>\n",
       "      <th></th>\n",
       "      <th></th>\n",
       "      <th></th>\n",
       "      <th></th>\n",
       "      <th></th>\n",
       "      <th></th>\n",
       "      <th></th>\n",
       "      <th></th>\n",
       "      <th></th>\n",
       "      <th></th>\n",
       "    </tr>\n",
       "  </thead>\n",
       "  <tbody>\n",
       "    <tr>\n",
       "      <th>75389</th>\n",
       "      <td>Marquis By Waterford Sheridan Bowls</td>\n",
       "      <td>NULL</td>\n",
       "      <td>NULL</td>\n",
       "      <td>N</td>\n",
       "      <td>56127</td>\n",
       "      <td>47</td>\n",
       "      <td>82</td>\n",
       "      <td>628</td>\n",
       "      <td>&lt;null&gt;</td>\n",
       "      <td>NULL</td>\n",
       "      <td>...</td>\n",
       "      <td>Adult</td>\n",
       "      <td>Home</td>\n",
       "      <td>&lt;null&gt;</td>\n",
       "      <td>Y</td>\n",
       "      <td>NULL</td>\n",
       "      <td>A series of vertical wedge cuts around the sid...</td>\n",
       "      <td>GIFTWARE</td>\n",
       "      <td>NULL</td>\n",
       "      <td>NULL</td>\n",
       "      <td>N</td>\n",
       "    </tr>\n",
       "    <tr>\n",
       "      <th>6850</th>\n",
       "      <td>Lenox Serveware, 10\" Holiday Oval Vegetable Bowl</td>\n",
       "      <td>360.0</td>\n",
       "      <td>360.0</td>\n",
       "      <td>Y</td>\n",
       "      <td>53630</td>\n",
       "      <td>47</td>\n",
       "      <td>82</td>\n",
       "      <td>783</td>\n",
       "      <td>2918</td>\n",
       "      <td>NULL</td>\n",
       "      <td>...</td>\n",
       "      <td>&lt;null&gt;</td>\n",
       "      <td>Home</td>\n",
       "      <td>&lt;null&gt;</td>\n",
       "      <td>N</td>\n",
       "      <td>Y</td>\n",
       "      <td>What finer things can there be than this? Part...</td>\n",
       "      <td>CHINA</td>\n",
       "      <td>NULL</td>\n",
       "      <td>8377,9545,24294,25037,25152,27226,29023,32175,...</td>\n",
       "      <td>N</td>\n",
       "    </tr>\n",
       "    <tr>\n",
       "      <th>16241</th>\n",
       "      <td>Dermablend Remover, 6.3 oz.</td>\n",
       "      <td>NULL</td>\n",
       "      <td>NULL</td>\n",
       "      <td>N</td>\n",
       "      <td>30077</td>\n",
       "      <td>4</td>\n",
       "      <td>37</td>\n",
       "      <td>374</td>\n",
       "      <td>&lt;null&gt;</td>\n",
       "      <td>NULL</td>\n",
       "      <td>...</td>\n",
       "      <td>Adult</td>\n",
       "      <td>Cosmetics</td>\n",
       "      <td>Women</td>\n",
       "      <td>N</td>\n",
       "      <td>NULL</td>\n",
       "      <td>This fast dissolving formula effectively remov...</td>\n",
       "      <td>SKIN_CARE</td>\n",
       "      <td>NULL</td>\n",
       "      <td>NULL</td>\n",
       "      <td>N</td>\n",
       "    </tr>\n",
       "    <tr>\n",
       "      <th>16245</th>\n",
       "      <td>Dermablend Compact Cover Creme, .49 oz.</td>\n",
       "      <td>NULL</td>\n",
       "      <td>NULL</td>\n",
       "      <td>N</td>\n",
       "      <td>30077</td>\n",
       "      <td>4</td>\n",
       "      <td>37</td>\n",
       "      <td>374</td>\n",
       "      <td>&lt;null&gt;</td>\n",
       "      <td>NULL</td>\n",
       "      <td>...</td>\n",
       "      <td>Adult</td>\n",
       "      <td>Cosmetics</td>\n",
       "      <td>Women</td>\n",
       "      <td>N</td>\n",
       "      <td>NULL</td>\n",
       "      <td>In an array of skin tones this cover creme dev...</td>\n",
       "      <td>FACE_MAKEUP</td>\n",
       "      <td>NULL</td>\n",
       "      <td>NULL</td>\n",
       "      <td>N</td>\n",
       "    </tr>\n",
       "    <tr>\n",
       "      <th>16313</th>\n",
       "      <td>Carolina Herrera 212 for Men Eau de Toilette S...</td>\n",
       "      <td>90.0</td>\n",
       "      <td>90.0</td>\n",
       "      <td>Y</td>\n",
       "      <td>30076</td>\n",
       "      <td>4</td>\n",
       "      <td>38</td>\n",
       "      <td>343</td>\n",
       "      <td>2918</td>\n",
       "      <td>NULL</td>\n",
       "      <td>...</td>\n",
       "      <td>Adult</td>\n",
       "      <td>Fragrance</td>\n",
       "      <td>Men</td>\n",
       "      <td>N</td>\n",
       "      <td>Y</td>\n",
       "      <td>Carolina Herrera presents a whole new 212 just...</td>\n",
       "      <td>FRAGRANCE</td>\n",
       "      <td>NULL</td>\n",
       "      <td>3536,9559,14877,26679,30076,30088,30169,31620,...</td>\n",
       "      <td>N</td>\n",
       "    </tr>\n",
       "  </tbody>\n",
       "</table>\n",
       "<p>5 rows × 23 columns</p>\n",
       "</div>"
      ],
      "text/plain": [
       "                                                    prod_name  \\\n",
       "product_id                                                      \n",
       "75389                     Marquis By Waterford Sheridan Bowls   \n",
       "6850         Lenox Serveware, 10\" Holiday Oval Vegetable Bowl   \n",
       "16241                             Dermablend Remover, 6.3 oz.   \n",
       "16245                 Dermablend Compact Cover Creme, .49 oz.   \n",
       "16313       Carolina Herrera 212 for Men Eau de Toilette S...   \n",
       "\n",
       "           today_original_price today_retail_price availability_flag  \\\n",
       "product_id                                                             \n",
       "75389                      NULL               NULL                 N   \n",
       "6850                      360.0              360.0                 Y   \n",
       "16241                      NULL               NULL                 N   \n",
       "16245                      NULL               NULL                 N   \n",
       "16313                      90.0               90.0                 Y   \n",
       "\n",
       "           home_category_id gmm_id div_id department_id prod_age_txt  \\\n",
       "product_id                                                             \n",
       "75389                 56127     47     82           628       <null>   \n",
       "6850                  53630     47     82           783         2918   \n",
       "16241                 30077      4     37           374       <null>   \n",
       "16245                 30077      4     37           374       <null>   \n",
       "16313                 30076      4     38           343         2918   \n",
       "\n",
       "           new_arrival  ... age_category   prodtype  gender  \\\n",
       "product_id              ...                                   \n",
       "75389             NULL  ...        Adult       Home  <null>   \n",
       "6850              NULL  ...       <null>       Home  <null>   \n",
       "16241             NULL  ...        Adult  Cosmetics   Women   \n",
       "16245             NULL  ...        Adult  Cosmetics   Women   \n",
       "16313             NULL  ...        Adult  Fragrance     Men   \n",
       "\n",
       "           master_product_flag recommend_pdp  \\\n",
       "product_id                                     \n",
       "75389                        Y          NULL   \n",
       "6850                         N             Y   \n",
       "16241                        N          NULL   \n",
       "16245                        N          NULL   \n",
       "16313                        N             Y   \n",
       "\n",
       "                                     product_long_description  \\\n",
       "product_id                                                      \n",
       "75389       A series of vertical wedge cuts around the sid...   \n",
       "6850        What finer things can there be than this? Part...   \n",
       "16241       This fast dissolving formula effectively remov...   \n",
       "16245       In an array of skin tones this cover creme dev...   \n",
       "16313       Carolina Herrera presents a whole new 212 just...   \n",
       "\n",
       "           site_product_type size_attr_name  \\\n",
       "product_id                                    \n",
       "75389               GIFTWARE           NULL   \n",
       "6850                   CHINA           NULL   \n",
       "16241              SKIN_CARE           NULL   \n",
       "16245            FACE_MAKEUP           NULL   \n",
       "16313              FRAGRANCE           NULL   \n",
       "\n",
       "                                             actv_web_cat_ids pwp_ind  \n",
       "product_id                                                             \n",
       "75389                                                    NULL       N  \n",
       "6850        8377,9545,24294,25037,25152,27226,29023,32175,...       N  \n",
       "16241                                                    NULL       N  \n",
       "16245                                                    NULL       N  \n",
       "16313       3536,9559,14877,26679,30076,30088,30169,31620,...       N  \n",
       "\n",
       "[5 rows x 23 columns]"
      ]
     },
     "execution_count": 194,
     "metadata": {},
     "output_type": "execute_result"
    }
   ],
   "source": [
    "attr = pd.DataFrame(attrrows[1:],columns=attrrows[0]).set_index('product_id')\n",
    "print(attr.shape)\n",
    "attr.head()"
   ]
  },
  {
   "cell_type": "code",
   "execution_count": 192,
   "metadata": {},
   "outputs": [
    {
     "data": {
      "text/plain": [
       "(2285468, 24)"
      ]
     },
     "execution_count": 192,
     "metadata": {},
     "output_type": "execute_result"
    }
   ],
   "source": [
    "attr.shape"
   ]
  },
  {
   "cell_type": "code",
   "execution_count": 124,
   "metadata": {},
   "outputs": [],
   "source": [
    "import os\n",
    "CACHE_IMAGE_PATH = os.environ.get('PROS_DS_LIB_IMAGE_CACHE_DIR',os.path.join(os.path.expanduser('~'),'_product_images_cache'))\n",
    "PRODUCT_FILE = os.environ.get('PROS_DS_LIB_PRODUCT_FILE',os.path.join(CACHE_IMAGE_PATH, 'product_catalog.csv'))\n",
    "prods = pd.read_csv(PRODUCT_FILE,dtype={'product_id': str, 'prod_name': str, 'price_retail': float}).set_index('product_id')"
   ]
  },
  {
   "cell_type": "code",
   "execution_count": 137,
   "metadata": {},
   "outputs": [
    {
     "name": "stdout",
     "output_type": "stream",
     "text": [
      "(2526359, 3)\n"
     ]
    },
    {
     "data": {
      "text/html": [
       "<div>\n",
       "<style scoped>\n",
       "    .dataframe tbody tr th:only-of-type {\n",
       "        vertical-align: middle;\n",
       "    }\n",
       "\n",
       "    .dataframe tbody tr th {\n",
       "        vertical-align: top;\n",
       "    }\n",
       "\n",
       "    .dataframe thead th {\n",
       "        text-align: right;\n",
       "    }\n",
       "</style>\n",
       "<table border=\"1\" class=\"dataframe\">\n",
       "  <thead>\n",
       "    <tr style=\"text-align: right;\">\n",
       "      <th></th>\n",
       "      <th>prod_name</th>\n",
       "      <th>price_retail</th>\n",
       "      <th>names_lower</th>\n",
       "    </tr>\n",
       "    <tr>\n",
       "      <th>product_id</th>\n",
       "      <th></th>\n",
       "      <th></th>\n",
       "      <th></th>\n",
       "    </tr>\n",
       "  </thead>\n",
       "  <tbody>\n",
       "    <tr>\n",
       "      <th>2187</th>\n",
       "      <td>COOL WATER WOMAN BODY MOISTURIZER, 6.7 OZ.</td>\n",
       "      <td>34.0</td>\n",
       "      <td>cool water woman body moisturizer, 6.7 oz.</td>\n",
       "    </tr>\n",
       "    <tr>\n",
       "      <th>2276</th>\n",
       "      <td>FIESTA 19-OZ. MEDIUM BOWL</td>\n",
       "      <td>14.0</td>\n",
       "      <td>fiesta 19-oz. medium bowl</td>\n",
       "    </tr>\n",
       "    <tr>\n",
       "      <th>2280</th>\n",
       "      <td>FIESTA 13\" OVAL PLATTER</td>\n",
       "      <td>38.0</td>\n",
       "      <td>fiesta 13\" oval platter</td>\n",
       "    </tr>\n",
       "    <tr>\n",
       "      <th>16379</th>\n",
       "      <td>CACHAREL ANAIS ANAIS FOR WOMEN PERFUME COLLECTION</td>\n",
       "      <td>NaN</td>\n",
       "      <td>cacharel anais anais for women perfume collection</td>\n",
       "    </tr>\n",
       "    <tr>\n",
       "      <th>19952</th>\n",
       "      <td>GORHAM MELON BUD FROSTED STAINLESS FLATWARE CO...</td>\n",
       "      <td>NaN</td>\n",
       "      <td>gorham melon bud frosted stainless flatware co...</td>\n",
       "    </tr>\n",
       "  </tbody>\n",
       "</table>\n",
       "</div>"
      ],
      "text/plain": [
       "                                                    prod_name  price_retail  \\\n",
       "product_id                                                                    \n",
       "2187               COOL WATER WOMAN BODY MOISTURIZER, 6.7 OZ.          34.0   \n",
       "2276                                FIESTA 19-OZ. MEDIUM BOWL          14.0   \n",
       "2280                                  FIESTA 13\" OVAL PLATTER          38.0   \n",
       "16379       CACHAREL ANAIS ANAIS FOR WOMEN PERFUME COLLECTION           NaN   \n",
       "19952       GORHAM MELON BUD FROSTED STAINLESS FLATWARE CO...           NaN   \n",
       "\n",
       "                                                  names_lower  \n",
       "product_id                                                     \n",
       "2187               cool water woman body moisturizer, 6.7 oz.  \n",
       "2276                                fiesta 19-oz. medium bowl  \n",
       "2280                                  fiesta 13\" oval platter  \n",
       "16379       cacharel anais anais for women perfume collection  \n",
       "19952       gorham melon bud frosted stainless flatware co...  "
      ]
     },
     "execution_count": 137,
     "metadata": {},
     "output_type": "execute_result"
    }
   ],
   "source": [
    "print(prods.shape)\n",
    "prods['names_lower'] = prods['prod_name'].str.lower().astype('str')\n",
    "prods.head()"
   ]
  },
  {
   "cell_type": "code",
   "execution_count": 117,
   "metadata": {},
   "outputs": [],
   "source": [
    "#PRODUCT_CATALOG.to_csv('/home/jovyan/work/yh09262/DTOOLS/product_catalog_July26_2019.csv')"
   ]
  },
  {
   "cell_type": "code",
   "execution_count": 94,
   "metadata": {},
   "outputs": [
    {
     "name": "stdout",
     "output_type": "stream",
     "text": [
      "{'ProductThumbnailData': {'errorMessage': 'Product thumbnail may be unavailable, archived or some of the business rules related to display product thumbnail are not met'}}\n"
     ]
    }
   ],
   "source": [
    "import json\n",
    "import requests\n",
    "URL = 'https://www.macys.com/api/navigation/products/thumbnail/'\n",
    "#HEADERS = {'User-Agent': 'Mozilla/5.0 (Macintosh; Intel Mac OS X 10_11_5) AppleWebKit/537.36 (KHTML, like Gecko) Cafari/537.36'}\n",
    "HEADERS = {\n",
    "    'User-Agent': ('Mozilla/5.0 (Macintosh; Intel Mac OS X 10_11_5)'\n",
    "                   'AppleWebKit/537.36 (KHTML, like Gecko) Cafari/537.36')}\n",
    "\n",
    "print(requests.get(URL+'8030455').json())"
   ]
  },
  {
   "cell_type": "code",
   "execution_count": 92,
   "metadata": {},
   "outputs": [
    {
     "data": {
      "text/plain": [
       "{'ProductThumbnailData': {'errorMessage': 'Product thumbnail may be unavailable, archived or some of the business rules related to display product thumbnail are not met'}}"
      ]
     },
     "execution_count": 92,
     "metadata": {},
     "output_type": "execute_result"
    }
   ],
   "source": [
    "uu.get_product_info_from_mcom('8030455')"
   ]
  },
  {
   "cell_type": "code",
   "execution_count": 121,
   "metadata": {},
   "outputs": [
    {
     "name": "stdout",
     "output_type": "stream",
     "text": [
      "RECEIVE A FREE DELUXE ADVANCED NIGHT REPAIR SERUM WITH ANY $75 ESTÉE LAUDER PURCHASE\n",
      "Receive a free FULL SIZE Rejuvenating Face Oil with $50 BABOR Purchase! (a $69 value)\n",
      "Receive a Complimentary Duffel Bag with any $54 purchase from the Paul Sebastian fragrance collection\n",
      "RECEIVE A FREE MINI SETTING POWDER WITH ANY FOUNDATION PURCHASE!\n",
      "Happy Lunar New Year! FREE 4 pc Gift with $85 Kiehl's Purchase!\n"
     ]
    }
   ],
   "source": [
    "print(PRODUCT_CATALOG.loc['4765862',:]['prod_name'])\n",
    "print(PRODUCT_CATALOG.loc['8024313',:]['prod_name'])\n",
    "print(PRODUCT_CATALOG.loc['6733522',:]['prod_name'])\n",
    "print(PRODUCT_CATALOG.loc['2374327',:]['prod_name'])\n",
    "print(PRODUCT_CATALOG.loc['8030455',:]['prod_name'])"
   ]
  },
  {
   "cell_type": "code",
   "execution_count": 173,
   "metadata": {},
   "outputs": [
    {
     "name": "stdout",
     "output_type": "stream",
     "text": [
      "15541 71707 78771\n"
     ]
    }
   ],
   "source": [
    "prods_pf = prods[prods['price_retail'] <= 3]\n",
    "gwp = prods[prods['names_lower'].str.contains(\"receive a complimentary\") | \\\n",
    "            prods['names_lower'].str.contains(\"receive a free\") | \\\n",
    "            prods['names_lower'].str.contains(\"gift with\") | \\\n",
    "            prods['names_lower'].str.contains(\"with your $\")]\n",
    "\n",
    "all_gwp = set(prods_pf.index.values).union(set(gwp.index.values))\n",
    "print(len(gwp), len(prods_pf), len(all_gwp))"
   ]
  },
  {
   "cell_type": "code",
   "execution_count": 153,
   "metadata": {},
   "outputs": [
    {
     "name": "stdout",
     "output_type": "stream",
     "text": [
      "2510818\n"
     ]
    }
   ],
   "source": [
    "gwp_n = prods[~prods['names_lower'].str.contains(\"receive a complimentary\") & \\\n",
    "            ~prods['names_lower'].str.contains(\"receive a free\") & \\\n",
    "            ~prods['names_lower'].str.contains(\"gift with\")]\n",
    "print(len(gwp_n))"
   ]
  },
  {
   "cell_type": "code",
   "execution_count": 154,
   "metadata": {},
   "outputs": [
    {
     "data": {
      "text/plain": [
       "2526359"
      ]
     },
     "execution_count": 154,
     "metadata": {},
     "output_type": "execute_result"
    }
   ],
   "source": [
    "len(prods)"
   ]
  },
  {
   "cell_type": "code",
   "execution_count": 155,
   "metadata": {},
   "outputs": [
    {
     "data": {
      "text/plain": [
       "2510818"
      ]
     },
     "execution_count": 155,
     "metadata": {},
     "output_type": "execute_result"
    }
   ],
   "source": [
    "2526359 - 15541"
   ]
  },
  {
   "cell_type": "code",
   "execution_count": 156,
   "metadata": {},
   "outputs": [
    {
     "data": {
      "text/html": [
       "<div>\n",
       "<style scoped>\n",
       "    .dataframe tbody tr th:only-of-type {\n",
       "        vertical-align: middle;\n",
       "    }\n",
       "\n",
       "    .dataframe tbody tr th {\n",
       "        vertical-align: top;\n",
       "    }\n",
       "\n",
       "    .dataframe thead th {\n",
       "        text-align: right;\n",
       "    }\n",
       "</style>\n",
       "<table border=\"1\" class=\"dataframe\">\n",
       "  <thead>\n",
       "    <tr style=\"text-align: right;\">\n",
       "      <th></th>\n",
       "      <th>prod_name</th>\n",
       "      <th>price_retail</th>\n",
       "      <th>names_lower</th>\n",
       "    </tr>\n",
       "    <tr>\n",
       "      <th>product_id</th>\n",
       "      <th></th>\n",
       "      <th></th>\n",
       "      <th></th>\n",
       "    </tr>\n",
       "  </thead>\n",
       "  <tbody>\n",
       "    <tr>\n",
       "      <th>2187</th>\n",
       "      <td>COOL WATER WOMAN BODY MOISTURIZER, 6.7 OZ.</td>\n",
       "      <td>34.0</td>\n",
       "      <td>cool water woman body moisturizer, 6.7 oz.</td>\n",
       "    </tr>\n",
       "    <tr>\n",
       "      <th>2276</th>\n",
       "      <td>FIESTA 19-OZ. MEDIUM BOWL</td>\n",
       "      <td>14.0</td>\n",
       "      <td>fiesta 19-oz. medium bowl</td>\n",
       "    </tr>\n",
       "    <tr>\n",
       "      <th>2280</th>\n",
       "      <td>FIESTA 13\" OVAL PLATTER</td>\n",
       "      <td>38.0</td>\n",
       "      <td>fiesta 13\" oval platter</td>\n",
       "    </tr>\n",
       "  </tbody>\n",
       "</table>\n",
       "</div>"
      ],
      "text/plain": [
       "                                             prod_name  price_retail  \\\n",
       "product_id                                                             \n",
       "2187        COOL WATER WOMAN BODY MOISTURIZER, 6.7 OZ.          34.0   \n",
       "2276                         FIESTA 19-OZ. MEDIUM BOWL          14.0   \n",
       "2280                           FIESTA 13\" OVAL PLATTER          38.0   \n",
       "\n",
       "                                           names_lower  \n",
       "product_id                                              \n",
       "2187        cool water woman body moisturizer, 6.7 oz.  \n",
       "2276                         fiesta 19-oz. medium bowl  \n",
       "2280                           fiesta 13\" oval platter  "
      ]
     },
     "execution_count": 156,
     "metadata": {},
     "output_type": "execute_result"
    }
   ],
   "source": [
    "gwp_n.head(3)"
   ]
  },
  {
   "cell_type": "code",
   "execution_count": 176,
   "metadata": {},
   "outputs": [
    {
     "data": {
      "text/plain": [
       "True"
      ]
     },
     "execution_count": 176,
     "metadata": {},
     "output_type": "execute_result"
    }
   ],
   "source": [
    "'6555405' in all_gwp"
   ]
  },
  {
   "cell_type": "code",
   "execution_count": 187,
   "metadata": {},
   "outputs": [],
   "source": [
    "top_conversion_n = [str(x) for x in topconversion.index.values if x not in all_gwp]"
   ]
  },
  {
   "cell_type": "code",
   "execution_count": 177,
   "metadata": {},
   "outputs": [],
   "source": [
    "# for x in [6555405, 6314681, 7807902, 5797187, 7693208, 8226305, 7787221, 6851321, 6788984, 6245587]:\n",
    "#     print(prods.loc[str(x),'names_lower'])"
   ]
  },
  {
   "cell_type": "code",
   "execution_count": 197,
   "metadata": {},
   "outputs": [
    {
     "data": {
      "text/plain": [
       "Index(['75389', '6850', '16241'], dtype='object', name='product_id')"
      ]
     },
     "execution_count": 197,
     "metadata": {},
     "output_type": "execute_result"
    }
   ],
   "source": [
    "attr.index[:3]"
   ]
  },
  {
   "cell_type": "code",
   "execution_count": 213,
   "metadata": {},
   "outputs": [
    {
     "name": "stderr",
     "output_type": "stream",
     "text": [
      "/opt/conda/lib/python3.6/site-packages/pandas/core/indexing.py:1494: FutureWarning: \n",
      "Passing list-likes to .loc or [] with any missing label will raise\n",
      "KeyError in the future, you can use .reindex() as an alternative.\n",
      "\n",
      "See the documentation here:\n",
      "https://pandas.pydata.org/pandas-docs/stable/indexing.html#deprecate-loc-reindex-listlike\n",
      "  return self._getitem_tuple(key)\n"
     ]
    },
    {
     "data": {
      "text/html": [
       "<div>\n",
       "<style scoped>\n",
       "    .dataframe tbody tr th:only-of-type {\n",
       "        vertical-align: middle;\n",
       "    }\n",
       "\n",
       "    .dataframe tbody tr th {\n",
       "        vertical-align: top;\n",
       "    }\n",
       "\n",
       "    .dataframe thead th {\n",
       "        text-align: right;\n",
       "    }\n",
       "</style>\n",
       "<table border=\"1\" class=\"dataframe\">\n",
       "  <thead>\n",
       "    <tr style=\"text-align: right;\">\n",
       "      <th></th>\n",
       "      <th>prod_name</th>\n",
       "      <th>today_retail_price</th>\n",
       "      <th>product_long_description</th>\n",
       "      <th>site_product_type</th>\n",
       "    </tr>\n",
       "    <tr>\n",
       "      <th>product_id</th>\n",
       "      <th></th>\n",
       "      <th></th>\n",
       "      <th></th>\n",
       "      <th></th>\n",
       "    </tr>\n",
       "  </thead>\n",
       "  <tbody>\n",
       "    <tr>\n",
       "      <th>7135725</th>\n",
       "      <td>The Art of Shaving Lavender Pre-Shave Oil, 1 f...</td>\n",
       "      <td>16.0</td>\n",
       "      <td>Lavender Pre-Shave Oil softens the beard and p...</td>\n",
       "      <td>SKIN_CARE</td>\n",
       "    </tr>\n",
       "    <tr>\n",
       "      <th>1725859</th>\n",
       "      <td>Team Golf Chicago Bears Golf Towel</td>\n",
       "      <td>16.99</td>\n",
       "      <td>Hit the links with your favorite team when you...</td>\n",
       "      <td>ACCESSORIES</td>\n",
       "    </tr>\n",
       "    <tr>\n",
       "      <th>6245587</th>\n",
       "      <td>Origins Ginger Souffle Whipped Body Cream, 8.5...</td>\n",
       "      <td>22.0</td>\n",
       "      <td>The gift every body loves: Sensuous Ginger Sou...</td>\n",
       "      <td>BODY_CARE</td>\n",
       "    </tr>\n",
       "    <tr>\n",
       "      <th>2379781</th>\n",
       "      <td>Fiesta 7.25\" Cobalt Salad Plate</td>\n",
       "      <td>15.0</td>\n",
       "      <td>Perhaps the name \"Fiesta\" was chosen in 1936 b...</td>\n",
       "      <td>CASUAL_DINNERWARE</td>\n",
       "    </tr>\n",
       "    <tr>\n",
       "      <th>6337118</th>\n",
       "      <td>Rod Desyne Bud 13/16\" Curtain Rod 48\"-84\"</td>\n",
       "      <td>92.0</td>\n",
       "      <td>The perfect choice for adding style to your wi...</td>\n",
       "      <td>WINDOW_HARDWARE</td>\n",
       "    </tr>\n",
       "    <tr>\n",
       "      <th>6873111</th>\n",
       "      <td>Xbox 1 Pro Evolution Soccer 2019</td>\n",
       "      <td>59.99</td>\n",
       "      <td>Player individuality taken to the next level, ...</td>\n",
       "      <td>ELECTRONICS</td>\n",
       "    </tr>\n",
       "    <tr>\n",
       "      <th>6664085</th>\n",
       "      <td>NaN</td>\n",
       "      <td>NaN</td>\n",
       "      <td>NaN</td>\n",
       "      <td>NaN</td>\n",
       "    </tr>\n",
       "    <tr>\n",
       "      <th>2379819</th>\n",
       "      <td>Fiesta 7.25\" Lemongrass Salad Plate</td>\n",
       "      <td>15.0</td>\n",
       "      <td>Perhaps the name \"Fiesta\" was chosen in 1936 b...</td>\n",
       "      <td>CASUAL_DINNERWARE</td>\n",
       "    </tr>\n",
       "    <tr>\n",
       "      <th>574217</th>\n",
       "      <td>The Bon Marche T Shirt</td>\n",
       "      <td>26.0</td>\n",
       "      <td>Affectionately called \"The Bon\" by loyal custo...</td>\n",
       "      <td>T-SHIRT</td>\n",
       "    </tr>\n",
       "    <tr>\n",
       "      <th>23937</th>\n",
       "      <td>Wedgwood Dinnerware, Nantucket Basket Covered ...</td>\n",
       "      <td>93.75</td>\n",
       "      <td>Nantucket Basket is a fine, all-white Wedgwood...</td>\n",
       "      <td>SERVEWARE</td>\n",
       "    </tr>\n",
       "    <tr>\n",
       "      <th>2379786</th>\n",
       "      <td>Fiesta 7.25\" Sunflower Salad Plate</td>\n",
       "      <td>15.0</td>\n",
       "      <td>Perhaps the name \"Fiesta\" was chosen in 1936 b...</td>\n",
       "      <td>CASUAL_DINNERWARE</td>\n",
       "    </tr>\n",
       "    <tr>\n",
       "      <th>7479716</th>\n",
       "      <td>Unicorn Moods Giant Message Board</td>\n",
       "      <td>70.0</td>\n",
       "      <td>Add a playful touch of magic to walls with thi...</td>\n",
       "      <td>ART</td>\n",
       "    </tr>\n",
       "    <tr>\n",
       "      <th>2601392</th>\n",
       "      <td>Rod Desyne Magnolia Single Curtain Rod 28'' - ...</td>\n",
       "      <td>95.0</td>\n",
       "      <td>Let your contemporary window décor blossom wit...</td>\n",
       "      <td>WINDOW_HARDWARE</td>\n",
       "    </tr>\n",
       "    <tr>\n",
       "      <th>2050665</th>\n",
       "      <td>Waterford Lismore Diamond Lapis Dinner Plate</td>\n",
       "      <td>41.0</td>\n",
       "      <td>The gold and purple hues of Waterford's Lismor...</td>\n",
       "      <td>CHINA</td>\n",
       "    </tr>\n",
       "    <tr>\n",
       "      <th>7368406</th>\n",
       "      <td>New Era Pittsburgh Steelers Salute To Service ...</td>\n",
       "      <td>20.0</td>\n",
       "      <td>Show support for your favorite team and your c...</td>\n",
       "      <td>HAT</td>\n",
       "    </tr>\n",
       "    <tr>\n",
       "      <th>2371145</th>\n",
       "      <td>Fiesta Poppy 9\" Luncheon Plate</td>\n",
       "      <td>18.0</td>\n",
       "      <td>An American classic with definitive Deco flair...</td>\n",
       "      <td>CASUAL_DINNERWARE</td>\n",
       "    </tr>\n",
       "    <tr>\n",
       "      <th>6943007</th>\n",
       "      <td>Nike Men's Iowa State Cyclones Legend Staff Si...</td>\n",
       "      <td>18.0</td>\n",
       "      <td>The Nike NCAA Men's Legend Staff Sideline T-sh...</td>\n",
       "      <td>TOP</td>\n",
       "    </tr>\n",
       "    <tr>\n",
       "      <th>4631908</th>\n",
       "      <td>Fiesta Daffodil 9\" Luncheon Plate</td>\n",
       "      <td>18.0</td>\n",
       "      <td>An irresistible cheery yellow combines in a De...</td>\n",
       "      <td>CASUAL_DINNERWARE</td>\n",
       "    </tr>\n",
       "    <tr>\n",
       "      <th>6431544</th>\n",
       "      <td>Department 56 Village Figure Who-Ville Christm...</td>\n",
       "      <td>NULL</td>\n",
       "      <td>Put the finishing touches on the Who-Ville Chr...</td>\n",
       "      <td>VILLAGES</td>\n",
       "    </tr>\n",
       "    <tr>\n",
       "      <th>2380027</th>\n",
       "      <td>Fiesta 7.25\" Poppy Salad Plate</td>\n",
       "      <td>15.0</td>\n",
       "      <td>Perhaps the name \"Fiesta\" was chosen in 1936 b...</td>\n",
       "      <td>CASUAL_DINNERWARE</td>\n",
       "    </tr>\n",
       "  </tbody>\n",
       "</table>\n",
       "</div>"
      ],
      "text/plain": [
       "                                                    prod_name  \\\n",
       "product_id                                                      \n",
       "7135725     The Art of Shaving Lavender Pre-Shave Oil, 1 f...   \n",
       "1725859                    Team Golf Chicago Bears Golf Towel   \n",
       "6245587     Origins Ginger Souffle Whipped Body Cream, 8.5...   \n",
       "2379781                       Fiesta 7.25\" Cobalt Salad Plate   \n",
       "6337118             Rod Desyne Bud 13/16\" Curtain Rod 48\"-84\"   \n",
       "6873111                      Xbox 1 Pro Evolution Soccer 2019   \n",
       "6664085                                                   NaN   \n",
       "2379819                   Fiesta 7.25\" Lemongrass Salad Plate   \n",
       "574217                                 The Bon Marche T Shirt   \n",
       "23937       Wedgwood Dinnerware, Nantucket Basket Covered ...   \n",
       "2379786                    Fiesta 7.25\" Sunflower Salad Plate   \n",
       "7479716                     Unicorn Moods Giant Message Board   \n",
       "2601392     Rod Desyne Magnolia Single Curtain Rod 28'' - ...   \n",
       "2050665          Waterford Lismore Diamond Lapis Dinner Plate   \n",
       "7368406     New Era Pittsburgh Steelers Salute To Service ...   \n",
       "2371145                        Fiesta Poppy 9\" Luncheon Plate   \n",
       "6943007     Nike Men's Iowa State Cyclones Legend Staff Si...   \n",
       "4631908                     Fiesta Daffodil 9\" Luncheon Plate   \n",
       "6431544     Department 56 Village Figure Who-Ville Christm...   \n",
       "2380027                        Fiesta 7.25\" Poppy Salad Plate   \n",
       "\n",
       "           today_retail_price  \\\n",
       "product_id                      \n",
       "7135725                  16.0   \n",
       "1725859                 16.99   \n",
       "6245587                  22.0   \n",
       "2379781                  15.0   \n",
       "6337118                  92.0   \n",
       "6873111                 59.99   \n",
       "6664085                   NaN   \n",
       "2379819                  15.0   \n",
       "574217                   26.0   \n",
       "23937                   93.75   \n",
       "2379786                  15.0   \n",
       "7479716                  70.0   \n",
       "2601392                  95.0   \n",
       "2050665                  41.0   \n",
       "7368406                  20.0   \n",
       "2371145                  18.0   \n",
       "6943007                  18.0   \n",
       "4631908                  18.0   \n",
       "6431544                  NULL   \n",
       "2380027                  15.0   \n",
       "\n",
       "                                     product_long_description  \\\n",
       "product_id                                                      \n",
       "7135725     Lavender Pre-Shave Oil softens the beard and p...   \n",
       "1725859     Hit the links with your favorite team when you...   \n",
       "6245587     The gift every body loves: Sensuous Ginger Sou...   \n",
       "2379781     Perhaps the name \"Fiesta\" was chosen in 1936 b...   \n",
       "6337118     The perfect choice for adding style to your wi...   \n",
       "6873111     Player individuality taken to the next level, ...   \n",
       "6664085                                                   NaN   \n",
       "2379819     Perhaps the name \"Fiesta\" was chosen in 1936 b...   \n",
       "574217      Affectionately called \"The Bon\" by loyal custo...   \n",
       "23937       Nantucket Basket is a fine, all-white Wedgwood...   \n",
       "2379786     Perhaps the name \"Fiesta\" was chosen in 1936 b...   \n",
       "7479716     Add a playful touch of magic to walls with thi...   \n",
       "2601392     Let your contemporary window décor blossom wit...   \n",
       "2050665     The gold and purple hues of Waterford's Lismor...   \n",
       "7368406     Show support for your favorite team and your c...   \n",
       "2371145     An American classic with definitive Deco flair...   \n",
       "6943007     The Nike NCAA Men's Legend Staff Sideline T-sh...   \n",
       "4631908     An irresistible cheery yellow combines in a De...   \n",
       "6431544     Put the finishing touches on the Who-Ville Chr...   \n",
       "2380027     Perhaps the name \"Fiesta\" was chosen in 1936 b...   \n",
       "\n",
       "            site_product_type  \n",
       "product_id                     \n",
       "7135725             SKIN_CARE  \n",
       "1725859           ACCESSORIES  \n",
       "6245587             BODY_CARE  \n",
       "2379781     CASUAL_DINNERWARE  \n",
       "6337118       WINDOW_HARDWARE  \n",
       "6873111           ELECTRONICS  \n",
       "6664085                   NaN  \n",
       "2379819     CASUAL_DINNERWARE  \n",
       "574217                T-SHIRT  \n",
       "23937               SERVEWARE  \n",
       "2379786     CASUAL_DINNERWARE  \n",
       "7479716                   ART  \n",
       "2601392       WINDOW_HARDWARE  \n",
       "2050665                 CHINA  \n",
       "7368406                   HAT  \n",
       "2371145     CASUAL_DINNERWARE  \n",
       "6943007                   TOP  \n",
       "4631908     CASUAL_DINNERWARE  \n",
       "6431544              VILLAGES  \n",
       "2380027     CASUAL_DINNERWARE  "
      ]
     },
     "execution_count": 213,
     "metadata": {},
     "output_type": "execute_result"
    }
   ],
   "source": [
    "attr.loc[top_conversion_n[:20],['prod_name','today_retail_price','product_long_description','site_product_type']]"
   ]
  },
  {
   "cell_type": "code",
   "execution_count": 217,
   "metadata": {},
   "outputs": [
    {
     "name": "stderr",
     "output_type": "stream",
     "text": [
      "/opt/conda/lib/python3.6/site-packages/pandas/core/indexing.py:1494: FutureWarning: \n",
      "Passing list-likes to .loc or [] with any missing label will raise\n",
      "KeyError in the future, you can use .reindex() as an alternative.\n",
      "\n",
      "See the documentation here:\n",
      "https://pandas.pydata.org/pandas-docs/stable/indexing.html#deprecate-loc-reindex-listlike\n",
      "  return self._getitem_tuple(key)\n"
     ]
    },
    {
     "data": {
      "text/plain": [
       "CASUAL_DINNERWARE    145\n",
       "SERVEWARE             99\n",
       "TOP                   84\n",
       "HAT                   70\n",
       "MAKEUP                47\n",
       "SKIN_CARE             44\n",
       "WINDOW_HARDWARE       39\n",
       "TOWEL                 37\n",
       "PILLOW                31\n",
       "BATH_ACCESSORY        29\n",
       "Name: site_product_type, dtype: int64"
      ]
     },
     "execution_count": 217,
     "metadata": {},
     "output_type": "execute_result"
    }
   ],
   "source": [
    "stp1k_top = attr.loc[top_conversion_n[:1000],['site_product_type']]\n",
    "stp1k_top['site_product_type'].value_counts()[:10]"
   ]
  },
  {
   "cell_type": "code",
   "execution_count": 218,
   "metadata": {},
   "outputs": [
    {
     "name": "stderr",
     "output_type": "stream",
     "text": [
      "/opt/conda/lib/python3.6/site-packages/pandas/core/indexing.py:1494: FutureWarning: \n",
      "Passing list-likes to .loc or [] with any missing label will raise\n",
      "KeyError in the future, you can use .reindex() as an alternative.\n",
      "\n",
      "See the documentation here:\n",
      "https://pandas.pydata.org/pandas-docs/stable/indexing.html#deprecate-loc-reindex-listlike\n",
      "  return self._getitem_tuple(key)\n"
     ]
    },
    {
     "data": {
      "text/plain": [
       "FURNITURE              157\n",
       "AREA_RUG                61\n",
       "LAMP                    56\n",
       "RING                    38\n",
       "TOP                     37\n",
       "WATCH                   33\n",
       "ART                     31\n",
       "SHOE                    27\n",
       "DRESS                   25\n",
       "CURTAINS_AND_DRAPES     19\n",
       "Name: site_product_type, dtype: int64"
      ]
     },
     "execution_count": 218,
     "metadata": {},
     "output_type": "execute_result"
    }
   ],
   "source": [
    "stp1k_bot = attr.loc[top_conversion_n[-1000:],['site_product_type']]\n",
    "stp1k_bot['site_product_type'].value_counts()[:10]"
   ]
  },
  {
   "cell_type": "code",
   "execution_count": 221,
   "metadata": {},
   "outputs": [
    {
     "data": {
      "text/html": [
       "\n",
       "      <style>\n",
       "      .recom {float: left;\n",
       "              margin: 3px;\n",
       "              text-align: center;}\n",
       "      \n",
       "      .recom_red {float: left;\n",
       "                  margin: 3px;\n",
       "                  text-align: center;\n",
       "                  border: 1px solid #FF0000;}\n",
       "      \n",
       "      .recom_green {float: left;\n",
       "                  margin: 3px;\n",
       "                  text-align: center;\n",
       "                  border: 1px solid #00FF00;}\n",
       "      .recom_blue {float: left;\n",
       "                  margin: 3px;\n",
       "                  text-align: center;\n",
       "                  border: 1px solid #0000FF;}\n",
       "      .description {font-size: 11px}\n",
       "      .price {font-size: 11px}\n",
       "      </style>\n",
       "      <div class=\"recom\"><img src=\"../../../../_product_images_cache/7/1/7135725.jpg\" width=\"75\">\n",
       "                   <br/ >\n",
       "                   <span class=\"description\">$16.0 (7135725)</span> <br />\n",
       "                   <span class=\"description\">The Art of...</span> <br /></div><div class=\"recom\"><img src=\"../../../../_product_images_cache/1/7/1725859.jpg\" width=\"75\">\n",
       "                   <br/ >\n",
       "                   <span class=\"description\">$7.99 (1725859)</span> <br />\n",
       "                   <span class=\"description\">TEAM GOLF ...</span> <br /></div><div class=\"recom\"><img src=\"../../../../_product_images_cache/6/2/6245587.jpg\" width=\"75\">\n",
       "                   <br/ >\n",
       "                   <span class=\"description\">$22.0 (6245587)</span> <br />\n",
       "                   <span class=\"description\">Origins Gi...</span> <br /></div><div class=\"recom\"><img src=\"../../../../_product_images_cache/2/3/2379781.jpg\" width=\"75\">\n",
       "                   <br/ >\n",
       "                   <span class=\"description\">$14.0 (2379781)</span> <br />\n",
       "                   <span class=\"description\">FIESTA 7.2...</span> <br /></div><div class=\"recom\"><img src=\"../../../../_product_images_cache/6/3/6337118.jpg\" width=\"75\">\n",
       "                   <br/ >\n",
       "                   <span class=\"description\">$92.0 (6337118)</span> <br />\n",
       "                   <span class=\"description\">Rod Desyne...</span> <br /></div><div class=\"recom\"><img src=\"../../../../_product_images_cache/6/8/6873111.jpg\" width=\"75\">\n",
       "                   <br/ >\n",
       "                   <span class=\"description\">$59.99 (6873111)</span> <br />\n",
       "                   <span class=\"description\">Xbox 1 Pro...</span> <br /></div><div class=\"recom\"><img src=\"../../../../_product_images_cache/6/6/6664085.jpg\" width=\"75\">\n",
       "                   <br/ >\n",
       "                   <span class=\"description\">$40.0 (6664085)</span> <br />\n",
       "                   <span class=\"description\">Elrene Ele...</span> <br /></div><div class=\"recom\"><img src=\"../../../../_product_images_cache/2/3/2379819.jpg\" width=\"75\">\n",
       "                   <br/ >\n",
       "                   <span class=\"description\">$14.0 (2379819)</span> <br />\n",
       "                   <span class=\"description\">FIESTA 7.2...</span> <br /></div><div class=\"recom\"><img src=\"../../../../_product_images_cache/5/7/574217.jpg\" width=\"75\">\n",
       "                   <br/ >\n",
       "                   <span class=\"description\">$24.0 (574217)</span> <br />\n",
       "                   <span class=\"description\">THE BON MA...</span> <br /></div><div class=\"recom\"><img src=\"../../../../_product_images_cache/2/3/23937.jpg\" width=\"75\">\n",
       "                   <br/ >\n",
       "                   <span class=\"description\">$93.75 (23937)</span> <br />\n",
       "                   <span class=\"description\">WEDGWOOD D...</span> <br /></div>"
      ]
     },
     "metadata": {},
     "output_type": "display_data"
    }
   ],
   "source": [
    "viz.display_recom_panel(top_conversion_n[:10])"
   ]
  },
  {
   "cell_type": "code",
   "execution_count": 160,
   "metadata": {},
   "outputs": [
    {
     "data": {
      "text/html": [
       "\n",
       "      <style>\n",
       "      .recom {float: left;\n",
       "              margin: 3px;\n",
       "              text-align: center;}\n",
       "      \n",
       "      .recom_red {float: left;\n",
       "                  margin: 3px;\n",
       "                  text-align: center;\n",
       "                  border: 1px solid #FF0000;}\n",
       "      \n",
       "      .recom_green {float: left;\n",
       "                  margin: 3px;\n",
       "                  text-align: center;\n",
       "                  border: 1px solid #00FF00;}\n",
       "      .recom_blue {float: left;\n",
       "                  margin: 3px;\n",
       "                  text-align: center;\n",
       "                  border: 1px solid #0000FF;}\n",
       "      .description {font-size: 11px}\n",
       "      .price {font-size: 11px}\n",
       "      </style>\n",
       "      <div class=\"recom\"><img src=\"../../../../_product_images_cache/7/9/7985623.jpg\" width=\"75\">\n",
       "                   <br/ >\n",
       "                   <span class=\"description\">$185.0 (7985623)</span> <br />\n",
       "                   <span class=\"description\">Jess 3-Pc ...</span> <br /></div><div class=\"recom\"><img src=\"../../../../_product_images_cache/6/8/6814416.jpg\" width=\"75\">\n",
       "                   <br/ >\n",
       "                   <span class=\"description\">$3492.0 (6814416)</span> <br />\n",
       "                   <span class=\"description\">National T...</span> <br /></div><div class=\"recom\"><img src=\"../../../../_product_images_cache/6/8/6839097.jpg\" width=\"75\">\n",
       "                   <br/ >\n",
       "                   <span class=\"description\">$1066.0 (6839097)</span> <br />\n",
       "                   <span class=\"description\">7.5' Camdo...</span> <br /></div><div class=\"recom\"><img src=\"../../../../_product_images_cache/6/8/6843196.jpg\" width=\"75\">\n",
       "                   <br/ >\n",
       "                   <span class=\"description\">$940.0 (6843196)</span> <br />\n",
       "                   <span class=\"description\">National T...</span> <br /></div><div class=\"recom\"><img src=\"../../../../_product_images_cache/6/8/6839268.jpg\" width=\"75\">\n",
       "                   <br/ >\n",
       "                   <span class=\"description\">$1660.0 (6839268)</span> <br />\n",
       "                   <span class=\"description\">7.5' Mediu...</span> <br /></div><div class=\"recom\"><img src=\"../../../../_product_images_cache/1/4/1488365.jpg\" width=\"75\">\n",
       "                   <br/ >\n",
       "                   <span class=\"description\">$4149.0 (1488365)</span> <br />\n",
       "                   <span class=\"description\">PAVE ROSE ...</span> <br /></div><div class=\"recom\"><img src=\"../../../../_product_images_cache/4/0/4088743.jpg\" width=\"75\">\n",
       "                   <br/ >\n",
       "                   <span class=\"description\">$125.0 (4088743)</span> <br />\n",
       "                   <span class=\"description\">Orrefors S...</span> <br /></div><div class=\"recom\"><img src=\"../../../../_product_images_cache/7/2/7253046.jpg\" width=\"75\">\n",
       "                   <br/ >\n",
       "                   <span class=\"description\">$1188.0 (7253046)</span> <br />\n",
       "                   <span class=\"description\">Vickerman ...</span> <br /></div><div class=\"recom\"><img src=\"../../../../_product_images_cache/7/2/7251822.jpg\" width=\"75\">\n",
       "                   <br/ >\n",
       "                   <span class=\"description\">$1002.0 (7251822)</span> <br />\n",
       "                   <span class=\"description\">Vickerman ...</span> <br /></div><div class=\"recom\"><img src=\"../../../../_product_images_cache/7/3/7342621.jpg\" width=\"75\">\n",
       "                   <br/ >\n",
       "                   <span class=\"description\">$2094.0 (7342621)</span> <br />\n",
       "                   <span class=\"description\">Rachael Ra...</span> <br /></div><div class=\"recom\"><img src=\"../../../../_product_images_cache/4/5/4579842.jpg\" width=\"75\">\n",
       "                   <br/ >\n",
       "                   <span class=\"description\">$2497.0 (4579842)</span> <br />\n",
       "                   <span class=\"description\">AIRELOOM H...</span> <br /></div><div class=\"recom\"><img src=\"../../../../_product_images_cache/6/0/6037430.jpg\" width=\"75\">\n",
       "                   <br/ >\n",
       "                   <span class=\"description\">$3919.0 (6037430)</span> <br />\n",
       "                   <span class=\"description\">MacyBed Lu...</span> <br /></div><div class=\"recom\"><img src=\"../../../../_product_images_cache/7/2/7253306.jpg\" width=\"75\">\n",
       "                   <br/ >\n",
       "                   <span class=\"description\">$418.0 (7253306)</span> <br />\n",
       "                   <span class=\"description\">Vickerman ...</span> <br /></div><div class=\"recom\"><img src=\"../../../../_product_images_cache/6/7/6711962.jpg\" width=\"75\">\n",
       "                   <br/ >\n",
       "                   <span class=\"description\">$4639.0 (6711962)</span> <br />\n",
       "                   <span class=\"description\">iComfort b...</span> <br /></div><div class=\"recom\"><img src=\"../../../../_product_images_cache/7/2/7253458.jpg\" width=\"75\">\n",
       "                   <br/ >\n",
       "                   <span class=\"description\">$734.0 (7253458)</span> <br />\n",
       "                   <span class=\"description\">Vickerman ...</span> <br /></div><div class=\"recom\"><img src=\"../../../../_product_images_cache/6/8/6839203.jpg\" width=\"75\">\n",
       "                   <br/ >\n",
       "                   <span class=\"description\">$186.0 (6839203)</span> <br />\n",
       "                   <span class=\"description\">9' Snow Ti...</span> <br /></div><div class=\"recom\"><img src=\"../../../../_product_images_cache/6/8/6839254.jpg\" width=\"75\">\n",
       "                   <br/ >\n",
       "                   <span class=\"description\">$355.0 (6839254)</span> <br />\n",
       "                   <span class=\"description\">4' Designe...</span> <br /></div><div class=\"recom\"><img src=\"../../../../_product_images_cache/7/2/7250574.jpg\" width=\"75\">\n",
       "                   <br/ >\n",
       "                   <span class=\"description\">$362.0 (7250574)</span> <br />\n",
       "                   <span class=\"description\">Vickerman ...</span> <br /></div><div class=\"recom\"><img src=\"../../../../_product_images_cache/6/8/6839057.jpg\" width=\"75\">\n",
       "                   <br/ >\n",
       "                   <span class=\"description\">$238.0 (6839057)</span> <br />\n",
       "                   <span class=\"description\">6' Alpine ...</span> <br /></div><div class=\"recom\"><img src=\"../../../../_product_images_cache/6/8/6843300.jpg\" width=\"75\">\n",
       "                   <br/ >\n",
       "                   <span class=\"description\">$420.0 (6843300)</span> <br />\n",
       "                   <span class=\"description\">National T...</span> <br /></div><div class=\"recom\"><img src=\"../../../../_product_images_cache/7/2/7250541.jpg\" width=\"75\">\n",
       "                   <br/ >\n",
       "                   <span class=\"description\">$734.0 (7250541)</span> <br />\n",
       "                   <span class=\"description\">Vickerman ...</span> <br /></div><div class=\"recom\"><img src=\"../../../../_product_images_cache/7/2/7251031.jpg\" width=\"75\">\n",
       "                   <br/ >\n",
       "                   <span class=\"description\">$584.0 (7251031)</span> <br />\n",
       "                   <span class=\"description\">Vickerman ...</span> <br /></div><div class=\"recom\"><img src=\"../../../../_product_images_cache/7/2/7250633.jpg\" width=\"75\">\n",
       "                   <br/ >\n",
       "                   <span class=\"description\">$1926.0 (7250633)</span> <br />\n",
       "                   <span class=\"description\">Vickerman ...</span> <br /></div><div class=\"recom\"><img src=\"../../../../_product_images_cache/6/7/6711901.jpg\" width=\"75\">\n",
       "                   <br/ >\n",
       "                   <span class=\"description\">$4059.0 (6711901)</span> <br />\n",
       "                   <span class=\"description\">iComfort b...</span> <br /></div><div class=\"recom\"><img src=\"../../../../_product_images_cache/4/3/4375390.jpg\" width=\"75\">\n",
       "                   <br/ >\n",
       "                   <span class=\"description\">$7497.0 (4375390)</span> <br />\n",
       "                   <span class=\"description\">NATURE'S S...</span> <br /></div><div class=\"recom\"><img src=\"../../../../_product_images_cache/6/0/6038124.jpg\" width=\"75\">\n",
       "                   <br/ >\n",
       "                   <span class=\"description\">$? (6038124)</span> <br />\n",
       "                   <span class=\"description\">?...</span> <br /></div><div class=\"recom\"><img src=\"../../../../_product_images_cache/6/0/6037317.jpg\" width=\"75\">\n",
       "                   <br/ >\n",
       "                   <span class=\"description\">$2919.0 (6037317)</span> <br />\n",
       "                   <span class=\"description\">MacyBed Lu...</span> <br /></div><div class=\"recom\"><img src=\"../../../../_product_images_cache/2/8/2803884.jpg\" width=\"75\">\n",
       "                   <br/ >\n",
       "                   <span class=\"description\">$nan (2803884)</span> <br />\n",
       "                   <span class=\"description\">HOTEL COLL...</span> <br /></div><div class=\"recom\"><img src=\"../../../../_product_images_cache/6/0/6038203.jpg\" width=\"75\">\n",
       "                   <br/ >\n",
       "                   <span class=\"description\">$? (6038203)</span> <br />\n",
       "                   <span class=\"description\">?...</span> <br /></div><div class=\"recom\"><img src=\"../../../../_product_images_cache/2/2/2286255.jpg\" width=\"75\">\n",
       "                   <br/ >\n",
       "                   <span class=\"description\">$12.99 (2286255)</span> <br />\n",
       "                   <span class=\"description\">DIAMOND EN...</span> <br /></div>"
      ]
     },
     "metadata": {},
     "output_type": "display_data"
    }
   ],
   "source": [
    "viz.display_recom_panel([str(x) for x in topconversion.index.values[-30:]])"
   ]
  },
  {
   "cell_type": "code",
   "execution_count": 17,
   "metadata": {},
   "outputs": [
    {
     "name": "stdout",
     "output_type": "stream",
     "text": [
      "CPU times: user 4 µs, sys: 2 µs, total: 6 µs\n",
      "Wall time: 21.2 µs\n"
     ]
    }
   ],
   "source": [
    "%time\n",
    "viewatbpur, viewatb, viewpur, viewonly, atbonly, puronly, other = count_info(comb_r_v)"
   ]
  },
  {
   "cell_type": "code",
   "execution_count": 21,
   "metadata": {},
   "outputs": [
    {
     "name": "stdout",
     "output_type": "stream",
     "text": [
      "viewatbpur: 6741760   viewatb: 17871135   viewpur:  0\n",
      "viewonly: 58119237   atbonly: 3441957   puronly: 0   other: 696774\n"
     ]
    }
   ],
   "source": [
    "print(\"viewatbpur:\", viewatbpur,\"  viewatb:\", viewatb, \"  viewpur: \", viewpur)\n",
    "print(\"viewonly:\", viewonly, \"  atbonly:\", atbonly, \"  puronly:\", puronly, \"  other:\", other)"
   ]
  },
  {
   "cell_type": "code",
   "execution_count": 15,
   "metadata": {},
   "outputs": [],
   "source": [
    "# testdf = pd.DataFrame(comb_r_v)\n",
    "# testdf.head()"
   ]
  },
  {
   "cell_type": "code",
   "execution_count": 27,
   "metadata": {},
   "outputs": [
    {
     "data": {
      "text/plain": [
       "array(['atb', 'purchase'], dtype='<U8')"
      ]
     },
     "execution_count": 27,
     "metadata": {},
     "output_type": "execute_result"
    }
   ],
   "source": [
    "np.intersect1d(['view', 'atb', 'purchase'],list({'atb', 'purchase'}))"
   ]
  },
  {
   "cell_type": "code",
   "execution_count": null,
   "metadata": {},
   "outputs": [],
   "source": [
    "inspect_others = [x for x in comb_r_v if len(np.intersect1d(list(x.keys()),['view', 'atb', 'purchase'])) < 1]"
   ]
  },
  {
   "cell_type": "code",
   "execution_count": null,
   "metadata": {},
   "outputs": [],
   "source": [
    "inspect_others[:10]"
   ]
  },
  {
   "cell_type": "code",
   "execution_count": null,
   "metadata": {},
   "outputs": [],
   "source": []
  }
 ],
 "metadata": {
  "kernelspec": {
   "display_name": "Python 3",
   "language": "python",
   "name": "python3"
  },
  "language_info": {
   "codemirror_mode": {
    "name": "ipython",
    "version": 3
   },
   "file_extension": ".py",
   "mimetype": "text/x-python",
   "name": "python",
   "nbconvert_exporter": "python",
   "pygments_lexer": "ipython3",
   "version": "3.6.8"
  }
 },
 "nbformat": 4,
 "nbformat_minor": 2
}
